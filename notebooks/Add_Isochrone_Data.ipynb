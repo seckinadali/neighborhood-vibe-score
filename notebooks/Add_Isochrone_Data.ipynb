{
 "cells": [
  {
   "cell_type": "markdown",
   "metadata": {},
   "source": [
    "# Function to complete exsting JSON files with isochrones data\n",
    "Isochrones are from from https://openrouteservice.org/dev/#/api-docs/v2/isochrones/{profile}/post  "
   ]
  },
  {
   "cell_type": "markdown",
   "metadata": {},
   "source": [
    "# **Warning: to run this notebook you need to have a OpenRouteService API key!**"
   ]
  },
  {
   "cell_type": "markdown",
   "metadata": {},
   "source": [
    "# Dependencies"
   ]
  },
  {
   "cell_type": "code",
   "execution_count": 46,
   "metadata": {},
   "outputs": [],
   "source": [
    "import json\n",
    "from openrouteservice import client as ors\n",
    "import yaml\n",
    "import os\n",
    "import pandas as pd\n",
    "import plotly.graph_objects as go"
   ]
  },
  {
   "cell_type": "markdown",
   "metadata": {},
   "source": [
    "# Load JSON files to be updated"
   ]
  },
  {
   "cell_type": "code",
   "execution_count": 49,
   "metadata": {},
   "outputs": [],
   "source": [
    "def load_data(path):\n",
    "    try: \n",
    "        with open(path, 'r') as file:\n",
    "            data = json.load(file)\n",
    "        return data\n",
    "    except Exception as e:\n",
    "        print(f\"An error as occured: {e}\")\n",
    " \n",
    "def get_file_names(directory):\n",
    "    return [\n",
    "        os.path.join(directory, file) for file in os.listdir(directory) if file.endswith('.json')\n",
    "    ]"
   ]
  },
  {
   "cell_type": "code",
   "execution_count": 50,
   "metadata": {},
   "outputs": [
    {
     "data": {
      "text/plain": [
       "['../data/google_data_isochrone_pop_cgpt\\\\Ex1_8004_Zurich_Werdgartengasse_4.json',\n",
       " '../data/google_data_isochrone_pop_cgpt\\\\Ex2_3027_Bern_Colombstrasse_39.json',\n",
       " '../data/google_data_isochrone_pop_cgpt\\\\Ex3_1006_Lausanne_Av_d_Ouchy_58.json',\n",
       " '../data/google_data_isochrone_pop_cgpt\\\\Ex4_8355_Aadorf_Bruggwiesenstrasse_5.json',\n",
       " '../data/google_data_isochrone_pop_cgpt\\\\Ex5_6319_Allenwinden_Winzruti_39.json',\n",
       " '../data/google_data_isochrone_pop_cgpt\\\\Ex6_8005_Zurich_Heinrichstrasse_200.json',\n",
       " '../data/google_data_isochrone_pop_cgpt\\\\Ex7_8003_Zurich_Birmensdorferstrasse_108.json']"
      ]
     },
     "execution_count": 50,
     "metadata": {},
     "output_type": "execute_result"
    }
   ],
   "source": [
    "directory = r\"../data/google_data_isochrone_pop_cgpt\"\n",
    "FILES = get_file_names(directory)\n",
    "FILES"
   ]
  },
  {
   "cell_type": "markdown",
   "metadata": {},
   "source": [
    "# Function to add isochrone data"
   ]
  },
  {
   "cell_type": "code",
   "execution_count": null,
   "metadata": {},
   "outputs": [],
   "source": [
    "def add_isochrone_data_to_existing_JSONfile(path):\n",
    "    \"\"\"Adds isochrones from openrouteservice.org to an existing json file.\n",
    "    Does not do anything if the file already contains the isochrone data.\n",
    "    Arg:\n",
    "    - path : path incl. extension \".json\"\n",
    "    \"\"\"\n",
    "    # loads the file\n",
    "    with open(path, 'r') as file:\n",
    "        data = json.load(file)\n",
    "    \n",
    "        if 'isochrone' in data.keys():\n",
    "            print(path +' : \\nThis JSON file already has isochrones.')\n",
    "        else:\n",
    "            # Credenttials for API request:\n",
    "            with open('credentials.json', 'r') as file:\n",
    "                api_creds = yaml.safe_load(file)\n",
    "            client = ors.Client(key=api_creds['ors_key'])\n",
    "            # Makes the API request. Warning : here, FIRST lon and THEN lat !\n",
    "            isochrone = client.isochrones(\n",
    "                    locations=[  [data['original_address']['coordinates'][1], data['original_address']['coordinates'][0]]  ], \n",
    "                    profile=\"foot-walking\", \n",
    "                    range=[n*60 for n in [3,5,7,10,13,15]],  # range has to be given in seconds\n",
    "                    smoothing=0, \n",
    "                    range_type='time')\n",
    "            # appends the isochrone data to the existing dictionary:\n",
    "            data['isochrone'] = isochrone\n",
    "            # overwrites the file:\n",
    "            with open(path, 'w') as file:\n",
    "                json.dump(data, file, indent=4)"
   ]
  },
  {
   "cell_type": "markdown",
   "metadata": {},
   "source": [
    "# Update all files"
   ]
  },
  {
   "cell_type": "code",
   "execution_count": 51,
   "metadata": {},
   "outputs": [
    {
     "name": "stdout",
     "output_type": "stream",
     "text": [
      "../data/google_data_isochrone_pop_cgpt\\Ex1_8004_Zurich_Werdgartengasse_4.json : \n",
      "This JSON file already has isochrones.\n",
      "../data/google_data_isochrone_pop_cgpt\\Ex2_3027_Bern_Colombstrasse_39.json : \n",
      "This JSON file already has isochrones.\n",
      "../data/google_data_isochrone_pop_cgpt\\Ex3_1006_Lausanne_Av_d_Ouchy_58.json : \n",
      "This JSON file already has isochrones.\n",
      "../data/google_data_isochrone_pop_cgpt\\Ex4_8355_Aadorf_Bruggwiesenstrasse_5.json : \n",
      "This JSON file already has isochrones.\n",
      "../data/google_data_isochrone_pop_cgpt\\Ex5_6319_Allenwinden_Winzruti_39.json : \n",
      "This JSON file already has isochrones.\n",
      "../data/google_data_isochrone_pop_cgpt\\Ex6_8005_Zurich_Heinrichstrasse_200.json : \n",
      "This JSON file already has isochrones.\n",
      "../data/google_data_isochrone_pop_cgpt\\Ex7_8003_Zurich_Birmensdorferstrasse_108.json : \n",
      "This JSON file already has isochrones.\n"
     ]
    }
   ],
   "source": [
    "for file in FILES:\n",
    "    add_isochrone_data_to_existing_JSONfile(file)"
   ]
  },
  {
   "cell_type": "markdown",
   "metadata": {},
   "source": [
    "# Adapt existing plotting code to take into account the new structure of the files"
   ]
  },
  {
   "cell_type": "code",
   "execution_count": 58,
   "metadata": {},
   "outputs": [
    {
     "data": {
      "text/plain": [
       "dict_keys(['type', 'properties', 'geometry'])"
      ]
     },
     "execution_count": 58,
     "metadata": {},
     "output_type": "execute_result"
    }
   ],
   "source": [
    "example = load_data(FILES[0])\n",
    "isochrone = example['isochrone']\n",
    "\n",
    "len(isochrone['features'])\n",
    "isochrone['features'][2].keys()"
   ]
  },
  {
   "cell_type": "code",
   "execution_count": 59,
   "metadata": {},
   "outputs": [
    {
     "name": "stdout",
     "output_type": "stream",
     "text": [
      "[[8.524168, 47.370571], [8.524235, 47.370183], [8.524484, 47.369923], [8.525599, 47.369475], [8.525857, 47.369446], [8.528416, 47.369476], [8.528616, 47.369775], [8.528689, 47.371224], [8.528622, 47.371502], [8.528074, 47.372038], [8.52724, 47.372559], [8.526745, 47.372665], [8.525476, 47.37269], [8.525261, 47.3727], [8.525194, 47.372675], [8.524173, 47.37082], [8.524168, 47.370571]]\n"
     ]
    },
    {
     "data": {
      "text/html": [
       "<div>\n",
       "<style scoped>\n",
       "    .dataframe tbody tr th:only-of-type {\n",
       "        vertical-align: middle;\n",
       "    }\n",
       "\n",
       "    .dataframe tbody tr th {\n",
       "        vertical-align: top;\n",
       "    }\n",
       "\n",
       "    .dataframe thead th {\n",
       "        text-align: right;\n",
       "    }\n",
       "</style>\n",
       "<table border=\"1\" class=\"dataframe\">\n",
       "  <thead>\n",
       "    <tr style=\"text-align: right;\">\n",
       "      <th></th>\n",
       "      <th>lon</th>\n",
       "      <th>lat</th>\n",
       "    </tr>\n",
       "  </thead>\n",
       "  <tbody>\n",
       "    <tr>\n",
       "      <th>0</th>\n",
       "      <td>8.524168</td>\n",
       "      <td>47.370571</td>\n",
       "    </tr>\n",
       "    <tr>\n",
       "      <th>1</th>\n",
       "      <td>8.524235</td>\n",
       "      <td>47.370183</td>\n",
       "    </tr>\n",
       "    <tr>\n",
       "      <th>2</th>\n",
       "      <td>8.524484</td>\n",
       "      <td>47.369923</td>\n",
       "    </tr>\n",
       "    <tr>\n",
       "      <th>3</th>\n",
       "      <td>8.525599</td>\n",
       "      <td>47.369475</td>\n",
       "    </tr>\n",
       "    <tr>\n",
       "      <th>4</th>\n",
       "      <td>8.525857</td>\n",
       "      <td>47.369446</td>\n",
       "    </tr>\n",
       "    <tr>\n",
       "      <th>5</th>\n",
       "      <td>8.528416</td>\n",
       "      <td>47.369476</td>\n",
       "    </tr>\n",
       "    <tr>\n",
       "      <th>6</th>\n",
       "      <td>8.528616</td>\n",
       "      <td>47.369775</td>\n",
       "    </tr>\n",
       "    <tr>\n",
       "      <th>7</th>\n",
       "      <td>8.528689</td>\n",
       "      <td>47.371224</td>\n",
       "    </tr>\n",
       "    <tr>\n",
       "      <th>8</th>\n",
       "      <td>8.528622</td>\n",
       "      <td>47.371502</td>\n",
       "    </tr>\n",
       "    <tr>\n",
       "      <th>9</th>\n",
       "      <td>8.528074</td>\n",
       "      <td>47.372038</td>\n",
       "    </tr>\n",
       "    <tr>\n",
       "      <th>10</th>\n",
       "      <td>8.527240</td>\n",
       "      <td>47.372559</td>\n",
       "    </tr>\n",
       "    <tr>\n",
       "      <th>11</th>\n",
       "      <td>8.526745</td>\n",
       "      <td>47.372665</td>\n",
       "    </tr>\n",
       "    <tr>\n",
       "      <th>12</th>\n",
       "      <td>8.525476</td>\n",
       "      <td>47.372690</td>\n",
       "    </tr>\n",
       "    <tr>\n",
       "      <th>13</th>\n",
       "      <td>8.525261</td>\n",
       "      <td>47.372700</td>\n",
       "    </tr>\n",
       "    <tr>\n",
       "      <th>14</th>\n",
       "      <td>8.525194</td>\n",
       "      <td>47.372675</td>\n",
       "    </tr>\n",
       "    <tr>\n",
       "      <th>15</th>\n",
       "      <td>8.524173</td>\n",
       "      <td>47.370820</td>\n",
       "    </tr>\n",
       "    <tr>\n",
       "      <th>16</th>\n",
       "      <td>8.524168</td>\n",
       "      <td>47.370571</td>\n",
       "    </tr>\n",
       "  </tbody>\n",
       "</table>\n",
       "</div>"
      ],
      "text/plain": [
       "         lon        lat\n",
       "0   8.524168  47.370571\n",
       "1   8.524235  47.370183\n",
       "2   8.524484  47.369923\n",
       "3   8.525599  47.369475\n",
       "4   8.525857  47.369446\n",
       "5   8.528416  47.369476\n",
       "6   8.528616  47.369775\n",
       "7   8.528689  47.371224\n",
       "8   8.528622  47.371502\n",
       "9   8.528074  47.372038\n",
       "10  8.527240  47.372559\n",
       "11  8.526745  47.372665\n",
       "12  8.525476  47.372690\n",
       "13  8.525261  47.372700\n",
       "14  8.525194  47.372675\n",
       "15  8.524173  47.370820\n",
       "16  8.524168  47.370571"
      ]
     },
     "execution_count": 59,
     "metadata": {},
     "output_type": "execute_result"
    }
   ],
   "source": [
    "# extract the coordinates out of the isochrone object\n",
    "coords = isochrone['features'][0]['geometry']['coordinates'][0]\n",
    "isochrone_df = pd.DataFrame( [{'lon': coord[0], 'lat': coord[1]} for coord in coords] )\n",
    "print(coords)\n",
    "isochrone_df"
   ]
  },
  {
   "cell_type": "markdown",
   "metadata": {},
   "source": [
    "### create_base_map()"
   ]
  },
  {
   "cell_type": "code",
   "execution_count": 60,
   "metadata": {},
   "outputs": [],
   "source": [
    "def create_base_map(FILE, width=800, height=600, zoom=13):\n",
    "\n",
    "    # coords of original address:\n",
    "    LAT = FILE['original_address']['coordinates'][0]\n",
    "    LON = FILE['original_address']['coordinates'][1]\n",
    "\n",
    "    # create base map with original adress.\n",
    "    base_map = go.Figure(go.Scattermapbox())\n",
    "    \n",
    "    # Set up the layout for the base map\n",
    "    base_map.update_layout(\n",
    "        mapbox_style=\"open-street-map\",\n",
    "        mapbox_zoom=zoom, \n",
    "        mapbox_center={\"lat\": LAT, \"lon\": LON},\n",
    "        width=width,\n",
    "        height=height,\n",
    "        margin=dict(r=0, t=0, l=0, b=0), \n",
    "        showlegend=False\n",
    "    )\n",
    "    return base_map"
   ]
  },
  {
   "cell_type": "markdown",
   "metadata": {},
   "source": [
    "### add_isochrone()"
   ]
  },
  {
   "cell_type": "code",
   "execution_count": 61,
   "metadata": {},
   "outputs": [],
   "source": [
    "def get_isochrone_data(data):\n",
    "    isochrone_data = []\n",
    "    for isochrone in range(len(data['isochrone']['features'])):\n",
    "        for coord in range(len(data['isochrone']['features'][isochrone]['geometry']['coordinates'][0])): #(\"[0]\" at the end is necessary since there are two [] in excess!)\n",
    "            isochrone_data.append({\n",
    "                'travel_time': data['isochrone']['features'][isochrone]['properties']['value'],\n",
    "                'lat': data['isochrone']['features'][isochrone]['geometry']['coordinates'][0][coord][1],\n",
    "                'lon': data['isochrone']['features'][isochrone]['geometry']['coordinates'][0][coord][0],\n",
    "            })\n",
    "    df = pd.DataFrame(isochrone_data)\n",
    "    return df\n",
    "    \n",
    "def add_isochrone(base_map, FILE):\n",
    "    # format data\n",
    "    df = get_isochrone_data(FILE)\n",
    "\n",
    "    for travel_time in df['travel_time'].unique():\n",
    "        df_filtered = df[df['travel_time']==travel_time]\n",
    "        # create the layer:\n",
    "        new_layer = go.Scattermapbox(\n",
    "            lat=df_filtered['lat'],  \n",
    "            lon=df_filtered['lon'],  \n",
    "            mode='lines', # no markers\n",
    "            line=dict(width=0),  # deletes line so as to display filling only\n",
    "            fill='toself', \n",
    "            fillcolor='rgba(10,80,50,0.25)',  \n",
    "            showlegend = False,\n",
    "            marker=dict(size=1, color='blue'),\n",
    "            text= str(travel_time/60) + 'min. walking',\n",
    "            hoverinfo='text'\n",
    "            )\n",
    "        base_map.add_trace(new_layer)\n",
    "        \n",
    "    base_map.update_layout( margin=dict(r=0, t=0, l=0, b=0), showlegend=False)\n",
    "\n",
    "    return base_map"
   ]
  },
  {
   "cell_type": "markdown",
   "metadata": {},
   "source": [
    "### Try functions out"
   ]
  },
  {
   "cell_type": "code",
   "execution_count": 62,
   "metadata": {},
   "outputs": [
    {
     "data": {
      "application/vnd.plotly.v1+json": {
       "config": {
        "plotlyServerURL": "https://plot.ly"
       },
       "data": [
        {
         "type": "scattermapbox"
        },
        {
         "fill": "toself",
         "fillcolor": "rgba(10,80,50,0.25)",
         "hoverinfo": "text",
         "lat": [
          47.370571,
          47.370183,
          47.369923,
          47.369475,
          47.369446,
          47.369476,
          47.369775,
          47.371224,
          47.371502,
          47.372038,
          47.372559,
          47.372665,
          47.37269,
          47.3727,
          47.372675,
          47.37082,
          47.370571
         ],
         "line": {
          "width": 0
         },
         "lon": [
          8.524168,
          8.524235,
          8.524484,
          8.525599,
          8.525857,
          8.528416,
          8.528616,
          8.528689,
          8.528622,
          8.528074,
          8.52724,
          8.526745,
          8.525476,
          8.525261,
          8.525194,
          8.524173,
          8.524168
         ],
         "marker": {
          "color": "blue",
          "size": 1
         },
         "mode": "lines",
         "showlegend": false,
         "text": "3.0min. walking",
         "type": "scattermapbox"
        },
        {
         "fill": "toself",
         "fillcolor": "rgba(10,80,50,0.25)",
         "hoverinfo": "text",
         "lat": [
          47.3707,
          47.368961,
          47.368872,
          47.36881,
          47.368154,
          47.36856,
          47.36863,
          47.368694,
          47.371129,
          47.371133,
          47.371284,
          47.371383,
          47.372576,
          47.373461,
          47.373588,
          47.373768,
          47.373778,
          47.373826,
          47.373774,
          47.373312,
          47.372535,
          47.372052,
          47.371758,
          47.371415,
          47.3707
         ],
         "line": {
          "width": 0
         },
         "lon": [
          8.522261,
          8.522748,
          8.522851,
          8.52293,
          8.524572,
          8.528744,
          8.52912,
          8.529195,
          8.530722,
          8.530724,
          8.530687,
          8.53062,
          8.529691,
          8.528601,
          8.527759,
          8.526119,
          8.525997,
          8.524514,
          8.524197,
          8.523787,
          8.523148,
          8.522757,
          8.52255,
          8.522384,
          8.522261
         ],
         "marker": {
          "color": "blue",
          "size": 1
         },
         "mode": "lines",
         "showlegend": false,
         "text": "5.0min. walking",
         "type": "scattermapbox"
        },
        {
         "fill": "toself",
         "fillcolor": "rgba(10,80,50,0.25)",
         "hoverinfo": "text",
         "lat": [
          47.370169,
          47.369835,
          47.36799,
          47.367377,
          47.367151,
          47.367116,
          47.367143,
          47.367505,
          47.367306,
          47.367599,
          47.37017,
          47.370483,
          47.370806,
          47.37312,
          47.373351,
          47.374728,
          47.375036,
          47.375167,
          47.375085,
          47.374446,
          47.373153,
          47.372857,
          47.370169
         ],
         "line": {
          "width": 0
         },
         "lon": [
          8.520318,
          8.520334,
          8.521935,
          8.52295,
          8.523322,
          8.523562,
          8.523801,
          8.525967,
          8.530519,
          8.530729,
          8.532518,
          8.532696,
          8.532599,
          8.531529,
          8.531253,
          8.529056,
          8.527531,
          8.524656,
          8.523748,
          8.522509,
          8.520874,
          8.520669,
          8.520318
         ],
         "marker": {
          "color": "blue",
          "size": 1
         },
         "mode": "lines",
         "showlegend": false,
         "text": "7.0min. walking",
         "type": "scattermapbox"
        },
        {
         "fill": "toself",
         "fillcolor": "rgba(10,80,50,0.25)",
         "hoverinfo": "text",
         "lat": [
          47.370691,
          47.370406,
          47.369865,
          47.368428,
          47.366538,
          47.365262,
          47.365221,
          47.365072,
          47.365164,
          47.365699,
          47.365862,
          47.365832,
          47.365828,
          47.365775,
          47.365781,
          47.3691,
          47.369331,
          47.369762,
          47.370277,
          47.370323,
          47.370526,
          47.370758,
          47.37275,
          47.372983,
          47.374954,
          47.375215,
          47.376521,
          47.377162,
          47.377164,
          47.37716,
          47.377006,
          47.376707,
          47.376493,
          47.376459,
          47.37604,
          47.375197,
          47.375065,
          47.37444,
          47.374101,
          47.370691
         ],
         "line": {
          "width": 0
         },
         "lon": [
          8.517415,
          8.51748,
          8.517608,
          8.518196,
          8.519724,
          8.521441,
          8.521707,
          8.523178,
          8.524086,
          8.525242,
          8.530624,
          8.531023,
          8.531127,
          8.532459,
          8.532464,
          8.534977,
          8.535091,
          8.535256,
          8.535404,
          8.535413,
          8.535428,
          8.535418,
          8.534494,
          8.534375,
          8.533248,
          8.533,
          8.529953,
          8.525995,
          8.525918,
          8.525869,
          8.52477,
          8.523322,
          8.522423,
          8.522297,
          8.5209,
          8.519585,
          8.519399,
          8.518766,
          8.518577,
          8.517415
         ],
         "marker": {
          "color": "blue",
          "size": 1
         },
         "mode": "lines",
         "showlegend": false,
         "text": "10.0min. walking",
         "type": "scattermapbox"
        },
        {
         "fill": "toself",
         "fillcolor": "rgba(10,80,50,0.25)",
         "hoverinfo": "text",
         "lat": [
          47.367599,
          47.367392,
          47.363309,
          47.363285,
          47.362938,
          47.363523,
          47.363788,
          47.363692,
          47.363685,
          47.36385,
          47.364168,
          47.368358,
          47.369231,
          47.370072,
          47.370987,
          47.372491,
          47.373281,
          47.373473,
          47.37656,
          47.37682,
          47.376897,
          47.378162,
          47.379229,
          47.379228,
          47.379189,
          47.379076,
          47.378743,
          47.37853,
          47.377575,
          47.376841,
          47.375955,
          47.375816,
          47.375633,
          47.370286,
          47.367599
         ],
         "line": {
          "width": 0
         },
         "lon": [
          8.515397,
          8.515604,
          8.519841,
          8.51991,
          8.522096,
          8.525221,
          8.531126,
          8.531597,
          8.53333,
          8.53365,
          8.533924,
          8.537714,
          8.537912,
          8.53802,
          8.53801,
          8.53769,
          8.53739,
          8.537302,
          8.535319,
          8.535072,
          8.534959,
          8.531715,
          8.527505,
          8.527252,
          8.52691,
          8.52626,
          8.524252,
          8.523133,
          8.519431,
          8.517952,
          8.51644,
          8.516264,
          8.516112,
          8.514138,
          8.515397
         ],
         "marker": {
          "color": "blue",
          "size": 1
         },
         "mode": "lines",
         "showlegend": false,
         "text": "13.0min. walking",
         "type": "scattermapbox"
        },
        {
         "fill": "toself",
         "fillcolor": "rgba(10,80,50,0.25)",
         "hoverinfo": "text",
         "lat": [
          47.375963,
          47.370354,
          47.370278,
          47.36992,
          47.369849,
          47.366354,
          47.366335,
          47.362488,
          47.362071,
          47.362064,
          47.361473,
          47.361544,
          47.361707,
          47.362218,
          47.362256,
          47.362115,
          47.362207,
          47.362423,
          47.363181,
          47.367493,
          47.367581,
          47.36786,
          47.369533,
          47.371019,
          47.371368,
          47.372204,
          47.373982,
          47.374146,
          47.376993,
          47.37783,
          47.378107,
          47.37923,
          47.380534,
          47.380541,
          47.380581,
          47.380554,
          47.380492,
          47.379591,
          47.378516,
          47.376794,
          47.376577,
          47.37625,
          47.375963
         ],
         "line": {
          "width": 0
         },
         "lon": [
          8.514179,
          8.512146,
          8.512116,
          8.512157,
          8.512188,
          8.513945,
          8.513973,
          8.518131,
          8.518393,
          8.51841,
          8.522526,
          8.522879,
          8.523474,
          8.525828,
          8.531202,
          8.533652,
          8.534,
          8.534321,
          8.535204,
          8.539166,
          8.539232,
          8.539326,
          8.539788,
          8.540127,
          8.540073,
          8.539814,
          8.539025,
          8.538938,
          8.537083,
          8.536538,
          8.536308,
          8.533264,
          8.528403,
          8.528371,
          8.527951,
          8.527528,
          8.526587,
          8.521936,
          8.517633,
          8.514755,
          8.514385,
          8.514234,
          8.514179
         ],
         "marker": {
          "color": "blue",
          "size": 1
         },
         "mode": "lines",
         "showlegend": false,
         "text": "15.0min. walking",
         "type": "scattermapbox"
        }
       ],
       "layout": {
        "height": 600,
        "mapbox": {
         "center": {
          "lat": 47.3711263,
          "lon": 8.5265537
         },
         "style": "open-street-map",
         "zoom": 13
        },
        "margin": {
         "b": 0,
         "l": 0,
         "r": 0,
         "t": 0
        },
        "showlegend": false,
        "template": {
         "data": {
          "bar": [
           {
            "error_x": {
             "color": "#2a3f5f"
            },
            "error_y": {
             "color": "#2a3f5f"
            },
            "marker": {
             "line": {
              "color": "#E5ECF6",
              "width": 0.5
             },
             "pattern": {
              "fillmode": "overlay",
              "size": 10,
              "solidity": 0.2
             }
            },
            "type": "bar"
           }
          ],
          "barpolar": [
           {
            "marker": {
             "line": {
              "color": "#E5ECF6",
              "width": 0.5
             },
             "pattern": {
              "fillmode": "overlay",
              "size": 10,
              "solidity": 0.2
             }
            },
            "type": "barpolar"
           }
          ],
          "carpet": [
           {
            "aaxis": {
             "endlinecolor": "#2a3f5f",
             "gridcolor": "white",
             "linecolor": "white",
             "minorgridcolor": "white",
             "startlinecolor": "#2a3f5f"
            },
            "baxis": {
             "endlinecolor": "#2a3f5f",
             "gridcolor": "white",
             "linecolor": "white",
             "minorgridcolor": "white",
             "startlinecolor": "#2a3f5f"
            },
            "type": "carpet"
           }
          ],
          "choropleth": [
           {
            "colorbar": {
             "outlinewidth": 0,
             "ticks": ""
            },
            "type": "choropleth"
           }
          ],
          "contour": [
           {
            "colorbar": {
             "outlinewidth": 0,
             "ticks": ""
            },
            "colorscale": [
             [
              0,
              "#0d0887"
             ],
             [
              0.1111111111111111,
              "#46039f"
             ],
             [
              0.2222222222222222,
              "#7201a8"
             ],
             [
              0.3333333333333333,
              "#9c179e"
             ],
             [
              0.4444444444444444,
              "#bd3786"
             ],
             [
              0.5555555555555556,
              "#d8576b"
             ],
             [
              0.6666666666666666,
              "#ed7953"
             ],
             [
              0.7777777777777778,
              "#fb9f3a"
             ],
             [
              0.8888888888888888,
              "#fdca26"
             ],
             [
              1,
              "#f0f921"
             ]
            ],
            "type": "contour"
           }
          ],
          "contourcarpet": [
           {
            "colorbar": {
             "outlinewidth": 0,
             "ticks": ""
            },
            "type": "contourcarpet"
           }
          ],
          "heatmap": [
           {
            "colorbar": {
             "outlinewidth": 0,
             "ticks": ""
            },
            "colorscale": [
             [
              0,
              "#0d0887"
             ],
             [
              0.1111111111111111,
              "#46039f"
             ],
             [
              0.2222222222222222,
              "#7201a8"
             ],
             [
              0.3333333333333333,
              "#9c179e"
             ],
             [
              0.4444444444444444,
              "#bd3786"
             ],
             [
              0.5555555555555556,
              "#d8576b"
             ],
             [
              0.6666666666666666,
              "#ed7953"
             ],
             [
              0.7777777777777778,
              "#fb9f3a"
             ],
             [
              0.8888888888888888,
              "#fdca26"
             ],
             [
              1,
              "#f0f921"
             ]
            ],
            "type": "heatmap"
           }
          ],
          "heatmapgl": [
           {
            "colorbar": {
             "outlinewidth": 0,
             "ticks": ""
            },
            "colorscale": [
             [
              0,
              "#0d0887"
             ],
             [
              0.1111111111111111,
              "#46039f"
             ],
             [
              0.2222222222222222,
              "#7201a8"
             ],
             [
              0.3333333333333333,
              "#9c179e"
             ],
             [
              0.4444444444444444,
              "#bd3786"
             ],
             [
              0.5555555555555556,
              "#d8576b"
             ],
             [
              0.6666666666666666,
              "#ed7953"
             ],
             [
              0.7777777777777778,
              "#fb9f3a"
             ],
             [
              0.8888888888888888,
              "#fdca26"
             ],
             [
              1,
              "#f0f921"
             ]
            ],
            "type": "heatmapgl"
           }
          ],
          "histogram": [
           {
            "marker": {
             "pattern": {
              "fillmode": "overlay",
              "size": 10,
              "solidity": 0.2
             }
            },
            "type": "histogram"
           }
          ],
          "histogram2d": [
           {
            "colorbar": {
             "outlinewidth": 0,
             "ticks": ""
            },
            "colorscale": [
             [
              0,
              "#0d0887"
             ],
             [
              0.1111111111111111,
              "#46039f"
             ],
             [
              0.2222222222222222,
              "#7201a8"
             ],
             [
              0.3333333333333333,
              "#9c179e"
             ],
             [
              0.4444444444444444,
              "#bd3786"
             ],
             [
              0.5555555555555556,
              "#d8576b"
             ],
             [
              0.6666666666666666,
              "#ed7953"
             ],
             [
              0.7777777777777778,
              "#fb9f3a"
             ],
             [
              0.8888888888888888,
              "#fdca26"
             ],
             [
              1,
              "#f0f921"
             ]
            ],
            "type": "histogram2d"
           }
          ],
          "histogram2dcontour": [
           {
            "colorbar": {
             "outlinewidth": 0,
             "ticks": ""
            },
            "colorscale": [
             [
              0,
              "#0d0887"
             ],
             [
              0.1111111111111111,
              "#46039f"
             ],
             [
              0.2222222222222222,
              "#7201a8"
             ],
             [
              0.3333333333333333,
              "#9c179e"
             ],
             [
              0.4444444444444444,
              "#bd3786"
             ],
             [
              0.5555555555555556,
              "#d8576b"
             ],
             [
              0.6666666666666666,
              "#ed7953"
             ],
             [
              0.7777777777777778,
              "#fb9f3a"
             ],
             [
              0.8888888888888888,
              "#fdca26"
             ],
             [
              1,
              "#f0f921"
             ]
            ],
            "type": "histogram2dcontour"
           }
          ],
          "mesh3d": [
           {
            "colorbar": {
             "outlinewidth": 0,
             "ticks": ""
            },
            "type": "mesh3d"
           }
          ],
          "parcoords": [
           {
            "line": {
             "colorbar": {
              "outlinewidth": 0,
              "ticks": ""
             }
            },
            "type": "parcoords"
           }
          ],
          "pie": [
           {
            "automargin": true,
            "type": "pie"
           }
          ],
          "scatter": [
           {
            "fillpattern": {
             "fillmode": "overlay",
             "size": 10,
             "solidity": 0.2
            },
            "type": "scatter"
           }
          ],
          "scatter3d": [
           {
            "line": {
             "colorbar": {
              "outlinewidth": 0,
              "ticks": ""
             }
            },
            "marker": {
             "colorbar": {
              "outlinewidth": 0,
              "ticks": ""
             }
            },
            "type": "scatter3d"
           }
          ],
          "scattercarpet": [
           {
            "marker": {
             "colorbar": {
              "outlinewidth": 0,
              "ticks": ""
             }
            },
            "type": "scattercarpet"
           }
          ],
          "scattergeo": [
           {
            "marker": {
             "colorbar": {
              "outlinewidth": 0,
              "ticks": ""
             }
            },
            "type": "scattergeo"
           }
          ],
          "scattergl": [
           {
            "marker": {
             "colorbar": {
              "outlinewidth": 0,
              "ticks": ""
             }
            },
            "type": "scattergl"
           }
          ],
          "scattermapbox": [
           {
            "marker": {
             "colorbar": {
              "outlinewidth": 0,
              "ticks": ""
             }
            },
            "type": "scattermapbox"
           }
          ],
          "scatterpolar": [
           {
            "marker": {
             "colorbar": {
              "outlinewidth": 0,
              "ticks": ""
             }
            },
            "type": "scatterpolar"
           }
          ],
          "scatterpolargl": [
           {
            "marker": {
             "colorbar": {
              "outlinewidth": 0,
              "ticks": ""
             }
            },
            "type": "scatterpolargl"
           }
          ],
          "scatterternary": [
           {
            "marker": {
             "colorbar": {
              "outlinewidth": 0,
              "ticks": ""
             }
            },
            "type": "scatterternary"
           }
          ],
          "surface": [
           {
            "colorbar": {
             "outlinewidth": 0,
             "ticks": ""
            },
            "colorscale": [
             [
              0,
              "#0d0887"
             ],
             [
              0.1111111111111111,
              "#46039f"
             ],
             [
              0.2222222222222222,
              "#7201a8"
             ],
             [
              0.3333333333333333,
              "#9c179e"
             ],
             [
              0.4444444444444444,
              "#bd3786"
             ],
             [
              0.5555555555555556,
              "#d8576b"
             ],
             [
              0.6666666666666666,
              "#ed7953"
             ],
             [
              0.7777777777777778,
              "#fb9f3a"
             ],
             [
              0.8888888888888888,
              "#fdca26"
             ],
             [
              1,
              "#f0f921"
             ]
            ],
            "type": "surface"
           }
          ],
          "table": [
           {
            "cells": {
             "fill": {
              "color": "#EBF0F8"
             },
             "line": {
              "color": "white"
             }
            },
            "header": {
             "fill": {
              "color": "#C8D4E3"
             },
             "line": {
              "color": "white"
             }
            },
            "type": "table"
           }
          ]
         },
         "layout": {
          "annotationdefaults": {
           "arrowcolor": "#2a3f5f",
           "arrowhead": 0,
           "arrowwidth": 1
          },
          "autotypenumbers": "strict",
          "coloraxis": {
           "colorbar": {
            "outlinewidth": 0,
            "ticks": ""
           }
          },
          "colorscale": {
           "diverging": [
            [
             0,
             "#8e0152"
            ],
            [
             0.1,
             "#c51b7d"
            ],
            [
             0.2,
             "#de77ae"
            ],
            [
             0.3,
             "#f1b6da"
            ],
            [
             0.4,
             "#fde0ef"
            ],
            [
             0.5,
             "#f7f7f7"
            ],
            [
             0.6,
             "#e6f5d0"
            ],
            [
             0.7,
             "#b8e186"
            ],
            [
             0.8,
             "#7fbc41"
            ],
            [
             0.9,
             "#4d9221"
            ],
            [
             1,
             "#276419"
            ]
           ],
           "sequential": [
            [
             0,
             "#0d0887"
            ],
            [
             0.1111111111111111,
             "#46039f"
            ],
            [
             0.2222222222222222,
             "#7201a8"
            ],
            [
             0.3333333333333333,
             "#9c179e"
            ],
            [
             0.4444444444444444,
             "#bd3786"
            ],
            [
             0.5555555555555556,
             "#d8576b"
            ],
            [
             0.6666666666666666,
             "#ed7953"
            ],
            [
             0.7777777777777778,
             "#fb9f3a"
            ],
            [
             0.8888888888888888,
             "#fdca26"
            ],
            [
             1,
             "#f0f921"
            ]
           ],
           "sequentialminus": [
            [
             0,
             "#0d0887"
            ],
            [
             0.1111111111111111,
             "#46039f"
            ],
            [
             0.2222222222222222,
             "#7201a8"
            ],
            [
             0.3333333333333333,
             "#9c179e"
            ],
            [
             0.4444444444444444,
             "#bd3786"
            ],
            [
             0.5555555555555556,
             "#d8576b"
            ],
            [
             0.6666666666666666,
             "#ed7953"
            ],
            [
             0.7777777777777778,
             "#fb9f3a"
            ],
            [
             0.8888888888888888,
             "#fdca26"
            ],
            [
             1,
             "#f0f921"
            ]
           ]
          },
          "colorway": [
           "#636efa",
           "#EF553B",
           "#00cc96",
           "#ab63fa",
           "#FFA15A",
           "#19d3f3",
           "#FF6692",
           "#B6E880",
           "#FF97FF",
           "#FECB52"
          ],
          "font": {
           "color": "#2a3f5f"
          },
          "geo": {
           "bgcolor": "white",
           "lakecolor": "white",
           "landcolor": "#E5ECF6",
           "showlakes": true,
           "showland": true,
           "subunitcolor": "white"
          },
          "hoverlabel": {
           "align": "left"
          },
          "hovermode": "closest",
          "mapbox": {
           "style": "light"
          },
          "paper_bgcolor": "white",
          "plot_bgcolor": "#E5ECF6",
          "polar": {
           "angularaxis": {
            "gridcolor": "white",
            "linecolor": "white",
            "ticks": ""
           },
           "bgcolor": "#E5ECF6",
           "radialaxis": {
            "gridcolor": "white",
            "linecolor": "white",
            "ticks": ""
           }
          },
          "scene": {
           "xaxis": {
            "backgroundcolor": "#E5ECF6",
            "gridcolor": "white",
            "gridwidth": 2,
            "linecolor": "white",
            "showbackground": true,
            "ticks": "",
            "zerolinecolor": "white"
           },
           "yaxis": {
            "backgroundcolor": "#E5ECF6",
            "gridcolor": "white",
            "gridwidth": 2,
            "linecolor": "white",
            "showbackground": true,
            "ticks": "",
            "zerolinecolor": "white"
           },
           "zaxis": {
            "backgroundcolor": "#E5ECF6",
            "gridcolor": "white",
            "gridwidth": 2,
            "linecolor": "white",
            "showbackground": true,
            "ticks": "",
            "zerolinecolor": "white"
           }
          },
          "shapedefaults": {
           "line": {
            "color": "#2a3f5f"
           }
          },
          "ternary": {
           "aaxis": {
            "gridcolor": "white",
            "linecolor": "white",
            "ticks": ""
           },
           "baxis": {
            "gridcolor": "white",
            "linecolor": "white",
            "ticks": ""
           },
           "bgcolor": "#E5ECF6",
           "caxis": {
            "gridcolor": "white",
            "linecolor": "white",
            "ticks": ""
           }
          },
          "title": {
           "x": 0.05
          },
          "xaxis": {
           "automargin": true,
           "gridcolor": "white",
           "linecolor": "white",
           "ticks": "",
           "title": {
            "standoff": 15
           },
           "zerolinecolor": "white",
           "zerolinewidth": 2
          },
          "yaxis": {
           "automargin": true,
           "gridcolor": "white",
           "linecolor": "white",
           "ticks": "",
           "title": {
            "standoff": 15
           },
           "zerolinecolor": "white",
           "zerolinewidth": 2
          }
         }
        },
        "width": 800
       }
      }
     },
     "metadata": {},
     "output_type": "display_data"
    }
   ],
   "source": [
    "FILE = load_data(FILES[0])\n",
    "base = create_base_map(FILE, width=800, height=600, zoom=13)\n",
    "add_isochrone(base, FILE)"
   ]
  },
  {
   "cell_type": "markdown",
   "metadata": {},
   "source": [
    "### OLD version  of the add_isochrone() function: the isochrone data was not yet IN THE JSON FILE , they were requested each time that the map was created, which is not very useful!"
   ]
  },
  {
   "cell_type": "code",
   "execution_count": 63,
   "metadata": {},
   "outputs": [],
   "source": [
    "def add_isochrone_OLD(base_map, range_minutes, FILE):\n",
    "\n",
    "    # parameters for API request. Warning : here, FIRST lon and THEN lat !\n",
    "    coordinates= [  [FILE['original_address']['coordinates'][1], FILE['original_address']['coordinates'][0]]  ]\n",
    "    profile=\"foot-walking\"\n",
    "    range_m=[range_minutes*60]  # range in seconds\n",
    "    smoothing=0\n",
    "    range_type='time'\n",
    "\n",
    "    # API request\n",
    "    isochrone = client.isochrones(locations=coordinates, \n",
    "                        profile=profile, \n",
    "                        range=range_m, \n",
    "                        smoothing=smoothing, \n",
    "                        range_type=range_type)\n",
    "\n",
    "    # extract the coordinates out of the isochrone object\n",
    "    coords = isochrone['features'][0]['geometry']['coordinates'][0]\n",
    "    isochrone_df = pd.DataFrame( [{'lon': coord[0], 'lat': coord[1]} for coord in coords] )\n",
    "    \n",
    "    # create the layer:\n",
    "    new_layer = go.Scattermapbox(\n",
    "        lat=isochrone_df['lat'],  \n",
    "        lon=isochrone_df['lon'],  \n",
    "        mode='lines', # no markers\n",
    "        line=dict(width=0),  # delete line only display the filling\n",
    "        fill='toself', \n",
    "        fillcolor='rgba(0,50,80,0.25)',  \n",
    "        showlegend = False,\n",
    "        marker=dict(size=1, color='blue'),\n",
    "        text= str(range_minutes) + 'min. walking',\n",
    "        hoverinfo='text'\n",
    "        # hovertemplate='%{text}<extra></extra>'  \n",
    "    )\n",
    "\n",
    "    base_map.add_trace(new_layer)\n",
    "    base_map.update_layout( margin=dict(r=0, t=0, l=0, b=0), showlegend=False)\n",
    "\n",
    "    return base_map"
   ]
  },
  {
   "cell_type": "code",
   "execution_count": 64,
   "metadata": {},
   "outputs": [
    {
     "data": {
      "application/vnd.plotly.v1+json": {
       "config": {
        "plotlyServerURL": "https://plot.ly"
       },
       "data": [
        {
         "type": "scattermapbox"
        },
        {
         "fill": "toself",
         "fillcolor": "rgba(0,50,80,0.25)",
         "hoverinfo": "text",
         "lat": [
          47.365027,
          47.365008,
          47.361023,
          47.360569,
          47.360562,
          47.360329,
          47.360638,
          47.361614,
          47.36081,
          47.360634,
          47.36064,
          47.360803,
          47.361993,
          47.365994,
          47.366206,
          47.369776,
          47.370046,
          47.37163,
          47.372242,
          47.374984,
          47.379437,
          47.379535,
          47.38051,
          47.382117,
          47.382124,
          47.381937,
          47.381148,
          47.379882,
          47.379532,
          47.377764,
          47.377372,
          47.372063,
          47.369869,
          47.365027
         ],
         "line": {
          "width": 0
         },
         "lon": [
          8.513016,
          8.513044,
          8.517483,
          8.517785,
          8.517803,
          8.522449,
          8.52336,
          8.525647,
          8.531072,
          8.533993,
          8.53403,
          8.534371,
          8.536026,
          8.539554,
          8.53971,
          8.541183,
          8.541249,
          8.541628,
          8.541438,
          8.540298,
          8.536951,
          8.53675,
          8.533854,
          8.528747,
          8.528716,
          8.527319,
          8.52321,
          8.518248,
          8.51637,
          8.513644,
          8.513392,
          8.511852,
          8.510671,
          8.513016
         ],
         "marker": {
          "color": "blue",
          "size": 1
         },
         "mode": "lines",
         "showlegend": false,
         "text": "15min. walking",
         "type": "scattermapbox"
        }
       ],
       "layout": {
        "height": 600,
        "mapbox": {
         "center": {
          "lat": 47.3711263,
          "lon": 8.5265537
         },
         "style": "open-street-map",
         "zoom": 13
        },
        "margin": {
         "b": 0,
         "l": 0,
         "r": 0,
         "t": 0
        },
        "showlegend": false,
        "template": {
         "data": {
          "bar": [
           {
            "error_x": {
             "color": "#2a3f5f"
            },
            "error_y": {
             "color": "#2a3f5f"
            },
            "marker": {
             "line": {
              "color": "#E5ECF6",
              "width": 0.5
             },
             "pattern": {
              "fillmode": "overlay",
              "size": 10,
              "solidity": 0.2
             }
            },
            "type": "bar"
           }
          ],
          "barpolar": [
           {
            "marker": {
             "line": {
              "color": "#E5ECF6",
              "width": 0.5
             },
             "pattern": {
              "fillmode": "overlay",
              "size": 10,
              "solidity": 0.2
             }
            },
            "type": "barpolar"
           }
          ],
          "carpet": [
           {
            "aaxis": {
             "endlinecolor": "#2a3f5f",
             "gridcolor": "white",
             "linecolor": "white",
             "minorgridcolor": "white",
             "startlinecolor": "#2a3f5f"
            },
            "baxis": {
             "endlinecolor": "#2a3f5f",
             "gridcolor": "white",
             "linecolor": "white",
             "minorgridcolor": "white",
             "startlinecolor": "#2a3f5f"
            },
            "type": "carpet"
           }
          ],
          "choropleth": [
           {
            "colorbar": {
             "outlinewidth": 0,
             "ticks": ""
            },
            "type": "choropleth"
           }
          ],
          "contour": [
           {
            "colorbar": {
             "outlinewidth": 0,
             "ticks": ""
            },
            "colorscale": [
             [
              0,
              "#0d0887"
             ],
             [
              0.1111111111111111,
              "#46039f"
             ],
             [
              0.2222222222222222,
              "#7201a8"
             ],
             [
              0.3333333333333333,
              "#9c179e"
             ],
             [
              0.4444444444444444,
              "#bd3786"
             ],
             [
              0.5555555555555556,
              "#d8576b"
             ],
             [
              0.6666666666666666,
              "#ed7953"
             ],
             [
              0.7777777777777778,
              "#fb9f3a"
             ],
             [
              0.8888888888888888,
              "#fdca26"
             ],
             [
              1,
              "#f0f921"
             ]
            ],
            "type": "contour"
           }
          ],
          "contourcarpet": [
           {
            "colorbar": {
             "outlinewidth": 0,
             "ticks": ""
            },
            "type": "contourcarpet"
           }
          ],
          "heatmap": [
           {
            "colorbar": {
             "outlinewidth": 0,
             "ticks": ""
            },
            "colorscale": [
             [
              0,
              "#0d0887"
             ],
             [
              0.1111111111111111,
              "#46039f"
             ],
             [
              0.2222222222222222,
              "#7201a8"
             ],
             [
              0.3333333333333333,
              "#9c179e"
             ],
             [
              0.4444444444444444,
              "#bd3786"
             ],
             [
              0.5555555555555556,
              "#d8576b"
             ],
             [
              0.6666666666666666,
              "#ed7953"
             ],
             [
              0.7777777777777778,
              "#fb9f3a"
             ],
             [
              0.8888888888888888,
              "#fdca26"
             ],
             [
              1,
              "#f0f921"
             ]
            ],
            "type": "heatmap"
           }
          ],
          "heatmapgl": [
           {
            "colorbar": {
             "outlinewidth": 0,
             "ticks": ""
            },
            "colorscale": [
             [
              0,
              "#0d0887"
             ],
             [
              0.1111111111111111,
              "#46039f"
             ],
             [
              0.2222222222222222,
              "#7201a8"
             ],
             [
              0.3333333333333333,
              "#9c179e"
             ],
             [
              0.4444444444444444,
              "#bd3786"
             ],
             [
              0.5555555555555556,
              "#d8576b"
             ],
             [
              0.6666666666666666,
              "#ed7953"
             ],
             [
              0.7777777777777778,
              "#fb9f3a"
             ],
             [
              0.8888888888888888,
              "#fdca26"
             ],
             [
              1,
              "#f0f921"
             ]
            ],
            "type": "heatmapgl"
           }
          ],
          "histogram": [
           {
            "marker": {
             "pattern": {
              "fillmode": "overlay",
              "size": 10,
              "solidity": 0.2
             }
            },
            "type": "histogram"
           }
          ],
          "histogram2d": [
           {
            "colorbar": {
             "outlinewidth": 0,
             "ticks": ""
            },
            "colorscale": [
             [
              0,
              "#0d0887"
             ],
             [
              0.1111111111111111,
              "#46039f"
             ],
             [
              0.2222222222222222,
              "#7201a8"
             ],
             [
              0.3333333333333333,
              "#9c179e"
             ],
             [
              0.4444444444444444,
              "#bd3786"
             ],
             [
              0.5555555555555556,
              "#d8576b"
             ],
             [
              0.6666666666666666,
              "#ed7953"
             ],
             [
              0.7777777777777778,
              "#fb9f3a"
             ],
             [
              0.8888888888888888,
              "#fdca26"
             ],
             [
              1,
              "#f0f921"
             ]
            ],
            "type": "histogram2d"
           }
          ],
          "histogram2dcontour": [
           {
            "colorbar": {
             "outlinewidth": 0,
             "ticks": ""
            },
            "colorscale": [
             [
              0,
              "#0d0887"
             ],
             [
              0.1111111111111111,
              "#46039f"
             ],
             [
              0.2222222222222222,
              "#7201a8"
             ],
             [
              0.3333333333333333,
              "#9c179e"
             ],
             [
              0.4444444444444444,
              "#bd3786"
             ],
             [
              0.5555555555555556,
              "#d8576b"
             ],
             [
              0.6666666666666666,
              "#ed7953"
             ],
             [
              0.7777777777777778,
              "#fb9f3a"
             ],
             [
              0.8888888888888888,
              "#fdca26"
             ],
             [
              1,
              "#f0f921"
             ]
            ],
            "type": "histogram2dcontour"
           }
          ],
          "mesh3d": [
           {
            "colorbar": {
             "outlinewidth": 0,
             "ticks": ""
            },
            "type": "mesh3d"
           }
          ],
          "parcoords": [
           {
            "line": {
             "colorbar": {
              "outlinewidth": 0,
              "ticks": ""
             }
            },
            "type": "parcoords"
           }
          ],
          "pie": [
           {
            "automargin": true,
            "type": "pie"
           }
          ],
          "scatter": [
           {
            "fillpattern": {
             "fillmode": "overlay",
             "size": 10,
             "solidity": 0.2
            },
            "type": "scatter"
           }
          ],
          "scatter3d": [
           {
            "line": {
             "colorbar": {
              "outlinewidth": 0,
              "ticks": ""
             }
            },
            "marker": {
             "colorbar": {
              "outlinewidth": 0,
              "ticks": ""
             }
            },
            "type": "scatter3d"
           }
          ],
          "scattercarpet": [
           {
            "marker": {
             "colorbar": {
              "outlinewidth": 0,
              "ticks": ""
             }
            },
            "type": "scattercarpet"
           }
          ],
          "scattergeo": [
           {
            "marker": {
             "colorbar": {
              "outlinewidth": 0,
              "ticks": ""
             }
            },
            "type": "scattergeo"
           }
          ],
          "scattergl": [
           {
            "marker": {
             "colorbar": {
              "outlinewidth": 0,
              "ticks": ""
             }
            },
            "type": "scattergl"
           }
          ],
          "scattermapbox": [
           {
            "marker": {
             "colorbar": {
              "outlinewidth": 0,
              "ticks": ""
             }
            },
            "type": "scattermapbox"
           }
          ],
          "scatterpolar": [
           {
            "marker": {
             "colorbar": {
              "outlinewidth": 0,
              "ticks": ""
             }
            },
            "type": "scatterpolar"
           }
          ],
          "scatterpolargl": [
           {
            "marker": {
             "colorbar": {
              "outlinewidth": 0,
              "ticks": ""
             }
            },
            "type": "scatterpolargl"
           }
          ],
          "scatterternary": [
           {
            "marker": {
             "colorbar": {
              "outlinewidth": 0,
              "ticks": ""
             }
            },
            "type": "scatterternary"
           }
          ],
          "surface": [
           {
            "colorbar": {
             "outlinewidth": 0,
             "ticks": ""
            },
            "colorscale": [
             [
              0,
              "#0d0887"
             ],
             [
              0.1111111111111111,
              "#46039f"
             ],
             [
              0.2222222222222222,
              "#7201a8"
             ],
             [
              0.3333333333333333,
              "#9c179e"
             ],
             [
              0.4444444444444444,
              "#bd3786"
             ],
             [
              0.5555555555555556,
              "#d8576b"
             ],
             [
              0.6666666666666666,
              "#ed7953"
             ],
             [
              0.7777777777777778,
              "#fb9f3a"
             ],
             [
              0.8888888888888888,
              "#fdca26"
             ],
             [
              1,
              "#f0f921"
             ]
            ],
            "type": "surface"
           }
          ],
          "table": [
           {
            "cells": {
             "fill": {
              "color": "#EBF0F8"
             },
             "line": {
              "color": "white"
             }
            },
            "header": {
             "fill": {
              "color": "#C8D4E3"
             },
             "line": {
              "color": "white"
             }
            },
            "type": "table"
           }
          ]
         },
         "layout": {
          "annotationdefaults": {
           "arrowcolor": "#2a3f5f",
           "arrowhead": 0,
           "arrowwidth": 1
          },
          "autotypenumbers": "strict",
          "coloraxis": {
           "colorbar": {
            "outlinewidth": 0,
            "ticks": ""
           }
          },
          "colorscale": {
           "diverging": [
            [
             0,
             "#8e0152"
            ],
            [
             0.1,
             "#c51b7d"
            ],
            [
             0.2,
             "#de77ae"
            ],
            [
             0.3,
             "#f1b6da"
            ],
            [
             0.4,
             "#fde0ef"
            ],
            [
             0.5,
             "#f7f7f7"
            ],
            [
             0.6,
             "#e6f5d0"
            ],
            [
             0.7,
             "#b8e186"
            ],
            [
             0.8,
             "#7fbc41"
            ],
            [
             0.9,
             "#4d9221"
            ],
            [
             1,
             "#276419"
            ]
           ],
           "sequential": [
            [
             0,
             "#0d0887"
            ],
            [
             0.1111111111111111,
             "#46039f"
            ],
            [
             0.2222222222222222,
             "#7201a8"
            ],
            [
             0.3333333333333333,
             "#9c179e"
            ],
            [
             0.4444444444444444,
             "#bd3786"
            ],
            [
             0.5555555555555556,
             "#d8576b"
            ],
            [
             0.6666666666666666,
             "#ed7953"
            ],
            [
             0.7777777777777778,
             "#fb9f3a"
            ],
            [
             0.8888888888888888,
             "#fdca26"
            ],
            [
             1,
             "#f0f921"
            ]
           ],
           "sequentialminus": [
            [
             0,
             "#0d0887"
            ],
            [
             0.1111111111111111,
             "#46039f"
            ],
            [
             0.2222222222222222,
             "#7201a8"
            ],
            [
             0.3333333333333333,
             "#9c179e"
            ],
            [
             0.4444444444444444,
             "#bd3786"
            ],
            [
             0.5555555555555556,
             "#d8576b"
            ],
            [
             0.6666666666666666,
             "#ed7953"
            ],
            [
             0.7777777777777778,
             "#fb9f3a"
            ],
            [
             0.8888888888888888,
             "#fdca26"
            ],
            [
             1,
             "#f0f921"
            ]
           ]
          },
          "colorway": [
           "#636efa",
           "#EF553B",
           "#00cc96",
           "#ab63fa",
           "#FFA15A",
           "#19d3f3",
           "#FF6692",
           "#B6E880",
           "#FF97FF",
           "#FECB52"
          ],
          "font": {
           "color": "#2a3f5f"
          },
          "geo": {
           "bgcolor": "white",
           "lakecolor": "white",
           "landcolor": "#E5ECF6",
           "showlakes": true,
           "showland": true,
           "subunitcolor": "white"
          },
          "hoverlabel": {
           "align": "left"
          },
          "hovermode": "closest",
          "mapbox": {
           "style": "light"
          },
          "paper_bgcolor": "white",
          "plot_bgcolor": "#E5ECF6",
          "polar": {
           "angularaxis": {
            "gridcolor": "white",
            "linecolor": "white",
            "ticks": ""
           },
           "bgcolor": "#E5ECF6",
           "radialaxis": {
            "gridcolor": "white",
            "linecolor": "white",
            "ticks": ""
           }
          },
          "scene": {
           "xaxis": {
            "backgroundcolor": "#E5ECF6",
            "gridcolor": "white",
            "gridwidth": 2,
            "linecolor": "white",
            "showbackground": true,
            "ticks": "",
            "zerolinecolor": "white"
           },
           "yaxis": {
            "backgroundcolor": "#E5ECF6",
            "gridcolor": "white",
            "gridwidth": 2,
            "linecolor": "white",
            "showbackground": true,
            "ticks": "",
            "zerolinecolor": "white"
           },
           "zaxis": {
            "backgroundcolor": "#E5ECF6",
            "gridcolor": "white",
            "gridwidth": 2,
            "linecolor": "white",
            "showbackground": true,
            "ticks": "",
            "zerolinecolor": "white"
           }
          },
          "shapedefaults": {
           "line": {
            "color": "#2a3f5f"
           }
          },
          "ternary": {
           "aaxis": {
            "gridcolor": "white",
            "linecolor": "white",
            "ticks": ""
           },
           "baxis": {
            "gridcolor": "white",
            "linecolor": "white",
            "ticks": ""
           },
           "bgcolor": "#E5ECF6",
           "caxis": {
            "gridcolor": "white",
            "linecolor": "white",
            "ticks": ""
           }
          },
          "title": {
           "x": 0.05
          },
          "xaxis": {
           "automargin": true,
           "gridcolor": "white",
           "linecolor": "white",
           "ticks": "",
           "title": {
            "standoff": 15
           },
           "zerolinecolor": "white",
           "zerolinewidth": 2
          },
          "yaxis": {
           "automargin": true,
           "gridcolor": "white",
           "linecolor": "white",
           "ticks": "",
           "title": {
            "standoff": 15
           },
           "zerolinecolor": "white",
           "zerolinewidth": 2
          }
         }
        },
        "width": 800
       }
      }
     },
     "metadata": {},
     "output_type": "display_data"
    }
   ],
   "source": [
    "FILE = load_data(FILES[0])\n",
    "\n",
    "with open('credentials.json', 'r') as file:\n",
    "    api_creds = yaml.safe_load(file)\n",
    "client = ors.Client(key=api_creds['ors_key'])\n",
    "\n",
    "base = create_base_map(FILE, width=800, height=600, zoom=13)\n",
    "add_isochrone_OLD(base, 15, FILE)"
   ]
  }
 ],
 "metadata": {
  "kernelspec": {
   "display_name": "COMPARIS",
   "language": "python",
   "name": "python3"
  },
  "language_info": {
   "codemirror_mode": {
    "name": "ipython",
    "version": 3
   },
   "file_extension": ".py",
   "mimetype": "text/x-python",
   "name": "python",
   "nbconvert_exporter": "python",
   "pygments_lexer": "ipython3",
   "version": "3.9.19"
  }
 },
 "nbformat": 4,
 "nbformat_minor": 2
}
