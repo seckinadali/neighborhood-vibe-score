{
 "cells": [
  {
   "cell_type": "markdown",
   "metadata": {},
   "source": [
    "# Function to complete exsting JSON files with the neighborhood's description based on ChatGPT answers."
   ]
  },
  {
   "cell_type": "markdown",
   "metadata": {},
   "source": [
    "# **Warning: to run this notebook you need to have a OpenAI API key!**"
   ]
  },
  {
   "cell_type": "markdown",
   "metadata": {},
   "source": [
    "# Dependencies"
   ]
  },
  {
   "cell_type": "code",
   "execution_count": 6,
   "metadata": {},
   "outputs": [],
   "source": [
    "import pandas as pd\n",
    "import numpy as np\n",
    "import plotly.graph_objects as go\n",
    "import json\n",
    "import os"
   ]
  },
  {
   "cell_type": "markdown",
   "metadata": {},
   "source": [
    "# Load JSON files to be updated"
   ]
  },
  {
   "cell_type": "code",
   "execution_count": 28,
   "metadata": {},
   "outputs": [],
   "source": [
    "def load_data(path):\n",
    "    try: \n",
    "        with open(path, 'r') as file:\n",
    "            data = json.load(file)\n",
    "        return data\n",
    "    except Exception as e:\n",
    "        print(f\"An error as occured: {e}\")\n",
    "        \n",
    "def get_file_names(directory):\n",
    "    return [\n",
    "        os.path.join(directory, file) for file in os.listdir(directory) if file.endswith('.json')\n",
    "    ]"
   ]
  },
  {
   "cell_type": "code",
   "execution_count": 29,
   "metadata": {},
   "outputs": [
    {
     "data": {
      "text/plain": [
       "['../data/google_data_isochrone_pop_cgpt\\\\Ex1_8004_Zurich_Werdgartengasse_4.json',\n",
       " '../data/google_data_isochrone_pop_cgpt\\\\Ex2_3027_Bern_Colombstrasse_39.json',\n",
       " '../data/google_data_isochrone_pop_cgpt\\\\Ex3_1006_Lausanne_Av_d_Ouchy_58.json',\n",
       " '../data/google_data_isochrone_pop_cgpt\\\\Ex4_8355_Aadorf_Bruggwiesenstrasse_5.json',\n",
       " '../data/google_data_isochrone_pop_cgpt\\\\Ex5_6319_Allenwinden_Winzruti_39.json',\n",
       " '../data/google_data_isochrone_pop_cgpt\\\\Ex6_8005_Zurich_Heinrichstrasse_200.json',\n",
       " '../data/google_data_isochrone_pop_cgpt\\\\Ex7_8003_Zurich_Birmensdorferstrasse_108.json']"
      ]
     },
     "execution_count": 29,
     "metadata": {},
     "output_type": "execute_result"
    }
   ],
   "source": [
    "directory = r\"../data/google_data_isochrone_pop_cgpt\"\n",
    "FILES = get_file_names(directory)\n",
    "FILES"
   ]
  },
  {
   "cell_type": "markdown",
   "metadata": {},
   "source": [
    "# Helper functions"
   ]
  },
  {
   "cell_type": "markdown",
   "metadata": {},
   "source": [
    "## Create dataframe of facilities to pass to ChatGPT"
   ]
  },
  {
   "cell_type": "code",
   "execution_count": 30,
   "metadata": {},
   "outputs": [],
   "source": [
    "def list_facilities(data):\n",
    "    \n",
    "    facilities_list={}\n",
    "\n",
    "    for facility_type in data['facilities'].keys():\n",
    "        facilities_list[facility_type] = {}\n",
    "        facilities_list[facility_type]['count'] = data['facilities'][facility_type]['count']\n",
    "        if 'closest' in data['facilities'][facility_type].keys():\n",
    "            facilities_list[facility_type]['closest'] = data['facilities'][facility_type]['closest']['name']\n",
    "            facilities_list[facility_type]['walking_time'] = data['facilities'][facility_type]['closest']['travel_time']\n",
    "        else:\n",
    "            facilities_list[facility_type]['closest'] = 'none'\n",
    "            facilities_list[facility_type]['walking_time'] = 'none'\n",
    "\n",
    "    return pd.DataFrame.from_dict(facilities_list, orient='index')\n"
   ]
  },
  {
   "cell_type": "code",
   "execution_count": 31,
   "metadata": {},
   "outputs": [
    {
     "name": "stdout",
     "output_type": "stream",
     "text": [
      "8004 Zürich, Werdgartengasse 4\n",
      "                             count                           closest walking_time\n",
      "bars                         4      Certo                             5 mins     \n",
      "restaurants                  9      Certo                             5 mins     \n",
      "kindergarten                 6      Saint Georges Hotel               3 mins     \n",
      "public_transportation        34     Saint Georges Hotel               3 mins     \n",
      "gym_fitness                  14     Saint Georges Hotel               3 mins     \n",
      "grocery_stores_supermarkets  14     Coop Pronto Shop Zürich Wiedikon  2 mins     \n",
      "gas_ev_charging              4      Saint Georges Hotel               3 mins     \n",
      "schools                      6      Bibi Bachtadze Group AG           2 mins     \n",
      "------\n",
      "3027 Bern, Colombstrasse 39\n",
      "                             count                                    closest walking_time\n",
      "bars                         4      Bits & Bites Bern                          5 mins     \n",
      "restaurants                  20     Le Bistro - Westside                       3 mins     \n",
      "kindergarten                 20     Holiday Inn Bern - Westside, an IHG Hotel  5 mins     \n",
      "public_transportation        22     Gäbelbach                                  3 mins     \n",
      "gym_fitness                  14     Fitness meets Beauty                       1 min      \n",
      "grocery_stores_supermarkets  18     Migros-Supermarkt - Bern - Westside        4 mins     \n",
      "gas_ev_charging              12     Holiday Inn Bern - Westside, an IHG Hotel  5 mins     \n",
      "schools                      3      Clubhaus (Buvette) FC Bethlehem            4 mins     \n",
      "------\n",
      "1006 Lausanne, Av. d'Ouchy 58\n",
      "                             count                                                closest walking_time\n",
      "bars                         12     White Horse                                            1 min      \n",
      "restaurants                  12     Takayama. Sushi bar & restaurant                       1 min      \n",
      "kindergarten                 22     ImmoStreet.ch SA                                       1 min      \n",
      "public_transportation        28     ImmoStreet.ch SA                                       1 min      \n",
      "gym_fitness                  15     ImmoStreet.ch SA                                       1 min      \n",
      "grocery_stores_supermarkets  15     ImmoStreet.ch SA                                       1 min      \n",
      "gas_ev_charging              14     ImmoStreet.ch SA                                       1 min      \n",
      "schools                      5      Formasuisse, Formations Rh, Management, Certificat Rh  2 mins     \n",
      "------\n",
      "8355 Aadorf, Bruggwiesenstrasse 5\n",
      "                             count                     closest walking_time\n",
      "bars                         3      RotFarbKeller               5 mins     \n",
      "restaurants                  5      Ristorante El Capone        3 mins     \n",
      "kindergarten                 28     System-Clinch Telecom GmbH  4 mins     \n",
      "public_transportation        15     System-Clinch Telecom GmbH  4 mins     \n",
      "gym_fitness                  18     System-Clinch Telecom GmbH  4 mins     \n",
      "grocery_stores_supermarkets  15     System-Clinch Telecom GmbH  4 mins     \n",
      "gas_ev_charging              16     System-Clinch Telecom GmbH  4 mins     \n",
      "schools                      0      none                        none       \n",
      "------\n",
      "6319 Allenwinden, Winzrüti 39\n",
      "                             count                       closest walking_time\n",
      "bars                         0      none                          none       \n",
      "restaurants                  1      Gasthaus Löwen                9 mins     \n",
      "kindergarten                 18     Elektrizitäts-Genossenschaft  4 mins     \n",
      "public_transportation        14     Elektrizitäts-Genossenschaft  4 mins     \n",
      "gym_fitness                  9      Elektrizitäts-Genossenschaft  4 mins     \n",
      "grocery_stores_supermarkets  9      Elektrizitäts-Genossenschaft  4 mins     \n",
      "gas_ev_charging              9      Elektrizitäts-Genossenschaft  4 mins     \n",
      "schools                      0      none                          none       \n",
      "------\n",
      "8005 Zürich, Heinrichstrasse 200\n",
      "                             count                 closest walking_time\n",
      "bars                         13     Don Weber               1 min      \n",
      "restaurants                  15     Don Weber               1 min      \n",
      "kindergarten                 16     Hotel Züri by Fassbind  4 mins     \n",
      "public_transportation        37     Löwenbräu               3 mins     \n",
      "gym_fitness                  16     Body Mind Coaching      3 mins     \n",
      "grocery_stores_supermarkets  21     Berg und Tal Viadukt    1 min      \n",
      "gas_ev_charging              12     Rigoni & Co             1 min      \n",
      "schools                      4      Schulhaus Schütze       3 mins     \n",
      "------\n",
      "8003 Zürich, Birmensdorferstrasse 108\n",
      "                             count                 closest walking_time\n",
      "bars                         2      Plüsch                  7 mins     \n",
      "restaurants                  4      Restaurant La Côte      8 mins     \n",
      "kindergarten                 8      Synagoge Agudas Achim   3 mins     \n",
      "public_transportation        37     Synagoge Agudas Achim   3 mins     \n",
      "gym_fitness                  13     Synagoge Agudas Achim   3 mins     \n",
      "grocery_stores_supermarkets  12     Lian Hua Wiedikon GmbH  1 min      \n",
      "gas_ev_charging              5      Synagoge Agudas Achim   3 mins     \n",
      "schools                      4      Schulhaus Aegerten      3 mins     \n",
      "------\n"
     ]
    }
   ],
   "source": [
    "# Adjust pandas display options\n",
    "pd.set_option('display.max_columns', None)\n",
    "pd.set_option('display.max_colwidth', 1)\n",
    "pd.set_option('display.width', 1000)\n",
    "\n",
    "for file in FILES:\n",
    "    data = load_data(file)\n",
    "    print(data['original_address']['address'])\n",
    "    print(list_facilities(data))\n",
    "    print('------')\n"
   ]
  },
  {
   "cell_type": "markdown",
   "metadata": {},
   "source": [
    "## Create Prompt for ChatGPT"
   ]
  },
  {
   "cell_type": "code",
   "execution_count": 32,
   "metadata": {},
   "outputs": [],
   "source": [
    "def summarize_neigborhood(FILE, style:str):\n",
    "    # load data\n",
    "    data = load_data(FILE)\n",
    "    facilities_df = list_facilities(data)\n",
    "\n",
    "    # Define the message\n",
    "    messages = [\n",
    "    {\"role\": \"system\", \"content\": \"\"\"\n",
    "    You are a data scientist. \n",
    "    Your task is to define the atmosphere/vibe of a given neighborhood. \n",
    "    A neighborhood is defined as an area reachable with a 10min foot walk around a given real estate property. \n",
    "    \"\"\"},\n",
    "    {\"role\": \"user\", \"content\": f\"\"\"\n",
    "    --------\n",
    "    TASK: \n",
    "    the DATA given below lists the location, the number of inhabitants as well as the facilities found within 10 min walking distance of the location. \n",
    "    For each facility type the count of facilities and the walking time to the closest facility (including its name) are indicated. \n",
    "    Considering ALL of this information, return 3 sentences describing the atmosphere/vibe of this neighborhood in the style indicated below. \n",
    "    In your anser, do NOT repeat the address of the location and do NOT list all the facilites given in \"Data\".\n",
    "    --------\n",
    "    STYLE: \"{style}\"\n",
    "    --------\n",
    "    DATA:\n",
    "    Location: \\'{data['original_address']['address']}\\'.\n",
    "    Number of inhabitants: about \\'{str(data['population']['total_pop'])}\\' permanent residents in the neighborhood (data from 2022).\n",
    "    List of facilities to be found within 10 min walking distance: \n",
    "    \\'{facilities_df}\\'.\n",
    "    \"\"\"}\n",
    "    ]\n",
    "\n",
    "    # Call the OpenAI API with the chat completion endpoint\n",
    "    response = openai.ChatCompletion.create(\n",
    "    model=\"gpt-3.5-turbo-0125\",  # advice from Adriano, instead of gpt-3.5-turbo (because of tokens usage)\n",
    "    messages=messages,\n",
    "    max_tokens=1000,  # Adjust \n",
    "    n=1,\n",
    "    stop=None,\n",
    "    temperature=0  # Setting temperature to 0 for deterministic results\n",
    "    )\n",
    "\n",
    "    # Extract the classification result from the response\n",
    "    result = response.choices[0].message['content'].strip()\n",
    "\n",
    "    return result\n"
   ]
  },
  {
   "cell_type": "markdown",
   "metadata": {},
   "source": [
    "# Load ChatGPT credentials"
   ]
  },
  {
   "cell_type": "code",
   "execution_count": 33,
   "metadata": {},
   "outputs": [],
   "source": [
    "import locale, yaml, openai\n",
    "\n",
    "locale.getpreferredencoding = lambda: \"UTF-8\"\n",
    "\n",
    "with open('credentials.json', 'r') as file:\n",
    "    api_creds = yaml.safe_load(file)\n",
    "\n",
    "os.environ['OPENAI_API_KEY'] = api_creds['openai_key']\n",
    "\n",
    "openai.api_key = os.environ['OPENAI_API_KEY']"
   ]
  },
  {
   "cell_type": "markdown",
   "metadata": {},
   "source": [
    "# Function to add ChatGPT answers to JSON file"
   ]
  },
  {
   "cell_type": "code",
   "execution_count": 34,
   "metadata": {},
   "outputs": [],
   "source": [
    "def add_text_description_to_existing_JSONfile(path, styles=['Lex Fridman', 'Real estate agent', 'neutral without emphasis']):\n",
    "    \"\"\"Adds ChatGPT_answer to an existing json file.\n",
    "    Arg:\n",
    "    - path : path incl. extension \".json\"\n",
    "    - styles: a list of strings describing the style of the answer\n",
    "    \"\"\"\n",
    "    # loads the json file\n",
    "    with open(path, 'r') as file:\n",
    "        data = json.load(file)\n",
    "    if 'text_description' in data.keys():\n",
    "        print(path +' : \\nThis JSON file already has a text description.')\n",
    "        return\n",
    "    else:\n",
    "        # appends the description  to the existing dictionary, but initialized as an empty dict (since we can pass several STYLES)\n",
    "        data['text_description'] = {}\n",
    "\n",
    "        for style in styles:\n",
    "            text = summarize_neigborhood(path, style)\n",
    "            data['text_description'][style] = {'Style': style, 'text': text}\n",
    "\n",
    "        # overwrites the file:\n",
    "        with open(path, 'w') as file:\n",
    "            json.dump(data, file, indent=2) # indent = 2 since in the highest level    "
   ]
  },
  {
   "cell_type": "markdown",
   "metadata": {},
   "source": [
    "## update files"
   ]
  },
  {
   "cell_type": "code",
   "execution_count": 35,
   "metadata": {},
   "outputs": [
    {
     "name": "stdout",
     "output_type": "stream",
     "text": [
      "../data/google_data_isochrone_pop_cgpt\\Ex1_8004_Zurich_Werdgartengasse_4.json : \n",
      "This JSON file already has a text description.\n",
      "../data/google_data_isochrone_pop_cgpt\\Ex2_3027_Bern_Colombstrasse_39.json : \n",
      "This JSON file already has a text description.\n",
      "../data/google_data_isochrone_pop_cgpt\\Ex3_1006_Lausanne_Av_d_Ouchy_58.json : \n",
      "This JSON file already has a text description.\n",
      "../data/google_data_isochrone_pop_cgpt\\Ex4_8355_Aadorf_Bruggwiesenstrasse_5.json : \n",
      "This JSON file already has a text description.\n",
      "../data/google_data_isochrone_pop_cgpt\\Ex5_6319_Allenwinden_Winzruti_39.json : \n",
      "This JSON file already has a text description.\n",
      "../data/google_data_isochrone_pop_cgpt\\Ex6_8005_Zurich_Heinrichstrasse_200.json : \n",
      "This JSON file already has a text description.\n",
      "../data/google_data_isochrone_pop_cgpt\\Ex7_8003_Zurich_Birmensdorferstrasse_108.json : \n",
      "This JSON file already has a text description.\n"
     ]
    }
   ],
   "source": [
    "for file in FILES:\n",
    "    add_text_description_to_existing_JSONfile(file, styles=['Lex Fridman', 'Real estate agent', 'neutral without emphasis'])"
   ]
  },
  {
   "cell_type": "markdown",
   "metadata": {},
   "source": [
    "# Examples:\n",
    "### other style (neutral)\n",
    "\n",
    "Prompt:\n",
    "\n",
    "    You are a data scientist. \n",
    "    Your task is to define the atmosphere/vibe of a given neighborhood. \n",
    "    A neighborhood is defined as an area reachable with a 10min foot walk around a given real estate property. \n",
    "    \n",
    "    --------\n",
    "    Task: taking into consideration the location, the number of inhabitants as well as the number of the different facilities and the walking time to the closest facility, return 3 sentences describing the atmosphere/vibe of this neighborhood in the indicated style. \n",
    "    --------\n",
    "    Style: \"Neutral, without emphasis\"\n",
    "    --------\n",
    "    Data:\n",
    "    Real estate property address: '1006 Lausanne, Av. d'Ouchy 58'.\n",
    "    Population in neighborhood: about '9994' permanent residents (data from 2022).\n",
    "    List of facilities to be found within 10 min walking distance: \n",
    "    '                             count  \\\n",
    "bars                            12   \n",
    "restaurants                     12   \n",
    "kindergarten                    22   \n",
    "public_transportation           28   \n",
    "gym_fitness                     15   \n",
    "grocery_stores_supermarkets     15   \n",
    "gas_ev_charging                 14   \n",
    "schools                          5   \n",
    "\n",
    "                                                              closest_facility  \\\n",
    "bars                                                               White Horse   \n",
    "restaurants                                   Takayama. Sushi bar & restaurant   \n",
    "kindergarten                                                  ImmoStreet.ch SA   \n",
    "public_transportation                                         ImmoStreet.ch SA   \n",
    "gym_fitness                                                   ImmoStreet.ch SA   \n",
    "grocery_stores_supermarkets                                   ImmoStreet.ch SA   \n",
    "gas_ev_charging                                               ImmoStreet.ch SA   \n",
    "schools                      Formasuisse, Formations Rh, Management, Certif...   \n",
    "\n",
    "                            walking_time_to_closest_facility  \n",
    "bars                                                   1 min  \n",
    "restaurants                                            1 min  \n",
    "kindergarten                                           1 min  \n",
    "public_transportation                                  1 min  \n",
    "gym_fitness                                            1 min  \n",
    "grocery_stores_supermarkets                            1 min  \n",
    "gas_ev_charging                                        1 min  \n",
    "schools                                               2 mins  '.\n",
    "    --------\n",
    "Answer: In the neighborhood around '1006 Lausanne, Av. d'Ouchy 58', with approximately 9994 permanent residents, there are various facilities such as bars, restaurants, kindergarten, public transportation, gym/fitness centers, grocery stores/supermarkets, gas/EV charging stations, and schools within a 10-minute walking distance. The closest facilities include White Horse bar, Takayama Sushi bar & restaurant, ImmoStreet.ch SA kindergarten, and public transportation, all reachable within 1-2 minutes on foot. The atmosphere in this neighborhood can be described as bustling with a diverse range of amenities catering to the needs of the local community."
   ]
  },
  {
   "cell_type": "markdown",
   "metadata": {},
   "source": [
    "### first example wit Lex friedman\n",
    "Example just to make sure the prompting is correct: it is.\n",
    "\n",
    "Prompt:\n",
    "\n",
    "    You are a data scientist. \n",
    "    Your task is to define the atmosphere/vibe of a given neighborhood. \n",
    "    A neighborhood is defined as an area reachable with a 10min foot walk around a given real estate property. \n",
    "    \n",
    "    Data:\n",
    "    ------\n",
    "    Real estate property address: '1006 Lausanne, Av. d'Ouchy 58'.\n",
    "    Population in neighborhood: about '9994'. permanent residents (data from 2022).\n",
    "    List of facilities to be found within 10 min walking distance: \n",
    "    '                             count  \\\n",
    "bars                            12   \n",
    "restaurants                     12   \n",
    "kindergarten                    22   \n",
    "public_transportation           28   \n",
    "gym_fitness                     15   \n",
    "grocery_stores_supermarkets     15   \n",
    "gas_ev_charging                 14   \n",
    "schools                          5   \n",
    "\n",
    "                                                              closest_facility  \\\n",
    "bars                                                               White Horse   \n",
    "restaurants                                   Takayama. Sushi bar & restaurant   \n",
    "kindergarten                                                  ImmoStreet.ch SA   \n",
    "public_transportation                                         ImmoStreet.ch SA   \n",
    "gym_fitness                                                   ImmoStreet.ch SA   \n",
    "grocery_stores_supermarkets                                   ImmoStreet.ch SA   \n",
    "gas_ev_charging                                               ImmoStreet.ch SA   \n",
    "schools                      Formasuisse, Formations Rh, Management, Certif...   \n",
    "\n",
    "                            walking_time_to_closest_facility  \n",
    "bars                                                   1 min  \n",
    "restaurants                                            1 min  \n",
    "kindergarten                                           1 min  \n",
    "public_transportation                                  1 min  \n",
    "gym_fitness                                            1 min  \n",
    "grocery_stores_supermarkets                            1 min  \n",
    "gas_ev_charging                                        1 min  \n",
    "schools                                               2 mins  '.\n",
    "    ----\n",
    "    Task: taking into consideration the location, the number of inhabitants as well as the number of the different facilities and the walking time to the closest facility, return:\n",
    "    - 5 key words describing the atmosphere/vibe of this neighborhood.\n",
    "    - 3 sentences describing the atmosphere/vibe of this neighborhood in the \"Lex Friedman style\"\n",
    "    --------\n",
    "Answer: **Key Words Describing the Atmosphere/Vibe:**\n",
    "1. Vibrant\n",
    "2. Diverse\n",
    "3. Convenient\n",
    "4. Active\n",
    "5. Community-oriented\n",
    "\n",
    "**Atmosphere/Vibe Description in the \"Lex Friedman Style\":**\n",
    "In the heart of Av. d'Ouchy, this neighborhood pulses with a vibrant energy, fueled by a diverse community of approximately 9994 residents. Within a 10-minute stroll, one can easily find themselves immersed in a tapestry of convenience, from a plethora of dining options to top-notch fitness facilities. The streets hum with activity, echoing the harmonious blend of bustling public transportation and the tranquility of nearby kindergartens and schools, creating a dynamic and community-oriented ambiance that beckons both locals and visitors alike.\n",
    "Prompt:"
   ]
  },
  {
   "cell_type": "markdown",
   "metadata": {},
   "source": [
    "### with more restrictions on the answer:\n",
    "\n",
    "Prompt:\n",
    "\n",
    "    You are a data scientist. \n",
    "    Your task is to define the atmosphere/vibe of a given neighborhood. \n",
    "    A neighborhood is defined as an area reachable with a 10min foot walk around a given real estate property. \n",
    "    \n",
    "    --------\n",
    "    TASK: \n",
    "    the DATA given below lists the location, the number of inhabitants as well as the facilities found within 10 min walking distance of the location. \n",
    "    For each facility type the count of facilities and the walking time to the closest facility (including its name) are indicated. \n",
    "    Considering ALL of this information, return 3 sentences describing the atmosphere/vibe of this neighborhood in the style indicated below. \n",
    "    In your anser, do NOT repeat the address of the location and do NOT list all the facilites given in \"Data\".\n",
    "    --------\n",
    "    STYLE: \"Neutral, without emphasis\"\n",
    "    --------\n",
    "    DATA:\n",
    "    Location: '1006 Lausanne, Av. d'Ouchy 58'.\n",
    "    Number of inhabitants: about '9994' permanent residents in the neighborhood (data from 2022).\n",
    "    List of facilities to be found within 10 min walking distance: \n",
    "    '                             count  \\\n",
    "bars                            12   \n",
    "restaurants                     12   \n",
    "kindergarten                    22   \n",
    "public_transportation           28   \n",
    "gym_fitness                     15   \n",
    "...\n",
    "gas_ev_charging                                        1 min  \n",
    "schools                                               2 mins  '.\n",
    "    --------\n",
    "Answer: The neighborhood exudes a bustling yet relaxed ambiance with a variety of amenities within easy reach, including numerous bars, restaurants, and fitness centers. Residents benefit from a diverse community with a significant number of schools and kindergartens nearby, fostering a family-friendly environment. The convenience of public transportation and grocery stores further enhances the neighborhood's livability, creating a well-connected and vibrant atmosphere.\n",
    "Output is truncated. View as a scrollable element or open in a text editor. Adjust cell output settings..."
   ]
  },
  {
   "cell_type": "markdown",
   "metadata": {},
   "source": [
    "# END OF NOTEBOOK"
   ]
  },
  {
   "cell_type": "markdown",
   "metadata": {},
   "source": []
  }
 ],
 "metadata": {
  "kernelspec": {
   "display_name": "COMPARIS",
   "language": "python",
   "name": "python3"
  },
  "language_info": {
   "codemirror_mode": {
    "name": "ipython",
    "version": 3
   },
   "file_extension": ".py",
   "mimetype": "text/x-python",
   "name": "python",
   "nbconvert_exporter": "python",
   "pygments_lexer": "ipython3",
   "version": "3.9.19"
  }
 },
 "nbformat": 4,
 "nbformat_minor": 2
}
