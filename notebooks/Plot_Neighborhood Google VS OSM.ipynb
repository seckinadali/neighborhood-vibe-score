{
 "cells": [
  {
   "cell_type": "markdown",
   "metadata": {},
   "source": [
    "# Compare the facilities found with Google and with OSM\n",
    "Notebook based on \"Plot_neighborhood\"\n",
    "\n",
    "No isochrones and no pop data here. Just the facilities"
   ]
  },
  {
   "cell_type": "markdown",
   "metadata": {},
   "source": [
    "# Dependencies"
   ]
  },
  {
   "cell_type": "code",
   "execution_count": 1,
   "metadata": {},
   "outputs": [],
   "source": [
    "import pandas as pd\n",
    "import numpy as np\n",
    "import plotly.graph_objects as go\n",
    "import json\n",
    "import os"
   ]
  },
  {
   "cell_type": "markdown",
   "metadata": {},
   "source": [
    "# Load data"
   ]
  },
  {
   "cell_type": "code",
   "execution_count": 2,
   "metadata": {},
   "outputs": [],
   "source": [
    "def load_data(path):\n",
    "    try: \n",
    "        with open(path, 'r') as file:\n",
    "            data = json.load(file)\n",
    "        return data\n",
    "    except Exception as e:\n",
    "        print(f\"An error as occured: {e}\")\n",
    " \n",
    "def get_file_names(directory):\n",
    "    return [\n",
    "        os.path.join(directory, file) for file in os.listdir(directory) if file.endswith('.json')\n",
    "    ]"
   ]
  },
  {
   "cell_type": "code",
   "execution_count": 3,
   "metadata": {},
   "outputs": [],
   "source": [
    "directory = r\"../data/google_data_isochrone_pop_cgpt\"\n",
    "GOOGLE_FILES = get_file_names(directory)\n",
    "directory = r\"../data/osm_data\"\n",
    "OSM_FILES = get_file_names(directory)"
   ]
  },
  {
   "cell_type": "code",
   "execution_count": 4,
   "metadata": {},
   "outputs": [
    {
     "data": {
      "text/plain": [
       "['../data/google_data_isochrone_pop_cgpt\\\\Ex1_8004_Zurich_Werdgartengasse_4.json',\n",
       " '../data/google_data_isochrone_pop_cgpt\\\\Ex2_3027_Bern_Colombstrasse_39.json',\n",
       " '../data/google_data_isochrone_pop_cgpt\\\\Ex3_1006_Lausanne_Av_d_Ouchy_58.json',\n",
       " '../data/google_data_isochrone_pop_cgpt\\\\Ex4_8355_Aadorf_Bruggwiesenstrasse_5.json',\n",
       " '../data/google_data_isochrone_pop_cgpt\\\\Ex5_6319_Allenwinden_Winzruti_39.json',\n",
       " '../data/google_data_isochrone_pop_cgpt\\\\Ex6_8005_Zurich_Heinrichstrasse_200.json',\n",
       " '../data/google_data_isochrone_pop_cgpt\\\\Ex7_8003_Zurich_Birmensdorferstrasse_108.json']"
      ]
     },
     "execution_count": 4,
     "metadata": {},
     "output_type": "execute_result"
    }
   ],
   "source": [
    "GOOGLE_FILES"
   ]
  },
  {
   "cell_type": "code",
   "execution_count": 5,
   "metadata": {},
   "outputs": [
    {
     "data": {
      "text/plain": [
       "['../data/osm_data\\\\Ex1_8004_Zurich_Werdgartengasse_4.json',\n",
       " '../data/osm_data\\\\Ex2_3027_Bern_Colombstrasse_39.json',\n",
       " '../data/osm_data\\\\Ex3_1006_Lausanne_Av_d_Ouchy_58.json',\n",
       " '../data/osm_data\\\\Ex4_8355_Aadorf_Bruggwiesenstrasse_5.json',\n",
       " '../data/osm_data\\\\Ex5_6319_Allenwinden_Winzruti_39.json',\n",
       " '../data/osm_data\\\\Ex6_8005_Zurich_Heinrichstrasse_200.json',\n",
       " '../data/osm_data\\\\Ex7_8003_Zurich_Birmensdorferstrasse_108.json']"
      ]
     },
     "execution_count": 5,
     "metadata": {},
     "output_type": "execute_result"
    }
   ],
   "source": [
    "OSM_FILES"
   ]
  },
  {
   "cell_type": "markdown",
   "metadata": {},
   "source": [
    "### code trials for Plotting_Streamlit_2"
   ]
  },
  {
   "cell_type": "code",
   "execution_count": 6,
   "metadata": {},
   "outputs": [
    {
     "data": {
      "text/plain": [
       "'8004 Zurich Werdgartengasse 4'"
      ]
     },
     "execution_count": 6,
     "metadata": {},
     "output_type": "execute_result"
    }
   ],
   "source": [
    "OSM_FILES[0].split('\\\\Ex')[1].split('.json')[0].replace('_',' ')\n",
    "'_'.join(OSM_FILES[0].split('\\\\Ex')[1].split('_')[1:]).split('.json')[0].replace('_',' ')"
   ]
  },
  {
   "cell_type": "code",
   "execution_count": 7,
   "metadata": {},
   "outputs": [
    {
     "data": {
      "text/plain": [
       "{1: {'path': '../data/google_data_isochrone_pop_cgpt\\\\Ex1_8004_Zurich_Werdgartengasse_4.json',\n",
       "  'address': '8004 Zurich Werdgartengasse 4'},\n",
       " 2: {'path': '../data/google_data_isochrone_pop_cgpt\\\\Ex2_3027_Bern_Colombstrasse_39.json',\n",
       "  'address': '3027 Bern Colombstrasse 39'},\n",
       " 3: {'path': '../data/google_data_isochrone_pop_cgpt\\\\Ex3_1006_Lausanne_Av_d_Ouchy_58.json',\n",
       "  'address': '1006 Lausanne Av d Ouchy 58'},\n",
       " 4: {'path': '../data/google_data_isochrone_pop_cgpt\\\\Ex4_8355_Aadorf_Bruggwiesenstrasse_5.json',\n",
       "  'address': '8355 Aadorf Bruggwiesenstrasse 5'},\n",
       " 5: {'path': '../data/google_data_isochrone_pop_cgpt\\\\Ex5_6319_Allenwinden_Winzruti_39.json',\n",
       "  'address': '6319 Allenwinden Winzruti 39'},\n",
       " 6: {'path': '../data/google_data_isochrone_pop_cgpt\\\\Ex6_8005_Zurich_Heinrichstrasse_200.json',\n",
       "  'address': '8005 Zurich Heinrichstrasse 200'},\n",
       " 7: {'path': '../data/google_data_isochrone_pop_cgpt\\\\Ex7_8003_Zurich_Birmensdorferstrasse_108.json',\n",
       "  'address': '8003 Zurich Birmensdorferstrasse 108'}}"
      ]
     },
     "execution_count": 7,
     "metadata": {},
     "output_type": "execute_result"
    }
   ],
   "source": [
    "property_map = {}\n",
    "\n",
    "for i in range(len(GOOGLE_FILES)):\n",
    "    property_map[i+1] = {'path': GOOGLE_FILES[i], 'address': '_'.join(GOOGLE_FILES[i].split('\\\\Ex')[1].split('_')[1:]).split('.json')[0].replace('_',' ')}\n",
    "\n",
    "property_map"
   ]
  },
  {
   "cell_type": "code",
   "execution_count": 8,
   "metadata": {},
   "outputs": [
    {
     "data": {
      "text/plain": [
       "{1: {'google': '../data/google_data_isochrone_pop_cgpt\\\\Ex1_8004_Zurich_Werdgartengasse_4.json',\n",
       "  'osm': '../data/osm_data\\\\Ex1_8004_Zurich_Werdgartengasse_4.json',\n",
       "  'address': '8004 Zurich Werdgartengasse 4'},\n",
       " 2: {'google': '../data/google_data_isochrone_pop_cgpt\\\\Ex2_3027_Bern_Colombstrasse_39.json',\n",
       "  'osm': '../data/osm_data\\\\Ex2_3027_Bern_Colombstrasse_39.json',\n",
       "  'address': '3027 Bern Colombstrasse 39'},\n",
       " 3: {'google': '../data/google_data_isochrone_pop_cgpt\\\\Ex3_1006_Lausanne_Av_d_Ouchy_58.json',\n",
       "  'osm': '../data/osm_data\\\\Ex3_1006_Lausanne_Av_d_Ouchy_58.json',\n",
       "  'address': '1006 Lausanne Av d Ouchy 58'},\n",
       " 4: {'google': '../data/google_data_isochrone_pop_cgpt\\\\Ex4_8355_Aadorf_Bruggwiesenstrasse_5.json',\n",
       "  'osm': '../data/osm_data\\\\Ex4_8355_Aadorf_Bruggwiesenstrasse_5.json',\n",
       "  'address': '8355 Aadorf Bruggwiesenstrasse 5'},\n",
       " 5: {'google': '../data/google_data_isochrone_pop_cgpt\\\\Ex5_6319_Allenwinden_Winzruti_39.json',\n",
       "  'osm': '../data/osm_data\\\\Ex5_6319_Allenwinden_Winzruti_39.json',\n",
       "  'address': '6319 Allenwinden Winzruti 39'},\n",
       " 6: {'google': '../data/google_data_isochrone_pop_cgpt\\\\Ex6_8005_Zurich_Heinrichstrasse_200.json',\n",
       "  'osm': '../data/osm_data\\\\Ex6_8005_Zurich_Heinrichstrasse_200.json',\n",
       "  'address': '8005 Zurich Heinrichstrasse 200'},\n",
       " 7: {'google': '../data/google_data_isochrone_pop_cgpt\\\\Ex7_8003_Zurich_Birmensdorferstrasse_108.json',\n",
       "  'osm': '../data/osm_data\\\\Ex7_8003_Zurich_Birmensdorferstrasse_108.json',\n",
       "  'address': '8003 Zurich Birmensdorferstrasse 108'}}"
      ]
     },
     "execution_count": 8,
     "metadata": {},
     "output_type": "execute_result"
    }
   ],
   "source": [
    "property_map = {}\n",
    "for i in range(len(GOOGLE_FILES)):\n",
    "    property_map[i+1] = {'google': GOOGLE_FILES[i],\n",
    "                        'osm': OSM_FILES[i],\n",
    "                        'address': '_'.join(GOOGLE_FILES[i].split('\\\\Ex')[1].split('_')[1:]).split('.json')[0].replace('_',' ')}\n",
    "\n",
    "property_map"
   ]
  },
  {
   "cell_type": "code",
   "execution_count": 9,
   "metadata": {},
   "outputs": [
    {
     "data": {
      "text/plain": [
       "[1, 2, 3, 4, 5, 6, 7]"
      ]
     },
     "execution_count": 9,
     "metadata": {},
     "output_type": "execute_result"
    }
   ],
   "source": [
    "list(range(1,len(GOOGLE_FILES)+1))"
   ]
  },
  {
   "cell_type": "markdown",
   "metadata": {},
   "source": [
    "### display structure of a dictionnary"
   ]
  },
  {
   "cell_type": "code",
   "execution_count": 10,
   "metadata": {},
   "outputs": [
    {
     "name": "stdout",
     "output_type": "stream",
     "text": [
      "original_address\n",
      "├── address\n",
      "└── coordinates\n",
      "    └── ITEM_0_OF_A_LIST\n",
      "facilities\n",
      "├── bars\n",
      "│   ├── data\n",
      "│   │   └── ITEM_0_OF_A_LIST\n",
      "│   │       ├── place_id\n",
      "│   │       ├── name\n",
      "│   │       ├── rating\n",
      "│   │       ├── num_ratings\n",
      "│   │       ├── vicinity\n",
      "│   │       ├── location\n",
      "│   │       │   ├── lat\n",
      "│   │       │   └── lng\n",
      "│   │       ├── reviews\n",
      "│   │       │   └── ITEM_0_OF_A_LIST\n",
      "│   │       │       ├── author_name\n",
      "│   │       │       ├── author_url\n",
      "│   │       │       ├── language\n",
      "│   │       │       ├── original_language\n",
      "│   │       │       ├── profile_photo_url\n",
      "│   │       │       ├── rating\n",
      "│   │       │       ├── relative_time_description\n",
      "│   │       │       ├── text\n",
      "│   │       │       ├── time\n",
      "│   │       │       └── translated\n",
      "│   │       ├── num_reviews\n",
      "│   │       ├── url\n",
      "│   │       └── travel_time\n",
      "│   ├── count\n",
      "│   ├── average_rating\n",
      "│   └── closest\n",
      "│       ├── place_id\n",
      "│       ├── name\n",
      "│       ├── rating\n",
      "│       ├── num_ratings\n",
      "│       ├── vicinity\n",
      "│       ├── location\n",
      "│       │   ├── lat\n",
      "│       │   └── lng\n",
      "│       ├── reviews\n",
      "│       │   └── ITEM_0_OF_A_LIST\n",
      "│       │       ├── author_name\n",
      "│       │       ├── author_url\n",
      "│       │       ├── language\n",
      "│       │       ├── original_language\n",
      "│       │       ├── profile_photo_url\n",
      "│       │       ├── rating\n",
      "│       │       ├── relative_time_description\n",
      "│       │       ├── text\n",
      "│       │       ├── time\n",
      "│       │       └── translated\n",
      "│       ├── num_reviews\n",
      "│       ├── url\n",
      "│       └── travel_time\n",
      "├── restaurants\n",
      "│   ├── data\n",
      "│   │   └── ITEM_0_OF_A_LIST\n",
      "│   │       ├── place_id\n",
      "│   │       ├── name\n",
      "│   │       ├── rating\n",
      "│   │       ├── num_ratings\n",
      "│   │       ├── vicinity\n",
      "│   │       ├── location\n",
      "│   │       │   ├── lat\n",
      "│   │       │   └── lng\n",
      "│   │       ├── reviews\n",
      "│   │       │   └── ITEM_0_OF_A_LIST\n",
      "│   │       │       ├── author_name\n",
      "│   │       │       ├── author_url\n",
      "│   │       │       ├── language\n",
      "│   │       │       ├── original_language\n",
      "│   │       │       ├── profile_photo_url\n",
      "│   │       │       ├── rating\n",
      "│   │       │       ├── relative_time_description\n",
      "│   │       │       ├── text\n",
      "│   │       │       ├── time\n",
      "│   │       │       └── translated\n",
      "│   │       ├── num_reviews\n",
      "│   │       ├── url\n",
      "│   │       └── travel_time\n",
      "│   ├── count\n",
      "│   ├── average_rating\n",
      "│   └── closest\n",
      "│       ├── place_id\n",
      "│       ├── name\n",
      "│       ├── rating\n",
      "│       ├── num_ratings\n",
      "│       ├── vicinity\n",
      "│       ├── location\n",
      "│       │   ├── lat\n",
      "│       │   └── lng\n",
      "│       ├── reviews\n",
      "│       │   └── ITEM_0_OF_A_LIST\n",
      "│       │       ├── author_name\n",
      "│       │       ├── author_url\n",
      "│       │       ├── language\n",
      "│       │       ├── original_language\n",
      "│       │       ├── profile_photo_url\n",
      "│       │       ├── rating\n",
      "│       │       ├── relative_time_description\n",
      "│       │       ├── text\n",
      "│       │       ├── time\n",
      "│       │       └── translated\n",
      "│       ├── num_reviews\n",
      "│       ├── url\n",
      "│       └── travel_time\n",
      "├── kindergarten\n",
      "│   ├── data\n",
      "│   │   └── ITEM_0_OF_A_LIST\n",
      "│   │       ├── place_id\n",
      "│   │       ├── name\n",
      "│   │       ├── rating\n",
      "│   │       ├── num_ratings\n",
      "│   │       ├── vicinity\n",
      "│   │       ├── location\n",
      "│   │       │   ├── lat\n",
      "│   │       │   └── lng\n",
      "│   │       ├── reviews\n",
      "│   │       │   └── ITEM_0_OF_A_LIST\n",
      "│   │       │       ├── author_name\n",
      "│   │       │       ├── author_url\n",
      "│   │       │       ├── language\n",
      "│   │       │       ├── original_language\n",
      "│   │       │       ├── profile_photo_url\n",
      "│   │       │       ├── rating\n",
      "│   │       │       ├── relative_time_description\n",
      "│   │       │       ├── text\n",
      "│   │       │       ├── time\n",
      "│   │       │       └── translated\n",
      "│   │       ├── num_reviews\n",
      "│   │       ├── url\n",
      "│   │       └── travel_time\n",
      "│   ├── count\n",
      "│   ├── average_rating\n",
      "│   └── closest\n",
      "│       ├── place_id\n",
      "│       ├── name\n",
      "│       ├── rating\n",
      "│       ├── num_ratings\n",
      "│       ├── vicinity\n",
      "│       ├── location\n",
      "│       │   ├── lat\n",
      "│       │   └── lng\n",
      "│       ├── reviews\n",
      "│       │   └── ITEM_0_OF_A_LIST\n",
      "│       │       ├── author_name\n",
      "│       │       ├── author_url\n",
      "│       │       ├── language\n",
      "│       │       ├── original_language\n",
      "│       │       ├── profile_photo_url\n",
      "│       │       ├── rating\n",
      "│       │       ├── relative_time_description\n",
      "│       │       ├── text\n",
      "│       │       ├── time\n",
      "│       │       └── translated\n",
      "│       ├── num_reviews\n",
      "│       ├── url\n",
      "│       └── travel_time\n",
      "├── public_transportation\n",
      "│   ├── data\n",
      "│   │   └── ITEM_0_OF_A_LIST\n",
      "│   │       ├── place_id\n",
      "│   │       ├── name\n",
      "│   │       ├── rating\n",
      "│   │       ├── num_ratings\n",
      "│   │       ├── vicinity\n",
      "│   │       ├── location\n",
      "│   │       │   ├── lat\n",
      "│   │       │   └── lng\n",
      "│   │       ├── reviews\n",
      "│   │       │   └── ITEM_0_OF_A_LIST\n",
      "│   │       │       ├── author_name\n",
      "│   │       │       ├── author_url\n",
      "│   │       │       ├── language\n",
      "│   │       │       ├── original_language\n",
      "│   │       │       ├── profile_photo_url\n",
      "│   │       │       ├── rating\n",
      "│   │       │       ├── relative_time_description\n",
      "│   │       │       ├── text\n",
      "│   │       │       ├── time\n",
      "│   │       │       └── translated\n",
      "│   │       ├── num_reviews\n",
      "│   │       ├── url\n",
      "│   │       └── travel_time\n",
      "│   ├── count\n",
      "│   ├── average_rating\n",
      "│   └── closest\n",
      "│       ├── place_id\n",
      "│       ├── name\n",
      "│       ├── rating\n",
      "│       ├── num_ratings\n",
      "│       ├── vicinity\n",
      "│       ├── location\n",
      "│       │   ├── lat\n",
      "│       │   └── lng\n",
      "│       ├── reviews\n",
      "│       ├── num_reviews\n",
      "│       ├── url\n",
      "│       └── travel_time\n",
      "├── gym_fitness\n",
      "│   ├── data\n",
      "│   │   └── ITEM_0_OF_A_LIST\n",
      "│   │       ├── place_id\n",
      "│   │       ├── name\n",
      "│   │       ├── rating\n",
      "│   │       ├── num_ratings\n",
      "│   │       ├── vicinity\n",
      "│   │       ├── location\n",
      "│   │       │   ├── lat\n",
      "│   │       │   └── lng\n",
      "│   │       ├── reviews\n",
      "│   │       │   └── ITEM_0_OF_A_LIST\n",
      "│   │       │       ├── author_name\n",
      "│   │       │       ├── author_url\n",
      "│   │       │       ├── language\n",
      "│   │       │       ├── original_language\n",
      "│   │       │       ├── profile_photo_url\n",
      "│   │       │       ├── rating\n",
      "│   │       │       ├── relative_time_description\n",
      "│   │       │       ├── text\n",
      "│   │       │       ├── time\n",
      "│   │       │       └── translated\n",
      "│   │       ├── num_reviews\n",
      "│   │       ├── url\n",
      "│   │       └── travel_time\n",
      "│   ├── count\n",
      "│   ├── average_rating\n",
      "│   └── closest\n",
      "│       ├── place_id\n",
      "│       ├── name\n",
      "│       ├── rating\n",
      "│       ├── num_ratings\n",
      "│       ├── vicinity\n",
      "│       ├── location\n",
      "│       │   ├── lat\n",
      "│       │   └── lng\n",
      "│       ├── reviews\n",
      "│       │   └── ITEM_0_OF_A_LIST\n",
      "│       │       ├── author_name\n",
      "│       │       ├── author_url\n",
      "│       │       ├── language\n",
      "│       │       ├── original_language\n",
      "│       │       ├── profile_photo_url\n",
      "│       │       ├── rating\n",
      "│       │       ├── relative_time_description\n",
      "│       │       ├── text\n",
      "│       │       ├── time\n",
      "│       │       └── translated\n",
      "│       ├── num_reviews\n",
      "│       ├── url\n",
      "│       └── travel_time\n",
      "├── grocery_stores_supermarkets\n",
      "│   ├── data\n",
      "│   │   └── ITEM_0_OF_A_LIST\n",
      "│   │       ├── place_id\n",
      "│   │       ├── name\n",
      "│   │       ├── rating\n",
      "│   │       ├── num_ratings\n",
      "│   │       ├── vicinity\n",
      "│   │       ├── location\n",
      "│   │       │   ├── lat\n",
      "│   │       │   └── lng\n",
      "│   │       ├── reviews\n",
      "│   │       │   └── ITEM_0_OF_A_LIST\n",
      "│   │       │       ├── author_name\n",
      "│   │       │       ├── author_url\n",
      "│   │       │       ├── language\n",
      "│   │       │       ├── original_language\n",
      "│   │       │       ├── profile_photo_url\n",
      "│   │       │       ├── rating\n",
      "│   │       │       ├── relative_time_description\n",
      "│   │       │       ├── text\n",
      "│   │       │       ├── time\n",
      "│   │       │       └── translated\n",
      "│   │       ├── num_reviews\n",
      "│   │       ├── url\n",
      "│   │       └── travel_time\n",
      "│   ├── count\n",
      "│   ├── average_rating\n",
      "│   └── closest\n",
      "│       ├── place_id\n",
      "│       ├── name\n",
      "│       ├── rating\n",
      "│       ├── num_ratings\n",
      "│       ├── vicinity\n",
      "│       ├── location\n",
      "│       │   ├── lat\n",
      "│       │   └── lng\n",
      "│       ├── reviews\n",
      "│       │   └── ITEM_0_OF_A_LIST\n",
      "│       │       ├── author_name\n",
      "│       │       ├── author_url\n",
      "│       │       ├── language\n",
      "│       │       ├── original_language\n",
      "│       │       ├── profile_photo_url\n",
      "│       │       ├── rating\n",
      "│       │       ├── relative_time_description\n",
      "│       │       ├── text\n",
      "│       │       ├── time\n",
      "│       │       └── translated\n",
      "│       ├── num_reviews\n",
      "│       ├── url\n",
      "│       └── travel_time\n",
      "├── gas_ev_charging\n",
      "│   ├── data\n",
      "│   │   └── ITEM_0_OF_A_LIST\n",
      "│   │       ├── place_id\n",
      "│   │       ├── name\n",
      "│   │       ├── rating\n",
      "│   │       ├── num_ratings\n",
      "│   │       ├── vicinity\n",
      "│   │       ├── location\n",
      "│   │       │   ├── lat\n",
      "│   │       │   └── lng\n",
      "│   │       ├── reviews\n",
      "│   │       │   └── ITEM_0_OF_A_LIST\n",
      "│   │       │       ├── author_name\n",
      "│   │       │       ├── author_url\n",
      "│   │       │       ├── language\n",
      "│   │       │       ├── original_language\n",
      "│   │       │       ├── profile_photo_url\n",
      "│   │       │       ├── rating\n",
      "│   │       │       ├── relative_time_description\n",
      "│   │       │       ├── text\n",
      "│   │       │       ├── time\n",
      "│   │       │       └── translated\n",
      "│   │       ├── num_reviews\n",
      "│   │       ├── url\n",
      "│   │       └── travel_time\n",
      "│   ├── count\n",
      "│   ├── average_rating\n",
      "│   └── closest\n",
      "│       ├── place_id\n",
      "│       ├── name\n",
      "│       ├── rating\n",
      "│       ├── num_ratings\n",
      "│       ├── vicinity\n",
      "│       ├── location\n",
      "│       │   ├── lat\n",
      "│       │   └── lng\n",
      "│       ├── reviews\n",
      "│       │   └── ITEM_0_OF_A_LIST\n",
      "│       │       ├── author_name\n",
      "│       │       ├── author_url\n",
      "│       │       ├── language\n",
      "│       │       ├── original_language\n",
      "│       │       ├── profile_photo_url\n",
      "│       │       ├── rating\n",
      "│       │       ├── relative_time_description\n",
      "│       │       ├── text\n",
      "│       │       ├── time\n",
      "│       │       └── translated\n",
      "│       ├── num_reviews\n",
      "│       ├── url\n",
      "│       └── travel_time\n",
      "└── schools\n",
      "    ├── data\n",
      "    │   └── ITEM_0_OF_A_LIST\n",
      "    │       ├── place_id\n",
      "    │       ├── name\n",
      "    │       ├── rating\n",
      "    │       ├── num_ratings\n",
      "    │       ├── vicinity\n",
      "    │       ├── location\n",
      "    │       │   ├── lat\n",
      "    │       │   └── lng\n",
      "    │       ├── reviews\n",
      "    │       │   └── ITEM_0_OF_A_LIST\n",
      "    │       │       ├── author_name\n",
      "    │       │       ├── author_url\n",
      "    │       │       ├── language\n",
      "    │       │       ├── original_language\n",
      "    │       │       ├── profile_photo_url\n",
      "    │       │       ├── rating\n",
      "    │       │       ├── relative_time_description\n",
      "    │       │       ├── text\n",
      "    │       │       ├── time\n",
      "    │       │       └── translated\n",
      "    │       ├── num_reviews\n",
      "    │       ├── url\n",
      "    │       └── travel_time\n",
      "    ├── count\n",
      "    ├── average_rating\n",
      "    └── closest\n",
      "        ├── place_id\n",
      "        ├── name\n",
      "        ├── rating\n",
      "        ├── num_ratings\n",
      "        ├── vicinity\n",
      "        ├── location\n",
      "        │   ├── lat\n",
      "        │   └── lng\n",
      "        ├── reviews\n",
      "        │   └── ITEM_0_OF_A_LIST\n",
      "        │       ├── author_name\n",
      "        │       ├── author_url\n",
      "        │       ├── language\n",
      "        │       ├── original_language\n",
      "        │       ├── profile_photo_url\n",
      "        │       ├── rating\n",
      "        │       ├── relative_time_description\n",
      "        │       ├── text\n",
      "        │       ├── time\n",
      "        │       └── translated\n",
      "        ├── num_reviews\n",
      "        ├── url\n",
      "        └── travel_time\n",
      "isochrone\n",
      "├── type\n",
      "├── bbox\n",
      "│   └── ITEM_0_OF_A_LIST\n",
      "├── features\n",
      "│   └── ITEM_0_OF_A_LIST\n",
      "│       ├── type\n",
      "│       ├── properties\n",
      "│       │   ├── group_index\n",
      "│       │   ├── value\n",
      "│       │   └── center\n",
      "│       │       └── ITEM_0_OF_A_LIST\n",
      "│       └── geometry\n",
      "│           ├── coordinates\n",
      "│           │   └── ITEM_0_OF_A_LIST\n",
      "│           │       └── ITEM_0_OF_A_LIST\n",
      "│           │           └── ITEM_0_OF_A_LIST\n",
      "│           └── type\n",
      "└── metadata\n",
      "    ├── attribution\n",
      "    ├── service\n",
      "    ├── timestamp\n",
      "    ├── query\n",
      "    │   ├── profile\n",
      "    │   ├── locations\n",
      "    │   │   └── ITEM_0_OF_A_LIST\n",
      "    │   │       └── ITEM_0_OF_A_LIST\n",
      "    │   ├── range\n",
      "    │   │   └── ITEM_0_OF_A_LIST\n",
      "    │   └── range_type\n",
      "    └── engine\n",
      "        ├── version\n",
      "        ├── build_date\n",
      "        └── graph_date\n",
      "population\n",
      "├── total_pop\n",
      "├── Radius_meters\n",
      "└── STATPOP_squares\n",
      "    └── ITEM_0_OF_A_LIST\n",
      "        ├── B22BTOT\n",
      "        ├── E_wgs84\n",
      "        └── N_wgs84\n",
      "text_description\n",
      "├── Lex Fridman\n",
      "│   ├── Style\n",
      "│   └── text\n",
      "├── Real estate agent\n",
      "│   ├── Style\n",
      "│   └── text\n",
      "└── neutral without emphasis\n",
      "    ├── Style\n",
      "    └── text\n"
     ]
    }
   ],
   "source": [
    "from display_dict_structure import render_tree\n",
    "\n",
    "aaaa = load_data(GOOGLE_FILES[5])\n",
    "render_tree(aaaa)"
   ]
  },
  {
   "cell_type": "markdown",
   "metadata": {},
   "source": [
    "# Get facility data into dataframe"
   ]
  },
  {
   "cell_type": "code",
   "execution_count": 11,
   "metadata": {},
   "outputs": [],
   "source": [
    "def get_facility_data(data):\n",
    "    facility_data = []\n",
    "    for facility_type in data['facilities'].keys():\n",
    "        for facility_i in data['facilities'][facility_type]['data']:\n",
    "            facility_data.append({\n",
    "                'facility_type': facility_type,\n",
    "                'name': facility_i['name'],\n",
    "                'lat': facility_i['location']['lat'],\n",
    "                'lon': facility_i['location']['lng'],\n",
    "                # 'address': facility_i['vicinity'],\n",
    "                # 'rating': facility_i['rating'],\n",
    "                # 'num_ratings': facility_i['num_ratings'],\n",
    "                # 'url': facility_i['url'],\n",
    "                # 'travel_time': facility_i['travel_time']\n",
    "            })\n",
    "    df = pd.DataFrame(facility_data)\n",
    "    return df"
   ]
  },
  {
   "cell_type": "markdown",
   "metadata": {},
   "source": [
    "# Get isochrone data into dataframe"
   ]
  },
  {
   "cell_type": "code",
   "execution_count": 12,
   "metadata": {},
   "outputs": [],
   "source": [
    "def get_isochrone_data(data):\n",
    "    isochrone_data = []\n",
    "    for isochrone in range(len(data['isochrone']['features'])):\n",
    "        for coord in range(len(data['isochrone']['features'][isochrone]['geometry']['coordinates'][0])): #(\"[0]\" at the end is necessary since there are two [] in excess!)\n",
    "            isochrone_data.append({\n",
    "                'travel_time': data['isochrone']['features'][isochrone]['properties']['value'],\n",
    "                'lat': data['isochrone']['features'][isochrone]['geometry']['coordinates'][0][coord][1],\n",
    "                'lon': data['isochrone']['features'][isochrone]['geometry']['coordinates'][0][coord][0],\n",
    "            })\n",
    "    df = pd.DataFrame(isochrone_data)\n",
    "    return df"
   ]
  },
  {
   "cell_type": "markdown",
   "metadata": {},
   "source": [
    "# Create empty base map"
   ]
  },
  {
   "cell_type": "code",
   "execution_count": 13,
   "metadata": {},
   "outputs": [],
   "source": [
    "def create_base_map(FILE, width=800, height=600, zoom=13):\n",
    "\n",
    "    # coords of original address:\n",
    "    LAT = FILE['original_address']['coordinates'][0]\n",
    "    LON = FILE['original_address']['coordinates'][1]\n",
    "\n",
    "    # create base map \n",
    "    base_map = go.Figure(go.Scattermapbox())\n",
    "    \n",
    "    # Set up the layout for the base map\n",
    "    base_map.update_layout(\n",
    "        mapbox_style=\"open-street-map\",\n",
    "        mapbox_zoom=zoom, \n",
    "        mapbox_center={\"lat\": LAT, \"lon\": LON},\n",
    "        width=width,\n",
    "        height=height,\n",
    "        margin=dict(r=0, t=0, l=0, b=0), \n",
    "        showlegend=False\n",
    "    )\n",
    "    return base_map"
   ]
  },
  {
   "cell_type": "markdown",
   "metadata": {},
   "source": [
    "# Create layer \"Original address\""
   ]
  },
  {
   "cell_type": "code",
   "execution_count": 14,
   "metadata": {},
   "outputs": [],
   "source": [
    "def add_original_address(base_map, FILE):\n",
    "\n",
    "    # coords of original address:\n",
    "    LAT = FILE['original_address']['coordinates'][0]\n",
    "    LON = FILE['original_address']['coordinates'][1]\n",
    "\n",
    "    # create layer with original adress.\n",
    "    address_layer = go.Scattermapbox(\n",
    "        lat=pd.Series(LAT),  \n",
    "        lon=pd.Series(LON),  \n",
    "        mode='markers', \n",
    "        marker=dict(size=20, color='white', opacity= 1), \n",
    "        text = FILE['original_address']['address'],\n",
    "        hoverinfo='text',\n",
    "        showlegend=False\n",
    "    )\n",
    "    # add the layer on the base map\n",
    "    base_map.add_trace(address_layer)\n",
    "    base_map.update_layout( margin=dict(r=0, t=0, l=0, b=0), showlegend=False)\n",
    "\n",
    "    return base_map"
   ]
  },
  {
   "cell_type": "markdown",
   "metadata": {},
   "source": [
    "# Create layer \"Places\""
   ]
  },
  {
   "cell_type": "code",
   "execution_count": 15,
   "metadata": {},
   "outputs": [],
   "source": [
    "def add_places(base_map, FILE, marker_size=10, marker_color='black' ):\n",
    "    # format data\n",
    "    neighborhood = get_facility_data(FILE)\n",
    "    # define the text to be dislayed:\n",
    "    neighborhood['hover_text'] = neighborhood.apply(lambda row: f\"<b>{row['name']}</b><br><i>{row['facility_type']}</i><br>\", axis=1)\n",
    "    # define different colors for each of the facility type\n",
    "    unique_facilities = neighborhood['facility_type'].unique()\n",
    "    \n",
    "    # create the layer:\n",
    "    places_layer = go.Scattermapbox(\n",
    "    lat=neighborhood['lat'],  \n",
    "    lon=neighborhood['lon'],  \n",
    "    mode='markers', \n",
    "    marker=dict(size=marker_size,  color=marker_color, opacity= 1), \n",
    "    text= neighborhood['hover_text'],\n",
    "    hoverinfo='text',\n",
    "    hovertemplate='%{text}<extra></extra>'  ,\n",
    "    showlegend=False \n",
    "    )\n",
    "    # add the layer on the base map\n",
    "    base_map.add_trace(places_layer)\n",
    "    base_map.update_layout( margin=dict(r=0, t=0, l=0, b=0), showlegend=False)\n",
    "    \n",
    "    return base_map"
   ]
  },
  {
   "cell_type": "markdown",
   "metadata": {},
   "source": [
    "# Create layer \"Isochrone\"\n"
   ]
  },
  {
   "cell_type": "code",
   "execution_count": 16,
   "metadata": {},
   "outputs": [],
   "source": [
    "def add_isochrone(base_map, FILE):\n",
    "    # format data\n",
    "    df = get_isochrone_data(FILE)\n",
    "\n",
    "    for travel_time in df['travel_time'].unique():\n",
    "        df_filtered = df[df['travel_time']==travel_time] \n",
    "        # create the layer:\n",
    "        new_layer = go.Scattermapbox(\n",
    "            lat=df_filtered['lat'],  \n",
    "            lon=df_filtered['lon'],  \n",
    "            mode='lines', # no markers\n",
    "            line=dict(width=1, color='rgba(10,80,50,1)'),  \n",
    "            fill='toself', \n",
    "            fillcolor='rgba(10,80,50,0.1)',  \n",
    "            showlegend = False,\n",
    "            text= str(travel_time/60) + 'min. walking',\n",
    "            hoverinfo='text'\n",
    "            )\n",
    "        base_map.add_trace(new_layer)\n",
    "        \n",
    "    base_map.update_layout( margin=dict(r=0, t=0, l=0, b=0), showlegend=False)\n",
    "\n",
    "    return base_map"
   ]
  },
  {
   "cell_type": "markdown",
   "metadata": {},
   "source": [
    "# Plot maps"
   ]
  },
  {
   "cell_type": "markdown",
   "metadata": {},
   "source": [
    "### 8004 Zürich, Werdgartengasse 4"
   ]
  },
  {
   "cell_type": "code",
   "execution_count": 17,
   "metadata": {},
   "outputs": [
    {
     "name": "stdout",
     "output_type": "stream",
     "text": [
      "8004 Zürich, Werdgartengasse 4\n"
     ]
    },
    {
     "data": {
      "application/vnd.plotly.v1+json": {
       "config": {
        "plotlyServerURL": "https://plot.ly"
       },
       "data": [
        {
         "type": "scattermapbox"
        },
        {
         "fill": "toself",
         "fillcolor": "rgba(10,80,50,0.1)",
         "hoverinfo": "text",
         "lat": [
          47.370571,
          47.370183,
          47.369923,
          47.369475,
          47.369446,
          47.369476,
          47.369775,
          47.371224,
          47.371502,
          47.372038,
          47.372559,
          47.372665,
          47.37269,
          47.3727,
          47.372675,
          47.37082,
          47.370571
         ],
         "line": {
          "color": "rgba(10,80,50,1)",
          "width": 1
         },
         "lon": [
          8.524168,
          8.524235,
          8.524484,
          8.525599,
          8.525857,
          8.528416,
          8.528616,
          8.528689,
          8.528622,
          8.528074,
          8.52724,
          8.526745,
          8.525476,
          8.525261,
          8.525194,
          8.524173,
          8.524168
         ],
         "mode": "lines",
         "showlegend": false,
         "text": "3.0min. walking",
         "type": "scattermapbox"
        },
        {
         "fill": "toself",
         "fillcolor": "rgba(10,80,50,0.1)",
         "hoverinfo": "text",
         "lat": [
          47.3707,
          47.368961,
          47.368872,
          47.36881,
          47.368154,
          47.36856,
          47.36863,
          47.368694,
          47.371129,
          47.371133,
          47.371284,
          47.371383,
          47.372576,
          47.373461,
          47.373588,
          47.373768,
          47.373778,
          47.373826,
          47.373774,
          47.373312,
          47.372535,
          47.372052,
          47.371758,
          47.371415,
          47.3707
         ],
         "line": {
          "color": "rgba(10,80,50,1)",
          "width": 1
         },
         "lon": [
          8.522261,
          8.522748,
          8.522851,
          8.52293,
          8.524572,
          8.528744,
          8.52912,
          8.529195,
          8.530722,
          8.530724,
          8.530687,
          8.53062,
          8.529691,
          8.528601,
          8.527759,
          8.526119,
          8.525997,
          8.524514,
          8.524197,
          8.523787,
          8.523148,
          8.522757,
          8.52255,
          8.522384,
          8.522261
         ],
         "mode": "lines",
         "showlegend": false,
         "text": "5.0min. walking",
         "type": "scattermapbox"
        },
        {
         "fill": "toself",
         "fillcolor": "rgba(10,80,50,0.1)",
         "hoverinfo": "text",
         "lat": [
          47.370169,
          47.369835,
          47.36799,
          47.367377,
          47.367151,
          47.367116,
          47.367143,
          47.367505,
          47.367306,
          47.367599,
          47.37017,
          47.370483,
          47.370806,
          47.37312,
          47.373351,
          47.374728,
          47.375036,
          47.375167,
          47.375085,
          47.374446,
          47.373153,
          47.372857,
          47.370169
         ],
         "line": {
          "color": "rgba(10,80,50,1)",
          "width": 1
         },
         "lon": [
          8.520318,
          8.520334,
          8.521935,
          8.52295,
          8.523322,
          8.523562,
          8.523801,
          8.525967,
          8.530519,
          8.530729,
          8.532518,
          8.532696,
          8.532599,
          8.531529,
          8.531253,
          8.529056,
          8.527531,
          8.524656,
          8.523748,
          8.522509,
          8.520874,
          8.520669,
          8.520318
         ],
         "mode": "lines",
         "showlegend": false,
         "text": "7.0min. walking",
         "type": "scattermapbox"
        },
        {
         "fill": "toself",
         "fillcolor": "rgba(10,80,50,0.1)",
         "hoverinfo": "text",
         "lat": [
          47.370691,
          47.370406,
          47.369865,
          47.368428,
          47.366538,
          47.365262,
          47.365221,
          47.365072,
          47.365164,
          47.365699,
          47.365862,
          47.365832,
          47.365828,
          47.365775,
          47.365781,
          47.3691,
          47.369331,
          47.369762,
          47.370277,
          47.370323,
          47.370526,
          47.370758,
          47.37275,
          47.372983,
          47.374954,
          47.375215,
          47.376521,
          47.377162,
          47.377164,
          47.37716,
          47.377006,
          47.376707,
          47.376493,
          47.376459,
          47.37604,
          47.375197,
          47.375065,
          47.37444,
          47.374101,
          47.370691
         ],
         "line": {
          "color": "rgba(10,80,50,1)",
          "width": 1
         },
         "lon": [
          8.517415,
          8.51748,
          8.517608,
          8.518196,
          8.519724,
          8.521441,
          8.521707,
          8.523178,
          8.524086,
          8.525242,
          8.530624,
          8.531023,
          8.531127,
          8.532459,
          8.532464,
          8.534977,
          8.535091,
          8.535256,
          8.535404,
          8.535413,
          8.535428,
          8.535418,
          8.534494,
          8.534375,
          8.533248,
          8.533,
          8.529953,
          8.525995,
          8.525918,
          8.525869,
          8.52477,
          8.523322,
          8.522423,
          8.522297,
          8.5209,
          8.519585,
          8.519399,
          8.518766,
          8.518577,
          8.517415
         ],
         "mode": "lines",
         "showlegend": false,
         "text": "10.0min. walking",
         "type": "scattermapbox"
        },
        {
         "fill": "toself",
         "fillcolor": "rgba(10,80,50,0.1)",
         "hoverinfo": "text",
         "lat": [
          47.367599,
          47.367392,
          47.363309,
          47.363285,
          47.362938,
          47.363523,
          47.363788,
          47.363692,
          47.363685,
          47.36385,
          47.364168,
          47.368358,
          47.369231,
          47.370072,
          47.370987,
          47.372491,
          47.373281,
          47.373473,
          47.37656,
          47.37682,
          47.376897,
          47.378162,
          47.379229,
          47.379228,
          47.379189,
          47.379076,
          47.378743,
          47.37853,
          47.377575,
          47.376841,
          47.375955,
          47.375816,
          47.375633,
          47.370286,
          47.367599
         ],
         "line": {
          "color": "rgba(10,80,50,1)",
          "width": 1
         },
         "lon": [
          8.515397,
          8.515604,
          8.519841,
          8.51991,
          8.522096,
          8.525221,
          8.531126,
          8.531597,
          8.53333,
          8.53365,
          8.533924,
          8.537714,
          8.537912,
          8.53802,
          8.53801,
          8.53769,
          8.53739,
          8.537302,
          8.535319,
          8.535072,
          8.534959,
          8.531715,
          8.527505,
          8.527252,
          8.52691,
          8.52626,
          8.524252,
          8.523133,
          8.519431,
          8.517952,
          8.51644,
          8.516264,
          8.516112,
          8.514138,
          8.515397
         ],
         "mode": "lines",
         "showlegend": false,
         "text": "13.0min. walking",
         "type": "scattermapbox"
        },
        {
         "fill": "toself",
         "fillcolor": "rgba(10,80,50,0.1)",
         "hoverinfo": "text",
         "lat": [
          47.375963,
          47.370354,
          47.370278,
          47.36992,
          47.369849,
          47.366354,
          47.366335,
          47.362488,
          47.362071,
          47.362064,
          47.361473,
          47.361544,
          47.361707,
          47.362218,
          47.362256,
          47.362115,
          47.362207,
          47.362423,
          47.363181,
          47.367493,
          47.367581,
          47.36786,
          47.369533,
          47.371019,
          47.371368,
          47.372204,
          47.373982,
          47.374146,
          47.376993,
          47.37783,
          47.378107,
          47.37923,
          47.380534,
          47.380541,
          47.380581,
          47.380554,
          47.380492,
          47.379591,
          47.378516,
          47.376794,
          47.376577,
          47.37625,
          47.375963
         ],
         "line": {
          "color": "rgba(10,80,50,1)",
          "width": 1
         },
         "lon": [
          8.514179,
          8.512146,
          8.512116,
          8.512157,
          8.512188,
          8.513945,
          8.513973,
          8.518131,
          8.518393,
          8.51841,
          8.522526,
          8.522879,
          8.523474,
          8.525828,
          8.531202,
          8.533652,
          8.534,
          8.534321,
          8.535204,
          8.539166,
          8.539232,
          8.539326,
          8.539788,
          8.540127,
          8.540073,
          8.539814,
          8.539025,
          8.538938,
          8.537083,
          8.536538,
          8.536308,
          8.533264,
          8.528403,
          8.528371,
          8.527951,
          8.527528,
          8.526587,
          8.521936,
          8.517633,
          8.514755,
          8.514385,
          8.514234,
          8.514179
         ],
         "mode": "lines",
         "showlegend": false,
         "text": "15.0min. walking",
         "type": "scattermapbox"
        },
        {
         "hoverinfo": "text",
         "hovertemplate": "%{text}<extra></extra>",
         "lat": [
          47.37308059999999,
          47.372212,
          47.37325389999999,
          47.3697955,
          47.37308059999999,
          47.3729916,
          47.3746201,
          47.3702558,
          47.37503,
          47.3738896,
          47.3745917,
          47.372212,
          47.37325389999999,
          47.3707089,
          47.37308059999999,
          47.3719693,
          47.3707089,
          47.37308059999999,
          47.3719693,
          47.3719903,
          47.36779,
          47.3762164,
          47.3707089,
          47.37308059999999,
          47.3719693,
          47.372326,
          47.3714016,
          47.372238,
          47.3704197,
          47.3742982,
          47.3745026,
          47.37243050000001,
          47.3715058,
          47.3740496,
          47.3746236,
          47.3700092,
          47.3762083,
          47.372326,
          47.37241530000001,
          47.37135370000001,
          47.3725532,
          47.3712255,
          47.3715757,
          47.37128669999999,
          47.371387,
          47.37123709999999,
          47.37124590000001,
          47.3714016,
          47.3719903,
          47.37328979999999,
          47.373978,
          47.3735471,
          47.3741513,
          47.3707089,
          47.37308059999999,
          47.3719693,
          47.37153920000001,
          47.3739343,
          47.3713613,
          47.3732194,
          47.36949399999999,
          47.3744613,
          47.3744452,
          47.3698542,
          47.3760751,
          47.3760751,
          47.3722368,
          47.3707089,
          47.37308059999999,
          47.3719693,
          47.3713653,
          47.37285110000001,
          47.3734959,
          47.3744557,
          47.3719407,
          47.3748794,
          47.3700773,
          47.376115,
          47.3709277,
          47.3734124,
          47.37494119999999,
          47.3728691,
          47.3707089,
          47.37308059999999,
          47.3719693,
          47.3690952,
          47.3687509,
          47.3703027,
          47.3701106,
          47.3687609,
          47.36853989999999
         ],
         "lon": [
          8.5316546,
          8.528919,
          8.5327505,
          8.5336388,
          8.5316546,
          8.5290354,
          8.529057599999998,
          8.5328951,
          8.528168000000003,
          8.526570099999999,
          8.5321194,
          8.528919,
          8.5327505,
          8.5281015,
          8.5316546,
          8.520916699999999,
          8.5281015,
          8.5316546,
          8.520916699999999,
          8.5231306,
          8.522919000000002,
          8.525981699999999,
          8.5281015,
          8.5316546,
          8.520916699999999,
          8.526844999999998,
          8.523633199999999,
          8.531722,
          8.532638499999997,
          8.5210954,
          8.5210942,
          8.5267232,
          8.524199,
          8.525740400000002,
          8.5243967,
          8.519186399999999,
          8.525730700000002,
          8.526844999999998,
          8.526629,
          8.5244849,
          8.5268935,
          8.5240384,
          8.524050899999999,
          8.5239234,
          8.5237481,
          8.5237001,
          8.523698000000001,
          8.523633199999999,
          8.5231306,
          8.5292677,
          8.525884,
          8.529283800000002,
          8.525621899999999,
          8.5281015,
          8.5316546,
          8.520916699999999,
          8.522427100000002,
          8.527239800000002,
          8.5225566,
          8.530144199999999,
          8.5312725,
          8.5238297,
          8.523511599999999,
          8.533562999999997,
          8.524053799999999,
          8.524053799999999,
          8.519650999999998,
          8.5281015,
          8.5316546,
          8.520916699999999,
          8.525133499999999,
          8.529626100000003,
          8.530623900000002,
          8.524042799999998,
          8.5204601,
          8.523428299999999,
          8.520128399999999,
          8.5242097,
          8.522505400000002,
          8.528401100000002,
          8.5230714,
          8.5211221,
          8.5281015,
          8.5316546,
          8.520916699999999,
          8.5226354,
          8.5309265,
          8.5270797,
          8.527352299999999,
          8.5309294,
          8.521655599999999
         ],
         "marker": {
          "color": "red",
          "opacity": 1,
          "size": 15
         },
         "mode": "markers",
         "showlegend": false,
         "text": [
          "<b>Helvetia</b><br><i>bars</i><br>",
          "<b>Certo</b><br><i>bars</i><br>",
          "<b>Casino Zürich</b><br><i>bars</i><br>",
          "<b>2. Akt Sportsbar Zürich</b><br><i>bars</i><br>",
          "<b>Helvetia</b><br><i>restaurants</i><br>",
          "<b>Masala</b><br><i>restaurants</i><br>",
          "<b>Don Leone</b><br><i>restaurants</i><br>",
          "<b>Nagasui Restaurant & Take Away</b><br><i>restaurants</i><br>",
          "<b>Fribourger Fondue Stübli</b><br><i>restaurants</i><br>",
          "<b>Restaurant Le Cèdre - Badenerstrasse</b><br><i>restaurants</i><br>",
          "<b>Bernerhof</b><br><i>restaurants</i><br>",
          "<b>Certo</b><br><i>restaurants</i><br>",
          "<b>Casino Zürich</b><br><i>restaurants</i><br>",
          "<b>Saint Georges Hotel</b><br><i>kindergarten</i><br>",
          "<b>Helvetia</b><br><i>kindergarten</i><br>",
          "<b>Synagoge Agudas Achim</b><br><i>kindergarten</i><br>",
          "<b>Saint Georges Hotel</b><br><i>kindergarten</i><br>",
          "<b>Helvetia</b><br><i>kindergarten</i><br>",
          "<b>Synagoge Agudas Achim</b><br><i>kindergarten</i><br>",
          "<b>Bahnhof Wiedikon</b><br><i>public_transportation</i><br>",
          "<b>Hertersteg</b><br><i>public_transportation</i><br>",
          "<b>Helvetiaplatz</b><br><i>public_transportation</i><br>",
          "<b>Saint Georges Hotel</b><br><i>public_transportation</i><br>",
          "<b>Helvetia</b><br><i>public_transportation</i><br>",
          "<b>Synagoge Agudas Achim</b><br><i>public_transportation</i><br>",
          "<b>Werd</b><br><i>public_transportation</i><br>",
          "<b>Zürich Wiedikon</b><br><i>public_transportation</i><br>",
          "<b>Zürich Selnau</b><br><i>public_transportation</i><br>",
          "<b>Zurich Mainstation</b><br><i>public_transportation</i><br>",
          "<b>Zürich,Kalkbreite/Bhf.Wiedikon</b><br><i>public_transportation</i><br>",
          "<b>Kalkbreite/Bhf. Wiedikon</b><br><i>public_transportation</i><br>",
          "<b>Werd</b><br><i>public_transportation</i><br>",
          "<b>Bahnhof Wiedikon</b><br><i>public_transportation</i><br>",
          "<b>Bezirksgebäude</b><br><i>public_transportation</i><br>",
          "<b>Kernstrasse</b><br><i>public_transportation</i><br>",
          "<b>Schmiede Wiedikon</b><br><i>public_transportation</i><br>",
          "<b>Helvetiaplatz</b><br><i>public_transportation</i><br>",
          "<b>Werd</b><br><i>public_transportation</i><br>",
          "<b>Werd</b><br><i>public_transportation</i><br>",
          "<b>Bahnhof Wiedikon</b><br><i>public_transportation</i><br>",
          "<b>Werd</b><br><i>public_transportation</i><br>",
          "<b>Bahnhof Wiedikon</b><br><i>public_transportation</i><br>",
          "<b>Bahnhof Wiedikon</b><br><i>public_transportation</i><br>",
          "<b>Bahnhof Wiedikon</b><br><i>public_transportation</i><br>",
          "<b>Bahnhof Wiedikon</b><br><i>public_transportation</i><br>",
          "<b>Bahnhof Wiedikon</b><br><i>public_transportation</i><br>",
          "<b>Bahnhof Wiedikon</b><br><i>public_transportation</i><br>",
          "<b>Zürich Wiedikon</b><br><i>public_transportation</i><br>",
          "<b>Bahnhof Wiedikon</b><br><i>public_transportation</i><br>",
          "<b>Zürich, Stauffacher</b><br><i>public_transportation</i><br>",
          "<b>Bezirksgebäude</b><br><i>public_transportation</i><br>",
          "<b>Zürich, Stauffacher</b><br><i>public_transportation</i><br>",
          "<b>Bezirksgebäude</b><br><i>public_transportation</i><br>",
          "<b>Saint Georges Hotel</b><br><i>gym_fitness</i><br>",
          "<b>Helvetia</b><br><i>gym_fitness</i><br>",
          "<b>Synagoge Agudas Achim</b><br><i>gym_fitness</i><br>",
          "<b>Medbase Zurich Wiedikon</b><br><i>gym_fitness</i><br>",
          "<b>Monika Bassi</b><br><i>gym_fitness</i><br>",
          "<b>HT Health Training AG</b><br><i>gym_fitness</i><br>",
          "<b>Activ Fitness Zürich Stauffacher</b><br><i>gym_fitness</i><br>",
          "<b>Mrs. Maria Hobi</b><br><i>gym_fitness</i><br>",
          "<b>Booster Transform - Studio Forum</b><br><i>gym_fitness</i><br>",
          "<b>Activ Fitness Zürich Forum</b><br><i>gym_fitness</i><br>",
          "<b>Goodtraining, Heshiki & Co</b><br><i>gym_fitness</i><br>",
          "<b>Naam Yoga Zürich @ Gobinde Yoga Studio Kreis 4</b><br><i>gym_fitness</i><br>",
          "<b>Gobinde Yoga</b><br><i>gym_fitness</i><br>",
          "<b>Raum für Yoga</b><br><i>gym_fitness</i><br>",
          "<b>Saint Georges Hotel</b><br><i>grocery_stores_supermarkets</i><br>",
          "<b>Helvetia</b><br><i>grocery_stores_supermarkets</i><br>",
          "<b>Synagoge Agudas Achim</b><br><i>grocery_stores_supermarkets</i><br>",
          "<b>Coop Pronto Shop Zürich Wiedikon</b><br><i>grocery_stores_supermarkets</i><br>",
          "<b>Denner Discount</b><br><i>grocery_stores_supermarkets</i><br>",
          "<b>Coop Supermarkt Zürich Stauffacher</b><br><i>grocery_stores_supermarkets</i><br>",
          "<b>Coop Pronto Shop Zürich Badenerstrasse 120</b><br><i>grocery_stores_supermarkets</i><br>",
          "<b>Koscher City - Kosher Supermarket</b><br><i>grocery_stores_supermarkets</i><br>",
          "<b>Denner Express</b><br><i>grocery_stores_supermarkets</i><br>",
          "<b>Migros Supermarket Zürich Schmiede Wiedikon</b><br><i>grocery_stores_supermarkets</i><br>",
          "<b>Aggarwal AG</b><br><i>grocery_stores_supermarkets</i><br>",
          "<b>Lian Hua Wiedikon GmbH</b><br><i>grocery_stores_supermarkets</i><br>",
          "<b>Coop Pronto Shop Zürich Stauffacher</b><br><i>grocery_stores_supermarkets</i><br>",
          "<b>Migros Supermarket Zürich Wengihof</b><br><i>grocery_stores_supermarkets</i><br>",
          "<b>bp</b><br><i>gas_ev_charging</i><br>",
          "<b>Saint Georges Hotel</b><br><i>gas_ev_charging</i><br>",
          "<b>Helvetia</b><br><i>gas_ev_charging</i><br>",
          "<b>Synagoge Agudas Achim</b><br><i>gas_ev_charging</i><br>",
          "<b>Schulhaus Aegerten</b><br><i>schools</i><br>",
          "<b>Zurich Business School (UIBS)</b><br><i>schools</i><br>",
          "<b>Bibi Bachtadze Group AG</b><br><i>schools</i><br>",
          "<b>Schweizerische Textilfachschule STF</b><br><i>schools</i><br>",
          "<b>European College for Liberal Studies (ECLS), Zurich</b><br><i>schools</i><br>",
          "<b>Mascha Bisping</b><br><i>schools</i><br>"
         ],
         "type": "scattermapbox"
        },
        {
         "hoverinfo": "text",
         "hovertemplate": "%{text}<extra></extra>",
         "lat": [
          47.3741673,
          47.3756046,
          47.3724091,
          47.3698304,
          47.3754357,
          47.3707577,
          47.3768022,
          47.375227,
          47.3749683,
          47.3725479,
          47.3764297,
          47.3747605,
          47.3735871,
          47.3715799,
          47.375841,
          47.3765186,
          47.3757372,
          47.3754267,
          47.3744297,
          47.3742758,
          47.377004,
          47.3761788,
          47.372591,
          47.3755383,
          47.3722553,
          47.3745768,
          47.3741237,
          47.3742488,
          47.3714333,
          47.3727548,
          47.3733124,
          47.3727639,
          47.374091,
          47.375871,
          47.3696334,
          47.3730775,
          47.3726024,
          47.3762866,
          47.3671983,
          47.3695695,
          47.3742891,
          47.3756628,
          47.3673432,
          47.372671,
          47.3756685,
          47.3761736,
          47.3739825,
          47.375039,
          47.374422,
          47.3738833,
          47.3730187,
          47.3702232,
          47.3745992,
          47.3763729,
          47.3769125,
          47.3726012,
          47.372245,
          47.3732235,
          47.371054,
          47.3709038,
          47.3720798,
          47.3731595,
          47.3729919,
          47.372707,
          47.3702331,
          47.3755766,
          47.376328,
          47.3750304,
          47.3758647,
          47.3745663,
          47.3752425,
          47.3742019,
          47.3737299,
          47.3737975,
          47.3746589,
          47.3757244,
          47.375334,
          47.3748928,
          47.3751694,
          47.3754803,
          47.3742016,
          47.3743454,
          47.3743453,
          47.3746892,
          47.3746427,
          47.3717267,
          47.372174,
          47.3760618,
          47.3662269,
          47.374456,
          47.3702244,
          47.3686567,
          47.3715144,
          47.3719093,
          47.371639,
          47.3703052,
          47.3699912,
          47.3760181,
          47.3733877,
          47.3735313,
          47.3734083,
          47.3722182,
          47.3693102,
          47.3749537,
          47.3767849,
          47.3744654,
          47.3709578,
          47.3715104,
          47.3709203,
          47.3714815,
          47.3704467,
          47.3741055,
          47.3749607,
          47.3697863,
          47.3707492,
          47.3764213,
          47.3740432,
          47.3726072,
          47.3730087,
          47.3739923,
          47.3721676,
          47.3715877,
          47.369382,
          47.3732354,
          47.3735366,
          47.3715304,
          47.371199,
          47.3687901,
          47.3716047,
          47.3697712,
          47.3737799,
          47.3759287,
          47.3729171,
          47.368721,
          47.3729175,
          47.3734505,
          47.3715683,
          47.3764992,
          47.3716297,
          47.3724559,
          47.3707964,
          47.3709215,
          47.3716984,
          47.3738604,
          47.3743152,
          47.3750593,
          47.3682789,
          47.3690248,
          47.3688238,
          47.3711266,
          47.3725201,
          47.373111,
          47.3735521,
          47.3711739,
          47.3727141,
          47.3739878,
          47.3744949,
          47.3706721,
          47.3760518,
          47.369923,
          47.3718068,
          47.3736451,
          47.3691806,
          47.3750614,
          47.3759336,
          47.3689608,
          47.3744355,
          47.3732227,
          47.3700675,
          47.3734845,
          47.3740088,
          47.3736315,
          47.3754447,
          47.3730654,
          47.37502,
          47.3728411,
          47.3713618,
          47.3728259,
          47.3750677,
          47.3696871,
          47.3708831,
          47.3745198,
          47.3676714,
          47.3725699,
          47.3729112,
          47.371977,
          47.3711393,
          47.3755309,
          47.3761577,
          47.3712738,
          47.3728411,
          47.3762565,
          47.368432,
          47.3696574,
          47.370109,
          47.3703693,
          47.3717713
         ],
         "lon": [
          8.524726,
          8.5245573,
          8.5232069,
          8.5336387,
          8.5244774,
          8.5238038,
          8.52612,
          8.5260558,
          8.5258392,
          8.5239768,
          8.5280245,
          8.5246725,
          8.5273055,
          8.5328706,
          8.5240023,
          8.5251237,
          8.5288666,
          8.5293032,
          8.5298014,
          8.5299844,
          8.5259322,
          8.5286665,
          8.5334781,
          8.529159,
          8.5203339,
          8.5203902,
          8.5200665,
          8.5209052,
          8.5285099,
          8.5326505,
          8.5326645,
          8.5333255,
          8.5188326,
          8.5294418,
          8.5334346,
          8.5316368,
          8.5259826,
          8.5270834,
          8.5229582,
          8.5333627,
          8.5218301,
          8.5249834,
          8.5200355,
          8.528216,
          8.5243755,
          8.522301,
          8.5222246,
          8.5281814,
          8.5239732,
          8.5264947,
          8.5289781,
          8.531828,
          8.5320588,
          8.5292946,
          8.5258364,
          8.5273865,
          8.5289743,
          8.5237696,
          8.5243486,
          8.5233636,
          8.5270244,
          8.5261099,
          8.5327533,
          8.519818,
          8.5328922,
          8.5271252,
          8.527878,
          8.524534,
          8.5251128,
          8.5245378,
          8.5250339,
          8.5234872,
          8.5218676,
          8.5274539,
          8.5290969,
          8.5292515,
          8.5286575,
          8.5287964,
          8.528416,
          8.5284806,
          8.5307896,
          8.5295536,
          8.5306087,
          8.5294759,
          8.5302421,
          8.5214185,
          8.5340237,
          8.5288696,
          8.5212488,
          8.5228253,
          8.5194587,
          8.5339963,
          8.5245483,
          8.525645,
          8.524892,
          8.5207971,
          8.518351,
          8.5277705,
          8.5189589,
          8.5329889,
          8.525345,
          8.5196023,
          8.5325414,
          8.5244837,
          8.526869,
          8.5207529,
          8.5196543,
          8.5274873,
          8.528323,
          8.5278588,
          8.5273814,
          8.5251017,
          8.5287161,
          8.5343368,
          8.5207807,
          8.5264559,
          8.5219682,
          8.5339208,
          8.5242929,
          8.5254278,
          8.5188077,
          8.5261787,
          8.5239033,
          8.5317044,
          8.5320042,
          8.5209454,
          8.52865,
          8.533995,
          8.5211695,
          8.5341158,
          8.5285146,
          8.5276269,
          8.5277003,
          8.5243812,
          8.5272115,
          8.5196917,
          8.5255105,
          8.5252048,
          8.5288036,
          8.523149,
          8.5230471,
          8.5220385,
          8.5197963,
          8.5279624,
          8.5290412,
          8.5296882,
          8.5204303,
          8.5225482,
          8.5310939,
          8.5261705,
          8.5246657,
          8.5322503,
          8.5297594,
          8.5236276,
          8.5270735,
          8.5258741,
          8.5212348,
          8.5318751,
          8.5262539,
          8.519793,
          8.5215988,
          8.5271357,
          8.5208532,
          8.5290181,
          8.5299677,
          8.5339315,
          8.523613,
          8.5303418,
          8.5340162,
          8.5248406,
          8.5275463,
          8.5276129,
          8.5229903,
          8.5193406,
          8.522895,
          8.5211422,
          8.5249359,
          8.5294871,
          8.5248796,
          8.5199335,
          8.5226013,
          8.5206088,
          8.5225014,
          8.5241062,
          8.5247374,
          8.5203722,
          8.5244609,
          8.5210483,
          8.5242274,
          8.5189666,
          8.5211422,
          8.526891,
          8.5202996,
          8.5314521,
          8.5274702,
          8.5265067,
          8.521378
         ],
         "marker": {
          "color": "black",
          "opacity": 1,
          "size": 10
         },
         "mode": "markers",
         "showlegend": false,
         "text": [
          "<b>Plaza Bar</b><br><i>bars</i><br>",
          "<b>Sport</b><br><i>bars</i><br>",
          "<b>Elisaburg</b><br><i>bars</i><br>",
          "<b>2. Akt</b><br><i>bars</i><br>",
          "<b>Brick</b><br><i>bars</i><br>",
          "<b>La Catedral</b><br><i>bars</i><br>",
          "<b>Kir Royal</b><br><i>bars</i><br>",
          "<b>Xenix Bar</b><br><i>bars</i><br>",
          "<b>Central</b><br><i>bars</i><br>",
          "<b>SI O NO</b><br><i>bars</i><br>",
          "<b>Egoist Cabaret Nightclub</b><br><i>bars</i><br>",
          "<b>Schwarzes Schaf</b><br><i>bars</i><br>",
          "<b>Engracia</b><br><i>bars</i><br>",
          "<b>Rimini Bar</b><br><i>bars</i><br>",
          "<b>Il Tappo</b><br><i>bars</i><br>",
          "<b>Karaoke 4 You Thai Kitchen</b><br><i>bars</i><br>",
          "<b>E.X. 4</b><br><i>bars</i><br>",
          "<b>Daniel H.</b><br><i>bars</i><br>",
          "<b>Vasco's Bar</b><br><i>bars</i><br>",
          "<b>Sherif's Bar</b><br><i>bars</i><br>",
          "<b>Leeward</b><br><i>bars</i><br>",
          "<b>Don Miguel</b><br><i>bars</i><br>",
          "<b>Bar Basso</b><br><i>bars</i><br>",
          "<b>The Mixt</b><br><i>bars</i><br>",
          "<b>Maximilian Café & Bar</b><br><i>bars</i><br>",
          "<b>Houdini</b><br><i>bars</i><br>",
          "<b>Wohnzimmerbar</b><br><i>bars</i><br>",
          "<b>Felix Bar</b><br><i>bars</i><br>",
          "<b>Penalty Restaurant Bar</b><br><i>bars</i><br>",
          "<b>Tales Bar</b><br><i>bars</i><br>",
          "<b>George Bar & Grill</b><br><i>bars</i><br>",
          "<b>Bar A Dox</b><br><i>bars</i><br>",
          "<b>KIN</b><br><i>bars</i><br>",
          "<b>Glamour Bar</b><br><i>bars</i><br>",
          "<b>Fleming's</b><br><i>bars</i><br>",
          "<b>Helvetia Pool Bar</b><br><i>bars</i><br>",
          "<b>BIERlab</b><br><i>bars</i><br>",
          "<b>Campo</b><br><i>bars</i><br>",
          "<b>Zeig Bar</b><br><i>bars</i><br>",
          "<b>La Lup</b><br><i>bars</i><br>",
          "<b>Bar Lupo</b><br><i>bars</i><br>",
          "<b>Roter Delfin</b><br><i>bars</i><br>",
          "<b>Jane Fine Food</b><br><i>restaurants</i><br>",
          "<b>Bubbles</b><br><i>restaurants</i><br>",
          "<b>Kobal</b><br><i>restaurants</i><br>",
          "<b>La Baracca</b><br><i>restaurants</i><br>",
          "<b>Chichería Cantina</b><br><i>restaurants</i><br>",
          "<b>Fribourger Stübli</b><br><i>restaurants</i><br>",
          "<b>Yuma</b><br><i>restaurants</i><br>",
          "<b>Le Cèdre</b><br><i>restaurants</i><br>",
          "<b>Masala</b><br><i>restaurants</i><br>",
          "<b>Antica Roma</b><br><i>restaurants</i><br>",
          "<b>Bernerhof</b><br><i>restaurants</i><br>",
          "<b>Ristorante Italia</b><br><i>restaurants</i><br>",
          "<b>Gotthard</b><br><i>restaurants</i><br>",
          "<b>Yu-An</b><br><i>restaurants</i><br>",
          "<b>Ristorante Bar Certo</b><br><i>restaurants</i><br>",
          "<b>Köchlistube</b><br><i>restaurants</i><br>",
          "<b>Arcade Pizzeria</b><br><i>restaurants</i><br>",
          "<b>Restaurant Bahnhof Wiedikon</b><br><i>restaurants</i><br>",
          "<b>Werd</b><br><i>restaurants</i><br>",
          "<b>Paneolio</b><br><i>restaurants</i><br>",
          "<b>Saigon</b><br><i>restaurants</i><br>",
          "<b>Zum Guten Glück</b><br><i>restaurants</i><br>",
          "<b>Nagasui</b><br><i>restaurants</i><br>",
          "<b>Volkshaus</b><br><i>restaurants</i><br>",
          "<b>Brasserie Café de Paris</b><br><i>restaurants</i><br>",
          "<b>Peking Garden</b><br><i>restaurants</i><br>",
          "<b>Celia</b><br><i>restaurants</i><br>",
          "<b>Burgermeister</b><br><i>restaurants</i><br>",
          "<b>SO Pizza</b><br><i>restaurants</i><br>",
          "<b>Queen Idia African Restaurant</b><br><i>restaurants</i><br>",
          "<b>The Caribbean Restaurant</b><br><i>restaurants</i><br>",
          "<b>Ichizen</b><br><i>restaurants</i><br>",
          "<b>Don Leone</b><br><i>restaurants</i><br>",
          "<b>Convivio</b><br><i>restaurants</i><br>",
          "<b>Accademia del Gusto</b><br><i>restaurants</i><br>",
          "<b>Ikoo</b><br><i>restaurants</i><br>",
          "<b>D'Aurora</b><br><i>restaurants</i><br>",
          "<b>Osteria Santo Bevitore</b><br><i>restaurants</i><br>",
          "<b>Meat Me</b><br><i>restaurants</i><br>",
          "<b>Sweet Basil</b><br><i>restaurants</i><br>",
          "<b>Real</b><br><i>restaurants</i><br>",
          "<b>Akaraka</b><br><i>restaurants</i><br>",
          "<b>Bunzai</b><br><i>restaurants</i><br>",
          "<b>Lou's Restaurant & Bar</b><br><i>restaurants</i><br>",
          "<b>Long Huang</b><br><i>restaurants</i><br>",
          "<b>The Sacred</b><br><i>restaurants</i><br>",
          "<b>Napoli (da Gerardo)</b><br><i>restaurants</i><br>",
          "<b>La Taqueria</b><br><i>restaurants</i><br>",
          "<b>Gasthof Falken Wiedikon</b><br><i>restaurants</i><br>",
          "<b>Korner</b><br><i>restaurants</i><br>",
          "<b>Silex</b><br><i>restaurants</i><br>",
          "<b>Gartenhof</b><br><i>restaurants</i><br>",
          "<b>Hermanseck</b><br><i>restaurants</i><br>",
          "<b>Petit Saigon</b><br><i>restaurants</i><br>",
          "<b>Bierstube Scheidegg</b><br><i>restaurants</i><br>",
          "<b>Centro</b><br><i>restaurants</i><br>",
          "<b>Yardbird Southern Fried Chicken</b><br><i>restaurants</i><br>",
          "<b>Swiss Casino Zürich</b><br><i>restaurants</i><br>",
          "<b>Thai Hunters</b><br><i>restaurants</i><br>",
          "<b>Wirtschaft im Franz</b><br><i>restaurants</i><br>",
          "<b>HATO</b><br><i>restaurants</i><br>",
          "<b>PHO Vietnam</b><br><i>restaurants</i><br>",
          "<b>Brenso</b><br><i>restaurants</i><br>",
          "<b>Bebek</b><br><i>restaurants</i><br>",
          "<b>Schmiedhof</b><br><i>restaurants</i><br>",
          "<b>Werdguet</b><br><i>restaurants</i><br>",
          "<b>Il Giglio</b><br><i>restaurants</i><br>",
          "<b>MAZI im Morgarten</b><br><i>restaurants</i><br>",
          "<b>Fein und Schein</b><br><i>restaurants</i><br>",
          "<b>Nooch</b><br><i>restaurants</i><br>",
          "<b>Bund 39</b><br><i>restaurants</i><br>",
          "<b>Moudi</b><br><i>restaurants</i><br>",
          "<b>Wingman</b><br><i>restaurants</i><br>",
          "<b>Bank</b><br><i>restaurants</i><br>",
          "<b>Topden Bowls</b><br><i>restaurants</i><br>",
          "<b>Cartell</b><br><i>restaurants</i><br>",
          "<b>V.P. Catering</b><br><i>restaurants</i><br>",
          "<b>Miss Miu</b><br><i>restaurants</i><br>",
          "<b>Ooki</b><br><i>restaurants</i><br>",
          "<b>Restaurant Pyramids</b><br><i>restaurants</i><br>",
          "<b>Salon</b><br><i>restaurants</i><br>",
          "<b>Helvetia</b><br><i>restaurants</i><br>",
          "<b>Union Diner</b><br><i>restaurants</i><br>",
          "<b>Kle</b><br><i>restaurants</i><br>",
          "<b>Yen's</b><br><i>restaurants</i><br>",
          "<b>Vemezza</b><br><i>restaurants</i><br>",
          "<b>Uto</b><br><i>restaurants</i><br>",
          "<b>Stamped</b><br><i>restaurants</i><br>",
          "<b>Mythos</b><br><i>restaurants</i><br>",
          "<b>The Yard</b><br><i>restaurants</i><br>",
          "<b>Gaijin Izakaya</b><br><i>restaurants</i><br>",
          "<b>Lola's Restaurant</b><br><i>restaurants</i><br>",
          "<b>Emilio</b><br><i>restaurants</i><br>",
          "<b>Rémy</b><br><i>restaurants</i><br>",
          "<b>Fattoush</b><br><i>restaurants</i><br>",
          "<b>PUTPUTakeaway</b><br><i>restaurants</i><br>",
          "<b>Spoon</b><br><i>restaurants</i><br>",
          "<b>Butegar</b><br><i>restaurants</i><br>",
          "<b>Mai-Wok</b><br><i>restaurants</i><br>",
          "<b>Hikari</b><br><i>restaurants</i><br>",
          "<b>Ameo</b><br><i>restaurants</i><br>",
          "<b>LÈ Cuisine</b><br><i>restaurants</i><br>",
          "<b>Stauffacher</b><br><i>kindergarten</i><br>",
          "<b>Kinderkrippe Schneeflocke</b><br><i>kindergarten</i><br>",
          "<b>Aegerten 3</b><br><i>kindergarten</i><br>",
          "<b>Aegerten 1 & 2</b><br><i>kindergarten</i><br>",
          "<b>Globegarden Brandschenke</b><br><i>kindergarten</i><br>",
          "<b>RasselChischte</b><br><i>kindergarten</i><br>",
          "<b>Kita tandem</b><br><i>kindergarten</i><br>",
          "<b>Zürich Selnau</b><br><i>public_transportation</i><br>",
          "<b>Stauffacher</b><br><i>public_transportation</i><br>",
          "<b>Bahnhof Wiedikon</b><br><i>public_transportation</i><br>",
          "<b>Werd</b><br><i>public_transportation</i><br>",
          "<b>Bezirksgebäude</b><br><i>public_transportation</i><br>",
          "<b>Kalkbreite/Bhf. Wiedikon</b><br><i>public_transportation</i><br>",
          "<b>Bahnhof Selnau</b><br><i>public_transportation</i><br>",
          "<b>Helvetiaplatz</b><br><i>public_transportation</i><br>",
          "<b>Schmiede Wiedikon</b><br><i>public_transportation</i><br>",
          "<b>Budokan</b><br><i>gym_fitness</i><br>",
          "<b>Zen Move</b><br><i>gym_fitness</i><br>",
          "<b>Aurum</b><br><i>gym_fitness</i><br>",
          "<b>Yoga City</b><br><i>gym_fitness</i><br>",
          "<b>Studio 45</b><br><i>gym_fitness</i><br>",
          "<b>Now</b><br><i>gym_fitness</i><br>",
          "<b>ACTIV Fitness Forum</b><br><i>gym_fitness</i><br>",
          "<b>ACTIV Fitness</b><br><i>gym_fitness</i><br>",
          "<b>Synergym</b><br><i>gym_fitness</i><br>",
          "<b>Bikram Yoga Zürich</b><br><i>gym_fitness</i><br>",
          "<b>NonStop Gym</b><br><i>gym_fitness</i><br>",
          "<b>Why Tech</b><br><i>gym_fitness</i><br>",
          "<b>No name available</b><br><i>gym_fitness</i><br>",
          "<b>Studio Y3</b><br><i>gym_fitness</i><br>",
          "<b>Migros</b><br><i>grocery_stores_supermarkets</i><br>",
          "<b>BP Service Wiedikon</b><br><i>grocery_stores_supermarkets</i><br>",
          "<b>Coop Pronto</b><br><i>grocery_stores_supermarkets</i><br>",
          "<b>Denner</b><br><i>grocery_stores_supermarkets</i><br>",
          "<b>shop-in-shop</b><br><i>grocery_stores_supermarkets</i><br>",
          "<b>Barkat Cash & Carry</b><br><i>grocery_stores_supermarkets</i><br>",
          "<b>Lian Hua - Asia Laden</b><br><i>grocery_stores_supermarkets</i><br>",
          "<b>BachserMärt Kalkbreite</b><br><i>grocery_stores_supermarkets</i><br>",
          "<b>Roli's Quartierladen</b><br><i>grocery_stores_supermarkets</i><br>",
          "<b>Welschland</b><br><i>grocery_stores_supermarkets</i><br>",
          "<b>Foifi</b><br><i>grocery_stores_supermarkets</i><br>",
          "<b>Koscher City</b><br><i>grocery_stores_supermarkets</i><br>",
          "<b>Newroz Wiedikon</b><br><i>grocery_stores_supermarkets</i><br>",
          "<b>New Asia Market (NAM)</b><br><i>grocery_stores_supermarkets</i><br>",
          "<b>Aggarwal</b><br><i>grocery_stores_supermarkets</i><br>",
          "<b>Seker Market</b><br><i>grocery_stores_supermarkets</i><br>",
          "<b>BP Service Wiedikon</b><br><i>gas_ev_charging</i><br>",
          "<b>evpass</b><br><i>gas_ev_charging</i><br>",
          "<b>Heilpädagogische Schule Gotthelf</b><br><i>schools</i><br>",
          "<b>Schreiner Ausbildungszentrum Zürich</b><br><i>schools</i><br>",
          "<b>STF Schweizerische Textilfachschule</b><br><i>schools</i><br>",
          "<b>SIU Schweizerisches Institut für Unternehmerschulung</b><br><i>schools</i><br>",
          "<b>isaJAZZDANCE im OFF DANCE</b><br><i>schools</i><br>"
         ],
         "type": "scattermapbox"
        },
        {
         "hoverinfo": "text",
         "lat": [
          47.3711263
         ],
         "lon": [
          8.5265537
         ],
         "marker": {
          "color": "white",
          "opacity": 1,
          "size": 20
         },
         "mode": "markers",
         "showlegend": false,
         "text": "8004 Zürich, Werdgartengasse 4",
         "type": "scattermapbox"
        }
       ],
       "layout": {
        "height": 1500,
        "mapbox": {
         "center": {
          "lat": 47.3711263,
          "lon": 8.5265537
         },
         "style": "open-street-map",
         "zoom": 15
        },
        "margin": {
         "b": 0,
         "l": 0,
         "r": 0,
         "t": 0
        },
        "showlegend": false,
        "template": {
         "data": {
          "bar": [
           {
            "error_x": {
             "color": "#2a3f5f"
            },
            "error_y": {
             "color": "#2a3f5f"
            },
            "marker": {
             "line": {
              "color": "#E5ECF6",
              "width": 0.5
             },
             "pattern": {
              "fillmode": "overlay",
              "size": 10,
              "solidity": 0.2
             }
            },
            "type": "bar"
           }
          ],
          "barpolar": [
           {
            "marker": {
             "line": {
              "color": "#E5ECF6",
              "width": 0.5
             },
             "pattern": {
              "fillmode": "overlay",
              "size": 10,
              "solidity": 0.2
             }
            },
            "type": "barpolar"
           }
          ],
          "carpet": [
           {
            "aaxis": {
             "endlinecolor": "#2a3f5f",
             "gridcolor": "white",
             "linecolor": "white",
             "minorgridcolor": "white",
             "startlinecolor": "#2a3f5f"
            },
            "baxis": {
             "endlinecolor": "#2a3f5f",
             "gridcolor": "white",
             "linecolor": "white",
             "minorgridcolor": "white",
             "startlinecolor": "#2a3f5f"
            },
            "type": "carpet"
           }
          ],
          "choropleth": [
           {
            "colorbar": {
             "outlinewidth": 0,
             "ticks": ""
            },
            "type": "choropleth"
           }
          ],
          "contour": [
           {
            "colorbar": {
             "outlinewidth": 0,
             "ticks": ""
            },
            "colorscale": [
             [
              0,
              "#0d0887"
             ],
             [
              0.1111111111111111,
              "#46039f"
             ],
             [
              0.2222222222222222,
              "#7201a8"
             ],
             [
              0.3333333333333333,
              "#9c179e"
             ],
             [
              0.4444444444444444,
              "#bd3786"
             ],
             [
              0.5555555555555556,
              "#d8576b"
             ],
             [
              0.6666666666666666,
              "#ed7953"
             ],
             [
              0.7777777777777778,
              "#fb9f3a"
             ],
             [
              0.8888888888888888,
              "#fdca26"
             ],
             [
              1,
              "#f0f921"
             ]
            ],
            "type": "contour"
           }
          ],
          "contourcarpet": [
           {
            "colorbar": {
             "outlinewidth": 0,
             "ticks": ""
            },
            "type": "contourcarpet"
           }
          ],
          "heatmap": [
           {
            "colorbar": {
             "outlinewidth": 0,
             "ticks": ""
            },
            "colorscale": [
             [
              0,
              "#0d0887"
             ],
             [
              0.1111111111111111,
              "#46039f"
             ],
             [
              0.2222222222222222,
              "#7201a8"
             ],
             [
              0.3333333333333333,
              "#9c179e"
             ],
             [
              0.4444444444444444,
              "#bd3786"
             ],
             [
              0.5555555555555556,
              "#d8576b"
             ],
             [
              0.6666666666666666,
              "#ed7953"
             ],
             [
              0.7777777777777778,
              "#fb9f3a"
             ],
             [
              0.8888888888888888,
              "#fdca26"
             ],
             [
              1,
              "#f0f921"
             ]
            ],
            "type": "heatmap"
           }
          ],
          "heatmapgl": [
           {
            "colorbar": {
             "outlinewidth": 0,
             "ticks": ""
            },
            "colorscale": [
             [
              0,
              "#0d0887"
             ],
             [
              0.1111111111111111,
              "#46039f"
             ],
             [
              0.2222222222222222,
              "#7201a8"
             ],
             [
              0.3333333333333333,
              "#9c179e"
             ],
             [
              0.4444444444444444,
              "#bd3786"
             ],
             [
              0.5555555555555556,
              "#d8576b"
             ],
             [
              0.6666666666666666,
              "#ed7953"
             ],
             [
              0.7777777777777778,
              "#fb9f3a"
             ],
             [
              0.8888888888888888,
              "#fdca26"
             ],
             [
              1,
              "#f0f921"
             ]
            ],
            "type": "heatmapgl"
           }
          ],
          "histogram": [
           {
            "marker": {
             "pattern": {
              "fillmode": "overlay",
              "size": 10,
              "solidity": 0.2
             }
            },
            "type": "histogram"
           }
          ],
          "histogram2d": [
           {
            "colorbar": {
             "outlinewidth": 0,
             "ticks": ""
            },
            "colorscale": [
             [
              0,
              "#0d0887"
             ],
             [
              0.1111111111111111,
              "#46039f"
             ],
             [
              0.2222222222222222,
              "#7201a8"
             ],
             [
              0.3333333333333333,
              "#9c179e"
             ],
             [
              0.4444444444444444,
              "#bd3786"
             ],
             [
              0.5555555555555556,
              "#d8576b"
             ],
             [
              0.6666666666666666,
              "#ed7953"
             ],
             [
              0.7777777777777778,
              "#fb9f3a"
             ],
             [
              0.8888888888888888,
              "#fdca26"
             ],
             [
              1,
              "#f0f921"
             ]
            ],
            "type": "histogram2d"
           }
          ],
          "histogram2dcontour": [
           {
            "colorbar": {
             "outlinewidth": 0,
             "ticks": ""
            },
            "colorscale": [
             [
              0,
              "#0d0887"
             ],
             [
              0.1111111111111111,
              "#46039f"
             ],
             [
              0.2222222222222222,
              "#7201a8"
             ],
             [
              0.3333333333333333,
              "#9c179e"
             ],
             [
              0.4444444444444444,
              "#bd3786"
             ],
             [
              0.5555555555555556,
              "#d8576b"
             ],
             [
              0.6666666666666666,
              "#ed7953"
             ],
             [
              0.7777777777777778,
              "#fb9f3a"
             ],
             [
              0.8888888888888888,
              "#fdca26"
             ],
             [
              1,
              "#f0f921"
             ]
            ],
            "type": "histogram2dcontour"
           }
          ],
          "mesh3d": [
           {
            "colorbar": {
             "outlinewidth": 0,
             "ticks": ""
            },
            "type": "mesh3d"
           }
          ],
          "parcoords": [
           {
            "line": {
             "colorbar": {
              "outlinewidth": 0,
              "ticks": ""
             }
            },
            "type": "parcoords"
           }
          ],
          "pie": [
           {
            "automargin": true,
            "type": "pie"
           }
          ],
          "scatter": [
           {
            "fillpattern": {
             "fillmode": "overlay",
             "size": 10,
             "solidity": 0.2
            },
            "type": "scatter"
           }
          ],
          "scatter3d": [
           {
            "line": {
             "colorbar": {
              "outlinewidth": 0,
              "ticks": ""
             }
            },
            "marker": {
             "colorbar": {
              "outlinewidth": 0,
              "ticks": ""
             }
            },
            "type": "scatter3d"
           }
          ],
          "scattercarpet": [
           {
            "marker": {
             "colorbar": {
              "outlinewidth": 0,
              "ticks": ""
             }
            },
            "type": "scattercarpet"
           }
          ],
          "scattergeo": [
           {
            "marker": {
             "colorbar": {
              "outlinewidth": 0,
              "ticks": ""
             }
            },
            "type": "scattergeo"
           }
          ],
          "scattergl": [
           {
            "marker": {
             "colorbar": {
              "outlinewidth": 0,
              "ticks": ""
             }
            },
            "type": "scattergl"
           }
          ],
          "scattermapbox": [
           {
            "marker": {
             "colorbar": {
              "outlinewidth": 0,
              "ticks": ""
             }
            },
            "type": "scattermapbox"
           }
          ],
          "scatterpolar": [
           {
            "marker": {
             "colorbar": {
              "outlinewidth": 0,
              "ticks": ""
             }
            },
            "type": "scatterpolar"
           }
          ],
          "scatterpolargl": [
           {
            "marker": {
             "colorbar": {
              "outlinewidth": 0,
              "ticks": ""
             }
            },
            "type": "scatterpolargl"
           }
          ],
          "scatterternary": [
           {
            "marker": {
             "colorbar": {
              "outlinewidth": 0,
              "ticks": ""
             }
            },
            "type": "scatterternary"
           }
          ],
          "surface": [
           {
            "colorbar": {
             "outlinewidth": 0,
             "ticks": ""
            },
            "colorscale": [
             [
              0,
              "#0d0887"
             ],
             [
              0.1111111111111111,
              "#46039f"
             ],
             [
              0.2222222222222222,
              "#7201a8"
             ],
             [
              0.3333333333333333,
              "#9c179e"
             ],
             [
              0.4444444444444444,
              "#bd3786"
             ],
             [
              0.5555555555555556,
              "#d8576b"
             ],
             [
              0.6666666666666666,
              "#ed7953"
             ],
             [
              0.7777777777777778,
              "#fb9f3a"
             ],
             [
              0.8888888888888888,
              "#fdca26"
             ],
             [
              1,
              "#f0f921"
             ]
            ],
            "type": "surface"
           }
          ],
          "table": [
           {
            "cells": {
             "fill": {
              "color": "#EBF0F8"
             },
             "line": {
              "color": "white"
             }
            },
            "header": {
             "fill": {
              "color": "#C8D4E3"
             },
             "line": {
              "color": "white"
             }
            },
            "type": "table"
           }
          ]
         },
         "layout": {
          "annotationdefaults": {
           "arrowcolor": "#2a3f5f",
           "arrowhead": 0,
           "arrowwidth": 1
          },
          "autotypenumbers": "strict",
          "coloraxis": {
           "colorbar": {
            "outlinewidth": 0,
            "ticks": ""
           }
          },
          "colorscale": {
           "diverging": [
            [
             0,
             "#8e0152"
            ],
            [
             0.1,
             "#c51b7d"
            ],
            [
             0.2,
             "#de77ae"
            ],
            [
             0.3,
             "#f1b6da"
            ],
            [
             0.4,
             "#fde0ef"
            ],
            [
             0.5,
             "#f7f7f7"
            ],
            [
             0.6,
             "#e6f5d0"
            ],
            [
             0.7,
             "#b8e186"
            ],
            [
             0.8,
             "#7fbc41"
            ],
            [
             0.9,
             "#4d9221"
            ],
            [
             1,
             "#276419"
            ]
           ],
           "sequential": [
            [
             0,
             "#0d0887"
            ],
            [
             0.1111111111111111,
             "#46039f"
            ],
            [
             0.2222222222222222,
             "#7201a8"
            ],
            [
             0.3333333333333333,
             "#9c179e"
            ],
            [
             0.4444444444444444,
             "#bd3786"
            ],
            [
             0.5555555555555556,
             "#d8576b"
            ],
            [
             0.6666666666666666,
             "#ed7953"
            ],
            [
             0.7777777777777778,
             "#fb9f3a"
            ],
            [
             0.8888888888888888,
             "#fdca26"
            ],
            [
             1,
             "#f0f921"
            ]
           ],
           "sequentialminus": [
            [
             0,
             "#0d0887"
            ],
            [
             0.1111111111111111,
             "#46039f"
            ],
            [
             0.2222222222222222,
             "#7201a8"
            ],
            [
             0.3333333333333333,
             "#9c179e"
            ],
            [
             0.4444444444444444,
             "#bd3786"
            ],
            [
             0.5555555555555556,
             "#d8576b"
            ],
            [
             0.6666666666666666,
             "#ed7953"
            ],
            [
             0.7777777777777778,
             "#fb9f3a"
            ],
            [
             0.8888888888888888,
             "#fdca26"
            ],
            [
             1,
             "#f0f921"
            ]
           ]
          },
          "colorway": [
           "#636efa",
           "#EF553B",
           "#00cc96",
           "#ab63fa",
           "#FFA15A",
           "#19d3f3",
           "#FF6692",
           "#B6E880",
           "#FF97FF",
           "#FECB52"
          ],
          "font": {
           "color": "#2a3f5f"
          },
          "geo": {
           "bgcolor": "white",
           "lakecolor": "white",
           "landcolor": "#E5ECF6",
           "showlakes": true,
           "showland": true,
           "subunitcolor": "white"
          },
          "hoverlabel": {
           "align": "left"
          },
          "hovermode": "closest",
          "mapbox": {
           "style": "light"
          },
          "paper_bgcolor": "white",
          "plot_bgcolor": "#E5ECF6",
          "polar": {
           "angularaxis": {
            "gridcolor": "white",
            "linecolor": "white",
            "ticks": ""
           },
           "bgcolor": "#E5ECF6",
           "radialaxis": {
            "gridcolor": "white",
            "linecolor": "white",
            "ticks": ""
           }
          },
          "scene": {
           "xaxis": {
            "backgroundcolor": "#E5ECF6",
            "gridcolor": "white",
            "gridwidth": 2,
            "linecolor": "white",
            "showbackground": true,
            "ticks": "",
            "zerolinecolor": "white"
           },
           "yaxis": {
            "backgroundcolor": "#E5ECF6",
            "gridcolor": "white",
            "gridwidth": 2,
            "linecolor": "white",
            "showbackground": true,
            "ticks": "",
            "zerolinecolor": "white"
           },
           "zaxis": {
            "backgroundcolor": "#E5ECF6",
            "gridcolor": "white",
            "gridwidth": 2,
            "linecolor": "white",
            "showbackground": true,
            "ticks": "",
            "zerolinecolor": "white"
           }
          },
          "shapedefaults": {
           "line": {
            "color": "#2a3f5f"
           }
          },
          "ternary": {
           "aaxis": {
            "gridcolor": "white",
            "linecolor": "white",
            "ticks": ""
           },
           "baxis": {
            "gridcolor": "white",
            "linecolor": "white",
            "ticks": ""
           },
           "bgcolor": "#E5ECF6",
           "caxis": {
            "gridcolor": "white",
            "linecolor": "white",
            "ticks": ""
           }
          },
          "title": {
           "x": 0.05
          },
          "xaxis": {
           "automargin": true,
           "gridcolor": "white",
           "linecolor": "white",
           "ticks": "",
           "title": {
            "standoff": 15
           },
           "zerolinecolor": "white",
           "zerolinewidth": 2
          },
          "yaxis": {
           "automargin": true,
           "gridcolor": "white",
           "linecolor": "white",
           "ticks": "",
           "title": {
            "standoff": 15
           },
           "zerolinecolor": "white",
           "zerolinewidth": 2
          }
         }
        },
        "width": 1500
       }
      }
     },
     "metadata": {},
     "output_type": "display_data"
    }
   ],
   "source": [
    "i = 0\n",
    "\n",
    "gg = load_data(GOOGLE_FILES[i])\n",
    "osm = load_data(OSM_FILES[i])\n",
    "print(gg['original_address']['address'])\n",
    "\n",
    "base_map = create_base_map(gg, 1500, 1500, 15)\n",
    "add_isochrone(base_map, gg) # no need to put isochrones in OSM files\n",
    "\n",
    "add_places(base_map, gg, 15, 'red' )\n",
    "add_places(base_map, osm, 10, 'black' )\n",
    "\n",
    "add_original_address(base_map, gg)"
   ]
  },
  {
   "cell_type": "markdown",
   "metadata": {},
   "source": [
    "### 3027 Bern, Colombstrasse 39"
   ]
  },
  {
   "cell_type": "code",
   "execution_count": 18,
   "metadata": {},
   "outputs": [
    {
     "name": "stdout",
     "output_type": "stream",
     "text": [
      "3027 Bern, Colombstrasse 39\n"
     ]
    },
    {
     "data": {
      "application/vnd.plotly.v1+json": {
       "config": {
        "plotlyServerURL": "https://plot.ly"
       },
       "data": [
        {
         "type": "scattermapbox"
        },
        {
         "fill": "toself",
         "fillcolor": "rgba(10,80,50,0.1)",
         "hoverinfo": "text",
         "lat": [
          46.944652,
          46.944376,
          46.944444,
          46.944513,
          46.945069,
          46.945426,
          46.946941,
          46.946995,
          46.94742,
          46.947762,
          46.947764,
          46.947607,
          46.946336,
          46.944652
         ],
         "line": {
          "color": "rgba(10,80,50,1)",
          "width": 1
         },
         "lon": [
          7.375407,
          7.375723,
          7.37623,
          7.376736,
          7.380254,
          7.38021,
          7.379865,
          7.379837,
          7.378468,
          7.377248,
          7.377242,
          7.376725,
          7.375249,
          7.375407
         ],
         "mode": "lines",
         "showlegend": false,
         "text": "3.0min. walking",
         "type": "scattermapbox"
        },
        {
         "fill": "toself",
         "fillcolor": "rgba(10,80,50,0.1)",
         "hoverinfo": "text",
         "lat": [
          46.944026,
          46.943677,
          46.943587,
          46.944001,
          46.945251,
          46.945336,
          46.945604,
          46.946804,
          46.947151,
          46.948068,
          46.948987,
          46.94904,
          46.949013,
          46.948826,
          46.948497,
          46.94745,
          46.944026
         ],
         "line": {
          "color": "rgba(10,80,50,1)",
          "width": 1
         },
         "lon": [
          7.37373,
          7.373816,
          7.374448,
          7.376476,
          7.382213,
          7.382318,
          7.382283,
          7.382054,
          7.381958,
          7.38118,
          7.377098,
          7.376807,
          7.376603,
          7.375932,
          7.375238,
          7.374614,
          7.37373
         ],
         "mode": "lines",
         "showlegend": false,
         "text": "5.0min. walking",
         "type": "scattermapbox"
        },
        {
         "fill": "toself",
         "fillcolor": "rgba(10,80,50,0.1)",
         "hoverinfo": "text",
         "lat": [
          46.94352,
          46.943171,
          46.943587,
          46.944001,
          46.944324,
          46.944338,
          46.944378,
          46.944693,
          46.944729,
          46.946432,
          46.948692,
          46.948916,
          46.949567,
          46.94956,
          46.949303,
          46.948469,
          46.947962,
          46.947648,
          46.94352
         ],
         "line": {
          "color": "rgba(10,80,50,1)",
          "width": 1
         },
         "lon": [
          7.371663,
          7.371749,
          7.374448,
          7.376476,
          7.378265,
          7.383288,
          7.383919,
          7.384094,
          7.384109,
          7.384074,
          7.382847,
          7.382337,
          7.37803,
          7.377962,
          7.376793,
          7.373823,
          7.373159,
          7.373044,
          7.371663
         ],
         "mode": "lines",
         "showlegend": false,
         "text": "7.0min. walking",
         "type": "scattermapbox"
        },
        {
         "fill": "toself",
         "fillcolor": "rgba(10,80,50,0.1)",
         "hoverinfo": "text",
         "lat": [
          46.942603,
          46.941641,
          46.941626,
          46.943587,
          46.943303,
          46.942568,
          46.942295,
          46.94296,
          46.942988,
          46.9432,
          46.946543,
          46.946902,
          46.949092,
          46.949201,
          46.950535,
          46.950721,
          46.95066,
          46.951072,
          46.950663,
          46.947574,
          46.942962,
          46.942603
         ],
         "line": {
          "color": "rgba(10,80,50,1)",
          "width": 1
         },
         "lon": [
          7.368531,
          7.369802,
          7.370161,
          7.374448,
          7.379835,
          7.381523,
          7.382005,
          7.386562,
          7.386596,
          7.386787,
          7.387325,
          7.38731,
          7.3859,
          7.385829,
          7.384433,
          7.384125,
          7.380791,
          7.375716,
          7.37508,
          7.370343,
          7.368562,
          7.368531
         ],
         "mode": "lines",
         "showlegend": false,
         "text": "10.0min. walking",
         "type": "scattermapbox"
        },
        {
         "fill": "toself",
         "fillcolor": "rgba(10,80,50,0.1)",
         "hoverinfo": "text",
         "lat": [
          46.943892,
          46.942453,
          46.939893,
          46.939592,
          46.939607,
          46.939644,
          46.939806,
          46.943587,
          46.941909,
          46.940197,
          46.940232,
          46.940832,
          46.941899,
          46.942021,
          46.942097,
          46.946894,
          46.947251,
          46.949221,
          46.950443,
          46.952761,
          46.952423,
          46.952437,
          46.951504,
          46.950056,
          46.949415,
          46.949324,
          46.947815,
          46.94425,
          46.943892
         ],
         "line": {
          "color": "rgba(10,80,50,1)",
          "width": 1
         },
         "lon": [
          7.365179,
          7.365708,
          7.369281,
          7.369715,
          7.369843,
          7.369984,
          7.370004,
          7.374448,
          7.377716,
          7.380965,
          7.381323,
          7.384523,
          7.389076,
          7.389487,
          7.389611,
          7.3905,
          7.390455,
          7.388891,
          7.387699,
          7.384968,
          7.380426,
          7.377728,
          7.375638,
          7.372583,
          7.369852,
          7.36968,
          7.36727,
          7.365211,
          7.365179
         ],
         "mode": "lines",
         "showlegend": false,
         "text": "13.0min. walking",
         "type": "scattermapbox"
        },
        {
         "fill": "toself",
         "fillcolor": "rgba(10,80,50,0.1)",
         "hoverinfo": "text",
         "lat": [
          46.944091,
          46.942498,
          46.941487,
          46.939946,
          46.938251,
          46.938219,
          46.938441,
          46.941083,
          46.941186,
          46.941289,
          46.939041,
          46.938866,
          46.938691,
          46.938975,
          46.939229,
          46.939507,
          46.940531,
          46.941404,
          46.941481,
          46.941496,
          46.941812,
          46.947375,
          46.947453,
          46.947715,
          46.949306,
          46.952358,
          46.953813,
          46.953601,
          46.953595,
          46.951504,
          46.950766,
          46.950901,
          46.947938,
          46.944447,
          46.944091
         ],
         "line": {
          "color": "rgba(10,80,50,1)",
          "width": 1
         },
         "lon": [
          7.3634,
          7.363715,
          7.364982,
          7.36727,
          7.370674,
          7.370799,
          7.371082,
          7.375211,
          7.375518,
          7.375826,
          7.381289,
          7.38135,
          7.381412,
          7.382889,
          7.384134,
          7.385095,
          7.388713,
          7.391434,
          7.391606,
          7.391614,
          7.391648,
          7.392309,
          7.39229,
          7.392192,
          7.391061,
          7.388189,
          7.386469,
          7.380847,
          7.378006,
          7.375638,
          7.369766,
          7.369541,
          7.365082,
          7.363451,
          7.3634
         ],
         "mode": "lines",
         "showlegend": false,
         "text": "15.0min. walking",
         "type": "scattermapbox"
        },
        {
         "hoverinfo": "text",
         "hovertemplate": "%{text}<extra></extra>",
         "lat": [
          46.94422089999999,
          46.9441459,
          46.94560370000001,
          46.9440552,
          46.9438234,
          46.94422089999999,
          46.94528149999999,
          46.9440986,
          46.9441459,
          46.9443221,
          46.94658310000001,
          46.94466329999999,
          46.94580029999999,
          46.9445057,
          46.94830229999999,
          46.9484438,
          46.9441341,
          46.9438764,
          46.9438764,
          46.9438764,
          46.94384099999999,
          46.94736349999999,
          46.947532,
          46.94799339999999,
          46.9441697,
          46.9484438,
          46.94390129999999,
          46.945417,
          46.9438234,
          46.94379980000001,
          46.9465221,
          46.944454,
          46.9454766,
          46.9457307,
          46.9441697,
          46.9484438,
          46.94390129999999,
          46.945417,
          46.9438234,
          46.94379980000001,
          46.9465221,
          46.944454,
          46.9454766,
          46.9457307,
          46.9441697,
          46.9484438,
          46.94390129999999,
          46.945417,
          46.9438234,
          46.94379980000001,
          46.9465221,
          46.944454,
          46.9454766,
          46.9457307,
          46.94401860000001,
          46.9443035,
          46.946236,
          46.94401860000001,
          46.944417,
          46.94781,
          46.94419000000001,
          46.94715,
          46.948658,
          46.94725,
          46.94448,
          46.94443,
          46.9441697,
          46.9484438,
          46.94390129999999,
          46.945417,
          46.9438234,
          46.94379980000001,
          46.9465221,
          46.944454,
          46.9454766,
          46.9457307,
          46.945417,
          46.94562020000001,
          46.9456202,
          46.9460213,
          46.9441697,
          46.9484438,
          46.94390129999999,
          46.945417,
          46.9438234,
          46.94379980000001,
          46.9465221,
          46.944454,
          46.9454766,
          46.9457307,
          46.9484438,
          46.947532,
          46.9481836,
          46.943676,
          46.9481137,
          46.9449134,
          46.946403,
          46.94838,
          46.9465221,
          46.94347570000001,
          46.9441697,
          46.9484438,
          46.94390129999999,
          46.945417,
          46.9438234,
          46.94379980000001,
          46.9465221,
          46.944454,
          46.9454766,
          46.9457307,
          46.94777620000001,
          46.9463611,
          46.94658310000001
         ],
         "lon": [
          7.374219699999998,
          7.3725334,
          7.3733551,
          7.372340099999999,
          7.372979399999998,
          7.374219699999998,
          7.375089500000001,
          7.372944300000001,
          7.3725334,
          7.373212100000001,
          7.380168800000001,
          7.3747544,
          7.3740809,
          7.3743444,
          7.3772185,
          7.377349499999998,
          7.3734264,
          7.373183999999999,
          7.373183999999999,
          7.373183999999999,
          7.372433999999999,
          7.3831862,
          7.383285000000002,
          7.383159599999999,
          7.374079000000001,
          7.377349499999998,
          7.372142299999999,
          7.372935,
          7.372979399999998,
          7.385067300000001,
          7.3849998,
          7.383762399999999,
          7.373687,
          7.373775299999999,
          7.374079000000001,
          7.377349499999998,
          7.372142299999999,
          7.372935,
          7.372979399999998,
          7.385067300000001,
          7.3849998,
          7.383762399999999,
          7.373687,
          7.373775299999999,
          7.374079000000001,
          7.377349499999998,
          7.372142299999999,
          7.372935,
          7.372979399999998,
          7.385067300000001,
          7.3849998,
          7.383762399999999,
          7.373687,
          7.373775299999999,
          7.3755054,
          7.375048199999998,
          7.375111,
          7.3755054,
          7.374981999999999,
          7.377553000000002,
          7.375114399999999,
          7.383809999999999,
          7.382464000000001,
          7.383830000000001,
          7.384189999999998,
          7.384220000000001,
          7.374079000000001,
          7.377349499999998,
          7.372142299999999,
          7.372935,
          7.372979399999998,
          7.385067300000001,
          7.3849998,
          7.383762399999999,
          7.373687,
          7.373775299999999,
          7.372935,
          7.383988899999999,
          7.383988999999999,
          7.377317799999999,
          7.374079000000001,
          7.377349499999998,
          7.372142299999999,
          7.372935,
          7.372979399999998,
          7.385067300000001,
          7.3849998,
          7.383762399999999,
          7.373687,
          7.373775299999999,
          7.377349499999998,
          7.383285000000002,
          7.3830847,
          7.3710719,
          7.3831069,
          7.374808,
          7.384919299999999,
          7.3773,
          7.3849998,
          7.3711076,
          7.374079000000001,
          7.377349499999998,
          7.372142299999999,
          7.372935,
          7.372979399999998,
          7.385067300000001,
          7.3849998,
          7.383762399999999,
          7.373687,
          7.373775299999999,
          7.3789465,
          7.3819053,
          7.380168800000001
         ],
         "marker": {
          "color": "red",
          "opacity": 1,
          "size": 15
         },
         "mode": "markers",
         "showlegend": false,
         "text": [
          "<b>Bits & Bites Bern</b><br><i>bars</i><br>",
          "<b>SportsBar</b><br><i>bars</i><br>",
          "<b>Coffee to go</b><br><i>bars</i><br>",
          "<b>Stars and Stripes Bern</b><br><i>bars</i><br>",
          "<b>McDonald’s</b><br><i>restaurants</i><br>",
          "<b>Bits & Bites Bern</b><br><i>restaurants</i><br>",
          "<b>Le Bistro - Westside</b><br><i>restaurants</i><br>",
          "<b>Yooji's Westside</b><br><i>restaurants</i><br>",
          "<b>SportsBar</b><br><i>restaurants</i><br>",
          "<b>Namamen</b><br><i>restaurants</i><br>",
          "<b>Clubhaus (Buvette) FC Bethlehem</b><br><i>restaurants</i><br>",
          "<b>Migros-Restaurant - Bern - Westside</b><br><i>restaurants</i><br>",
          "<b>Little Istanbul</b><br><i>restaurants</i><br>",
          "<b>Nooch Asian Kitchen Bern Westside</b><br><i>restaurants</i><br>",
          "<b>Ristorante Pizzeria PIAZZA</b><br><i>restaurants</i><br>",
          "<b>Liana GmbH</b><br><i>restaurants</i><br>",
          "<b>SPIGA Ristorante Westside</b><br><i>restaurants</i><br>",
          "<b>Waffel Star</b><br><i>restaurants</i><br>",
          "<b>Coffee Fellows - Kaffee, Bagels, Frühstück</b><br><i>restaurants</i><br>",
          "<b>Subway</b><br><i>restaurants</i><br>",
          "<b>Tres Amigos Bern</b><br><i>restaurants</i><br>",
          "<b>k kiosk</b><br><i>restaurants</i><br>",
          "<b>Migros-Restaurant - Bern - Bethlehem</b><br><i>restaurants</i><br>",
          "<b>Caffé Bar da Toni</b><br><i>restaurants</i><br>",
          "<b>Holiday Inn Bern - Westside, an IHG Hotel</b><br><i>kindergarten</i><br>",
          "<b>Coop Supermarkt Bern Gäbelbach</b><br><i>kindergarten</i><br>",
          "<b>Pathé</b><br><i>kindergarten</i><br>",
          "<b>Bernaqua | Erlebnisbad | Fitness | Wellness</b><br><i>kindergarten</i><br>",
          "<b>McDonald’s</b><br><i>kindergarten</i><br>",
          "<b>qbus Architekten</b><br><i>kindergarten</i><br>",
          "<b>Migrol Service</b><br><i>kindergarten</i><br>",
          "<b>Schulhaus Stapfenacker</b><br><i>kindergarten</i><br>",
          "<b>Marc O'Polo</b><br><i>kindergarten</i><br>",
          "<b>mobilezone</b><br><i>kindergarten</i><br>",
          "<b>Holiday Inn Bern - Westside, an IHG Hotel</b><br><i>kindergarten</i><br>",
          "<b>Coop Supermarkt Bern Gäbelbach</b><br><i>kindergarten</i><br>",
          "<b>Pathé</b><br><i>kindergarten</i><br>",
          "<b>Bernaqua | Erlebnisbad | Fitness | Wellness</b><br><i>kindergarten</i><br>",
          "<b>McDonald’s</b><br><i>kindergarten</i><br>",
          "<b>qbus Architekten</b><br><i>kindergarten</i><br>",
          "<b>Migrol Service</b><br><i>kindergarten</i><br>",
          "<b>Schulhaus Stapfenacker</b><br><i>kindergarten</i><br>",
          "<b>Marc O'Polo</b><br><i>kindergarten</i><br>",
          "<b>mobilezone</b><br><i>kindergarten</i><br>",
          "<b>Holiday Inn Bern - Westside, an IHG Hotel</b><br><i>public_transportation</i><br>",
          "<b>Coop Supermarkt Bern Gäbelbach</b><br><i>public_transportation</i><br>",
          "<b>Pathé</b><br><i>public_transportation</i><br>",
          "<b>Bernaqua | Erlebnisbad | Fitness | Wellness</b><br><i>public_transportation</i><br>",
          "<b>McDonald’s</b><br><i>public_transportation</i><br>",
          "<b>qbus Architekten</b><br><i>public_transportation</i><br>",
          "<b>Migrol Service</b><br><i>public_transportation</i><br>",
          "<b>Schulhaus Stapfenacker</b><br><i>public_transportation</i><br>",
          "<b>Marc O'Polo</b><br><i>public_transportation</i><br>",
          "<b>mobilezone</b><br><i>public_transportation</i><br>",
          "<b>Bern Brünnen Westside</b><br><i>public_transportation</i><br>",
          "<b>Bern Brünnen Westside, Bahnhof</b><br><i>public_transportation</i><br>",
          "<b>Ramuzstrasse</b><br><i>public_transportation</i><br>",
          "<b>Bern Brünnen Westside</b><br><i>public_transportation</i><br>",
          "<b>Bern Brünnen Westside, Bahnhof</b><br><i>public_transportation</i><br>",
          "<b>Gäbelbach</b><br><i>public_transportation</i><br>",
          "<b>Bern Brünnen Westside, Bahnhof</b><br><i>public_transportation</i><br>",
          "<b>Riedbachstrasse</b><br><i>public_transportation</i><br>",
          "<b>Bethlehem b. Bern, Holenacker</b><br><i>public_transportation</i><br>",
          "<b>Riedbachstrasse</b><br><i>public_transportation</i><br>",
          "<b>Stapfenacker</b><br><i>public_transportation</i><br>",
          "<b>Stapfenacker</b><br><i>public_transportation</i><br>",
          "<b>Holiday Inn Bern - Westside, an IHG Hotel</b><br><i>gym_fitness</i><br>",
          "<b>Coop Supermarkt Bern Gäbelbach</b><br><i>gym_fitness</i><br>",
          "<b>Pathé</b><br><i>gym_fitness</i><br>",
          "<b>Bernaqua | Erlebnisbad | Fitness | Wellness</b><br><i>gym_fitness</i><br>",
          "<b>McDonald’s</b><br><i>gym_fitness</i><br>",
          "<b>qbus Architekten</b><br><i>gym_fitness</i><br>",
          "<b>Migrol Service</b><br><i>gym_fitness</i><br>",
          "<b>Schulhaus Stapfenacker</b><br><i>gym_fitness</i><br>",
          "<b>Marc O'Polo</b><br><i>gym_fitness</i><br>",
          "<b>mobilezone</b><br><i>gym_fitness</i><br>",
          "<b>Bernaqua | Erlebnisbad | Fitness | Wellness</b><br><i>gym_fitness</i><br>",
          "<b>Fight 4 Fitness</b><br><i>gym_fitness</i><br>",
          "<b>WingTsun Schule Bern West</b><br><i>gym_fitness</i><br>",
          "<b>Fitness meets Beauty</b><br><i>gym_fitness</i><br>",
          "<b>Holiday Inn Bern - Westside, an IHG Hotel</b><br><i>grocery_stores_supermarkets</i><br>",
          "<b>Coop Supermarkt Bern Gäbelbach</b><br><i>grocery_stores_supermarkets</i><br>",
          "<b>Pathé</b><br><i>grocery_stores_supermarkets</i><br>",
          "<b>Bernaqua | Erlebnisbad | Fitness | Wellness</b><br><i>grocery_stores_supermarkets</i><br>",
          "<b>McDonald’s</b><br><i>grocery_stores_supermarkets</i><br>",
          "<b>qbus Architekten</b><br><i>grocery_stores_supermarkets</i><br>",
          "<b>Migrol Service</b><br><i>grocery_stores_supermarkets</i><br>",
          "<b>Schulhaus Stapfenacker</b><br><i>grocery_stores_supermarkets</i><br>",
          "<b>Marc O'Polo</b><br><i>grocery_stores_supermarkets</i><br>",
          "<b>mobilezone</b><br><i>grocery_stores_supermarkets</i><br>",
          "<b>Coop Supermarkt Bern Gäbelbach</b><br><i>grocery_stores_supermarkets</i><br>",
          "<b>Migros-Supermarkt - Bern - Bethlehem</b><br><i>grocery_stores_supermarkets</i><br>",
          "<b>Denner Discount</b><br><i>grocery_stores_supermarkets</i><br>",
          "<b>migrolino Bern Westside</b><br><i>grocery_stores_supermarkets</i><br>",
          "<b>OTTO'S Bern</b><br><i>grocery_stores_supermarkets</i><br>",
          "<b>Migros-Supermarkt - Bern - Westside</b><br><i>grocery_stores_supermarkets</i><br>",
          "<b>migrolino Bern Fellerstrasse</b><br><i>grocery_stores_supermarkets</i><br>",
          "<b>Lidl Schweiz</b><br><i>grocery_stores_supermarkets</i><br>",
          "<b>Migrol Service</b><br><i>gas_ev_charging</i><br>",
          "<b>Migrol Service mit Shell-Treibstoff</b><br><i>gas_ev_charging</i><br>",
          "<b>Holiday Inn Bern - Westside, an IHG Hotel</b><br><i>gas_ev_charging</i><br>",
          "<b>Coop Supermarkt Bern Gäbelbach</b><br><i>gas_ev_charging</i><br>",
          "<b>Pathé</b><br><i>gas_ev_charging</i><br>",
          "<b>Bernaqua | Erlebnisbad | Fitness | Wellness</b><br><i>gas_ev_charging</i><br>",
          "<b>McDonald’s</b><br><i>gas_ev_charging</i><br>",
          "<b>qbus Architekten</b><br><i>gas_ev_charging</i><br>",
          "<b>Migrol Service</b><br><i>gas_ev_charging</i><br>",
          "<b>Schulhaus Stapfenacker</b><br><i>gas_ev_charging</i><br>",
          "<b>Marc O'Polo</b><br><i>gas_ev_charging</i><br>",
          "<b>mobilezone</b><br><i>gas_ev_charging</i><br>",
          "<b>Schulhaus Brünnen</b><br><i>schools</i><br>",
          "<b>Schule Brünnenpark</b><br><i>schools</i><br>",
          "<b>Clubhaus (Buvette) FC Bethlehem</b><br><i>schools</i><br>"
         ],
         "type": "scattermapbox"
        },
        {
         "hoverinfo": "text",
         "hovertemplate": "%{text}<extra></extra>",
         "lat": [
          46.9441427,
          46.9493855,
          46.9483029,
          46.9441266,
          46.9443121,
          46.9440219,
          46.9446702,
          46.9438908,
          46.9491744,
          46.9441936,
          46.947723,
          46.9486827,
          46.946575,
          46.9455127,
          46.9484456,
          46.9477168,
          46.9435046,
          46.9465199,
          46.943517,
          46.9434682
         ],
         "lon": [
          7.3724582,
          7.3804233,
          7.3769832,
          7.37346,
          7.3731849,
          7.3729417,
          7.3744319,
          7.3725787,
          7.3791864,
          7.3753698,
          7.3772918,
          7.3823077,
          7.3750189,
          7.3832135,
          7.3771937,
          7.3767695,
          7.3711499,
          7.3850241,
          7.3722037,
          7.3706146
         ],
         "marker": {
          "color": "black",
          "opacity": 1,
          "size": 10
         },
         "mode": "markers",
         "showlegend": false,
         "text": [
          "<b>Stars and Stripes</b><br><i>bars</i><br>",
          "<b>Holi</b><br><i>restaurants</i><br>",
          "<b>Piazza</b><br><i>restaurants</i><br>",
          "<b>Spiga</b><br><i>restaurants</i><br>",
          "<b>Namamen</b><br><i>restaurants</i><br>",
          "<b>Yooji's</b><br><i>restaurants</i><br>",
          "<b>Nooch</b><br><i>restaurants</i><br>",
          "<b>Tres Amigos</b><br><i>restaurants</i><br>",
          "<b>Holenacker I</b><br><i>kindergarten</i><br>",
          "<b>Brünnen Westside Bahnhof</b><br><i>public_transportation</i><br>",
          "<b>Gäbelbach</b><br><i>public_transportation</i><br>",
          "<b>Holenacker</b><br><i>public_transportation</i><br>",
          "<b>Ramuzstrasse</b><br><i>public_transportation</i><br>",
          "<b>WingTsun</b><br><i>gym_fitness</i><br>",
          "<b>Lidl</b><br><i>grocery_stores_supermarkets</i><br>",
          "<b>Rüedu</b><br><i>grocery_stores_supermarkets</i><br>",
          "<b>Shell</b><br><i>gas_ev_charging</i><br>",
          "<b>Migrol Service Betlehem</b><br><i>gas_ev_charging</i><br>",
          "<b>No name available</b><br><i>gas_ev_charging</i><br>",
          "<b>Westside Supercharger</b><br><i>gas_ev_charging</i><br>"
         ],
         "type": "scattermapbox"
        },
        {
         "hoverinfo": "text",
         "lat": [
          46.9455907
         ],
         "lon": [
          7.3777487
         ],
         "marker": {
          "color": "white",
          "opacity": 1,
          "size": 20
         },
         "mode": "markers",
         "showlegend": false,
         "text": "3027 Bern, Colombstrasse 39",
         "type": "scattermapbox"
        }
       ],
       "layout": {
        "height": 1500,
        "mapbox": {
         "center": {
          "lat": 46.9455907,
          "lon": 7.3777487
         },
         "style": "open-street-map",
         "zoom": 15
        },
        "margin": {
         "b": 0,
         "l": 0,
         "r": 0,
         "t": 0
        },
        "showlegend": false,
        "template": {
         "data": {
          "bar": [
           {
            "error_x": {
             "color": "#2a3f5f"
            },
            "error_y": {
             "color": "#2a3f5f"
            },
            "marker": {
             "line": {
              "color": "#E5ECF6",
              "width": 0.5
             },
             "pattern": {
              "fillmode": "overlay",
              "size": 10,
              "solidity": 0.2
             }
            },
            "type": "bar"
           }
          ],
          "barpolar": [
           {
            "marker": {
             "line": {
              "color": "#E5ECF6",
              "width": 0.5
             },
             "pattern": {
              "fillmode": "overlay",
              "size": 10,
              "solidity": 0.2
             }
            },
            "type": "barpolar"
           }
          ],
          "carpet": [
           {
            "aaxis": {
             "endlinecolor": "#2a3f5f",
             "gridcolor": "white",
             "linecolor": "white",
             "minorgridcolor": "white",
             "startlinecolor": "#2a3f5f"
            },
            "baxis": {
             "endlinecolor": "#2a3f5f",
             "gridcolor": "white",
             "linecolor": "white",
             "minorgridcolor": "white",
             "startlinecolor": "#2a3f5f"
            },
            "type": "carpet"
           }
          ],
          "choropleth": [
           {
            "colorbar": {
             "outlinewidth": 0,
             "ticks": ""
            },
            "type": "choropleth"
           }
          ],
          "contour": [
           {
            "colorbar": {
             "outlinewidth": 0,
             "ticks": ""
            },
            "colorscale": [
             [
              0,
              "#0d0887"
             ],
             [
              0.1111111111111111,
              "#46039f"
             ],
             [
              0.2222222222222222,
              "#7201a8"
             ],
             [
              0.3333333333333333,
              "#9c179e"
             ],
             [
              0.4444444444444444,
              "#bd3786"
             ],
             [
              0.5555555555555556,
              "#d8576b"
             ],
             [
              0.6666666666666666,
              "#ed7953"
             ],
             [
              0.7777777777777778,
              "#fb9f3a"
             ],
             [
              0.8888888888888888,
              "#fdca26"
             ],
             [
              1,
              "#f0f921"
             ]
            ],
            "type": "contour"
           }
          ],
          "contourcarpet": [
           {
            "colorbar": {
             "outlinewidth": 0,
             "ticks": ""
            },
            "type": "contourcarpet"
           }
          ],
          "heatmap": [
           {
            "colorbar": {
             "outlinewidth": 0,
             "ticks": ""
            },
            "colorscale": [
             [
              0,
              "#0d0887"
             ],
             [
              0.1111111111111111,
              "#46039f"
             ],
             [
              0.2222222222222222,
              "#7201a8"
             ],
             [
              0.3333333333333333,
              "#9c179e"
             ],
             [
              0.4444444444444444,
              "#bd3786"
             ],
             [
              0.5555555555555556,
              "#d8576b"
             ],
             [
              0.6666666666666666,
              "#ed7953"
             ],
             [
              0.7777777777777778,
              "#fb9f3a"
             ],
             [
              0.8888888888888888,
              "#fdca26"
             ],
             [
              1,
              "#f0f921"
             ]
            ],
            "type": "heatmap"
           }
          ],
          "heatmapgl": [
           {
            "colorbar": {
             "outlinewidth": 0,
             "ticks": ""
            },
            "colorscale": [
             [
              0,
              "#0d0887"
             ],
             [
              0.1111111111111111,
              "#46039f"
             ],
             [
              0.2222222222222222,
              "#7201a8"
             ],
             [
              0.3333333333333333,
              "#9c179e"
             ],
             [
              0.4444444444444444,
              "#bd3786"
             ],
             [
              0.5555555555555556,
              "#d8576b"
             ],
             [
              0.6666666666666666,
              "#ed7953"
             ],
             [
              0.7777777777777778,
              "#fb9f3a"
             ],
             [
              0.8888888888888888,
              "#fdca26"
             ],
             [
              1,
              "#f0f921"
             ]
            ],
            "type": "heatmapgl"
           }
          ],
          "histogram": [
           {
            "marker": {
             "pattern": {
              "fillmode": "overlay",
              "size": 10,
              "solidity": 0.2
             }
            },
            "type": "histogram"
           }
          ],
          "histogram2d": [
           {
            "colorbar": {
             "outlinewidth": 0,
             "ticks": ""
            },
            "colorscale": [
             [
              0,
              "#0d0887"
             ],
             [
              0.1111111111111111,
              "#46039f"
             ],
             [
              0.2222222222222222,
              "#7201a8"
             ],
             [
              0.3333333333333333,
              "#9c179e"
             ],
             [
              0.4444444444444444,
              "#bd3786"
             ],
             [
              0.5555555555555556,
              "#d8576b"
             ],
             [
              0.6666666666666666,
              "#ed7953"
             ],
             [
              0.7777777777777778,
              "#fb9f3a"
             ],
             [
              0.8888888888888888,
              "#fdca26"
             ],
             [
              1,
              "#f0f921"
             ]
            ],
            "type": "histogram2d"
           }
          ],
          "histogram2dcontour": [
           {
            "colorbar": {
             "outlinewidth": 0,
             "ticks": ""
            },
            "colorscale": [
             [
              0,
              "#0d0887"
             ],
             [
              0.1111111111111111,
              "#46039f"
             ],
             [
              0.2222222222222222,
              "#7201a8"
             ],
             [
              0.3333333333333333,
              "#9c179e"
             ],
             [
              0.4444444444444444,
              "#bd3786"
             ],
             [
              0.5555555555555556,
              "#d8576b"
             ],
             [
              0.6666666666666666,
              "#ed7953"
             ],
             [
              0.7777777777777778,
              "#fb9f3a"
             ],
             [
              0.8888888888888888,
              "#fdca26"
             ],
             [
              1,
              "#f0f921"
             ]
            ],
            "type": "histogram2dcontour"
           }
          ],
          "mesh3d": [
           {
            "colorbar": {
             "outlinewidth": 0,
             "ticks": ""
            },
            "type": "mesh3d"
           }
          ],
          "parcoords": [
           {
            "line": {
             "colorbar": {
              "outlinewidth": 0,
              "ticks": ""
             }
            },
            "type": "parcoords"
           }
          ],
          "pie": [
           {
            "automargin": true,
            "type": "pie"
           }
          ],
          "scatter": [
           {
            "fillpattern": {
             "fillmode": "overlay",
             "size": 10,
             "solidity": 0.2
            },
            "type": "scatter"
           }
          ],
          "scatter3d": [
           {
            "line": {
             "colorbar": {
              "outlinewidth": 0,
              "ticks": ""
             }
            },
            "marker": {
             "colorbar": {
              "outlinewidth": 0,
              "ticks": ""
             }
            },
            "type": "scatter3d"
           }
          ],
          "scattercarpet": [
           {
            "marker": {
             "colorbar": {
              "outlinewidth": 0,
              "ticks": ""
             }
            },
            "type": "scattercarpet"
           }
          ],
          "scattergeo": [
           {
            "marker": {
             "colorbar": {
              "outlinewidth": 0,
              "ticks": ""
             }
            },
            "type": "scattergeo"
           }
          ],
          "scattergl": [
           {
            "marker": {
             "colorbar": {
              "outlinewidth": 0,
              "ticks": ""
             }
            },
            "type": "scattergl"
           }
          ],
          "scattermapbox": [
           {
            "marker": {
             "colorbar": {
              "outlinewidth": 0,
              "ticks": ""
             }
            },
            "type": "scattermapbox"
           }
          ],
          "scatterpolar": [
           {
            "marker": {
             "colorbar": {
              "outlinewidth": 0,
              "ticks": ""
             }
            },
            "type": "scatterpolar"
           }
          ],
          "scatterpolargl": [
           {
            "marker": {
             "colorbar": {
              "outlinewidth": 0,
              "ticks": ""
             }
            },
            "type": "scatterpolargl"
           }
          ],
          "scatterternary": [
           {
            "marker": {
             "colorbar": {
              "outlinewidth": 0,
              "ticks": ""
             }
            },
            "type": "scatterternary"
           }
          ],
          "surface": [
           {
            "colorbar": {
             "outlinewidth": 0,
             "ticks": ""
            },
            "colorscale": [
             [
              0,
              "#0d0887"
             ],
             [
              0.1111111111111111,
              "#46039f"
             ],
             [
              0.2222222222222222,
              "#7201a8"
             ],
             [
              0.3333333333333333,
              "#9c179e"
             ],
             [
              0.4444444444444444,
              "#bd3786"
             ],
             [
              0.5555555555555556,
              "#d8576b"
             ],
             [
              0.6666666666666666,
              "#ed7953"
             ],
             [
              0.7777777777777778,
              "#fb9f3a"
             ],
             [
              0.8888888888888888,
              "#fdca26"
             ],
             [
              1,
              "#f0f921"
             ]
            ],
            "type": "surface"
           }
          ],
          "table": [
           {
            "cells": {
             "fill": {
              "color": "#EBF0F8"
             },
             "line": {
              "color": "white"
             }
            },
            "header": {
             "fill": {
              "color": "#C8D4E3"
             },
             "line": {
              "color": "white"
             }
            },
            "type": "table"
           }
          ]
         },
         "layout": {
          "annotationdefaults": {
           "arrowcolor": "#2a3f5f",
           "arrowhead": 0,
           "arrowwidth": 1
          },
          "autotypenumbers": "strict",
          "coloraxis": {
           "colorbar": {
            "outlinewidth": 0,
            "ticks": ""
           }
          },
          "colorscale": {
           "diverging": [
            [
             0,
             "#8e0152"
            ],
            [
             0.1,
             "#c51b7d"
            ],
            [
             0.2,
             "#de77ae"
            ],
            [
             0.3,
             "#f1b6da"
            ],
            [
             0.4,
             "#fde0ef"
            ],
            [
             0.5,
             "#f7f7f7"
            ],
            [
             0.6,
             "#e6f5d0"
            ],
            [
             0.7,
             "#b8e186"
            ],
            [
             0.8,
             "#7fbc41"
            ],
            [
             0.9,
             "#4d9221"
            ],
            [
             1,
             "#276419"
            ]
           ],
           "sequential": [
            [
             0,
             "#0d0887"
            ],
            [
             0.1111111111111111,
             "#46039f"
            ],
            [
             0.2222222222222222,
             "#7201a8"
            ],
            [
             0.3333333333333333,
             "#9c179e"
            ],
            [
             0.4444444444444444,
             "#bd3786"
            ],
            [
             0.5555555555555556,
             "#d8576b"
            ],
            [
             0.6666666666666666,
             "#ed7953"
            ],
            [
             0.7777777777777778,
             "#fb9f3a"
            ],
            [
             0.8888888888888888,
             "#fdca26"
            ],
            [
             1,
             "#f0f921"
            ]
           ],
           "sequentialminus": [
            [
             0,
             "#0d0887"
            ],
            [
             0.1111111111111111,
             "#46039f"
            ],
            [
             0.2222222222222222,
             "#7201a8"
            ],
            [
             0.3333333333333333,
             "#9c179e"
            ],
            [
             0.4444444444444444,
             "#bd3786"
            ],
            [
             0.5555555555555556,
             "#d8576b"
            ],
            [
             0.6666666666666666,
             "#ed7953"
            ],
            [
             0.7777777777777778,
             "#fb9f3a"
            ],
            [
             0.8888888888888888,
             "#fdca26"
            ],
            [
             1,
             "#f0f921"
            ]
           ]
          },
          "colorway": [
           "#636efa",
           "#EF553B",
           "#00cc96",
           "#ab63fa",
           "#FFA15A",
           "#19d3f3",
           "#FF6692",
           "#B6E880",
           "#FF97FF",
           "#FECB52"
          ],
          "font": {
           "color": "#2a3f5f"
          },
          "geo": {
           "bgcolor": "white",
           "lakecolor": "white",
           "landcolor": "#E5ECF6",
           "showlakes": true,
           "showland": true,
           "subunitcolor": "white"
          },
          "hoverlabel": {
           "align": "left"
          },
          "hovermode": "closest",
          "mapbox": {
           "style": "light"
          },
          "paper_bgcolor": "white",
          "plot_bgcolor": "#E5ECF6",
          "polar": {
           "angularaxis": {
            "gridcolor": "white",
            "linecolor": "white",
            "ticks": ""
           },
           "bgcolor": "#E5ECF6",
           "radialaxis": {
            "gridcolor": "white",
            "linecolor": "white",
            "ticks": ""
           }
          },
          "scene": {
           "xaxis": {
            "backgroundcolor": "#E5ECF6",
            "gridcolor": "white",
            "gridwidth": 2,
            "linecolor": "white",
            "showbackground": true,
            "ticks": "",
            "zerolinecolor": "white"
           },
           "yaxis": {
            "backgroundcolor": "#E5ECF6",
            "gridcolor": "white",
            "gridwidth": 2,
            "linecolor": "white",
            "showbackground": true,
            "ticks": "",
            "zerolinecolor": "white"
           },
           "zaxis": {
            "backgroundcolor": "#E5ECF6",
            "gridcolor": "white",
            "gridwidth": 2,
            "linecolor": "white",
            "showbackground": true,
            "ticks": "",
            "zerolinecolor": "white"
           }
          },
          "shapedefaults": {
           "line": {
            "color": "#2a3f5f"
           }
          },
          "ternary": {
           "aaxis": {
            "gridcolor": "white",
            "linecolor": "white",
            "ticks": ""
           },
           "baxis": {
            "gridcolor": "white",
            "linecolor": "white",
            "ticks": ""
           },
           "bgcolor": "#E5ECF6",
           "caxis": {
            "gridcolor": "white",
            "linecolor": "white",
            "ticks": ""
           }
          },
          "title": {
           "x": 0.05
          },
          "xaxis": {
           "automargin": true,
           "gridcolor": "white",
           "linecolor": "white",
           "ticks": "",
           "title": {
            "standoff": 15
           },
           "zerolinecolor": "white",
           "zerolinewidth": 2
          },
          "yaxis": {
           "automargin": true,
           "gridcolor": "white",
           "linecolor": "white",
           "ticks": "",
           "title": {
            "standoff": 15
           },
           "zerolinecolor": "white",
           "zerolinewidth": 2
          }
         }
        },
        "width": 1500
       }
      }
     },
     "metadata": {},
     "output_type": "display_data"
    }
   ],
   "source": [
    "i = 1\n",
    "\n",
    "gg = load_data(GOOGLE_FILES[i])\n",
    "osm = load_data(OSM_FILES[i])\n",
    "print(gg['original_address']['address'])\n",
    "\n",
    "base_map = create_base_map(gg, 1500, 1500, 15)\n",
    "add_isochrone(base_map, gg) # no need to put isochrones in OSM files\n",
    "\n",
    "add_places(base_map, gg, 15, 'red' )\n",
    "add_places(base_map, osm, 10, 'black' )\n",
    "\n",
    "add_original_address(base_map, gg)"
   ]
  },
  {
   "cell_type": "markdown",
   "metadata": {},
   "source": [
    "### 1006 Lausanne, Av. d'Ouchy 58"
   ]
  },
  {
   "cell_type": "code",
   "execution_count": 19,
   "metadata": {},
   "outputs": [
    {
     "name": "stdout",
     "output_type": "stream",
     "text": [
      "1006 Lausanne, Av. d'Ouchy 58\n"
     ]
    },
    {
     "data": {
      "application/vnd.plotly.v1+json": {
       "config": {
        "plotlyServerURL": "https://plot.ly"
       },
       "data": [
        {
         "type": "scattermapbox"
        },
        {
         "fill": "toself",
         "fillcolor": "rgba(10,80,50,0.1)",
         "hoverinfo": "text",
         "lat": [
          46.508358,
          46.50829,
          46.506823,
          46.50677,
          46.506777,
          46.506826,
          46.506941,
          46.508036,
          46.509592,
          46.510505,
          46.510635,
          46.51084,
          46.51071,
          46.510709,
          46.510482,
          46.510369,
          46.509075,
          46.508754,
          46.508358
         ],
         "line": {
          "color": "rgba(10,80,50,1)",
          "width": 1
         },
         "lon": [
          6.62528,
          6.625309,
          6.626421,
          6.62664,
          6.626815,
          6.628117,
          6.628265,
          6.62974,
          6.62969,
          6.629037,
          6.628906,
          6.62861,
          6.627563,
          6.627556,
          6.626969,
          6.626755,
          6.625314,
          6.62515,
          6.62528
         ],
         "mode": "lines",
         "showlegend": false,
         "text": "3.0min. walking",
         "type": "scattermapbox"
        },
        {
         "fill": "toself",
         "fillcolor": "rgba(10,80,50,0.1)",
         "hoverinfo": "text",
         "lat": [
          46.507879,
          46.507167,
          46.50585,
          46.505728,
          46.505453,
          46.506619,
          46.506934,
          46.507059,
          46.507888,
          46.50819,
          46.508227,
          46.509168,
          46.509373,
          46.512119,
          46.512296,
          46.512138,
          46.511359,
          46.511122,
          46.509663,
          46.507879
         ],
         "line": {
          "color": "rgba(10,80,50,1)",
          "width": 1
         },
         "lon": [
          6.623826,
          6.624089,
          6.62576,
          6.626098,
          6.627855,
          6.630329,
          6.630958,
          6.631155,
          6.631904,
          6.631971,
          6.631972,
          6.63171,
          6.631591,
          6.629864,
          6.629551,
          6.627969,
          6.6257,
          6.625102,
          6.62327,
          6.623826
         ],
         "mode": "lines",
         "showlegend": false,
         "text": "5.0min. walking",
         "type": "scattermapbox"
        },
        {
         "fill": "toself",
         "fillcolor": "rgba(10,80,50,0.1)",
         "hoverinfo": "text",
         "lat": [
          46.508467,
          46.507616,
          46.507355,
          46.502279,
          46.499761,
          46.499653,
          46.504766,
          46.50702,
          46.507158,
          46.507224,
          46.509153,
          46.50951,
          46.511838,
          46.513433,
          46.513493,
          46.513544,
          46.513474,
          46.512957,
          46.51201,
          46.511433,
          46.510977,
          46.508467
         ],
         "line": {
          "color": "rgba(10,80,50,1)",
          "width": 1
         },
         "lon": [
          6.621739,
          6.62219,
          6.622394,
          6.62529,
          6.624717,
          6.625061,
          6.628161,
          6.632439,
          6.632722,
          6.632832,
          6.633178,
          6.633218,
          6.631923,
          6.630796,
          6.630664,
          6.630548,
          6.628368,
          6.625564,
          6.62402,
          6.623057,
          6.622466,
          6.621739
         ],
         "mode": "lines",
         "showlegend": false,
         "text": "7.0min. walking",
         "type": "scattermapbox"
        },
        {
         "fill": "toself",
         "fillcolor": "rgba(10,80,50,0.1)",
         "hoverinfo": "text",
         "lat": [
          46.508409,
          46.506974,
          46.506269,
          46.500977,
          46.499703,
          46.498691,
          46.497678,
          46.4941,
          46.493992,
          46.49671,
          46.499428,
          46.499653,
          46.504766,
          46.50702,
          46.506391,
          46.506351,
          46.506453,
          46.506801,
          46.506877,
          46.512542,
          46.513057,
          46.515049,
          46.515323,
          46.515672,
          46.515249,
          46.513387,
          46.51039,
          46.510087,
          46.508409
         ],
         "line": {
          "color": "rgba(10,80,50,1)",
          "width": 1
         },
         "lon": [
          6.619614,
          6.621432,
          6.622833,
          6.624373,
          6.623489,
          6.622037,
          6.620584,
          6.622944,
          6.623287,
          6.624139,
          6.62499,
          6.625061,
          6.628161,
          6.632439,
          6.635339,
          6.635493,
          6.635696,
          6.635788,
          6.635794,
          6.634603,
          6.634494,
          6.632965,
          6.632731,
          6.629007,
          6.62537,
          6.621752,
          6.619337,
          6.619144,
          6.619614
         ],
         "mode": "lines",
         "showlegend": false,
         "text": "10.0min. walking",
         "type": "scattermapbox"
        },
        {
         "fill": "toself",
         "fillcolor": "rgba(10,80,50,0.1)",
         "hoverinfo": "text",
         "lat": [
          46.510067,
          46.509263,
          46.508982,
          46.50839,
          46.506974,
          46.503109,
          46.498689,
          46.497678,
          46.497674,
          46.49666,
          46.495656,
          46.494267,
          46.492877,
          46.492561,
          46.493951,
          46.49534,
          46.491171,
          46.488439,
          46.488331,
          46.491063,
          46.493795,
          46.493992,
          46.496612,
          46.49671,
          46.499428,
          46.499653,
          46.504766,
          46.50702,
          46.506391,
          46.506351,
          46.505566,
          46.505545,
          46.505684,
          46.506032,
          46.506759,
          46.512529,
          46.512884,
          46.517169,
          46.517253,
          46.517286,
          46.517387,
          46.517147,
          46.516987,
          46.516916,
          46.516893,
          46.516828,
          46.516365,
          46.51482,
          46.514592,
          46.511807,
          46.51175,
          46.510067
         ],
         "line": {
          "color": "rgba(10,80,50,1)",
          "width": 1
         },
         "lon": [
          6.616806,
          6.61673,
          6.616956,
          6.618457,
          6.621432,
          6.623994,
          6.622034,
          6.620584,
          6.620578,
          6.619122,
          6.617683,
          6.615138,
          6.612592,
          6.612765,
          6.61531,
          6.617856,
          6.622026,
          6.62117,
          6.621513,
          6.622369,
          6.623225,
          6.623287,
          6.624108,
          6.624139,
          6.62499,
          6.625061,
          6.628161,
          6.632439,
          6.635339,
          6.635493,
          6.63846,
          6.638542,
          6.638912,
          6.639004,
          6.638704,
          6.637437,
          6.637493,
          6.634101,
          6.634024,
          6.63369,
          6.630156,
          6.626516,
          6.625577,
          6.625175,
          6.625073,
          6.624826,
          6.623196,
          6.619502,
          6.619195,
          6.617083,
          6.617052,
          6.616806
         ],
         "mode": "lines",
         "showlegend": false,
         "text": "13.0min. walking",
         "type": "scattermapbox"
        },
        {
         "fill": "toself",
         "fillcolor": "rgba(10,80,50,0.1)",
         "hoverinfo": "text",
         "lat": [
          46.491157,
          46.492546,
          46.492561,
          46.493943,
          46.493951,
          46.49534,
          46.491087,
          46.488439,
          46.488271,
          46.485581,
          46.482891,
          46.482784,
          46.485473,
          46.488163,
          46.488331,
          46.490979,
          46.491063,
          46.493795,
          46.493992,
          46.496612,
          46.49671,
          46.499428,
          46.499653,
          46.504766,
          46.50702,
          46.506391,
          46.506351,
          46.505566,
          46.505545,
          46.505111,
          46.50506,
          46.505008,
          46.505062,
          46.505147,
          46.505156,
          46.505535,
          46.505962,
          46.507226,
          46.512592,
          46.517034,
          46.518725,
          46.518544,
          46.51826,
          46.51761,
          46.517494,
          46.515596,
          46.512675,
          46.512339,
          46.510157,
          46.508954,
          46.508786,
          46.508618,
          46.508109,
          46.508162,
          46.506974,
          46.502512,
          46.502157,
          46.49666,
          46.495656,
          46.494267,
          46.494259,
          46.492877,
          46.492862,
          46.491473,
          46.490083,
          46.489767,
          46.491157
         ],
         "line": {
          "color": "rgba(10,80,50,1)",
          "width": 1
         },
         "lon": [
          6.610191,
          6.612737,
          6.612765,
          6.615296,
          6.61531,
          6.617856,
          6.621999,
          6.62117,
          6.621117,
          6.620274,
          6.619431,
          6.619775,
          6.620618,
          6.621461,
          6.621513,
          6.622343,
          6.622369,
          6.623225,
          6.623287,
          6.624108,
          6.624139,
          6.62499,
          6.625061,
          6.628161,
          6.632439,
          6.635339,
          6.635493,
          6.63846,
          6.638542,
          6.640188,
          6.640382,
          6.640575,
          6.640683,
          6.640842,
          6.640848,
          6.640887,
          6.640835,
          6.640599,
          6.639122,
          6.636269,
          6.634068,
          6.630094,
          6.62737,
          6.623437,
          6.623082,
          6.617612,
          6.615432,
          6.615304,
          6.614684,
          6.615533,
          6.615872,
          6.616212,
          6.617446,
          6.617763,
          6.621432,
          6.620448,
          6.620509,
          6.619122,
          6.617683,
          6.615138,
          6.615124,
          6.612592,
          6.612564,
          6.610019,
          6.607473,
          6.607646,
          6.610191
         ],
         "mode": "lines",
         "showlegend": false,
         "text": "15.0min. walking",
         "type": "scattermapbox"
        },
        {
         "hoverinfo": "text",
         "hovertemplate": "%{text}<extra></extra>",
         "lat": [
          46.5065699,
          46.51128459999999,
          46.50768809999999,
          46.50486799999999,
          46.5078504,
          46.51223599999999,
          46.5078056,
          46.5074441,
          46.5078684,
          46.50809750000001,
          46.511641,
          46.5119086,
          46.50720949999999,
          46.5071613,
          46.5080535,
          46.50720459999999,
          46.5113676,
          46.51177939999999,
          46.511833,
          46.5078685,
          46.5086331,
          46.508851,
          46.50719219999999,
          46.5065699,
          46.50720949999999,
          46.5082977,
          46.50682189999999,
          46.5071613,
          46.5080535,
          46.51234789999999,
          46.5102577,
          46.5102186,
          46.5087324,
          46.5119945,
          46.5078656,
          46.50720949999999,
          46.5082977,
          46.50682189999999,
          46.5071613,
          46.5080535,
          46.51234789999999,
          46.5102577,
          46.5102186,
          46.5087324,
          46.5119945,
          46.5078656,
          46.50720949999999,
          46.5082977,
          46.50682189999999,
          46.5071613,
          46.5080535,
          46.51234789999999,
          46.5102577,
          46.5102186,
          46.5087324,
          46.5119945,
          46.5078656,
          46.5097326,
          46.507057,
          46.5120267,
          46.5072757,
          46.50836,
          46.5097326,
          46.50992999999999,
          46.51020399999999,
          46.507057,
          46.50566200000001,
          46.5120267,
          46.512033,
          46.51083800000001,
          46.5126674,
          46.50733899999999,
          46.50979599999999,
          46.5070376,
          46.50720949999999,
          46.5082977,
          46.50682189999999,
          46.5071613,
          46.5080535,
          46.51234789999999,
          46.5102577,
          46.5102186,
          46.5087324,
          46.5119945,
          46.5078656,
          46.51132999999999,
          46.5110667,
          46.5120462,
          46.51247499999999,
          46.50720949999999,
          46.5082977,
          46.50682189999999,
          46.5071613,
          46.5080535,
          46.51234789999999,
          46.5102577,
          46.5102186,
          46.5087324,
          46.5119945,
          46.5078656,
          46.5102577,
          46.5077564,
          46.5123395,
          46.50792389999999,
          46.5131531,
          46.50702810000001,
          46.50702750000001,
          46.50720949999999,
          46.5082977,
          46.50682189999999,
          46.5071613,
          46.5080535,
          46.51234789999999,
          46.5102577,
          46.5102186,
          46.5087324,
          46.5119945,
          46.5078656,
          46.50830869999999,
          46.509478,
          46.5107644,
          46.5107644,
          46.51079910000001
         ],
         "lon": [
          6.625689599999999,
          6.628424,
          6.622396199999999,
          6.627434199999999,
          6.627252700000001,
          6.626502,
          6.6272392,
          6.625706199999999,
          6.6300052,
          6.624307,
          6.626005499999999,
          6.6298431,
          6.6279085,
          6.628313500000001,
          6.6301525,
          6.627290899999998,
          6.6284904,
          6.626066499999999,
          6.625596099999999,
          6.6300052,
          6.627462499999999,
          6.626188,
          6.6281078,
          6.625689599999999,
          6.6279085,
          6.624194,
          6.627394599999999,
          6.628313500000001,
          6.6301525,
          6.62772,
          6.6262349,
          6.620741700000001,
          6.634087900000001,
          6.6305324,
          6.627175499999999,
          6.6279085,
          6.624194,
          6.627394599999999,
          6.628313500000001,
          6.6301525,
          6.62772,
          6.6262349,
          6.620741700000001,
          6.634087900000001,
          6.6305324,
          6.627175499999999,
          6.6279085,
          6.624194,
          6.627394599999999,
          6.628313500000001,
          6.6301525,
          6.62772,
          6.6262349,
          6.620741700000001,
          6.634087900000001,
          6.6305324,
          6.627175499999999,
          6.627385099999999,
          6.626445700000001,
          6.6280199,
          6.624817999999999,
          6.6276365,
          6.627385099999999,
          6.627438,
          6.628516999999999,
          6.626445700000001,
          6.626861,
          6.6280199,
          6.629579999999999,
          6.632346999999999,
          6.625799400000001,
          6.632890999999999,
          6.620076,
          6.6344618,
          6.6279085,
          6.624194,
          6.627394599999999,
          6.628313500000001,
          6.6301525,
          6.62772,
          6.6262349,
          6.620741700000001,
          6.634087900000001,
          6.6305324,
          6.627175499999999,
          6.628419399999999,
          6.624988499999999,
          6.6239017,
          6.631023799999999,
          6.6279085,
          6.624194,
          6.627394599999999,
          6.628313500000001,
          6.6301525,
          6.62772,
          6.6262349,
          6.620741700000001,
          6.634087900000001,
          6.6305324,
          6.627175499999999,
          6.6262349,
          6.627242900000001,
          6.6259406,
          6.624861699999999,
          6.6286473,
          6.6214637,
          6.621469500000001,
          6.6279085,
          6.624194,
          6.627394599999999,
          6.628313500000001,
          6.6301525,
          6.62772,
          6.6262349,
          6.620741700000001,
          6.634087900000001,
          6.6305324,
          6.627175499999999,
          6.626250899999999,
          6.624642,
          6.6312044,
          6.6312044,
          6.631257100000001
         ],
         "marker": {
          "color": "red",
          "opacity": 1,
          "size": 15
         },
         "mode": "markers",
         "showlegend": false,
         "text": [
          "<b>Terrasse d'Ouchy</b><br><i>bars</i><br>",
          "<b>Sky Lounge</b><br><i>bars</i><br>",
          "<b>La Nautica Ouchy</b><br><i>bars</i><br>",
          "<b>The Lacustre</b><br><i>bars</i><br>",
          "<b>White Horse</b><br><i>bars</i><br>",
          "<b>Le petit coin gourmand</b><br><i>bars</i><br>",
          "<b>EL BLANCO...bodega. San miguel</b><br><i>bars</i><br>",
          "<b>MGM Café</b><br><i>bars</i><br>",
          "<b>Lobby Lounge - Beau-Rivage Palace</b><br><i>bars</i><br>",
          "<b>Le Bar</b><br><i>bars</i><br>",
          "<b>Monsieur Madame</b><br><i>bars</i><br>",
          "<b>friederike conlon</b><br><i>bars</i><br>",
          "<b>Hôtel du Port</b><br><i>restaurants</i><br>",
          "<b>Angleterre & Résidence</b><br><i>restaurants</i><br>",
          "<b>Beau-Rivage Palace</b><br><i>restaurants</i><br>",
          "<b>Restaurant Le Boccalino</b><br><i>restaurants</i><br>",
          "<b>Hotel Royal Savoy Lausanne</b><br><i>restaurants</i><br>",
          "<b>Le Kotchi, Sushis-Ramen-Udon-Bento</b><br><i>restaurants</i><br>",
          "<b>le Pinocchio</b><br><i>restaurants</i><br>",
          "<b>Café Beau-Rivage</b><br><i>restaurants</i><br>",
          "<b>Takayama. Sushi bar & restaurant</b><br><i>restaurants</i><br>",
          "<b>Keyann Bistro Libanais</b><br><i>restaurants</i><br>",
          "<b>La Crêperie d'Ouchy</b><br><i>restaurants</i><br>",
          "<b>Terrasse d'Ouchy</b><br><i>restaurants</i><br>",
          "<b>Hôtel du Port</b><br><i>kindergarten</i><br>",
          "<b>Mövenpick Lausanne</b><br><i>kindergarten</i><br>",
          "<b>Château d'Ouchy</b><br><i>kindergarten</i><br>",
          "<b>Angleterre & Résidence</b><br><i>kindergarten</i><br>",
          "<b>Beau-Rivage Palace</b><br><i>kindergarten</i><br>",
          "<b>Carlton Lausanne Boutique Hotel‎</b><br><i>kindergarten</i><br>",
          "<b>Coop Supermarché Lausanne La Harpe</b><br><i>kindergarten</i><br>",
          "<b>IMD Business School</b><br><i>kindergarten</i><br>",
          "<b>The Olympic Museum</b><br><i>kindergarten</i><br>",
          "<b>Clinique Bois-Cerf</b><br><i>kindergarten</i><br>",
          "<b>ImmoStreet.ch SA</b><br><i>kindergarten</i><br>",
          "<b>Hôtel du Port</b><br><i>kindergarten</i><br>",
          "<b>Mövenpick Lausanne</b><br><i>kindergarten</i><br>",
          "<b>Château d'Ouchy</b><br><i>kindergarten</i><br>",
          "<b>Angleterre & Résidence</b><br><i>kindergarten</i><br>",
          "<b>Beau-Rivage Palace</b><br><i>kindergarten</i><br>",
          "<b>Carlton Lausanne Boutique Hotel‎</b><br><i>kindergarten</i><br>",
          "<b>Coop Supermarché Lausanne La Harpe</b><br><i>kindergarten</i><br>",
          "<b>IMD Business School</b><br><i>kindergarten</i><br>",
          "<b>The Olympic Museum</b><br><i>kindergarten</i><br>",
          "<b>Clinique Bois-Cerf</b><br><i>kindergarten</i><br>",
          "<b>ImmoStreet.ch SA</b><br><i>kindergarten</i><br>",
          "<b>Hôtel du Port</b><br><i>public_transportation</i><br>",
          "<b>Mövenpick Lausanne</b><br><i>public_transportation</i><br>",
          "<b>Château d'Ouchy</b><br><i>public_transportation</i><br>",
          "<b>Angleterre & Résidence</b><br><i>public_transportation</i><br>",
          "<b>Beau-Rivage Palace</b><br><i>public_transportation</i><br>",
          "<b>Carlton Lausanne Boutique Hotel‎</b><br><i>public_transportation</i><br>",
          "<b>Coop Supermarché Lausanne La Harpe</b><br><i>public_transportation</i><br>",
          "<b>IMD Business School</b><br><i>public_transportation</i><br>",
          "<b>The Olympic Museum</b><br><i>public_transportation</i><br>",
          "<b>Clinique Bois-Cerf</b><br><i>public_transportation</i><br>",
          "<b>ImmoStreet.ch SA</b><br><i>public_transportation</i><br>",
          "<b>Jordils</b><br><i>public_transportation</i><br>",
          "<b>Ouchy–Olympique</b><br><i>public_transportation</i><br>",
          "<b>Délices</b><br><i>public_transportation</i><br>",
          "<b>lausanne car rental momohlocation</b><br><i>public_transportation</i><br>",
          "<b>Beau-Rivage</b><br><i>public_transportation</i><br>",
          "<b>Jordils</b><br><i>public_transportation</i><br>",
          "<b>Jordils</b><br><i>public_transportation</i><br>",
          "<b>Jordils</b><br><i>public_transportation</i><br>",
          "<b>Ouchy–Olympique</b><br><i>public_transportation</i><br>",
          "<b>Lausanne-Ouchy</b><br><i>public_transportation</i><br>",
          "<b>Délices</b><br><i>public_transportation</i><br>",
          "<b>Croix d'Ouchy</b><br><i>public_transportation</i><br>",
          "<b>Elysée</b><br><i>public_transportation</i><br>",
          "<b>Cour</b><br><i>public_transportation</i><br>",
          "<b>Parc Musée Olympique</b><br><i>public_transportation</i><br>",
          "<b>Pêcheurs</b><br><i>public_transportation</i><br>",
          "<b>Parc Musée Olympique</b><br><i>public_transportation</i><br>",
          "<b>Hôtel du Port</b><br><i>gym_fitness</i><br>",
          "<b>Mövenpick Lausanne</b><br><i>gym_fitness</i><br>",
          "<b>Château d'Ouchy</b><br><i>gym_fitness</i><br>",
          "<b>Angleterre & Résidence</b><br><i>gym_fitness</i><br>",
          "<b>Beau-Rivage Palace</b><br><i>gym_fitness</i><br>",
          "<b>Carlton Lausanne Boutique Hotel‎</b><br><i>gym_fitness</i><br>",
          "<b>Coop Supermarché Lausanne La Harpe</b><br><i>gym_fitness</i><br>",
          "<b>IMD Business School</b><br><i>gym_fitness</i><br>",
          "<b>The Olympic Museum</b><br><i>gym_fitness</i><br>",
          "<b>Clinique Bois-Cerf</b><br><i>gym_fitness</i><br>",
          "<b>ImmoStreet.ch SA</b><br><i>gym_fitness</i><br>",
          "<b>imyoga.ch</b><br><i>gym_fitness</i><br>",
          "<b>IMD Gym</b><br><i>gym_fitness</i><br>",
          "<b>Rubambelle Yoga prénatal</b><br><i>gym_fitness</i><br>",
          "<b>GR Lucens Gymnastique rythmique</b><br><i>gym_fitness</i><br>",
          "<b>Hôtel du Port</b><br><i>grocery_stores_supermarkets</i><br>",
          "<b>Mövenpick Lausanne</b><br><i>grocery_stores_supermarkets</i><br>",
          "<b>Château d'Ouchy</b><br><i>grocery_stores_supermarkets</i><br>",
          "<b>Angleterre & Résidence</b><br><i>grocery_stores_supermarkets</i><br>",
          "<b>Beau-Rivage Palace</b><br><i>grocery_stores_supermarkets</i><br>",
          "<b>Carlton Lausanne Boutique Hotel‎</b><br><i>grocery_stores_supermarkets</i><br>",
          "<b>Coop Supermarché Lausanne La Harpe</b><br><i>grocery_stores_supermarkets</i><br>",
          "<b>IMD Business School</b><br><i>grocery_stores_supermarkets</i><br>",
          "<b>The Olympic Museum</b><br><i>grocery_stores_supermarkets</i><br>",
          "<b>Clinique Bois-Cerf</b><br><i>grocery_stores_supermarkets</i><br>",
          "<b>ImmoStreet.ch SA</b><br><i>grocery_stores_supermarkets</i><br>",
          "<b>Coop Supermarché Lausanne La Harpe</b><br><i>grocery_stores_supermarkets</i><br>",
          "<b>Coop Pronto Lausanne Ouchy</b><br><i>grocery_stores_supermarkets</i><br>",
          "<b>Supermarché Migros - Lausanne - La Harpe</b><br><i>grocery_stores_supermarkets</i><br>",
          "<b>Migros Partenaire - MP Ouchy</b><br><i>grocery_stores_supermarkets</i><br>",
          "<b>Krüger & Kazan Sàrl</b><br><i>gas_ev_charging</i><br>",
          "<b>Pompe à essence Eni</b><br><i>gas_ev_charging</i><br>",
          "<b>station-service pour bateaux</b><br><i>gas_ev_charging</i><br>",
          "<b>Hôtel du Port</b><br><i>gas_ev_charging</i><br>",
          "<b>Mövenpick Lausanne</b><br><i>gas_ev_charging</i><br>",
          "<b>Château d'Ouchy</b><br><i>gas_ev_charging</i><br>",
          "<b>Angleterre & Résidence</b><br><i>gas_ev_charging</i><br>",
          "<b>Beau-Rivage Palace</b><br><i>gas_ev_charging</i><br>",
          "<b>Carlton Lausanne Boutique Hotel‎</b><br><i>gas_ev_charging</i><br>",
          "<b>Coop Supermarché Lausanne La Harpe</b><br><i>gas_ev_charging</i><br>",
          "<b>IMD Business School</b><br><i>gas_ev_charging</i><br>",
          "<b>The Olympic Museum</b><br><i>gas_ev_charging</i><br>",
          "<b>Clinique Bois-Cerf</b><br><i>gas_ev_charging</i><br>",
          "<b>ImmoStreet.ch SA</b><br><i>gas_ev_charging</i><br>",
          "<b>Formasuisse, Formations Rh, Management, Certificat Rh</b><br><i>schools</i><br>",
          "<b>Ih Architecture</b><br><i>schools</i><br>",
          "<b>Center for Teaching Practices of Health (CEPS)</b><br><i>schools</i><br>",
          "<b>Direction Générale De L'enseignement Supérieur</b><br><i>schools</i><br>",
          "<b>Haute École de Santé Vaud (HESAV) · Site Elysée</b><br><i>schools</i><br>"
         ],
         "type": "scattermapbox"
        },
        {
         "hoverinfo": "text",
         "hovertemplate": "%{text}<extra></extra>",
         "lat": [
          46.507429,
          46.5116148,
          46.5071714,
          46.5071717,
          46.506718,
          46.5071861,
          46.5072597,
          46.5071933,
          46.5121889,
          46.5124076,
          46.5076477,
          46.5116352,
          46.5118185,
          46.5088525,
          46.5076191,
          46.5079249,
          46.5065757,
          46.512799,
          46.5076188,
          46.5071463,
          46.5078598,
          46.5106361,
          46.5077021,
          46.5087759,
          46.511786,
          46.5068304,
          46.5079638,
          46.5122287,
          46.5094154,
          46.5070058,
          46.5125876
         ],
         "lon": [
          6.62574,
          6.6260278,
          6.6271334,
          6.6263109,
          6.6276147,
          6.6278714,
          6.6283971,
          6.6281182,
          6.6250716,
          6.6277297,
          6.6252184,
          6.6297073,
          6.6256924,
          6.6261881,
          6.6275019,
          6.6307278,
          6.6257375,
          6.6298788,
          6.6223241,
          6.6270683,
          6.6272187,
          6.6262733,
          6.6226467,
          6.6274864,
          6.6291634,
          6.6267484,
          6.6248618,
          6.6249352,
          6.6267061,
          6.6214654,
          6.6258729
         ],
         "marker": {
          "color": "black",
          "opacity": 1,
          "size": 10
         },
         "mode": "markers",
         "showlegend": false,
         "text": [
          "<b>MGM</b><br><i>bars</i><br>",
          "<b>Florida</b><br><i>bars</i><br>",
          "<b>Boccalino</b><br><i>restaurants</i><br>",
          "<b>La Riviera</b><br><i>restaurants</i><br>",
          "<b>Château d'Ouchy</b><br><i>restaurants</i><br>",
          "<b>Cafe du Vieil Ouchy</b><br><i>restaurants</i><br>",
          "<b>L’Accademia</b><br><i>restaurants</i><br>",
          "<b>Crêperie d'Ouchy</b><br><i>restaurants</i><br>",
          "<b>La Jonque</b><br><i>restaurants</i><br>",
          "<b>L'ardoise</b><br><i>restaurants</i><br>",
          "<b>Le Quai Gourmand</b><br><i>restaurants</i><br>",
          "<b>La croix d'ouchy</b><br><i>restaurants</i><br>",
          "<b>Le Pinocchio</b><br><i>restaurants</i><br>",
          "<b>Keyann</b><br><i>restaurants</i><br>",
          "<b>Saveurs d'ailleurs</b><br><i>restaurants</i><br>",
          "<b>Anne-Sophie Pic au Beau-Rivage Palace</b><br><i>restaurants</i><br>",
          "<b>Terrasse d'Ouchy</b><br><i>restaurants</i><br>",
          "<b>Le pré-fleuri</b><br><i>restaurants</i><br>",
          "<b>Hoian</b><br><i>restaurants</i><br>",
          "<b>SUSHIZEN Ouchy</b><br><i>restaurants</i><br>",
          "<b>White Horse</b><br><i>restaurants</i><br>",
          "<b>Yasmine</b><br><i>restaurants</i><br>",
          "<b>La Nautica</b><br><i>restaurants</i><br>",
          "<b>Takayama</b><br><i>restaurants</i><br>",
          "<b>Piazza San Marco</b><br><i>restaurants</i><br>",
          "<b>Taxi Services - Ouchy</b><br><i>public_transportation</i><br>",
          "<b>Migros</b><br><i>grocery_stores_supermarkets</i><br>",
          "<b>Kiosque & Alimentation de cour</b><br><i>grocery_stores_supermarkets</i><br>",
          "<b>Kim Hoa alimentation asiatique</b><br><i>grocery_stores_supermarkets</i><br>",
          "<b>Bateaux seulement</b><br><i>gas_ev_charging</i><br>",
          "<b>Atelier céramique de la harpe - École de potterie</b><br><i>schools</i><br>"
         ],
         "type": "scattermapbox"
        },
        {
         "hoverinfo": "text",
         "lat": [
          46.5087576
         ],
         "lon": [
          6.627395399999999
         ],
         "marker": {
          "color": "white",
          "opacity": 1,
          "size": 20
         },
         "mode": "markers",
         "showlegend": false,
         "text": "1006 Lausanne, Av. d'Ouchy 58",
         "type": "scattermapbox"
        }
       ],
       "layout": {
        "height": 1500,
        "mapbox": {
         "center": {
          "lat": 46.5087576,
          "lon": 6.627395399999999
         },
         "style": "open-street-map",
         "zoom": 15
        },
        "margin": {
         "b": 0,
         "l": 0,
         "r": 0,
         "t": 0
        },
        "showlegend": false,
        "template": {
         "data": {
          "bar": [
           {
            "error_x": {
             "color": "#2a3f5f"
            },
            "error_y": {
             "color": "#2a3f5f"
            },
            "marker": {
             "line": {
              "color": "#E5ECF6",
              "width": 0.5
             },
             "pattern": {
              "fillmode": "overlay",
              "size": 10,
              "solidity": 0.2
             }
            },
            "type": "bar"
           }
          ],
          "barpolar": [
           {
            "marker": {
             "line": {
              "color": "#E5ECF6",
              "width": 0.5
             },
             "pattern": {
              "fillmode": "overlay",
              "size": 10,
              "solidity": 0.2
             }
            },
            "type": "barpolar"
           }
          ],
          "carpet": [
           {
            "aaxis": {
             "endlinecolor": "#2a3f5f",
             "gridcolor": "white",
             "linecolor": "white",
             "minorgridcolor": "white",
             "startlinecolor": "#2a3f5f"
            },
            "baxis": {
             "endlinecolor": "#2a3f5f",
             "gridcolor": "white",
             "linecolor": "white",
             "minorgridcolor": "white",
             "startlinecolor": "#2a3f5f"
            },
            "type": "carpet"
           }
          ],
          "choropleth": [
           {
            "colorbar": {
             "outlinewidth": 0,
             "ticks": ""
            },
            "type": "choropleth"
           }
          ],
          "contour": [
           {
            "colorbar": {
             "outlinewidth": 0,
             "ticks": ""
            },
            "colorscale": [
             [
              0,
              "#0d0887"
             ],
             [
              0.1111111111111111,
              "#46039f"
             ],
             [
              0.2222222222222222,
              "#7201a8"
             ],
             [
              0.3333333333333333,
              "#9c179e"
             ],
             [
              0.4444444444444444,
              "#bd3786"
             ],
             [
              0.5555555555555556,
              "#d8576b"
             ],
             [
              0.6666666666666666,
              "#ed7953"
             ],
             [
              0.7777777777777778,
              "#fb9f3a"
             ],
             [
              0.8888888888888888,
              "#fdca26"
             ],
             [
              1,
              "#f0f921"
             ]
            ],
            "type": "contour"
           }
          ],
          "contourcarpet": [
           {
            "colorbar": {
             "outlinewidth": 0,
             "ticks": ""
            },
            "type": "contourcarpet"
           }
          ],
          "heatmap": [
           {
            "colorbar": {
             "outlinewidth": 0,
             "ticks": ""
            },
            "colorscale": [
             [
              0,
              "#0d0887"
             ],
             [
              0.1111111111111111,
              "#46039f"
             ],
             [
              0.2222222222222222,
              "#7201a8"
             ],
             [
              0.3333333333333333,
              "#9c179e"
             ],
             [
              0.4444444444444444,
              "#bd3786"
             ],
             [
              0.5555555555555556,
              "#d8576b"
             ],
             [
              0.6666666666666666,
              "#ed7953"
             ],
             [
              0.7777777777777778,
              "#fb9f3a"
             ],
             [
              0.8888888888888888,
              "#fdca26"
             ],
             [
              1,
              "#f0f921"
             ]
            ],
            "type": "heatmap"
           }
          ],
          "heatmapgl": [
           {
            "colorbar": {
             "outlinewidth": 0,
             "ticks": ""
            },
            "colorscale": [
             [
              0,
              "#0d0887"
             ],
             [
              0.1111111111111111,
              "#46039f"
             ],
             [
              0.2222222222222222,
              "#7201a8"
             ],
             [
              0.3333333333333333,
              "#9c179e"
             ],
             [
              0.4444444444444444,
              "#bd3786"
             ],
             [
              0.5555555555555556,
              "#d8576b"
             ],
             [
              0.6666666666666666,
              "#ed7953"
             ],
             [
              0.7777777777777778,
              "#fb9f3a"
             ],
             [
              0.8888888888888888,
              "#fdca26"
             ],
             [
              1,
              "#f0f921"
             ]
            ],
            "type": "heatmapgl"
           }
          ],
          "histogram": [
           {
            "marker": {
             "pattern": {
              "fillmode": "overlay",
              "size": 10,
              "solidity": 0.2
             }
            },
            "type": "histogram"
           }
          ],
          "histogram2d": [
           {
            "colorbar": {
             "outlinewidth": 0,
             "ticks": ""
            },
            "colorscale": [
             [
              0,
              "#0d0887"
             ],
             [
              0.1111111111111111,
              "#46039f"
             ],
             [
              0.2222222222222222,
              "#7201a8"
             ],
             [
              0.3333333333333333,
              "#9c179e"
             ],
             [
              0.4444444444444444,
              "#bd3786"
             ],
             [
              0.5555555555555556,
              "#d8576b"
             ],
             [
              0.6666666666666666,
              "#ed7953"
             ],
             [
              0.7777777777777778,
              "#fb9f3a"
             ],
             [
              0.8888888888888888,
              "#fdca26"
             ],
             [
              1,
              "#f0f921"
             ]
            ],
            "type": "histogram2d"
           }
          ],
          "histogram2dcontour": [
           {
            "colorbar": {
             "outlinewidth": 0,
             "ticks": ""
            },
            "colorscale": [
             [
              0,
              "#0d0887"
             ],
             [
              0.1111111111111111,
              "#46039f"
             ],
             [
              0.2222222222222222,
              "#7201a8"
             ],
             [
              0.3333333333333333,
              "#9c179e"
             ],
             [
              0.4444444444444444,
              "#bd3786"
             ],
             [
              0.5555555555555556,
              "#d8576b"
             ],
             [
              0.6666666666666666,
              "#ed7953"
             ],
             [
              0.7777777777777778,
              "#fb9f3a"
             ],
             [
              0.8888888888888888,
              "#fdca26"
             ],
             [
              1,
              "#f0f921"
             ]
            ],
            "type": "histogram2dcontour"
           }
          ],
          "mesh3d": [
           {
            "colorbar": {
             "outlinewidth": 0,
             "ticks": ""
            },
            "type": "mesh3d"
           }
          ],
          "parcoords": [
           {
            "line": {
             "colorbar": {
              "outlinewidth": 0,
              "ticks": ""
             }
            },
            "type": "parcoords"
           }
          ],
          "pie": [
           {
            "automargin": true,
            "type": "pie"
           }
          ],
          "scatter": [
           {
            "fillpattern": {
             "fillmode": "overlay",
             "size": 10,
             "solidity": 0.2
            },
            "type": "scatter"
           }
          ],
          "scatter3d": [
           {
            "line": {
             "colorbar": {
              "outlinewidth": 0,
              "ticks": ""
             }
            },
            "marker": {
             "colorbar": {
              "outlinewidth": 0,
              "ticks": ""
             }
            },
            "type": "scatter3d"
           }
          ],
          "scattercarpet": [
           {
            "marker": {
             "colorbar": {
              "outlinewidth": 0,
              "ticks": ""
             }
            },
            "type": "scattercarpet"
           }
          ],
          "scattergeo": [
           {
            "marker": {
             "colorbar": {
              "outlinewidth": 0,
              "ticks": ""
             }
            },
            "type": "scattergeo"
           }
          ],
          "scattergl": [
           {
            "marker": {
             "colorbar": {
              "outlinewidth": 0,
              "ticks": ""
             }
            },
            "type": "scattergl"
           }
          ],
          "scattermapbox": [
           {
            "marker": {
             "colorbar": {
              "outlinewidth": 0,
              "ticks": ""
             }
            },
            "type": "scattermapbox"
           }
          ],
          "scatterpolar": [
           {
            "marker": {
             "colorbar": {
              "outlinewidth": 0,
              "ticks": ""
             }
            },
            "type": "scatterpolar"
           }
          ],
          "scatterpolargl": [
           {
            "marker": {
             "colorbar": {
              "outlinewidth": 0,
              "ticks": ""
             }
            },
            "type": "scatterpolargl"
           }
          ],
          "scatterternary": [
           {
            "marker": {
             "colorbar": {
              "outlinewidth": 0,
              "ticks": ""
             }
            },
            "type": "scatterternary"
           }
          ],
          "surface": [
           {
            "colorbar": {
             "outlinewidth": 0,
             "ticks": ""
            },
            "colorscale": [
             [
              0,
              "#0d0887"
             ],
             [
              0.1111111111111111,
              "#46039f"
             ],
             [
              0.2222222222222222,
              "#7201a8"
             ],
             [
              0.3333333333333333,
              "#9c179e"
             ],
             [
              0.4444444444444444,
              "#bd3786"
             ],
             [
              0.5555555555555556,
              "#d8576b"
             ],
             [
              0.6666666666666666,
              "#ed7953"
             ],
             [
              0.7777777777777778,
              "#fb9f3a"
             ],
             [
              0.8888888888888888,
              "#fdca26"
             ],
             [
              1,
              "#f0f921"
             ]
            ],
            "type": "surface"
           }
          ],
          "table": [
           {
            "cells": {
             "fill": {
              "color": "#EBF0F8"
             },
             "line": {
              "color": "white"
             }
            },
            "header": {
             "fill": {
              "color": "#C8D4E3"
             },
             "line": {
              "color": "white"
             }
            },
            "type": "table"
           }
          ]
         },
         "layout": {
          "annotationdefaults": {
           "arrowcolor": "#2a3f5f",
           "arrowhead": 0,
           "arrowwidth": 1
          },
          "autotypenumbers": "strict",
          "coloraxis": {
           "colorbar": {
            "outlinewidth": 0,
            "ticks": ""
           }
          },
          "colorscale": {
           "diverging": [
            [
             0,
             "#8e0152"
            ],
            [
             0.1,
             "#c51b7d"
            ],
            [
             0.2,
             "#de77ae"
            ],
            [
             0.3,
             "#f1b6da"
            ],
            [
             0.4,
             "#fde0ef"
            ],
            [
             0.5,
             "#f7f7f7"
            ],
            [
             0.6,
             "#e6f5d0"
            ],
            [
             0.7,
             "#b8e186"
            ],
            [
             0.8,
             "#7fbc41"
            ],
            [
             0.9,
             "#4d9221"
            ],
            [
             1,
             "#276419"
            ]
           ],
           "sequential": [
            [
             0,
             "#0d0887"
            ],
            [
             0.1111111111111111,
             "#46039f"
            ],
            [
             0.2222222222222222,
             "#7201a8"
            ],
            [
             0.3333333333333333,
             "#9c179e"
            ],
            [
             0.4444444444444444,
             "#bd3786"
            ],
            [
             0.5555555555555556,
             "#d8576b"
            ],
            [
             0.6666666666666666,
             "#ed7953"
            ],
            [
             0.7777777777777778,
             "#fb9f3a"
            ],
            [
             0.8888888888888888,
             "#fdca26"
            ],
            [
             1,
             "#f0f921"
            ]
           ],
           "sequentialminus": [
            [
             0,
             "#0d0887"
            ],
            [
             0.1111111111111111,
             "#46039f"
            ],
            [
             0.2222222222222222,
             "#7201a8"
            ],
            [
             0.3333333333333333,
             "#9c179e"
            ],
            [
             0.4444444444444444,
             "#bd3786"
            ],
            [
             0.5555555555555556,
             "#d8576b"
            ],
            [
             0.6666666666666666,
             "#ed7953"
            ],
            [
             0.7777777777777778,
             "#fb9f3a"
            ],
            [
             0.8888888888888888,
             "#fdca26"
            ],
            [
             1,
             "#f0f921"
            ]
           ]
          },
          "colorway": [
           "#636efa",
           "#EF553B",
           "#00cc96",
           "#ab63fa",
           "#FFA15A",
           "#19d3f3",
           "#FF6692",
           "#B6E880",
           "#FF97FF",
           "#FECB52"
          ],
          "font": {
           "color": "#2a3f5f"
          },
          "geo": {
           "bgcolor": "white",
           "lakecolor": "white",
           "landcolor": "#E5ECF6",
           "showlakes": true,
           "showland": true,
           "subunitcolor": "white"
          },
          "hoverlabel": {
           "align": "left"
          },
          "hovermode": "closest",
          "mapbox": {
           "style": "light"
          },
          "paper_bgcolor": "white",
          "plot_bgcolor": "#E5ECF6",
          "polar": {
           "angularaxis": {
            "gridcolor": "white",
            "linecolor": "white",
            "ticks": ""
           },
           "bgcolor": "#E5ECF6",
           "radialaxis": {
            "gridcolor": "white",
            "linecolor": "white",
            "ticks": ""
           }
          },
          "scene": {
           "xaxis": {
            "backgroundcolor": "#E5ECF6",
            "gridcolor": "white",
            "gridwidth": 2,
            "linecolor": "white",
            "showbackground": true,
            "ticks": "",
            "zerolinecolor": "white"
           },
           "yaxis": {
            "backgroundcolor": "#E5ECF6",
            "gridcolor": "white",
            "gridwidth": 2,
            "linecolor": "white",
            "showbackground": true,
            "ticks": "",
            "zerolinecolor": "white"
           },
           "zaxis": {
            "backgroundcolor": "#E5ECF6",
            "gridcolor": "white",
            "gridwidth": 2,
            "linecolor": "white",
            "showbackground": true,
            "ticks": "",
            "zerolinecolor": "white"
           }
          },
          "shapedefaults": {
           "line": {
            "color": "#2a3f5f"
           }
          },
          "ternary": {
           "aaxis": {
            "gridcolor": "white",
            "linecolor": "white",
            "ticks": ""
           },
           "baxis": {
            "gridcolor": "white",
            "linecolor": "white",
            "ticks": ""
           },
           "bgcolor": "#E5ECF6",
           "caxis": {
            "gridcolor": "white",
            "linecolor": "white",
            "ticks": ""
           }
          },
          "title": {
           "x": 0.05
          },
          "xaxis": {
           "automargin": true,
           "gridcolor": "white",
           "linecolor": "white",
           "ticks": "",
           "title": {
            "standoff": 15
           },
           "zerolinecolor": "white",
           "zerolinewidth": 2
          },
          "yaxis": {
           "automargin": true,
           "gridcolor": "white",
           "linecolor": "white",
           "ticks": "",
           "title": {
            "standoff": 15
           },
           "zerolinecolor": "white",
           "zerolinewidth": 2
          }
         }
        },
        "width": 1500
       }
      }
     },
     "metadata": {},
     "output_type": "display_data"
    }
   ],
   "source": [
    "i = 2\n",
    "\n",
    "gg = load_data(GOOGLE_FILES[i])\n",
    "osm = load_data(OSM_FILES[i])\n",
    "print(gg['original_address']['address'])\n",
    "\n",
    "base_map = create_base_map(gg, 1500, 1500, 15)\n",
    "add_isochrone(base_map, gg) # no need to put isochrones in OSM files\n",
    "\n",
    "add_places(base_map, gg, 15, 'red' )\n",
    "add_places(base_map, osm, 10, 'black' )\n",
    "\n",
    "add_original_address(base_map, gg)"
   ]
  },
  {
   "cell_type": "markdown",
   "metadata": {},
   "source": [
    "### 8355 Aadorf, Bruggwiesenstrasse 5"
   ]
  },
  {
   "cell_type": "code",
   "execution_count": 20,
   "metadata": {},
   "outputs": [
    {
     "name": "stdout",
     "output_type": "stream",
     "text": [
      "8355 Aadorf, Bruggwiesenstrasse 5\n"
     ]
    },
    {
     "data": {
      "application/vnd.plotly.v1+json": {
       "config": {
        "plotlyServerURL": "https://plot.ly"
       },
       "data": [
        {
         "type": "scattermapbox"
        },
        {
         "fill": "toself",
         "fillcolor": "rgba(10,80,50,0.1)",
         "hoverinfo": "text",
         "lat": [
          47.493059,
          47.491363,
          47.491603,
          47.491962,
          47.49415,
          47.494247,
          47.494383,
          47.494853,
          47.494877,
          47.494735,
          47.493408,
          47.493059
         ],
         "line": {
          "color": "rgba(10,80,50,1)",
          "width": 1
         },
         "lon": [
          8.891193,
          8.893429,
          8.894088,
          8.894117,
          8.894272,
          8.894087,
          8.893634,
          8.892122,
          8.891939,
          8.891802,
          8.891105,
          8.891193
         ],
         "mode": "lines",
         "showlegend": false,
         "text": "3.0min. walking",
         "type": "scattermapbox"
        },
        {
         "fill": "toself",
         "fillcolor": "rgba(10,80,50,0.1)",
         "hoverinfo": "text",
         "lat": [
          47.49481,
          47.490747,
          47.490016,
          47.489886,
          47.490952,
          47.491186,
          47.493831,
          47.49419,
          47.495471,
          47.497337,
          47.497378,
          47.495166,
          47.49481
         ],
         "line": {
          "color": "rgba(10,80,50,1)",
          "width": 1
         },
         "lon": [
          8.889716,
          8.891468,
          8.892749,
          8.89379,
          8.895616,
          8.89589,
          8.896439,
          8.89641,
          8.895666,
          8.892604,
          8.892246,
          8.889763,
          8.889716
         ],
         "mode": "lines",
         "showlegend": false,
         "text": "5.0min. walking",
         "type": "scattermapbox"
        },
        {
         "fill": "toself",
         "fillcolor": "rgba(10,80,50,0.1)",
         "hoverinfo": "text",
         "lat": [
          47.495108,
          47.491119,
          47.490203,
          47.489087,
          47.49001,
          47.490349,
          47.494025,
          47.494372,
          47.496388,
          47.498157,
          47.498183,
          47.498225,
          47.495465,
          47.495108
         ],
         "line": {
          "color": "rgba(10,80,50,1)",
          "width": 1
         },
         "lon": [
          8.887541,
          8.889654,
          8.890473,
          8.895083,
          8.897519,
          8.897641,
          8.898803,
          8.898708,
          8.896866,
          8.892774,
          8.892701,
          8.892343,
          8.88759,
          8.887541
         ],
         "mode": "lines",
         "showlegend": false,
         "text": "7.0min. walking",
         "type": "scattermapbox"
        },
        {
         "fill": "toself",
         "fillcolor": "rgba(10,80,50,0.1)",
         "hoverinfo": "text",
         "lat": [
          47.495573,
          47.494721,
          47.491825,
          47.491046,
          47.490946,
          47.488236,
          47.487639,
          47.487342,
          47.488972,
          47.489312,
          47.495053,
          47.49537,
          47.497518,
          47.498526,
          47.500551,
          47.500527,
          47.498592,
          47.49705,
          47.495928,
          47.495573
         ],
         "line": {
          "color": "rgba(10,80,50,1)",
          "width": 1
         },
         "lon": [
          8.884282,
          8.884581,
          8.886376,
          8.886845,
          8.887386,
          8.892577,
          8.893476,
          8.897715,
          8.90059,
          8.90071,
          8.901186,
          8.901017,
          8.898069,
          8.896292,
          8.892732,
          8.892373,
          8.889482,
          8.886647,
          8.884336,
          8.884282
         ],
         "mode": "lines",
         "showlegend": false,
         "text": "10.0min. walking",
         "type": "scattermapbox"
        },
        {
         "fill": "toself",
         "fillcolor": "rgba(10,80,50,0.1)",
         "hoverinfo": "text",
         "lat": [
          47.496064,
          47.491354,
          47.491091,
          47.487362,
          47.48571,
          47.485241,
          47.486242,
          47.488068,
          47.488278,
          47.492285,
          47.492645,
          47.496514,
          47.49669,
          47.499439,
          47.500423,
          47.502349,
          47.502379,
          47.500839,
          47.499294,
          47.497722,
          47.49642,
          47.496064
         ],
         "line": {
          "color": "rgba(10,80,50,1)",
          "width": 1
         },
         "lon": [
          8.881035,
          8.884247,
          8.885559,
          8.889969,
          8.892585,
          8.897865,
          8.900217,
          8.90327,
          8.903459,
          8.904183,
          8.904186,
          8.903892,
          8.90374,
          8.898694,
          8.896144,
          8.892586,
          8.892227,
          8.889604,
          8.88687,
          8.88384,
          8.881089,
          8.881035
         ],
         "mode": "lines",
         "showlegend": false,
         "text": "13.0min. walking",
         "type": "scattermapbox"
        },
        {
         "fill": "toself",
         "fillcolor": "rgba(10,80,50,0.1)",
         "hoverinfo": "text",
         "lat": [
          47.49639,
          47.492228,
          47.490192,
          47.487646,
          47.484191,
          47.484782,
          47.484545,
          47.485644,
          47.487307,
          47.487642,
          47.492773,
          47.497227,
          47.497545,
          47.498891,
          47.499069,
          47.500663,
          47.500833,
          47.501961,
          47.503711,
          47.503925,
          47.503246,
          47.500789,
          47.499214,
          47.496746,
          47.49639
         ],
         "line": {
          "color": "rgba(10,80,50,1)",
          "width": 1
         },
         "lon": [
          8.87887,
          8.881688,
          8.884945,
          8.887782,
          8.892516,
          8.89803,
          8.899114,
          8.901002,
          8.905403,
          8.905536,
          8.906382,
          8.9056,
          8.905431,
          8.903165,
          8.902852,
          8.899792,
          8.899475,
          8.895612,
          8.893453,
          8.89287,
          8.891537,
          8.887018,
          8.884041,
          8.878924,
          8.87887
         ],
         "mode": "lines",
         "showlegend": false,
         "text": "15.0min. walking",
         "type": "scattermapbox"
        },
        {
         "hoverinfo": "text",
         "hovertemplate": "%{text}<extra></extra>",
         "lat": [
          47.4927474,
          47.4930294,
          47.4919521,
          47.4921551,
          47.4939219,
          47.4919521,
          47.492302,
          47.49362180000001,
          47.491891,
          47.4954295,
          47.49402869999999,
          47.4935874,
          47.4923648,
          47.49406020000001,
          47.4940715,
          47.49407859999999,
          47.4940562,
          47.4918326,
          47.4921551,
          47.494054,
          47.4943893,
          47.494201,
          47.491891,
          47.4954295,
          47.49402869999999,
          47.4935874,
          47.4923648,
          47.49406020000001,
          47.4940715,
          47.49407859999999,
          47.4940562,
          47.4918326,
          47.4921551,
          47.494054,
          47.4943893,
          47.494201,
          47.491891,
          47.4954295,
          47.49402869999999,
          47.4935874,
          47.4923648,
          47.49406020000001,
          47.4940715,
          47.49407859999999,
          47.4940562,
          47.4918326,
          47.4921551,
          47.494054,
          47.4943893,
          47.494201,
          47.493973,
          47.491891,
          47.4954295,
          47.49402869999999,
          47.4935874,
          47.4923648,
          47.49406020000001,
          47.4940715,
          47.49407859999999,
          47.4940562,
          47.4918326,
          47.4921551,
          47.494054,
          47.4943893,
          47.494201,
          47.49418439999999,
          47.49586110000001,
          47.4935874,
          47.49281069999999,
          47.491891,
          47.4954295,
          47.49402869999999,
          47.4935874,
          47.4923648,
          47.49406020000001,
          47.4940715,
          47.49407859999999,
          47.4940562,
          47.4918326,
          47.4921551,
          47.494054,
          47.4943893,
          47.494201,
          47.49326259999999,
          47.49326259999999,
          47.4935983,
          47.491891,
          47.4954295,
          47.49402869999999,
          47.4935874,
          47.4923648,
          47.49406020000001,
          47.4940715,
          47.49407859999999,
          47.4940562,
          47.4918326,
          47.4921551,
          47.494054,
          47.4943893,
          47.494201
         ],
         "lon": [
          8.894442399999999,
          8.8947657,
          8.8953069,
          8.8967683,
          8.8942008,
          8.8953069,
          8.896139,
          8.8982934,
          8.897142500000001,
          8.897994599999999,
          8.898838999999997,
          8.8982843,
          8.8991006,
          8.8988709,
          8.894817600000001,
          8.895866299999998,
          8.8988632,
          8.897652800000001,
          8.8967683,
          8.8985142,
          8.8974973,
          8.895315,
          8.897142500000001,
          8.897994599999999,
          8.898838999999997,
          8.8982843,
          8.8991006,
          8.8988709,
          8.894817600000001,
          8.895866299999998,
          8.8988632,
          8.897652800000001,
          8.8967683,
          8.8985142,
          8.8974973,
          8.895315,
          8.897142500000001,
          8.897994599999999,
          8.898838999999997,
          8.8982843,
          8.8991006,
          8.8988709,
          8.894817600000001,
          8.895866299999998,
          8.8988632,
          8.897652800000001,
          8.8967683,
          8.8985142,
          8.8974973,
          8.895315,
          8.896187000000001,
          8.897142500000001,
          8.897994599999999,
          8.898838999999997,
          8.8982843,
          8.8991006,
          8.8988709,
          8.894817600000001,
          8.895866299999998,
          8.8988632,
          8.897652800000001,
          8.8967683,
          8.8985142,
          8.8974973,
          8.895315,
          8.899792699999997,
          8.893654300000001,
          8.8982843,
          8.898582200000002,
          8.897142500000001,
          8.897994599999999,
          8.898838999999997,
          8.8982843,
          8.8991006,
          8.8988709,
          8.894817600000001,
          8.895866299999998,
          8.8988632,
          8.897652800000001,
          8.8967683,
          8.8985142,
          8.8974973,
          8.895315,
          8.8987345,
          8.8987345,
          8.898304,
          8.897142500000001,
          8.897994599999999,
          8.898838999999997,
          8.8982843,
          8.8991006,
          8.8988709,
          8.894817600000001,
          8.895866299999998,
          8.8988632,
          8.897652800000001,
          8.8967683,
          8.8985142,
          8.8974973,
          8.895315
         ],
         "marker": {
          "color": "red",
          "opacity": 1,
          "size": 15
         },
         "mode": "markers",
         "showlegend": false,
         "text": [
          "<b>RotFarbKeller</b><br><i>bars</i><br>",
          "<b>PÄNG! Pub</b><br><i>bars</i><br>",
          "<b>Restaurant Grütli</b><br><i>bars</i><br>",
          "<b>WANTANA THAI TAKE AWAY</b><br><i>restaurants</i><br>",
          "<b>Ristorante El Capone</b><br><i>restaurants</i><br>",
          "<b>Restaurant Grütli</b><br><i>restaurants</i><br>",
          "<b>Anker</b><br><i>restaurants</i><br>",
          "<b>Nafzger GmbH Bäckerei-Konditorei-Café</b><br><i>restaurants</i><br>",
          "<b>Kreativ Atelier Aadorf</b><br><i>kindergarten</i><br>",
          "<b>AAA Dogsitting</b><br><i>kindergarten</i><br>",
          "<b>Zubi Aadorf</b><br><i>kindergarten</i><br>",
          "<b>Morgental Garage GmbH</b><br><i>kindergarten</i><br>",
          "<b>Multi-Energie AG</b><br><i>kindergarten</i><br>",
          "<b>Bachmann H. AG</b><br><i>kindergarten</i><br>",
          "<b>System-Clinch Telecom GmbH</b><br><i>kindergarten</i><br>",
          "<b>HS Automobile AG</b><br><i>kindergarten</i><br>",
          "<b>Allegra Werbeartikel GmbH</b><br><i>kindergarten</i><br>",
          "<b>rundum-sein</b><br><i>kindergarten</i><br>",
          "<b>WANTANA THAI TAKE AWAY</b><br><i>kindergarten</i><br>",
          "<b>Typodruck Bosshart AG</b><br><i>kindergarten</i><br>",
          "<b>Marine Diesel Service GmbH</b><br><i>kindergarten</i><br>",
          "<b>Gloor Elektroservice AG</b><br><i>kindergarten</i><br>",
          "<b>Kreativ Atelier Aadorf</b><br><i>kindergarten</i><br>",
          "<b>AAA Dogsitting</b><br><i>kindergarten</i><br>",
          "<b>Zubi Aadorf</b><br><i>kindergarten</i><br>",
          "<b>Morgental Garage GmbH</b><br><i>kindergarten</i><br>",
          "<b>Multi-Energie AG</b><br><i>kindergarten</i><br>",
          "<b>Bachmann H. AG</b><br><i>kindergarten</i><br>",
          "<b>System-Clinch Telecom GmbH</b><br><i>kindergarten</i><br>",
          "<b>HS Automobile AG</b><br><i>kindergarten</i><br>",
          "<b>Allegra Werbeartikel GmbH</b><br><i>kindergarten</i><br>",
          "<b>rundum-sein</b><br><i>kindergarten</i><br>",
          "<b>WANTANA THAI TAKE AWAY</b><br><i>kindergarten</i><br>",
          "<b>Typodruck Bosshart AG</b><br><i>kindergarten</i><br>",
          "<b>Marine Diesel Service GmbH</b><br><i>kindergarten</i><br>",
          "<b>Gloor Elektroservice AG</b><br><i>kindergarten</i><br>",
          "<b>Kreativ Atelier Aadorf</b><br><i>public_transportation</i><br>",
          "<b>AAA Dogsitting</b><br><i>public_transportation</i><br>",
          "<b>Zubi Aadorf</b><br><i>public_transportation</i><br>",
          "<b>Morgental Garage GmbH</b><br><i>public_transportation</i><br>",
          "<b>Multi-Energie AG</b><br><i>public_transportation</i><br>",
          "<b>Bachmann H. AG</b><br><i>public_transportation</i><br>",
          "<b>System-Clinch Telecom GmbH</b><br><i>public_transportation</i><br>",
          "<b>HS Automobile AG</b><br><i>public_transportation</i><br>",
          "<b>Allegra Werbeartikel GmbH</b><br><i>public_transportation</i><br>",
          "<b>rundum-sein</b><br><i>public_transportation</i><br>",
          "<b>WANTANA THAI TAKE AWAY</b><br><i>public_transportation</i><br>",
          "<b>Typodruck Bosshart AG</b><br><i>public_transportation</i><br>",
          "<b>Marine Diesel Service GmbH</b><br><i>public_transportation</i><br>",
          "<b>Gloor Elektroservice AG</b><br><i>public_transportation</i><br>",
          "<b>Aadorf, Morgental</b><br><i>public_transportation</i><br>",
          "<b>Kreativ Atelier Aadorf</b><br><i>gym_fitness</i><br>",
          "<b>AAA Dogsitting</b><br><i>gym_fitness</i><br>",
          "<b>Zubi Aadorf</b><br><i>gym_fitness</i><br>",
          "<b>Morgental Garage GmbH</b><br><i>gym_fitness</i><br>",
          "<b>Multi-Energie AG</b><br><i>gym_fitness</i><br>",
          "<b>Bachmann H. AG</b><br><i>gym_fitness</i><br>",
          "<b>System-Clinch Telecom GmbH</b><br><i>gym_fitness</i><br>",
          "<b>HS Automobile AG</b><br><i>gym_fitness</i><br>",
          "<b>Allegra Werbeartikel GmbH</b><br><i>gym_fitness</i><br>",
          "<b>rundum-sein</b><br><i>gym_fitness</i><br>",
          "<b>WANTANA THAI TAKE AWAY</b><br><i>gym_fitness</i><br>",
          "<b>Typodruck Bosshart AG</b><br><i>gym_fitness</i><br>",
          "<b>Marine Diesel Service GmbH</b><br><i>gym_fitness</i><br>",
          "<b>Gloor Elektroservice AG</b><br><i>gym_fitness</i><br>",
          "<b>update Fitness Aadorf</b><br><i>gym_fitness</i><br>",
          "<b>Sonnenoase</b><br><i>gym_fitness</i><br>",
          "<b>Update Fitness</b><br><i>gym_fitness</i><br>",
          "<b>Zensportschule</b><br><i>gym_fitness</i><br>",
          "<b>Kreativ Atelier Aadorf</b><br><i>grocery_stores_supermarkets</i><br>",
          "<b>AAA Dogsitting</b><br><i>grocery_stores_supermarkets</i><br>",
          "<b>Zubi Aadorf</b><br><i>grocery_stores_supermarkets</i><br>",
          "<b>Morgental Garage GmbH</b><br><i>grocery_stores_supermarkets</i><br>",
          "<b>Multi-Energie AG</b><br><i>grocery_stores_supermarkets</i><br>",
          "<b>Bachmann H. AG</b><br><i>grocery_stores_supermarkets</i><br>",
          "<b>System-Clinch Telecom GmbH</b><br><i>grocery_stores_supermarkets</i><br>",
          "<b>HS Automobile AG</b><br><i>grocery_stores_supermarkets</i><br>",
          "<b>Allegra Werbeartikel GmbH</b><br><i>grocery_stores_supermarkets</i><br>",
          "<b>rundum-sein</b><br><i>grocery_stores_supermarkets</i><br>",
          "<b>WANTANA THAI TAKE AWAY</b><br><i>grocery_stores_supermarkets</i><br>",
          "<b>Typodruck Bosshart AG</b><br><i>grocery_stores_supermarkets</i><br>",
          "<b>Marine Diesel Service GmbH</b><br><i>grocery_stores_supermarkets</i><br>",
          "<b>Gloor Elektroservice AG</b><br><i>grocery_stores_supermarkets</i><br>",
          "<b>Coop Pronto Shop mit Tankstelle Aadorf</b><br><i>grocery_stores_supermarkets</i><br>",
          "<b>Coop Pronto Shop mit Tankstelle Aadorf</b><br><i>gas_ev_charging</i><br>",
          "<b>Ruedi Rüssel gas station</b><br><i>gas_ev_charging</i><br>",
          "<b>Kreativ Atelier Aadorf</b><br><i>gas_ev_charging</i><br>",
          "<b>AAA Dogsitting</b><br><i>gas_ev_charging</i><br>",
          "<b>Zubi Aadorf</b><br><i>gas_ev_charging</i><br>",
          "<b>Morgental Garage GmbH</b><br><i>gas_ev_charging</i><br>",
          "<b>Multi-Energie AG</b><br><i>gas_ev_charging</i><br>",
          "<b>Bachmann H. AG</b><br><i>gas_ev_charging</i><br>",
          "<b>System-Clinch Telecom GmbH</b><br><i>gas_ev_charging</i><br>",
          "<b>HS Automobile AG</b><br><i>gas_ev_charging</i><br>",
          "<b>Allegra Werbeartikel GmbH</b><br><i>gas_ev_charging</i><br>",
          "<b>rundum-sein</b><br><i>gas_ev_charging</i><br>",
          "<b>WANTANA THAI TAKE AWAY</b><br><i>gas_ev_charging</i><br>",
          "<b>Typodruck Bosshart AG</b><br><i>gas_ev_charging</i><br>",
          "<b>Marine Diesel Service GmbH</b><br><i>gas_ev_charging</i><br>",
          "<b>Gloor Elektroservice AG</b><br><i>gas_ev_charging</i><br>"
         ],
         "type": "scattermapbox"
        },
        {
         "hoverinfo": "text",
         "hovertemplate": "%{text}<extra></extra>",
         "lat": [
          47.4930119,
          47.4939065,
          47.4912407,
          47.4919401,
          47.4930052,
          47.4932576,
          47.4932576,
          47.4935613
         ],
         "lon": [
          8.8947331,
          8.8941025,
          8.8986862,
          8.8953231,
          8.8996297,
          8.8988818,
          8.8987116,
          8.8982352
         ],
         "marker": {
          "color": "black",
          "opacity": 1,
          "size": 10
         },
         "mode": "markers",
         "showlegend": false,
         "text": [
          "<b>Päng Pub</b><br><i>bars</i><br>",
          "<b>El Capone</b><br><i>restaurants</i><br>",
          "<b>Bella Napoli</b><br><i>restaurants</i><br>",
          "<b>Grütli</b><br><i>restaurants</i><br>",
          "<b>Coop</b><br><i>grocery_stores_supermarkets</i><br>",
          "<b>Coop Pronto</b><br><i>grocery_stores_supermarkets</i><br>",
          "<b>Coop Tankstelle</b><br><i>gas_ev_charging</i><br>",
          "<b>Ruedi Rüssel</b><br><i>gas_ev_charging</i><br>"
         ],
         "type": "scattermapbox"
        },
        {
         "hoverinfo": "text",
         "lat": [
          47.4929713
         ],
         "lon": [
          8.8935522
         ],
         "marker": {
          "color": "white",
          "opacity": 1,
          "size": 20
         },
         "mode": "markers",
         "showlegend": false,
         "text": "8355 Aadorf, Bruggwiesenstrasse 5",
         "type": "scattermapbox"
        }
       ],
       "layout": {
        "height": 1500,
        "mapbox": {
         "center": {
          "lat": 47.4929713,
          "lon": 8.8935522
         },
         "style": "open-street-map",
         "zoom": 15
        },
        "margin": {
         "b": 0,
         "l": 0,
         "r": 0,
         "t": 0
        },
        "showlegend": false,
        "template": {
         "data": {
          "bar": [
           {
            "error_x": {
             "color": "#2a3f5f"
            },
            "error_y": {
             "color": "#2a3f5f"
            },
            "marker": {
             "line": {
              "color": "#E5ECF6",
              "width": 0.5
             },
             "pattern": {
              "fillmode": "overlay",
              "size": 10,
              "solidity": 0.2
             }
            },
            "type": "bar"
           }
          ],
          "barpolar": [
           {
            "marker": {
             "line": {
              "color": "#E5ECF6",
              "width": 0.5
             },
             "pattern": {
              "fillmode": "overlay",
              "size": 10,
              "solidity": 0.2
             }
            },
            "type": "barpolar"
           }
          ],
          "carpet": [
           {
            "aaxis": {
             "endlinecolor": "#2a3f5f",
             "gridcolor": "white",
             "linecolor": "white",
             "minorgridcolor": "white",
             "startlinecolor": "#2a3f5f"
            },
            "baxis": {
             "endlinecolor": "#2a3f5f",
             "gridcolor": "white",
             "linecolor": "white",
             "minorgridcolor": "white",
             "startlinecolor": "#2a3f5f"
            },
            "type": "carpet"
           }
          ],
          "choropleth": [
           {
            "colorbar": {
             "outlinewidth": 0,
             "ticks": ""
            },
            "type": "choropleth"
           }
          ],
          "contour": [
           {
            "colorbar": {
             "outlinewidth": 0,
             "ticks": ""
            },
            "colorscale": [
             [
              0,
              "#0d0887"
             ],
             [
              0.1111111111111111,
              "#46039f"
             ],
             [
              0.2222222222222222,
              "#7201a8"
             ],
             [
              0.3333333333333333,
              "#9c179e"
             ],
             [
              0.4444444444444444,
              "#bd3786"
             ],
             [
              0.5555555555555556,
              "#d8576b"
             ],
             [
              0.6666666666666666,
              "#ed7953"
             ],
             [
              0.7777777777777778,
              "#fb9f3a"
             ],
             [
              0.8888888888888888,
              "#fdca26"
             ],
             [
              1,
              "#f0f921"
             ]
            ],
            "type": "contour"
           }
          ],
          "contourcarpet": [
           {
            "colorbar": {
             "outlinewidth": 0,
             "ticks": ""
            },
            "type": "contourcarpet"
           }
          ],
          "heatmap": [
           {
            "colorbar": {
             "outlinewidth": 0,
             "ticks": ""
            },
            "colorscale": [
             [
              0,
              "#0d0887"
             ],
             [
              0.1111111111111111,
              "#46039f"
             ],
             [
              0.2222222222222222,
              "#7201a8"
             ],
             [
              0.3333333333333333,
              "#9c179e"
             ],
             [
              0.4444444444444444,
              "#bd3786"
             ],
             [
              0.5555555555555556,
              "#d8576b"
             ],
             [
              0.6666666666666666,
              "#ed7953"
             ],
             [
              0.7777777777777778,
              "#fb9f3a"
             ],
             [
              0.8888888888888888,
              "#fdca26"
             ],
             [
              1,
              "#f0f921"
             ]
            ],
            "type": "heatmap"
           }
          ],
          "heatmapgl": [
           {
            "colorbar": {
             "outlinewidth": 0,
             "ticks": ""
            },
            "colorscale": [
             [
              0,
              "#0d0887"
             ],
             [
              0.1111111111111111,
              "#46039f"
             ],
             [
              0.2222222222222222,
              "#7201a8"
             ],
             [
              0.3333333333333333,
              "#9c179e"
             ],
             [
              0.4444444444444444,
              "#bd3786"
             ],
             [
              0.5555555555555556,
              "#d8576b"
             ],
             [
              0.6666666666666666,
              "#ed7953"
             ],
             [
              0.7777777777777778,
              "#fb9f3a"
             ],
             [
              0.8888888888888888,
              "#fdca26"
             ],
             [
              1,
              "#f0f921"
             ]
            ],
            "type": "heatmapgl"
           }
          ],
          "histogram": [
           {
            "marker": {
             "pattern": {
              "fillmode": "overlay",
              "size": 10,
              "solidity": 0.2
             }
            },
            "type": "histogram"
           }
          ],
          "histogram2d": [
           {
            "colorbar": {
             "outlinewidth": 0,
             "ticks": ""
            },
            "colorscale": [
             [
              0,
              "#0d0887"
             ],
             [
              0.1111111111111111,
              "#46039f"
             ],
             [
              0.2222222222222222,
              "#7201a8"
             ],
             [
              0.3333333333333333,
              "#9c179e"
             ],
             [
              0.4444444444444444,
              "#bd3786"
             ],
             [
              0.5555555555555556,
              "#d8576b"
             ],
             [
              0.6666666666666666,
              "#ed7953"
             ],
             [
              0.7777777777777778,
              "#fb9f3a"
             ],
             [
              0.8888888888888888,
              "#fdca26"
             ],
             [
              1,
              "#f0f921"
             ]
            ],
            "type": "histogram2d"
           }
          ],
          "histogram2dcontour": [
           {
            "colorbar": {
             "outlinewidth": 0,
             "ticks": ""
            },
            "colorscale": [
             [
              0,
              "#0d0887"
             ],
             [
              0.1111111111111111,
              "#46039f"
             ],
             [
              0.2222222222222222,
              "#7201a8"
             ],
             [
              0.3333333333333333,
              "#9c179e"
             ],
             [
              0.4444444444444444,
              "#bd3786"
             ],
             [
              0.5555555555555556,
              "#d8576b"
             ],
             [
              0.6666666666666666,
              "#ed7953"
             ],
             [
              0.7777777777777778,
              "#fb9f3a"
             ],
             [
              0.8888888888888888,
              "#fdca26"
             ],
             [
              1,
              "#f0f921"
             ]
            ],
            "type": "histogram2dcontour"
           }
          ],
          "mesh3d": [
           {
            "colorbar": {
             "outlinewidth": 0,
             "ticks": ""
            },
            "type": "mesh3d"
           }
          ],
          "parcoords": [
           {
            "line": {
             "colorbar": {
              "outlinewidth": 0,
              "ticks": ""
             }
            },
            "type": "parcoords"
           }
          ],
          "pie": [
           {
            "automargin": true,
            "type": "pie"
           }
          ],
          "scatter": [
           {
            "fillpattern": {
             "fillmode": "overlay",
             "size": 10,
             "solidity": 0.2
            },
            "type": "scatter"
           }
          ],
          "scatter3d": [
           {
            "line": {
             "colorbar": {
              "outlinewidth": 0,
              "ticks": ""
             }
            },
            "marker": {
             "colorbar": {
              "outlinewidth": 0,
              "ticks": ""
             }
            },
            "type": "scatter3d"
           }
          ],
          "scattercarpet": [
           {
            "marker": {
             "colorbar": {
              "outlinewidth": 0,
              "ticks": ""
             }
            },
            "type": "scattercarpet"
           }
          ],
          "scattergeo": [
           {
            "marker": {
             "colorbar": {
              "outlinewidth": 0,
              "ticks": ""
             }
            },
            "type": "scattergeo"
           }
          ],
          "scattergl": [
           {
            "marker": {
             "colorbar": {
              "outlinewidth": 0,
              "ticks": ""
             }
            },
            "type": "scattergl"
           }
          ],
          "scattermapbox": [
           {
            "marker": {
             "colorbar": {
              "outlinewidth": 0,
              "ticks": ""
             }
            },
            "type": "scattermapbox"
           }
          ],
          "scatterpolar": [
           {
            "marker": {
             "colorbar": {
              "outlinewidth": 0,
              "ticks": ""
             }
            },
            "type": "scatterpolar"
           }
          ],
          "scatterpolargl": [
           {
            "marker": {
             "colorbar": {
              "outlinewidth": 0,
              "ticks": ""
             }
            },
            "type": "scatterpolargl"
           }
          ],
          "scatterternary": [
           {
            "marker": {
             "colorbar": {
              "outlinewidth": 0,
              "ticks": ""
             }
            },
            "type": "scatterternary"
           }
          ],
          "surface": [
           {
            "colorbar": {
             "outlinewidth": 0,
             "ticks": ""
            },
            "colorscale": [
             [
              0,
              "#0d0887"
             ],
             [
              0.1111111111111111,
              "#46039f"
             ],
             [
              0.2222222222222222,
              "#7201a8"
             ],
             [
              0.3333333333333333,
              "#9c179e"
             ],
             [
              0.4444444444444444,
              "#bd3786"
             ],
             [
              0.5555555555555556,
              "#d8576b"
             ],
             [
              0.6666666666666666,
              "#ed7953"
             ],
             [
              0.7777777777777778,
              "#fb9f3a"
             ],
             [
              0.8888888888888888,
              "#fdca26"
             ],
             [
              1,
              "#f0f921"
             ]
            ],
            "type": "surface"
           }
          ],
          "table": [
           {
            "cells": {
             "fill": {
              "color": "#EBF0F8"
             },
             "line": {
              "color": "white"
             }
            },
            "header": {
             "fill": {
              "color": "#C8D4E3"
             },
             "line": {
              "color": "white"
             }
            },
            "type": "table"
           }
          ]
         },
         "layout": {
          "annotationdefaults": {
           "arrowcolor": "#2a3f5f",
           "arrowhead": 0,
           "arrowwidth": 1
          },
          "autotypenumbers": "strict",
          "coloraxis": {
           "colorbar": {
            "outlinewidth": 0,
            "ticks": ""
           }
          },
          "colorscale": {
           "diverging": [
            [
             0,
             "#8e0152"
            ],
            [
             0.1,
             "#c51b7d"
            ],
            [
             0.2,
             "#de77ae"
            ],
            [
             0.3,
             "#f1b6da"
            ],
            [
             0.4,
             "#fde0ef"
            ],
            [
             0.5,
             "#f7f7f7"
            ],
            [
             0.6,
             "#e6f5d0"
            ],
            [
             0.7,
             "#b8e186"
            ],
            [
             0.8,
             "#7fbc41"
            ],
            [
             0.9,
             "#4d9221"
            ],
            [
             1,
             "#276419"
            ]
           ],
           "sequential": [
            [
             0,
             "#0d0887"
            ],
            [
             0.1111111111111111,
             "#46039f"
            ],
            [
             0.2222222222222222,
             "#7201a8"
            ],
            [
             0.3333333333333333,
             "#9c179e"
            ],
            [
             0.4444444444444444,
             "#bd3786"
            ],
            [
             0.5555555555555556,
             "#d8576b"
            ],
            [
             0.6666666666666666,
             "#ed7953"
            ],
            [
             0.7777777777777778,
             "#fb9f3a"
            ],
            [
             0.8888888888888888,
             "#fdca26"
            ],
            [
             1,
             "#f0f921"
            ]
           ],
           "sequentialminus": [
            [
             0,
             "#0d0887"
            ],
            [
             0.1111111111111111,
             "#46039f"
            ],
            [
             0.2222222222222222,
             "#7201a8"
            ],
            [
             0.3333333333333333,
             "#9c179e"
            ],
            [
             0.4444444444444444,
             "#bd3786"
            ],
            [
             0.5555555555555556,
             "#d8576b"
            ],
            [
             0.6666666666666666,
             "#ed7953"
            ],
            [
             0.7777777777777778,
             "#fb9f3a"
            ],
            [
             0.8888888888888888,
             "#fdca26"
            ],
            [
             1,
             "#f0f921"
            ]
           ]
          },
          "colorway": [
           "#636efa",
           "#EF553B",
           "#00cc96",
           "#ab63fa",
           "#FFA15A",
           "#19d3f3",
           "#FF6692",
           "#B6E880",
           "#FF97FF",
           "#FECB52"
          ],
          "font": {
           "color": "#2a3f5f"
          },
          "geo": {
           "bgcolor": "white",
           "lakecolor": "white",
           "landcolor": "#E5ECF6",
           "showlakes": true,
           "showland": true,
           "subunitcolor": "white"
          },
          "hoverlabel": {
           "align": "left"
          },
          "hovermode": "closest",
          "mapbox": {
           "style": "light"
          },
          "paper_bgcolor": "white",
          "plot_bgcolor": "#E5ECF6",
          "polar": {
           "angularaxis": {
            "gridcolor": "white",
            "linecolor": "white",
            "ticks": ""
           },
           "bgcolor": "#E5ECF6",
           "radialaxis": {
            "gridcolor": "white",
            "linecolor": "white",
            "ticks": ""
           }
          },
          "scene": {
           "xaxis": {
            "backgroundcolor": "#E5ECF6",
            "gridcolor": "white",
            "gridwidth": 2,
            "linecolor": "white",
            "showbackground": true,
            "ticks": "",
            "zerolinecolor": "white"
           },
           "yaxis": {
            "backgroundcolor": "#E5ECF6",
            "gridcolor": "white",
            "gridwidth": 2,
            "linecolor": "white",
            "showbackground": true,
            "ticks": "",
            "zerolinecolor": "white"
           },
           "zaxis": {
            "backgroundcolor": "#E5ECF6",
            "gridcolor": "white",
            "gridwidth": 2,
            "linecolor": "white",
            "showbackground": true,
            "ticks": "",
            "zerolinecolor": "white"
           }
          },
          "shapedefaults": {
           "line": {
            "color": "#2a3f5f"
           }
          },
          "ternary": {
           "aaxis": {
            "gridcolor": "white",
            "linecolor": "white",
            "ticks": ""
           },
           "baxis": {
            "gridcolor": "white",
            "linecolor": "white",
            "ticks": ""
           },
           "bgcolor": "#E5ECF6",
           "caxis": {
            "gridcolor": "white",
            "linecolor": "white",
            "ticks": ""
           }
          },
          "title": {
           "x": 0.05
          },
          "xaxis": {
           "automargin": true,
           "gridcolor": "white",
           "linecolor": "white",
           "ticks": "",
           "title": {
            "standoff": 15
           },
           "zerolinecolor": "white",
           "zerolinewidth": 2
          },
          "yaxis": {
           "automargin": true,
           "gridcolor": "white",
           "linecolor": "white",
           "ticks": "",
           "title": {
            "standoff": 15
           },
           "zerolinecolor": "white",
           "zerolinewidth": 2
          }
         }
        },
        "width": 1500
       }
      }
     },
     "metadata": {},
     "output_type": "display_data"
    }
   ],
   "source": [
    "i = 3\n",
    "\n",
    "gg = load_data(GOOGLE_FILES[i])\n",
    "osm = load_data(OSM_FILES[i])\n",
    "print(gg['original_address']['address'])\n",
    "\n",
    "base_map = create_base_map(gg, 1500, 1500, 15)\n",
    "add_isochrone(base_map, gg) # no need to put isochrones in OSM files\n",
    "\n",
    "add_places(base_map, gg, 15, 'red' )\n",
    "add_places(base_map, osm, 10, 'black' )\n",
    "\n",
    "add_original_address(base_map, gg)"
   ]
  },
  {
   "cell_type": "markdown",
   "metadata": {},
   "source": [
    "### 6319 Allenwinden, Winzrüti 39"
   ]
  },
  {
   "cell_type": "code",
   "execution_count": 21,
   "metadata": {},
   "outputs": [
    {
     "name": "stdout",
     "output_type": "stream",
     "text": [
      "6319 Allenwinden, Winzrüti 39\n"
     ]
    },
    {
     "data": {
      "application/vnd.plotly.v1+json": {
       "config": {
        "plotlyServerURL": "https://plot.ly"
       },
       "data": [
        {
         "type": "scattermapbox"
        },
        {
         "fill": "toself",
         "fillcolor": "rgba(10,80,50,0.1)",
         "hoverinfo": "text",
         "lat": [
          47.169249,
          47.169338,
          47.170786,
          47.171133,
          47.172086,
          47.169496,
          47.169249
         ],
         "line": {
          "color": "rgba(10,80,50,1)",
          "width": 1
         },
         "lon": [
          8.554481,
          8.555067,
          8.556799,
          8.5567,
          8.555208,
          8.554218,
          8.554481
         ],
         "mode": "lines",
         "showlegend": false,
         "text": "3.0min. walking",
         "type": "scattermapbox"
        },
        {
         "fill": "toself",
         "fillcolor": "rgba(10,80,50,0.1)",
         "hoverinfo": "text",
         "lat": [
          47.169569,
          47.168306,
          47.168144,
          47.168096,
          47.168185,
          47.171181,
          47.171453,
          47.172302,
          47.173375,
          47.173474,
          47.16989,
          47.169787,
          47.169569
         ],
         "line": {
          "color": "rgba(10,80,50,1)",
          "width": 1
         },
         "lon": [
          8.553279,
          8.552968,
          8.553289,
          8.55448,
          8.554829,
          8.557317,
          8.557513,
          8.557073,
          8.556266,
          8.55592,
          8.553412,
          8.553347,
          8.553279
         ],
         "mode": "lines",
         "showlegend": false,
         "text": "5.0min. walking",
         "type": "scattermapbox"
        },
        {
         "fill": "toself",
         "fillcolor": "rgba(10,80,50,0.1)",
         "hoverinfo": "text",
         "lat": [
          47.167165,
          47.166806,
          47.166948,
          47.16776,
          47.171453,
          47.173649,
          47.173835,
          47.174261,
          47.171027,
          47.167508,
          47.167165
         ],
         "line": {
          "color": "rgba(10,80,50,1)",
          "width": 1
         },
         "lon": [
          8.551762,
          8.553249,
          8.55386,
          8.555194,
          8.557513,
          8.557405,
          8.557097,
          8.556182,
          8.553856,
          8.551652,
          8.551762
         ],
         "mode": "lines",
         "showlegend": false,
         "text": "7.0min. walking",
         "type": "scattermapbox"
        },
        {
         "fill": "toself",
         "fillcolor": "rgba(10,80,50,0.1)",
         "hoverinfo": "text",
         "lat": [
          47.167278,
          47.166351,
          47.166032,
          47.164556,
          47.165573,
          47.165898,
          47.171453,
          47.174556,
          47.175378,
          47.175817,
          47.176385,
          47.172966,
          47.171981,
          47.167634,
          47.167278
         ],
         "line": {
          "color": "rgba(10,80,50,1)",
          "width": 1
         },
         "lon": [
          8.548604,
          8.548687,
          8.548855,
          8.554256,
          8.556093,
          8.556246,
          8.557513,
          8.557807,
          8.557695,
          8.557556,
          8.555486,
          8.552429,
          8.551949,
          8.548651,
          8.548604
         ],
         "mode": "lines",
         "showlegend": false,
         "text": "10.0min. walking",
         "type": "scattermapbox"
        },
        {
         "fill": "toself",
         "fillcolor": "rgba(10,80,50,0.1)",
         "hoverinfo": "text",
         "lat": [
          47.168113,
          47.165028,
          47.164907,
          47.164534,
          47.162983,
          47.162898,
          47.163216,
          47.16353,
          47.163843,
          47.163984,
          47.164391,
          47.164464,
          47.164855,
          47.16518,
          47.169149,
          47.171226,
          47.171346,
          47.171453,
          47.174556,
          47.17718,
          47.177495,
          47.177909,
          47.174568,
          47.174352,
          47.171316,
          47.169238,
          47.168471,
          47.168113
         ],
         "line": {
          "color": "rgba(10,80,50,1)",
          "width": 1
         },
         "lon": [
          8.545457,
          8.546487,
          8.546577,
          8.550443,
          8.552342,
          8.552692,
          8.557195,
          8.55729,
          8.557385,
          8.557401,
          8.557387,
          8.557367,
          8.557255,
          8.557019,
          8.555692,
          8.557224,
          8.557388,
          8.557513,
          8.557807,
          8.557574,
          8.557545,
          8.554772,
          8.550404,
          8.550116,
          8.549428,
          8.546723,
          8.545496,
          8.545457
         ],
         "mode": "lines",
         "showlegend": false,
         "text": "13.0min. walking",
         "type": "scattermapbox"
        },
        {
         "fill": "toself",
         "fillcolor": "rgba(10,80,50,0.1)",
         "hoverinfo": "text",
         "lat": [
          47.167762,
          47.164906,
          47.163897,
          47.161592,
          47.161588,
          47.16228,
          47.162447,
          47.163984,
          47.164391,
          47.164464,
          47.164855,
          47.16518,
          47.169149,
          47.171226,
          47.171346,
          47.171453,
          47.174556,
          47.17718,
          47.177495,
          47.179032,
          47.17879,
          47.175939,
          47.175579,
          47.174516,
          47.170371,
          47.169789,
          47.168118,
          47.167762
         ],
         "line": {
          "color": "rgba(10,80,50,1)",
          "width": 1
         },
         "lon": [
          8.54321,
          8.546578,
          8.548636,
          8.552476,
          8.552836,
          8.556911,
          8.557231,
          8.557401,
          8.557387,
          8.557367,
          8.557255,
          8.557019,
          8.555692,
          8.557224,
          8.557388,
          8.557513,
          8.557807,
          8.557574,
          8.557545,
          8.553509,
          8.553243,
          8.549981,
          8.549968,
          8.549924,
          8.547928,
          8.544994,
          8.543157,
          8.54321
         ],
         "mode": "lines",
         "showlegend": false,
         "text": "15.0min. walking",
         "type": "scattermapbox"
        },
        {
         "hoverinfo": "text",
         "hovertemplate": "%{text}<extra></extra>",
         "lat": [
          47.1666685,
          47.1684968,
          47.1677532,
          47.1684968,
          47.1660537,
          47.1677532,
          47.167407,
          47.1692979,
          47.1669134,
          47.16631580000001,
          47.1684968,
          47.1677532,
          47.1684968,
          47.1660537,
          47.1677532,
          47.167407,
          47.1692979,
          47.1669134,
          47.16631580000001,
          47.1684968,
          47.1677532,
          47.1684968,
          47.1660537,
          47.1677532,
          47.167407,
          47.1692979,
          47.1669134,
          47.16631580000001,
          47.169647,
          47.16882,
          47.16686000000001,
          47.166737,
          47.166714,
          47.1684968,
          47.1677532,
          47.1684968,
          47.1660537,
          47.1677532,
          47.167407,
          47.1692979,
          47.1669134,
          47.16631580000001,
          47.1684968,
          47.1677532,
          47.1684968,
          47.1660537,
          47.1677532,
          47.167407,
          47.1692979,
          47.1669134,
          47.16631580000001,
          47.1684968,
          47.1677532,
          47.1684968,
          47.1660537,
          47.1677532,
          47.167407,
          47.1692979,
          47.1669134,
          47.16631580000001
         ],
         "lon": [
          8.553291300000001,
          8.554431599999997,
          8.5526912,
          8.554431599999997,
          8.5535528,
          8.5526912,
          8.552266,
          8.553884199999999,
          8.553216400000002,
          8.550430900000002,
          8.554431599999997,
          8.5526912,
          8.554431599999997,
          8.5535528,
          8.5526912,
          8.552266,
          8.553884199999999,
          8.553216400000002,
          8.550430900000002,
          8.554431599999997,
          8.5526912,
          8.554431599999997,
          8.5535528,
          8.5526912,
          8.552266,
          8.553884199999999,
          8.553216400000002,
          8.550430900000002,
          8.553435,
          8.553418,
          8.553416,
          8.553474999999997,
          8.553559,
          8.554431599999997,
          8.5526912,
          8.554431599999997,
          8.5535528,
          8.5526912,
          8.552266,
          8.553884199999999,
          8.553216400000002,
          8.550430900000002,
          8.554431599999997,
          8.5526912,
          8.554431599999997,
          8.5535528,
          8.5526912,
          8.552266,
          8.553884199999999,
          8.553216400000002,
          8.550430900000002,
          8.554431599999997,
          8.5526912,
          8.554431599999997,
          8.5535528,
          8.5526912,
          8.552266,
          8.553884199999999,
          8.553216400000002,
          8.550430900000002
         ],
         "marker": {
          "color": "red",
          "opacity": 1,
          "size": 15
         },
         "mode": "markers",
         "showlegend": false,
         "text": [
          "<b>Gasthaus Löwen</b><br><i>restaurants</i><br>",
          "<b>Myself AG</b><br><i>kindergarten</i><br>",
          "<b>Triag AG</b><br><i>kindergarten</i><br>",
          "<b>Wasserversorgungs Genossenschaft Allenwinden</b><br><i>kindergarten</i><br>",
          "<b>Alois Arnold AG</b><br><i>kindergarten</i><br>",
          "<b>Landtwing Verlag GmbH</b><br><i>kindergarten</i><br>",
          "<b>partychuchi</b><br><i>kindergarten</i><br>",
          "<b>Elektrizitäts-Genossenschaft</b><br><i>kindergarten</i><br>",
          "<b>Speck Schreinerei</b><br><i>kindergarten</i><br>",
          "<b>Tierschutzverein Zug</b><br><i>kindergarten</i><br>",
          "<b>Myself AG</b><br><i>kindergarten</i><br>",
          "<b>Triag AG</b><br><i>kindergarten</i><br>",
          "<b>Wasserversorgungs Genossenschaft Allenwinden</b><br><i>kindergarten</i><br>",
          "<b>Alois Arnold AG</b><br><i>kindergarten</i><br>",
          "<b>Landtwing Verlag GmbH</b><br><i>kindergarten</i><br>",
          "<b>partychuchi</b><br><i>kindergarten</i><br>",
          "<b>Elektrizitäts-Genossenschaft</b><br><i>kindergarten</i><br>",
          "<b>Speck Schreinerei</b><br><i>kindergarten</i><br>",
          "<b>Tierschutzverein Zug</b><br><i>kindergarten</i><br>",
          "<b>Myself AG</b><br><i>public_transportation</i><br>",
          "<b>Triag AG</b><br><i>public_transportation</i><br>",
          "<b>Wasserversorgungs Genossenschaft Allenwinden</b><br><i>public_transportation</i><br>",
          "<b>Alois Arnold AG</b><br><i>public_transportation</i><br>",
          "<b>Landtwing Verlag GmbH</b><br><i>public_transportation</i><br>",
          "<b>partychuchi</b><br><i>public_transportation</i><br>",
          "<b>Elektrizitäts-Genossenschaft</b><br><i>public_transportation</i><br>",
          "<b>Speck Schreinerei</b><br><i>public_transportation</i><br>",
          "<b>Tierschutzverein Zug</b><br><i>public_transportation</i><br>",
          "<b>Allenwinden, Egg</b><br><i>public_transportation</i><br>",
          "<b>Allenwinden, Egg</b><br><i>public_transportation</i><br>",
          "<b>Allenwinden, Grüt</b><br><i>public_transportation</i><br>",
          "<b>Allenwinden, Grüt</b><br><i>public_transportation</i><br>",
          "<b>Allenwinden, Grüt</b><br><i>public_transportation</i><br>",
          "<b>Myself AG</b><br><i>gym_fitness</i><br>",
          "<b>Triag AG</b><br><i>gym_fitness</i><br>",
          "<b>Wasserversorgungs Genossenschaft Allenwinden</b><br><i>gym_fitness</i><br>",
          "<b>Alois Arnold AG</b><br><i>gym_fitness</i><br>",
          "<b>Landtwing Verlag GmbH</b><br><i>gym_fitness</i><br>",
          "<b>partychuchi</b><br><i>gym_fitness</i><br>",
          "<b>Elektrizitäts-Genossenschaft</b><br><i>gym_fitness</i><br>",
          "<b>Speck Schreinerei</b><br><i>gym_fitness</i><br>",
          "<b>Tierschutzverein Zug</b><br><i>gym_fitness</i><br>",
          "<b>Myself AG</b><br><i>grocery_stores_supermarkets</i><br>",
          "<b>Triag AG</b><br><i>grocery_stores_supermarkets</i><br>",
          "<b>Wasserversorgungs Genossenschaft Allenwinden</b><br><i>grocery_stores_supermarkets</i><br>",
          "<b>Alois Arnold AG</b><br><i>grocery_stores_supermarkets</i><br>",
          "<b>Landtwing Verlag GmbH</b><br><i>grocery_stores_supermarkets</i><br>",
          "<b>partychuchi</b><br><i>grocery_stores_supermarkets</i><br>",
          "<b>Elektrizitäts-Genossenschaft</b><br><i>grocery_stores_supermarkets</i><br>",
          "<b>Speck Schreinerei</b><br><i>grocery_stores_supermarkets</i><br>",
          "<b>Tierschutzverein Zug</b><br><i>grocery_stores_supermarkets</i><br>",
          "<b>Myself AG</b><br><i>gas_ev_charging</i><br>",
          "<b>Triag AG</b><br><i>gas_ev_charging</i><br>",
          "<b>Wasserversorgungs Genossenschaft Allenwinden</b><br><i>gas_ev_charging</i><br>",
          "<b>Alois Arnold AG</b><br><i>gas_ev_charging</i><br>",
          "<b>Landtwing Verlag GmbH</b><br><i>gas_ev_charging</i><br>",
          "<b>partychuchi</b><br><i>gas_ev_charging</i><br>",
          "<b>Elektrizitäts-Genossenschaft</b><br><i>gas_ev_charging</i><br>",
          "<b>Speck Schreinerei</b><br><i>gas_ev_charging</i><br>",
          "<b>Tierschutzverein Zug</b><br><i>gas_ev_charging</i><br>"
         ],
         "type": "scattermapbox"
        },
        {
         "hoverinfo": "text",
         "hovertemplate": "%{text}<extra></extra>",
         "lat": [
          47.1667167
         ],
         "lon": [
          8.5532237
         ],
         "marker": {
          "color": "black",
          "opacity": 1,
          "size": 10
         },
         "mode": "markers",
         "showlegend": false,
         "text": [
          "<b>Löwen</b><br><i>restaurants</i><br>"
         ],
         "type": "scattermapbox"
        },
        {
         "hoverinfo": "text",
         "lat": [
          47.171282
         ],
         "lon": [
          8.554959
         ],
         "marker": {
          "color": "white",
          "opacity": 1,
          "size": 20
         },
         "mode": "markers",
         "showlegend": false,
         "text": "6319 Allenwinden, Winzrüti 39",
         "type": "scattermapbox"
        }
       ],
       "layout": {
        "height": 1500,
        "mapbox": {
         "center": {
          "lat": 47.171282,
          "lon": 8.554959
         },
         "style": "open-street-map",
         "zoom": 15
        },
        "margin": {
         "b": 0,
         "l": 0,
         "r": 0,
         "t": 0
        },
        "showlegend": false,
        "template": {
         "data": {
          "bar": [
           {
            "error_x": {
             "color": "#2a3f5f"
            },
            "error_y": {
             "color": "#2a3f5f"
            },
            "marker": {
             "line": {
              "color": "#E5ECF6",
              "width": 0.5
             },
             "pattern": {
              "fillmode": "overlay",
              "size": 10,
              "solidity": 0.2
             }
            },
            "type": "bar"
           }
          ],
          "barpolar": [
           {
            "marker": {
             "line": {
              "color": "#E5ECF6",
              "width": 0.5
             },
             "pattern": {
              "fillmode": "overlay",
              "size": 10,
              "solidity": 0.2
             }
            },
            "type": "barpolar"
           }
          ],
          "carpet": [
           {
            "aaxis": {
             "endlinecolor": "#2a3f5f",
             "gridcolor": "white",
             "linecolor": "white",
             "minorgridcolor": "white",
             "startlinecolor": "#2a3f5f"
            },
            "baxis": {
             "endlinecolor": "#2a3f5f",
             "gridcolor": "white",
             "linecolor": "white",
             "minorgridcolor": "white",
             "startlinecolor": "#2a3f5f"
            },
            "type": "carpet"
           }
          ],
          "choropleth": [
           {
            "colorbar": {
             "outlinewidth": 0,
             "ticks": ""
            },
            "type": "choropleth"
           }
          ],
          "contour": [
           {
            "colorbar": {
             "outlinewidth": 0,
             "ticks": ""
            },
            "colorscale": [
             [
              0,
              "#0d0887"
             ],
             [
              0.1111111111111111,
              "#46039f"
             ],
             [
              0.2222222222222222,
              "#7201a8"
             ],
             [
              0.3333333333333333,
              "#9c179e"
             ],
             [
              0.4444444444444444,
              "#bd3786"
             ],
             [
              0.5555555555555556,
              "#d8576b"
             ],
             [
              0.6666666666666666,
              "#ed7953"
             ],
             [
              0.7777777777777778,
              "#fb9f3a"
             ],
             [
              0.8888888888888888,
              "#fdca26"
             ],
             [
              1,
              "#f0f921"
             ]
            ],
            "type": "contour"
           }
          ],
          "contourcarpet": [
           {
            "colorbar": {
             "outlinewidth": 0,
             "ticks": ""
            },
            "type": "contourcarpet"
           }
          ],
          "heatmap": [
           {
            "colorbar": {
             "outlinewidth": 0,
             "ticks": ""
            },
            "colorscale": [
             [
              0,
              "#0d0887"
             ],
             [
              0.1111111111111111,
              "#46039f"
             ],
             [
              0.2222222222222222,
              "#7201a8"
             ],
             [
              0.3333333333333333,
              "#9c179e"
             ],
             [
              0.4444444444444444,
              "#bd3786"
             ],
             [
              0.5555555555555556,
              "#d8576b"
             ],
             [
              0.6666666666666666,
              "#ed7953"
             ],
             [
              0.7777777777777778,
              "#fb9f3a"
             ],
             [
              0.8888888888888888,
              "#fdca26"
             ],
             [
              1,
              "#f0f921"
             ]
            ],
            "type": "heatmap"
           }
          ],
          "heatmapgl": [
           {
            "colorbar": {
             "outlinewidth": 0,
             "ticks": ""
            },
            "colorscale": [
             [
              0,
              "#0d0887"
             ],
             [
              0.1111111111111111,
              "#46039f"
             ],
             [
              0.2222222222222222,
              "#7201a8"
             ],
             [
              0.3333333333333333,
              "#9c179e"
             ],
             [
              0.4444444444444444,
              "#bd3786"
             ],
             [
              0.5555555555555556,
              "#d8576b"
             ],
             [
              0.6666666666666666,
              "#ed7953"
             ],
             [
              0.7777777777777778,
              "#fb9f3a"
             ],
             [
              0.8888888888888888,
              "#fdca26"
             ],
             [
              1,
              "#f0f921"
             ]
            ],
            "type": "heatmapgl"
           }
          ],
          "histogram": [
           {
            "marker": {
             "pattern": {
              "fillmode": "overlay",
              "size": 10,
              "solidity": 0.2
             }
            },
            "type": "histogram"
           }
          ],
          "histogram2d": [
           {
            "colorbar": {
             "outlinewidth": 0,
             "ticks": ""
            },
            "colorscale": [
             [
              0,
              "#0d0887"
             ],
             [
              0.1111111111111111,
              "#46039f"
             ],
             [
              0.2222222222222222,
              "#7201a8"
             ],
             [
              0.3333333333333333,
              "#9c179e"
             ],
             [
              0.4444444444444444,
              "#bd3786"
             ],
             [
              0.5555555555555556,
              "#d8576b"
             ],
             [
              0.6666666666666666,
              "#ed7953"
             ],
             [
              0.7777777777777778,
              "#fb9f3a"
             ],
             [
              0.8888888888888888,
              "#fdca26"
             ],
             [
              1,
              "#f0f921"
             ]
            ],
            "type": "histogram2d"
           }
          ],
          "histogram2dcontour": [
           {
            "colorbar": {
             "outlinewidth": 0,
             "ticks": ""
            },
            "colorscale": [
             [
              0,
              "#0d0887"
             ],
             [
              0.1111111111111111,
              "#46039f"
             ],
             [
              0.2222222222222222,
              "#7201a8"
             ],
             [
              0.3333333333333333,
              "#9c179e"
             ],
             [
              0.4444444444444444,
              "#bd3786"
             ],
             [
              0.5555555555555556,
              "#d8576b"
             ],
             [
              0.6666666666666666,
              "#ed7953"
             ],
             [
              0.7777777777777778,
              "#fb9f3a"
             ],
             [
              0.8888888888888888,
              "#fdca26"
             ],
             [
              1,
              "#f0f921"
             ]
            ],
            "type": "histogram2dcontour"
           }
          ],
          "mesh3d": [
           {
            "colorbar": {
             "outlinewidth": 0,
             "ticks": ""
            },
            "type": "mesh3d"
           }
          ],
          "parcoords": [
           {
            "line": {
             "colorbar": {
              "outlinewidth": 0,
              "ticks": ""
             }
            },
            "type": "parcoords"
           }
          ],
          "pie": [
           {
            "automargin": true,
            "type": "pie"
           }
          ],
          "scatter": [
           {
            "fillpattern": {
             "fillmode": "overlay",
             "size": 10,
             "solidity": 0.2
            },
            "type": "scatter"
           }
          ],
          "scatter3d": [
           {
            "line": {
             "colorbar": {
              "outlinewidth": 0,
              "ticks": ""
             }
            },
            "marker": {
             "colorbar": {
              "outlinewidth": 0,
              "ticks": ""
             }
            },
            "type": "scatter3d"
           }
          ],
          "scattercarpet": [
           {
            "marker": {
             "colorbar": {
              "outlinewidth": 0,
              "ticks": ""
             }
            },
            "type": "scattercarpet"
           }
          ],
          "scattergeo": [
           {
            "marker": {
             "colorbar": {
              "outlinewidth": 0,
              "ticks": ""
             }
            },
            "type": "scattergeo"
           }
          ],
          "scattergl": [
           {
            "marker": {
             "colorbar": {
              "outlinewidth": 0,
              "ticks": ""
             }
            },
            "type": "scattergl"
           }
          ],
          "scattermapbox": [
           {
            "marker": {
             "colorbar": {
              "outlinewidth": 0,
              "ticks": ""
             }
            },
            "type": "scattermapbox"
           }
          ],
          "scatterpolar": [
           {
            "marker": {
             "colorbar": {
              "outlinewidth": 0,
              "ticks": ""
             }
            },
            "type": "scatterpolar"
           }
          ],
          "scatterpolargl": [
           {
            "marker": {
             "colorbar": {
              "outlinewidth": 0,
              "ticks": ""
             }
            },
            "type": "scatterpolargl"
           }
          ],
          "scatterternary": [
           {
            "marker": {
             "colorbar": {
              "outlinewidth": 0,
              "ticks": ""
             }
            },
            "type": "scatterternary"
           }
          ],
          "surface": [
           {
            "colorbar": {
             "outlinewidth": 0,
             "ticks": ""
            },
            "colorscale": [
             [
              0,
              "#0d0887"
             ],
             [
              0.1111111111111111,
              "#46039f"
             ],
             [
              0.2222222222222222,
              "#7201a8"
             ],
             [
              0.3333333333333333,
              "#9c179e"
             ],
             [
              0.4444444444444444,
              "#bd3786"
             ],
             [
              0.5555555555555556,
              "#d8576b"
             ],
             [
              0.6666666666666666,
              "#ed7953"
             ],
             [
              0.7777777777777778,
              "#fb9f3a"
             ],
             [
              0.8888888888888888,
              "#fdca26"
             ],
             [
              1,
              "#f0f921"
             ]
            ],
            "type": "surface"
           }
          ],
          "table": [
           {
            "cells": {
             "fill": {
              "color": "#EBF0F8"
             },
             "line": {
              "color": "white"
             }
            },
            "header": {
             "fill": {
              "color": "#C8D4E3"
             },
             "line": {
              "color": "white"
             }
            },
            "type": "table"
           }
          ]
         },
         "layout": {
          "annotationdefaults": {
           "arrowcolor": "#2a3f5f",
           "arrowhead": 0,
           "arrowwidth": 1
          },
          "autotypenumbers": "strict",
          "coloraxis": {
           "colorbar": {
            "outlinewidth": 0,
            "ticks": ""
           }
          },
          "colorscale": {
           "diverging": [
            [
             0,
             "#8e0152"
            ],
            [
             0.1,
             "#c51b7d"
            ],
            [
             0.2,
             "#de77ae"
            ],
            [
             0.3,
             "#f1b6da"
            ],
            [
             0.4,
             "#fde0ef"
            ],
            [
             0.5,
             "#f7f7f7"
            ],
            [
             0.6,
             "#e6f5d0"
            ],
            [
             0.7,
             "#b8e186"
            ],
            [
             0.8,
             "#7fbc41"
            ],
            [
             0.9,
             "#4d9221"
            ],
            [
             1,
             "#276419"
            ]
           ],
           "sequential": [
            [
             0,
             "#0d0887"
            ],
            [
             0.1111111111111111,
             "#46039f"
            ],
            [
             0.2222222222222222,
             "#7201a8"
            ],
            [
             0.3333333333333333,
             "#9c179e"
            ],
            [
             0.4444444444444444,
             "#bd3786"
            ],
            [
             0.5555555555555556,
             "#d8576b"
            ],
            [
             0.6666666666666666,
             "#ed7953"
            ],
            [
             0.7777777777777778,
             "#fb9f3a"
            ],
            [
             0.8888888888888888,
             "#fdca26"
            ],
            [
             1,
             "#f0f921"
            ]
           ],
           "sequentialminus": [
            [
             0,
             "#0d0887"
            ],
            [
             0.1111111111111111,
             "#46039f"
            ],
            [
             0.2222222222222222,
             "#7201a8"
            ],
            [
             0.3333333333333333,
             "#9c179e"
            ],
            [
             0.4444444444444444,
             "#bd3786"
            ],
            [
             0.5555555555555556,
             "#d8576b"
            ],
            [
             0.6666666666666666,
             "#ed7953"
            ],
            [
             0.7777777777777778,
             "#fb9f3a"
            ],
            [
             0.8888888888888888,
             "#fdca26"
            ],
            [
             1,
             "#f0f921"
            ]
           ]
          },
          "colorway": [
           "#636efa",
           "#EF553B",
           "#00cc96",
           "#ab63fa",
           "#FFA15A",
           "#19d3f3",
           "#FF6692",
           "#B6E880",
           "#FF97FF",
           "#FECB52"
          ],
          "font": {
           "color": "#2a3f5f"
          },
          "geo": {
           "bgcolor": "white",
           "lakecolor": "white",
           "landcolor": "#E5ECF6",
           "showlakes": true,
           "showland": true,
           "subunitcolor": "white"
          },
          "hoverlabel": {
           "align": "left"
          },
          "hovermode": "closest",
          "mapbox": {
           "style": "light"
          },
          "paper_bgcolor": "white",
          "plot_bgcolor": "#E5ECF6",
          "polar": {
           "angularaxis": {
            "gridcolor": "white",
            "linecolor": "white",
            "ticks": ""
           },
           "bgcolor": "#E5ECF6",
           "radialaxis": {
            "gridcolor": "white",
            "linecolor": "white",
            "ticks": ""
           }
          },
          "scene": {
           "xaxis": {
            "backgroundcolor": "#E5ECF6",
            "gridcolor": "white",
            "gridwidth": 2,
            "linecolor": "white",
            "showbackground": true,
            "ticks": "",
            "zerolinecolor": "white"
           },
           "yaxis": {
            "backgroundcolor": "#E5ECF6",
            "gridcolor": "white",
            "gridwidth": 2,
            "linecolor": "white",
            "showbackground": true,
            "ticks": "",
            "zerolinecolor": "white"
           },
           "zaxis": {
            "backgroundcolor": "#E5ECF6",
            "gridcolor": "white",
            "gridwidth": 2,
            "linecolor": "white",
            "showbackground": true,
            "ticks": "",
            "zerolinecolor": "white"
           }
          },
          "shapedefaults": {
           "line": {
            "color": "#2a3f5f"
           }
          },
          "ternary": {
           "aaxis": {
            "gridcolor": "white",
            "linecolor": "white",
            "ticks": ""
           },
           "baxis": {
            "gridcolor": "white",
            "linecolor": "white",
            "ticks": ""
           },
           "bgcolor": "#E5ECF6",
           "caxis": {
            "gridcolor": "white",
            "linecolor": "white",
            "ticks": ""
           }
          },
          "title": {
           "x": 0.05
          },
          "xaxis": {
           "automargin": true,
           "gridcolor": "white",
           "linecolor": "white",
           "ticks": "",
           "title": {
            "standoff": 15
           },
           "zerolinecolor": "white",
           "zerolinewidth": 2
          },
          "yaxis": {
           "automargin": true,
           "gridcolor": "white",
           "linecolor": "white",
           "ticks": "",
           "title": {
            "standoff": 15
           },
           "zerolinecolor": "white",
           "zerolinewidth": 2
          }
         }
        },
        "width": 1500
       }
      }
     },
     "metadata": {},
     "output_type": "display_data"
    }
   ],
   "source": [
    "i = 4\n",
    "\n",
    "gg = load_data(GOOGLE_FILES[i])\n",
    "osm = load_data(OSM_FILES[i])\n",
    "print(gg['original_address']['address'])\n",
    "\n",
    "base_map = create_base_map(gg, 1500, 1500, 15)\n",
    "add_isochrone(base_map, gg) # no need to put isochrones in OSM files\n",
    "\n",
    "add_places(base_map, gg, 15, 'red' )\n",
    "add_places(base_map, osm, 10, 'black' )\n",
    "\n",
    "add_original_address(base_map, gg)"
   ]
  },
  {
   "cell_type": "markdown",
   "metadata": {},
   "source": [
    "### 8005 Zürich, Heinrichstrasse 200"
   ]
  },
  {
   "cell_type": "code",
   "execution_count": 22,
   "metadata": {},
   "outputs": [
    {
     "name": "stdout",
     "output_type": "stream",
     "text": [
      "8005 Zürich, Heinrichstrasse 200\n"
     ]
    },
    {
     "data": {
      "application/vnd.plotly.v1+json": {
       "config": {
        "plotlyServerURL": "https://plot.ly"
       },
       "data": [
        {
         "type": "scattermapbox"
        },
        {
         "fill": "toself",
         "fillcolor": "rgba(10,80,50,0.1)",
         "hoverinfo": "text",
         "lat": [
          47.386666,
          47.386331,
          47.385637,
          47.385642,
          47.385942,
          47.38596,
          47.386124,
          47.386151,
          47.386382,
          47.387491,
          47.388055,
          47.388412,
          47.389291,
          47.389496,
          47.389113,
          47.388887,
          47.386666
         ],
         "line": {
          "color": "rgba(10,80,50,1)",
          "width": 1
         },
         "lon": [
          8.522537,
          8.52267,
          8.524888,
          8.524955,
          8.526887,
          8.526977,
          8.527713,
          8.527791,
          8.528101,
          8.528157,
          8.528131,
          8.528086,
          8.527015,
          8.524628,
          8.522695,
          8.522518,
          8.522537
         ],
         "mode": "lines",
         "showlegend": false,
         "text": "3.0min. walking",
         "type": "scattermapbox"
        },
        {
         "fill": "toself",
         "fillcolor": "rgba(10,80,50,0.1)",
         "hoverinfo": "text",
         "lat": [
          47.387584,
          47.386284,
          47.385717,
          47.385454,
          47.384498,
          47.3845,
          47.384548,
          47.385046,
          47.385068,
          47.385354,
          47.388033,
          47.38839,
          47.39033,
          47.390514,
          47.390519,
          47.390524,
          47.39002,
          47.389688,
          47.389555,
          47.387584
         ],
         "line": {
          "color": "rgba(10,80,50,1)",
          "width": 1
         },
         "lon": [
          8.520899,
          8.520954,
          8.521063,
          8.52131,
          8.52486,
          8.526796,
          8.527387,
          8.529216,
          8.529274,
          8.529493,
          8.530615,
          8.530663,
          8.527992,
          8.527683,
          8.523245,
          8.523087,
          8.521407,
          8.521069,
          8.520942,
          8.520899
         ],
         "mode": "lines",
         "showlegend": false,
         "text": "5.0min. walking",
         "type": "scattermapbox"
        },
        {
         "fill": "toself",
         "fillcolor": "rgba(10,80,50,0.1)",
         "hoverinfo": "text",
         "lat": [
          47.388388,
          47.38577,
          47.38564,
          47.384846,
          47.38342,
          47.383385,
          47.382969,
          47.383911,
          47.384193,
          47.387512,
          47.387839,
          47.388396,
          47.391828,
          47.391994,
          47.391776,
          47.391746,
          47.391452,
          47.389526,
          47.388729,
          47.388388
         ],
         "line": {
          "color": "rgba(10,80,50,1)",
          "width": 1
         },
         "lon": [
          8.519072,
          8.519034,
          8.519054,
          8.519634,
          8.525405,
          8.525568,
          8.527675,
          8.53066,
          8.530884,
          8.532402,
          8.532552,
          8.532036,
          8.529006,
          8.528686,
          8.523519,
          8.523084,
          8.520985,
          8.519561,
          8.519187,
          8.519072
         ],
         "mode": "lines",
         "showlegend": false,
         "text": "7.0min. walking",
         "type": "scattermapbox"
        },
        {
         "fill": "toself",
         "fillcolor": "rgba(10,80,50,0.1)",
         "hoverinfo": "text",
         "lat": [
          47.386462,
          47.385337,
          47.38488,
          47.384631,
          47.384781,
          47.38342,
          47.381479,
          47.381279,
          47.381492,
          47.382235,
          47.382274,
          47.382516,
          47.382557,
          47.386656,
          47.388761,
          47.39179,
          47.393415,
          47.393503,
          47.39384,
          47.393965,
          47.393777,
          47.393367,
          47.39256,
          47.390425,
          47.389482,
          47.386462
         ],
         "line": {
          "color": "rgba(10,80,50,1)",
          "width": 1
         },
         "lon": [
          8.516092,
          8.516288,
          8.516755,
          8.517015,
          8.520286,
          8.525405,
          8.52855,
          8.52885,
          8.529728,
          8.532871,
          8.532902,
          8.533096,
          8.533125,
          8.535021,
          8.534515,
          8.531314,
          8.530347,
          8.530263,
          8.529903,
          8.529303,
          8.524777,
          8.52237,
          8.518346,
          8.516619,
          8.516062,
          8.516092
         ],
         "mode": "lines",
         "showlegend": false,
         "text": "10.0min. walking",
         "type": "scattermapbox"
        },
        {
         "fill": "toself",
         "fillcolor": "rgba(10,80,50,0.1)",
         "hoverinfo": "text",
         "lat": [
          47.38976,
          47.389461,
          47.389108,
          47.386552,
          47.386426,
          47.383073,
          47.382822,
          47.382663,
          47.382642,
          47.382774,
          47.38473,
          47.38342,
          47.380566,
          47.379682,
          47.379314,
          47.379276,
          47.379264,
          47.379284,
          47.379298,
          47.379317,
          47.379528,
          47.38057,
          47.380705,
          47.381014,
          47.384677,
          47.387216,
          47.387244,
          47.388571,
          47.388906,
          47.389943,
          47.392856,
          47.395603,
          47.396074,
          47.39617,
          47.395719,
          47.395117,
          47.394956,
          47.394935,
          47.39307,
          47.392972,
          47.39063,
          47.38976
         ],
         "line": {
          "color": "rgba(10,80,50,1)",
          "width": 1
         },
         "lon": [
          8.513465,
          8.513374,
          8.513307,
          8.512876,
          8.512884,
          8.514954,
          8.515213,
          8.515543,
          8.515622,
          8.515956,
          8.521208,
          8.525405,
          8.526666,
          8.527085,
          8.527361,
          8.527434,
          8.527692,
          8.52793,
          8.527998,
          8.528078,
          8.528974,
          8.534082,
          8.535337,
          8.535533,
          8.537188,
          8.537614,
          8.53761,
          8.537275,
          8.537145,
          8.536397,
          8.533697,
          8.531666,
          8.530259,
          8.529913,
          8.526249,
          8.521916,
          8.520256,
          8.52003,
          8.515359,
          8.515171,
          8.513755,
          8.513465
         ],
         "mode": "lines",
         "showlegend": false,
         "text": "13.0min. walking",
         "type": "scattermapbox"
        },
        {
         "fill": "toself",
         "fillcolor": "rgba(10,80,50,0.1)",
         "hoverinfo": "text",
         "lat": [
          47.389182,
          47.386848,
          47.383187,
          47.383022,
          47.381991,
          47.381884,
          47.381636,
          47.381577,
          47.381465,
          47.381415,
          47.381737,
          47.38473,
          47.380643,
          47.380568,
          47.379072,
          47.377851,
          47.377842,
          47.377819,
          47.377984,
          47.377996,
          47.378188,
          47.378414,
          47.378778,
          47.379753,
          47.379764,
          47.37984,
          47.383614,
          47.387747,
          47.387929,
          47.389311,
          47.389335,
          47.389615,
          47.393349,
          47.395827,
          47.396282,
          47.396488,
          47.396589,
          47.3973,
          47.397301,
          47.397451,
          47.396616,
          47.396532,
          47.396528,
          47.395733,
          47.394405,
          47.394081,
          47.39355,
          47.389887,
          47.38954,
          47.389182
         ],
         "line": {
          "color": "rgba(10,80,50,1)",
          "width": 1
         },
         "lon": [
          8.511123,
          8.512456,
          8.513265,
          8.513302,
          8.513601,
          8.51364,
          8.513901,
          8.513979,
          8.516704,
          8.517158,
          8.517319,
          8.521208,
          8.524841,
          8.524891,
          8.525612,
          8.526567,
          8.526584,
          8.526714,
          8.527585,
          8.527649,
          8.528642,
          8.529833,
          8.5311,
          8.536911,
          8.537061,
          8.537118,
          8.538982,
          8.539576,
          8.539566,
          8.539162,
          8.539153,
          8.538969,
          8.535305,
          8.533276,
          8.532914,
          8.532641,
          8.532479,
          8.531308,
          8.5313,
          8.529924,
          8.524502,
          8.522693,
          8.522621,
          8.518135,
          8.514892,
          8.514083,
          8.513126,
          8.511216,
          8.511081,
          8.511123
         ],
         "mode": "lines",
         "showlegend": false,
         "text": "15.0min. walking",
         "type": "scattermapbox"
        },
        {
         "hoverinfo": "text",
         "hovertemplate": "%{text}<extra></extra>",
         "lat": [
          47.3860056,
          47.3887016,
          47.38759,
          47.3827835,
          47.3877257,
          47.3883807,
          47.3878765,
          47.3878575,
          47.3872942,
          47.3841654,
          47.38844160000001,
          47.388717,
          47.3863273,
          47.3860056,
          47.38541399999999,
          47.3887016,
          47.3843261,
          47.38759,
          47.39025720000001,
          47.3883807,
          47.3886254,
          47.3871669,
          47.3825379,
          47.3878765,
          47.3878575,
          47.3839019,
          47.3903283,
          47.3828775,
          47.389367,
          47.3891116,
          47.38314659999999,
          47.3860056,
          47.3900263,
          47.3892435,
          47.38541399999999,
          47.3887016,
          47.389367,
          47.3891116,
          47.38314659999999,
          47.3860056,
          47.3900263,
          47.3892435,
          47.38541399999999,
          47.3887016,
          47.387209,
          47.389367,
          47.3891116,
          47.38314659999999,
          47.3860056,
          47.3900263,
          47.3892435,
          47.38541399999999,
          47.3887016,
          47.38472719999999,
          47.38849279999999,
          47.38672099999999,
          47.390381,
          47.3905171,
          47.3879841,
          47.3884016,
          47.38858399999999,
          47.3868293,
          47.386742,
          47.389965,
          47.386676,
          47.3900823,
          47.39028199999999,
          47.390102,
          47.390575,
          47.390446,
          47.3905962,
          47.388178,
          47.3906336,
          47.39093070000001,
          47.390797,
          47.390797,
          47.3882426,
          47.387721,
          47.3844961,
          47.387209,
          47.38459949999999,
          47.389367,
          47.3891116,
          47.38314659999999,
          47.3860056,
          47.3900263,
          47.3892435,
          47.38541399999999,
          47.3887016,
          47.3907119,
          47.3881259,
          47.38654,
          47.3870371,
          47.3875825,
          47.387037,
          47.3864536,
          47.3842247,
          47.389367,
          47.3891116,
          47.38314659999999,
          47.3860056,
          47.3900263,
          47.3892435,
          47.38541399999999,
          47.3887016,
          47.38546299999999,
          47.3860347,
          47.38475269999999,
          47.3857949,
          47.3838772,
          47.38320100000001,
          47.3863992,
          47.3878275,
          47.3887665,
          47.3830051,
          47.3875062,
          47.3828488,
          47.3830153,
          47.38605399999999,
          47.3911495,
          47.3881237,
          47.3881936,
          47.389367,
          47.3891116,
          47.38314659999999,
          47.3860056,
          47.3900263,
          47.3892435,
          47.38541399999999,
          47.3887016,
          47.3890172,
          47.3900263,
          47.3887858,
          47.3880463
         ],
         "lon": [
          8.5171572,
          8.51893,
          8.526071700000001,
          8.529045400000001,
          8.529723699999998,
          8.5223421,
          8.518345700000001,
          8.5244445,
          8.5195782,
          8.530408299999998,
          8.5189959,
          8.522635100000002,
          8.517414200000001,
          8.5171572,
          8.5182748,
          8.51893,
          8.528566799999998,
          8.526071700000001,
          8.517230300000001,
          8.5223421,
          8.521213399999999,
          8.528477300000002,
          8.5296603,
          8.518345700000001,
          8.5244445,
          8.529589099999999,
          8.522816299999999,
          8.5298801,
          8.522048300000002,
          8.516802799999999,
          8.530097999999997,
          8.5171572,
          8.524165700000001,
          8.5213589,
          8.5182748,
          8.51893,
          8.522048300000002,
          8.516802799999999,
          8.530097999999997,
          8.5171572,
          8.524165700000001,
          8.5213589,
          8.5182748,
          8.51893,
          8.517852,
          8.522048300000002,
          8.516802799999999,
          8.530097999999997,
          8.5171572,
          8.524165700000001,
          8.5213589,
          8.5182748,
          8.51893,
          8.531785399999999,
          8.5259343,
          8.52882,
          8.522734999999999,
          8.522622499999999,
          8.5198512,
          8.526029600000001,
          8.525838999999998,
          8.528737200000002,
          8.528749,
          8.523602,
          8.5287978,
          8.523470399999999,
          8.523368,
          8.521868000000001,
          8.522558999999998,
          8.522290000000002,
          8.5222812,
          8.5201848,
          8.522268000000002,
          8.522793199999999,
          8.522397999999999,
          8.522397999999999,
          8.520017400000002,
          8.5195232,
          8.531264299999998,
          8.517852,
          8.5316236,
          8.522048300000002,
          8.516802799999999,
          8.530097999999997,
          8.5171572,
          8.524165700000001,
          8.5213589,
          8.5182748,
          8.51893,
          8.518263999999999,
          8.5217388,
          8.517797999999999,
          8.5273519,
          8.523591,
          8.527352,
          8.522710899999998,
          8.5277411,
          8.522048300000002,
          8.516802799999999,
          8.530097999999997,
          8.5171572,
          8.524165700000001,
          8.5213589,
          8.5182748,
          8.51893,
          8.531409199999999,
          8.5319311,
          8.527192099999997,
          8.5319332,
          8.531965699999999,
          8.530963600000002,
          8.5176807,
          8.5263535,
          8.5250706,
          8.529200600000001,
          8.517401800000002,
          8.530257899999999,
          8.530630900000002,
          8.531918,
          8.52685,
          8.524588099999999,
          8.5245331,
          8.522048300000002,
          8.516802799999999,
          8.530097999999997,
          8.5171572,
          8.524165700000001,
          8.5213589,
          8.5182748,
          8.51893,
          8.522971499999999,
          8.524165700000001,
          8.5223878,
          8.518191800000002
         ],
         "marker": {
          "color": "red",
          "opacity": 1,
          "size": 15
         },
         "mode": "markers",
         "showlegend": false,
         "text": [
          "<b>CLOUDS</b><br><i>bars</i><br>",
          "<b>LaSalle</b><br><i>bars</i><br>",
          "<b>Markthalle</b><br><i>bars</i><br>",
          "<b>Riffraff</b><br><i>bars</i><br>",
          "<b>heldenbar</b><br><i>bars</i><br>",
          "<b>Billiardino</b><br><i>bars</i><br>",
          "<b>les halles</b><br><i>bars</i><br>",
          "<b>Don Weber</b><br><i>bars</i><br>",
          "<b>Big Ben Westside</b><br><i>bars</i><br>",
          "<b>Cucina</b><br><i>bars</i><br>",
          "<b>Labor5, Zürich</b><br><i>bars</i><br>",
          "<b>Basilica</b><br><i>bars</i><br>",
          "<b>Hotel Rivington & Sons</b><br><i>bars</i><br>",
          "<b>CLOUDS</b><br><i>restaurants</i><br>",
          "<b>Restaurant Rosso</b><br><i>restaurants</i><br>",
          "<b>LaSalle</b><br><i>restaurants</i><br>",
          "<b>Kalymnos</b><br><i>restaurants</i><br>",
          "<b>Markthalle</b><br><i>restaurants</i><br>",
          "<b>Angkor</b><br><i>restaurants</i><br>",
          "<b>Billiardino</b><br><i>restaurants</i><br>",
          "<b>Nooch Asian Kitchen Steinfels Zürich</b><br><i>restaurants</i><br>",
          "<b>Alpenrose</b><br><i>restaurants</i><br>",
          "<b>LILY'S ORIGINAL</b><br><i>restaurants</i><br>",
          "<b>les halles</b><br><i>restaurants</i><br>",
          "<b>Don Weber</b><br><i>restaurants</i><br>",
          "<b>Santa Lucia Limmatplatz</b><br><i>restaurants</i><br>",
          "<b>Spaghetti Pomodoro</b><br><i>restaurants</i><br>",
          "<b>McDonald’s</b><br><i>restaurants</i><br>",
          "<b>Hotel Züri by Fassbind</b><br><i>kindergarten</i><br>",
          "<b>Novotel Zurich City-West</b><br><i>kindergarten</i><br>",
          "<b>Hotel Casa Rodolfo / Casa Heinrich</b><br><i>kindergarten</i><br>",
          "<b>CLOUDS</b><br><i>kindergarten</i><br>",
          "<b>KV Zurich Business School Basic Education</b><br><i>kindergarten</i><br>",
          "<b>blue Cinema Abaton</b><br><i>kindergarten</i><br>",
          "<b>Restaurant Rosso</b><br><i>kindergarten</i><br>",
          "<b>LaSalle</b><br><i>kindergarten</i><br>",
          "<b>Hotel Züri by Fassbind</b><br><i>kindergarten</i><br>",
          "<b>Novotel Zurich City-West</b><br><i>kindergarten</i><br>",
          "<b>Hotel Casa Rodolfo / Casa Heinrich</b><br><i>kindergarten</i><br>",
          "<b>CLOUDS</b><br><i>kindergarten</i><br>",
          "<b>KV Zurich Business School Basic Education</b><br><i>kindergarten</i><br>",
          "<b>blue Cinema Abaton</b><br><i>kindergarten</i><br>",
          "<b>Restaurant Rosso</b><br><i>kindergarten</i><br>",
          "<b>LaSalle</b><br><i>kindergarten</i><br>",
          "<b>Zuerich, Eurobus Terminal</b><br><i>public_transportation</i><br>",
          "<b>Hotel Züri by Fassbind</b><br><i>public_transportation</i><br>",
          "<b>Novotel Zurich City-West</b><br><i>public_transportation</i><br>",
          "<b>Hotel Casa Rodolfo / Casa Heinrich</b><br><i>public_transportation</i><br>",
          "<b>CLOUDS</b><br><i>public_transportation</i><br>",
          "<b>KV Zurich Business School Basic Education</b><br><i>public_transportation</i><br>",
          "<b>blue Cinema Abaton</b><br><i>public_transportation</i><br>",
          "<b>Restaurant Rosso</b><br><i>public_transportation</i><br>",
          "<b>LaSalle</b><br><i>public_transportation</i><br>",
          "<b>Limmatplatz</b><br><i>public_transportation</i><br>",
          "<b>Löwenbräu</b><br><i>public_transportation</i><br>",
          "<b>Quellenstrasse</b><br><i>public_transportation</i><br>",
          "<b>Escher Wyss Platz</b><br><i>public_transportation</i><br>",
          "<b>Escher-Wyss-Platz</b><br><i>public_transportation</i><br>",
          "<b>Schiffbau</b><br><i>public_transportation</i><br>",
          "<b>Lowenbrau</b><br><i>public_transportation</i><br>",
          "<b>Löwenbräu</b><br><i>public_transportation</i><br>",
          "<b>Quellenstrasse</b><br><i>public_transportation</i><br>",
          "<b>Quellenstrasse</b><br><i>public_transportation</i><br>",
          "<b>Escher Wyss Platz</b><br><i>public_transportation</i><br>",
          "<b>Quellenstrasse</b><br><i>public_transportation</i><br>",
          "<b>Escher-Wyss-Platz</b><br><i>public_transportation</i><br>",
          "<b>Escher Wyss Platz</b><br><i>public_transportation</i><br>",
          "<b>Escher Wyss Platz</b><br><i>public_transportation</i><br>",
          "<b>Escher-Wyss-Platz</b><br><i>public_transportation</i><br>",
          "<b>Escher Wyss Platz</b><br><i>public_transportation</i><br>",
          "<b>Escher-Wyss-Platz</b><br><i>public_transportation</i><br>",
          "<b>Schiffbau</b><br><i>public_transportation</i><br>",
          "<b>Escher-Wyss-Platz</b><br><i>public_transportation</i><br>",
          "<b>Escher-Wyss-Platz</b><br><i>public_transportation</i><br>",
          "<b>Escher-Wyss-Platz</b><br><i>public_transportation</i><br>",
          "<b>Escher Wyss Platz</b><br><i>public_transportation</i><br>",
          "<b>Schiffbau</b><br><i>public_transportation</i><br>",
          "<b>Schiffbau</b><br><i>public_transportation</i><br>",
          "<b>Limmatplatz</b><br><i>public_transportation</i><br>",
          "<b>Zuerich, Eurobus Terminal</b><br><i>public_transportation</i><br>",
          "<b>Limmatplatz 4-6</b><br><i>public_transportation</i><br>",
          "<b>Hotel Züri by Fassbind</b><br><i>gym_fitness</i><br>",
          "<b>Novotel Zurich City-West</b><br><i>gym_fitness</i><br>",
          "<b>Hotel Casa Rodolfo / Casa Heinrich</b><br><i>gym_fitness</i><br>",
          "<b>CLOUDS</b><br><i>gym_fitness</i><br>",
          "<b>KV Zurich Business School Basic Education</b><br><i>gym_fitness</i><br>",
          "<b>blue Cinema Abaton</b><br><i>gym_fitness</i><br>",
          "<b>Restaurant Rosso</b><br><i>gym_fitness</i><br>",
          "<b>LaSalle</b><br><i>gym_fitness</i><br>",
          "<b>Fitnesspark Puls5</b><br><i>gym_fitness</i><br>",
          "<b>Halle 41 Fitness Zürich West</b><br><i>gym_fitness</i><br>",
          "<b>Kieser</b><br><i>gym_fitness</i><br>",
          "<b>Body Mind Coaching</b><br><i>gym_fitness</i><br>",
          "<b>Yoga Anker West</b><br><i>gym_fitness</i><br>",
          "<b>Rebalancing Faszien-Massage - Brugmann Thomas</b><br><i>gym_fitness</i><br>",
          "<b>Balboa Im Viadukt</b><br><i>gym_fitness</i><br>",
          "<b>Iyengar-Yoga</b><br><i>gym_fitness</i><br>",
          "<b>Hotel Züri by Fassbind</b><br><i>grocery_stores_supermarkets</i><br>",
          "<b>Novotel Zurich City-West</b><br><i>grocery_stores_supermarkets</i><br>",
          "<b>Hotel Casa Rodolfo / Casa Heinrich</b><br><i>grocery_stores_supermarkets</i><br>",
          "<b>CLOUDS</b><br><i>grocery_stores_supermarkets</i><br>",
          "<b>KV Zurich Business School Basic Education</b><br><i>grocery_stores_supermarkets</i><br>",
          "<b>blue Cinema Abaton</b><br><i>grocery_stores_supermarkets</i><br>",
          "<b>Restaurant Rosso</b><br><i>grocery_stores_supermarkets</i><br>",
          "<b>LaSalle</b><br><i>grocery_stores_supermarkets</i><br>",
          "<b>Migros-Supermarkt - Zürich - Limmatplatz</b><br><i>grocery_stores_supermarkets</i><br>",
          "<b>migrolino Zürich Sihlquai</b><br><i>grocery_stores_supermarkets</i><br>",
          "<b>Coop Supermarkt Zürich Josefstrasse</b><br><i>grocery_stores_supermarkets</i><br>",
          "<b>Denner Discount</b><br><i>grocery_stores_supermarkets</i><br>",
          "<b>Denner Discount</b><br><i>grocery_stores_supermarkets</i><br>",
          "<b>Denner Express</b><br><i>grocery_stores_supermarkets</i><br>",
          "<b>Coop Pronto Shop Zürich Prime Tower</b><br><i>grocery_stores_supermarkets</i><br>",
          "<b>Berg und Tal Viadukt</b><br><i>grocery_stores_supermarkets</i><br>",
          "<b>Denner Discount</b><br><i>grocery_stores_supermarkets</i><br>",
          "<b>Kani Mart Supermarket</b><br><i>grocery_stores_supermarkets</i><br>",
          "<b>Coop Supermarkt Prime 2</b><br><i>grocery_stores_supermarkets</i><br>",
          "<b>Fresh. Shop</b><br><i>grocery_stores_supermarkets</i><br>",
          "<b>Indiasupermarkt.ch</b><br><i>grocery_stores_supermarkets</i><br>",
          "<b>Migrol Service</b><br><i>gas_ev_charging</i><br>",
          "<b>Scall Tankstelle Höngg</b><br><i>gas_ev_charging</i><br>",
          "<b>Rigoni & Co</b><br><i>gas_ev_charging</i><br>",
          "<b>Tankstelle</b><br><i>gas_ev_charging</i><br>",
          "<b>Hotel Züri by Fassbind</b><br><i>gas_ev_charging</i><br>",
          "<b>Novotel Zurich City-West</b><br><i>gas_ev_charging</i><br>",
          "<b>Hotel Casa Rodolfo / Casa Heinrich</b><br><i>gas_ev_charging</i><br>",
          "<b>CLOUDS</b><br><i>gas_ev_charging</i><br>",
          "<b>KV Zurich Business School Basic Education</b><br><i>gas_ev_charging</i><br>",
          "<b>blue Cinema Abaton</b><br><i>gas_ev_charging</i><br>",
          "<b>Restaurant Rosso</b><br><i>gas_ev_charging</i><br>",
          "<b>LaSalle</b><br><i>gas_ev_charging</i><br>",
          "<b>Schulhaus Schütze</b><br><i>schools</i><br>",
          "<b>KV Zurich Business School Basic Education</b><br><i>schools</i><br>",
          "<b>ETH Zurich - HEA Volumetric Capture</b><br><i>schools</i><br>",
          "<b>uggs rea online sverige</b><br><i>schools</i><br>"
         ],
         "type": "scattermapbox"
        },
        {
         "hoverinfo": "text",
         "hovertemplate": "%{text}<extra></extra>",
         "lat": [
          47.3872345,
          47.388361,
          47.3895233,
          47.3919262,
          47.3840524,
          47.3863612,
          47.3827935,
          47.3873408,
          47.3860207,
          47.3862839,
          47.3836636,
          47.3865408,
          47.3891581,
          47.3904856,
          47.3828872,
          47.3825931,
          47.3825403,
          47.3884868,
          47.3900813,
          47.3878238,
          47.3887737,
          47.3873982,
          47.3867082,
          47.3865085,
          47.3888831,
          47.3835914,
          47.3884346,
          47.3878614,
          47.3878633,
          47.3825398,
          47.3867368,
          47.3886695,
          47.3899318,
          47.382624,
          47.3887272,
          47.3884825,
          47.3844648,
          47.384599,
          47.3836276,
          47.39337,
          47.3935843,
          47.3847471,
          47.3884508,
          47.3874963,
          47.3871627,
          47.3863054,
          47.3842264,
          47.3855243,
          47.3861863,
          47.3823657,
          47.3819642,
          47.3828582,
          47.3837599,
          47.3839003,
          47.3876044,
          47.3910244,
          47.3909511,
          47.3915816,
          47.3903732,
          47.3901439,
          47.387695,
          47.3863155,
          47.383294,
          47.3891509,
          47.385169,
          47.3854018,
          47.3843311,
          47.3885207,
          47.3886259,
          47.3843323,
          47.3846382,
          47.384832,
          47.3847907,
          47.3838905,
          47.3832801,
          47.3890946,
          47.3861426,
          47.3900195,
          47.3841944,
          47.3850255,
          47.3834555,
          47.3882232,
          47.3838555,
          47.3859082,
          47.3888334,
          47.3889173,
          47.3892343,
          47.3840078,
          47.3831028,
          47.388899,
          47.3860799,
          47.3816304,
          47.3873149,
          47.3863074,
          47.3861209,
          47.3870148,
          47.3830089,
          47.3889195,
          47.3889262,
          47.3831405,
          47.3823411,
          47.3887574,
          47.3827376,
          47.3870012,
          47.3883195,
          47.3851966,
          47.3835589,
          47.3890627,
          47.3862449,
          47.3926467,
          47.3876253,
          47.3845001,
          47.3866102,
          47.3883018,
          47.390004,
          47.386468,
          47.3863684,
          47.382156,
          47.3936136,
          47.3876677,
          47.389,
          47.3876093,
          47.3912062,
          47.3830393,
          47.383792,
          47.3845051,
          47.3856431,
          47.383637,
          47.3843155,
          47.3829856,
          47.3829745,
          47.3862333,
          47.3850216,
          47.3851562,
          47.3860523,
          47.391139,
          47.3881064,
          47.3876457,
          47.3876768,
          47.3864384,
          47.3887737,
          47.3857517,
          47.3866448,
          47.3884984,
          47.3883093,
          47.3887489,
          47.3831832
         ],
         "lon": [
          8.519462,
          8.5223501,
          8.5217251,
          8.5187946,
          8.5309307,
          8.5280176,
          8.5295411,
          8.5304131,
          8.5171884,
          8.5174558,
          8.5326533,
          8.5287954,
          8.5166796,
          8.5276442,
          8.5287112,
          8.5299484,
          8.5300127,
          8.5206867,
          8.522261,
          8.5244351,
          8.5189288,
          8.5196228,
          8.5171685,
          8.5164968,
          8.5281704,
          8.5283234,
          8.5208041,
          8.5244404,
          8.5186448,
          8.5296036,
          8.5340332,
          8.5191166,
          8.5212819,
          8.5312467,
          8.5213785,
          8.5211173,
          8.5278368,
          8.5275777,
          8.5287302,
          8.5294371,
          8.5296761,
          8.5311137,
          8.5257299,
          8.5272804,
          8.528489,
          8.5289489,
          8.5319218,
          8.5312041,
          8.5209904,
          8.5303266,
          8.5294299,
          8.5307697,
          8.5284695,
          8.5307988,
          8.5260285,
          8.526532,
          8.5272823,
          8.5251298,
          8.522875,
          8.5223613,
          8.5187881,
          8.5167264,
          8.5301807,
          8.5177829,
          8.5190628,
          8.5183169,
          8.5286143,
          8.5256303,
          8.5253686,
          8.5302362,
          8.5297901,
          8.5295929,
          8.5277141,
          8.5289598,
          8.528361,
          8.5168772,
          8.5220289,
          8.5222008,
          8.5284377,
          8.5203173,
          8.5303841,
          8.5176146,
          8.5295871,
          8.5181661,
          8.5224703,
          8.5222924,
          8.5250511,
          8.5318712,
          8.5301347,
          8.5203297,
          8.5171898,
          8.529384,
          8.5171254,
          8.520317,
          8.5197344,
          8.5201885,
          8.5303012,
          8.5264887,
          8.5281915,
          8.5297441,
          8.5300095,
          8.5223451,
          8.5314784,
          8.5231009,
          8.5310748,
          8.5254523,
          8.5250483,
          8.5228595,
          8.5301096,
          8.5233842,
          8.5194617,
          8.5317699,
          8.528909,
          8.5262309,
          8.5236162,
          8.5226749,
          8.5177812,
          8.5296269,
          8.5295647,
          8.5207435,
          8.5231111,
          8.5234875,
          8.5185804,
          8.5306156,
          8.5325137,
          8.5311548,
          8.5269917,
          8.5308305,
          8.5272789,
          8.5302453,
          8.5290982,
          8.5281384,
          8.5293595,
          8.5291782,
          8.5319464,
          8.5267589,
          8.5245108,
          8.5333362,
          8.5254154,
          8.5169064,
          8.5180643,
          8.531279,
          8.5262516,
          8.5230797,
          8.5177342,
          8.5221662,
          8.5309358
         ],
         "marker": {
          "color": "black",
          "opacity": 1,
          "size": 10
         },
         "mode": "markers",
         "showlegend": false,
         "text": [
          "<b>Big Ben Westside Pub</b><br><i>bars</i><br>",
          "<b>Billiardino</b><br><i>bars</i><br>",
          "<b>4. Akt</b><br><i>bars</i><br>",
          "<b>Sphères</b><br><i>bars</i><br>",
          "<b>Matahari Bar</b><br><i>bars</i><br>",
          "<b>St. Joseph's Pub</b><br><i>bars</i><br>",
          "<b>Kasheme</b><br><i>bars</i><br>",
          "<b>planet5</b><br><i>bars</i><br>",
          "<b>Clouds</b><br><i>bars</i><br>",
          "<b>Hotel Rivington & Sons</b><br><i>bars</i><br>",
          "<b>Eldorado</b><br><i>bars</i><br>",
          "<b>Barrio 5</b><br><i>bars</i><br>",
          "<b>novotelcafe</b><br><i>bars</i><br>",
          "<b>Damm für Dich</b><br><i>bars</i><br>",
          "<b>The International Beer Bar</b><br><i>bars</i><br>",
          "<b>Chicago Bar</b><br><i>bars</i><br>",
          "<b>Vineria Centrale</b><br><i>bars</i><br>",
          "<b>AYA</b><br><i>bars</i><br>",
          "<b>IQ Bar</b><br><i>bars</i><br>",
          "<b>Don Weber</b><br><i>bars</i><br>",
          "<b>NietturmBar</b><br><i>bars</i><br>",
          "<b>Escherwyss Shisha Lounge</b><br><i>bars</i><br>",
          "<b>Mäx Club</b><br><i>bars</i><br>",
          "<b>k2</b><br><i>bars</i><br>",
          "<b>Haus am Fluss</b><br><i>bars</i><br>",
          "<b>Dar</b><br><i>restaurants</i><br>",
          "<b>Soho</b><br><i>restaurants</i><br>",
          "<b>Don Weber</b><br><i>restaurants</i><br>",
          "<b>Les Halles</b><br><i>restaurants</i><br>",
          "<b>LILY'S</b><br><i>restaurants</i><br>",
          "<b>Stazione Paradiso</b><br><i>restaurants</i><br>",
          "<b>LaSalle</b><br><i>restaurants</i><br>",
          "<b>threeOfive</b><br><i>restaurants</i><br>",
          "<b>Spicy Box</b><br><i>restaurants</i><br>",
          "<b>Nooch Asian Kitchen</b><br><i>restaurants</i><br>",
          "<b>Brauerei Steinfels</b><br><i>restaurants</i><br>",
          "<b>Tibetasia</b><br><i>restaurants</i><br>",
          "<b>Damas</b><br><i>restaurants</i><br>",
          "<b>Eisenhof</b><br><i>restaurants</i><br>",
          "<b>Nordbrücke</b><br><i>restaurants</i><br>",
          "<b>The Artisan</b><br><i>restaurants</i><br>",
          "<b>AMO e lino</b><br><i>restaurants</i><br>",
          "<b>Don Paco</b><br><i>restaurants</i><br>",
          "<b>Limmathof</b><br><i>restaurants</i><br>",
          "<b>Alpenrose</b><br><i>restaurants</i><br>",
          "<b>a fatt</b><br><i>restaurants</i><br>",
          "<b>Millennium</b><br><i>restaurants</i><br>",
          "<b>Migros Restaurant</b><br><i>restaurants</i><br>",
          "<b>Viadukt</b><br><i>restaurants</i><br>",
          "<b>Yume Ramen</b><br><i>restaurants</i><br>",
          "<b>Babo's Restaurant</b><br><i>restaurants</i><br>",
          "<b>Don’t Worry Eat Curry</b><br><i>restaurants</i><br>",
          "<b>Co Chin Chin</b><br><i>restaurants</i><br>",
          "<b>Amigos Tapas</b><br><i>restaurants</i><br>",
          "<b>Restaurant Markthalle</b><br><i>restaurants</i><br>",
          "<b>Taj Palace</b><br><i>restaurants</i><br>",
          "<b>Il Basilico H10</b><br><i>restaurants</i><br>",
          "<b>Da Pone</b><br><i>restaurants</i><br>",
          "<b>il Gallo</b><br><i>restaurants</i><br>",
          "<b>Wurst und Moritz</b><br><i>restaurants</i><br>",
          "<b>Brisket</b><br><i>restaurants</i><br>",
          "<b>LY'S Asia</b><br><i>restaurants</i><br>",
          "<b>Cinque</b><br><i>restaurants</i><br>",
          "<b>Aubrey</b><br><i>restaurants</i><br>",
          "<b>Frau Gerolds Garten</b><br><i>restaurants</i><br>",
          "<b>Rosso</b><br><i>restaurants</i><br>",
          "<b>Manjaal</b><br><i>restaurants</i><br>",
          "<b>Costa Brava</b><br><i>restaurants</i><br>",
          "<b>Pizzeria Margheri</b><br><i>restaurants</i><br>",
          "<b>4Leoni Firenze</b><br><i>restaurants</i><br>",
          "<b>Valentin's</b><br><i>restaurants</i><br>",
          "<b>La Contrada</b><br><i>restaurants</i><br>",
          "<b>Friends Corner</b><br><i>restaurants</i><br>",
          "<b>Josef</b><br><i>restaurants</i><br>",
          "<b>Chimy's</b><br><i>restaurants</i><br>",
          "<b>The Flave</b><br><i>restaurants</i><br>",
          "<b>Restaurant Viadukt</b><br><i>restaurants</i><br>",
          "<b>Brooklyn Burgermeister</b><br><i>restaurants</i><br>",
          "<b>Maneez</b><br><i>restaurants</i><br>",
          "<b>Gerold Chuchi</b><br><i>restaurants</i><br>",
          "<b>ChopChop</b><br><i>restaurants</i><br>",
          "<b>Lilly Jo</b><br><i>restaurants</i><br>",
          "<b>Santa Lucia</b><br><i>restaurants</i><br>",
          "<b>Zum Gaul</b><br><i>restaurants</i><br>",
          "<b>The Butcher</b><br><i>restaurants</i><br>",
          "<b>Kitchen Republic</b><br><i>restaurants</i><br>",
          "<b>Loi</b><br><i>restaurants</i><br>",
          "<b>Afghan Anar</b><br><i>restaurants</i><br>",
          "<b>Thali House</b><br><i>restaurants</i><br>",
          "<b>Kai Sushi</b><br><i>restaurants</i><br>",
          "<b>Clouds</b><br><i>restaurants</i><br>",
          "<b>Osso</b><br><i>restaurants</i><br>",
          "<b>roots</b><br><i>restaurants</i><br>",
          "<b>Züriwest</b><br><i>restaurants</i><br>",
          "<b>Bistro</b><br><i>restaurants</i><br>",
          "<b>Kleinwäscherei</b><br><i>restaurants</i><br>",
          "<b>Riviera</b><br><i>restaurants</i><br>",
          "<b>Elmira</b><br><i>restaurants</i><br>",
          "<b>Haus am Fluss Asian Food Hall & Bar</b><br><i>restaurants</i><br>",
          "<b>Casa Aurelio</b><br><i>restaurants</i><br>",
          "<b>JIAOZI</b><br><i>restaurants</i><br>",
          "<b>Angry Chicken</b><br><i>restaurants</i><br>",
          "<b>GFZ Kindertagesstätte 5</b><br><i>kindergarten</i><br>",
          "<b>Kindertagesstätte Regenbogen</b><br><i>kindergarten</i><br>",
          "<b>Kinderhort Wasserwerk - Mittag-Abend</b><br><i>kindergarten</i><br>",
          "<b>Kindergarten Josef</b><br><i>kindergarten</i><br>",
          "<b>Kindergarten Neugasse</b><br><i>kindergarten</i><br>",
          "<b>Kindergarten Schütze 1-2-3</b><br><i>kindergarten</i><br>",
          "<b>Kindergarten Kornhaus</b><br><i>kindergarten</i><br>",
          "<b>Wipkingerplatz</b><br><i>public_transportation</i><br>",
          "<b>Schiffbau</b><br><i>public_transportation</i><br>",
          "<b>Limmatplatz</b><br><i>public_transportation</i><br>",
          "<b>Quellenstrasse</b><br><i>public_transportation</i><br>",
          "<b>Löwenbräu</b><br><i>public_transportation</i><br>",
          "<b>Escher-Wyss-Platz</b><br><i>public_transportation</i><br>",
          "<b>Balboa im Viadukt</b><br><i>gym_fitness</i><br>",
          "<b>Kieser Training</b><br><i>gym_fitness</i><br>",
          "<b>ACTIV Fitness The Docks</b><br><i>gym_fitness</i><br>",
          "<b>ACTIV Fitness Nordbrücke</b><br><i>gym_fitness</i><br>",
          "<b>Sportzentrum Josef</b><br><i>gym_fitness</i><br>",
          "<b>Sport-/Turnhalle Schütze</b><br><i>gym_fitness</i><br>",
          "<b>yoga anker west</b><br><i>gym_fitness</i><br>",
          "<b>M-Express</b><br><i>grocery_stores_supermarkets</i><br>",
          "<b>India Supermarkt Maharajah</b><br><i>grocery_stores_supermarkets</i><br>",
          "<b>Limmatmarkt</b><br><i>grocery_stores_supermarkets</i><br>",
          "<b>Alnatura</b><br><i>grocery_stores_supermarkets</i><br>",
          "<b>SP Enterprise</b><br><i>grocery_stores_supermarkets</i><br>",
          "<b>Kiosk Shop</b><br><i>grocery_stores_supermarkets</i><br>",
          "<b>S K Trading</b><br><i>grocery_stores_supermarkets</i><br>",
          "<b>Jai Kiosk</b><br><i>grocery_stores_supermarkets</i><br>",
          "<b>Yaal Aruvi</b><br><i>grocery_stores_supermarkets</i><br>",
          "<b>Amuthan kiosk shop</b><br><i>grocery_stores_supermarkets</i><br>",
          "<b>Zarana Kiosk</b><br><i>grocery_stores_supermarkets</i><br>",
          "<b>New Avataar</b><br><i>grocery_stores_supermarkets</i><br>",
          "<b>Migrol Service Sihlquai</b><br><i>gas_ev_charging</i><br>",
          "<b>Discount-Tankstelle</b><br><i>gas_ev_charging</i><br>",
          "<b>Rigoni & Co</b><br><i>gas_ev_charging</i><br>",
          "<b>Avia Wasserwerkstrasse</b><br><i>gas_ev_charging</i><br>",
          "<b>Besucher EBM</b><br><i>gas_ev_charging</i><br>",
          "<b>Plug'n Roll Ladestation</b><br><i>gas_ev_charging</i><br>",
          "<b>evpass Ladestation</b><br><i>gas_ev_charging</i><br>",
          "<b>Klubschule Migros Limmatplatz</b><br><i>schools</i><br>",
          "<b>Provisorium der Schule Kornhaus</b><br><i>schools</i><br>",
          "<b>SHT Schweizer Handelsschule für Tourismus</b><br><i>schools</i><br>",
          "<b>Marie Meierhofer Institut für das Kind</b><br><i>schools</i><br>",
          "<b>SFK Schule für Förderkurse Zürich</b><br><i>schools</i><br>",
          "<b>Star Institut Nachhilfe</b><br><i>schools</i><br>"
         ],
         "type": "scattermapbox"
        },
        {
         "hoverinfo": "text",
         "lat": [
          47.3877722
         ],
         "lon": [
          8.5254298
         ],
         "marker": {
          "color": "white",
          "opacity": 1,
          "size": 20
         },
         "mode": "markers",
         "showlegend": false,
         "text": "8005 Zürich, Heinrichstrasse 200",
         "type": "scattermapbox"
        }
       ],
       "layout": {
        "height": 1500,
        "mapbox": {
         "center": {
          "lat": 47.3877722,
          "lon": 8.5254298
         },
         "style": "open-street-map",
         "zoom": 15
        },
        "margin": {
         "b": 0,
         "l": 0,
         "r": 0,
         "t": 0
        },
        "showlegend": false,
        "template": {
         "data": {
          "bar": [
           {
            "error_x": {
             "color": "#2a3f5f"
            },
            "error_y": {
             "color": "#2a3f5f"
            },
            "marker": {
             "line": {
              "color": "#E5ECF6",
              "width": 0.5
             },
             "pattern": {
              "fillmode": "overlay",
              "size": 10,
              "solidity": 0.2
             }
            },
            "type": "bar"
           }
          ],
          "barpolar": [
           {
            "marker": {
             "line": {
              "color": "#E5ECF6",
              "width": 0.5
             },
             "pattern": {
              "fillmode": "overlay",
              "size": 10,
              "solidity": 0.2
             }
            },
            "type": "barpolar"
           }
          ],
          "carpet": [
           {
            "aaxis": {
             "endlinecolor": "#2a3f5f",
             "gridcolor": "white",
             "linecolor": "white",
             "minorgridcolor": "white",
             "startlinecolor": "#2a3f5f"
            },
            "baxis": {
             "endlinecolor": "#2a3f5f",
             "gridcolor": "white",
             "linecolor": "white",
             "minorgridcolor": "white",
             "startlinecolor": "#2a3f5f"
            },
            "type": "carpet"
           }
          ],
          "choropleth": [
           {
            "colorbar": {
             "outlinewidth": 0,
             "ticks": ""
            },
            "type": "choropleth"
           }
          ],
          "contour": [
           {
            "colorbar": {
             "outlinewidth": 0,
             "ticks": ""
            },
            "colorscale": [
             [
              0,
              "#0d0887"
             ],
             [
              0.1111111111111111,
              "#46039f"
             ],
             [
              0.2222222222222222,
              "#7201a8"
             ],
             [
              0.3333333333333333,
              "#9c179e"
             ],
             [
              0.4444444444444444,
              "#bd3786"
             ],
             [
              0.5555555555555556,
              "#d8576b"
             ],
             [
              0.6666666666666666,
              "#ed7953"
             ],
             [
              0.7777777777777778,
              "#fb9f3a"
             ],
             [
              0.8888888888888888,
              "#fdca26"
             ],
             [
              1,
              "#f0f921"
             ]
            ],
            "type": "contour"
           }
          ],
          "contourcarpet": [
           {
            "colorbar": {
             "outlinewidth": 0,
             "ticks": ""
            },
            "type": "contourcarpet"
           }
          ],
          "heatmap": [
           {
            "colorbar": {
             "outlinewidth": 0,
             "ticks": ""
            },
            "colorscale": [
             [
              0,
              "#0d0887"
             ],
             [
              0.1111111111111111,
              "#46039f"
             ],
             [
              0.2222222222222222,
              "#7201a8"
             ],
             [
              0.3333333333333333,
              "#9c179e"
             ],
             [
              0.4444444444444444,
              "#bd3786"
             ],
             [
              0.5555555555555556,
              "#d8576b"
             ],
             [
              0.6666666666666666,
              "#ed7953"
             ],
             [
              0.7777777777777778,
              "#fb9f3a"
             ],
             [
              0.8888888888888888,
              "#fdca26"
             ],
             [
              1,
              "#f0f921"
             ]
            ],
            "type": "heatmap"
           }
          ],
          "heatmapgl": [
           {
            "colorbar": {
             "outlinewidth": 0,
             "ticks": ""
            },
            "colorscale": [
             [
              0,
              "#0d0887"
             ],
             [
              0.1111111111111111,
              "#46039f"
             ],
             [
              0.2222222222222222,
              "#7201a8"
             ],
             [
              0.3333333333333333,
              "#9c179e"
             ],
             [
              0.4444444444444444,
              "#bd3786"
             ],
             [
              0.5555555555555556,
              "#d8576b"
             ],
             [
              0.6666666666666666,
              "#ed7953"
             ],
             [
              0.7777777777777778,
              "#fb9f3a"
             ],
             [
              0.8888888888888888,
              "#fdca26"
             ],
             [
              1,
              "#f0f921"
             ]
            ],
            "type": "heatmapgl"
           }
          ],
          "histogram": [
           {
            "marker": {
             "pattern": {
              "fillmode": "overlay",
              "size": 10,
              "solidity": 0.2
             }
            },
            "type": "histogram"
           }
          ],
          "histogram2d": [
           {
            "colorbar": {
             "outlinewidth": 0,
             "ticks": ""
            },
            "colorscale": [
             [
              0,
              "#0d0887"
             ],
             [
              0.1111111111111111,
              "#46039f"
             ],
             [
              0.2222222222222222,
              "#7201a8"
             ],
             [
              0.3333333333333333,
              "#9c179e"
             ],
             [
              0.4444444444444444,
              "#bd3786"
             ],
             [
              0.5555555555555556,
              "#d8576b"
             ],
             [
              0.6666666666666666,
              "#ed7953"
             ],
             [
              0.7777777777777778,
              "#fb9f3a"
             ],
             [
              0.8888888888888888,
              "#fdca26"
             ],
             [
              1,
              "#f0f921"
             ]
            ],
            "type": "histogram2d"
           }
          ],
          "histogram2dcontour": [
           {
            "colorbar": {
             "outlinewidth": 0,
             "ticks": ""
            },
            "colorscale": [
             [
              0,
              "#0d0887"
             ],
             [
              0.1111111111111111,
              "#46039f"
             ],
             [
              0.2222222222222222,
              "#7201a8"
             ],
             [
              0.3333333333333333,
              "#9c179e"
             ],
             [
              0.4444444444444444,
              "#bd3786"
             ],
             [
              0.5555555555555556,
              "#d8576b"
             ],
             [
              0.6666666666666666,
              "#ed7953"
             ],
             [
              0.7777777777777778,
              "#fb9f3a"
             ],
             [
              0.8888888888888888,
              "#fdca26"
             ],
             [
              1,
              "#f0f921"
             ]
            ],
            "type": "histogram2dcontour"
           }
          ],
          "mesh3d": [
           {
            "colorbar": {
             "outlinewidth": 0,
             "ticks": ""
            },
            "type": "mesh3d"
           }
          ],
          "parcoords": [
           {
            "line": {
             "colorbar": {
              "outlinewidth": 0,
              "ticks": ""
             }
            },
            "type": "parcoords"
           }
          ],
          "pie": [
           {
            "automargin": true,
            "type": "pie"
           }
          ],
          "scatter": [
           {
            "fillpattern": {
             "fillmode": "overlay",
             "size": 10,
             "solidity": 0.2
            },
            "type": "scatter"
           }
          ],
          "scatter3d": [
           {
            "line": {
             "colorbar": {
              "outlinewidth": 0,
              "ticks": ""
             }
            },
            "marker": {
             "colorbar": {
              "outlinewidth": 0,
              "ticks": ""
             }
            },
            "type": "scatter3d"
           }
          ],
          "scattercarpet": [
           {
            "marker": {
             "colorbar": {
              "outlinewidth": 0,
              "ticks": ""
             }
            },
            "type": "scattercarpet"
           }
          ],
          "scattergeo": [
           {
            "marker": {
             "colorbar": {
              "outlinewidth": 0,
              "ticks": ""
             }
            },
            "type": "scattergeo"
           }
          ],
          "scattergl": [
           {
            "marker": {
             "colorbar": {
              "outlinewidth": 0,
              "ticks": ""
             }
            },
            "type": "scattergl"
           }
          ],
          "scattermapbox": [
           {
            "marker": {
             "colorbar": {
              "outlinewidth": 0,
              "ticks": ""
             }
            },
            "type": "scattermapbox"
           }
          ],
          "scatterpolar": [
           {
            "marker": {
             "colorbar": {
              "outlinewidth": 0,
              "ticks": ""
             }
            },
            "type": "scatterpolar"
           }
          ],
          "scatterpolargl": [
           {
            "marker": {
             "colorbar": {
              "outlinewidth": 0,
              "ticks": ""
             }
            },
            "type": "scatterpolargl"
           }
          ],
          "scatterternary": [
           {
            "marker": {
             "colorbar": {
              "outlinewidth": 0,
              "ticks": ""
             }
            },
            "type": "scatterternary"
           }
          ],
          "surface": [
           {
            "colorbar": {
             "outlinewidth": 0,
             "ticks": ""
            },
            "colorscale": [
             [
              0,
              "#0d0887"
             ],
             [
              0.1111111111111111,
              "#46039f"
             ],
             [
              0.2222222222222222,
              "#7201a8"
             ],
             [
              0.3333333333333333,
              "#9c179e"
             ],
             [
              0.4444444444444444,
              "#bd3786"
             ],
             [
              0.5555555555555556,
              "#d8576b"
             ],
             [
              0.6666666666666666,
              "#ed7953"
             ],
             [
              0.7777777777777778,
              "#fb9f3a"
             ],
             [
              0.8888888888888888,
              "#fdca26"
             ],
             [
              1,
              "#f0f921"
             ]
            ],
            "type": "surface"
           }
          ],
          "table": [
           {
            "cells": {
             "fill": {
              "color": "#EBF0F8"
             },
             "line": {
              "color": "white"
             }
            },
            "header": {
             "fill": {
              "color": "#C8D4E3"
             },
             "line": {
              "color": "white"
             }
            },
            "type": "table"
           }
          ]
         },
         "layout": {
          "annotationdefaults": {
           "arrowcolor": "#2a3f5f",
           "arrowhead": 0,
           "arrowwidth": 1
          },
          "autotypenumbers": "strict",
          "coloraxis": {
           "colorbar": {
            "outlinewidth": 0,
            "ticks": ""
           }
          },
          "colorscale": {
           "diverging": [
            [
             0,
             "#8e0152"
            ],
            [
             0.1,
             "#c51b7d"
            ],
            [
             0.2,
             "#de77ae"
            ],
            [
             0.3,
             "#f1b6da"
            ],
            [
             0.4,
             "#fde0ef"
            ],
            [
             0.5,
             "#f7f7f7"
            ],
            [
             0.6,
             "#e6f5d0"
            ],
            [
             0.7,
             "#b8e186"
            ],
            [
             0.8,
             "#7fbc41"
            ],
            [
             0.9,
             "#4d9221"
            ],
            [
             1,
             "#276419"
            ]
           ],
           "sequential": [
            [
             0,
             "#0d0887"
            ],
            [
             0.1111111111111111,
             "#46039f"
            ],
            [
             0.2222222222222222,
             "#7201a8"
            ],
            [
             0.3333333333333333,
             "#9c179e"
            ],
            [
             0.4444444444444444,
             "#bd3786"
            ],
            [
             0.5555555555555556,
             "#d8576b"
            ],
            [
             0.6666666666666666,
             "#ed7953"
            ],
            [
             0.7777777777777778,
             "#fb9f3a"
            ],
            [
             0.8888888888888888,
             "#fdca26"
            ],
            [
             1,
             "#f0f921"
            ]
           ],
           "sequentialminus": [
            [
             0,
             "#0d0887"
            ],
            [
             0.1111111111111111,
             "#46039f"
            ],
            [
             0.2222222222222222,
             "#7201a8"
            ],
            [
             0.3333333333333333,
             "#9c179e"
            ],
            [
             0.4444444444444444,
             "#bd3786"
            ],
            [
             0.5555555555555556,
             "#d8576b"
            ],
            [
             0.6666666666666666,
             "#ed7953"
            ],
            [
             0.7777777777777778,
             "#fb9f3a"
            ],
            [
             0.8888888888888888,
             "#fdca26"
            ],
            [
             1,
             "#f0f921"
            ]
           ]
          },
          "colorway": [
           "#636efa",
           "#EF553B",
           "#00cc96",
           "#ab63fa",
           "#FFA15A",
           "#19d3f3",
           "#FF6692",
           "#B6E880",
           "#FF97FF",
           "#FECB52"
          ],
          "font": {
           "color": "#2a3f5f"
          },
          "geo": {
           "bgcolor": "white",
           "lakecolor": "white",
           "landcolor": "#E5ECF6",
           "showlakes": true,
           "showland": true,
           "subunitcolor": "white"
          },
          "hoverlabel": {
           "align": "left"
          },
          "hovermode": "closest",
          "mapbox": {
           "style": "light"
          },
          "paper_bgcolor": "white",
          "plot_bgcolor": "#E5ECF6",
          "polar": {
           "angularaxis": {
            "gridcolor": "white",
            "linecolor": "white",
            "ticks": ""
           },
           "bgcolor": "#E5ECF6",
           "radialaxis": {
            "gridcolor": "white",
            "linecolor": "white",
            "ticks": ""
           }
          },
          "scene": {
           "xaxis": {
            "backgroundcolor": "#E5ECF6",
            "gridcolor": "white",
            "gridwidth": 2,
            "linecolor": "white",
            "showbackground": true,
            "ticks": "",
            "zerolinecolor": "white"
           },
           "yaxis": {
            "backgroundcolor": "#E5ECF6",
            "gridcolor": "white",
            "gridwidth": 2,
            "linecolor": "white",
            "showbackground": true,
            "ticks": "",
            "zerolinecolor": "white"
           },
           "zaxis": {
            "backgroundcolor": "#E5ECF6",
            "gridcolor": "white",
            "gridwidth": 2,
            "linecolor": "white",
            "showbackground": true,
            "ticks": "",
            "zerolinecolor": "white"
           }
          },
          "shapedefaults": {
           "line": {
            "color": "#2a3f5f"
           }
          },
          "ternary": {
           "aaxis": {
            "gridcolor": "white",
            "linecolor": "white",
            "ticks": ""
           },
           "baxis": {
            "gridcolor": "white",
            "linecolor": "white",
            "ticks": ""
           },
           "bgcolor": "#E5ECF6",
           "caxis": {
            "gridcolor": "white",
            "linecolor": "white",
            "ticks": ""
           }
          },
          "title": {
           "x": 0.05
          },
          "xaxis": {
           "automargin": true,
           "gridcolor": "white",
           "linecolor": "white",
           "ticks": "",
           "title": {
            "standoff": 15
           },
           "zerolinecolor": "white",
           "zerolinewidth": 2
          },
          "yaxis": {
           "automargin": true,
           "gridcolor": "white",
           "linecolor": "white",
           "ticks": "",
           "title": {
            "standoff": 15
           },
           "zerolinecolor": "white",
           "zerolinewidth": 2
          }
         }
        },
        "width": 1500
       }
      }
     },
     "metadata": {},
     "output_type": "display_data"
    }
   ],
   "source": [
    "i = 5\n",
    "\n",
    "gg = load_data(GOOGLE_FILES[i])\n",
    "osm = load_data(OSM_FILES[i])\n",
    "print(gg['original_address']['address'])\n",
    "\n",
    "base_map = create_base_map(gg, 1500, 1500, 15)\n",
    "add_isochrone(base_map, gg) # no need to put isochrones in OSM files\n",
    "\n",
    "add_places(base_map, gg, 15, 'red' )\n",
    "add_places(base_map, osm, 10, 'black' )\n",
    "\n",
    "add_original_address(base_map, gg)"
   ]
  },
  {
   "cell_type": "markdown",
   "metadata": {},
   "source": [
    "### 8003 Zürich, Birmensdorferstrasse 108"
   ]
  },
  {
   "cell_type": "code",
   "execution_count": 23,
   "metadata": {},
   "outputs": [
    {
     "name": "stdout",
     "output_type": "stream",
     "text": [
      "8003 Zürich, Birmensdorferstrasse 108\n"
     ]
    },
    {
     "data": {
      "application/vnd.plotly.v1+json": {
       "config": {
        "plotlyServerURL": "https://plot.ly"
       },
       "data": [
        {
         "type": "scattermapbox"
        },
        {
         "fill": "toself",
         "fillcolor": "rgba(10,80,50,0.1)",
         "hoverinfo": "text",
         "lat": [
          47.370082,
          47.369157,
          47.368876,
          47.368799,
          47.368958,
          47.369007,
          47.370601,
          47.371243,
          47.371653,
          47.371659,
          47.371754,
          47.372512,
          47.3724,
          47.372392,
          47.372223,
          47.371516,
          47.371439,
          47.37043,
          47.370082
         ],
         "line": {
          "color": "rgba(10,80,50,1)",
          "width": 1
         },
         "lon": [
          8.518846,
          8.519542,
          8.519767,
          8.521463,
          8.524224,
          8.524265,
          8.524685,
          8.524825,
          8.524893,
          8.524888,
          8.52475,
          8.521827,
          8.520406,
          8.520318,
          8.520074,
          8.519534,
          8.519492,
          8.518939,
          8.518846
         ],
         "mode": "lines",
         "showlegend": false,
         "text": "3.0min. walking",
         "type": "scattermapbox"
        },
        {
         "fill": "toself",
         "fillcolor": "rgba(10,80,50,0.1)",
         "hoverinfo": "text",
         "lat": [
          47.370393,
          47.369512,
          47.368381,
          47.368228,
          47.367679,
          47.367518,
          47.367435,
          47.367749,
          47.367981,
          47.368564,
          47.368915,
          47.368997,
          47.371606,
          47.372041,
          47.372482,
          47.372501,
          47.372998,
          47.373477,
          47.373542,
          47.373545,
          47.372815,
          47.370831,
          47.370751,
          47.370393
         ],
         "line": {
          "color": "rgba(10,80,50,1)",
          "width": 1
         },
         "lon": [
          8.516813,
          8.517247,
          8.517852,
          8.518114,
          8.519095,
          8.51947,
          8.519671,
          8.523716,
          8.524399,
          8.525335,
          8.525911,
          8.525986,
          8.5268,
          8.526792,
          8.52661,
          8.526579,
          8.523861,
          8.520078,
          8.519009,
          8.518906,
          8.51816,
          8.516813,
          8.516776,
          8.516813
         ],
         "mode": "lines",
         "showlegend": false,
         "text": "5.0min. walking",
         "type": "scattermapbox"
        },
        {
         "fill": "toself",
         "fillcolor": "rgba(10,80,50,0.1)",
         "hoverinfo": "text",
         "lat": [
          47.370236,
          47.367795,
          47.367723,
          47.366011,
          47.365986,
          47.366454,
          47.366577,
          47.366617,
          47.367784,
          47.368843,
          47.369136,
          47.371188,
          47.371191,
          47.371583,
          47.372605,
          47.372736,
          47.373342,
          47.373416,
          47.374355,
          47.374359,
          47.374362,
          47.374365,
          47.374879,
          47.374696,
          47.374415,
          47.373857,
          47.371731,
          47.371388,
          47.370803,
          47.370528,
          47.370236
         ],
         "line": {
          "color": "rgba(10,80,50,1)",
          "width": 1
         },
         "lon": [
          8.514701,
          8.515981,
          8.516033,
          8.519945,
          8.520138,
          8.523126,
          8.523935,
          8.524128,
          8.526236,
          8.527935,
          8.528252,
          8.528933,
          8.528933,
          8.528881,
          8.528697,
          8.528671,
          8.528057,
          8.527957,
          8.525026,
          8.524989,
          8.524931,
          8.524884,
          8.519103,
          8.517487,
          8.517261,
          8.516831,
          8.515393,
          8.515168,
          8.514809,
          8.514655,
          8.514701
         ],
         "mode": "lines",
         "showlegend": false,
         "text": "7.0min. walking",
         "type": "scattermapbox"
        },
        {
         "fill": "toself",
         "fillcolor": "rgba(10,80,50,0.1)",
         "hoverinfo": "text",
         "lat": [
          47.370203,
          47.370081,
          47.369845,
          47.366211,
          47.366003,
          47.363982,
          47.363804,
          47.364245,
          47.364701,
          47.36478,
          47.36731,
          47.367603,
          47.370758,
          47.370945,
          47.373109,
          47.373507,
          47.375093,
          47.37599,
          47.37633,
          47.376644,
          47.376966,
          47.376556,
          47.376304,
          47.376125,
          47.37607,
          47.374897,
          47.372482,
          47.370277,
          47.370203
         ],
         "line": {
          "color": "rgba(10,80,50,1)",
          "width": 1
         },
         "lon": [
          8.511458,
          8.511472,
          8.5115,
          8.513667,
          8.513969,
          8.519595,
          8.520358,
          8.522809,
          8.525107,
          8.525458,
          8.530513,
          8.530724,
          8.531883,
          8.531945,
          8.531771,
          8.531671,
          8.529579,
          8.527153,
          8.525634,
          8.520283,
          8.518209,
          8.515978,
          8.515384,
          8.515116,
          8.515061,
          8.514157,
          8.512758,
          8.511458,
          8.511458
         ],
         "mode": "lines",
         "showlegend": false,
         "text": "10.0min. walking",
         "type": "scattermapbox"
        },
        {
         "fill": "toself",
         "fillcolor": "rgba(10,80,50,0.1)",
         "hoverinfo": "text",
         "lat": [
          47.369846,
          47.369488,
          47.369393,
          47.368903,
          47.364382,
          47.364267,
          47.364228,
          47.363368,
          47.362141,
          47.362005,
          47.36199,
          47.361905,
          47.361981,
          47.362015,
          47.363084,
          47.363254,
          47.364004,
          47.365822,
          47.365888,
          47.36593,
          47.369756,
          47.370337,
          47.372954,
          47.375101,
          47.375361,
          47.376929,
          47.376973,
          47.377639,
          47.378358,
          47.378551,
          47.378924,
          47.378934,
          47.37894,
          47.377559,
          47.377221,
          47.372743,
          47.372436,
          47.370618,
          47.369846
         ],
         "line": {
          "color": "rgba(10,80,50,1)",
          "width": 1
         },
         "lon": [
          8.508221,
          8.508264,
          8.5083,
          8.508674,
          8.511858,
          8.511965,
          8.512107,
          8.516685,
          8.51822,
          8.5185,
          8.518827,
          8.52233,
          8.522682,
          8.522783,
          8.525938,
          8.526332,
          8.52755,
          8.532296,
          8.532522,
          8.532567,
          8.53482,
          8.534899,
          8.534833,
          8.533402,
          8.533153,
          8.530836,
          8.530766,
          8.529322,
          8.526737,
          8.521626,
          8.519523,
          8.519472,
          8.515994,
          8.512704,
          8.512303,
          8.509508,
          8.50932,
          8.508487,
          8.508221
         ],
         "mode": "lines",
         "showlegend": false,
         "text": "13.0min. walking",
         "type": "scattermapbox"
        },
        {
         "fill": "toself",
         "fillcolor": "rgba(10,80,50,0.1)",
         "hoverinfo": "text",
         "lat": [
          47.369652,
          47.369294,
          47.369122,
          47.367113,
          47.363481,
          47.36307,
          47.363016,
          47.360737,
          47.360341,
          47.360342,
          47.361833,
          47.363248,
          47.364393,
          47.364486,
          47.364778,
          47.368624,
          47.369686,
          47.371093,
          47.372916,
          47.373194,
          47.37322,
          47.376168,
          47.376471,
          47.378798,
          47.379816,
          47.379687,
          47.380204,
          47.380218,
          47.380376,
          47.380361,
          47.380202,
          47.380032,
          47.379991,
          47.378896,
          47.378175,
          47.373466,
          47.371826,
          47.371505,
          47.370419,
          47.369652
         ],
         "line": {
          "color": "rgba(10,80,50,1)",
          "width": 1
         },
         "lon": [
          8.506044,
          8.506085,
          8.506135,
          8.507679,
          8.510168,
          8.510853,
          8.511914,
          8.517089,
          8.522811,
          8.522823,
          8.526717,
          8.529066,
          8.532966,
          8.533242,
          8.533462,
          8.536165,
          8.53646,
          8.536594,
          8.536718,
          8.536704,
          8.536689,
          8.534853,
          8.534658,
          8.530713,
          8.52777,
          8.523964,
          8.52061,
          8.52045,
          8.516804,
          8.516703,
          8.515955,
          8.515215,
          8.515062,
          8.512341,
          8.510496,
          8.507766,
          8.506863,
          8.506701,
          8.506228,
          8.506044
         ],
         "mode": "lines",
         "showlegend": false,
         "text": "15.0min. walking",
         "type": "scattermapbox"
        },
        {
         "hoverinfo": "text",
         "hovertemplate": "%{text}<extra></extra>",
         "lat": [
          47.372212,
          47.3713012,
          47.3729916,
          47.36625269999999,
          47.372212,
          47.3718032,
          47.3707089,
          47.3719693,
          47.3734304,
          47.3729916,
          47.3707089,
          47.3719693,
          47.3734304,
          47.3729916,
          47.3719903,
          47.36779,
          47.3707089,
          47.3719693,
          47.3734304,
          47.3729916,
          47.372326,
          47.3714016,
          47.3742982,
          47.3745026,
          47.3700092,
          47.3715058,
          47.37243050000001,
          47.3740496,
          47.3746236,
          47.3654581,
          47.3702768,
          47.3754622,
          47.369464,
          47.37123709999999,
          47.37124590000001,
          47.3714016,
          47.371387,
          47.37128669999999,
          47.3719903,
          47.3712255,
          47.37015299999999,
          47.3715757,
          47.37135370000001,
          47.36984409999999,
          47.37328299999999,
          47.36779,
          47.36757859999999,
          47.37429299999999,
          47.37428800000001,
          47.3720746,
          47.37241530000001,
          47.3707089,
          47.3719693,
          47.3734304,
          47.3729916,
          47.37153920000001,
          47.3713613,
          47.3720933,
          47.3744452,
          47.3744613,
          47.3739211,
          47.3693529,
          47.3722368,
          47.373448,
          47.3707089,
          47.3719693,
          47.3734304,
          47.3729916,
          47.3713653,
          47.3700773,
          47.3719407,
          47.3744557,
          47.37285110000001,
          47.3709277,
          47.370688,
          47.3657476,
          47.3728691,
          47.3707089,
          47.3719693,
          47.3734304,
          47.3729916,
          47.3690952,
          47.36853989999999,
          47.3703027,
          47.3701106
         ],
         "lon": [
          8.528919,
          8.5163341,
          8.5290354,
          8.521289099999999,
          8.528919,
          8.5159273,
          8.5281015,
          8.520916699999999,
          8.5189468,
          8.5290354,
          8.5281015,
          8.520916699999999,
          8.5189468,
          8.5290354,
          8.5231306,
          8.522919000000002,
          8.5281015,
          8.520916699999999,
          8.5189468,
          8.5290354,
          8.526844999999998,
          8.523633199999999,
          8.5210954,
          8.5210942,
          8.519186399999999,
          8.524199,
          8.5267232,
          8.525740400000002,
          8.5243967,
          8.521625400000001,
          8.513890900000002,
          8.517567500000002,
          8.5208199,
          8.5237001,
          8.523698000000001,
          8.523633199999999,
          8.5237481,
          8.5239234,
          8.5231306,
          8.5240384,
          8.519264000000002,
          8.524050899999999,
          8.5244849,
          8.5187093,
          8.5215,
          8.522919000000002,
          8.5230358,
          8.521452900000002,
          8.521086799999999,
          8.516639699999999,
          8.526629,
          8.5281015,
          8.520916699999999,
          8.5189468,
          8.5290354,
          8.522427100000002,
          8.5225566,
          8.519393599999999,
          8.523511599999999,
          8.5238297,
          8.5164858,
          8.5177678,
          8.519650999999998,
          8.524746,
          8.5281015,
          8.520916699999999,
          8.5189468,
          8.5290354,
          8.525133499999999,
          8.520128399999999,
          8.5204601,
          8.524042799999998,
          8.529626100000003,
          8.522505400000002,
          8.516052100000001,
          8.5213377,
          8.5211221,
          8.5281015,
          8.520916699999999,
          8.5189468,
          8.5290354,
          8.5226354,
          8.521655599999999,
          8.5270797,
          8.527352299999999
         ],
         "marker": {
          "color": "red",
          "opacity": 1,
          "size": 15
         },
         "mode": "markers",
         "showlegend": false,
         "text": [
          "<b>Certo</b><br><i>bars</i><br>",
          "<b>Plüsch</b><br><i>bars</i><br>",
          "<b>Masala</b><br><i>restaurants</i><br>",
          "<b>Ristorante Napoli</b><br><i>restaurants</i><br>",
          "<b>Certo</b><br><i>restaurants</i><br>",
          "<b>Restaurant La Côte</b><br><i>restaurants</i><br>",
          "<b>Saint Georges Hotel</b><br><i>kindergarten</i><br>",
          "<b>Synagoge Agudas Achim</b><br><i>kindergarten</i><br>",
          "<b>living downtown GmbH</b><br><i>kindergarten</i><br>",
          "<b>Masala</b><br><i>kindergarten</i><br>",
          "<b>Saint Georges Hotel</b><br><i>kindergarten</i><br>",
          "<b>Synagoge Agudas Achim</b><br><i>kindergarten</i><br>",
          "<b>living downtown GmbH</b><br><i>kindergarten</i><br>",
          "<b>Masala</b><br><i>kindergarten</i><br>",
          "<b>Bahnhof Wiedikon</b><br><i>public_transportation</i><br>",
          "<b>Hertersteg</b><br><i>public_transportation</i><br>",
          "<b>Saint Georges Hotel</b><br><i>public_transportation</i><br>",
          "<b>Synagoge Agudas Achim</b><br><i>public_transportation</i><br>",
          "<b>living downtown GmbH</b><br><i>public_transportation</i><br>",
          "<b>Masala</b><br><i>public_transportation</i><br>",
          "<b>Werd</b><br><i>public_transportation</i><br>",
          "<b>Zürich Wiedikon</b><br><i>public_transportation</i><br>",
          "<b>Zürich,Kalkbreite/Bhf.Wiedikon</b><br><i>public_transportation</i><br>",
          "<b>Kalkbreite/Bhf. Wiedikon</b><br><i>public_transportation</i><br>",
          "<b>Schmiede Wiedikon</b><br><i>public_transportation</i><br>",
          "<b>Bahnhof Wiedikon</b><br><i>public_transportation</i><br>",
          "<b>Werd</b><br><i>public_transportation</i><br>",
          "<b>Bezirksgebäude</b><br><i>public_transportation</i><br>",
          "<b>Kernstrasse</b><br><i>public_transportation</i><br>",
          "<b>Manesseplatz</b><br><i>public_transportation</i><br>",
          "<b>Goldbrunnenplatz</b><br><i>public_transportation</i><br>",
          "<b>Lochergut</b><br><i>public_transportation</i><br>",
          "<b>Schmiede Wiedikon</b><br><i>public_transportation</i><br>",
          "<b>Bahnhof Wiedikon</b><br><i>public_transportation</i><br>",
          "<b>Bahnhof Wiedikon</b><br><i>public_transportation</i><br>",
          "<b>Zürich Wiedikon</b><br><i>public_transportation</i><br>",
          "<b>Bahnhof Wiedikon</b><br><i>public_transportation</i><br>",
          "<b>Bahnhof Wiedikon</b><br><i>public_transportation</i><br>",
          "<b>Bahnhof Wiedikon</b><br><i>public_transportation</i><br>",
          "<b>Bahnhof Wiedikon</b><br><i>public_transportation</i><br>",
          "<b>Schmiede Wiedikon</b><br><i>public_transportation</i><br>",
          "<b>Bahnhof Wiedikon</b><br><i>public_transportation</i><br>",
          "<b>Bahnhof Wiedikon</b><br><i>public_transportation</i><br>",
          "<b>Schmiede Wiedikon</b><br><i>public_transportation</i><br>",
          "<b>Depot 4 Elisabethenstr 0</b><br><i>public_transportation</i><br>",
          "<b>Hertersteg</b><br><i>public_transportation</i><br>",
          "<b>Hertersteg</b><br><i>public_transportation</i><br>",
          "<b>Zürich,Kalkbreite/Bhf.Wiedikon</b><br><i>public_transportation</i><br>",
          "<b>Zürich,Kalkbreite/Bhf.Wiedikon</b><br><i>public_transportation</i><br>",
          "<b>Zwinglihaus</b><br><i>public_transportation</i><br>",
          "<b>Werd</b><br><i>public_transportation</i><br>",
          "<b>Saint Georges Hotel</b><br><i>gym_fitness</i><br>",
          "<b>Synagoge Agudas Achim</b><br><i>gym_fitness</i><br>",
          "<b>living downtown GmbH</b><br><i>gym_fitness</i><br>",
          "<b>Masala</b><br><i>gym_fitness</i><br>",
          "<b>Medbase Zurich Wiedikon</b><br><i>gym_fitness</i><br>",
          "<b>HT Health Training AG</b><br><i>gym_fitness</i><br>",
          "<b>Ludwig Pillhofer</b><br><i>gym_fitness</i><br>",
          "<b>Activ Fitness Zürich Forum</b><br><i>gym_fitness</i><br>",
          "<b>Booster Transform - Studio Forum</b><br><i>gym_fitness</i><br>",
          "<b>Box Club Zürich</b><br><i>gym_fitness</i><br>",
          "<b>Boxkeller Zürich, Pino Coppola</b><br><i>gym_fitness</i><br>",
          "<b>Raum für Yoga</b><br><i>gym_fitness</i><br>",
          "<b>Bikram Yoga Zurich</b><br><i>gym_fitness</i><br>",
          "<b>Saint Georges Hotel</b><br><i>grocery_stores_supermarkets</i><br>",
          "<b>Synagoge Agudas Achim</b><br><i>grocery_stores_supermarkets</i><br>",
          "<b>living downtown GmbH</b><br><i>grocery_stores_supermarkets</i><br>",
          "<b>Masala</b><br><i>grocery_stores_supermarkets</i><br>",
          "<b>Coop Pronto Shop Zürich Wiedikon</b><br><i>grocery_stores_supermarkets</i><br>",
          "<b>Migros Supermarket Zürich Schmiede Wiedikon</b><br><i>grocery_stores_supermarkets</i><br>",
          "<b>Koscher City - Kosher Supermarket</b><br><i>grocery_stores_supermarkets</i><br>",
          "<b>Coop Pronto Shop Zürich Badenerstrasse 120</b><br><i>grocery_stores_supermarkets</i><br>",
          "<b>Denner Discount</b><br><i>grocery_stores_supermarkets</i><br>",
          "<b>Lian Hua Wiedikon GmbH</b><br><i>grocery_stores_supermarkets</i><br>",
          "<b>Coop Supermarkt Zürich Wiedikon</b><br><i>grocery_stores_supermarkets</i><br>",
          "<b>ALIMA Supermarkt Wiedikon</b><br><i>grocery_stores_supermarkets</i><br>",
          "<b>bp</b><br><i>gas_ev_charging</i><br>",
          "<b>Saint Georges Hotel</b><br><i>gas_ev_charging</i><br>",
          "<b>Synagoge Agudas Achim</b><br><i>gas_ev_charging</i><br>",
          "<b>living downtown GmbH</b><br><i>gas_ev_charging</i><br>",
          "<b>Masala</b><br><i>gas_ev_charging</i><br>",
          "<b>Schulhaus Aegerten</b><br><i>schools</i><br>",
          "<b>Mascha Bisping</b><br><i>schools</i><br>",
          "<b>Bibi Bachtadze Group AG</b><br><i>schools</i><br>",
          "<b>Schweizerische Textilfachschule STF</b><br><i>schools</i><br>"
         ],
         "type": "scattermapbox"
        },
        {
         "hoverinfo": "text",
         "hovertemplate": "%{text}<extra></extra>",
         "lat": [
          47.3741673,
          47.3756046,
          47.3724091,
          47.3748228,
          47.3748899,
          47.374717,
          47.3754357,
          47.3707577,
          47.375227,
          47.3749683,
          47.3752738,
          47.3725479,
          47.3747605,
          47.3735871,
          47.375841,
          47.3722553,
          47.3745768,
          47.3741237,
          47.3742488,
          47.3714333,
          47.3761962,
          47.3731718,
          47.374091,
          47.3753496,
          47.3726024,
          47.3671983,
          47.3746668,
          47.3742891,
          47.3756628,
          47.3651417,
          47.3673432,
          47.372671,
          47.3756685,
          47.3739825,
          47.375039,
          47.3758295,
          47.3748589,
          47.374422,
          47.3738833,
          47.3761196,
          47.376432,
          47.375093,
          47.3744885,
          47.3752742,
          47.3730187,
          47.374375,
          47.3748597,
          47.3726012,
          47.372245,
          47.3732235,
          47.371054,
          47.3709038,
          47.3720798,
          47.3731595,
          47.372707,
          47.3755766,
          47.3750304,
          47.3758647,
          47.3745663,
          47.3752425,
          47.3742019,
          47.3737299,
          47.3737975,
          47.3717505,
          47.3746589,
          47.3748928,
          47.3743454,
          47.3746892,
          47.3717267,
          47.3662269,
          47.36518,
          47.3658973,
          47.374456,
          47.375292,
          47.3739392,
          47.3702244,
          47.3715144,
          47.3719093,
          47.371639,
          47.3703052,
          47.3699912,
          47.3708827,
          47.3745738,
          47.3733877,
          47.3739155,
          47.3734083,
          47.3722182,
          47.3749537,
          47.3744654,
          47.3709578,
          47.3733548,
          47.3715104,
          47.3709203,
          47.3714815,
          47.3704467,
          47.3706027,
          47.3741055,
          47.3707492,
          47.3757826,
          47.3705241,
          47.3747368,
          47.3730074,
          47.3740432,
          47.3730087,
          47.3757063,
          47.3751254,
          47.3704622,
          47.3739923,
          47.3721676,
          47.3715877,
          47.3754023,
          47.3709294,
          47.369382,
          47.3715304,
          47.3733832,
          47.3751885,
          47.3708105,
          47.371199,
          47.3700976,
          47.375895,
          47.3761214,
          47.3716047,
          47.3752026,
          47.3737799,
          47.3729171,
          47.3737738,
          47.368721,
          47.3717102,
          47.3729175,
          47.3730227,
          47.3734505,
          47.3715683,
          47.3716297,
          47.3724559,
          47.3705203,
          47.3707964,
          47.3709215,
          47.3716984,
          47.3741964,
          47.3738604,
          47.3743152,
          47.3762382,
          47.3677419,
          47.3682789,
          47.3690248,
          47.3711266,
          47.3725201,
          47.3735521,
          47.3711739,
          47.3727141,
          47.3739878,
          47.3744949,
          47.3753859,
          47.3702765,
          47.369923,
          47.3718068,
          47.3736451,
          47.3691806,
          47.3744355,
          47.3706955,
          47.3755791,
          47.3732227,
          47.3693353,
          47.3734845,
          47.3707643,
          47.3706096,
          47.3740088,
          47.3736315,
          47.3740115,
          47.3730654,
          47.37502,
          47.3728411,
          47.3713618,
          47.3728259,
          47.3750677,
          47.3657681,
          47.3696871,
          47.3708831,
          47.3723493,
          47.3745198,
          47.3676714,
          47.3745121,
          47.3725699,
          47.3729112,
          47.3729981,
          47.371977,
          47.3711393,
          47.3755309,
          47.3753321,
          47.3712738,
          47.3751015,
          47.3728411,
          47.3702456,
          47.368432,
          47.370109,
          47.3703693,
          47.3717713
         ],
         "lon": [
          8.524726,
          8.5245573,
          8.5232069,
          8.5178061,
          8.5185444,
          8.5167506,
          8.5244774,
          8.5238038,
          8.5260558,
          8.5258392,
          8.5175909,
          8.5239768,
          8.5246725,
          8.5273055,
          8.5240023,
          8.5203339,
          8.5203902,
          8.5200665,
          8.5209052,
          8.5285099,
          8.5162805,
          8.5144566,
          8.5188326,
          8.5165696,
          8.5259826,
          8.5229582,
          8.5180143,
          8.5218301,
          8.5249834,
          8.5200023,
          8.5200355,
          8.528216,
          8.5243755,
          8.5222246,
          8.5281814,
          8.5164278,
          8.5244037,
          8.5239732,
          8.5264947,
          8.5163348,
          8.5162699,
          8.5178314,
          8.516816,
          8.5165912,
          8.5289781,
          8.5177655,
          8.5149995,
          8.5273865,
          8.5289743,
          8.5237696,
          8.5243486,
          8.5233636,
          8.5270244,
          8.5261099,
          8.519818,
          8.5271252,
          8.524534,
          8.5251128,
          8.5245378,
          8.5250339,
          8.5234872,
          8.5218676,
          8.5274539,
          8.5159377,
          8.5290969,
          8.5287964,
          8.5295536,
          8.5294759,
          8.5214185,
          8.5212488,
          8.5212519,
          8.5212335,
          8.5228253,
          8.5154091,
          8.5146022,
          8.5194587,
          8.5245483,
          8.525645,
          8.524892,
          8.5207971,
          8.518351,
          8.5157585,
          8.5167916,
          8.5189589,
          8.5157835,
          8.525345,
          8.5196023,
          8.5244837,
          8.5207529,
          8.5196543,
          8.5152301,
          8.5274873,
          8.528323,
          8.5278588,
          8.5273814,
          8.5138447,
          8.5251017,
          8.5207807,
          8.5169598,
          8.5148792,
          8.5172768,
          8.5175231,
          8.5219682,
          8.5242929,
          8.5195616,
          8.517412,
          8.517246,
          8.5254278,
          8.5188077,
          8.5261787,
          8.5169163,
          8.5163605,
          8.5239033,
          8.5209454,
          8.5148182,
          8.5173298,
          8.5147617,
          8.52865,
          8.5131792,
          8.5161558,
          8.5155216,
          8.5211695,
          8.5169277,
          8.5285146,
          8.5277003,
          8.5138059,
          8.5243812,
          8.5152848,
          8.5272115,
          8.518203,
          8.5196917,
          8.5255105,
          8.5288036,
          8.523149,
          8.516875,
          8.5230471,
          8.5220385,
          8.5197963,
          8.5163138,
          8.5279624,
          8.5290412,
          8.5204341,
          8.5191494,
          8.5204303,
          8.5225482,
          8.5261705,
          8.5246657,
          8.5297594,
          8.5236276,
          8.5270735,
          8.5258741,
          8.5212348,
          8.5177286,
          8.513625,
          8.519793,
          8.5215988,
          8.5271357,
          8.5208532,
          8.523613,
          8.5134106,
          8.5194718,
          8.5303418,
          8.5177445,
          8.5248406,
          8.5128965,
          8.5130493,
          8.5275463,
          8.5276129,
          8.5165466,
          8.5193406,
          8.522895,
          8.5211422,
          8.5249359,
          8.5294871,
          8.5248796,
          8.5213302,
          8.5199335,
          8.5226013,
          8.5129823,
          8.5206088,
          8.5225014,
          8.5143636,
          8.5241062,
          8.5247374,
          8.5209343,
          8.5203722,
          8.5244609,
          8.5210483,
          8.5171428,
          8.5189666,
          8.5159373,
          8.5211422,
          8.5125042,
          8.5202996,
          8.5274702,
          8.5265067,
          8.521378
         ],
         "marker": {
          "color": "black",
          "opacity": 1,
          "size": 10
         },
         "mode": "markers",
         "showlegend": false,
         "text": [
          "<b>Plaza Bar</b><br><i>bars</i><br>",
          "<b>Sport</b><br><i>bars</i><br>",
          "<b>Elisaburg</b><br><i>bars</i><br>",
          "<b>Dali's Bar</b><br><i>bars</i><br>",
          "<b>Bar Stadio</b><br><i>bars</i><br>",
          "<b>Raygrodski</b><br><i>bars</i><br>",
          "<b>Brick</b><br><i>bars</i><br>",
          "<b>La Catedral</b><br><i>bars</i><br>",
          "<b>Xenix Bar</b><br><i>bars</i><br>",
          "<b>Central</b><br><i>bars</i><br>",
          "<b>Meyer's</b><br><i>bars</i><br>",
          "<b>SI O NO</b><br><i>bars</i><br>",
          "<b>Schwarzes Schaf</b><br><i>bars</i><br>",
          "<b>Engracia</b><br><i>bars</i><br>",
          "<b>Il Tappo</b><br><i>bars</i><br>",
          "<b>Maximilian Café & Bar</b><br><i>bars</i><br>",
          "<b>Houdini</b><br><i>bars</i><br>",
          "<b>Wohnzimmerbar</b><br><i>bars</i><br>",
          "<b>Felix Bar</b><br><i>bars</i><br>",
          "<b>Penalty Restaurant Bar</b><br><i>bars</i><br>",
          "<b>La Ola Bar</b><br><i>bars</i><br>",
          "<b>Poli</b><br><i>bars</i><br>",
          "<b>KIN</b><br><i>bars</i><br>",
          "<b>Bar Sacchi</b><br><i>bars</i><br>",
          "<b>BIERlab</b><br><i>bars</i><br>",
          "<b>Zeig Bar</b><br><i>bars</i><br>",
          "<b>Züri CiTea</b><br><i>bars</i><br>",
          "<b>Bar Lupo</b><br><i>bars</i><br>",
          "<b>Roter Delfin</b><br><i>bars</i><br>",
          "<b>Hopfenau</b><br><i>restaurants</i><br>",
          "<b>Jane Fine Food</b><br><i>restaurants</i><br>",
          "<b>Bubbles</b><br><i>restaurants</i><br>",
          "<b>Kobal</b><br><i>restaurants</i><br>",
          "<b>Chichería Cantina</b><br><i>restaurants</i><br>",
          "<b>Fribourger Stübli</b><br><i>restaurants</i><br>",
          "<b>FiveSpice</b><br><i>restaurants</i><br>",
          "<b>Suan Long</b><br><i>restaurants</i><br>",
          "<b>Yuma</b><br><i>restaurants</i><br>",
          "<b>Le Cèdre</b><br><i>restaurants</i><br>",
          "<b>Derby</b><br><i>restaurants</i><br>",
          "<b>Rosi</b><br><i>restaurants</i><br>",
          "<b>L'Artista</b><br><i>restaurants</i><br>",
          "<b>Zur Goldige Guttere</b><br><i>restaurants</i><br>",
          "<b>Miki Ramen</b><br><i>restaurants</i><br>",
          "<b>Masala</b><br><i>restaurants</i><br>",
          "<b>S-Family</b><br><i>restaurants</i><br>",
          "<b>Beke</b><br><i>restaurants</i><br>",
          "<b>Yu-An</b><br><i>restaurants</i><br>",
          "<b>Ristorante Bar Certo</b><br><i>restaurants</i><br>",
          "<b>Köchlistube</b><br><i>restaurants</i><br>",
          "<b>Arcade Pizzeria</b><br><i>restaurants</i><br>",
          "<b>Restaurant Bahnhof Wiedikon</b><br><i>restaurants</i><br>",
          "<b>Werd</b><br><i>restaurants</i><br>",
          "<b>Paneolio</b><br><i>restaurants</i><br>",
          "<b>Zum Guten Glück</b><br><i>restaurants</i><br>",
          "<b>Volkshaus</b><br><i>restaurants</i><br>",
          "<b>Peking Garden</b><br><i>restaurants</i><br>",
          "<b>Celia</b><br><i>restaurants</i><br>",
          "<b>Burgermeister</b><br><i>restaurants</i><br>",
          "<b>SO Pizza</b><br><i>restaurants</i><br>",
          "<b>Queen Idia African Restaurant</b><br><i>restaurants</i><br>",
          "<b>The Caribbean Restaurant</b><br><i>restaurants</i><br>",
          "<b>Ichizen</b><br><i>restaurants</i><br>",
          "<b>La Côte</b><br><i>restaurants</i><br>",
          "<b>Don Leone</b><br><i>restaurants</i><br>",
          "<b>Ikoo</b><br><i>restaurants</i><br>",
          "<b>Sweet Basil</b><br><i>restaurants</i><br>",
          "<b>Akaraka</b><br><i>restaurants</i><br>",
          "<b>Lou's Restaurant & Bar</b><br><i>restaurants</i><br>",
          "<b>Napoli (da Gerardo)</b><br><i>restaurants</i><br>",
          "<b>Maison Manesse</b><br><i>restaurants</i><br>",
          "<b>Uramakiya</b><br><i>restaurants</i><br>",
          "<b>La Taqueria</b><br><i>restaurants</i><br>",
          "<b>Filfl</b><br><i>restaurants</i><br>",
          "<b>Piazza</b><br><i>restaurants</i><br>",
          "<b>Gasthof Falken Wiedikon</b><br><i>restaurants</i><br>",
          "<b>Silex</b><br><i>restaurants</i><br>",
          "<b>Gartenhof</b><br><i>restaurants</i><br>",
          "<b>Hermanseck</b><br><i>restaurants</i><br>",
          "<b>Petit Saigon</b><br><i>restaurants</i><br>",
          "<b>Bierstube Scheidegg</b><br><i>restaurants</i><br>",
          "<b>SU-MO</b><br><i>restaurants</i><br>",
          "<b>Sher-E-Punjab</b><br><i>restaurants</i><br>",
          "<b>Yardbird Southern Fried Chicken</b><br><i>restaurants</i><br>",
          "<b>Restaurant Gertrudhof</b><br><i>restaurants</i><br>",
          "<b>Thai Hunters</b><br><i>restaurants</i><br>",
          "<b>Wirtschaft im Franz</b><br><i>restaurants</i><br>",
          "<b>PHO Vietnam</b><br><i>restaurants</i><br>",
          "<b>Bebek</b><br><i>restaurants</i><br>",
          "<b>Schmiedhof</b><br><i>restaurants</i><br>",
          "<b>Da Michelangelo</b><br><i>restaurants</i><br>",
          "<b>Werdguet</b><br><i>restaurants</i><br>",
          "<b>Il Giglio</b><br><i>restaurants</i><br>",
          "<b>MAZI im Morgarten</b><br><i>restaurants</i><br>",
          "<b>Fein und Schein</b><br><i>restaurants</i><br>",
          "<b>Xi Muoi</b><br><i>restaurants</i><br>",
          "<b>Nooch</b><br><i>restaurants</i><br>",
          "<b>Wingman</b><br><i>restaurants</i><br>",
          "<b>Grand Café Lochergut</b><br><i>restaurants</i><br>",
          "<b>Ying Cuisine</b><br><i>restaurants</i><br>",
          "<b>Grazie</b><br><i>restaurants</i><br>",
          "<b>Tillsamman</b><br><i>restaurants</i><br>",
          "<b>Topden Bowls</b><br><i>restaurants</i><br>",
          "<b>V.P. Catering</b><br><i>restaurants</i><br>",
          "<b>Hua Hin Thai Take Away</b><br><i>restaurants</i><br>",
          "<b>De Koreaner 59</b><br><i>restaurants</i><br>",
          "<b>Alba Pizza</b><br><i>restaurants</i><br>",
          "<b>Miss Miu</b><br><i>restaurants</i><br>",
          "<b>Ooki</b><br><i>restaurants</i><br>",
          "<b>Restaurant Pyramids</b><br><i>restaurants</i><br>",
          "<b>LILY'S Factory</b><br><i>restaurants</i><br>",
          "<b>Grottino 77</b><br><i>restaurants</i><br>",
          "<b>Salon</b><br><i>restaurants</i><br>",
          "<b>Kle</b><br><i>restaurants</i><br>",
          "<b>Jdaburg</b><br><i>restaurants</i><br>",
          "<b>Gebeta</b><br><i>restaurants</i><br>",
          "<b>Mesob</b><br><i>restaurants</i><br>",
          "<b>Yen's</b><br><i>restaurants</i><br>",
          "<b>Pizzeria Bella Napoli</b><br><i>restaurants</i><br>",
          "<b>mit&ohne</b><br><i>restaurants</i><br>",
          "<b>Tenz</b><br><i>restaurants</i><br>",
          "<b>Uto</b><br><i>restaurants</i><br>",
          "<b>Hoikoi</b><br><i>restaurants</i><br>",
          "<b>Mythos</b><br><i>restaurants</i><br>",
          "<b>Gaijin Izakaya</b><br><i>restaurants</i><br>",
          "<b>Tapas & Friends</b><br><i>restaurants</i><br>",
          "<b>Lola's Restaurant</b><br><i>restaurants</i><br>",
          "<b>Kulturmarkt</b><br><i>restaurants</i><br>",
          "<b>Emilio</b><br><i>restaurants</i><br>",
          "<b>Pizzeria Felice</b><br><i>restaurants</i><br>",
          "<b>Rémy</b><br><i>restaurants</i><br>",
          "<b>Fattoush</b><br><i>restaurants</i><br>",
          "<b>Spoon</b><br><i>restaurants</i><br>",
          "<b>Butegar</b><br><i>restaurants</i><br>",
          "<b>Liyu</b><br><i>restaurants</i><br>",
          "<b>Mai-Wok</b><br><i>restaurants</i><br>",
          "<b>Hikari</b><br><i>restaurants</i><br>",
          "<b>Ameo</b><br><i>restaurants</i><br>",
          "<b>Lalin</b><br><i>restaurants</i><br>",
          "<b>LÈ Cuisine</b><br><i>restaurants</i><br>",
          "<b>Stauffacher</b><br><i>kindergarten</i><br>",
          "<b>GFZ Kindertagesstätte 4</b><br><i>kindergarten</i><br>",
          "<b>Kinderhort Stein 1+2 Mittag-Abend</b><br><i>kindergarten</i><br>",
          "<b>Aegerten 3</b><br><i>kindergarten</i><br>",
          "<b>Aegerten 1 & 2</b><br><i>kindergarten</i><br>",
          "<b>RasselChischte</b><br><i>kindergarten</i><br>",
          "<b>Kita tandem</b><br><i>kindergarten</i><br>",
          "<b>Stauffacher</b><br><i>public_transportation</i><br>",
          "<b>Bahnhof Wiedikon</b><br><i>public_transportation</i><br>",
          "<b>Werd</b><br><i>public_transportation</i><br>",
          "<b>Bezirksgebäude</b><br><i>public_transportation</i><br>",
          "<b>Kalkbreite/Bhf. Wiedikon</b><br><i>public_transportation</i><br>",
          "<b>Lochergut</b><br><i>public_transportation</i><br>",
          "<b>Goldbrunnenplatz</b><br><i>public_transportation</i><br>",
          "<b>Schmiede Wiedikon</b><br><i>public_transportation</i><br>",
          "<b>Budokan</b><br><i>gym_fitness</i><br>",
          "<b>Zen Move</b><br><i>gym_fitness</i><br>",
          "<b>Aurum</b><br><i>gym_fitness</i><br>",
          "<b>ACTIV Fitness Forum</b><br><i>gym_fitness</i><br>",
          "<b>Uetli Gym</b><br><i>gym_fitness</i><br>",
          "<b>Puregym</b><br><i>gym_fitness</i><br>",
          "<b>ACTIV Fitness</b><br><i>gym_fitness</i><br>",
          "<b>Boxkeller</b><br><i>gym_fitness</i><br>",
          "<b>Bikram Yoga Zürich</b><br><i>gym_fitness</i><br>",
          "<b>Atelier Flow</b><br><i>gym_fitness</i><br>",
          "<b>HOGA Yoga Studio</b><br><i>gym_fitness</i><br>",
          "<b>NonStop Gym</b><br><i>gym_fitness</i><br>",
          "<b>Why Tech</b><br><i>gym_fitness</i><br>",
          "<b>Boxclub Zürich</b><br><i>gym_fitness</i><br>",
          "<b>Studio Y3</b><br><i>gym_fitness</i><br>",
          "<b>Migros</b><br><i>grocery_stores_supermarkets</i><br>",
          "<b>BP Service Wiedikon</b><br><i>grocery_stores_supermarkets</i><br>",
          "<b>Coop Pronto</b><br><i>grocery_stores_supermarkets</i><br>",
          "<b>Denner</b><br><i>grocery_stores_supermarkets</i><br>",
          "<b>shop-in-shop</b><br><i>grocery_stores_supermarkets</i><br>",
          "<b>Alima</b><br><i>grocery_stores_supermarkets</i><br>",
          "<b>Barkat Cash & Carry</b><br><i>grocery_stores_supermarkets</i><br>",
          "<b>Lian Hua - Asia Laden</b><br><i>grocery_stores_supermarkets</i><br>",
          "<b>Betulius & Töchter</b><br><i>grocery_stores_supermarkets</i><br>",
          "<b>BachserMärt Kalkbreite</b><br><i>grocery_stores_supermarkets</i><br>",
          "<b>Roli's Quartierladen</b><br><i>grocery_stores_supermarkets</i><br>",
          "<b>Chornlade</b><br><i>grocery_stores_supermarkets</i><br>",
          "<b>Welschland</b><br><i>grocery_stores_supermarkets</i><br>",
          "<b>Foifi</b><br><i>grocery_stores_supermarkets</i><br>",
          "<b>Avec</b><br><i>grocery_stores_supermarkets</i><br>",
          "<b>Koscher City</b><br><i>grocery_stores_supermarkets</i><br>",
          "<b>Newroz Wiedikon</b><br><i>grocery_stores_supermarkets</i><br>",
          "<b>New Asia Market (NAM)</b><br><i>grocery_stores_supermarkets</i><br>",
          "<b>Lochergut Kiosk</b><br><i>grocery_stores_supermarkets</i><br>",
          "<b>Seker Market</b><br><i>grocery_stores_supermarkets</i><br>",
          "<b>Devi Deli Göttlich Vegan</b><br><i>grocery_stores_supermarkets</i><br>",
          "<b>BP Service Wiedikon</b><br><i>gas_ev_charging</i><br>",
          "<b>Avia Birmensdorferstrasse</b><br><i>gas_ev_charging</i><br>",
          "<b>Heilpädagogische Schule Gotthelf</b><br><i>schools</i><br>",
          "<b>STF Schweizerische Textilfachschule</b><br><i>schools</i><br>",
          "<b>SIU Schweizerisches Institut für Unternehmerschulung</b><br><i>schools</i><br>",
          "<b>isaJAZZDANCE im OFF DANCE</b><br><i>schools</i><br>"
         ],
         "type": "scattermapbox"
        },
        {
         "hoverinfo": "text",
         "lat": [
          47.3706426
         ],
         "lon": [
          8.521751799999999
         ],
         "marker": {
          "color": "white",
          "opacity": 1,
          "size": 20
         },
         "mode": "markers",
         "showlegend": false,
         "text": "8003 Zürich, Birmensdorferstrasse 108",
         "type": "scattermapbox"
        }
       ],
       "layout": {
        "height": 1500,
        "mapbox": {
         "center": {
          "lat": 47.3706426,
          "lon": 8.521751799999999
         },
         "style": "open-street-map",
         "zoom": 15
        },
        "margin": {
         "b": 0,
         "l": 0,
         "r": 0,
         "t": 0
        },
        "showlegend": false,
        "template": {
         "data": {
          "bar": [
           {
            "error_x": {
             "color": "#2a3f5f"
            },
            "error_y": {
             "color": "#2a3f5f"
            },
            "marker": {
             "line": {
              "color": "#E5ECF6",
              "width": 0.5
             },
             "pattern": {
              "fillmode": "overlay",
              "size": 10,
              "solidity": 0.2
             }
            },
            "type": "bar"
           }
          ],
          "barpolar": [
           {
            "marker": {
             "line": {
              "color": "#E5ECF6",
              "width": 0.5
             },
             "pattern": {
              "fillmode": "overlay",
              "size": 10,
              "solidity": 0.2
             }
            },
            "type": "barpolar"
           }
          ],
          "carpet": [
           {
            "aaxis": {
             "endlinecolor": "#2a3f5f",
             "gridcolor": "white",
             "linecolor": "white",
             "minorgridcolor": "white",
             "startlinecolor": "#2a3f5f"
            },
            "baxis": {
             "endlinecolor": "#2a3f5f",
             "gridcolor": "white",
             "linecolor": "white",
             "minorgridcolor": "white",
             "startlinecolor": "#2a3f5f"
            },
            "type": "carpet"
           }
          ],
          "choropleth": [
           {
            "colorbar": {
             "outlinewidth": 0,
             "ticks": ""
            },
            "type": "choropleth"
           }
          ],
          "contour": [
           {
            "colorbar": {
             "outlinewidth": 0,
             "ticks": ""
            },
            "colorscale": [
             [
              0,
              "#0d0887"
             ],
             [
              0.1111111111111111,
              "#46039f"
             ],
             [
              0.2222222222222222,
              "#7201a8"
             ],
             [
              0.3333333333333333,
              "#9c179e"
             ],
             [
              0.4444444444444444,
              "#bd3786"
             ],
             [
              0.5555555555555556,
              "#d8576b"
             ],
             [
              0.6666666666666666,
              "#ed7953"
             ],
             [
              0.7777777777777778,
              "#fb9f3a"
             ],
             [
              0.8888888888888888,
              "#fdca26"
             ],
             [
              1,
              "#f0f921"
             ]
            ],
            "type": "contour"
           }
          ],
          "contourcarpet": [
           {
            "colorbar": {
             "outlinewidth": 0,
             "ticks": ""
            },
            "type": "contourcarpet"
           }
          ],
          "heatmap": [
           {
            "colorbar": {
             "outlinewidth": 0,
             "ticks": ""
            },
            "colorscale": [
             [
              0,
              "#0d0887"
             ],
             [
              0.1111111111111111,
              "#46039f"
             ],
             [
              0.2222222222222222,
              "#7201a8"
             ],
             [
              0.3333333333333333,
              "#9c179e"
             ],
             [
              0.4444444444444444,
              "#bd3786"
             ],
             [
              0.5555555555555556,
              "#d8576b"
             ],
             [
              0.6666666666666666,
              "#ed7953"
             ],
             [
              0.7777777777777778,
              "#fb9f3a"
             ],
             [
              0.8888888888888888,
              "#fdca26"
             ],
             [
              1,
              "#f0f921"
             ]
            ],
            "type": "heatmap"
           }
          ],
          "heatmapgl": [
           {
            "colorbar": {
             "outlinewidth": 0,
             "ticks": ""
            },
            "colorscale": [
             [
              0,
              "#0d0887"
             ],
             [
              0.1111111111111111,
              "#46039f"
             ],
             [
              0.2222222222222222,
              "#7201a8"
             ],
             [
              0.3333333333333333,
              "#9c179e"
             ],
             [
              0.4444444444444444,
              "#bd3786"
             ],
             [
              0.5555555555555556,
              "#d8576b"
             ],
             [
              0.6666666666666666,
              "#ed7953"
             ],
             [
              0.7777777777777778,
              "#fb9f3a"
             ],
             [
              0.8888888888888888,
              "#fdca26"
             ],
             [
              1,
              "#f0f921"
             ]
            ],
            "type": "heatmapgl"
           }
          ],
          "histogram": [
           {
            "marker": {
             "pattern": {
              "fillmode": "overlay",
              "size": 10,
              "solidity": 0.2
             }
            },
            "type": "histogram"
           }
          ],
          "histogram2d": [
           {
            "colorbar": {
             "outlinewidth": 0,
             "ticks": ""
            },
            "colorscale": [
             [
              0,
              "#0d0887"
             ],
             [
              0.1111111111111111,
              "#46039f"
             ],
             [
              0.2222222222222222,
              "#7201a8"
             ],
             [
              0.3333333333333333,
              "#9c179e"
             ],
             [
              0.4444444444444444,
              "#bd3786"
             ],
             [
              0.5555555555555556,
              "#d8576b"
             ],
             [
              0.6666666666666666,
              "#ed7953"
             ],
             [
              0.7777777777777778,
              "#fb9f3a"
             ],
             [
              0.8888888888888888,
              "#fdca26"
             ],
             [
              1,
              "#f0f921"
             ]
            ],
            "type": "histogram2d"
           }
          ],
          "histogram2dcontour": [
           {
            "colorbar": {
             "outlinewidth": 0,
             "ticks": ""
            },
            "colorscale": [
             [
              0,
              "#0d0887"
             ],
             [
              0.1111111111111111,
              "#46039f"
             ],
             [
              0.2222222222222222,
              "#7201a8"
             ],
             [
              0.3333333333333333,
              "#9c179e"
             ],
             [
              0.4444444444444444,
              "#bd3786"
             ],
             [
              0.5555555555555556,
              "#d8576b"
             ],
             [
              0.6666666666666666,
              "#ed7953"
             ],
             [
              0.7777777777777778,
              "#fb9f3a"
             ],
             [
              0.8888888888888888,
              "#fdca26"
             ],
             [
              1,
              "#f0f921"
             ]
            ],
            "type": "histogram2dcontour"
           }
          ],
          "mesh3d": [
           {
            "colorbar": {
             "outlinewidth": 0,
             "ticks": ""
            },
            "type": "mesh3d"
           }
          ],
          "parcoords": [
           {
            "line": {
             "colorbar": {
              "outlinewidth": 0,
              "ticks": ""
             }
            },
            "type": "parcoords"
           }
          ],
          "pie": [
           {
            "automargin": true,
            "type": "pie"
           }
          ],
          "scatter": [
           {
            "fillpattern": {
             "fillmode": "overlay",
             "size": 10,
             "solidity": 0.2
            },
            "type": "scatter"
           }
          ],
          "scatter3d": [
           {
            "line": {
             "colorbar": {
              "outlinewidth": 0,
              "ticks": ""
             }
            },
            "marker": {
             "colorbar": {
              "outlinewidth": 0,
              "ticks": ""
             }
            },
            "type": "scatter3d"
           }
          ],
          "scattercarpet": [
           {
            "marker": {
             "colorbar": {
              "outlinewidth": 0,
              "ticks": ""
             }
            },
            "type": "scattercarpet"
           }
          ],
          "scattergeo": [
           {
            "marker": {
             "colorbar": {
              "outlinewidth": 0,
              "ticks": ""
             }
            },
            "type": "scattergeo"
           }
          ],
          "scattergl": [
           {
            "marker": {
             "colorbar": {
              "outlinewidth": 0,
              "ticks": ""
             }
            },
            "type": "scattergl"
           }
          ],
          "scattermapbox": [
           {
            "marker": {
             "colorbar": {
              "outlinewidth": 0,
              "ticks": ""
             }
            },
            "type": "scattermapbox"
           }
          ],
          "scatterpolar": [
           {
            "marker": {
             "colorbar": {
              "outlinewidth": 0,
              "ticks": ""
             }
            },
            "type": "scatterpolar"
           }
          ],
          "scatterpolargl": [
           {
            "marker": {
             "colorbar": {
              "outlinewidth": 0,
              "ticks": ""
             }
            },
            "type": "scatterpolargl"
           }
          ],
          "scatterternary": [
           {
            "marker": {
             "colorbar": {
              "outlinewidth": 0,
              "ticks": ""
             }
            },
            "type": "scatterternary"
           }
          ],
          "surface": [
           {
            "colorbar": {
             "outlinewidth": 0,
             "ticks": ""
            },
            "colorscale": [
             [
              0,
              "#0d0887"
             ],
             [
              0.1111111111111111,
              "#46039f"
             ],
             [
              0.2222222222222222,
              "#7201a8"
             ],
             [
              0.3333333333333333,
              "#9c179e"
             ],
             [
              0.4444444444444444,
              "#bd3786"
             ],
             [
              0.5555555555555556,
              "#d8576b"
             ],
             [
              0.6666666666666666,
              "#ed7953"
             ],
             [
              0.7777777777777778,
              "#fb9f3a"
             ],
             [
              0.8888888888888888,
              "#fdca26"
             ],
             [
              1,
              "#f0f921"
             ]
            ],
            "type": "surface"
           }
          ],
          "table": [
           {
            "cells": {
             "fill": {
              "color": "#EBF0F8"
             },
             "line": {
              "color": "white"
             }
            },
            "header": {
             "fill": {
              "color": "#C8D4E3"
             },
             "line": {
              "color": "white"
             }
            },
            "type": "table"
           }
          ]
         },
         "layout": {
          "annotationdefaults": {
           "arrowcolor": "#2a3f5f",
           "arrowhead": 0,
           "arrowwidth": 1
          },
          "autotypenumbers": "strict",
          "coloraxis": {
           "colorbar": {
            "outlinewidth": 0,
            "ticks": ""
           }
          },
          "colorscale": {
           "diverging": [
            [
             0,
             "#8e0152"
            ],
            [
             0.1,
             "#c51b7d"
            ],
            [
             0.2,
             "#de77ae"
            ],
            [
             0.3,
             "#f1b6da"
            ],
            [
             0.4,
             "#fde0ef"
            ],
            [
             0.5,
             "#f7f7f7"
            ],
            [
             0.6,
             "#e6f5d0"
            ],
            [
             0.7,
             "#b8e186"
            ],
            [
             0.8,
             "#7fbc41"
            ],
            [
             0.9,
             "#4d9221"
            ],
            [
             1,
             "#276419"
            ]
           ],
           "sequential": [
            [
             0,
             "#0d0887"
            ],
            [
             0.1111111111111111,
             "#46039f"
            ],
            [
             0.2222222222222222,
             "#7201a8"
            ],
            [
             0.3333333333333333,
             "#9c179e"
            ],
            [
             0.4444444444444444,
             "#bd3786"
            ],
            [
             0.5555555555555556,
             "#d8576b"
            ],
            [
             0.6666666666666666,
             "#ed7953"
            ],
            [
             0.7777777777777778,
             "#fb9f3a"
            ],
            [
             0.8888888888888888,
             "#fdca26"
            ],
            [
             1,
             "#f0f921"
            ]
           ],
           "sequentialminus": [
            [
             0,
             "#0d0887"
            ],
            [
             0.1111111111111111,
             "#46039f"
            ],
            [
             0.2222222222222222,
             "#7201a8"
            ],
            [
             0.3333333333333333,
             "#9c179e"
            ],
            [
             0.4444444444444444,
             "#bd3786"
            ],
            [
             0.5555555555555556,
             "#d8576b"
            ],
            [
             0.6666666666666666,
             "#ed7953"
            ],
            [
             0.7777777777777778,
             "#fb9f3a"
            ],
            [
             0.8888888888888888,
             "#fdca26"
            ],
            [
             1,
             "#f0f921"
            ]
           ]
          },
          "colorway": [
           "#636efa",
           "#EF553B",
           "#00cc96",
           "#ab63fa",
           "#FFA15A",
           "#19d3f3",
           "#FF6692",
           "#B6E880",
           "#FF97FF",
           "#FECB52"
          ],
          "font": {
           "color": "#2a3f5f"
          },
          "geo": {
           "bgcolor": "white",
           "lakecolor": "white",
           "landcolor": "#E5ECF6",
           "showlakes": true,
           "showland": true,
           "subunitcolor": "white"
          },
          "hoverlabel": {
           "align": "left"
          },
          "hovermode": "closest",
          "mapbox": {
           "style": "light"
          },
          "paper_bgcolor": "white",
          "plot_bgcolor": "#E5ECF6",
          "polar": {
           "angularaxis": {
            "gridcolor": "white",
            "linecolor": "white",
            "ticks": ""
           },
           "bgcolor": "#E5ECF6",
           "radialaxis": {
            "gridcolor": "white",
            "linecolor": "white",
            "ticks": ""
           }
          },
          "scene": {
           "xaxis": {
            "backgroundcolor": "#E5ECF6",
            "gridcolor": "white",
            "gridwidth": 2,
            "linecolor": "white",
            "showbackground": true,
            "ticks": "",
            "zerolinecolor": "white"
           },
           "yaxis": {
            "backgroundcolor": "#E5ECF6",
            "gridcolor": "white",
            "gridwidth": 2,
            "linecolor": "white",
            "showbackground": true,
            "ticks": "",
            "zerolinecolor": "white"
           },
           "zaxis": {
            "backgroundcolor": "#E5ECF6",
            "gridcolor": "white",
            "gridwidth": 2,
            "linecolor": "white",
            "showbackground": true,
            "ticks": "",
            "zerolinecolor": "white"
           }
          },
          "shapedefaults": {
           "line": {
            "color": "#2a3f5f"
           }
          },
          "ternary": {
           "aaxis": {
            "gridcolor": "white",
            "linecolor": "white",
            "ticks": ""
           },
           "baxis": {
            "gridcolor": "white",
            "linecolor": "white",
            "ticks": ""
           },
           "bgcolor": "#E5ECF6",
           "caxis": {
            "gridcolor": "white",
            "linecolor": "white",
            "ticks": ""
           }
          },
          "title": {
           "x": 0.05
          },
          "xaxis": {
           "automargin": true,
           "gridcolor": "white",
           "linecolor": "white",
           "ticks": "",
           "title": {
            "standoff": 15
           },
           "zerolinecolor": "white",
           "zerolinewidth": 2
          },
          "yaxis": {
           "automargin": true,
           "gridcolor": "white",
           "linecolor": "white",
           "ticks": "",
           "title": {
            "standoff": 15
           },
           "zerolinecolor": "white",
           "zerolinewidth": 2
          }
         }
        },
        "width": 1500
       }
      }
     },
     "metadata": {},
     "output_type": "display_data"
    }
   ],
   "source": [
    "i = 6\n",
    "\n",
    "gg = load_data(GOOGLE_FILES[i])\n",
    "osm = load_data(OSM_FILES[i])\n",
    "print(gg['original_address']['address'])\n",
    "\n",
    "base_map = create_base_map(gg, 1500, 1500, 15)\n",
    "add_isochrone(base_map, gg) # no need to put isochrones in OSM files\n",
    "\n",
    "add_places(base_map, gg, 15, 'red' )\n",
    "add_places(base_map, osm, 10, 'black' )\n",
    "\n",
    "add_original_address(base_map, gg)"
   ]
  },
  {
   "cell_type": "markdown",
   "metadata": {},
   "source": [
    "# END OF NOTEBOOK"
   ]
  }
 ],
 "metadata": {
  "kernelspec": {
   "display_name": "COMPARIS",
   "language": "python",
   "name": "python3"
  },
  "language_info": {
   "codemirror_mode": {
    "name": "ipython",
    "version": 3
   },
   "file_extension": ".py",
   "mimetype": "text/x-python",
   "name": "python",
   "nbconvert_exporter": "python",
   "pygments_lexer": "ipython3",
   "version": "3.9.19"
  }
 },
 "nbformat": 4,
 "nbformat_minor": 2
}
