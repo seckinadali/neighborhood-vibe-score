{
 "cells": [
  {
   "cell_type": "markdown",
   "metadata": {},
   "source": [
    "# Plot all data present in a JSON file on a map.\n",
    "- original address\n",
    "- facilities\n",
    "- isochrones\n",
    "- population data"
   ]
  },
  {
   "cell_type": "markdown",
   "metadata": {},
   "source": [
    "# Dependencies"
   ]
  },
  {
   "cell_type": "code",
   "execution_count": 24,
   "metadata": {},
   "outputs": [],
   "source": [
    "import pandas as pd\n",
    "import numpy as np\n",
    "import plotly.graph_objects as go\n",
    "import json\n",
    "import os\n",
    "import seaborn as sns\n",
    "import matplotlib.pyplot as plt "
   ]
  },
  {
   "cell_type": "markdown",
   "metadata": {},
   "source": [
    "# Load JSON files"
   ]
  },
  {
   "cell_type": "code",
   "execution_count": 4,
   "metadata": {},
   "outputs": [],
   "source": [
    "def load_data(path):\n",
    "    try: \n",
    "        with open(path, 'r') as file:\n",
    "            data = json.load(file)\n",
    "        return data\n",
    "    except Exception as e:\n",
    "        print(f\"An error as occured: {e}\")\n",
    " \n",
    "def get_file_names(directory):\n",
    "    return [\n",
    "        os.path.join(directory, file) for file in os.listdir(directory) if file.endswith('.json')\n",
    "    ]"
   ]
  },
  {
   "cell_type": "code",
   "execution_count": 5,
   "metadata": {},
   "outputs": [
    {
     "data": {
      "text/plain": [
       "['../data/google_data_isochrone_pop_cgpt\\\\Ex1_8004_Zurich_Werdgartengasse_4.json',\n",
       " '../data/google_data_isochrone_pop_cgpt\\\\Ex2_3027_Bern_Colombstrasse_39.json',\n",
       " '../data/google_data_isochrone_pop_cgpt\\\\Ex3_1006_Lausanne_Av_d_Ouchy_58.json',\n",
       " '../data/google_data_isochrone_pop_cgpt\\\\Ex4_8355_Aadorf_Bruggwiesenstrasse_5.json',\n",
       " '../data/google_data_isochrone_pop_cgpt\\\\Ex5_6319_Allenwinden_Winzruti_39.json',\n",
       " '../data/google_data_isochrone_pop_cgpt\\\\Ex6_8005_Zurich_Heinrichstrasse_200.json',\n",
       " '../data/google_data_isochrone_pop_cgpt\\\\Ex7_8003_Zurich_Birmensdorferstrasse_108.json']"
      ]
     },
     "execution_count": 5,
     "metadata": {},
     "output_type": "execute_result"
    }
   ],
   "source": [
    "directory = r\"../data/google_data_isochrone_pop_cgpt\"\n",
    "FILES = get_file_names(directory)\n",
    "FILES"
   ]
  },
  {
   "cell_type": "code",
   "execution_count": 8,
   "metadata": {},
   "outputs": [
    {
     "data": {
      "text/plain": [
       "{'address': '8005 Zürich, Heinrichstrasse 200',\n",
       " 'coordinates': [47.3877722, 8.5254298]}"
      ]
     },
     "execution_count": 8,
     "metadata": {},
     "output_type": "execute_result"
    }
   ],
   "source": [
    "# get Constructor Academy:\n",
    "CONSAC = load_data(FILES[5]) \n",
    "CONSAC['original_address']"
   ]
  },
  {
   "cell_type": "markdown",
   "metadata": {},
   "source": [
    "# Get neighborhood description into dataframe"
   ]
  },
  {
   "cell_type": "code",
   "execution_count": 7,
   "metadata": {},
   "outputs": [
    {
     "data": {
      "text/plain": [
       "16421"
      ]
     },
     "execution_count": 7,
     "metadata": {},
     "output_type": "execute_result"
    }
   ],
   "source": [
    "CONSAC['facilities'].keys()\n",
    "CONSAC['facilities']['bars']['count']\n",
    "CONSAC['population']['total_pop']\n"
   ]
  },
  {
   "cell_type": "code",
   "execution_count": 9,
   "metadata": {},
   "outputs": [],
   "source": [
    "def get_neighborhood_data(data):\n",
    "    total_pop = data['population']['total_pop']\n",
    "    \n",
    "    neighborhood_data = []\n",
    "    for facility_type in data['facilities'].keys():\n",
    "        neighborhood_data.append({\n",
    "            'facility_type': facility_type,\n",
    "            'count_raw': data['facilities'][facility_type]['count'],\n",
    "            'count_per_10\\'000_inhabitants':  round( data['facilities'][facility_type]['count'] / total_pop * 10000 , 1)\n",
    "            })\n",
    "    df = pd.DataFrame(neighborhood_data)\n",
    "    return df"
   ]
  },
  {
   "cell_type": "code",
   "execution_count": 10,
   "metadata": {},
   "outputs": [
    {
     "data": {
      "text/html": [
       "<div>\n",
       "<style scoped>\n",
       "    .dataframe tbody tr th:only-of-type {\n",
       "        vertical-align: middle;\n",
       "    }\n",
       "\n",
       "    .dataframe tbody tr th {\n",
       "        vertical-align: top;\n",
       "    }\n",
       "\n",
       "    .dataframe thead th {\n",
       "        text-align: right;\n",
       "    }\n",
       "</style>\n",
       "<table border=\"1\" class=\"dataframe\">\n",
       "  <thead>\n",
       "    <tr style=\"text-align: right;\">\n",
       "      <th></th>\n",
       "      <th>facility_type</th>\n",
       "      <th>count_raw</th>\n",
       "      <th>count_per_10'000_inhabitants</th>\n",
       "    </tr>\n",
       "  </thead>\n",
       "  <tbody>\n",
       "    <tr>\n",
       "      <th>0</th>\n",
       "      <td>bars</td>\n",
       "      <td>13</td>\n",
       "      <td>7.9</td>\n",
       "    </tr>\n",
       "    <tr>\n",
       "      <th>1</th>\n",
       "      <td>restaurants</td>\n",
       "      <td>15</td>\n",
       "      <td>9.1</td>\n",
       "    </tr>\n",
       "    <tr>\n",
       "      <th>2</th>\n",
       "      <td>kindergarten</td>\n",
       "      <td>16</td>\n",
       "      <td>9.7</td>\n",
       "    </tr>\n",
       "    <tr>\n",
       "      <th>3</th>\n",
       "      <td>public_transportation</td>\n",
       "      <td>37</td>\n",
       "      <td>22.5</td>\n",
       "    </tr>\n",
       "    <tr>\n",
       "      <th>4</th>\n",
       "      <td>gym_fitness</td>\n",
       "      <td>16</td>\n",
       "      <td>9.7</td>\n",
       "    </tr>\n",
       "    <tr>\n",
       "      <th>5</th>\n",
       "      <td>grocery_stores_supermarkets</td>\n",
       "      <td>21</td>\n",
       "      <td>12.8</td>\n",
       "    </tr>\n",
       "    <tr>\n",
       "      <th>6</th>\n",
       "      <td>gas_ev_charging</td>\n",
       "      <td>12</td>\n",
       "      <td>7.3</td>\n",
       "    </tr>\n",
       "    <tr>\n",
       "      <th>7</th>\n",
       "      <td>schools</td>\n",
       "      <td>4</td>\n",
       "      <td>2.4</td>\n",
       "    </tr>\n",
       "  </tbody>\n",
       "</table>\n",
       "</div>"
      ],
      "text/plain": [
       "                 facility_type  count_raw  count_per_10'000_inhabitants\n",
       "0                         bars         13                           7.9\n",
       "1                  restaurants         15                           9.1\n",
       "2                 kindergarten         16                           9.7\n",
       "3        public_transportation         37                          22.5\n",
       "4                  gym_fitness         16                           9.7\n",
       "5  grocery_stores_supermarkets         21                          12.8\n",
       "6              gas_ev_charging         12                           7.3\n",
       "7                      schools          4                           2.4"
      ]
     },
     "execution_count": 10,
     "metadata": {},
     "output_type": "execute_result"
    }
   ],
   "source": [
    "get_neighborhood_data(CONSAC)"
   ]
  },
  {
   "cell_type": "markdown",
   "metadata": {},
   "source": [
    "# Get facility data into dataframe"
   ]
  },
  {
   "cell_type": "code",
   "execution_count": 11,
   "metadata": {},
   "outputs": [],
   "source": [
    "def get_facility_data(data):\n",
    "    facility_data = []\n",
    "    for facility_type in data['facilities'].keys():\n",
    "        for facility_i in data['facilities'][facility_type]['data']:\n",
    "            facility_data.append({\n",
    "                'facility_type': facility_type,\n",
    "                'name': facility_i['name'],\n",
    "                'lat': facility_i['location']['lat'],\n",
    "                'lon': facility_i['location']['lng'],\n",
    "                'address': facility_i['vicinity'],\n",
    "                'rating': facility_i['rating'],\n",
    "                'num_ratings': facility_i['num_ratings'],\n",
    "                'url': facility_i['url'],\n",
    "                'travel_time': facility_i['travel_time']\n",
    "            })\n",
    "    df = pd.DataFrame(facility_data)\n",
    "    return df"
   ]
  },
  {
   "cell_type": "code",
   "execution_count": 12,
   "metadata": {},
   "outputs": [
    {
     "data": {
      "text/html": [
       "<div>\n",
       "<style scoped>\n",
       "    .dataframe tbody tr th:only-of-type {\n",
       "        vertical-align: middle;\n",
       "    }\n",
       "\n",
       "    .dataframe tbody tr th {\n",
       "        vertical-align: top;\n",
       "    }\n",
       "\n",
       "    .dataframe thead th {\n",
       "        text-align: right;\n",
       "    }\n",
       "</style>\n",
       "<table border=\"1\" class=\"dataframe\">\n",
       "  <thead>\n",
       "    <tr style=\"text-align: right;\">\n",
       "      <th></th>\n",
       "      <th>facility_type</th>\n",
       "      <th>name</th>\n",
       "      <th>lat</th>\n",
       "      <th>lon</th>\n",
       "      <th>address</th>\n",
       "      <th>rating</th>\n",
       "      <th>num_ratings</th>\n",
       "      <th>url</th>\n",
       "      <th>travel_time</th>\n",
       "    </tr>\n",
       "  </thead>\n",
       "  <tbody>\n",
       "    <tr>\n",
       "      <th>0</th>\n",
       "      <td>bars</td>\n",
       "      <td>CLOUDS</td>\n",
       "      <td>47.386006</td>\n",
       "      <td>8.517157</td>\n",
       "      <td>Maagplatz 5, Zürich</td>\n",
       "      <td>4</td>\n",
       "      <td>1954</td>\n",
       "      <td>https://maps.google.com/?cid=10852654815929467025</td>\n",
       "      <td>10 mins</td>\n",
       "    </tr>\n",
       "    <tr>\n",
       "      <th>1</th>\n",
       "      <td>bars</td>\n",
       "      <td>LaSalle</td>\n",
       "      <td>47.388702</td>\n",
       "      <td>8.518930</td>\n",
       "      <td>Schiffbaustrasse 4, Zürich</td>\n",
       "      <td>4.3</td>\n",
       "      <td>593</td>\n",
       "      <td>https://maps.google.com/?cid=11155055571961580071</td>\n",
       "      <td>8 mins</td>\n",
       "    </tr>\n",
       "    <tr>\n",
       "      <th>2</th>\n",
       "      <td>bars</td>\n",
       "      <td>Markthalle</td>\n",
       "      <td>47.387590</td>\n",
       "      <td>8.526072</td>\n",
       "      <td>Limmatstrasse 231, Zürich</td>\n",
       "      <td>4.3</td>\n",
       "      <td>2069</td>\n",
       "      <td>https://maps.google.com/?cid=4515352646433561693</td>\n",
       "      <td>5 mins</td>\n",
       "    </tr>\n",
       "  </tbody>\n",
       "</table>\n",
       "</div>"
      ],
      "text/plain": [
       "  facility_type        name        lat       lon                     address  \\\n",
       "0          bars      CLOUDS  47.386006  8.517157         Maagplatz 5, Zürich   \n",
       "1          bars     LaSalle  47.388702  8.518930  Schiffbaustrasse 4, Zürich   \n",
       "2          bars  Markthalle  47.387590  8.526072   Limmatstrasse 231, Zürich   \n",
       "\n",
       "  rating num_ratings                                                url  \\\n",
       "0      4        1954  https://maps.google.com/?cid=10852654815929467025   \n",
       "1    4.3         593  https://maps.google.com/?cid=11155055571961580071   \n",
       "2    4.3        2069   https://maps.google.com/?cid=4515352646433561693   \n",
       "\n",
       "  travel_time  \n",
       "0     10 mins  \n",
       "1      8 mins  \n",
       "2      5 mins  "
      ]
     },
     "execution_count": 12,
     "metadata": {},
     "output_type": "execute_result"
    }
   ],
   "source": [
    "df = get_facility_data(CONSAC)\n",
    "df.head(3)"
   ]
  },
  {
   "cell_type": "markdown",
   "metadata": {},
   "source": [
    "# Get population data into dataframe"
   ]
  },
  {
   "cell_type": "code",
   "execution_count": 13,
   "metadata": {},
   "outputs": [
    {
     "data": {
      "text/html": [
       "<div>\n",
       "<style scoped>\n",
       "    .dataframe tbody tr th:only-of-type {\n",
       "        vertical-align: middle;\n",
       "    }\n",
       "\n",
       "    .dataframe tbody tr th {\n",
       "        vertical-align: top;\n",
       "    }\n",
       "\n",
       "    .dataframe thead th {\n",
       "        text-align: right;\n",
       "    }\n",
       "</style>\n",
       "<table border=\"1\" class=\"dataframe\">\n",
       "  <thead>\n",
       "    <tr style=\"text-align: right;\">\n",
       "      <th></th>\n",
       "      <th>B22BTOT</th>\n",
       "      <th>E_wgs84</th>\n",
       "      <th>N_wgs84</th>\n",
       "    </tr>\n",
       "  </thead>\n",
       "  <tbody>\n",
       "    <tr>\n",
       "      <th>0</th>\n",
       "      <td>123</td>\n",
       "      <td>47.386357</td>\n",
       "      <td>8.516017</td>\n",
       "    </tr>\n",
       "    <tr>\n",
       "      <th>1</th>\n",
       "      <td>290</td>\n",
       "      <td>47.387256</td>\n",
       "      <td>8.516035</td>\n",
       "    </tr>\n",
       "    <tr>\n",
       "      <th>2</th>\n",
       "      <td>3</td>\n",
       "      <td>47.389055</td>\n",
       "      <td>8.516071</td>\n",
       "    </tr>\n",
       "  </tbody>\n",
       "</table>\n",
       "</div>"
      ],
      "text/plain": [
       "   B22BTOT    E_wgs84   N_wgs84\n",
       "0      123  47.386357  8.516017\n",
       "1      290  47.387256  8.516035\n",
       "2        3  47.389055  8.516071"
      ]
     },
     "execution_count": 13,
     "metadata": {},
     "output_type": "execute_result"
    }
   ],
   "source": [
    "CONSAC['population'].keys()\n",
    "CONSAC['population']['STATPOP_squares'][:5]\n",
    "pd.DataFrame(CONSAC['population']['STATPOP_squares']).head(3)"
   ]
  },
  {
   "cell_type": "code",
   "execution_count": 14,
   "metadata": {},
   "outputs": [],
   "source": [
    "def get_population_data(data):\n",
    "    \"\"\" Data is JSON file\"\"\"\n",
    "    df = pd.DataFrame(data['population']['STATPOP_squares'])\n",
    "    return df"
   ]
  },
  {
   "cell_type": "markdown",
   "metadata": {},
   "source": [
    "# Get isochrone data into dataframe"
   ]
  },
  {
   "cell_type": "code",
   "execution_count": 15,
   "metadata": {},
   "outputs": [
    {
     "name": "stdout",
     "output_type": "stream",
     "text": [
      "6\n"
     ]
    },
    {
     "data": {
      "text/plain": [
       "[[8.522537, 47.386666], [8.52267, 47.386331], [8.524888, 47.385637]]"
      ]
     },
     "execution_count": 15,
     "metadata": {},
     "output_type": "execute_result"
    }
   ],
   "source": [
    "print(len(CONSAC['isochrone']['features']))\n",
    "CONSAC['isochrone']['features'][0]['properties']['value'] # travel time\n",
    "CONSAC['isochrone']['features'][0]['geometry']['coordinates'][0][:3] # coordinates (\"[0]\" in the second last position is necessary since there are two [] in excess!)"
   ]
  },
  {
   "cell_type": "code",
   "execution_count": 16,
   "metadata": {},
   "outputs": [
    {
     "data": {
      "text/html": [
       "<div>\n",
       "<style scoped>\n",
       "    .dataframe tbody tr th:only-of-type {\n",
       "        vertical-align: middle;\n",
       "    }\n",
       "\n",
       "    .dataframe tbody tr th {\n",
       "        vertical-align: top;\n",
       "    }\n",
       "\n",
       "    .dataframe thead th {\n",
       "        text-align: right;\n",
       "    }\n",
       "</style>\n",
       "<table border=\"1\" class=\"dataframe\">\n",
       "  <thead>\n",
       "    <tr style=\"text-align: right;\">\n",
       "      <th></th>\n",
       "      <th>travel_time</th>\n",
       "      <th>lat</th>\n",
       "      <th>lon</th>\n",
       "    </tr>\n",
       "  </thead>\n",
       "  <tbody>\n",
       "    <tr>\n",
       "      <th>0</th>\n",
       "      <td>180.0</td>\n",
       "      <td>47.386666</td>\n",
       "      <td>8.522537</td>\n",
       "    </tr>\n",
       "    <tr>\n",
       "      <th>1</th>\n",
       "      <td>180.0</td>\n",
       "      <td>47.386331</td>\n",
       "      <td>8.522670</td>\n",
       "    </tr>\n",
       "    <tr>\n",
       "      <th>2</th>\n",
       "      <td>180.0</td>\n",
       "      <td>47.385637</td>\n",
       "      <td>8.524888</td>\n",
       "    </tr>\n",
       "  </tbody>\n",
       "</table>\n",
       "</div>"
      ],
      "text/plain": [
       "   travel_time        lat       lon\n",
       "0        180.0  47.386666  8.522537\n",
       "1        180.0  47.386331  8.522670\n",
       "2        180.0  47.385637  8.524888"
      ]
     },
     "execution_count": 16,
     "metadata": {},
     "output_type": "execute_result"
    }
   ],
   "source": [
    "def get_isochrone_data(data):\n",
    "    isochrone_data = []\n",
    "    for isochrone in range(len(data['isochrone']['features'])):\n",
    "        for coord in range(len(data['isochrone']['features'][isochrone]['geometry']['coordinates'][0])): #(\"[0]\" at the end is necessary since there are two [] in excess!)\n",
    "            isochrone_data.append({\n",
    "                'travel_time': data['isochrone']['features'][isochrone]['properties']['value'],\n",
    "                'lat': data['isochrone']['features'][isochrone]['geometry']['coordinates'][0][coord][1],\n",
    "                'lon': data['isochrone']['features'][isochrone]['geometry']['coordinates'][0][coord][0],\n",
    "            })\n",
    "    df = pd.DataFrame(isochrone_data)\n",
    "    return df\n",
    "\n",
    "get_isochrone_data(CONSAC).head(3)"
   ]
  },
  {
   "cell_type": "markdown",
   "metadata": {},
   "source": [
    "# Create empty base map"
   ]
  },
  {
   "cell_type": "code",
   "execution_count": 17,
   "metadata": {},
   "outputs": [],
   "source": [
    "def create_base_map(FILE, width=800, height=600, zoom=13):\n",
    "\n",
    "    # coords of original address:\n",
    "    LAT = FILE['original_address']['coordinates'][0]\n",
    "    LON = FILE['original_address']['coordinates'][1]\n",
    "\n",
    "    # create base map with original adress.\n",
    "    base_map = go.Figure(go.Scattermapbox())\n",
    "    \n",
    "    # Set up the layout for the base map\n",
    "    base_map.update_layout(\n",
    "        mapbox_style=\"open-street-map\",\n",
    "        mapbox_zoom=zoom, \n",
    "        mapbox_center={\"lat\": LAT, \"lon\": LON},\n",
    "        width=width,\n",
    "        height=height,\n",
    "        margin=dict(r=0, t=0, l=0, b=0), \n",
    "        showlegend=False\n",
    "    )\n",
    "    return base_map"
   ]
  },
  {
   "cell_type": "markdown",
   "metadata": {},
   "source": [
    "# Create layer \"Original address\""
   ]
  },
  {
   "cell_type": "code",
   "execution_count": 18,
   "metadata": {},
   "outputs": [],
   "source": [
    "def add_original_address(base_map, FILE):\n",
    "\n",
    "    # coords of original address:\n",
    "    LAT = FILE['original_address']['coordinates'][0]\n",
    "    LON = FILE['original_address']['coordinates'][1]\n",
    "\n",
    "    # create base map with original adress.\n",
    "    address_layer = go.Scattermapbox(\n",
    "        lat=pd.Series(LAT),  \n",
    "        lon=pd.Series(LON),  \n",
    "        mode='markers', \n",
    "        marker=dict(size=20, color='black', opacity= 1), \n",
    "        text = FILE['original_address']['address'],\n",
    "        hoverinfo='text',\n",
    "        showlegend=False\n",
    "    )\n",
    "    # add the layer on the base map\n",
    "    base_map.add_trace(address_layer)\n",
    "    base_map.update_layout( margin=dict(r=0, t=0, l=0, b=0), showlegend=False)\n",
    "\n",
    "    return base_map"
   ]
  },
  {
   "cell_type": "code",
   "execution_count": 19,
   "metadata": {},
   "outputs": [],
   "source": [
    "# Color Mapping to plot the elements separately:\n",
    "# adapted for the new files\n",
    "color_mapping = {'schools': 'blue',\n",
    " 'grocery_stores_supermarkets': 'red',\n",
    " 'public_transportation': 'purple',\n",
    " 'restaurants': 'yellow',\n",
    " 'bars': 'pink',\n",
    " 'kindergarten':'orange',\n",
    " 'gym_fitness': 'brown',\n",
    " 'gas_ev_charging':'cyan'\n",
    " }"
   ]
  },
  {
   "cell_type": "markdown",
   "metadata": {},
   "source": [
    "# Create layer \"Places\""
   ]
  },
  {
   "cell_type": "code",
   "execution_count": 20,
   "metadata": {},
   "outputs": [],
   "source": [
    "def add_places(base_map, FILE):\n",
    "    # format data\n",
    "    neighborhood = get_facility_data(FILE)\n",
    "    # define the text to be dislayed:\n",
    "    neighborhood['hover_text'] = neighborhood.apply(lambda row: f\"<b>{row['name']}</b><br><i>{row['facility_type']}</i><br>{row['address']} <br><br>Rating: {row['rating']}<br>Nb ratings: {row['num_ratings']}<br><br><i>Walking time: {row['travel_time']}</i> <br><br>\", axis=1)\n",
    "    # define different colors for each of the facility type\n",
    "    unique_facilities = neighborhood['facility_type'].unique()\n",
    "    neighborhood['marker_color'] = neighborhood['facility_type'].map(color_mapping)\n",
    "\n",
    "    # create the layer:\n",
    "    places_layer = go.Scattermapbox(\n",
    "    lat=neighborhood['lat'],  \n",
    "    lon=neighborhood['lon'],  \n",
    "    mode='markers', \n",
    "    marker=dict(size=10,  color=neighborhood['marker_color'], opacity= 1), \n",
    "    text= neighborhood['hover_text'],\n",
    "    hoverinfo='text',\n",
    "    hovertemplate='%{text}<extra></extra>'  ,\n",
    "    showlegend=False \n",
    "    )\n",
    "    # add the layer on the base map\n",
    "    base_map.add_trace(places_layer)\n",
    "    base_map.update_layout( margin=dict(r=0, t=0, l=0, b=0), showlegend=False)\n",
    "    \n",
    "    return base_map"
   ]
  },
  {
   "cell_type": "markdown",
   "metadata": {},
   "source": [
    "# Create layer \"Population\""
   ]
  },
  {
   "cell_type": "code",
   "execution_count": 21,
   "metadata": {},
   "outputs": [],
   "source": [
    "def add_population(base_map, FILE):\n",
    "    # format data\n",
    "    df = get_population_data(FILE)\n",
    "    # create the layer:\n",
    "    pop_layer = go.Scattermapbox(\n",
    "    lat=df['E_wgs84'],  \n",
    "    lon=df['N_wgs84'],  \n",
    "    mode='markers', \n",
    "    marker=dict(size=40,  color='purple', opacity=0.5), \n",
    "    text= df['B22BTOT'],\n",
    "    hoverinfo='text',\n",
    "    hovertemplate='%{text}<extra></extra>'  ,\n",
    "    showlegend=False \n",
    "    )\n",
    "    # add the layer on the base map\n",
    "    base_map.add_trace(pop_layer)\n",
    "    base_map.update_layout( margin=dict(r=0, t=0, l=0, b=0), showlegend=False)\n",
    "    \n",
    "    return base_map"
   ]
  },
  {
   "cell_type": "markdown",
   "metadata": {},
   "source": [
    "# Create layer \"Isochrone\" - currently set to display only the 10min walking distance"
   ]
  },
  {
   "cell_type": "code",
   "execution_count": 28,
   "metadata": {},
   "outputs": [],
   "source": [
    "def add_isochrone(base_map, FILE):\n",
    "    # format data\n",
    "    df = get_isochrone_data(FILE)\n",
    "\n",
    "    for travel_time in df['travel_time'].unique():\n",
    "        df_filtered = df[df['travel_time']==travel_time] \n",
    "        # create the layer:\n",
    "        new_layer = go.Scattermapbox(\n",
    "            lat=df_filtered['lat'],  \n",
    "            lon=df_filtered['lon'],  \n",
    "            mode='lines', # no markers\n",
    "            line=dict(width=1, color='rgba(10,80,50,1)'), \n",
    "            fill='toself', \n",
    "            fillcolor='rgba(10,80,50,0.25)',  \n",
    "            showlegend = False,\n",
    "            marker=dict(size=1, color='blue'),\n",
    "            text= str(travel_time/60) + 'min. walking',\n",
    "            hoverinfo='text'\n",
    "            )\n",
    "        base_map.add_trace(new_layer)\n",
    "        \n",
    "    base_map.update_layout( margin=dict(r=0, t=0, l=0, b=0), showlegend=False)\n",
    "\n",
    "    return base_map"
   ]
  },
  {
   "cell_type": "markdown",
   "metadata": {},
   "source": [
    "# Create layer \"barplots\""
   ]
  },
  {
   "cell_type": "code",
   "execution_count": 23,
   "metadata": {},
   "outputs": [],
   "source": [
    "def add_barplots(base_map, FILE):\n",
    "    df = get_neighborhood_data(FILE)\n",
    "\n",
    "    barplot_layer = go.Bar(\n",
    "        x = df['facility_type'],\n",
    "        y = df['count_raw']\n",
    "    )\n",
    "\n",
    "    base_map.add_trace(barplot_layer)\n",
    "    \n",
    "    base_map.update_layout(\n",
    "        xaxis=dict( domain=[0.7, 1]  # Adjust position of the bar plot on the map\n",
    "                    ),\n",
    "        yaxis2=dict( domain=[0.7, 1]  # Adjust position of the bar plot on the map\n",
    "                    ),\n",
    "        yaxis=dict( domain=[0, 0.6] ), # This keeps the map on the lower part of the plot\n",
    "        margin=dict(r=0, t=0, l=0, b=0), \n",
    "        showlegend=False\n",
    "        )\n",
    "\n",
    "    return base_map\n"
   ]
  },
  {
   "cell_type": "markdown",
   "metadata": {},
   "source": [
    "### next idea: try to add the barplots of the facility counts to the map\n",
    "Code below is from Seckin"
   ]
  },
  {
   "cell_type": "code",
   "execution_count": 25,
   "metadata": {},
   "outputs": [],
   "source": [
    "TIME_BOUND = 10 # minutes\n",
    "\n",
    "def plot_neighborhood(FILE):\n",
    "\n",
    "    df = get_neighborhood_data(FILE)\n",
    "\n",
    "    fig, axes = plt.subplots(1, 2, figsize=(14, 6))\n",
    "\n",
    "    count_sorted = df.sort_values('count_raw', ascending=False)\n",
    "    sns.barplot(data=count_sorted,\n",
    "                x='count_raw', y=count_sorted['facility_type'],\n",
    "                ax=axes[0])\n",
    "    axes[0].set_title('Facility Count')\n",
    "    axes[0].set_xlabel('Count')\n",
    "    axes[0].set_ylabel('Facility')\n",
    "\n",
    "    density_sorted = df.sort_values('count_per_10\\'000_inhabitants', ascending=False)\n",
    "    sns.barplot(data=density_sorted,\n",
    "                x='count_per_10\\'000_inhabitants', y=density_sorted['facility_type'],\n",
    "                ax=axes[1])\n",
    "    axes[1].set_title('Density of facilities (per 10\\'000 inhabitants)')\n",
    "    axes[1].set_xlabel('Densty')\n",
    "    axes[1].set_ylabel('')\n",
    "    \n",
    "    original_address = FILE['original_address']['address']\n",
    "    plt.suptitle(f\"Facilities within a {TIME_BOUND}-minute walk from {original_address}\")\n",
    "    \n",
    "    plt.tight_layout()\n",
    "    plt.show()"
   ]
  },
  {
   "cell_type": "code",
   "execution_count": 26,
   "metadata": {},
   "outputs": [
    {
     "data": {
      "image/png": "[encoded data removed]",
      "text/plain": [
       "<Figure size 1400x600 with 2 Axes>"
      ]
     },
     "metadata": {},
     "output_type": "display_data"
    }
   ],
   "source": [
    "plot_neighborhood(CONSAC)"
   ]
  },
  {
   "cell_type": "markdown",
   "metadata": {},
   "source": [
    "# Plot maps"
   ]
  },
  {
   "cell_type": "code",
   "execution_count": 29,
   "metadata": {},
   "outputs": [
    {
     "data": {
      "application/vnd.plotly.v1+json": {
       "config": {
        "plotlyServerURL": "https://plot.ly"
       },
       "data": [
        {
         "type": "scattermapbox"
        },
        {
         "hoverinfo": "text",
         "hovertemplate": "%{text}<extra></extra>",
         "lat": [
          47.38635671413268,
          47.38725605154865,
          47.38905472562227,
          47.38904236922679,
          47.390841041874616,
          47.385432650136934,
          47.38813066114462,
          47.38902999764159,
          47.39172800561247,
          47.392627341095434,
          47.385420264190174,
          47.387218938033854,
          47.39081628268659,
          47.38540786305472,
          47.388105872819274,
          47.389005208901864,
          47.38990454473124,
          47.390803880307196,
          47.39170321562951,
          47.39260255069801,
          47.39350188551239,
          47.384496109845,
          47.38539544673056,
          47.38809345587242,
          47.38899279174741,
          47.38989212736921,
          47.390791462737546,
          47.39259013271312,
          47.39348946731993,
          47.38538301521766,
          47.38628235164309,
          47.38718168781595,
          47.38808102373608,
          47.38898035940325,
          47.389879694817175,
          47.3907790299777,
          47.391678364884584,
          47.39257769953757,
          47.39347703393649,
          47.3943763680811,
          47.38357189532462,
          47.38447123204646,
          47.38537056851609,
          47.38626990473347,
          47.38716924069828,
          47.38806857641031,
          47.38896791186937,
          47.39076658202762,
          47.391665916726375,
          47.39256525117126,
          47.39346458536208,
          47.39436391929855,
          47.38266009708565,
          47.38355943385099,
          47.384458770364525,
          47.385358106625866,
          47.38625744263493,
          47.38715677839139,
          47.388056113895104,
          47.38895544914582,
          47.39075411888736,
          47.39165345337777,
          47.392552787614285,
          47.39345212159673,
          47.394351455324795,
          47.382647620632426,
          47.38354695718924,
          47.38444629349419,
          47.385345629547,
          47.38624496534745,
          47.38714430089535,
          47.38804363619045,
          47.38894297123259,
          47.39074164055691,
          47.39164097483869,
          47.39254030886658,
          47.39343964264038,
          47.381735792391666,
          47.38263512899134,
          47.38353446533938,
          47.38443380143548,
          47.38533313727947,
          47.38623247287108,
          47.38713180821015,
          47.38803114329642,
          47.389829812709735,
          47.39072914703631,
          47.39162848110921,
          47.392527814928215,
          47.39342714849314,
          47.38262262216241,
          47.38352195830137,
          47.384421294188414,
          47.38532062982331,
          47.387119300335826,
          47.38891796983717,
          47.38981730420807,
          47.390716638325515,
          47.391615972189335,
          47.39251530579923,
          47.39341463915496,
          47.383509436075244,
          47.384408771752945,
          47.385308107178545,
          47.388006111940186,
          47.388905446354975,
          47.389804780516556,
          47.390704114424665,
          47.39160344807905,
          47.392502781479536,
          47.38439623412918,
          47.387094239019795,
          47.38799357347802,
          47.38889290768321,
          47.38979224163514,
          47.39069157533361,
          47.39159090877839,
          47.38708168557814,
          47.38798101982651,
          47.38888035382181,
          47.389779687563916
         ],
         "lon": [
          8.516016883906,
          8.516035066221654,
          8.516071432701308,
          8.5173957238355,
          8.517432137507265,
          8.518647104966504,
          8.518701786079756,
          8.518720014352763,
          8.518774702878062,
          8.518792933622036,
          8.519971305420613,
          8.520007803599727,
          8.520080807378735,
          8.521295505256417,
          8.521350320535486,
          8.521368593533465,
          8.521386867150648,
          8.521405141387065,
          8.521423416242765,
          8.521441691717774,
          8.521459967812131,
          8.522601411592236,
          8.522619704473158,
          8.522674586834977,
          8.522692882195386,
          8.522711178175758,
          8.522729474776124,
          8.522766069836996,
          8.522784368297575,
          8.523943903070084,
          8.523962218930945,
          8.52398053541242,
          8.523998852514541,
          8.524017170237347,
          8.52403548858087,
          8.524053807545146,
          8.524072127130216,
          8.524090447336114,
          8.524108768162874,
          8.524127089610532,
          8.525231426468492,
          8.525249763446814,
          8.525268101046432,
          8.525286439267381,
          8.525304778109698,
          8.525323117573421,
          8.525341457658584,
          8.525378139693379,
          8.525396481643082,
          8.525414824214366,
          8.525433167407277,
          8.52545151122184,
          8.526537220390841,
          8.526555579105679,
          8.526573938442535,
          8.526592298401448,
          8.526610658982444,
          8.52662902018557,
          8.526647382010859,
          8.526665744458345,
          8.526702471220055,
          8.526720835534356,
          8.526739200470997,
          8.526757566030017,
          8.526775932211454,
          8.52786135004827,
          8.527879731120848,
          8.527898112816205,
          8.527916495134372,
          8.527934878075385,
          8.527953261639281,
          8.5279716458261,
          8.527990030635872,
          8.528026802124433,
          8.52804518880329,
          8.528063576105247,
          8.528081964030344,
          8.529167076276163,
          8.529185479082955,
          8.529203882513242,
          8.52922228656706,
          8.529240691244446,
          8.529259096545438,
          8.529277502470073,
          8.529295909018384,
          8.52933272398618,
          8.529351132405738,
          8.52936954144912,
          8.52938795111636,
          8.529406361407496,
          8.530509607494144,
          8.530528033282103,
          8.530546459694344,
          8.530564886730918,
          8.530601742677185,
          8.530638601121188,
          8.530657031279935,
          8.530675462063225,
          8.530693893471092,
          8.530712325503575,
          8.530730758160713,
          8.531852183426668,
          8.531870632197306,
          8.531889081593025,
          8.531944433531047,
          8.531962885427461,
          8.531981337949144,
          8.531999791096128,
          8.532018244868448,
          8.532036699266142,
          8.53319480407518,
          8.53325022121734,
          8.533268694849912,
          8.53328716910847,
          8.533305643993055,
          8.533324119503693,
          8.533342595640427,
          8.534574459548873,
          8.534592955542795,
          8.534611452163457,
          8.5346299494109
         ],
         "marker": {
          "color": "purple",
          "opacity": 0.5,
          "size": 40
         },
         "mode": "markers",
         "showlegend": false,
         "text": [
          123,
          290,
          3,
          139,
          163,
          12,
          64,
          32,
          28,
          46,
          3,
          38,
          92,
          149,
          76,
          92,
          34,
          24,
          33,
          34,
          171,
          63,
          91,
          157,
          170,
          194,
          29,
          14,
          134,
          26,
          81,
          129,
          230,
          3,
          5,
          16,
          48,
          43,
          132,
          155,
          153,
          141,
          251,
          302,
          96,
          100,
          98,
          24,
          193,
          292,
          212,
          49,
          71,
          389,
          275,
          261,
          264,
          229,
          40,
          35,
          156,
          162,
          251,
          342,
          73,
          17,
          158,
          297,
          151,
          265,
          208,
          31,
          32,
          105,
          294,
          183,
          283,
          78,
          278,
          342,
          357,
          304,
          306,
          205,
          57,
          58,
          154,
          114,
          126,
          59,
          346,
          194,
          248,
          189,
          99,
          46,
          104,
          43,
          99,
          198,
          238,
          115,
          107,
          14,
          9,
          164,
          209,
          195,
          207,
          99,
          37,
          20,
          105,
          81,
          104,
          203,
          211,
          59,
          117,
          128,
          146
         ],
         "type": "scattermapbox"
        },
        {
         "fill": "toself",
         "fillcolor": "rgba(10,80,50,0.25)",
         "hoverinfo": "text",
         "lat": [
          47.386666,
          47.386331,
          47.385637,
          47.385642,
          47.385942,
          47.38596,
          47.386124,
          47.386151,
          47.386382,
          47.387491,
          47.388055,
          47.388412,
          47.389291,
          47.389496,
          47.389113,
          47.388887,
          47.386666
         ],
         "line": {
          "color": "rgba(10,80,50,1)",
          "width": 1
         },
         "lon": [
          8.522537,
          8.52267,
          8.524888,
          8.524955,
          8.526887,
          8.526977,
          8.527713,
          8.527791,
          8.528101,
          8.528157,
          8.528131,
          8.528086,
          8.527015,
          8.524628,
          8.522695,
          8.522518,
          8.522537
         ],
         "marker": {
          "color": "blue",
          "size": 1
         },
         "mode": "lines",
         "showlegend": false,
         "text": "3.0min. walking",
         "type": "scattermapbox"
        },
        {
         "fill": "toself",
         "fillcolor": "rgba(10,80,50,0.25)",
         "hoverinfo": "text",
         "lat": [
          47.387584,
          47.386284,
          47.385717,
          47.385454,
          47.384498,
          47.3845,
          47.384548,
          47.385046,
          47.385068,
          47.385354,
          47.388033,
          47.38839,
          47.39033,
          47.390514,
          47.390519,
          47.390524,
          47.39002,
          47.389688,
          47.389555,
          47.387584
         ],
         "line": {
          "color": "rgba(10,80,50,1)",
          "width": 1
         },
         "lon": [
          8.520899,
          8.520954,
          8.521063,
          8.52131,
          8.52486,
          8.526796,
          8.527387,
          8.529216,
          8.529274,
          8.529493,
          8.530615,
          8.530663,
          8.527992,
          8.527683,
          8.523245,
          8.523087,
          8.521407,
          8.521069,
          8.520942,
          8.520899
         ],
         "marker": {
          "color": "blue",
          "size": 1
         },
         "mode": "lines",
         "showlegend": false,
         "text": "5.0min. walking",
         "type": "scattermapbox"
        },
        {
         "fill": "toself",
         "fillcolor": "rgba(10,80,50,0.25)",
         "hoverinfo": "text",
         "lat": [
          47.388388,
          47.38577,
          47.38564,
          47.384846,
          47.38342,
          47.383385,
          47.382969,
          47.383911,
          47.384193,
          47.387512,
          47.387839,
          47.388396,
          47.391828,
          47.391994,
          47.391776,
          47.391746,
          47.391452,
          47.389526,
          47.388729,
          47.388388
         ],
         "line": {
          "color": "rgba(10,80,50,1)",
          "width": 1
         },
         "lon": [
          8.519072,
          8.519034,
          8.519054,
          8.519634,
          8.525405,
          8.525568,
          8.527675,
          8.53066,
          8.530884,
          8.532402,
          8.532552,
          8.532036,
          8.529006,
          8.528686,
          8.523519,
          8.523084,
          8.520985,
          8.519561,
          8.519187,
          8.519072
         ],
         "marker": {
          "color": "blue",
          "size": 1
         },
         "mode": "lines",
         "showlegend": false,
         "text": "7.0min. walking",
         "type": "scattermapbox"
        },
        {
         "fill": "toself",
         "fillcolor": "rgba(10,80,50,0.25)",
         "hoverinfo": "text",
         "lat": [
          47.386462,
          47.385337,
          47.38488,
          47.384631,
          47.384781,
          47.38342,
          47.381479,
          47.381279,
          47.381492,
          47.382235,
          47.382274,
          47.382516,
          47.382557,
          47.386656,
          47.388761,
          47.39179,
          47.393415,
          47.393503,
          47.39384,
          47.393965,
          47.393777,
          47.393367,
          47.39256,
          47.390425,
          47.389482,
          47.386462
         ],
         "line": {
          "color": "rgba(10,80,50,1)",
          "width": 1
         },
         "lon": [
          8.516092,
          8.516288,
          8.516755,
          8.517015,
          8.520286,
          8.525405,
          8.52855,
          8.52885,
          8.529728,
          8.532871,
          8.532902,
          8.533096,
          8.533125,
          8.535021,
          8.534515,
          8.531314,
          8.530347,
          8.530263,
          8.529903,
          8.529303,
          8.524777,
          8.52237,
          8.518346,
          8.516619,
          8.516062,
          8.516092
         ],
         "marker": {
          "color": "blue",
          "size": 1
         },
         "mode": "lines",
         "showlegend": false,
         "text": "10.0min. walking",
         "type": "scattermapbox"
        },
        {
         "fill": "toself",
         "fillcolor": "rgba(10,80,50,0.25)",
         "hoverinfo": "text",
         "lat": [
          47.38976,
          47.389461,
          47.389108,
          47.386552,
          47.386426,
          47.383073,
          47.382822,
          47.382663,
          47.382642,
          47.382774,
          47.38473,
          47.38342,
          47.380566,
          47.379682,
          47.379314,
          47.379276,
          47.379264,
          47.379284,
          47.379298,
          47.379317,
          47.379528,
          47.38057,
          47.380705,
          47.381014,
          47.384677,
          47.387216,
          47.387244,
          47.388571,
          47.388906,
          47.389943,
          47.392856,
          47.395603,
          47.396074,
          47.39617,
          47.395719,
          47.395117,
          47.394956,
          47.394935,
          47.39307,
          47.392972,
          47.39063,
          47.38976
         ],
         "line": {
          "color": "rgba(10,80,50,1)",
          "width": 1
         },
         "lon": [
          8.513465,
          8.513374,
          8.513307,
          8.512876,
          8.512884,
          8.514954,
          8.515213,
          8.515543,
          8.515622,
          8.515956,
          8.521208,
          8.525405,
          8.526666,
          8.527085,
          8.527361,
          8.527434,
          8.527692,
          8.52793,
          8.527998,
          8.528078,
          8.528974,
          8.534082,
          8.535337,
          8.535533,
          8.537188,
          8.537614,
          8.53761,
          8.537275,
          8.537145,
          8.536397,
          8.533697,
          8.531666,
          8.530259,
          8.529913,
          8.526249,
          8.521916,
          8.520256,
          8.52003,
          8.515359,
          8.515171,
          8.513755,
          8.513465
         ],
         "marker": {
          "color": "blue",
          "size": 1
         },
         "mode": "lines",
         "showlegend": false,
         "text": "13.0min. walking",
         "type": "scattermapbox"
        },
        {
         "fill": "toself",
         "fillcolor": "rgba(10,80,50,0.25)",
         "hoverinfo": "text",
         "lat": [
          47.389182,
          47.386848,
          47.383187,
          47.383022,
          47.381991,
          47.381884,
          47.381636,
          47.381577,
          47.381465,
          47.381415,
          47.381737,
          47.38473,
          47.380643,
          47.380568,
          47.379072,
          47.377851,
          47.377842,
          47.377819,
          47.377984,
          47.377996,
          47.378188,
          47.378414,
          47.378778,
          47.379753,
          47.379764,
          47.37984,
          47.383614,
          47.387747,
          47.387929,
          47.389311,
          47.389335,
          47.389615,
          47.393349,
          47.395827,
          47.396282,
          47.396488,
          47.396589,
          47.3973,
          47.397301,
          47.397451,
          47.396616,
          47.396532,
          47.396528,
          47.395733,
          47.394405,
          47.394081,
          47.39355,
          47.389887,
          47.38954,
          47.389182
         ],
         "line": {
          "color": "rgba(10,80,50,1)",
          "width": 1
         },
         "lon": [
          8.511123,
          8.512456,
          8.513265,
          8.513302,
          8.513601,
          8.51364,
          8.513901,
          8.513979,
          8.516704,
          8.517158,
          8.517319,
          8.521208,
          8.524841,
          8.524891,
          8.525612,
          8.526567,
          8.526584,
          8.526714,
          8.527585,
          8.527649,
          8.528642,
          8.529833,
          8.5311,
          8.536911,
          8.537061,
          8.537118,
          8.538982,
          8.539576,
          8.539566,
          8.539162,
          8.539153,
          8.538969,
          8.535305,
          8.533276,
          8.532914,
          8.532641,
          8.532479,
          8.531308,
          8.5313,
          8.529924,
          8.524502,
          8.522693,
          8.522621,
          8.518135,
          8.514892,
          8.514083,
          8.513126,
          8.511216,
          8.511081,
          8.511123
         ],
         "marker": {
          "color": "blue",
          "size": 1
         },
         "mode": "lines",
         "showlegend": false,
         "text": "15.0min. walking",
         "type": "scattermapbox"
        },
        {
         "hoverinfo": "text",
         "hovertemplate": "%{text}<extra></extra>",
         "lat": [
          47.3860056,
          47.3887016,
          47.38759,
          47.3827835,
          47.3877257,
          47.3883807,
          47.3878765,
          47.3878575,
          47.3872942,
          47.3841654,
          47.38844160000001,
          47.388717,
          47.3863273,
          47.3860056,
          47.38541399999999,
          47.3887016,
          47.3843261,
          47.38759,
          47.39025720000001,
          47.3883807,
          47.3886254,
          47.3871669,
          47.3825379,
          47.3878765,
          47.3878575,
          47.3839019,
          47.3903283,
          47.3828775,
          47.389367,
          47.3891116,
          47.38314659999999,
          47.3860056,
          47.3900263,
          47.3892435,
          47.38541399999999,
          47.3887016,
          47.389367,
          47.3891116,
          47.38314659999999,
          47.3860056,
          47.3900263,
          47.3892435,
          47.38541399999999,
          47.3887016,
          47.387209,
          47.389367,
          47.3891116,
          47.38314659999999,
          47.3860056,
          47.3900263,
          47.3892435,
          47.38541399999999,
          47.3887016,
          47.38472719999999,
          47.38849279999999,
          47.38672099999999,
          47.390381,
          47.3905171,
          47.3879841,
          47.3884016,
          47.38858399999999,
          47.3868293,
          47.386742,
          47.389965,
          47.386676,
          47.3900823,
          47.39028199999999,
          47.390102,
          47.390575,
          47.390446,
          47.3905962,
          47.388178,
          47.3906336,
          47.39093070000001,
          47.390797,
          47.390797,
          47.3882426,
          47.387721,
          47.3844961,
          47.387209,
          47.38459949999999,
          47.389367,
          47.3891116,
          47.38314659999999,
          47.3860056,
          47.3900263,
          47.3892435,
          47.38541399999999,
          47.3887016,
          47.3907119,
          47.3881259,
          47.38654,
          47.3870371,
          47.3875825,
          47.387037,
          47.3864536,
          47.3842247,
          47.389367,
          47.3891116,
          47.38314659999999,
          47.3860056,
          47.3900263,
          47.3892435,
          47.38541399999999,
          47.3887016,
          47.38546299999999,
          47.3860347,
          47.38475269999999,
          47.3857949,
          47.3838772,
          47.38320100000001,
          47.3863992,
          47.3878275,
          47.3887665,
          47.3830051,
          47.3875062,
          47.3828488,
          47.3830153,
          47.38605399999999,
          47.3911495,
          47.3881237,
          47.3881936,
          47.389367,
          47.3891116,
          47.38314659999999,
          47.3860056,
          47.3900263,
          47.3892435,
          47.38541399999999,
          47.3887016,
          47.3890172,
          47.3900263,
          47.3887858,
          47.3880463
         ],
         "lon": [
          8.5171572,
          8.51893,
          8.526071700000001,
          8.529045400000001,
          8.529723699999998,
          8.5223421,
          8.518345700000001,
          8.5244445,
          8.5195782,
          8.530408299999998,
          8.5189959,
          8.522635100000002,
          8.517414200000001,
          8.5171572,
          8.5182748,
          8.51893,
          8.528566799999998,
          8.526071700000001,
          8.517230300000001,
          8.5223421,
          8.521213399999999,
          8.528477300000002,
          8.5296603,
          8.518345700000001,
          8.5244445,
          8.529589099999999,
          8.522816299999999,
          8.5298801,
          8.522048300000002,
          8.516802799999999,
          8.530097999999997,
          8.5171572,
          8.524165700000001,
          8.5213589,
          8.5182748,
          8.51893,
          8.522048300000002,
          8.516802799999999,
          8.530097999999997,
          8.5171572,
          8.524165700000001,
          8.5213589,
          8.5182748,
          8.51893,
          8.517852,
          8.522048300000002,
          8.516802799999999,
          8.530097999999997,
          8.5171572,
          8.524165700000001,
          8.5213589,
          8.5182748,
          8.51893,
          8.531785399999999,
          8.5259343,
          8.52882,
          8.522734999999999,
          8.522622499999999,
          8.5198512,
          8.526029600000001,
          8.525838999999998,
          8.528737200000002,
          8.528749,
          8.523602,
          8.5287978,
          8.523470399999999,
          8.523368,
          8.521868000000001,
          8.522558999999998,
          8.522290000000002,
          8.5222812,
          8.5201848,
          8.522268000000002,
          8.522793199999999,
          8.522397999999999,
          8.522397999999999,
          8.520017400000002,
          8.5195232,
          8.531264299999998,
          8.517852,
          8.5316236,
          8.522048300000002,
          8.516802799999999,
          8.530097999999997,
          8.5171572,
          8.524165700000001,
          8.5213589,
          8.5182748,
          8.51893,
          8.518263999999999,
          8.5217388,
          8.517797999999999,
          8.5273519,
          8.523591,
          8.527352,
          8.522710899999998,
          8.5277411,
          8.522048300000002,
          8.516802799999999,
          8.530097999999997,
          8.5171572,
          8.524165700000001,
          8.5213589,
          8.5182748,
          8.51893,
          8.531409199999999,
          8.5319311,
          8.527192099999997,
          8.5319332,
          8.531965699999999,
          8.530963600000002,
          8.5176807,
          8.5263535,
          8.5250706,
          8.529200600000001,
          8.517401800000002,
          8.530257899999999,
          8.530630900000002,
          8.531918,
          8.52685,
          8.524588099999999,
          8.5245331,
          8.522048300000002,
          8.516802799999999,
          8.530097999999997,
          8.5171572,
          8.524165700000001,
          8.5213589,
          8.5182748,
          8.51893,
          8.522971499999999,
          8.524165700000001,
          8.5223878,
          8.518191800000002
         ],
         "marker": {
          "color": [
           "pink",
           "pink",
           "pink",
           "pink",
           "pink",
           "pink",
           "pink",
           "pink",
           "pink",
           "pink",
           "pink",
           "pink",
           "pink",
           "yellow",
           "yellow",
           "yellow",
           "yellow",
           "yellow",
           "yellow",
           "yellow",
           "yellow",
           "yellow",
           "yellow",
           "yellow",
           "yellow",
           "yellow",
           "yellow",
           "yellow",
           "orange",
           "orange",
           "orange",
           "orange",
           "orange",
           "orange",
           "orange",
           "orange",
           "orange",
           "orange",
           "orange",
           "orange",
           "orange",
           "orange",
           "orange",
           "orange",
           "purple",
           "purple",
           "purple",
           "purple",
           "purple",
           "purple",
           "purple",
           "purple",
           "purple",
           "purple",
           "purple",
           "purple",
           "purple",
           "purple",
           "purple",
           "purple",
           "purple",
           "purple",
           "purple",
           "purple",
           "purple",
           "purple",
           "purple",
           "purple",
           "purple",
           "purple",
           "purple",
           "purple",
           "purple",
           "purple",
           "purple",
           "purple",
           "purple",
           "purple",
           "purple",
           "purple",
           "purple",
           "brown",
           "brown",
           "brown",
           "brown",
           "brown",
           "brown",
           "brown",
           "brown",
           "brown",
           "brown",
           "brown",
           "brown",
           "brown",
           "brown",
           "brown",
           "brown",
           "red",
           "red",
           "red",
           "red",
           "red",
           "red",
           "red",
           "red",
           "red",
           "red",
           "red",
           "red",
           "red",
           "red",
           "red",
           "red",
           "red",
           "red",
           "red",
           "red",
           "red",
           "cyan",
           "cyan",
           "cyan",
           "cyan",
           "cyan",
           "cyan",
           "cyan",
           "cyan",
           "cyan",
           "cyan",
           "cyan",
           "cyan",
           "blue",
           "blue",
           "blue",
           "blue"
          ],
          "opacity": 1,
          "size": 10
         },
         "mode": "markers",
         "showlegend": false,
         "text": [
          "<b>CLOUDS</b><br><i>bars</i><br>Maagplatz 5, Zürich <br><br>Rating: 4<br>Nb ratings: 1954<br><br><i>Walking time: 10 mins</i> <br><br>",
          "<b>LaSalle</b><br><i>bars</i><br>Schiffbaustrasse 4, Zürich <br><br>Rating: 4.3<br>Nb ratings: 593<br><br><i>Walking time: 8 mins</i> <br><br>",
          "<b>Markthalle</b><br><i>bars</i><br>Limmatstrasse 231, Zürich <br><br>Rating: 4.3<br>Nb ratings: 2069<br><br><i>Walking time: 5 mins</i> <br><br>",
          "<b>Riffraff</b><br><i>bars</i><br>Neugasse 57-63, Zürich <br><br>Rating: 4.4<br>Nb ratings: 1121<br><br><i>Walking time: 9 mins</i> <br><br>",
          "<b>heldenbar</b><br><i>bars</i><br>Sihlquai 240, Zürich <br><br>Rating: 4<br>Nb ratings: 64<br><br><i>Walking time: 7 mins</i> <br><br>",
          "<b>Billiardino</b><br><i>bars</i><br>Heinrichstrasse 245, Zürich <br><br>Rating: 4.2<br>Nb ratings: 915<br><br><i>Walking time: 3 mins</i> <br><br>",
          "<b>les halles</b><br><i>bars</i><br>Pfingstweidstrasse 6, Zürich <br><br>Rating: 4.4<br>Nb ratings: 2075<br><br><i>Walking time: 9 mins</i> <br><br>",
          "<b>Don Weber</b><br><i>bars</i><br>Heinrichstrasse 213, Zürich <br><br>Rating: 4.3<br>Nb ratings: 813<br><br><i>Walking time: 1 min</i> <br><br>",
          "<b>Big Ben Westside</b><br><i>bars</i><br>Hardstrasse 234, Zürich <br><br>Rating: 4.1<br>Nb ratings: 1106<br><br><i>Walking time: 8 mins</i> <br><br>",
          "<b>Cucina</b><br><i>bars</i><br>Luisenstrasse 40, Zürich <br><br>Rating: 4.3<br>Nb ratings: 702<br><br><i>Walking time: 8 mins</i> <br><br>",
          "<b>Labor5, Zürich</b><br><i>bars</i><br>Schiffbaustrasse 3, Zürich <br><br>Rating: 4.1<br>Nb ratings: 262<br><br><i>Walking time: 8 mins</i> <br><br>",
          "<b>Basilica</b><br><i>bars</i><br>Heinrichstrasse 237, Zürich <br><br>Rating: 4.6<br>Nb ratings: 647<br><br><i>Walking time: 3 mins</i> <br><br>",
          "<b>Hotel Rivington & Sons</b><br><i>bars</i><br>Prime Tower, Hardstrasse 201, Zürich <br><br>Rating: 4.4<br>Nb ratings: 355<br><br><i>Walking time: 10 mins</i> <br><br>",
          "<b>CLOUDS</b><br><i>restaurants</i><br>Maagplatz 5, Zürich <br><br>Rating: 4<br>Nb ratings: 1954<br><br><i>Walking time: 10 mins</i> <br><br>",
          "<b>Restaurant Rosso</b><br><i>restaurants</i><br>Geroldstrasse 31, Zürich <br><br>Rating: 4<br>Nb ratings: 1171<br><br><i>Walking time: 9 mins</i> <br><br>",
          "<b>LaSalle</b><br><i>restaurants</i><br>Schiffbaustrasse 4, Zürich <br><br>Rating: 4.3<br>Nb ratings: 593<br><br><i>Walking time: 8 mins</i> <br><br>",
          "<b>Kalymnos</b><br><i>restaurants</i><br>Motorenstrasse 25, Zürich <br><br>Rating: 4.2<br>Nb ratings: 255<br><br><i>Walking time: 7 mins</i> <br><br>",
          "<b>Markthalle</b><br><i>restaurants</i><br>Limmatstrasse 231, Zürich <br><br>Rating: 4.3<br>Nb ratings: 2069<br><br><i>Walking time: 5 mins</i> <br><br>",
          "<b>Angkor</b><br><i>restaurants</i><br>Giessereistrasse 18, Zürich <br><br>Rating: 4<br>Nb ratings: 474<br><br><i>Walking time: 10 mins</i> <br><br>",
          "<b>Billiardino</b><br><i>restaurants</i><br>Heinrichstrasse 245, Zürich <br><br>Rating: 4.2<br>Nb ratings: 915<br><br><i>Walking time: 3 mins</i> <br><br>",
          "<b>Nooch Asian Kitchen Steinfels Zürich</b><br><i>restaurants</i><br>Heinrichstrasse 267, Zürich <br><br>Rating: 4.4<br>Nb ratings: 2110<br><br><i>Walking time: 6 mins</i> <br><br>",
          "<b>Alpenrose</b><br><i>restaurants</i><br>Fabrikstrasse 12, Zürich <br><br>Rating: 4.7<br>Nb ratings: 546<br><br><i>Walking time: 4 mins</i> <br><br>",
          "<b>LILY'S ORIGINAL</b><br><i>restaurants</i><br>Langstrasse 197, Zürich <br><br>Rating: 4.3<br>Nb ratings: 1218<br><br><i>Walking time: 10 mins</i> <br><br>",
          "<b>les halles</b><br><i>restaurants</i><br>Pfingstweidstrasse 6, Zürich <br><br>Rating: 4.4<br>Nb ratings: 2075<br><br><i>Walking time: 9 mins</i> <br><br>",
          "<b>Don Weber</b><br><i>restaurants</i><br>Heinrichstrasse 213, Zürich <br><br>Rating: 4.3<br>Nb ratings: 813<br><br><i>Walking time: 1 min</i> <br><br>",
          "<b>Santa Lucia Limmatplatz</b><br><i>restaurants</i><br>Luisenstrasse 31, Zürich <br><br>Rating: 4.3<br>Nb ratings: 734<br><br><i>Walking time: 9 mins</i> <br><br>",
          "<b>Spaghetti Pomodoro</b><br><i>restaurants</i><br>Hardstrasse 324, Zürich <br><br>Rating: 3.9<br>Nb ratings: 660<br><br><i>Walking time: 6 mins</i> <br><br>",
          "<b>McDonald’s</b><br><i>restaurants</i><br>Langstrasse 201, Zürich <br><br>Rating: 3.6<br>Nb ratings: 1195<br><br><i>Walking time: 10 mins</i> <br><br>",
          "<b>Hotel Züri by Fassbind</b><br><i>kindergarten</i><br>Heinrichstrasse 254, Zürich <br><br>Rating: 4.1<br>Nb ratings: 1080<br><br><i>Walking time: 4 mins</i> <br><br>",
          "<b>Novotel Zurich City-West</b><br><i>kindergarten</i><br>Am Turbinenplatz, Schiffbaustrasse 13, Zürich <br><br>Rating: 4.2<br>Nb ratings: 1747<br><br><i>Walking time: 10 mins</i> <br><br>",
          "<b>Hotel Casa Rodolfo / Casa Heinrich</b><br><i>kindergarten</i><br>Langstrasse 213, Zürich <br><br>Rating: 3.7<br>Nb ratings: 7<br><br><i>Walking time: 10 mins</i> <br><br>",
          "<b>CLOUDS</b><br><i>kindergarten</i><br>Maagplatz 5, Zürich <br><br>Rating: 4<br>Nb ratings: 1954<br><br><i>Walking time: 10 mins</i> <br><br>",
          "<b>KV Zurich Business School Basic Education</b><br><i>kindergarten</i><br>Limmatstrasse 310, Zürich <br><br>Rating: 2.5<br>Nb ratings: 86<br><br><i>Walking time: 5 mins</i> <br><br>",
          "<b>blue Cinema Abaton</b><br><i>kindergarten</i><br>Heinrichstrasse 269, Zürich <br><br>Rating: 4.2<br>Nb ratings: 3352<br><br><i>Walking time: 5 mins</i> <br><br>",
          "<b>Restaurant Rosso</b><br><i>kindergarten</i><br>Geroldstrasse 31, Zürich <br><br>Rating: 4<br>Nb ratings: 1171<br><br><i>Walking time: 9 mins</i> <br><br>",
          "<b>LaSalle</b><br><i>kindergarten</i><br>Schiffbaustrasse 4, Zürich <br><br>Rating: 4.3<br>Nb ratings: 593<br><br><i>Walking time: 8 mins</i> <br><br>",
          "<b>Hotel Züri by Fassbind</b><br><i>kindergarten</i><br>Heinrichstrasse 254, Zürich <br><br>Rating: 4.1<br>Nb ratings: 1080<br><br><i>Walking time: 4 mins</i> <br><br>",
          "<b>Novotel Zurich City-West</b><br><i>kindergarten</i><br>Am Turbinenplatz, Schiffbaustrasse 13, Zürich <br><br>Rating: 4.2<br>Nb ratings: 1747<br><br><i>Walking time: 10 mins</i> <br><br>",
          "<b>Hotel Casa Rodolfo / Casa Heinrich</b><br><i>kindergarten</i><br>Langstrasse 213, Zürich <br><br>Rating: 3.7<br>Nb ratings: 7<br><br><i>Walking time: 10 mins</i> <br><br>",
          "<b>CLOUDS</b><br><i>kindergarten</i><br>Maagplatz 5, Zürich <br><br>Rating: 4<br>Nb ratings: 1954<br><br><i>Walking time: 10 mins</i> <br><br>",
          "<b>KV Zurich Business School Basic Education</b><br><i>kindergarten</i><br>Limmatstrasse 310, Zürich <br><br>Rating: 2.5<br>Nb ratings: 86<br><br><i>Walking time: 5 mins</i> <br><br>",
          "<b>blue Cinema Abaton</b><br><i>kindergarten</i><br>Heinrichstrasse 269, Zürich <br><br>Rating: 4.2<br>Nb ratings: 3352<br><br><i>Walking time: 5 mins</i> <br><br>",
          "<b>Restaurant Rosso</b><br><i>kindergarten</i><br>Geroldstrasse 31, Zürich <br><br>Rating: 4<br>Nb ratings: 1171<br><br><i>Walking time: 9 mins</i> <br><br>",
          "<b>LaSalle</b><br><i>kindergarten</i><br>Schiffbaustrasse 4, Zürich <br><br>Rating: 4.3<br>Nb ratings: 593<br><br><i>Walking time: 8 mins</i> <br><br>",
          "<b>Zuerich, Eurobus Terminal</b><br><i>public_transportation</i><br>Switzerland <br><br>Rating: 4.5<br>Nb ratings: 4<br><br><i>Walking time: 10 mins</i> <br><br>",
          "<b>Hotel Züri by Fassbind</b><br><i>public_transportation</i><br>Heinrichstrasse 254, Zürich <br><br>Rating: 4.1<br>Nb ratings: 1080<br><br><i>Walking time: 4 mins</i> <br><br>",
          "<b>Novotel Zurich City-West</b><br><i>public_transportation</i><br>Am Turbinenplatz, Schiffbaustrasse 13, Zürich <br><br>Rating: 4.2<br>Nb ratings: 1747<br><br><i>Walking time: 10 mins</i> <br><br>",
          "<b>Hotel Casa Rodolfo / Casa Heinrich</b><br><i>public_transportation</i><br>Langstrasse 213, Zürich <br><br>Rating: 3.7<br>Nb ratings: 7<br><br><i>Walking time: 10 mins</i> <br><br>",
          "<b>CLOUDS</b><br><i>public_transportation</i><br>Maagplatz 5, Zürich <br><br>Rating: 4<br>Nb ratings: 1954<br><br><i>Walking time: 10 mins</i> <br><br>",
          "<b>KV Zurich Business School Basic Education</b><br><i>public_transportation</i><br>Limmatstrasse 310, Zürich <br><br>Rating: 2.5<br>Nb ratings: 86<br><br><i>Walking time: 5 mins</i> <br><br>",
          "<b>blue Cinema Abaton</b><br><i>public_transportation</i><br>Heinrichstrasse 269, Zürich <br><br>Rating: 4.2<br>Nb ratings: 3352<br><br><i>Walking time: 5 mins</i> <br><br>",
          "<b>Restaurant Rosso</b><br><i>public_transportation</i><br>Geroldstrasse 31, Zürich <br><br>Rating: 4<br>Nb ratings: 1171<br><br><i>Walking time: 9 mins</i> <br><br>",
          "<b>LaSalle</b><br><i>public_transportation</i><br>Schiffbaustrasse 4, Zürich <br><br>Rating: 4.3<br>Nb ratings: 593<br><br><i>Walking time: 8 mins</i> <br><br>",
          "<b>Limmatplatz</b><br><i>public_transportation</i><br>Switzerland <br><br>Rating: No rating available<br>Nb ratings: No ratings available<br><br><i>Walking time: 10 mins</i> <br><br>",
          "<b>Löwenbräu</b><br><i>public_transportation</i><br>Switzerland <br><br>Rating: No rating available<br>Nb ratings: No ratings available<br><br><i>Walking time: 3 mins</i> <br><br>",
          "<b>Quellenstrasse</b><br><i>public_transportation</i><br>Switzerland <br><br>Rating: No rating available<br>Nb ratings: No ratings available<br><br><i>Walking time: 5 mins</i> <br><br>",
          "<b>Escher Wyss Platz</b><br><i>public_transportation</i><br>Switzerland <br><br>Rating: No rating available<br>Nb ratings: No ratings available<br><br><i>Walking time: 6 mins</i> <br><br>",
          "<b>Escher-Wyss-Platz</b><br><i>public_transportation</i><br>Switzerland <br><br>Rating: No rating available<br>Nb ratings: No ratings available<br><br><i>Walking time: 6 mins</i> <br><br>",
          "<b>Schiffbau</b><br><i>public_transportation</i><br>Switzerland <br><br>Rating: No rating available<br>Nb ratings: No ratings available<br><br><i>Walking time: 7 mins</i> <br><br>",
          "<b>Lowenbrau</b><br><i>public_transportation</i><br>Switzerland <br><br>Rating: 4.4<br>Nb ratings: 8<br><br><i>Walking time: 3 mins</i> <br><br>",
          "<b>Löwenbräu</b><br><i>public_transportation</i><br>Switzerland <br><br>Rating: 4<br>Nb ratings: 2<br><br><i>Walking time: 3 mins</i> <br><br>",
          "<b>Quellenstrasse</b><br><i>public_transportation</i><br>Zürich <br><br>Rating: 5<br>Nb ratings: 7<br><br><i>Walking time: 5 mins</i> <br><br>",
          "<b>Quellenstrasse</b><br><i>public_transportation</i><br>Switzerland <br><br>Rating: No rating available<br>Nb ratings: No ratings available<br><br><i>Walking time: 5 mins</i> <br><br>",
          "<b>Escher Wyss Platz</b><br><i>public_transportation</i><br>Switzerland <br><br>Rating: 4.3<br>Nb ratings: 3<br><br><i>Walking time: 5 mins</i> <br><br>",
          "<b>Quellenstrasse</b><br><i>public_transportation</i><br>Switzerland <br><br>Rating: 4<br>Nb ratings: 7<br><br><i>Walking time: 5 mins</i> <br><br>",
          "<b>Escher-Wyss-Platz</b><br><i>public_transportation</i><br>Switzerland <br><br>Rating: 4<br>Nb ratings: 24<br><br><i>Walking time: 5 mins</i> <br><br>",
          "<b>Escher Wyss Platz</b><br><i>public_transportation</i><br>Switzerland <br><br>Rating: 5<br>Nb ratings: 1<br><br><i>Walking time: 5 mins</i> <br><br>",
          "<b>Escher Wyss Platz</b><br><i>public_transportation</i><br>Switzerland <br><br>Rating: 3<br>Nb ratings: 1<br><br><i>Walking time: 6 mins</i> <br><br>",
          "<b>Escher-Wyss-Platz</b><br><i>public_transportation</i><br>Switzerland <br><br>Rating: No rating available<br>Nb ratings: No ratings available<br><br><i>Walking time: 7 mins</i> <br><br>",
          "<b>Escher Wyss Platz</b><br><i>public_transportation</i><br>Switzerland <br><br>Rating: 4<br>Nb ratings: 2<br><br><i>Walking time: 6 mins</i> <br><br>",
          "<b>Escher-Wyss-Platz</b><br><i>public_transportation</i><br>Switzerland <br><br>Rating: 4<br>Nb ratings: 4<br><br><i>Walking time: 7 mins</i> <br><br>",
          "<b>Schiffbau</b><br><i>public_transportation</i><br>Switzerland <br><br>Rating: 3.7<br>Nb ratings: 3<br><br><i>Walking time: 6 mins</i> <br><br>",
          "<b>Escher-Wyss-Platz</b><br><i>public_transportation</i><br>Switzerland <br><br>Rating: 4.5<br>Nb ratings: 2<br><br><i>Walking time: 7 mins</i> <br><br>",
          "<b>Escher-Wyss-Platz</b><br><i>public_transportation</i><br>Switzerland <br><br>Rating: 4.7<br>Nb ratings: 3<br><br><i>Walking time: 7 mins</i> <br><br>",
          "<b>Escher-Wyss-Platz</b><br><i>public_transportation</i><br>Switzerland <br><br>Rating: No rating available<br>Nb ratings: No ratings available<br><br><i>Walking time: 7 mins</i> <br><br>",
          "<b>Escher Wyss Platz</b><br><i>public_transportation</i><br>Switzerland <br><br>Rating: No rating available<br>Nb ratings: No ratings available<br><br><i>Walking time: 7 mins</i> <br><br>",
          "<b>Schiffbau</b><br><i>public_transportation</i><br>Switzerland <br><br>Rating: 3.5<br>Nb ratings: 2<br><br><i>Walking time: 7 mins</i> <br><br>",
          "<b>Schiffbau</b><br><i>public_transportation</i><br>Switzerland <br><br>Rating: 4.5<br>Nb ratings: 19<br><br><i>Walking time: 8 mins</i> <br><br>",
          "<b>Limmatplatz</b><br><i>public_transportation</i><br>Switzerland <br><br>Rating: 4.5<br>Nb ratings: 4<br><br><i>Walking time: 9 mins</i> <br><br>",
          "<b>Zuerich, Eurobus Terminal</b><br><i>public_transportation</i><br>Switzerland <br><br>Rating: 4.5<br>Nb ratings: 4<br><br><i>Walking time: 10 mins</i> <br><br>",
          "<b>Limmatplatz 4-6</b><br><i>public_transportation</i><br>Switzerland <br><br>Rating: 4.3<br>Nb ratings: 30<br><br><i>Walking time: 9 mins</i> <br><br>",
          "<b>Hotel Züri by Fassbind</b><br><i>gym_fitness</i><br>Heinrichstrasse 254, Zürich <br><br>Rating: 4.1<br>Nb ratings: 1080<br><br><i>Walking time: 4 mins</i> <br><br>",
          "<b>Novotel Zurich City-West</b><br><i>gym_fitness</i><br>Am Turbinenplatz, Schiffbaustrasse 13, Zürich <br><br>Rating: 4.2<br>Nb ratings: 1747<br><br><i>Walking time: 10 mins</i> <br><br>",
          "<b>Hotel Casa Rodolfo / Casa Heinrich</b><br><i>gym_fitness</i><br>Langstrasse 213, Zürich <br><br>Rating: 3.7<br>Nb ratings: 7<br><br><i>Walking time: 10 mins</i> <br><br>",
          "<b>CLOUDS</b><br><i>gym_fitness</i><br>Maagplatz 5, Zürich <br><br>Rating: 4<br>Nb ratings: 1954<br><br><i>Walking time: 10 mins</i> <br><br>",
          "<b>KV Zurich Business School Basic Education</b><br><i>gym_fitness</i><br>Limmatstrasse 310, Zürich <br><br>Rating: 2.5<br>Nb ratings: 86<br><br><i>Walking time: 5 mins</i> <br><br>",
          "<b>blue Cinema Abaton</b><br><i>gym_fitness</i><br>Heinrichstrasse 269, Zürich <br><br>Rating: 4.2<br>Nb ratings: 3352<br><br><i>Walking time: 5 mins</i> <br><br>",
          "<b>Restaurant Rosso</b><br><i>gym_fitness</i><br>Geroldstrasse 31, Zürich <br><br>Rating: 4<br>Nb ratings: 1171<br><br><i>Walking time: 9 mins</i> <br><br>",
          "<b>LaSalle</b><br><i>gym_fitness</i><br>Schiffbaustrasse 4, Zürich <br><br>Rating: 4.3<br>Nb ratings: 593<br><br><i>Walking time: 8 mins</i> <br><br>",
          "<b>Fitnesspark Puls5</b><br><i>gym_fitness</i><br>Giessereistrasse 18, Zürich <br><br>Rating: 4.1<br>Nb ratings: 443<br><br><i>Walking time: 10 mins</i> <br><br>",
          "<b>Halle 41 Fitness Zürich West</b><br><i>gym_fitness</i><br>Heinrichstrasse 251, Zürich <br><br>Rating: 4.6<br>Nb ratings: 155<br><br><i>Walking time: 5 mins</i> <br><br>",
          "<b>Kieser</b><br><i>gym_fitness</i><br>Hardstrasse 223, Zürich <br><br>Rating: 4.5<br>Nb ratings: 53<br><br><i>Walking time: 10 mins</i> <br><br>",
          "<b>Body Mind Coaching</b><br><i>gym_fitness</i><br>Röntgenstrasse 82, Zürich <br><br>Rating: 5<br>Nb ratings: 3<br><br><i>Walking time: 3 mins</i> <br><br>",
          "<b>Yoga Anker West</b><br><i>gym_fitness</i><br>Heinrichstrasse 221, Zürich <br><br>Rating: 4.3<br>Nb ratings: 6<br><br><i>Walking time: 3 mins</i> <br><br>",
          "<b>Rebalancing Faszien-Massage - Brugmann Thomas</b><br><i>gym_fitness</i><br>Röntgenstrasse 82, Zürich <br><br>Rating: No rating available<br>Nb ratings: No ratings available<br><br><i>Walking time: 3 mins</i> <br><br>",
          "<b>Balboa Im Viadukt</b><br><i>gym_fitness</i><br>Viaduktstrasse 59, Zürich <br><br>Rating: 4.4<br>Nb ratings: 37<br><br><i>Walking time: 4 mins</i> <br><br>",
          "<b>Iyengar-Yoga</b><br><i>gym_fitness</i><br>Quellenstrasse 2, Zürich <br><br>Rating: No rating available<br>Nb ratings: No ratings available<br><br><i>Walking time: 7 mins</i> <br><br>",
          "<b>Hotel Züri by Fassbind</b><br><i>grocery_stores_supermarkets</i><br>Heinrichstrasse 254, Zürich <br><br>Rating: 4.1<br>Nb ratings: 1080<br><br><i>Walking time: 4 mins</i> <br><br>",
          "<b>Novotel Zurich City-West</b><br><i>grocery_stores_supermarkets</i><br>Am Turbinenplatz, Schiffbaustrasse 13, Zürich <br><br>Rating: 4.2<br>Nb ratings: 1747<br><br><i>Walking time: 10 mins</i> <br><br>",
          "<b>Hotel Casa Rodolfo / Casa Heinrich</b><br><i>grocery_stores_supermarkets</i><br>Langstrasse 213, Zürich <br><br>Rating: 3.7<br>Nb ratings: 7<br><br><i>Walking time: 10 mins</i> <br><br>",
          "<b>CLOUDS</b><br><i>grocery_stores_supermarkets</i><br>Maagplatz 5, Zürich <br><br>Rating: 4<br>Nb ratings: 1954<br><br><i>Walking time: 10 mins</i> <br><br>",
          "<b>KV Zurich Business School Basic Education</b><br><i>grocery_stores_supermarkets</i><br>Limmatstrasse 310, Zürich <br><br>Rating: 2.5<br>Nb ratings: 86<br><br><i>Walking time: 5 mins</i> <br><br>",
          "<b>blue Cinema Abaton</b><br><i>grocery_stores_supermarkets</i><br>Heinrichstrasse 269, Zürich <br><br>Rating: 4.2<br>Nb ratings: 3352<br><br><i>Walking time: 5 mins</i> <br><br>",
          "<b>Restaurant Rosso</b><br><i>grocery_stores_supermarkets</i><br>Geroldstrasse 31, Zürich <br><br>Rating: 4<br>Nb ratings: 1171<br><br><i>Walking time: 9 mins</i> <br><br>",
          "<b>LaSalle</b><br><i>grocery_stores_supermarkets</i><br>Schiffbaustrasse 4, Zürich <br><br>Rating: 4.3<br>Nb ratings: 593<br><br><i>Walking time: 8 mins</i> <br><br>",
          "<b>Migros-Supermarkt - Zürich - Limmatplatz</b><br><i>grocery_stores_supermarkets</i><br>Limmatstrasse 152, Zürich <br><br>Rating: 4.3<br>Nb ratings: 2042<br><br><i>Walking time: 8 mins</i> <br><br>",
          "<b>migrolino Zürich Sihlquai</b><br><i>grocery_stores_supermarkets</i><br>Sihlquai 155, Zürich <br><br>Rating: 3.9<br>Nb ratings: 110<br><br><i>Walking time: 10 mins</i> <br><br>",
          "<b>Coop Supermarkt Zürich Josefstrasse</b><br><i>grocery_stores_supermarkets</i><br>Röntgenstrasse 48, Zürich <br><br>Rating: 4<br>Nb ratings: 223<br><br><i>Walking time: 5 mins</i> <br><br>",
          "<b>Denner Discount</b><br><i>grocery_stores_supermarkets</i><br>Limmatstrasse 152, Zürich <br><br>Rating: 4.4<br>Nb ratings: 175<br><br><i>Walking time: 10 mins</i> <br><br>",
          "<b>Denner Discount</b><br><i>grocery_stores_supermarkets</i><br>Fierzgasse 18, Zürich <br><br>Rating: 4.2<br>Nb ratings: 122<br><br><i>Walking time: 10 mins</i> <br><br>",
          "<b>Denner Express</b><br><i>grocery_stores_supermarkets</i><br>Josefstrasse 92, Zürich <br><br>Rating: 4.1<br>Nb ratings: 341<br><br><i>Walking time: 10 mins</i> <br><br>",
          "<b>Coop Pronto Shop Zürich Prime Tower</b><br><i>grocery_stores_supermarkets</i><br>Hardstrasse 221, Zürich <br><br>Rating: 3.9<br>Nb ratings: 197<br><br><i>Walking time: 10 mins</i> <br><br>",
          "<b>Berg und Tal Viadukt</b><br><i>grocery_stores_supermarkets</i><br>Limmatstrasse 231, Zürich <br><br>Rating: 4.8<br>Nb ratings: 32<br><br><i>Walking time: 1 min</i> <br><br>",
          "<b>Denner Discount</b><br><i>grocery_stores_supermarkets</i><br>Limmatstrasse 275, Zürich <br><br>Rating: 4.3<br>Nb ratings: 54<br><br><i>Walking time: 3 mins</i> <br><br>",
          "<b>Kani Mart Supermarket</b><br><i>grocery_stores_supermarkets</i><br>Neugasse 60, Zürich <br><br>Rating: 5<br>Nb ratings: 1<br><br><i>Walking time: 10 mins</i> <br><br>",
          "<b>Coop Supermarkt Prime 2</b><br><i>grocery_stores_supermarkets</i><br>Maschinenstrasse 10, Zürich <br><br>Rating: 4.3<br>Nb ratings: 115<br><br><i>Walking time: 10 mins</i> <br><br>",
          "<b>Fresh. Shop</b><br><i>grocery_stores_supermarkets</i><br>Langstrasse 210, Zürich <br><br>Rating: 5<br>Nb ratings: 1<br><br><i>Walking time: 10 mins</i> <br><br>",
          "<b>Indiasupermarkt.ch</b><br><i>grocery_stores_supermarkets</i><br>Josefstrasse 91, Zürich <br><br>Rating: 4.4<br>Nb ratings: 192<br><br><i>Walking time: 10 mins</i> <br><br>",
          "<b>Migrol Service</b><br><i>gas_ev_charging</i><br>Sihlquai 155, Zürich <br><br>Rating: 4<br>Nb ratings: 139<br><br><i>Walking time: 10 mins</i> <br><br>",
          "<b>Scall Tankstelle Höngg</b><br><i>gas_ev_charging</i><br>Hönggerstrasse 17, Zürich <br><br>Rating: 4.7<br>Nb ratings: 26<br><br><i>Walking time: 10 mins</i> <br><br>",
          "<b>Rigoni & Co</b><br><i>gas_ev_charging</i><br>Heinrichstrasse 210, Zürich <br><br>Rating: 5<br>Nb ratings: 2<br><br><i>Walking time: 1 min</i> <br><br>",
          "<b>Tankstelle</b><br><i>gas_ev_charging</i><br>Heinrichstrasse 210, Zürich <br><br>Rating: 4.6<br>Nb ratings: 17<br><br><i>Walking time: 1 min</i> <br><br>",
          "<b>Hotel Züri by Fassbind</b><br><i>gas_ev_charging</i><br>Heinrichstrasse 254, Zürich <br><br>Rating: 4.1<br>Nb ratings: 1080<br><br><i>Walking time: 4 mins</i> <br><br>",
          "<b>Novotel Zurich City-West</b><br><i>gas_ev_charging</i><br>Am Turbinenplatz, Schiffbaustrasse 13, Zürich <br><br>Rating: 4.2<br>Nb ratings: 1747<br><br><i>Walking time: 10 mins</i> <br><br>",
          "<b>Hotel Casa Rodolfo / Casa Heinrich</b><br><i>gas_ev_charging</i><br>Langstrasse 213, Zürich <br><br>Rating: 3.7<br>Nb ratings: 7<br><br><i>Walking time: 10 mins</i> <br><br>",
          "<b>CLOUDS</b><br><i>gas_ev_charging</i><br>Maagplatz 5, Zürich <br><br>Rating: 4<br>Nb ratings: 1954<br><br><i>Walking time: 10 mins</i> <br><br>",
          "<b>KV Zurich Business School Basic Education</b><br><i>gas_ev_charging</i><br>Limmatstrasse 310, Zürich <br><br>Rating: 2.5<br>Nb ratings: 86<br><br><i>Walking time: 5 mins</i> <br><br>",
          "<b>blue Cinema Abaton</b><br><i>gas_ev_charging</i><br>Heinrichstrasse 269, Zürich <br><br>Rating: 4.2<br>Nb ratings: 3352<br><br><i>Walking time: 5 mins</i> <br><br>",
          "<b>Restaurant Rosso</b><br><i>gas_ev_charging</i><br>Geroldstrasse 31, Zürich <br><br>Rating: 4<br>Nb ratings: 1171<br><br><i>Walking time: 9 mins</i> <br><br>",
          "<b>LaSalle</b><br><i>gas_ev_charging</i><br>Schiffbaustrasse 4, Zürich <br><br>Rating: 4.3<br>Nb ratings: 593<br><br><i>Walking time: 8 mins</i> <br><br>",
          "<b>Schulhaus Schütze</b><br><i>schools</i><br>Heinrichstrasse 240, Zürich <br><br>Rating: 2.8<br>Nb ratings: 9<br><br><i>Walking time: 3 mins</i> <br><br>",
          "<b>KV Zurich Business School Basic Education</b><br><i>schools</i><br>Limmatstrasse 310, Zürich <br><br>Rating: 2.5<br>Nb ratings: 86<br><br><i>Walking time: 5 mins</i> <br><br>",
          "<b>ETH Zurich - HEA Volumetric Capture</b><br><i>schools</i><br>Heinrichstrasse 237, Zürich <br><br>Rating: No rating available<br>Nb ratings: No ratings available<br><br><i>Walking time: 3 mins</i> <br><br>",
          "<b>uggs rea online sverige</b><br><i>schools</i><br>Pfingstweidstrasse 10, Zürich <br><br>Rating: 5<br>Nb ratings: 1<br><br><i>Walking time: 9 mins</i> <br><br>"
         ],
         "type": "scattermapbox"
        },
        {
         "hoverinfo": "text",
         "lat": [
          47.3877722
         ],
         "lon": [
          8.5254298
         ],
         "marker": {
          "color": "black",
          "opacity": 1,
          "size": 20
         },
         "mode": "markers",
         "showlegend": false,
         "text": "8005 Zürich, Heinrichstrasse 200",
         "type": "scattermapbox"
        },
        {
         "type": "bar",
         "x": [
          "bars",
          "restaurants",
          "kindergarten",
          "public_transportation",
          "gym_fitness",
          "grocery_stores_supermarkets",
          "gas_ev_charging",
          "schools"
         ],
         "y": [
          13,
          15,
          16,
          37,
          16,
          21,
          12,
          4
         ]
        }
       ],
       "layout": {
        "height": 800,
        "mapbox": {
         "center": {
          "lat": 47.3877722,
          "lon": 8.5254298
         },
         "style": "open-street-map",
         "zoom": 14
        },
        "margin": {
         "b": 0,
         "l": 0,
         "r": 0,
         "t": 0
        },
        "showlegend": false,
        "template": {
         "data": {
          "bar": [
           {
            "error_x": {
             "color": "#2a3f5f"
            },
            "error_y": {
             "color": "#2a3f5f"
            },
            "marker": {
             "line": {
              "color": "#E5ECF6",
              "width": 0.5
             },
             "pattern": {
              "fillmode": "overlay",
              "size": 10,
              "solidity": 0.2
             }
            },
            "type": "bar"
           }
          ],
          "barpolar": [
           {
            "marker": {
             "line": {
              "color": "#E5ECF6",
              "width": 0.5
             },
             "pattern": {
              "fillmode": "overlay",
              "size": 10,
              "solidity": 0.2
             }
            },
            "type": "barpolar"
           }
          ],
          "carpet": [
           {
            "aaxis": {
             "endlinecolor": "#2a3f5f",
             "gridcolor": "white",
             "linecolor": "white",
             "minorgridcolor": "white",
             "startlinecolor": "#2a3f5f"
            },
            "baxis": {
             "endlinecolor": "#2a3f5f",
             "gridcolor": "white",
             "linecolor": "white",
             "minorgridcolor": "white",
             "startlinecolor": "#2a3f5f"
            },
            "type": "carpet"
           }
          ],
          "choropleth": [
           {
            "colorbar": {
             "outlinewidth": 0,
             "ticks": ""
            },
            "type": "choropleth"
           }
          ],
          "contour": [
           {
            "colorbar": {
             "outlinewidth": 0,
             "ticks": ""
            },
            "colorscale": [
             [
              0,
              "#0d0887"
             ],
             [
              0.1111111111111111,
              "#46039f"
             ],
             [
              0.2222222222222222,
              "#7201a8"
             ],
             [
              0.3333333333333333,
              "#9c179e"
             ],
             [
              0.4444444444444444,
              "#bd3786"
             ],
             [
              0.5555555555555556,
              "#d8576b"
             ],
             [
              0.6666666666666666,
              "#ed7953"
             ],
             [
              0.7777777777777778,
              "#fb9f3a"
             ],
             [
              0.8888888888888888,
              "#fdca26"
             ],
             [
              1,
              "#f0f921"
             ]
            ],
            "type": "contour"
           }
          ],
          "contourcarpet": [
           {
            "colorbar": {
             "outlinewidth": 0,
             "ticks": ""
            },
            "type": "contourcarpet"
           }
          ],
          "heatmap": [
           {
            "colorbar": {
             "outlinewidth": 0,
             "ticks": ""
            },
            "colorscale": [
             [
              0,
              "#0d0887"
             ],
             [
              0.1111111111111111,
              "#46039f"
             ],
             [
              0.2222222222222222,
              "#7201a8"
             ],
             [
              0.3333333333333333,
              "#9c179e"
             ],
             [
              0.4444444444444444,
              "#bd3786"
             ],
             [
              0.5555555555555556,
              "#d8576b"
             ],
             [
              0.6666666666666666,
              "#ed7953"
             ],
             [
              0.7777777777777778,
              "#fb9f3a"
             ],
             [
              0.8888888888888888,
              "#fdca26"
             ],
             [
              1,
              "#f0f921"
             ]
            ],
            "type": "heatmap"
           }
          ],
          "heatmapgl": [
           {
            "colorbar": {
             "outlinewidth": 0,
             "ticks": ""
            },
            "colorscale": [
             [
              0,
              "#0d0887"
             ],
             [
              0.1111111111111111,
              "#46039f"
             ],
             [
              0.2222222222222222,
              "#7201a8"
             ],
             [
              0.3333333333333333,
              "#9c179e"
             ],
             [
              0.4444444444444444,
              "#bd3786"
             ],
             [
              0.5555555555555556,
              "#d8576b"
             ],
             [
              0.6666666666666666,
              "#ed7953"
             ],
             [
              0.7777777777777778,
              "#fb9f3a"
             ],
             [
              0.8888888888888888,
              "#fdca26"
             ],
             [
              1,
              "#f0f921"
             ]
            ],
            "type": "heatmapgl"
           }
          ],
          "histogram": [
           {
            "marker": {
             "pattern": {
              "fillmode": "overlay",
              "size": 10,
              "solidity": 0.2
             }
            },
            "type": "histogram"
           }
          ],
          "histogram2d": [
           {
            "colorbar": {
             "outlinewidth": 0,
             "ticks": ""
            },
            "colorscale": [
             [
              0,
              "#0d0887"
             ],
             [
              0.1111111111111111,
              "#46039f"
             ],
             [
              0.2222222222222222,
              "#7201a8"
             ],
             [
              0.3333333333333333,
              "#9c179e"
             ],
             [
              0.4444444444444444,
              "#bd3786"
             ],
             [
              0.5555555555555556,
              "#d8576b"
             ],
             [
              0.6666666666666666,
              "#ed7953"
             ],
             [
              0.7777777777777778,
              "#fb9f3a"
             ],
             [
              0.8888888888888888,
              "#fdca26"
             ],
             [
              1,
              "#f0f921"
             ]
            ],
            "type": "histogram2d"
           }
          ],
          "histogram2dcontour": [
           {
            "colorbar": {
             "outlinewidth": 0,
             "ticks": ""
            },
            "colorscale": [
             [
              0,
              "#0d0887"
             ],
             [
              0.1111111111111111,
              "#46039f"
             ],
             [
              0.2222222222222222,
              "#7201a8"
             ],
             [
              0.3333333333333333,
              "#9c179e"
             ],
             [
              0.4444444444444444,
              "#bd3786"
             ],
             [
              0.5555555555555556,
              "#d8576b"
             ],
             [
              0.6666666666666666,
              "#ed7953"
             ],
             [
              0.7777777777777778,
              "#fb9f3a"
             ],
             [
              0.8888888888888888,
              "#fdca26"
             ],
             [
              1,
              "#f0f921"
             ]
            ],
            "type": "histogram2dcontour"
           }
          ],
          "mesh3d": [
           {
            "colorbar": {
             "outlinewidth": 0,
             "ticks": ""
            },
            "type": "mesh3d"
           }
          ],
          "parcoords": [
           {
            "line": {
             "colorbar": {
              "outlinewidth": 0,
              "ticks": ""
             }
            },
            "type": "parcoords"
           }
          ],
          "pie": [
           {
            "automargin": true,
            "type": "pie"
           }
          ],
          "scatter": [
           {
            "fillpattern": {
             "fillmode": "overlay",
             "size": 10,
             "solidity": 0.2
            },
            "type": "scatter"
           }
          ],
          "scatter3d": [
           {
            "line": {
             "colorbar": {
              "outlinewidth": 0,
              "ticks": ""
             }
            },
            "marker": {
             "colorbar": {
              "outlinewidth": 0,
              "ticks": ""
             }
            },
            "type": "scatter3d"
           }
          ],
          "scattercarpet": [
           {
            "marker": {
             "colorbar": {
              "outlinewidth": 0,
              "ticks": ""
             }
            },
            "type": "scattercarpet"
           }
          ],
          "scattergeo": [
           {
            "marker": {
             "colorbar": {
              "outlinewidth": 0,
              "ticks": ""
             }
            },
            "type": "scattergeo"
           }
          ],
          "scattergl": [
           {
            "marker": {
             "colorbar": {
              "outlinewidth": 0,
              "ticks": ""
             }
            },
            "type": "scattergl"
           }
          ],
          "scattermapbox": [
           {
            "marker": {
             "colorbar": {
              "outlinewidth": 0,
              "ticks": ""
             }
            },
            "type": "scattermapbox"
           }
          ],
          "scatterpolar": [
           {
            "marker": {
             "colorbar": {
              "outlinewidth": 0,
              "ticks": ""
             }
            },
            "type": "scatterpolar"
           }
          ],
          "scatterpolargl": [
           {
            "marker": {
             "colorbar": {
              "outlinewidth": 0,
              "ticks": ""
             }
            },
            "type": "scatterpolargl"
           }
          ],
          "scatterternary": [
           {
            "marker": {
             "colorbar": {
              "outlinewidth": 0,
              "ticks": ""
             }
            },
            "type": "scatterternary"
           }
          ],
          "surface": [
           {
            "colorbar": {
             "outlinewidth": 0,
             "ticks": ""
            },
            "colorscale": [
             [
              0,
              "#0d0887"
             ],
             [
              0.1111111111111111,
              "#46039f"
             ],
             [
              0.2222222222222222,
              "#7201a8"
             ],
             [
              0.3333333333333333,
              "#9c179e"
             ],
             [
              0.4444444444444444,
              "#bd3786"
             ],
             [
              0.5555555555555556,
              "#d8576b"
             ],
             [
              0.6666666666666666,
              "#ed7953"
             ],
             [
              0.7777777777777778,
              "#fb9f3a"
             ],
             [
              0.8888888888888888,
              "#fdca26"
             ],
             [
              1,
              "#f0f921"
             ]
            ],
            "type": "surface"
           }
          ],
          "table": [
           {
            "cells": {
             "fill": {
              "color": "#EBF0F8"
             },
             "line": {
              "color": "white"
             }
            },
            "header": {
             "fill": {
              "color": "#C8D4E3"
             },
             "line": {
              "color": "white"
             }
            },
            "type": "table"
           }
          ]
         },
         "layout": {
          "annotationdefaults": {
           "arrowcolor": "#2a3f5f",
           "arrowhead": 0,
           "arrowwidth": 1
          },
          "autotypenumbers": "strict",
          "coloraxis": {
           "colorbar": {
            "outlinewidth": 0,
            "ticks": ""
           }
          },
          "colorscale": {
           "diverging": [
            [
             0,
             "#8e0152"
            ],
            [
             0.1,
             "#c51b7d"
            ],
            [
             0.2,
             "#de77ae"
            ],
            [
             0.3,
             "#f1b6da"
            ],
            [
             0.4,
             "#fde0ef"
            ],
            [
             0.5,
             "#f7f7f7"
            ],
            [
             0.6,
             "#e6f5d0"
            ],
            [
             0.7,
             "#b8e186"
            ],
            [
             0.8,
             "#7fbc41"
            ],
            [
             0.9,
             "#4d9221"
            ],
            [
             1,
             "#276419"
            ]
           ],
           "sequential": [
            [
             0,
             "#0d0887"
            ],
            [
             0.1111111111111111,
             "#46039f"
            ],
            [
             0.2222222222222222,
             "#7201a8"
            ],
            [
             0.3333333333333333,
             "#9c179e"
            ],
            [
             0.4444444444444444,
             "#bd3786"
            ],
            [
             0.5555555555555556,
             "#d8576b"
            ],
            [
             0.6666666666666666,
             "#ed7953"
            ],
            [
             0.7777777777777778,
             "#fb9f3a"
            ],
            [
             0.8888888888888888,
             "#fdca26"
            ],
            [
             1,
             "#f0f921"
            ]
           ],
           "sequentialminus": [
            [
             0,
             "#0d0887"
            ],
            [
             0.1111111111111111,
             "#46039f"
            ],
            [
             0.2222222222222222,
             "#7201a8"
            ],
            [
             0.3333333333333333,
             "#9c179e"
            ],
            [
             0.4444444444444444,
             "#bd3786"
            ],
            [
             0.5555555555555556,
             "#d8576b"
            ],
            [
             0.6666666666666666,
             "#ed7953"
            ],
            [
             0.7777777777777778,
             "#fb9f3a"
            ],
            [
             0.8888888888888888,
             "#fdca26"
            ],
            [
             1,
             "#f0f921"
            ]
           ]
          },
          "colorway": [
           "#636efa",
           "#EF553B",
           "#00cc96",
           "#ab63fa",
           "#FFA15A",
           "#19d3f3",
           "#FF6692",
           "#B6E880",
           "#FF97FF",
           "#FECB52"
          ],
          "font": {
           "color": "#2a3f5f"
          },
          "geo": {
           "bgcolor": "white",
           "lakecolor": "white",
           "landcolor": "#E5ECF6",
           "showlakes": true,
           "showland": true,
           "subunitcolor": "white"
          },
          "hoverlabel": {
           "align": "left"
          },
          "hovermode": "closest",
          "mapbox": {
           "style": "light"
          },
          "paper_bgcolor": "white",
          "plot_bgcolor": "#E5ECF6",
          "polar": {
           "angularaxis": {
            "gridcolor": "white",
            "linecolor": "white",
            "ticks": ""
           },
           "bgcolor": "#E5ECF6",
           "radialaxis": {
            "gridcolor": "white",
            "linecolor": "white",
            "ticks": ""
           }
          },
          "scene": {
           "xaxis": {
            "backgroundcolor": "#E5ECF6",
            "gridcolor": "white",
            "gridwidth": 2,
            "linecolor": "white",
            "showbackground": true,
            "ticks": "",
            "zerolinecolor": "white"
           },
           "yaxis": {
            "backgroundcolor": "#E5ECF6",
            "gridcolor": "white",
            "gridwidth": 2,
            "linecolor": "white",
            "showbackground": true,
            "ticks": "",
            "zerolinecolor": "white"
           },
           "zaxis": {
            "backgroundcolor": "#E5ECF6",
            "gridcolor": "white",
            "gridwidth": 2,
            "linecolor": "white",
            "showbackground": true,
            "ticks": "",
            "zerolinecolor": "white"
           }
          },
          "shapedefaults": {
           "line": {
            "color": "#2a3f5f"
           }
          },
          "ternary": {
           "aaxis": {
            "gridcolor": "white",
            "linecolor": "white",
            "ticks": ""
           },
           "baxis": {
            "gridcolor": "white",
            "linecolor": "white",
            "ticks": ""
           },
           "bgcolor": "#E5ECF6",
           "caxis": {
            "gridcolor": "white",
            "linecolor": "white",
            "ticks": ""
           }
          },
          "title": {
           "x": 0.05
          },
          "xaxis": {
           "automargin": true,
           "gridcolor": "white",
           "linecolor": "white",
           "ticks": "",
           "title": {
            "standoff": 15
           },
           "zerolinecolor": "white",
           "zerolinewidth": 2
          },
          "yaxis": {
           "automargin": true,
           "gridcolor": "white",
           "linecolor": "white",
           "ticks": "",
           "title": {
            "standoff": 15
           },
           "zerolinecolor": "white",
           "zerolinewidth": 2
          }
         }
        },
        "width": 800,
        "xaxis": {
         "domain": [
          0.7,
          1
         ]
        },
        "yaxis": {
         "domain": [
          0,
          0.6
         ]
        },
        "yaxis2": {
         "domain": [
          0.7,
          1
         ]
        }
       }
      }
     },
     "metadata": {},
     "output_type": "display_data"
    }
   ],
   "source": [
    "FILE = load_data(FILES[5])\n",
    "base_map = create_base_map(FILE, 800, 800, 14)\n",
    "add_population(base_map, FILE)\n",
    "add_isochrone(base_map, FILE)\n",
    "add_places(base_map, FILE)\n",
    "add_original_address(base_map, FILE)\n",
    "add_barplots(base_map, FILE)"
   ]
  },
  {
   "cell_type": "markdown",
   "metadata": {},
   "source": [
    "### as we can see, the barplots appears BELOW the map !!! no way found make it appear on top !"
   ]
  },
  {
   "cell_type": "code",
   "execution_count": 30,
   "metadata": {},
   "outputs": [
    {
     "data": {
      "application/vnd.plotly.v1+json": {
       "config": {
        "plotlyServerURL": "https://plot.ly"
       },
       "data": [
        {
         "type": "scattermapbox"
        },
        {
         "hoverinfo": "text",
         "hovertemplate": "%{text}<extra></extra>",
         "lat": [
          47.370156245622226,
          47.371055587343015,
          47.37195492881503,
          47.3728542700381,
          47.36744585234603,
          47.36834519460507,
          47.36924453661605,
          47.37014387837872,
          47.37104321989284,
          47.37194256115813,
          47.37284190217451,
          47.37374124294167,
          47.37464058345939,
          47.36653412823878,
          47.36743347053883,
          47.36833281259096,
          47.369232154395014,
          47.37013149595077,
          47.37103083725792,
          47.37193017831634,
          47.372829519125766,
          47.37372885968598,
          47.37462819999669,
          47.37552754005785,
          47.36562238911454,
          47.36652173145511,
          47.36742107354797,
          47.36832041539295,
          47.36921975698984,
          47.37011909833839,
          47.371018439438394,
          47.371917780289614,
          47.37281712089183,
          47.37371646124486,
          47.374615801348384,
          47.375515141202285,
          47.37641448080632,
          47.36560997735488,
          47.36650931948804,
          47.36740866137351,
          47.36830800301109,
          47.369207344400536,
          47.37010668554164,
          47.3710060264342,
          47.37190536707797,
          47.37280470747275,
          47.37370404761829,
          47.37460338751438,
          47.3755027271608,
          47.37640206655735,
          47.367396234015445,
          47.368295575445316,
          47.36919491662709,
          47.37009425756055,
          47.3709935982454,
          47.37189293868144,
          47.372792278868495,
          47.37369161880635,
          47.37459095849471,
          47.37549029793339,
          47.37638963712221,
          47.377288976060925,
          47.36468576632122,
          47.36558510828622,
          47.36828313269569,
          47.36918247366956,
          47.37008181439503,
          47.37098115487194,
          47.371880495100044,
          47.37277983507913,
          47.37367917480902,
          47.374578514289375,
          47.37547785352011,
          47.37637719250093,
          47.377276531231644,
          47.36647199248673,
          47.367371333748416,
          47.36917001552788,
          47.370069356045185,
          47.37096869631388,
          47.371868036333794,
          47.37276737610468,
          47.37366671562629,
          47.37456605489845,
          47.376364732693546,
          47.37726407121597,
          47.365560178485275,
          47.36645951978628,
          47.36735886083958,
          47.369157542202146,
          47.37005688251101,
          47.37095622257124,
          47.37185556238264,
          47.372754901945086,
          47.373654241258244,
          47.374553580321944,
          47.375452919135945,
          47.3763522577,
          47.37725159601394,
          47.36554769081017,
          47.36644703190254,
          47.36734637274714,
          47.36824571334377,
          47.37004439379246,
          47.370943733644005,
          47.371843073246744,
          47.37274241260043,
          47.37364175170487,
          47.374541090559774,
          47.37544042916505,
          47.376339767520385,
          47.37723910562555,
          47.36553518795204,
          47.36733386947113,
          47.36823320985885,
          47.36913254999843,
          47.370031889889646,
          47.371830568925986,
          47.37272990807069,
          47.37362924696613,
          47.374528585612076,
          47.37542792400835,
          47.37632726215467,
          47.365522669910895,
          47.36642201058509,
          47.36732135101163,
          47.368220691190146,
          47.369120031120524,
          47.370019370802524,
          47.37181804942038,
          47.37361672704209,
          47.37451606547879,
          47.366409477151514,
          47.36730881736855,
          47.36820815733763,
          47.36910749705854,
          47.37000683653108,
          47.372704853456035,
          47.367296268542006,
          47.36819560830137,
          47.369094947812584,
          47.36999428707539,
          47.37269230337114,
          47.3690823833826,
          47.36998172243545,
          47.37178039979494,
          47.372679738101255,
          47.37357907615821
         ],
         "lon": [
          8.517013529215962,
          8.517031722795334,
          8.517049916990924,
          8.517068111802763,
          8.518282706200107,
          8.518300920276179,
          8.518319134969111,
          8.51833735027895,
          8.518355566205717,
          8.518373782749459,
          8.518391999910206,
          8.518410217687997,
          8.518428436082866,
          8.519588223805046,
          8.519606459608621,
          8.51962469602978,
          8.519642933068559,
          8.519661170724998,
          8.519679408999126,
          8.51969764789098,
          8.519715887400602,
          8.519734127528025,
          8.519752368273279,
          8.51977060963641,
          8.52089369672211,
          8.520911954251677,
          8.520930212399547,
          8.52094847116576,
          8.520966730550349,
          8.520984990553352,
          8.521003251174806,
          8.521021512414743,
          8.521039774273198,
          8.521058036750214,
          8.521076299845822,
          8.521094563560055,
          8.521112827892958,
          8.52221740420693,
          8.52223568408,
          8.52225396457213,
          8.52227224568336,
          8.522290527413725,
          8.522308809763258,
          8.522327092731999,
          8.52234537631998,
          8.522363660527239,
          8.522381945353809,
          8.522400230799734,
          8.522418516865041,
          8.52243680354977,
          8.523577716125617,
          8.52359601958183,
          8.523614323657931,
          8.523632628353958,
          8.52365093366995,
          8.52366923960594,
          8.523687546161964,
          8.52370585333806,
          8.523724161134256,
          8.523742469550601,
          8.523760778587121,
          8.52377908824386,
          8.524846493379298,
          8.524864817318733,
          8.524919792860405,
          8.52493811928221,
          8.524956446324698,
          8.524974773987902,
          8.524993102271864,
          8.525011431176617,
          8.525029760702198,
          8.525048090848639,
          8.525066421615984,
          8.525084753004261,
          8.52510308501351,
          8.526206869847568,
          8.526225217372266,
          8.526261914285804,
          8.526280263674712,
          8.526298613685098,
          8.526316964316996,
          8.526335315570444,
          8.526353667445472,
          8.526372019942123,
          8.526408726800426,
          8.526427081162154,
          8.527512227948376,
          8.527530597195105,
          8.527548967063918,
          8.527585708667955,
          8.527604080403254,
          8.527622452760783,
          8.527640825740578,
          8.527659199342683,
          8.527677573567125,
          8.527695948413946,
          8.52771432388318,
          8.527732699974862,
          8.52775107668903,
          8.528835932330496,
          8.528854323920548,
          8.52887271613344,
          8.528891108969217,
          8.52892789650956,
          8.528946291214195,
          8.528964686541855,
          8.528983082492578,
          8.5290014790664,
          8.529019876263355,
          8.529038274083481,
          8.52905667252681,
          8.529075071593386,
          8.530159636089808,
          8.530196464580087,
          8.530214879760662,
          8.530233295564914,
          8.530251711992877,
          8.53028854672007,
          8.530306965019376,
          8.53032538394254,
          8.530343803489593,
          8.530362223660575,
          8.530380644455517,
          8.531483339225552,
          8.531501775502141,
          8.531520212403091,
          8.531538649928432,
          8.531557088078205,
          8.531575526852444,
          8.531612406274466,
          8.531649288194787,
          8.531667730091904,
          8.532825500356777,
          8.532843959601703,
          8.53286241947177,
          8.532880879967028,
          8.532899341087507,
          8.532954728200655,
          8.53416770617516,
          8.534186188389922,
          8.534204671230627,
          8.534223154697312,
          8.534278608853613,
          8.535528461868246,
          8.535546967681102,
          8.535583981187164,
          8.535602488880448,
          8.535620997200615
         ],
         "marker": {
          "color": "purple",
          "opacity": 0.5,
          "size": 40
         },
         "mode": "markers",
         "showlegend": false,
         "text": [
          320,
          244,
          201,
          90,
          48,
          66,
          314,
          286,
          222,
          207,
          212,
          298,
          181,
          212,
          173,
          39,
          253,
          165,
          262,
          301,
          286,
          114,
          248,
          30,
          321,
          342,
          360,
          182,
          220,
          165,
          223,
          212,
          92,
          39,
          84,
          147,
          153,
          171,
          183,
          309,
          137,
          50,
          330,
          87,
          59,
          79,
          197,
          111,
          109,
          409,
          114,
          192,
          186,
          345,
          110,
          74,
          190,
          245,
          127,
          102,
          395,
          70,
          6,
          32,
          14,
          98,
          356,
          190,
          103,
          205,
          209,
          73,
          99,
          197,
          65,
          81,
          37,
          79,
          257,
          262,
          104,
          205,
          136,
          12,
          17,
          197,
          42,
          116,
          54,
          149,
          170,
          194,
          36,
          204,
          179,
          36,
          167,
          148,
          346,
          8,
          30,
          74,
          53,
          30,
          148,
          146,
          92,
          72,
          221,
          260,
          258,
          180,
          19,
          5,
          21,
          82,
          16,
          3,
          58,
          87,
          195,
          134,
          14,
          80,
          26,
          23,
          73,
          102,
          277,
          3,
          100,
          37,
          40,
          60,
          18,
          21,
          88,
          87,
          50,
          56,
          106,
          17,
          3,
          15,
          10,
          3,
          3,
          4
         ],
         "type": "scattermapbox"
        },
        {
         "fill": "toself",
         "fillcolor": "rgba(10,80,50,0.25)",
         "hoverinfo": "text",
         "lat": [
          47.370571,
          47.370183,
          47.369923,
          47.369475,
          47.369446,
          47.369476,
          47.369775,
          47.371224,
          47.371502,
          47.372038,
          47.372559,
          47.372665,
          47.37269,
          47.3727,
          47.372675,
          47.37082,
          47.370571
         ],
         "line": {
          "color": "rgba(10,80,50,1)",
          "width": 1
         },
         "lon": [
          8.524168,
          8.524235,
          8.524484,
          8.525599,
          8.525857,
          8.528416,
          8.528616,
          8.528689,
          8.528622,
          8.528074,
          8.52724,
          8.526745,
          8.525476,
          8.525261,
          8.525194,
          8.524173,
          8.524168
         ],
         "marker": {
          "color": "blue",
          "size": 1
         },
         "mode": "lines",
         "showlegend": false,
         "text": "3.0min. walking",
         "type": "scattermapbox"
        },
        {
         "fill": "toself",
         "fillcolor": "rgba(10,80,50,0.25)",
         "hoverinfo": "text",
         "lat": [
          47.3707,
          47.368961,
          47.368872,
          47.36881,
          47.368154,
          47.36856,
          47.36863,
          47.368694,
          47.371129,
          47.371133,
          47.371284,
          47.371383,
          47.372576,
          47.373461,
          47.373588,
          47.373768,
          47.373778,
          47.373826,
          47.373774,
          47.373312,
          47.372535,
          47.372052,
          47.371758,
          47.371415,
          47.3707
         ],
         "line": {
          "color": "rgba(10,80,50,1)",
          "width": 1
         },
         "lon": [
          8.522261,
          8.522748,
          8.522851,
          8.52293,
          8.524572,
          8.528744,
          8.52912,
          8.529195,
          8.530722,
          8.530724,
          8.530687,
          8.53062,
          8.529691,
          8.528601,
          8.527759,
          8.526119,
          8.525997,
          8.524514,
          8.524197,
          8.523787,
          8.523148,
          8.522757,
          8.52255,
          8.522384,
          8.522261
         ],
         "marker": {
          "color": "blue",
          "size": 1
         },
         "mode": "lines",
         "showlegend": false,
         "text": "5.0min. walking",
         "type": "scattermapbox"
        },
        {
         "fill": "toself",
         "fillcolor": "rgba(10,80,50,0.25)",
         "hoverinfo": "text",
         "lat": [
          47.370169,
          47.369835,
          47.36799,
          47.367377,
          47.367151,
          47.367116,
          47.367143,
          47.367505,
          47.367306,
          47.367599,
          47.37017,
          47.370483,
          47.370806,
          47.37312,
          47.373351,
          47.374728,
          47.375036,
          47.375167,
          47.375085,
          47.374446,
          47.373153,
          47.372857,
          47.370169
         ],
         "line": {
          "color": "rgba(10,80,50,1)",
          "width": 1
         },
         "lon": [
          8.520318,
          8.520334,
          8.521935,
          8.52295,
          8.523322,
          8.523562,
          8.523801,
          8.525967,
          8.530519,
          8.530729,
          8.532518,
          8.532696,
          8.532599,
          8.531529,
          8.531253,
          8.529056,
          8.527531,
          8.524656,
          8.523748,
          8.522509,
          8.520874,
          8.520669,
          8.520318
         ],
         "marker": {
          "color": "blue",
          "size": 1
         },
         "mode": "lines",
         "showlegend": false,
         "text": "7.0min. walking",
         "type": "scattermapbox"
        },
        {
         "fill": "toself",
         "fillcolor": "rgba(10,80,50,0.25)",
         "hoverinfo": "text",
         "lat": [
          47.370691,
          47.370406,
          47.369865,
          47.368428,
          47.366538,
          47.365262,
          47.365221,
          47.365072,
          47.365164,
          47.365699,
          47.365862,
          47.365832,
          47.365828,
          47.365775,
          47.365781,
          47.3691,
          47.369331,
          47.369762,
          47.370277,
          47.370323,
          47.370526,
          47.370758,
          47.37275,
          47.372983,
          47.374954,
          47.375215,
          47.376521,
          47.377162,
          47.377164,
          47.37716,
          47.377006,
          47.376707,
          47.376493,
          47.376459,
          47.37604,
          47.375197,
          47.375065,
          47.37444,
          47.374101,
          47.370691
         ],
         "line": {
          "color": "rgba(10,80,50,1)",
          "width": 1
         },
         "lon": [
          8.517415,
          8.51748,
          8.517608,
          8.518196,
          8.519724,
          8.521441,
          8.521707,
          8.523178,
          8.524086,
          8.525242,
          8.530624,
          8.531023,
          8.531127,
          8.532459,
          8.532464,
          8.534977,
          8.535091,
          8.535256,
          8.535404,
          8.535413,
          8.535428,
          8.535418,
          8.534494,
          8.534375,
          8.533248,
          8.533,
          8.529953,
          8.525995,
          8.525918,
          8.525869,
          8.52477,
          8.523322,
          8.522423,
          8.522297,
          8.5209,
          8.519585,
          8.519399,
          8.518766,
          8.518577,
          8.517415
         ],
         "marker": {
          "color": "blue",
          "size": 1
         },
         "mode": "lines",
         "showlegend": false,
         "text": "10.0min. walking",
         "type": "scattermapbox"
        },
        {
         "fill": "toself",
         "fillcolor": "rgba(10,80,50,0.25)",
         "hoverinfo": "text",
         "lat": [
          47.367599,
          47.367392,
          47.363309,
          47.363285,
          47.362938,
          47.363523,
          47.363788,
          47.363692,
          47.363685,
          47.36385,
          47.364168,
          47.368358,
          47.369231,
          47.370072,
          47.370987,
          47.372491,
          47.373281,
          47.373473,
          47.37656,
          47.37682,
          47.376897,
          47.378162,
          47.379229,
          47.379228,
          47.379189,
          47.379076,
          47.378743,
          47.37853,
          47.377575,
          47.376841,
          47.375955,
          47.375816,
          47.375633,
          47.370286,
          47.367599
         ],
         "line": {
          "color": "rgba(10,80,50,1)",
          "width": 1
         },
         "lon": [
          8.515397,
          8.515604,
          8.519841,
          8.51991,
          8.522096,
          8.525221,
          8.531126,
          8.531597,
          8.53333,
          8.53365,
          8.533924,
          8.537714,
          8.537912,
          8.53802,
          8.53801,
          8.53769,
          8.53739,
          8.537302,
          8.535319,
          8.535072,
          8.534959,
          8.531715,
          8.527505,
          8.527252,
          8.52691,
          8.52626,
          8.524252,
          8.523133,
          8.519431,
          8.517952,
          8.51644,
          8.516264,
          8.516112,
          8.514138,
          8.515397
         ],
         "marker": {
          "color": "blue",
          "size": 1
         },
         "mode": "lines",
         "showlegend": false,
         "text": "13.0min. walking",
         "type": "scattermapbox"
        },
        {
         "fill": "toself",
         "fillcolor": "rgba(10,80,50,0.25)",
         "hoverinfo": "text",
         "lat": [
          47.375963,
          47.370354,
          47.370278,
          47.36992,
          47.369849,
          47.366354,
          47.366335,
          47.362488,
          47.362071,
          47.362064,
          47.361473,
          47.361544,
          47.361707,
          47.362218,
          47.362256,
          47.362115,
          47.362207,
          47.362423,
          47.363181,
          47.367493,
          47.367581,
          47.36786,
          47.369533,
          47.371019,
          47.371368,
          47.372204,
          47.373982,
          47.374146,
          47.376993,
          47.37783,
          47.378107,
          47.37923,
          47.380534,
          47.380541,
          47.380581,
          47.380554,
          47.380492,
          47.379591,
          47.378516,
          47.376794,
          47.376577,
          47.37625,
          47.375963
         ],
         "line": {
          "color": "rgba(10,80,50,1)",
          "width": 1
         },
         "lon": [
          8.514179,
          8.512146,
          8.512116,
          8.512157,
          8.512188,
          8.513945,
          8.513973,
          8.518131,
          8.518393,
          8.51841,
          8.522526,
          8.522879,
          8.523474,
          8.525828,
          8.531202,
          8.533652,
          8.534,
          8.534321,
          8.535204,
          8.539166,
          8.539232,
          8.539326,
          8.539788,
          8.540127,
          8.540073,
          8.539814,
          8.539025,
          8.538938,
          8.537083,
          8.536538,
          8.536308,
          8.533264,
          8.528403,
          8.528371,
          8.527951,
          8.527528,
          8.526587,
          8.521936,
          8.517633,
          8.514755,
          8.514385,
          8.514234,
          8.514179
         ],
         "marker": {
          "color": "blue",
          "size": 1
         },
         "mode": "lines",
         "showlegend": false,
         "text": "15.0min. walking",
         "type": "scattermapbox"
        },
        {
         "hoverinfo": "text",
         "hovertemplate": "%{text}<extra></extra>",
         "lat": [
          47.37308059999999,
          47.372212,
          47.37325389999999,
          47.3697955,
          47.37308059999999,
          47.3729916,
          47.3746201,
          47.3702558,
          47.37503,
          47.3738896,
          47.3745917,
          47.372212,
          47.37325389999999,
          47.3707089,
          47.37308059999999,
          47.3719693,
          47.3707089,
          47.37308059999999,
          47.3719693,
          47.3719903,
          47.36779,
          47.3762164,
          47.3707089,
          47.37308059999999,
          47.3719693,
          47.372326,
          47.3714016,
          47.372238,
          47.3704197,
          47.3742982,
          47.3745026,
          47.37243050000001,
          47.3715058,
          47.3740496,
          47.3746236,
          47.3700092,
          47.3762083,
          47.372326,
          47.37241530000001,
          47.37135370000001,
          47.3725532,
          47.3712255,
          47.3715757,
          47.37128669999999,
          47.371387,
          47.37123709999999,
          47.37124590000001,
          47.3714016,
          47.3719903,
          47.37328979999999,
          47.373978,
          47.3735471,
          47.3741513,
          47.3707089,
          47.37308059999999,
          47.3719693,
          47.37153920000001,
          47.3739343,
          47.3713613,
          47.3732194,
          47.36949399999999,
          47.3744613,
          47.3744452,
          47.3698542,
          47.3760751,
          47.3760751,
          47.3722368,
          47.3707089,
          47.37308059999999,
          47.3719693,
          47.3713653,
          47.37285110000001,
          47.3734959,
          47.3744557,
          47.3719407,
          47.3748794,
          47.3700773,
          47.376115,
          47.3709277,
          47.3734124,
          47.37494119999999,
          47.3728691,
          47.3707089,
          47.37308059999999,
          47.3719693,
          47.3690952,
          47.3687509,
          47.3703027,
          47.3701106,
          47.3687609,
          47.36853989999999
         ],
         "lon": [
          8.5316546,
          8.528919,
          8.5327505,
          8.5336388,
          8.5316546,
          8.5290354,
          8.529057599999998,
          8.5328951,
          8.528168000000003,
          8.526570099999999,
          8.5321194,
          8.528919,
          8.5327505,
          8.5281015,
          8.5316546,
          8.520916699999999,
          8.5281015,
          8.5316546,
          8.520916699999999,
          8.5231306,
          8.522919000000002,
          8.525981699999999,
          8.5281015,
          8.5316546,
          8.520916699999999,
          8.526844999999998,
          8.523633199999999,
          8.531722,
          8.532638499999997,
          8.5210954,
          8.5210942,
          8.5267232,
          8.524199,
          8.525740400000002,
          8.5243967,
          8.519186399999999,
          8.525730700000002,
          8.526844999999998,
          8.526629,
          8.5244849,
          8.5268935,
          8.5240384,
          8.524050899999999,
          8.5239234,
          8.5237481,
          8.5237001,
          8.523698000000001,
          8.523633199999999,
          8.5231306,
          8.5292677,
          8.525884,
          8.529283800000002,
          8.525621899999999,
          8.5281015,
          8.5316546,
          8.520916699999999,
          8.522427100000002,
          8.527239800000002,
          8.5225566,
          8.530144199999999,
          8.5312725,
          8.5238297,
          8.523511599999999,
          8.533562999999997,
          8.524053799999999,
          8.524053799999999,
          8.519650999999998,
          8.5281015,
          8.5316546,
          8.520916699999999,
          8.525133499999999,
          8.529626100000003,
          8.530623900000002,
          8.524042799999998,
          8.5204601,
          8.523428299999999,
          8.520128399999999,
          8.5242097,
          8.522505400000002,
          8.528401100000002,
          8.5230714,
          8.5211221,
          8.5281015,
          8.5316546,
          8.520916699999999,
          8.5226354,
          8.5309265,
          8.5270797,
          8.527352299999999,
          8.5309294,
          8.521655599999999
         ],
         "marker": {
          "color": [
           "pink",
           "pink",
           "pink",
           "pink",
           "yellow",
           "yellow",
           "yellow",
           "yellow",
           "yellow",
           "yellow",
           "yellow",
           "yellow",
           "yellow",
           "orange",
           "orange",
           "orange",
           "orange",
           "orange",
           "orange",
           "purple",
           "purple",
           "purple",
           "purple",
           "purple",
           "purple",
           "purple",
           "purple",
           "purple",
           "purple",
           "purple",
           "purple",
           "purple",
           "purple",
           "purple",
           "purple",
           "purple",
           "purple",
           "purple",
           "purple",
           "purple",
           "purple",
           "purple",
           "purple",
           "purple",
           "purple",
           "purple",
           "purple",
           "purple",
           "purple",
           "purple",
           "purple",
           "purple",
           "purple",
           "brown",
           "brown",
           "brown",
           "brown",
           "brown",
           "brown",
           "brown",
           "brown",
           "brown",
           "brown",
           "brown",
           "brown",
           "brown",
           "brown",
           "red",
           "red",
           "red",
           "red",
           "red",
           "red",
           "red",
           "red",
           "red",
           "red",
           "red",
           "red",
           "red",
           "red",
           "cyan",
           "cyan",
           "cyan",
           "cyan",
           "blue",
           "blue",
           "blue",
           "blue",
           "blue",
           "blue"
          ],
          "opacity": 1,
          "size": 10
         },
         "mode": "markers",
         "showlegend": false,
         "text": [
          "<b>Helvetia</b><br><i>bars</i><br>Stauffacherquai 3, Zürich <br><br>Rating: 4.4<br>Nb ratings: 980<br><br><i>Walking time: 8 mins</i> <br><br>",
          "<b>Certo</b><br><i>bars</i><br>Strassburgstrasse 5, Zürich <br><br>Rating: 4.4<br>Nb ratings: 510<br><br><i>Walking time: 5 mins</i> <br><br>",
          "<b>Casino Zürich</b><br><i>bars</i><br>Gessnerallee 3/5, Zürich <br><br>Rating: 3.9<br>Nb ratings: 2334<br><br><i>Walking time: 9 mins</i> <br><br>",
          "<b>2. Akt Sportsbar Zürich</b><br><i>bars</i><br>Selnaustrasse 2, Zürich <br><br>Rating: 4.1<br>Nb ratings: 205<br><br><i>Walking time: 10 mins</i> <br><br>",
          "<b>Helvetia</b><br><i>restaurants</i><br>Stauffacherquai 3, Zürich <br><br>Rating: 4.4<br>Nb ratings: 980<br><br><i>Walking time: 8 mins</i> <br><br>",
          "<b>Masala</b><br><i>restaurants</i><br>Stauffacherstrasse 27, Zürich <br><br>Rating: 4<br>Nb ratings: 546<br><br><i>Walking time: 6 mins</i> <br><br>",
          "<b>Don Leone</b><br><i>restaurants</i><br>Bäckerstrasse 31, Zürich <br><br>Rating: 4.3<br>Nb ratings: 1315<br><br><i>Walking time: 9 mins</i> <br><br>",
          "<b>Nagasui Restaurant & Take Away</b><br><i>restaurants</i><br>Selnaustrasse 16, Zürich <br><br>Rating: 4.2<br>Nb ratings: 438<br><br><i>Walking time: 9 mins</i> <br><br>",
          "<b>Fribourger Fondue Stübli</b><br><i>restaurants</i><br>Rotwandstrasse 38, Zürich <br><br>Rating: 4.5<br>Nb ratings: 917<br><br><i>Walking time: 10 mins</i> <br><br>",
          "<b>Restaurant Le Cèdre - Badenerstrasse</b><br><i>restaurants</i><br>Badenerstrasse 78, Zürich <br><br>Rating: 4.4<br>Nb ratings: 2145<br><br><i>Walking time: 7 mins</i> <br><br>",
          "<b>Bernerhof</b><br><i>restaurants</i><br>Zeughausstrasse 1, Zürich <br><br>Rating: 4.4<br>Nb ratings: 280<br><br><i>Walking time: 10 mins</i> <br><br>",
          "<b>Certo</b><br><i>restaurants</i><br>Strassburgstrasse 5, Zürich <br><br>Rating: 4.4<br>Nb ratings: 510<br><br><i>Walking time: 5 mins</i> <br><br>",
          "<b>Casino Zürich</b><br><i>restaurants</i><br>Gessnerallee 3/5, Zürich <br><br>Rating: 3.9<br>Nb ratings: 2334<br><br><i>Walking time: 9 mins</i> <br><br>",
          "<b>Saint Georges Hotel</b><br><i>kindergarten</i><br>Weberstrasse 11, Zürich <br><br>Rating: 4.2<br>Nb ratings: 481<br><br><i>Walking time: 3 mins</i> <br><br>",
          "<b>Helvetia</b><br><i>kindergarten</i><br>Stauffacherquai 3, Zürich <br><br>Rating: 4.4<br>Nb ratings: 980<br><br><i>Walking time: 8 mins</i> <br><br>",
          "<b>Synagoge Agudas Achim</b><br><i>kindergarten</i><br>Erikastrasse 8, Zürich <br><br>Rating: 4.7<br>Nb ratings: 85<br><br><i>Walking time: 8 mins</i> <br><br>",
          "<b>Saint Georges Hotel</b><br><i>kindergarten</i><br>Weberstrasse 11, Zürich <br><br>Rating: 4.2<br>Nb ratings: 481<br><br><i>Walking time: 3 mins</i> <br><br>",
          "<b>Helvetia</b><br><i>kindergarten</i><br>Stauffacherquai 3, Zürich <br><br>Rating: 4.4<br>Nb ratings: 980<br><br><i>Walking time: 8 mins</i> <br><br>",
          "<b>Synagoge Agudas Achim</b><br><i>kindergarten</i><br>Erikastrasse 8, Zürich <br><br>Rating: 4.7<br>Nb ratings: 85<br><br><i>Walking time: 8 mins</i> <br><br>",
          "<b>Bahnhof Wiedikon</b><br><i>public_transportation</i><br>Switzerland <br><br>Rating: 3.5<br>Nb ratings: 4<br><br><i>Walking time: 5 mins</i> <br><br>",
          "<b>Hertersteg</b><br><i>public_transportation</i><br>Switzerland <br><br>Rating: 3<br>Nb ratings: 2<br><br><i>Walking time: 9 mins</i> <br><br>",
          "<b>Helvetiaplatz</b><br><i>public_transportation</i><br>Helvetiaplatz, Zürich <br><br>Rating: 4.1<br>Nb ratings: 21<br><br><i>Walking time: 10 mins</i> <br><br>",
          "<b>Saint Georges Hotel</b><br><i>public_transportation</i><br>Weberstrasse 11, Zürich <br><br>Rating: 4.2<br>Nb ratings: 481<br><br><i>Walking time: 3 mins</i> <br><br>",
          "<b>Helvetia</b><br><i>public_transportation</i><br>Stauffacherquai 3, Zürich <br><br>Rating: 4.4<br>Nb ratings: 980<br><br><i>Walking time: 8 mins</i> <br><br>",
          "<b>Synagoge Agudas Achim</b><br><i>public_transportation</i><br>Erikastrasse 8, Zürich <br><br>Rating: 4.7<br>Nb ratings: 85<br><br><i>Walking time: 8 mins</i> <br><br>",
          "<b>Werd</b><br><i>public_transportation</i><br>Switzerland <br><br>Rating: No rating available<br>Nb ratings: No ratings available<br><br><i>Walking time: 3 mins</i> <br><br>",
          "<b>Zürich Wiedikon</b><br><i>public_transportation</i><br>Switzerland <br><br>Rating: 4.3<br>Nb ratings: 64<br><br><i>Walking time: 4 mins</i> <br><br>",
          "<b>Zürich Selnau</b><br><i>public_transportation</i><br>Switzerland <br><br>Rating: 3.8<br>Nb ratings: 50<br><br><i>Walking time: 9 mins</i> <br><br>",
          "<b>Zurich Mainstation</b><br><i>public_transportation</i><br>Selnaustrasse 18, Zürich <br><br>Rating: 4.5<br>Nb ratings: 25<br><br><i>Walking time: 9 mins</i> <br><br>",
          "<b>Zürich,Kalkbreite/Bhf.Wiedikon</b><br><i>public_transportation</i><br>Switzerland <br><br>Rating: No rating available<br>Nb ratings: No ratings available<br><br><i>Walking time: 10 mins</i> <br><br>",
          "<b>Kalkbreite/Bhf. Wiedikon</b><br><i>public_transportation</i><br>Switzerland <br><br>Rating: 4<br>Nb ratings: 28<br><br><i>Walking time: 10 mins</i> <br><br>",
          "<b>Werd</b><br><i>public_transportation</i><br>Switzerland <br><br>Rating: No rating available<br>Nb ratings: No ratings available<br><br><i>Walking time: 3 mins</i> <br><br>",
          "<b>Bahnhof Wiedikon</b><br><i>public_transportation</i><br>Switzerland <br><br>Rating: No rating available<br>Nb ratings: No ratings available<br><br><i>Walking time: 3 mins</i> <br><br>",
          "<b>Bezirksgebäude</b><br><i>public_transportation</i><br>Switzerland <br><br>Rating: No rating available<br>Nb ratings: No ratings available<br><br><i>Walking time: 6 mins</i> <br><br>",
          "<b>Kernstrasse</b><br><i>public_transportation</i><br>Switzerland <br><br>Rating: 1<br>Nb ratings: 1<br><br><i>Walking time: 8 mins</i> <br><br>",
          "<b>Schmiede Wiedikon</b><br><i>public_transportation</i><br>Switzerland <br><br>Rating: No rating available<br>Nb ratings: No ratings available<br><br><i>Walking time: 10 mins</i> <br><br>",
          "<b>Helvetiaplatz</b><br><i>public_transportation</i><br>Switzerland <br><br>Rating: No rating available<br>Nb ratings: No ratings available<br><br><i>Walking time: 10 mins</i> <br><br>",
          "<b>Werd</b><br><i>public_transportation</i><br>Switzerland <br><br>Rating: No rating available<br>Nb ratings: No ratings available<br><br><i>Walking time: 3 mins</i> <br><br>",
          "<b>Werd</b><br><i>public_transportation</i><br>Zürich <br><br>Rating: 4.7<br>Nb ratings: 3<br><br><i>Walking time: 3 mins</i> <br><br>",
          "<b>Bahnhof Wiedikon</b><br><i>public_transportation</i><br>Switzerland <br><br>Rating: No rating available<br>Nb ratings: No ratings available<br><br><i>Walking time: 3 mins</i> <br><br>",
          "<b>Werd</b><br><i>public_transportation</i><br>Zürich <br><br>Rating: 5<br>Nb ratings: 3<br><br><i>Walking time: 3 mins</i> <br><br>",
          "<b>Bahnhof Wiedikon</b><br><i>public_transportation</i><br>Switzerland <br><br>Rating: 4.5<br>Nb ratings: 2<br><br><i>Walking time: 3 mins</i> <br><br>",
          "<b>Bahnhof Wiedikon</b><br><i>public_transportation</i><br>Switzerland <br><br>Rating: 4<br>Nb ratings: 6<br><br><i>Walking time: 4 mins</i> <br><br>",
          "<b>Bahnhof Wiedikon</b><br><i>public_transportation</i><br>Switzerland <br><br>Rating: 4.3<br>Nb ratings: 16<br><br><i>Walking time: 4 mins</i> <br><br>",
          "<b>Bahnhof Wiedikon</b><br><i>public_transportation</i><br>Switzerland <br><br>Rating: 3<br>Nb ratings: 1<br><br><i>Walking time: 4 mins</i> <br><br>",
          "<b>Bahnhof Wiedikon</b><br><i>public_transportation</i><br>Switzerland <br><br>Rating: 5<br>Nb ratings: 1<br><br><i>Walking time: 4 mins</i> <br><br>",
          "<b>Bahnhof Wiedikon</b><br><i>public_transportation</i><br>Switzerland <br><br>Rating: 4<br>Nb ratings: 1<br><br><i>Walking time: 4 mins</i> <br><br>",
          "<b>Zürich Wiedikon</b><br><i>public_transportation</i><br>Switzerland <br><br>Rating: 4.3<br>Nb ratings: 64<br><br><i>Walking time: 4 mins</i> <br><br>",
          "<b>Bahnhof Wiedikon</b><br><i>public_transportation</i><br>Switzerland <br><br>Rating: 3.5<br>Nb ratings: 4<br><br><i>Walking time: 5 mins</i> <br><br>",
          "<b>Zürich, Stauffacher</b><br><i>public_transportation</i><br>Zürich <br><br>Rating: No rating available<br>Nb ratings: No ratings available<br><br><i>Walking time: 6 mins</i> <br><br>",
          "<b>Bezirksgebäude</b><br><i>public_transportation</i><br>Switzerland <br><br>Rating: 3.7<br>Nb ratings: 3<br><br><i>Walking time: 6 mins</i> <br><br>",
          "<b>Zürich, Stauffacher</b><br><i>public_transportation</i><br>Zürich <br><br>Rating: 4<br>Nb ratings: 1<br><br><i>Walking time: 7 mins</i> <br><br>",
          "<b>Bezirksgebäude</b><br><i>public_transportation</i><br>Switzerland <br><br>Rating: 4.1<br>Nb ratings: 9<br><br><i>Walking time: 7 mins</i> <br><br>",
          "<b>Saint Georges Hotel</b><br><i>gym_fitness</i><br>Weberstrasse 11, Zürich <br><br>Rating: 4.2<br>Nb ratings: 481<br><br><i>Walking time: 3 mins</i> <br><br>",
          "<b>Helvetia</b><br><i>gym_fitness</i><br>Stauffacherquai 3, Zürich <br><br>Rating: 4.4<br>Nb ratings: 980<br><br><i>Walking time: 8 mins</i> <br><br>",
          "<b>Synagoge Agudas Achim</b><br><i>gym_fitness</i><br>Erikastrasse 8, Zürich <br><br>Rating: 4.7<br>Nb ratings: 85<br><br><i>Walking time: 8 mins</i> <br><br>",
          "<b>Medbase Zurich Wiedikon</b><br><i>gym_fitness</i><br>Seebahnstrasse 89, Zürich <br><br>Rating: 3.2<br>Nb ratings: 198<br><br><i>Walking time: 6 mins</i> <br><br>",
          "<b>Monika Bassi</b><br><i>gym_fitness</i><br>Kanzleistrasse 17, Zürich <br><br>Rating: No rating available<br>Nb ratings: No ratings available<br><br><i>Walking time: 7 mins</i> <br><br>",
          "<b>HT Health Training AG</b><br><i>gym_fitness</i><br>Seebahnstrasse 89, Zürich <br><br>Rating: 5<br>Nb ratings: 1<br><br><i>Walking time: 6 mins</i> <br><br>",
          "<b>Activ Fitness Zürich Stauffacher</b><br><i>gym_fitness</i><br>Badenerstrasse 9, Zürich <br><br>Rating: 3.8<br>Nb ratings: 240<br><br><i>Walking time: 7 mins</i> <br><br>",
          "<b>Mrs. Maria Hobi</b><br><i>gym_fitness</i><br>Gerechtigkeitsgasse 14, Zürich <br><br>Rating: No rating available<br>Nb ratings: No ratings available<br><br><i>Walking time: 10 mins</i> <br><br>",
          "<b>Booster Transform - Studio Forum</b><br><i>gym_fitness</i><br>Badenerstrasse 120, Zürich <br><br>Rating: 4.8<br>Nb ratings: 22<br><br><i>Walking time: 7 mins</i> <br><br>",
          "<b>Activ Fitness Zürich Forum</b><br><i>gym_fitness</i><br>Badenerstrasse 120, Zürich <br><br>Rating: 3.5<br>Nb ratings: 163<br><br><i>Walking time: 8 mins</i> <br><br>",
          "<b>Goodtraining, Heshiki & Co</b><br><i>gym_fitness</i><br>Selnaustrasse 2, Zürich <br><br>Rating: 4.8<br>Nb ratings: 9<br><br><i>Walking time: 10 mins</i> <br><br>",
          "<b>Naam Yoga Zürich @ Gobinde Yoga Studio Kreis 4</b><br><i>gym_fitness</i><br>Kernstrasse 25, Zürich <br><br>Rating: No rating available<br>Nb ratings: No ratings available<br><br><i>Walking time: 10 mins</i> <br><br>",
          "<b>Gobinde Yoga</b><br><i>gym_fitness</i><br>Kernstrasse 25, Zürich <br><br>Rating: 5<br>Nb ratings: 5<br><br><i>Walking time: 10 mins</i> <br><br>",
          "<b>Raum für Yoga</b><br><i>gym_fitness</i><br>Bremgartnerstrasse 18, Zürich <br><br>Rating: 5<br>Nb ratings: 7<br><br><i>Walking time: 10 mins</i> <br><br>",
          "<b>Saint Georges Hotel</b><br><i>grocery_stores_supermarkets</i><br>Weberstrasse 11, Zürich <br><br>Rating: 4.2<br>Nb ratings: 481<br><br><i>Walking time: 3 mins</i> <br><br>",
          "<b>Helvetia</b><br><i>grocery_stores_supermarkets</i><br>Stauffacherquai 3, Zürich <br><br>Rating: 4.4<br>Nb ratings: 980<br><br><i>Walking time: 8 mins</i> <br><br>",
          "<b>Synagoge Agudas Achim</b><br><i>grocery_stores_supermarkets</i><br>Erikastrasse 8, Zürich <br><br>Rating: 4.7<br>Nb ratings: 85<br><br><i>Walking time: 8 mins</i> <br><br>",
          "<b>Coop Pronto Shop Zürich Wiedikon</b><br><i>grocery_stores_supermarkets</i><br>Birmensdorferstrasse 55, Zürich <br><br>Rating: 4.2<br>Nb ratings: 140<br><br><i>Walking time: 2 mins</i> <br><br>",
          "<b>Denner Discount</b><br><i>grocery_stores_supermarkets</i><br>Werdstrasse 36, Zürich <br><br>Rating: 4.2<br>Nb ratings: 299<br><br><i>Walking time: 6 mins</i> <br><br>",
          "<b>Coop Supermarkt Zürich Stauffacher</b><br><i>grocery_stores_supermarkets</i><br>Badenerstrasse 15, Zürich <br><br>Rating: 4.1<br>Nb ratings: 838<br><br><i>Walking time: 8 mins</i> <br><br>",
          "<b>Coop Pronto Shop Zürich Badenerstrasse 120</b><br><i>grocery_stores_supermarkets</i><br>Badenerstrasse 120, Zürich <br><br>Rating: 3.6<br>Nb ratings: 54<br><br><i>Walking time: 7 mins</i> <br><br>",
          "<b>Koscher City - Kosher Supermarket</b><br><i>grocery_stores_supermarkets</i><br>Weststrasse 115, Zürich <br><br>Rating: 4.6<br>Nb ratings: 216<br><br><i>Walking time: 9 mins</i> <br><br>",
          "<b>Denner Express</b><br><i>grocery_stores_supermarkets</i><br>Wengistrasse 7, Zürich <br><br>Rating: 4<br>Nb ratings: 199<br><br><i>Walking time: 9 mins</i> <br><br>",
          "<b>Migros Supermarket Zürich Schmiede Wiedikon</b><br><i>grocery_stores_supermarkets</i><br>Birmensdorferstrasse 140, Zürich <br><br>Rating: 4.2<br>Nb ratings: 756<br><br><i>Walking time: 9 mins</i> <br><br>",
          "<b>Aggarwal AG</b><br><i>grocery_stores_supermarkets</i><br>Kernstrasse 27, Zürich <br><br>Rating: 4.3<br>Nb ratings: 646<br><br><i>Walking time: 10 mins</i> <br><br>",
          "<b>Lian Hua Wiedikon GmbH</b><br><i>grocery_stores_supermarkets</i><br>Birmensdorferstrasse 94, Zürich <br><br>Rating: 4.3<br>Nb ratings: 521<br><br><i>Walking time: 6 mins</i> <br><br>",
          "<b>Coop Pronto Shop Zürich Stauffacher</b><br><i>grocery_stores_supermarkets</i><br>Badenerstrasse 44, Zürich <br><br>Rating: 4.2<br>Nb ratings: 53<br><br><i>Walking time: 7 mins</i> <br><br>",
          "<b>Migros Supermarket Zürich Wengihof</b><br><i>grocery_stores_supermarkets</i><br>Wengistrasse 7, Zürich <br><br>Rating: 4.2<br>Nb ratings: 564<br><br><i>Walking time: 9 mins</i> <br><br>",
          "<b>bp</b><br><i>gas_ev_charging</i><br>Seebahnstrasse 110, Zürich <br><br>Rating: 3.6<br>Nb ratings: 215<br><br><i>Walking time: 8 mins</i> <br><br>",
          "<b>Saint Georges Hotel</b><br><i>gas_ev_charging</i><br>Weberstrasse 11, Zürich <br><br>Rating: 4.2<br>Nb ratings: 481<br><br><i>Walking time: 3 mins</i> <br><br>",
          "<b>Helvetia</b><br><i>gas_ev_charging</i><br>Stauffacherquai 3, Zürich <br><br>Rating: 4.4<br>Nb ratings: 980<br><br><i>Walking time: 8 mins</i> <br><br>",
          "<b>Synagoge Agudas Achim</b><br><i>gas_ev_charging</i><br>Erikastrasse 8, Zürich <br><br>Rating: 4.7<br>Nb ratings: 85<br><br><i>Walking time: 8 mins</i> <br><br>",
          "<b>Schulhaus Aegerten</b><br><i>schools</i><br>Aegertenstrasse 29, Zürich <br><br>Rating: 4.4<br>Nb ratings: 7<br><br><i>Walking time: 6 mins</i> <br><br>",
          "<b>Zurich Business School (UIBS)</b><br><i>schools</i><br>Brandschenkestrasse 38, Zürich <br><br>Rating: 4.6<br>Nb ratings: 7<br><br><i>Walking time: 10 mins</i> <br><br>",
          "<b>Bibi Bachtadze Group AG</b><br><i>schools</i><br>Hallwylstrasse 72, Zürich <br><br>Rating: 4<br>Nb ratings: 2<br><br><i>Walking time: 2 mins</i> <br><br>",
          "<b>Schweizerische Textilfachschule STF</b><br><i>schools</i><br>Hallwylstrasse 71, Zürich <br><br>Rating: 3.4<br>Nb ratings: 19<br><br><i>Walking time: 2 mins</i> <br><br>",
          "<b>European College for Liberal Studies (ECLS), Zurich</b><br><i>schools</i><br>Brandschenkestrasse 38, Zürich <br><br>Rating: No rating available<br>Nb ratings: No ratings available<br><br><i>Walking time: 10 mins</i> <br><br>",
          "<b>Mascha Bisping</b><br><i>schools</i><br>Gotthelfstrasse 37, Zürich <br><br>Rating: No rating available<br>Nb ratings: No ratings available<br><br><i>Walking time: 9 mins</i> <br><br>"
         ],
         "type": "scattermapbox"
        },
        {
         "hoverinfo": "text",
         "lat": [
          47.3711263
         ],
         "lon": [
          8.5265537
         ],
         "marker": {
          "color": "black",
          "opacity": 1,
          "size": 20
         },
         "mode": "markers",
         "showlegend": false,
         "text": "8004 Zürich, Werdgartengasse 4",
         "type": "scattermapbox"
        }
       ],
       "layout": {
        "height": 800,
        "mapbox": {
         "center": {
          "lat": 47.3711263,
          "lon": 8.5265537
         },
         "style": "open-street-map",
         "zoom": 14
        },
        "margin": {
         "b": 0,
         "l": 0,
         "r": 0,
         "t": 0
        },
        "showlegend": false,
        "template": {
         "data": {
          "bar": [
           {
            "error_x": {
             "color": "#2a3f5f"
            },
            "error_y": {
             "color": "#2a3f5f"
            },
            "marker": {
             "line": {
              "color": "#E5ECF6",
              "width": 0.5
             },
             "pattern": {
              "fillmode": "overlay",
              "size": 10,
              "solidity": 0.2
             }
            },
            "type": "bar"
           }
          ],
          "barpolar": [
           {
            "marker": {
             "line": {
              "color": "#E5ECF6",
              "width": 0.5
             },
             "pattern": {
              "fillmode": "overlay",
              "size": 10,
              "solidity": 0.2
             }
            },
            "type": "barpolar"
           }
          ],
          "carpet": [
           {
            "aaxis": {
             "endlinecolor": "#2a3f5f",
             "gridcolor": "white",
             "linecolor": "white",
             "minorgridcolor": "white",
             "startlinecolor": "#2a3f5f"
            },
            "baxis": {
             "endlinecolor": "#2a3f5f",
             "gridcolor": "white",
             "linecolor": "white",
             "minorgridcolor": "white",
             "startlinecolor": "#2a3f5f"
            },
            "type": "carpet"
           }
          ],
          "choropleth": [
           {
            "colorbar": {
             "outlinewidth": 0,
             "ticks": ""
            },
            "type": "choropleth"
           }
          ],
          "contour": [
           {
            "colorbar": {
             "outlinewidth": 0,
             "ticks": ""
            },
            "colorscale": [
             [
              0,
              "#0d0887"
             ],
             [
              0.1111111111111111,
              "#46039f"
             ],
             [
              0.2222222222222222,
              "#7201a8"
             ],
             [
              0.3333333333333333,
              "#9c179e"
             ],
             [
              0.4444444444444444,
              "#bd3786"
             ],
             [
              0.5555555555555556,
              "#d8576b"
             ],
             [
              0.6666666666666666,
              "#ed7953"
             ],
             [
              0.7777777777777778,
              "#fb9f3a"
             ],
             [
              0.8888888888888888,
              "#fdca26"
             ],
             [
              1,
              "#f0f921"
             ]
            ],
            "type": "contour"
           }
          ],
          "contourcarpet": [
           {
            "colorbar": {
             "outlinewidth": 0,
             "ticks": ""
            },
            "type": "contourcarpet"
           }
          ],
          "heatmap": [
           {
            "colorbar": {
             "outlinewidth": 0,
             "ticks": ""
            },
            "colorscale": [
             [
              0,
              "#0d0887"
             ],
             [
              0.1111111111111111,
              "#46039f"
             ],
             [
              0.2222222222222222,
              "#7201a8"
             ],
             [
              0.3333333333333333,
              "#9c179e"
             ],
             [
              0.4444444444444444,
              "#bd3786"
             ],
             [
              0.5555555555555556,
              "#d8576b"
             ],
             [
              0.6666666666666666,
              "#ed7953"
             ],
             [
              0.7777777777777778,
              "#fb9f3a"
             ],
             [
              0.8888888888888888,
              "#fdca26"
             ],
             [
              1,
              "#f0f921"
             ]
            ],
            "type": "heatmap"
           }
          ],
          "heatmapgl": [
           {
            "colorbar": {
             "outlinewidth": 0,
             "ticks": ""
            },
            "colorscale": [
             [
              0,
              "#0d0887"
             ],
             [
              0.1111111111111111,
              "#46039f"
             ],
             [
              0.2222222222222222,
              "#7201a8"
             ],
             [
              0.3333333333333333,
              "#9c179e"
             ],
             [
              0.4444444444444444,
              "#bd3786"
             ],
             [
              0.5555555555555556,
              "#d8576b"
             ],
             [
              0.6666666666666666,
              "#ed7953"
             ],
             [
              0.7777777777777778,
              "#fb9f3a"
             ],
             [
              0.8888888888888888,
              "#fdca26"
             ],
             [
              1,
              "#f0f921"
             ]
            ],
            "type": "heatmapgl"
           }
          ],
          "histogram": [
           {
            "marker": {
             "pattern": {
              "fillmode": "overlay",
              "size": 10,
              "solidity": 0.2
             }
            },
            "type": "histogram"
           }
          ],
          "histogram2d": [
           {
            "colorbar": {
             "outlinewidth": 0,
             "ticks": ""
            },
            "colorscale": [
             [
              0,
              "#0d0887"
             ],
             [
              0.1111111111111111,
              "#46039f"
             ],
             [
              0.2222222222222222,
              "#7201a8"
             ],
             [
              0.3333333333333333,
              "#9c179e"
             ],
             [
              0.4444444444444444,
              "#bd3786"
             ],
             [
              0.5555555555555556,
              "#d8576b"
             ],
             [
              0.6666666666666666,
              "#ed7953"
             ],
             [
              0.7777777777777778,
              "#fb9f3a"
             ],
             [
              0.8888888888888888,
              "#fdca26"
             ],
             [
              1,
              "#f0f921"
             ]
            ],
            "type": "histogram2d"
           }
          ],
          "histogram2dcontour": [
           {
            "colorbar": {
             "outlinewidth": 0,
             "ticks": ""
            },
            "colorscale": [
             [
              0,
              "#0d0887"
             ],
             [
              0.1111111111111111,
              "#46039f"
             ],
             [
              0.2222222222222222,
              "#7201a8"
             ],
             [
              0.3333333333333333,
              "#9c179e"
             ],
             [
              0.4444444444444444,
              "#bd3786"
             ],
             [
              0.5555555555555556,
              "#d8576b"
             ],
             [
              0.6666666666666666,
              "#ed7953"
             ],
             [
              0.7777777777777778,
              "#fb9f3a"
             ],
             [
              0.8888888888888888,
              "#fdca26"
             ],
             [
              1,
              "#f0f921"
             ]
            ],
            "type": "histogram2dcontour"
           }
          ],
          "mesh3d": [
           {
            "colorbar": {
             "outlinewidth": 0,
             "ticks": ""
            },
            "type": "mesh3d"
           }
          ],
          "parcoords": [
           {
            "line": {
             "colorbar": {
              "outlinewidth": 0,
              "ticks": ""
             }
            },
            "type": "parcoords"
           }
          ],
          "pie": [
           {
            "automargin": true,
            "type": "pie"
           }
          ],
          "scatter": [
           {
            "fillpattern": {
             "fillmode": "overlay",
             "size": 10,
             "solidity": 0.2
            },
            "type": "scatter"
           }
          ],
          "scatter3d": [
           {
            "line": {
             "colorbar": {
              "outlinewidth": 0,
              "ticks": ""
             }
            },
            "marker": {
             "colorbar": {
              "outlinewidth": 0,
              "ticks": ""
             }
            },
            "type": "scatter3d"
           }
          ],
          "scattercarpet": [
           {
            "marker": {
             "colorbar": {
              "outlinewidth": 0,
              "ticks": ""
             }
            },
            "type": "scattercarpet"
           }
          ],
          "scattergeo": [
           {
            "marker": {
             "colorbar": {
              "outlinewidth": 0,
              "ticks": ""
             }
            },
            "type": "scattergeo"
           }
          ],
          "scattergl": [
           {
            "marker": {
             "colorbar": {
              "outlinewidth": 0,
              "ticks": ""
             }
            },
            "type": "scattergl"
           }
          ],
          "scattermapbox": [
           {
            "marker": {
             "colorbar": {
              "outlinewidth": 0,
              "ticks": ""
             }
            },
            "type": "scattermapbox"
           }
          ],
          "scatterpolar": [
           {
            "marker": {
             "colorbar": {
              "outlinewidth": 0,
              "ticks": ""
             }
            },
            "type": "scatterpolar"
           }
          ],
          "scatterpolargl": [
           {
            "marker": {
             "colorbar": {
              "outlinewidth": 0,
              "ticks": ""
             }
            },
            "type": "scatterpolargl"
           }
          ],
          "scatterternary": [
           {
            "marker": {
             "colorbar": {
              "outlinewidth": 0,
              "ticks": ""
             }
            },
            "type": "scatterternary"
           }
          ],
          "surface": [
           {
            "colorbar": {
             "outlinewidth": 0,
             "ticks": ""
            },
            "colorscale": [
             [
              0,
              "#0d0887"
             ],
             [
              0.1111111111111111,
              "#46039f"
             ],
             [
              0.2222222222222222,
              "#7201a8"
             ],
             [
              0.3333333333333333,
              "#9c179e"
             ],
             [
              0.4444444444444444,
              "#bd3786"
             ],
             [
              0.5555555555555556,
              "#d8576b"
             ],
             [
              0.6666666666666666,
              "#ed7953"
             ],
             [
              0.7777777777777778,
              "#fb9f3a"
             ],
             [
              0.8888888888888888,
              "#fdca26"
             ],
             [
              1,
              "#f0f921"
             ]
            ],
            "type": "surface"
           }
          ],
          "table": [
           {
            "cells": {
             "fill": {
              "color": "#EBF0F8"
             },
             "line": {
              "color": "white"
             }
            },
            "header": {
             "fill": {
              "color": "#C8D4E3"
             },
             "line": {
              "color": "white"
             }
            },
            "type": "table"
           }
          ]
         },
         "layout": {
          "annotationdefaults": {
           "arrowcolor": "#2a3f5f",
           "arrowhead": 0,
           "arrowwidth": 1
          },
          "autotypenumbers": "strict",
          "coloraxis": {
           "colorbar": {
            "outlinewidth": 0,
            "ticks": ""
           }
          },
          "colorscale": {
           "diverging": [
            [
             0,
             "#8e0152"
            ],
            [
             0.1,
             "#c51b7d"
            ],
            [
             0.2,
             "#de77ae"
            ],
            [
             0.3,
             "#f1b6da"
            ],
            [
             0.4,
             "#fde0ef"
            ],
            [
             0.5,
             "#f7f7f7"
            ],
            [
             0.6,
             "#e6f5d0"
            ],
            [
             0.7,
             "#b8e186"
            ],
            [
             0.8,
             "#7fbc41"
            ],
            [
             0.9,
             "#4d9221"
            ],
            [
             1,
             "#276419"
            ]
           ],
           "sequential": [
            [
             0,
             "#0d0887"
            ],
            [
             0.1111111111111111,
             "#46039f"
            ],
            [
             0.2222222222222222,
             "#7201a8"
            ],
            [
             0.3333333333333333,
             "#9c179e"
            ],
            [
             0.4444444444444444,
             "#bd3786"
            ],
            [
             0.5555555555555556,
             "#d8576b"
            ],
            [
             0.6666666666666666,
             "#ed7953"
            ],
            [
             0.7777777777777778,
             "#fb9f3a"
            ],
            [
             0.8888888888888888,
             "#fdca26"
            ],
            [
             1,
             "#f0f921"
            ]
           ],
           "sequentialminus": [
            [
             0,
             "#0d0887"
            ],
            [
             0.1111111111111111,
             "#46039f"
            ],
            [
             0.2222222222222222,
             "#7201a8"
            ],
            [
             0.3333333333333333,
             "#9c179e"
            ],
            [
             0.4444444444444444,
             "#bd3786"
            ],
            [
             0.5555555555555556,
             "#d8576b"
            ],
            [
             0.6666666666666666,
             "#ed7953"
            ],
            [
             0.7777777777777778,
             "#fb9f3a"
            ],
            [
             0.8888888888888888,
             "#fdca26"
            ],
            [
             1,
             "#f0f921"
            ]
           ]
          },
          "colorway": [
           "#636efa",
           "#EF553B",
           "#00cc96",
           "#ab63fa",
           "#FFA15A",
           "#19d3f3",
           "#FF6692",
           "#B6E880",
           "#FF97FF",
           "#FECB52"
          ],
          "font": {
           "color": "#2a3f5f"
          },
          "geo": {
           "bgcolor": "white",
           "lakecolor": "white",
           "landcolor": "#E5ECF6",
           "showlakes": true,
           "showland": true,
           "subunitcolor": "white"
          },
          "hoverlabel": {
           "align": "left"
          },
          "hovermode": "closest",
          "mapbox": {
           "style": "light"
          },
          "paper_bgcolor": "white",
          "plot_bgcolor": "#E5ECF6",
          "polar": {
           "angularaxis": {
            "gridcolor": "white",
            "linecolor": "white",
            "ticks": ""
           },
           "bgcolor": "#E5ECF6",
           "radialaxis": {
            "gridcolor": "white",
            "linecolor": "white",
            "ticks": ""
           }
          },
          "scene": {
           "xaxis": {
            "backgroundcolor": "#E5ECF6",
            "gridcolor": "white",
            "gridwidth": 2,
            "linecolor": "white",
            "showbackground": true,
            "ticks": "",
            "zerolinecolor": "white"
           },
           "yaxis": {
            "backgroundcolor": "#E5ECF6",
            "gridcolor": "white",
            "gridwidth": 2,
            "linecolor": "white",
            "showbackground": true,
            "ticks": "",
            "zerolinecolor": "white"
           },
           "zaxis": {
            "backgroundcolor": "#E5ECF6",
            "gridcolor": "white",
            "gridwidth": 2,
            "linecolor": "white",
            "showbackground": true,
            "ticks": "",
            "zerolinecolor": "white"
           }
          },
          "shapedefaults": {
           "line": {
            "color": "#2a3f5f"
           }
          },
          "ternary": {
           "aaxis": {
            "gridcolor": "white",
            "linecolor": "white",
            "ticks": ""
           },
           "baxis": {
            "gridcolor": "white",
            "linecolor": "white",
            "ticks": ""
           },
           "bgcolor": "#E5ECF6",
           "caxis": {
            "gridcolor": "white",
            "linecolor": "white",
            "ticks": ""
           }
          },
          "title": {
           "x": 0.05
          },
          "xaxis": {
           "automargin": true,
           "gridcolor": "white",
           "linecolor": "white",
           "ticks": "",
           "title": {
            "standoff": 15
           },
           "zerolinecolor": "white",
           "zerolinewidth": 2
          },
          "yaxis": {
           "automargin": true,
           "gridcolor": "white",
           "linecolor": "white",
           "ticks": "",
           "title": {
            "standoff": 15
           },
           "zerolinecolor": "white",
           "zerolinewidth": 2
          }
         }
        },
        "width": 800
       }
      }
     },
     "metadata": {},
     "output_type": "display_data"
    }
   ],
   "source": [
    "FILE = load_data(FILES[0])\n",
    "base_map = create_base_map(FILE, 800, 800, 14)\n",
    "add_population(base_map, FILE)\n",
    "add_isochrone(base_map, FILE)\n",
    "add_places(base_map, FILE)\n",
    "add_original_address(base_map, FILE)"
   ]
  },
  {
   "cell_type": "code",
   "execution_count": 33,
   "metadata": {},
   "outputs": [
    {
     "data": {
      "application/vnd.plotly.v1+json": {
       "config": {
        "plotlyServerURL": "https://plot.ly"
       },
       "data": [
        {
         "type": "scattermapbox"
        },
        {
         "hoverinfo": "text",
         "hovertemplate": "%{text}<extra></extra>",
         "lat": [
          46.94881263684706,
          46.940717771281705,
          46.947913914188064,
          46.94881343141964,
          46.9497129485101,
          46.94881421092177,
          46.9497137280253,
          46.939819796464484,
          46.94431738765916,
          46.94881497535349,
          46.95061400944492,
          46.93982054569983,
          46.9452176547898,
          46.94611717248194,
          46.947016690033635,
          46.94791620744464,
          46.94881572471473,
          46.944318871186525,
          46.94521838903126,
          46.94611790673576,
          46.94701742429975,
          46.94881645900554,
          46.94971597614687,
          46.94431959034645,
          46.94521910820323,
          46.94611862591979,
          46.94701814349591,
          46.94791766093138,
          46.948817178225944,
          46.94521981230578,
          46.946119330034186,
          46.94971739954107,
          46.93982339196167,
          46.94072291053974,
          46.941622428978675,
          46.944320983458624,
          46.94522050133886,
          46.94701953667843,
          46.94881857145529,
          46.94971808863214,
          46.950617605667674,
          46.93982406585722,
          46.94072358444669,
          46.94162310289694,
          46.94252262120793,
          46.94342213937931,
          46.94432165741091,
          46.945221175302486,
          46.94612069305383,
          46.94702021066474,
          46.94791972813497,
          46.949718762652495,
          46.93982472468489,
          46.94072424328539,
          46.9416237617468,
          46.94342279825133,
          46.94432231629402,
          46.945221834196694,
          46.94612135195916,
          46.94702086958115,
          46.947920387062446,
          46.94072488705592,
          46.94252392386106,
          46.94342344205437,
          46.94432296010791,
          46.945222478021414,
          46.946121995794705,
          46.94702151342756,
          46.94792103091969,
          46.94882054827098,
          46.94972006548112,
          46.95061958254992,
          46.941625034241056,
          46.94252455258458,
          46.94342407078849,
          46.94432358885259,
          46.94522310677673,
          46.94612262456059,
          46.94702214220402,
          46.947921659706786,
          46.948821177068645,
          46.94972069428936,
          46.943424684453625,
          46.9443242025281,
          46.94522372046258,
          46.94702275591055,
          46.94792227342366
         ],
         "lon": [
          7.369670736199441,
          7.3709946343387776,
          7.370985441462481,
          7.370984292178643,
          7.370983142856062,
          7.372297848196583,
          7.372296720881577,
          7.373622455277557,
          7.373616930230739,
          7.373611404252528,
          7.373609193600394,
          7.374935791335543,
          7.37492929317989,
          7.37492821002614,
          7.374927126835864,
          7.374926043609063,
          7.374924960345738,
          7.376243822400025,
          7.376242761286686,
          7.376241700137563,
          7.376240638952656,
          7.376238516475474,
          7.376237455183199,
          7.377557268538709,
          7.377556229429265,
          7.377555190284772,
          7.377554151105234,
          7.377553111890643,
          7.377552072641004,
          7.378869697606889,
          7.378868680467029,
          7.378864611564471,
          7.380189135925205,
          7.380188140991385,
          7.380187146024003,
          7.380184160920469,
          7.38018316581882,
          7.380181175514803,
          7.380179185076484,
          7.380178189806956,
          7.380177194503844,
          7.38150247215836,
          7.381501499224757,
          7.3815005262583275,
          7.381499553259071,
          7.381498580226987,
          7.381497607162074,
          7.38149663406432,
          7.381495660933738,
          7.381494687770316,
          7.3814937145740585,
          7.381491768083021,
          7.382815808424338,
          7.382814857490953,
          7.382813906525477,
          7.3828120044982555,
          7.382811053436506,
          7.382810102342658,
          7.3828091512167155,
          7.3828082000586726,
          7.382807248868527,
          7.384128215789234,
          7.384126357828844,
          7.384125428801618,
          7.384124499743035,
          7.384123570653091,
          7.38412264153179,
          7.384121712379126,
          7.384120783195097,
          7.384119853979703,
          7.384118924732939,
          7.384117995454808,
          7.385440667155308,
          7.385439760161132,
          7.385438853136338,
          7.38543794608092,
          7.385437038994883,
          7.385436131878229,
          7.385435224730942,
          7.38543431755303,
          7.385433410344491,
          7.385432503105321,
          7.386752277501673,
          7.386751392449429,
          7.386750507367299,
          7.386748737113385,
          7.386747851941593
         ],
         "marker": {
          "color": "purple",
          "opacity": 0.5,
          "size": 40
         },
         "mode": "markers",
         "showlegend": false,
         "text": [
          21,
          3,
          39,
          92,
          3,
          22,
          61,
          11,
          4,
          171,
          3,
          3,
          34,
          102,
          39,
          89,
          290,
          63,
          135,
          129,
          111,
          207,
          357,
          46,
          167,
          131,
          204,
          108,
          459,
          183,
          25,
          335,
          3,
          19,
          14,
          63,
          119,
          5,
          217,
          176,
          133,
          54,
          37,
          43,
          13,
          5,
          76,
          72,
          6,
          5,
          3,
          251,
          69,
          79,
          111,
          9,
          35,
          24,
          9,
          8,
          3,
          99,
          17,
          58,
          53,
          137,
          3,
          114,
          172,
          177,
          53,
          77,
          14,
          52,
          61,
          105,
          53,
          50,
          290,
          19,
          390,
          99,
          47,
          79,
          432,
          253,
          207
         ],
         "type": "scattermapbox"
        },
        {
         "fill": "toself",
         "fillcolor": "rgba(10,80,50,0.25)",
         "hoverinfo": "text",
         "lat": [
          46.944652,
          46.944376,
          46.944444,
          46.944513,
          46.945069,
          46.945426,
          46.946941,
          46.946995,
          46.94742,
          46.947762,
          46.947764,
          46.947607,
          46.946336,
          46.944652
         ],
         "line": {
          "color": "rgba(10,80,50,1)",
          "width": 1
         },
         "lon": [
          7.375407,
          7.375723,
          7.37623,
          7.376736,
          7.380254,
          7.38021,
          7.379865,
          7.379837,
          7.378468,
          7.377248,
          7.377242,
          7.376725,
          7.375249,
          7.375407
         ],
         "marker": {
          "color": "blue",
          "size": 1
         },
         "mode": "lines",
         "showlegend": false,
         "text": "3.0min. walking",
         "type": "scattermapbox"
        },
        {
         "fill": "toself",
         "fillcolor": "rgba(10,80,50,0.25)",
         "hoverinfo": "text",
         "lat": [
          46.944026,
          46.943677,
          46.943587,
          46.944001,
          46.945251,
          46.945336,
          46.945604,
          46.946804,
          46.947151,
          46.948068,
          46.948987,
          46.94904,
          46.949013,
          46.948826,
          46.948497,
          46.94745,
          46.944026
         ],
         "line": {
          "color": "rgba(10,80,50,1)",
          "width": 1
         },
         "lon": [
          7.37373,
          7.373816,
          7.374448,
          7.376476,
          7.382213,
          7.382318,
          7.382283,
          7.382054,
          7.381958,
          7.38118,
          7.377098,
          7.376807,
          7.376603,
          7.375932,
          7.375238,
          7.374614,
          7.37373
         ],
         "marker": {
          "color": "blue",
          "size": 1
         },
         "mode": "lines",
         "showlegend": false,
         "text": "5.0min. walking",
         "type": "scattermapbox"
        },
        {
         "fill": "toself",
         "fillcolor": "rgba(10,80,50,0.25)",
         "hoverinfo": "text",
         "lat": [
          46.94352,
          46.943171,
          46.943587,
          46.944001,
          46.944324,
          46.944338,
          46.944378,
          46.944693,
          46.944729,
          46.946432,
          46.948692,
          46.948916,
          46.949567,
          46.94956,
          46.949303,
          46.948469,
          46.947962,
          46.947648,
          46.94352
         ],
         "line": {
          "color": "rgba(10,80,50,1)",
          "width": 1
         },
         "lon": [
          7.371663,
          7.371749,
          7.374448,
          7.376476,
          7.378265,
          7.383288,
          7.383919,
          7.384094,
          7.384109,
          7.384074,
          7.382847,
          7.382337,
          7.37803,
          7.377962,
          7.376793,
          7.373823,
          7.373159,
          7.373044,
          7.371663
         ],
         "marker": {
          "color": "blue",
          "size": 1
         },
         "mode": "lines",
         "showlegend": false,
         "text": "7.0min. walking",
         "type": "scattermapbox"
        },
        {
         "fill": "toself",
         "fillcolor": "rgba(10,80,50,0.25)",
         "hoverinfo": "text",
         "lat": [
          46.942603,
          46.941641,
          46.941626,
          46.943587,
          46.943303,
          46.942568,
          46.942295,
          46.94296,
          46.942988,
          46.9432,
          46.946543,
          46.946902,
          46.949092,
          46.949201,
          46.950535,
          46.950721,
          46.95066,
          46.951072,
          46.950663,
          46.947574,
          46.942962,
          46.942603
         ],
         "line": {
          "color": "rgba(10,80,50,1)",
          "width": 1
         },
         "lon": [
          7.368531,
          7.369802,
          7.370161,
          7.374448,
          7.379835,
          7.381523,
          7.382005,
          7.386562,
          7.386596,
          7.386787,
          7.387325,
          7.38731,
          7.3859,
          7.385829,
          7.384433,
          7.384125,
          7.380791,
          7.375716,
          7.37508,
          7.370343,
          7.368562,
          7.368531
         ],
         "marker": {
          "color": "blue",
          "size": 1
         },
         "mode": "lines",
         "showlegend": false,
         "text": "10.0min. walking",
         "type": "scattermapbox"
        },
        {
         "fill": "toself",
         "fillcolor": "rgba(10,80,50,0.25)",
         "hoverinfo": "text",
         "lat": [
          46.943892,
          46.942453,
          46.939893,
          46.939592,
          46.939607,
          46.939644,
          46.939806,
          46.943587,
          46.941909,
          46.940197,
          46.940232,
          46.940832,
          46.941899,
          46.942021,
          46.942097,
          46.946894,
          46.947251,
          46.949221,
          46.950443,
          46.952761,
          46.952423,
          46.952437,
          46.951504,
          46.950056,
          46.949415,
          46.949324,
          46.947815,
          46.94425,
          46.943892
         ],
         "line": {
          "color": "rgba(10,80,50,1)",
          "width": 1
         },
         "lon": [
          7.365179,
          7.365708,
          7.369281,
          7.369715,
          7.369843,
          7.369984,
          7.370004,
          7.374448,
          7.377716,
          7.380965,
          7.381323,
          7.384523,
          7.389076,
          7.389487,
          7.389611,
          7.3905,
          7.390455,
          7.388891,
          7.387699,
          7.384968,
          7.380426,
          7.377728,
          7.375638,
          7.372583,
          7.369852,
          7.36968,
          7.36727,
          7.365211,
          7.365179
         ],
         "marker": {
          "color": "blue",
          "size": 1
         },
         "mode": "lines",
         "showlegend": false,
         "text": "13.0min. walking",
         "type": "scattermapbox"
        },
        {
         "fill": "toself",
         "fillcolor": "rgba(10,80,50,0.25)",
         "hoverinfo": "text",
         "lat": [
          46.944091,
          46.942498,
          46.941487,
          46.939946,
          46.938251,
          46.938219,
          46.938441,
          46.941083,
          46.941186,
          46.941289,
          46.939041,
          46.938866,
          46.938691,
          46.938975,
          46.939229,
          46.939507,
          46.940531,
          46.941404,
          46.941481,
          46.941496,
          46.941812,
          46.947375,
          46.947453,
          46.947715,
          46.949306,
          46.952358,
          46.953813,
          46.953601,
          46.953595,
          46.951504,
          46.950766,
          46.950901,
          46.947938,
          46.944447,
          46.944091
         ],
         "line": {
          "color": "rgba(10,80,50,1)",
          "width": 1
         },
         "lon": [
          7.3634,
          7.363715,
          7.364982,
          7.36727,
          7.370674,
          7.370799,
          7.371082,
          7.375211,
          7.375518,
          7.375826,
          7.381289,
          7.38135,
          7.381412,
          7.382889,
          7.384134,
          7.385095,
          7.388713,
          7.391434,
          7.391606,
          7.391614,
          7.391648,
          7.392309,
          7.39229,
          7.392192,
          7.391061,
          7.388189,
          7.386469,
          7.380847,
          7.378006,
          7.375638,
          7.369766,
          7.369541,
          7.365082,
          7.363451,
          7.3634
         ],
         "marker": {
          "color": "blue",
          "size": 1
         },
         "mode": "lines",
         "showlegend": false,
         "text": "15.0min. walking",
         "type": "scattermapbox"
        },
        {
         "hoverinfo": "text",
         "hovertemplate": "%{text}<extra></extra>",
         "lat": [
          46.94422089999999,
          46.9441459,
          46.94560370000001,
          46.9440552,
          46.9438234,
          46.94422089999999,
          46.94528149999999,
          46.9440986,
          46.9441459,
          46.9443221,
          46.94658310000001,
          46.94466329999999,
          46.94580029999999,
          46.9445057,
          46.94830229999999,
          46.9484438,
          46.9441341,
          46.9438764,
          46.9438764,
          46.9438764,
          46.94384099999999,
          46.94736349999999,
          46.947532,
          46.94799339999999,
          46.9441697,
          46.9484438,
          46.94390129999999,
          46.945417,
          46.9438234,
          46.94379980000001,
          46.9465221,
          46.944454,
          46.9454766,
          46.9457307,
          46.9441697,
          46.9484438,
          46.94390129999999,
          46.945417,
          46.9438234,
          46.94379980000001,
          46.9465221,
          46.944454,
          46.9454766,
          46.9457307,
          46.9441697,
          46.9484438,
          46.94390129999999,
          46.945417,
          46.9438234,
          46.94379980000001,
          46.9465221,
          46.944454,
          46.9454766,
          46.9457307,
          46.94401860000001,
          46.9443035,
          46.946236,
          46.94401860000001,
          46.944417,
          46.94781,
          46.94419000000001,
          46.94715,
          46.948658,
          46.94725,
          46.94448,
          46.94443,
          46.9441697,
          46.9484438,
          46.94390129999999,
          46.945417,
          46.9438234,
          46.94379980000001,
          46.9465221,
          46.944454,
          46.9454766,
          46.9457307,
          46.945417,
          46.94562020000001,
          46.9456202,
          46.9460213,
          46.9441697,
          46.9484438,
          46.94390129999999,
          46.945417,
          46.9438234,
          46.94379980000001,
          46.9465221,
          46.944454,
          46.9454766,
          46.9457307,
          46.9484438,
          46.947532,
          46.9481836,
          46.943676,
          46.9481137,
          46.9449134,
          46.946403,
          46.94838,
          46.9465221,
          46.94347570000001,
          46.9441697,
          46.9484438,
          46.94390129999999,
          46.945417,
          46.9438234,
          46.94379980000001,
          46.9465221,
          46.944454,
          46.9454766,
          46.9457307,
          46.94777620000001,
          46.9463611,
          46.94658310000001
         ],
         "lon": [
          7.374219699999998,
          7.3725334,
          7.3733551,
          7.372340099999999,
          7.372979399999998,
          7.374219699999998,
          7.375089500000001,
          7.372944300000001,
          7.3725334,
          7.373212100000001,
          7.380168800000001,
          7.3747544,
          7.3740809,
          7.3743444,
          7.3772185,
          7.377349499999998,
          7.3734264,
          7.373183999999999,
          7.373183999999999,
          7.373183999999999,
          7.372433999999999,
          7.3831862,
          7.383285000000002,
          7.383159599999999,
          7.374079000000001,
          7.377349499999998,
          7.372142299999999,
          7.372935,
          7.372979399999998,
          7.385067300000001,
          7.3849998,
          7.383762399999999,
          7.373687,
          7.373775299999999,
          7.374079000000001,
          7.377349499999998,
          7.372142299999999,
          7.372935,
          7.372979399999998,
          7.385067300000001,
          7.3849998,
          7.383762399999999,
          7.373687,
          7.373775299999999,
          7.374079000000001,
          7.377349499999998,
          7.372142299999999,
          7.372935,
          7.372979399999998,
          7.385067300000001,
          7.3849998,
          7.383762399999999,
          7.373687,
          7.373775299999999,
          7.3755054,
          7.375048199999998,
          7.375111,
          7.3755054,
          7.374981999999999,
          7.377553000000002,
          7.375114399999999,
          7.383809999999999,
          7.382464000000001,
          7.383830000000001,
          7.384189999999998,
          7.384220000000001,
          7.374079000000001,
          7.377349499999998,
          7.372142299999999,
          7.372935,
          7.372979399999998,
          7.385067300000001,
          7.3849998,
          7.383762399999999,
          7.373687,
          7.373775299999999,
          7.372935,
          7.383988899999999,
          7.383988999999999,
          7.377317799999999,
          7.374079000000001,
          7.377349499999998,
          7.372142299999999,
          7.372935,
          7.372979399999998,
          7.385067300000001,
          7.3849998,
          7.383762399999999,
          7.373687,
          7.373775299999999,
          7.377349499999998,
          7.383285000000002,
          7.3830847,
          7.3710719,
          7.3831069,
          7.374808,
          7.384919299999999,
          7.3773,
          7.3849998,
          7.3711076,
          7.374079000000001,
          7.377349499999998,
          7.372142299999999,
          7.372935,
          7.372979399999998,
          7.385067300000001,
          7.3849998,
          7.383762399999999,
          7.373687,
          7.373775299999999,
          7.3789465,
          7.3819053,
          7.380168800000001
         ],
         "marker": {
          "color": [
           "pink",
           "pink",
           "pink",
           "pink",
           "yellow",
           "yellow",
           "yellow",
           "yellow",
           "yellow",
           "yellow",
           "yellow",
           "yellow",
           "yellow",
           "yellow",
           "yellow",
           "yellow",
           "yellow",
           "yellow",
           "yellow",
           "yellow",
           "yellow",
           "yellow",
           "yellow",
           "yellow",
           "orange",
           "orange",
           "orange",
           "orange",
           "orange",
           "orange",
           "orange",
           "orange",
           "orange",
           "orange",
           "orange",
           "orange",
           "orange",
           "orange",
           "orange",
           "orange",
           "orange",
           "orange",
           "orange",
           "orange",
           "purple",
           "purple",
           "purple",
           "purple",
           "purple",
           "purple",
           "purple",
           "purple",
           "purple",
           "purple",
           "purple",
           "purple",
           "purple",
           "purple",
           "purple",
           "purple",
           "purple",
           "purple",
           "purple",
           "purple",
           "purple",
           "purple",
           "brown",
           "brown",
           "brown",
           "brown",
           "brown",
           "brown",
           "brown",
           "brown",
           "brown",
           "brown",
           "brown",
           "brown",
           "brown",
           "brown",
           "red",
           "red",
           "red",
           "red",
           "red",
           "red",
           "red",
           "red",
           "red",
           "red",
           "red",
           "red",
           "red",
           "red",
           "red",
           "red",
           "red",
           "red",
           "cyan",
           "cyan",
           "cyan",
           "cyan",
           "cyan",
           "cyan",
           "cyan",
           "cyan",
           "cyan",
           "cyan",
           "cyan",
           "cyan",
           "blue",
           "blue",
           "blue"
          ],
          "opacity": 1,
          "size": 10
         },
         "mode": "markers",
         "showlegend": false,
         "text": [
          "<b>Bits & Bites Bern</b><br><i>bars</i><br>Riedbachstrasse 96, Bern <br><br>Rating: 4.4<br>Nb ratings: 127<br><br><i>Walking time: 5 mins</i> <br><br>",
          "<b>SportsBar</b><br><i>bars</i><br>Riedbachstrasse 100, Bern <br><br>Rating: 3.5<br>Nb ratings: 181<br><br><i>Walking time: 7 mins</i> <br><br>",
          "<b>Coffee to go</b><br><i>bars</i><br>Bern <br><br>Rating: No rating available<br>Nb ratings: No ratings available<br><br><i>Walking time: 6 mins</i> <br><br>",
          "<b>Stars and Stripes Bern</b><br><i>bars</i><br>Gilberte-de-Courgenay-Platz 4, Bern <br><br>Rating: 4<br>Nb ratings: 151<br><br><i>Walking time: 7 mins</i> <br><br>",
          "<b>McDonald’s</b><br><i>restaurants</i><br>Riedbachstrasse 4, Bern <br><br>Rating: 3.6<br>Nb ratings: 1037<br><br><i>Walking time: 6 mins</i> <br><br>",
          "<b>Bits & Bites Bern</b><br><i>restaurants</i><br>Riedbachstrasse 96, Bern <br><br>Rating: 4.4<br>Nb ratings: 127<br><br><i>Walking time: 5 mins</i> <br><br>",
          "<b>Le Bistro - Westside</b><br><i>restaurants</i><br>Ramuzstrasse 14-16, Bern <br><br>Rating: 4.5<br>Nb ratings: 2<br><br><i>Walking time: 3 mins</i> <br><br>",
          "<b>Yooji's Westside</b><br><i>restaurants</i><br>Gilberte-de-Courgenay-Platz 4, Bern <br><br>Rating: 4<br>Nb ratings: 271<br><br><i>Walking time: 6 mins</i> <br><br>",
          "<b>SportsBar</b><br><i>restaurants</i><br>Riedbachstrasse 100, Bern <br><br>Rating: 3.5<br>Nb ratings: 181<br><br><i>Walking time: 7 mins</i> <br><br>",
          "<b>Namamen</b><br><i>restaurants</i><br>Gilberte de Courgenay Platz 4, Bern <br><br>Rating: 3.7<br>Nb ratings: 299<br><br><i>Walking time: 6 mins</i> <br><br>",
          "<b>Clubhaus (Buvette) FC Bethlehem</b><br><i>restaurants</i><br>Brünnenstrasse 10, Bern <br><br>Rating: 5<br>Nb ratings: 1<br><br><i>Walking time: 4 mins</i> <br><br>",
          "<b>Migros-Restaurant - Bern - Westside</b><br><i>restaurants</i><br>Gilberte-de-Courgenay-Platz 4, Bern <br><br>Rating: 3.8<br>Nb ratings: 64<br><br><i>Walking time: 4 mins</i> <br><br>",
          "<b>Little Istanbul</b><br><i>restaurants</i><br>Gilberte-de-Courgenay-Platz 4, Bern <br><br>Rating: 4<br>Nb ratings: 294<br><br><i>Walking time: 4 mins</i> <br><br>",
          "<b>Nooch Asian Kitchen Bern Westside</b><br><i>restaurants</i><br>Gilberte-de-Courgenay-Platz 4, Bern <br><br>Rating: 4.7<br>Nb ratings: 1284<br><br><i>Walking time: 5 mins</i> <br><br>",
          "<b>Ristorante Pizzeria PIAZZA</b><br><i>restaurants</i><br>Weiermattstrasse 40, Bern <br><br>Rating: 4.5<br>Nb ratings: 457<br><br><i>Walking time: 9 mins</i> <br><br>",
          "<b>Liana GmbH</b><br><i>restaurants</i><br>Weiermattstrasse 40, Bern <br><br>Rating: No rating available<br>Nb ratings: No ratings available<br><br><i>Walking time: 9 mins</i> <br><br>",
          "<b>SPIGA Ristorante Westside</b><br><i>restaurants</i><br>Gilberte-de-Courgenay-Platz 4, Bern <br><br>Rating: 4.1<br>Nb ratings: 622<br><br><i>Walking time: 6 mins</i> <br><br>",
          "<b>Waffel Star</b><br><i>restaurants</i><br>Riedbachstrasse 100, Bern <br><br>Rating: 4.1<br>Nb ratings: 263<br><br><i>Walking time: 6 mins</i> <br><br>",
          "<b>Coffee Fellows - Kaffee, Bagels, Frühstück</b><br><i>restaurants</i><br>Riedbachstrasse 100, Bern <br><br>Rating: 3.8<br>Nb ratings: 101<br><br><i>Walking time: 6 mins</i> <br><br>",
          "<b>Subway</b><br><i>restaurants</i><br>Riedbachstrasse 100, Bern <br><br>Rating: 4.2<br>Nb ratings: 106<br><br><i>Walking time: 6 mins</i> <br><br>",
          "<b>Tres Amigos Bern</b><br><i>restaurants</i><br>Gilberte-de-Courgenay-Platz 4, Bern <br><br>Rating: 4.2<br>Nb ratings: 777<br><br><i>Walking time: 7 mins</i> <br><br>",
          "<b>k kiosk</b><br><i>restaurants</i><br>Riedbachstrasse 10, Bern <br><br>Rating: 3<br>Nb ratings: 2<br><br><i>Walking time: 7 mins</i> <br><br>",
          "<b>Migros-Restaurant - Bern - Bethlehem</b><br><i>restaurants</i><br>Riedbachstrasse 10, Bern <br><br>Rating: 4<br>Nb ratings: 112<br><br><i>Walking time: 9 mins</i> <br><br>",
          "<b>Caffé Bar da Toni</b><br><i>restaurants</i><br>Riedbachstrasse 8, Bern <br><br>Rating: 3.5<br>Nb ratings: 4<br><br><i>Walking time: 9 mins</i> <br><br>",
          "<b>Holiday Inn Bern - Westside, an IHG Hotel</b><br><i>kindergarten</i><br>Riedbachstrasse 96, Bern <br><br>Rating: 4.3<br>Nb ratings: 1129<br><br><i>Walking time: 5 mins</i> <br><br>",
          "<b>Coop Supermarkt Bern Gäbelbach</b><br><i>kindergarten</i><br>Weiermattstrasse 40, Bern <br><br>Rating: 3.9<br>Nb ratings: 89<br><br><i>Walking time: 9 mins</i> <br><br>",
          "<b>Pathé</b><br><i>kindergarten</i><br>Riedbachstrasse 102, Bern <br><br>Rating: 4.1<br>Nb ratings: 3033<br><br><i>Walking time: 7 mins</i> <br><br>",
          "<b>Bernaqua | Erlebnisbad | Fitness | Wellness</b><br><i>kindergarten</i><br>Riedbachstrasse 98, Bern <br><br>Rating: 4.2<br>Nb ratings: 3303<br><br><i>Walking time: 6 mins</i> <br><br>",
          "<b>McDonald’s</b><br><i>kindergarten</i><br>Riedbachstrasse 4, Bern <br><br>Rating: 3.6<br>Nb ratings: 1037<br><br><i>Walking time: 6 mins</i> <br><br>",
          "<b>qbus Architekten</b><br><i>kindergarten</i><br>Brünnenstrasse 58, Bern <br><br>Rating: No rating available<br>Nb ratings: No ratings available<br><br><i>Walking time: 10 mins</i> <br><br>",
          "<b>Migrol Service</b><br><i>kindergarten</i><br>Fellerstrasse 33, Bern <br><br>Rating: 4.4<br>Nb ratings: 178<br><br><i>Walking time: 10 mins</i> <br><br>",
          "<b>Schulhaus Stapfenacker</b><br><i>kindergarten</i><br>Brünnenstrasse 40, Bern <br><br>Rating: 3.1<br>Nb ratings: 8<br><br><i>Walking time: 8 mins</i> <br><br>",
          "<b>Marc O'Polo</b><br><i>kindergarten</i><br>Gilberte-de-Courgenay-Platz 4, Bern <br><br>Rating: 4.4<br>Nb ratings: 9<br><br><i>Walking time: 6 mins</i> <br><br>",
          "<b>mobilezone</b><br><i>kindergarten</i><br>Gilberte-de-Courgenay-Platz 4, Bern <br><br>Rating: 4.1<br>Nb ratings: 60<br><br><i>Walking time: 6 mins</i> <br><br>",
          "<b>Holiday Inn Bern - Westside, an IHG Hotel</b><br><i>kindergarten</i><br>Riedbachstrasse 96, Bern <br><br>Rating: 4.3<br>Nb ratings: 1129<br><br><i>Walking time: 5 mins</i> <br><br>",
          "<b>Coop Supermarkt Bern Gäbelbach</b><br><i>kindergarten</i><br>Weiermattstrasse 40, Bern <br><br>Rating: 3.9<br>Nb ratings: 89<br><br><i>Walking time: 9 mins</i> <br><br>",
          "<b>Pathé</b><br><i>kindergarten</i><br>Riedbachstrasse 102, Bern <br><br>Rating: 4.1<br>Nb ratings: 3033<br><br><i>Walking time: 7 mins</i> <br><br>",
          "<b>Bernaqua | Erlebnisbad | Fitness | Wellness</b><br><i>kindergarten</i><br>Riedbachstrasse 98, Bern <br><br>Rating: 4.2<br>Nb ratings: 3303<br><br><i>Walking time: 6 mins</i> <br><br>",
          "<b>McDonald’s</b><br><i>kindergarten</i><br>Riedbachstrasse 4, Bern <br><br>Rating: 3.6<br>Nb ratings: 1037<br><br><i>Walking time: 6 mins</i> <br><br>",
          "<b>qbus Architekten</b><br><i>kindergarten</i><br>Brünnenstrasse 58, Bern <br><br>Rating: No rating available<br>Nb ratings: No ratings available<br><br><i>Walking time: 10 mins</i> <br><br>",
          "<b>Migrol Service</b><br><i>kindergarten</i><br>Fellerstrasse 33, Bern <br><br>Rating: 4.4<br>Nb ratings: 178<br><br><i>Walking time: 10 mins</i> <br><br>",
          "<b>Schulhaus Stapfenacker</b><br><i>kindergarten</i><br>Brünnenstrasse 40, Bern <br><br>Rating: 3.1<br>Nb ratings: 8<br><br><i>Walking time: 8 mins</i> <br><br>",
          "<b>Marc O'Polo</b><br><i>kindergarten</i><br>Gilberte-de-Courgenay-Platz 4, Bern <br><br>Rating: 4.4<br>Nb ratings: 9<br><br><i>Walking time: 6 mins</i> <br><br>",
          "<b>mobilezone</b><br><i>kindergarten</i><br>Gilberte-de-Courgenay-Platz 4, Bern <br><br>Rating: 4.1<br>Nb ratings: 60<br><br><i>Walking time: 6 mins</i> <br><br>",
          "<b>Holiday Inn Bern - Westside, an IHG Hotel</b><br><i>public_transportation</i><br>Riedbachstrasse 96, Bern <br><br>Rating: 4.3<br>Nb ratings: 1129<br><br><i>Walking time: 5 mins</i> <br><br>",
          "<b>Coop Supermarkt Bern Gäbelbach</b><br><i>public_transportation</i><br>Weiermattstrasse 40, Bern <br><br>Rating: 3.9<br>Nb ratings: 89<br><br><i>Walking time: 9 mins</i> <br><br>",
          "<b>Pathé</b><br><i>public_transportation</i><br>Riedbachstrasse 102, Bern <br><br>Rating: 4.1<br>Nb ratings: 3033<br><br><i>Walking time: 7 mins</i> <br><br>",
          "<b>Bernaqua | Erlebnisbad | Fitness | Wellness</b><br><i>public_transportation</i><br>Riedbachstrasse 98, Bern <br><br>Rating: 4.2<br>Nb ratings: 3303<br><br><i>Walking time: 6 mins</i> <br><br>",
          "<b>McDonald’s</b><br><i>public_transportation</i><br>Riedbachstrasse 4, Bern <br><br>Rating: 3.6<br>Nb ratings: 1037<br><br><i>Walking time: 6 mins</i> <br><br>",
          "<b>qbus Architekten</b><br><i>public_transportation</i><br>Brünnenstrasse 58, Bern <br><br>Rating: No rating available<br>Nb ratings: No ratings available<br><br><i>Walking time: 10 mins</i> <br><br>",
          "<b>Migrol Service</b><br><i>public_transportation</i><br>Fellerstrasse 33, Bern <br><br>Rating: 4.4<br>Nb ratings: 178<br><br><i>Walking time: 10 mins</i> <br><br>",
          "<b>Schulhaus Stapfenacker</b><br><i>public_transportation</i><br>Brünnenstrasse 40, Bern <br><br>Rating: 3.1<br>Nb ratings: 8<br><br><i>Walking time: 8 mins</i> <br><br>",
          "<b>Marc O'Polo</b><br><i>public_transportation</i><br>Gilberte-de-Courgenay-Platz 4, Bern <br><br>Rating: 4.4<br>Nb ratings: 9<br><br><i>Walking time: 6 mins</i> <br><br>",
          "<b>mobilezone</b><br><i>public_transportation</i><br>Gilberte-de-Courgenay-Platz 4, Bern <br><br>Rating: 4.1<br>Nb ratings: 60<br><br><i>Walking time: 6 mins</i> <br><br>",
          "<b>Bern Brünnen Westside</b><br><i>public_transportation</i><br>Switzerland <br><br>Rating: 4.9<br>Nb ratings: 18<br><br><i>Walking time: 4 mins</i> <br><br>",
          "<b>Bern Brünnen Westside, Bahnhof</b><br><i>public_transportation</i><br>Switzerland <br><br>Rating: No rating available<br>Nb ratings: No ratings available<br><br><i>Walking time: 4 mins</i> <br><br>",
          "<b>Ramuzstrasse</b><br><i>public_transportation</i><br>Switzerland <br><br>Rating: No rating available<br>Nb ratings: No ratings available<br><br><i>Walking time: 4 mins</i> <br><br>",
          "<b>Bern Brünnen Westside</b><br><i>public_transportation</i><br>Switzerland <br><br>Rating: 4.9<br>Nb ratings: 18<br><br><i>Walking time: 4 mins</i> <br><br>",
          "<b>Bern Brünnen Westside, Bahnhof</b><br><i>public_transportation</i><br>Switzerland <br><br>Rating: 4.3<br>Nb ratings: 17<br><br><i>Walking time: 4 mins</i> <br><br>",
          "<b>Gäbelbach</b><br><i>public_transportation</i><br>Switzerland <br><br>Rating: 4.6<br>Nb ratings: 5<br><br><i>Walking time: 3 mins</i> <br><br>",
          "<b>Bern Brünnen Westside, Bahnhof</b><br><i>public_transportation</i><br>Switzerland <br><br>Rating: No rating available<br>Nb ratings: No ratings available<br><br><i>Walking time: 4 mins</i> <br><br>",
          "<b>Riedbachstrasse</b><br><i>public_transportation</i><br>Switzerland <br><br>Rating: No rating available<br>Nb ratings: No ratings available<br><br><i>Walking time: 8 mins</i> <br><br>",
          "<b>Bethlehem b. Bern, Holenacker</b><br><i>public_transportation</i><br>Switzerland <br><br>Rating: 4.6<br>Nb ratings: 5<br><br><i>Walking time: 8 mins</i> <br><br>",
          "<b>Riedbachstrasse</b><br><i>public_transportation</i><br>Switzerland <br><br>Rating: No rating available<br>Nb ratings: No ratings available<br><br><i>Walking time: 8 mins</i> <br><br>",
          "<b>Stapfenacker</b><br><i>public_transportation</i><br>Switzerland <br><br>Rating: 4<br>Nb ratings: 1<br><br><i>Walking time: 8 mins</i> <br><br>",
          "<b>Stapfenacker</b><br><i>public_transportation</i><br>Switzerland <br><br>Rating: 5<br>Nb ratings: 1<br><br><i>Walking time: 8 mins</i> <br><br>",
          "<b>Holiday Inn Bern - Westside, an IHG Hotel</b><br><i>gym_fitness</i><br>Riedbachstrasse 96, Bern <br><br>Rating: 4.3<br>Nb ratings: 1129<br><br><i>Walking time: 5 mins</i> <br><br>",
          "<b>Coop Supermarkt Bern Gäbelbach</b><br><i>gym_fitness</i><br>Weiermattstrasse 40, Bern <br><br>Rating: 3.9<br>Nb ratings: 89<br><br><i>Walking time: 9 mins</i> <br><br>",
          "<b>Pathé</b><br><i>gym_fitness</i><br>Riedbachstrasse 102, Bern <br><br>Rating: 4.1<br>Nb ratings: 3033<br><br><i>Walking time: 7 mins</i> <br><br>",
          "<b>Bernaqua | Erlebnisbad | Fitness | Wellness</b><br><i>gym_fitness</i><br>Riedbachstrasse 98, Bern <br><br>Rating: 4.2<br>Nb ratings: 3303<br><br><i>Walking time: 6 mins</i> <br><br>",
          "<b>McDonald’s</b><br><i>gym_fitness</i><br>Riedbachstrasse 4, Bern <br><br>Rating: 3.6<br>Nb ratings: 1037<br><br><i>Walking time: 6 mins</i> <br><br>",
          "<b>qbus Architekten</b><br><i>gym_fitness</i><br>Brünnenstrasse 58, Bern <br><br>Rating: No rating available<br>Nb ratings: No ratings available<br><br><i>Walking time: 10 mins</i> <br><br>",
          "<b>Migrol Service</b><br><i>gym_fitness</i><br>Fellerstrasse 33, Bern <br><br>Rating: 4.4<br>Nb ratings: 178<br><br><i>Walking time: 10 mins</i> <br><br>",
          "<b>Schulhaus Stapfenacker</b><br><i>gym_fitness</i><br>Brünnenstrasse 40, Bern <br><br>Rating: 3.1<br>Nb ratings: 8<br><br><i>Walking time: 8 mins</i> <br><br>",
          "<b>Marc O'Polo</b><br><i>gym_fitness</i><br>Gilberte-de-Courgenay-Platz 4, Bern <br><br>Rating: 4.4<br>Nb ratings: 9<br><br><i>Walking time: 6 mins</i> <br><br>",
          "<b>mobilezone</b><br><i>gym_fitness</i><br>Gilberte-de-Courgenay-Platz 4, Bern <br><br>Rating: 4.1<br>Nb ratings: 60<br><br><i>Walking time: 6 mins</i> <br><br>",
          "<b>Bernaqua | Erlebnisbad | Fitness | Wellness</b><br><i>gym_fitness</i><br>Riedbachstrasse 98, Bern <br><br>Rating: 4.2<br>Nb ratings: 3303<br><br><i>Walking time: 6 mins</i> <br><br>",
          "<b>Fight 4 Fitness</b><br><i>gym_fitness</i><br>Riedbachstrasse 51, Bern <br><br>Rating: 4<br>Nb ratings: 4<br><br><i>Walking time: 9 mins</i> <br><br>",
          "<b>WingTsun Schule Bern West</b><br><i>gym_fitness</i><br>Riedbachstrasse 51, Bern <br><br>Rating: 5<br>Nb ratings: 4<br><br><i>Walking time: 9 mins</i> <br><br>",
          "<b>Fitness meets Beauty</b><br><i>gym_fitness</i><br>Colombstrasse, Bern <br><br>Rating: No rating available<br>Nb ratings: No ratings available<br><br><i>Walking time: 1 min</i> <br><br>",
          "<b>Holiday Inn Bern - Westside, an IHG Hotel</b><br><i>grocery_stores_supermarkets</i><br>Riedbachstrasse 96, Bern <br><br>Rating: 4.3<br>Nb ratings: 1129<br><br><i>Walking time: 5 mins</i> <br><br>",
          "<b>Coop Supermarkt Bern Gäbelbach</b><br><i>grocery_stores_supermarkets</i><br>Weiermattstrasse 40, Bern <br><br>Rating: 3.9<br>Nb ratings: 89<br><br><i>Walking time: 9 mins</i> <br><br>",
          "<b>Pathé</b><br><i>grocery_stores_supermarkets</i><br>Riedbachstrasse 102, Bern <br><br>Rating: 4.1<br>Nb ratings: 3033<br><br><i>Walking time: 7 mins</i> <br><br>",
          "<b>Bernaqua | Erlebnisbad | Fitness | Wellness</b><br><i>grocery_stores_supermarkets</i><br>Riedbachstrasse 98, Bern <br><br>Rating: 4.2<br>Nb ratings: 3303<br><br><i>Walking time: 6 mins</i> <br><br>",
          "<b>McDonald’s</b><br><i>grocery_stores_supermarkets</i><br>Riedbachstrasse 4, Bern <br><br>Rating: 3.6<br>Nb ratings: 1037<br><br><i>Walking time: 6 mins</i> <br><br>",
          "<b>qbus Architekten</b><br><i>grocery_stores_supermarkets</i><br>Brünnenstrasse 58, Bern <br><br>Rating: No rating available<br>Nb ratings: No ratings available<br><br><i>Walking time: 10 mins</i> <br><br>",
          "<b>Migrol Service</b><br><i>grocery_stores_supermarkets</i><br>Fellerstrasse 33, Bern <br><br>Rating: 4.4<br>Nb ratings: 178<br><br><i>Walking time: 10 mins</i> <br><br>",
          "<b>Schulhaus Stapfenacker</b><br><i>grocery_stores_supermarkets</i><br>Brünnenstrasse 40, Bern <br><br>Rating: 3.1<br>Nb ratings: 8<br><br><i>Walking time: 8 mins</i> <br><br>",
          "<b>Marc O'Polo</b><br><i>grocery_stores_supermarkets</i><br>Gilberte-de-Courgenay-Platz 4, Bern <br><br>Rating: 4.4<br>Nb ratings: 9<br><br><i>Walking time: 6 mins</i> <br><br>",
          "<b>mobilezone</b><br><i>grocery_stores_supermarkets</i><br>Gilberte-de-Courgenay-Platz 4, Bern <br><br>Rating: 4.1<br>Nb ratings: 60<br><br><i>Walking time: 6 mins</i> <br><br>",
          "<b>Coop Supermarkt Bern Gäbelbach</b><br><i>grocery_stores_supermarkets</i><br>Weiermattstrasse 40, Bern <br><br>Rating: 3.9<br>Nb ratings: 89<br><br><i>Walking time: 9 mins</i> <br><br>",
          "<b>Migros-Supermarkt - Bern - Bethlehem</b><br><i>grocery_stores_supermarkets</i><br>Riedbachstrasse 10, Bern <br><br>Rating: 4.2<br>Nb ratings: 520<br><br><i>Walking time: 9 mins</i> <br><br>",
          "<b>Denner Discount</b><br><i>grocery_stores_supermarkets</i><br>Riedbachstrasse 8, Bern <br><br>Rating: 3.9<br>Nb ratings: 95<br><br><i>Walking time: 9 mins</i> <br><br>",
          "<b>migrolino Bern Westside</b><br><i>grocery_stores_supermarkets</i><br>Riedbachstrasse 104, Bern <br><br>Rating: 4.4<br>Nb ratings: 197<br><br><i>Walking time: 9 mins</i> <br><br>",
          "<b>OTTO'S Bern</b><br><i>grocery_stores_supermarkets</i><br>Riedbachstrasse 8, Bern <br><br>Rating: 4.2<br>Nb ratings: 678<br><br><i>Walking time: 9 mins</i> <br><br>",
          "<b>Migros-Supermarkt - Bern - Westside</b><br><i>grocery_stores_supermarkets</i><br>Gilberte-de-Courgenay-Platz 4, Bern <br><br>Rating: 4.4<br>Nb ratings: 718<br><br><i>Walking time: 4 mins</i> <br><br>",
          "<b>migrolino Bern Fellerstrasse</b><br><i>grocery_stores_supermarkets</i><br>Fellerstrasse 33, Bern <br><br>Rating: 4.5<br>Nb ratings: 68<br><br><i>Walking time: 10 mins</i> <br><br>",
          "<b>Lidl Schweiz</b><br><i>grocery_stores_supermarkets</i><br>Weiermattstrasse 40, Bern <br><br>Rating: 4.2<br>Nb ratings: 180<br><br><i>Walking time: 9 mins</i> <br><br>",
          "<b>Migrol Service</b><br><i>gas_ev_charging</i><br>Fellerstrasse 33, Bern <br><br>Rating: 4.4<br>Nb ratings: 178<br><br><i>Walking time: 10 mins</i> <br><br>",
          "<b>Migrol Service mit Shell-Treibstoff</b><br><i>gas_ev_charging</i><br>Riedbachstrasse 104, Bern <br><br>Rating: 4.2<br>Nb ratings: 241<br><br><i>Walking time: 9 mins</i> <br><br>",
          "<b>Holiday Inn Bern - Westside, an IHG Hotel</b><br><i>gas_ev_charging</i><br>Riedbachstrasse 96, Bern <br><br>Rating: 4.3<br>Nb ratings: 1129<br><br><i>Walking time: 5 mins</i> <br><br>",
          "<b>Coop Supermarkt Bern Gäbelbach</b><br><i>gas_ev_charging</i><br>Weiermattstrasse 40, Bern <br><br>Rating: 3.9<br>Nb ratings: 89<br><br><i>Walking time: 9 mins</i> <br><br>",
          "<b>Pathé</b><br><i>gas_ev_charging</i><br>Riedbachstrasse 102, Bern <br><br>Rating: 4.1<br>Nb ratings: 3033<br><br><i>Walking time: 7 mins</i> <br><br>",
          "<b>Bernaqua | Erlebnisbad | Fitness | Wellness</b><br><i>gas_ev_charging</i><br>Riedbachstrasse 98, Bern <br><br>Rating: 4.2<br>Nb ratings: 3303<br><br><i>Walking time: 6 mins</i> <br><br>",
          "<b>McDonald’s</b><br><i>gas_ev_charging</i><br>Riedbachstrasse 4, Bern <br><br>Rating: 3.6<br>Nb ratings: 1037<br><br><i>Walking time: 6 mins</i> <br><br>",
          "<b>qbus Architekten</b><br><i>gas_ev_charging</i><br>Brünnenstrasse 58, Bern <br><br>Rating: No rating available<br>Nb ratings: No ratings available<br><br><i>Walking time: 10 mins</i> <br><br>",
          "<b>Migrol Service</b><br><i>gas_ev_charging</i><br>Fellerstrasse 33, Bern <br><br>Rating: 4.4<br>Nb ratings: 178<br><br><i>Walking time: 10 mins</i> <br><br>",
          "<b>Schulhaus Stapfenacker</b><br><i>gas_ev_charging</i><br>Brünnenstrasse 40, Bern <br><br>Rating: 3.1<br>Nb ratings: 8<br><br><i>Walking time: 8 mins</i> <br><br>",
          "<b>Marc O'Polo</b><br><i>gas_ev_charging</i><br>Gilberte-de-Courgenay-Platz 4, Bern <br><br>Rating: 4.4<br>Nb ratings: 9<br><br><i>Walking time: 6 mins</i> <br><br>",
          "<b>mobilezone</b><br><i>gas_ev_charging</i><br>Gilberte-de-Courgenay-Platz 4, Bern <br><br>Rating: 4.1<br>Nb ratings: 60<br><br><i>Walking time: 6 mins</i> <br><br>",
          "<b>Schulhaus Brünnen</b><br><i>schools</i><br>Billeweg 5, Bern <br><br>Rating: 4<br>Nb ratings: 2<br><br><i>Walking time: 5 mins</i> <br><br>",
          "<b>Schule Brünnenpark</b><br><i>schools</i><br>Brünnenstrasse 15b, Bern <br><br>Rating: 5<br>Nb ratings: 1<br><br><i>Walking time: 6 mins</i> <br><br>",
          "<b>Clubhaus (Buvette) FC Bethlehem</b><br><i>schools</i><br>Brünnenstrasse 10, Bern <br><br>Rating: 5<br>Nb ratings: 1<br><br><i>Walking time: 4 mins</i> <br><br>"
         ],
         "type": "scattermapbox"
        },
        {
         "hoverinfo": "text",
         "lat": [
          46.9455907
         ],
         "lon": [
          7.3777487
         ],
         "marker": {
          "color": "black",
          "opacity": 1,
          "size": 20
         },
         "mode": "markers",
         "showlegend": false,
         "text": "3027 Bern, Colombstrasse 39",
         "type": "scattermapbox"
        }
       ],
       "layout": {
        "height": 800,
        "mapbox": {
         "center": {
          "lat": 46.9455907,
          "lon": 7.3777487
         },
         "style": "open-street-map",
         "zoom": 14
        },
        "margin": {
         "b": 0,
         "l": 0,
         "r": 0,
         "t": 0
        },
        "showlegend": false,
        "template": {
         "data": {
          "bar": [
           {
            "error_x": {
             "color": "#2a3f5f"
            },
            "error_y": {
             "color": "#2a3f5f"
            },
            "marker": {
             "line": {
              "color": "#E5ECF6",
              "width": 0.5
             },
             "pattern": {
              "fillmode": "overlay",
              "size": 10,
              "solidity": 0.2
             }
            },
            "type": "bar"
           }
          ],
          "barpolar": [
           {
            "marker": {
             "line": {
              "color": "#E5ECF6",
              "width": 0.5
             },
             "pattern": {
              "fillmode": "overlay",
              "size": 10,
              "solidity": 0.2
             }
            },
            "type": "barpolar"
           }
          ],
          "carpet": [
           {
            "aaxis": {
             "endlinecolor": "#2a3f5f",
             "gridcolor": "white",
             "linecolor": "white",
             "minorgridcolor": "white",
             "startlinecolor": "#2a3f5f"
            },
            "baxis": {
             "endlinecolor": "#2a3f5f",
             "gridcolor": "white",
             "linecolor": "white",
             "minorgridcolor": "white",
             "startlinecolor": "#2a3f5f"
            },
            "type": "carpet"
           }
          ],
          "choropleth": [
           {
            "colorbar": {
             "outlinewidth": 0,
             "ticks": ""
            },
            "type": "choropleth"
           }
          ],
          "contour": [
           {
            "colorbar": {
             "outlinewidth": 0,
             "ticks": ""
            },
            "colorscale": [
             [
              0,
              "#0d0887"
             ],
             [
              0.1111111111111111,
              "#46039f"
             ],
             [
              0.2222222222222222,
              "#7201a8"
             ],
             [
              0.3333333333333333,
              "#9c179e"
             ],
             [
              0.4444444444444444,
              "#bd3786"
             ],
             [
              0.5555555555555556,
              "#d8576b"
             ],
             [
              0.6666666666666666,
              "#ed7953"
             ],
             [
              0.7777777777777778,
              "#fb9f3a"
             ],
             [
              0.8888888888888888,
              "#fdca26"
             ],
             [
              1,
              "#f0f921"
             ]
            ],
            "type": "contour"
           }
          ],
          "contourcarpet": [
           {
            "colorbar": {
             "outlinewidth": 0,
             "ticks": ""
            },
            "type": "contourcarpet"
           }
          ],
          "heatmap": [
           {
            "colorbar": {
             "outlinewidth": 0,
             "ticks": ""
            },
            "colorscale": [
             [
              0,
              "#0d0887"
             ],
             [
              0.1111111111111111,
              "#46039f"
             ],
             [
              0.2222222222222222,
              "#7201a8"
             ],
             [
              0.3333333333333333,
              "#9c179e"
             ],
             [
              0.4444444444444444,
              "#bd3786"
             ],
             [
              0.5555555555555556,
              "#d8576b"
             ],
             [
              0.6666666666666666,
              "#ed7953"
             ],
             [
              0.7777777777777778,
              "#fb9f3a"
             ],
             [
              0.8888888888888888,
              "#fdca26"
             ],
             [
              1,
              "#f0f921"
             ]
            ],
            "type": "heatmap"
           }
          ],
          "heatmapgl": [
           {
            "colorbar": {
             "outlinewidth": 0,
             "ticks": ""
            },
            "colorscale": [
             [
              0,
              "#0d0887"
             ],
             [
              0.1111111111111111,
              "#46039f"
             ],
             [
              0.2222222222222222,
              "#7201a8"
             ],
             [
              0.3333333333333333,
              "#9c179e"
             ],
             [
              0.4444444444444444,
              "#bd3786"
             ],
             [
              0.5555555555555556,
              "#d8576b"
             ],
             [
              0.6666666666666666,
              "#ed7953"
             ],
             [
              0.7777777777777778,
              "#fb9f3a"
             ],
             [
              0.8888888888888888,
              "#fdca26"
             ],
             [
              1,
              "#f0f921"
             ]
            ],
            "type": "heatmapgl"
           }
          ],
          "histogram": [
           {
            "marker": {
             "pattern": {
              "fillmode": "overlay",
              "size": 10,
              "solidity": 0.2
             }
            },
            "type": "histogram"
           }
          ],
          "histogram2d": [
           {
            "colorbar": {
             "outlinewidth": 0,
             "ticks": ""
            },
            "colorscale": [
             [
              0,
              "#0d0887"
             ],
             [
              0.1111111111111111,
              "#46039f"
             ],
             [
              0.2222222222222222,
              "#7201a8"
             ],
             [
              0.3333333333333333,
              "#9c179e"
             ],
             [
              0.4444444444444444,
              "#bd3786"
             ],
             [
              0.5555555555555556,
              "#d8576b"
             ],
             [
              0.6666666666666666,
              "#ed7953"
             ],
             [
              0.7777777777777778,
              "#fb9f3a"
             ],
             [
              0.8888888888888888,
              "#fdca26"
             ],
             [
              1,
              "#f0f921"
             ]
            ],
            "type": "histogram2d"
           }
          ],
          "histogram2dcontour": [
           {
            "colorbar": {
             "outlinewidth": 0,
             "ticks": ""
            },
            "colorscale": [
             [
              0,
              "#0d0887"
             ],
             [
              0.1111111111111111,
              "#46039f"
             ],
             [
              0.2222222222222222,
              "#7201a8"
             ],
             [
              0.3333333333333333,
              "#9c179e"
             ],
             [
              0.4444444444444444,
              "#bd3786"
             ],
             [
              0.5555555555555556,
              "#d8576b"
             ],
             [
              0.6666666666666666,
              "#ed7953"
             ],
             [
              0.7777777777777778,
              "#fb9f3a"
             ],
             [
              0.8888888888888888,
              "#fdca26"
             ],
             [
              1,
              "#f0f921"
             ]
            ],
            "type": "histogram2dcontour"
           }
          ],
          "mesh3d": [
           {
            "colorbar": {
             "outlinewidth": 0,
             "ticks": ""
            },
            "type": "mesh3d"
           }
          ],
          "parcoords": [
           {
            "line": {
             "colorbar": {
              "outlinewidth": 0,
              "ticks": ""
             }
            },
            "type": "parcoords"
           }
          ],
          "pie": [
           {
            "automargin": true,
            "type": "pie"
           }
          ],
          "scatter": [
           {
            "fillpattern": {
             "fillmode": "overlay",
             "size": 10,
             "solidity": 0.2
            },
            "type": "scatter"
           }
          ],
          "scatter3d": [
           {
            "line": {
             "colorbar": {
              "outlinewidth": 0,
              "ticks": ""
             }
            },
            "marker": {
             "colorbar": {
              "outlinewidth": 0,
              "ticks": ""
             }
            },
            "type": "scatter3d"
           }
          ],
          "scattercarpet": [
           {
            "marker": {
             "colorbar": {
              "outlinewidth": 0,
              "ticks": ""
             }
            },
            "type": "scattercarpet"
           }
          ],
          "scattergeo": [
           {
            "marker": {
             "colorbar": {
              "outlinewidth": 0,
              "ticks": ""
             }
            },
            "type": "scattergeo"
           }
          ],
          "scattergl": [
           {
            "marker": {
             "colorbar": {
              "outlinewidth": 0,
              "ticks": ""
             }
            },
            "type": "scattergl"
           }
          ],
          "scattermapbox": [
           {
            "marker": {
             "colorbar": {
              "outlinewidth": 0,
              "ticks": ""
             }
            },
            "type": "scattermapbox"
           }
          ],
          "scatterpolar": [
           {
            "marker": {
             "colorbar": {
              "outlinewidth": 0,
              "ticks": ""
             }
            },
            "type": "scatterpolar"
           }
          ],
          "scatterpolargl": [
           {
            "marker": {
             "colorbar": {
              "outlinewidth": 0,
              "ticks": ""
             }
            },
            "type": "scatterpolargl"
           }
          ],
          "scatterternary": [
           {
            "marker": {
             "colorbar": {
              "outlinewidth": 0,
              "ticks": ""
             }
            },
            "type": "scatterternary"
           }
          ],
          "surface": [
           {
            "colorbar": {
             "outlinewidth": 0,
             "ticks": ""
            },
            "colorscale": [
             [
              0,
              "#0d0887"
             ],
             [
              0.1111111111111111,
              "#46039f"
             ],
             [
              0.2222222222222222,
              "#7201a8"
             ],
             [
              0.3333333333333333,
              "#9c179e"
             ],
             [
              0.4444444444444444,
              "#bd3786"
             ],
             [
              0.5555555555555556,
              "#d8576b"
             ],
             [
              0.6666666666666666,
              "#ed7953"
             ],
             [
              0.7777777777777778,
              "#fb9f3a"
             ],
             [
              0.8888888888888888,
              "#fdca26"
             ],
             [
              1,
              "#f0f921"
             ]
            ],
            "type": "surface"
           }
          ],
          "table": [
           {
            "cells": {
             "fill": {
              "color": "#EBF0F8"
             },
             "line": {
              "color": "white"
             }
            },
            "header": {
             "fill": {
              "color": "#C8D4E3"
             },
             "line": {
              "color": "white"
             }
            },
            "type": "table"
           }
          ]
         },
         "layout": {
          "annotationdefaults": {
           "arrowcolor": "#2a3f5f",
           "arrowhead": 0,
           "arrowwidth": 1
          },
          "autotypenumbers": "strict",
          "coloraxis": {
           "colorbar": {
            "outlinewidth": 0,
            "ticks": ""
           }
          },
          "colorscale": {
           "diverging": [
            [
             0,
             "#8e0152"
            ],
            [
             0.1,
             "#c51b7d"
            ],
            [
             0.2,
             "#de77ae"
            ],
            [
             0.3,
             "#f1b6da"
            ],
            [
             0.4,
             "#fde0ef"
            ],
            [
             0.5,
             "#f7f7f7"
            ],
            [
             0.6,
             "#e6f5d0"
            ],
            [
             0.7,
             "#b8e186"
            ],
            [
             0.8,
             "#7fbc41"
            ],
            [
             0.9,
             "#4d9221"
            ],
            [
             1,
             "#276419"
            ]
           ],
           "sequential": [
            [
             0,
             "#0d0887"
            ],
            [
             0.1111111111111111,
             "#46039f"
            ],
            [
             0.2222222222222222,
             "#7201a8"
            ],
            [
             0.3333333333333333,
             "#9c179e"
            ],
            [
             0.4444444444444444,
             "#bd3786"
            ],
            [
             0.5555555555555556,
             "#d8576b"
            ],
            [
             0.6666666666666666,
             "#ed7953"
            ],
            [
             0.7777777777777778,
             "#fb9f3a"
            ],
            [
             0.8888888888888888,
             "#fdca26"
            ],
            [
             1,
             "#f0f921"
            ]
           ],
           "sequentialminus": [
            [
             0,
             "#0d0887"
            ],
            [
             0.1111111111111111,
             "#46039f"
            ],
            [
             0.2222222222222222,
             "#7201a8"
            ],
            [
             0.3333333333333333,
             "#9c179e"
            ],
            [
             0.4444444444444444,
             "#bd3786"
            ],
            [
             0.5555555555555556,
             "#d8576b"
            ],
            [
             0.6666666666666666,
             "#ed7953"
            ],
            [
             0.7777777777777778,
             "#fb9f3a"
            ],
            [
             0.8888888888888888,
             "#fdca26"
            ],
            [
             1,
             "#f0f921"
            ]
           ]
          },
          "colorway": [
           "#636efa",
           "#EF553B",
           "#00cc96",
           "#ab63fa",
           "#FFA15A",
           "#19d3f3",
           "#FF6692",
           "#B6E880",
           "#FF97FF",
           "#FECB52"
          ],
          "font": {
           "color": "#2a3f5f"
          },
          "geo": {
           "bgcolor": "white",
           "lakecolor": "white",
           "landcolor": "#E5ECF6",
           "showlakes": true,
           "showland": true,
           "subunitcolor": "white"
          },
          "hoverlabel": {
           "align": "left"
          },
          "hovermode": "closest",
          "mapbox": {
           "style": "light"
          },
          "paper_bgcolor": "white",
          "plot_bgcolor": "#E5ECF6",
          "polar": {
           "angularaxis": {
            "gridcolor": "white",
            "linecolor": "white",
            "ticks": ""
           },
           "bgcolor": "#E5ECF6",
           "radialaxis": {
            "gridcolor": "white",
            "linecolor": "white",
            "ticks": ""
           }
          },
          "scene": {
           "xaxis": {
            "backgroundcolor": "#E5ECF6",
            "gridcolor": "white",
            "gridwidth": 2,
            "linecolor": "white",
            "showbackground": true,
            "ticks": "",
            "zerolinecolor": "white"
           },
           "yaxis": {
            "backgroundcolor": "#E5ECF6",
            "gridcolor": "white",
            "gridwidth": 2,
            "linecolor": "white",
            "showbackground": true,
            "ticks": "",
            "zerolinecolor": "white"
           },
           "zaxis": {
            "backgroundcolor": "#E5ECF6",
            "gridcolor": "white",
            "gridwidth": 2,
            "linecolor": "white",
            "showbackground": true,
            "ticks": "",
            "zerolinecolor": "white"
           }
          },
          "shapedefaults": {
           "line": {
            "color": "#2a3f5f"
           }
          },
          "ternary": {
           "aaxis": {
            "gridcolor": "white",
            "linecolor": "white",
            "ticks": ""
           },
           "baxis": {
            "gridcolor": "white",
            "linecolor": "white",
            "ticks": ""
           },
           "bgcolor": "#E5ECF6",
           "caxis": {
            "gridcolor": "white",
            "linecolor": "white",
            "ticks": ""
           }
          },
          "title": {
           "x": 0.05
          },
          "xaxis": {
           "automargin": true,
           "gridcolor": "white",
           "linecolor": "white",
           "ticks": "",
           "title": {
            "standoff": 15
           },
           "zerolinecolor": "white",
           "zerolinewidth": 2
          },
          "yaxis": {
           "automargin": true,
           "gridcolor": "white",
           "linecolor": "white",
           "ticks": "",
           "title": {
            "standoff": 15
           },
           "zerolinecolor": "white",
           "zerolinewidth": 2
          }
         }
        },
        "width": 800
       }
      }
     },
     "metadata": {},
     "output_type": "display_data"
    }
   ],
   "source": [
    "FILE = load_data(FILES[1])\n",
    "base_map = create_base_map(FILE, 800, 800, 14)\n",
    "add_population(base_map, FILE)\n",
    "add_isochrone(base_map, FILE)\n",
    "add_places(base_map, FILE)\n",
    "add_original_address(base_map, FILE)"
   ]
  },
  {
   "cell_type": "code",
   "execution_count": 34,
   "metadata": {},
   "outputs": [
    {
     "data": {
      "application/vnd.plotly.v1+json": {
       "config": {
        "plotlyServerURL": "https://plot.ly"
       },
       "data": [
        {
         "type": "scattermapbox"
        },
        {
         "hoverinfo": "text",
         "hovertemplate": "%{text}<extra></extra>",
         "lat": [
          46.50958677782467,
          46.50690705618383,
          46.50780656760345,
          46.511404612927706,
          46.507815951129835,
          46.50961497417245,
          46.510514485640364,
          46.51141399707246,
          46.51411253115139,
          46.50872483140299,
          46.50962434306094,
          46.51052385468326,
          46.511423366269675,
          46.512322877820054,
          46.507834673343,
          46.50873418519041,
          46.50963369700242,
          46.51053320877881,
          46.511432720519366,
          46.51233223222385,
          46.51323174389203,
          46.50694449999331,
          46.507844012029764,
          46.508743524031,
          46.50964303599687,
          46.510542547927116,
          46.51144205982153,
          46.51234157167987,
          46.5132410835019,
          46.514140595287486,
          46.5150401070363,
          46.50695382357986,
          46.507853335769916,
          46.50875284792478,
          46.50965236004424,
          46.51055187212809,
          46.51145138417613,
          46.51235089618811,
          46.51325040816376,
          46.51414992010298,
          46.51504943200544,
          46.508762156871754,
          46.50966166914458,
          46.51056118138178,
          46.51146069358316,
          46.51236020574851,
          46.513259717877595,
          46.51415922997013,
          46.51505874202598,
          46.50787193841053,
          46.50877145087184,
          46.50967096329779,
          46.511469988042634,
          46.5123695003611,
          46.5132690126433,
          46.514168524889016,
          46.515068037098025,
          46.50788121731093,
          46.5114792675545,
          46.512378780025855,
          46.51327829246092,
          46.51417780485955,
          46.511488532118825,
          46.51238804474279,
          46.51328755733049,
          46.51418706988175,
          46.5096987560749,
          46.51059826892307,
          46.51149778173551,
          46.512397294511864,
          46.51329680725197,
          46.5079089643325,
          46.508808477403775,
          46.50970799043972,
          46.51060750344001,
          46.5115070164046,
          46.512406529333084,
          46.507018670188145,
          46.507918183446414,
          46.50881769666958,
          46.50971720985739,
          46.51061672300959
         ],
         "lon": [
          6.618450810164088,
          6.6210972691474215,
          6.621083668156615,
          6.621029259687453,
          6.62238645287091,
          6.622359292829149,
          6.622345712133428,
          6.622332130987778,
          6.622291384851002,
          6.623675679884573,
          6.62366212128493,
          6.623648562236098,
          6.623635002738055,
          6.623621442790776,
          6.62499202364834,
          6.6249784871433395,
          6.624964950189892,
          6.624951412787977,
          6.62493787493757,
          6.624924336638639,
          6.624910797891162,
          6.62630832412183,
          6.626294809710039,
          6.626281294850547,
          6.626267779543326,
          6.626254263788354,
          6.6262407475856016,
          6.626227230935047,
          6.626213713836662,
          6.626200196290421,
          6.626186678296301,
          6.627611088986412,
          6.62759759621944,
          6.627584103005482,
          6.627570609344512,
          6.627557115236508,
          6.627543620681439,
          6.627530125679285,
          6.627516630230015,
          6.627503134333611,
          6.62748963799004,
          6.628886911607426,
          6.628873439592734,
          6.628859967131722,
          6.628846494224362,
          6.628833020870634,
          6.62881954707051,
          6.628806072823964,
          6.628792598130969,
          6.630203170578477,
          6.630189720655664,
          6.630176270287274,
          6.630149368213656,
          6.6301359165083795,
          6.630122464357422,
          6.63010901176076,
          6.630095558718367,
          6.631505958426682,
          6.631452242648605,
          6.631438812591805,
          6.63142538209004,
          6.631411951143289,
          6.632755117528487,
          6.6327417091201895,
          6.632728300267645,
          6.6327148909708304,
          6.634084765041644,
          6.634071379168857,
          6.634057992852592,
          6.6340446060928215,
          6.634031218889523,
          6.635414324637441,
          6.635400961297224,
          6.635387597514295,
          6.635374233288628,
          6.6353608686202,
          6.635347503508983,
          6.636730455513224,
          6.636717114260689,
          6.636703772566182,
          6.636690430429682,
          6.636677087851161
         ],
         "marker": {
          "color": "purple",
          "opacity": 0.5,
          "size": 40
         },
         "mode": "markers",
         "showlegend": false,
         "text": [
          3,
          3,
          4,
          26,
          6,
          27,
          45,
          84,
          3,
          6,
          73,
          182,
          148,
          133,
          60,
          238,
          79,
          78,
          141,
          361,
          163,
          18,
          187,
          146,
          307,
          233,
          150,
          201,
          347,
          226,
          178,
          50,
          106,
          215,
          91,
          32,
          315,
          174,
          334,
          342,
          130,
          49,
          11,
          4,
          44,
          128,
          136,
          190,
          226,
          57,
          150,
          193,
          6,
          99,
          91,
          165,
          173,
          7,
          170,
          93,
          185,
          87,
          133,
          152,
          212,
          180,
          23,
          111,
          184,
          109,
          220,
          4,
          3,
          25,
          150,
          185,
          104,
          5,
          3,
          15,
          119,
          148
         ],
         "type": "scattermapbox"
        },
        {
         "fill": "toself",
         "fillcolor": "rgba(10,80,50,0.25)",
         "hoverinfo": "text",
         "lat": [
          46.508358,
          46.50829,
          46.506823,
          46.50677,
          46.506777,
          46.506826,
          46.506941,
          46.508036,
          46.509592,
          46.510505,
          46.510635,
          46.51084,
          46.51071,
          46.510709,
          46.510482,
          46.510369,
          46.509075,
          46.508754,
          46.508358
         ],
         "line": {
          "color": "rgba(10,80,50,1)",
          "width": 1
         },
         "lon": [
          6.62528,
          6.625309,
          6.626421,
          6.62664,
          6.626815,
          6.628117,
          6.628265,
          6.62974,
          6.62969,
          6.629037,
          6.628906,
          6.62861,
          6.627563,
          6.627556,
          6.626969,
          6.626755,
          6.625314,
          6.62515,
          6.62528
         ],
         "marker": {
          "color": "blue",
          "size": 1
         },
         "mode": "lines",
         "showlegend": false,
         "text": "3.0min. walking",
         "type": "scattermapbox"
        },
        {
         "fill": "toself",
         "fillcolor": "rgba(10,80,50,0.25)",
         "hoverinfo": "text",
         "lat": [
          46.507879,
          46.507167,
          46.50585,
          46.505728,
          46.505453,
          46.506619,
          46.506934,
          46.507059,
          46.507888,
          46.50819,
          46.508227,
          46.509168,
          46.509373,
          46.512119,
          46.512296,
          46.512138,
          46.511359,
          46.511122,
          46.509663,
          46.507879
         ],
         "line": {
          "color": "rgba(10,80,50,1)",
          "width": 1
         },
         "lon": [
          6.623826,
          6.624089,
          6.62576,
          6.626098,
          6.627855,
          6.630329,
          6.630958,
          6.631155,
          6.631904,
          6.631971,
          6.631972,
          6.63171,
          6.631591,
          6.629864,
          6.629551,
          6.627969,
          6.6257,
          6.625102,
          6.62327,
          6.623826
         ],
         "marker": {
          "color": "blue",
          "size": 1
         },
         "mode": "lines",
         "showlegend": false,
         "text": "5.0min. walking",
         "type": "scattermapbox"
        },
        {
         "fill": "toself",
         "fillcolor": "rgba(10,80,50,0.25)",
         "hoverinfo": "text",
         "lat": [
          46.508467,
          46.507616,
          46.507355,
          46.502279,
          46.499761,
          46.499653,
          46.504766,
          46.50702,
          46.507158,
          46.507224,
          46.509153,
          46.50951,
          46.511838,
          46.513433,
          46.513493,
          46.513544,
          46.513474,
          46.512957,
          46.51201,
          46.511433,
          46.510977,
          46.508467
         ],
         "line": {
          "color": "rgba(10,80,50,1)",
          "width": 1
         },
         "lon": [
          6.621739,
          6.62219,
          6.622394,
          6.62529,
          6.624717,
          6.625061,
          6.628161,
          6.632439,
          6.632722,
          6.632832,
          6.633178,
          6.633218,
          6.631923,
          6.630796,
          6.630664,
          6.630548,
          6.628368,
          6.625564,
          6.62402,
          6.623057,
          6.622466,
          6.621739
         ],
         "marker": {
          "color": "blue",
          "size": 1
         },
         "mode": "lines",
         "showlegend": false,
         "text": "7.0min. walking",
         "type": "scattermapbox"
        },
        {
         "fill": "toself",
         "fillcolor": "rgba(10,80,50,0.25)",
         "hoverinfo": "text",
         "lat": [
          46.508409,
          46.506974,
          46.506269,
          46.500977,
          46.499703,
          46.498691,
          46.497678,
          46.4941,
          46.493992,
          46.49671,
          46.499428,
          46.499653,
          46.504766,
          46.50702,
          46.506391,
          46.506351,
          46.506453,
          46.506801,
          46.506877,
          46.512542,
          46.513057,
          46.515049,
          46.515323,
          46.515672,
          46.515249,
          46.513387,
          46.51039,
          46.510087,
          46.508409
         ],
         "line": {
          "color": "rgba(10,80,50,1)",
          "width": 1
         },
         "lon": [
          6.619614,
          6.621432,
          6.622833,
          6.624373,
          6.623489,
          6.622037,
          6.620584,
          6.622944,
          6.623287,
          6.624139,
          6.62499,
          6.625061,
          6.628161,
          6.632439,
          6.635339,
          6.635493,
          6.635696,
          6.635788,
          6.635794,
          6.634603,
          6.634494,
          6.632965,
          6.632731,
          6.629007,
          6.62537,
          6.621752,
          6.619337,
          6.619144,
          6.619614
         ],
         "marker": {
          "color": "blue",
          "size": 1
         },
         "mode": "lines",
         "showlegend": false,
         "text": "10.0min. walking",
         "type": "scattermapbox"
        },
        {
         "fill": "toself",
         "fillcolor": "rgba(10,80,50,0.25)",
         "hoverinfo": "text",
         "lat": [
          46.510067,
          46.509263,
          46.508982,
          46.50839,
          46.506974,
          46.503109,
          46.498689,
          46.497678,
          46.497674,
          46.49666,
          46.495656,
          46.494267,
          46.492877,
          46.492561,
          46.493951,
          46.49534,
          46.491171,
          46.488439,
          46.488331,
          46.491063,
          46.493795,
          46.493992,
          46.496612,
          46.49671,
          46.499428,
          46.499653,
          46.504766,
          46.50702,
          46.506391,
          46.506351,
          46.505566,
          46.505545,
          46.505684,
          46.506032,
          46.506759,
          46.512529,
          46.512884,
          46.517169,
          46.517253,
          46.517286,
          46.517387,
          46.517147,
          46.516987,
          46.516916,
          46.516893,
          46.516828,
          46.516365,
          46.51482,
          46.514592,
          46.511807,
          46.51175,
          46.510067
         ],
         "line": {
          "color": "rgba(10,80,50,1)",
          "width": 1
         },
         "lon": [
          6.616806,
          6.61673,
          6.616956,
          6.618457,
          6.621432,
          6.623994,
          6.622034,
          6.620584,
          6.620578,
          6.619122,
          6.617683,
          6.615138,
          6.612592,
          6.612765,
          6.61531,
          6.617856,
          6.622026,
          6.62117,
          6.621513,
          6.622369,
          6.623225,
          6.623287,
          6.624108,
          6.624139,
          6.62499,
          6.625061,
          6.628161,
          6.632439,
          6.635339,
          6.635493,
          6.63846,
          6.638542,
          6.638912,
          6.639004,
          6.638704,
          6.637437,
          6.637493,
          6.634101,
          6.634024,
          6.63369,
          6.630156,
          6.626516,
          6.625577,
          6.625175,
          6.625073,
          6.624826,
          6.623196,
          6.619502,
          6.619195,
          6.617083,
          6.617052,
          6.616806
         ],
         "marker": {
          "color": "blue",
          "size": 1
         },
         "mode": "lines",
         "showlegend": false,
         "text": "13.0min. walking",
         "type": "scattermapbox"
        },
        {
         "fill": "toself",
         "fillcolor": "rgba(10,80,50,0.25)",
         "hoverinfo": "text",
         "lat": [
          46.491157,
          46.492546,
          46.492561,
          46.493943,
          46.493951,
          46.49534,
          46.491087,
          46.488439,
          46.488271,
          46.485581,
          46.482891,
          46.482784,
          46.485473,
          46.488163,
          46.488331,
          46.490979,
          46.491063,
          46.493795,
          46.493992,
          46.496612,
          46.49671,
          46.499428,
          46.499653,
          46.504766,
          46.50702,
          46.506391,
          46.506351,
          46.505566,
          46.505545,
          46.505111,
          46.50506,
          46.505008,
          46.505062,
          46.505147,
          46.505156,
          46.505535,
          46.505962,
          46.507226,
          46.512592,
          46.517034,
          46.518725,
          46.518544,
          46.51826,
          46.51761,
          46.517494,
          46.515596,
          46.512675,
          46.512339,
          46.510157,
          46.508954,
          46.508786,
          46.508618,
          46.508109,
          46.508162,
          46.506974,
          46.502512,
          46.502157,
          46.49666,
          46.495656,
          46.494267,
          46.494259,
          46.492877,
          46.492862,
          46.491473,
          46.490083,
          46.489767,
          46.491157
         ],
         "line": {
          "color": "rgba(10,80,50,1)",
          "width": 1
         },
         "lon": [
          6.610191,
          6.612737,
          6.612765,
          6.615296,
          6.61531,
          6.617856,
          6.621999,
          6.62117,
          6.621117,
          6.620274,
          6.619431,
          6.619775,
          6.620618,
          6.621461,
          6.621513,
          6.622343,
          6.622369,
          6.623225,
          6.623287,
          6.624108,
          6.624139,
          6.62499,
          6.625061,
          6.628161,
          6.632439,
          6.635339,
          6.635493,
          6.63846,
          6.638542,
          6.640188,
          6.640382,
          6.640575,
          6.640683,
          6.640842,
          6.640848,
          6.640887,
          6.640835,
          6.640599,
          6.639122,
          6.636269,
          6.634068,
          6.630094,
          6.62737,
          6.623437,
          6.623082,
          6.617612,
          6.615432,
          6.615304,
          6.614684,
          6.615533,
          6.615872,
          6.616212,
          6.617446,
          6.617763,
          6.621432,
          6.620448,
          6.620509,
          6.619122,
          6.617683,
          6.615138,
          6.615124,
          6.612592,
          6.612564,
          6.610019,
          6.607473,
          6.607646,
          6.610191
         ],
         "marker": {
          "color": "blue",
          "size": 1
         },
         "mode": "lines",
         "showlegend": false,
         "text": "15.0min. walking",
         "type": "scattermapbox"
        },
        {
         "hoverinfo": "text",
         "hovertemplate": "%{text}<extra></extra>",
         "lat": [
          46.5065699,
          46.51128459999999,
          46.50768809999999,
          46.50486799999999,
          46.5078504,
          46.51223599999999,
          46.5078056,
          46.5074441,
          46.5078684,
          46.50809750000001,
          46.511641,
          46.5119086,
          46.50720949999999,
          46.5071613,
          46.5080535,
          46.50720459999999,
          46.5113676,
          46.51177939999999,
          46.511833,
          46.5078685,
          46.5086331,
          46.508851,
          46.50719219999999,
          46.5065699,
          46.50720949999999,
          46.5082977,
          46.50682189999999,
          46.5071613,
          46.5080535,
          46.51234789999999,
          46.5102577,
          46.5102186,
          46.5087324,
          46.5119945,
          46.5078656,
          46.50720949999999,
          46.5082977,
          46.50682189999999,
          46.5071613,
          46.5080535,
          46.51234789999999,
          46.5102577,
          46.5102186,
          46.5087324,
          46.5119945,
          46.5078656,
          46.50720949999999,
          46.5082977,
          46.50682189999999,
          46.5071613,
          46.5080535,
          46.51234789999999,
          46.5102577,
          46.5102186,
          46.5087324,
          46.5119945,
          46.5078656,
          46.5097326,
          46.507057,
          46.5120267,
          46.5072757,
          46.50836,
          46.5097326,
          46.50992999999999,
          46.51020399999999,
          46.507057,
          46.50566200000001,
          46.5120267,
          46.512033,
          46.51083800000001,
          46.5126674,
          46.50733899999999,
          46.50979599999999,
          46.5070376,
          46.50720949999999,
          46.5082977,
          46.50682189999999,
          46.5071613,
          46.5080535,
          46.51234789999999,
          46.5102577,
          46.5102186,
          46.5087324,
          46.5119945,
          46.5078656,
          46.51132999999999,
          46.5110667,
          46.5120462,
          46.51247499999999,
          46.50720949999999,
          46.5082977,
          46.50682189999999,
          46.5071613,
          46.5080535,
          46.51234789999999,
          46.5102577,
          46.5102186,
          46.5087324,
          46.5119945,
          46.5078656,
          46.5102577,
          46.5077564,
          46.5123395,
          46.50792389999999,
          46.5131531,
          46.50702810000001,
          46.50702750000001,
          46.50720949999999,
          46.5082977,
          46.50682189999999,
          46.5071613,
          46.5080535,
          46.51234789999999,
          46.5102577,
          46.5102186,
          46.5087324,
          46.5119945,
          46.5078656,
          46.50830869999999,
          46.509478,
          46.5107644,
          46.5107644,
          46.51079910000001
         ],
         "lon": [
          6.625689599999999,
          6.628424,
          6.622396199999999,
          6.627434199999999,
          6.627252700000001,
          6.626502,
          6.6272392,
          6.625706199999999,
          6.6300052,
          6.624307,
          6.626005499999999,
          6.6298431,
          6.6279085,
          6.628313500000001,
          6.6301525,
          6.627290899999998,
          6.6284904,
          6.626066499999999,
          6.625596099999999,
          6.6300052,
          6.627462499999999,
          6.626188,
          6.6281078,
          6.625689599999999,
          6.6279085,
          6.624194,
          6.627394599999999,
          6.628313500000001,
          6.6301525,
          6.62772,
          6.6262349,
          6.620741700000001,
          6.634087900000001,
          6.6305324,
          6.627175499999999,
          6.6279085,
          6.624194,
          6.627394599999999,
          6.628313500000001,
          6.6301525,
          6.62772,
          6.6262349,
          6.620741700000001,
          6.634087900000001,
          6.6305324,
          6.627175499999999,
          6.6279085,
          6.624194,
          6.627394599999999,
          6.628313500000001,
          6.6301525,
          6.62772,
          6.6262349,
          6.620741700000001,
          6.634087900000001,
          6.6305324,
          6.627175499999999,
          6.627385099999999,
          6.626445700000001,
          6.6280199,
          6.624817999999999,
          6.6276365,
          6.627385099999999,
          6.627438,
          6.628516999999999,
          6.626445700000001,
          6.626861,
          6.6280199,
          6.629579999999999,
          6.632346999999999,
          6.625799400000001,
          6.632890999999999,
          6.620076,
          6.6344618,
          6.6279085,
          6.624194,
          6.627394599999999,
          6.628313500000001,
          6.6301525,
          6.62772,
          6.6262349,
          6.620741700000001,
          6.634087900000001,
          6.6305324,
          6.627175499999999,
          6.628419399999999,
          6.624988499999999,
          6.6239017,
          6.631023799999999,
          6.6279085,
          6.624194,
          6.627394599999999,
          6.628313500000001,
          6.6301525,
          6.62772,
          6.6262349,
          6.620741700000001,
          6.634087900000001,
          6.6305324,
          6.627175499999999,
          6.6262349,
          6.627242900000001,
          6.6259406,
          6.624861699999999,
          6.6286473,
          6.6214637,
          6.621469500000001,
          6.6279085,
          6.624194,
          6.627394599999999,
          6.628313500000001,
          6.6301525,
          6.62772,
          6.6262349,
          6.620741700000001,
          6.634087900000001,
          6.6305324,
          6.627175499999999,
          6.626250899999999,
          6.624642,
          6.6312044,
          6.6312044,
          6.631257100000001
         ],
         "marker": {
          "color": [
           "pink",
           "pink",
           "pink",
           "pink",
           "pink",
           "pink",
           "pink",
           "pink",
           "pink",
           "pink",
           "pink",
           "pink",
           "yellow",
           "yellow",
           "yellow",
           "yellow",
           "yellow",
           "yellow",
           "yellow",
           "yellow",
           "yellow",
           "yellow",
           "yellow",
           "yellow",
           "orange",
           "orange",
           "orange",
           "orange",
           "orange",
           "orange",
           "orange",
           "orange",
           "orange",
           "orange",
           "orange",
           "orange",
           "orange",
           "orange",
           "orange",
           "orange",
           "orange",
           "orange",
           "orange",
           "orange",
           "orange",
           "orange",
           "purple",
           "purple",
           "purple",
           "purple",
           "purple",
           "purple",
           "purple",
           "purple",
           "purple",
           "purple",
           "purple",
           "purple",
           "purple",
           "purple",
           "purple",
           "purple",
           "purple",
           "purple",
           "purple",
           "purple",
           "purple",
           "purple",
           "purple",
           "purple",
           "purple",
           "purple",
           "purple",
           "purple",
           "brown",
           "brown",
           "brown",
           "brown",
           "brown",
           "brown",
           "brown",
           "brown",
           "brown",
           "brown",
           "brown",
           "brown",
           "brown",
           "brown",
           "brown",
           "red",
           "red",
           "red",
           "red",
           "red",
           "red",
           "red",
           "red",
           "red",
           "red",
           "red",
           "red",
           "red",
           "red",
           "red",
           "cyan",
           "cyan",
           "cyan",
           "cyan",
           "cyan",
           "cyan",
           "cyan",
           "cyan",
           "cyan",
           "cyan",
           "cyan",
           "cyan",
           "cyan",
           "cyan",
           "blue",
           "blue",
           "blue",
           "blue",
           "blue"
          ],
          "opacity": 1,
          "size": 10
         },
         "mode": "markers",
         "showlegend": false,
         "text": [
          "<b>Terrasse d'Ouchy</b><br><i>bars</i><br>Place de la Navigation 1, Lausanne <br><br>Rating: 3.3<br>Nb ratings: 539<br><br><i>Walking time: 5 mins</i> <br><br>",
          "<b>Sky Lounge</b><br><i>bars</i><br>Avenue d'Ouchy 40, Lausanne <br><br>Rating: 4.5<br>Nb ratings: 198<br><br><i>Walking time: 7 mins</i> <br><br>",
          "<b>La Nautica Ouchy</b><br><i>bars</i><br>Chemin des Pêcheurs 7, Lausanne <br><br>Rating: 3.9<br>Nb ratings: 402<br><br><i>Walking time: 8 mins</i> <br><br>",
          "<b>The Lacustre</b><br><i>bars</i><br>Quai Jean-Pascal Delamuraz 1, Lausanne <br><br>Rating: 4.3<br>Nb ratings: 1782<br><br><i>Walking time: 7 mins</i> <br><br>",
          "<b>White Horse</b><br><i>bars</i><br>Avenue d'Ouchy 66, Lausanne <br><br>Rating: 4.3<br>Nb ratings: 1342<br><br><i>Walking time: 1 min</i> <br><br>",
          "<b>Le petit coin gourmand</b><br><i>bars</i><br>Avenue de Cour 6A, Lausanne <br><br>Rating: 4.2<br>Nb ratings: 142<br><br><i>Walking time: 8 mins</i> <br><br>",
          "<b>EL BLANCO...bodega. San miguel</b><br><i>bars</i><br>Avenue d'Ouchy 66, Lausanne <br><br>Rating: 4<br>Nb ratings: 1<br><br><i>Walking time: 1 min</i> <br><br>",
          "<b>MGM Café</b><br><i>bars</i><br>Rue du Lac 14, Lausanne <br><br>Rating: 3.9<br>Nb ratings: 460<br><br><i>Walking time: 4 mins</i> <br><br>",
          "<b>Lobby Lounge - Beau-Rivage Palace</b><br><i>bars</i><br>Place du Port 17, Lausanne <br><br>Rating: 3.9<br>Nb ratings: 25<br><br><i>Walking time: 4 mins</i> <br><br>",
          "<b>Le Bar</b><br><i>bars</i><br>Avenue de Rhodanie 4, Lausanne <br><br>Rating: 3.3<br>Nb ratings: 16<br><br><i>Walking time: 5 mins</i> <br><br>",
          "<b>Monsieur Madame</b><br><i>bars</i><br>Avenue Frédéric-César-de-la-Harpe 19, Lausanne <br><br>Rating: 4.9<br>Nb ratings: 28<br><br><i>Walking time: 7 mins</i> <br><br>",
          "<b>friederike conlon</b><br><i>bars</i><br>Avenue d'Ouchy 41, Lausanne <br><br>Rating: No rating available<br>Nb ratings: No ratings available<br><br><i>Walking time: 7 mins</i> <br><br>",
          "<b>Hôtel du Port</b><br><i>restaurants</i><br>Place du Port 5, Lausanne <br><br>Rating: 4.2<br>Nb ratings: 372<br><br><i>Walking time: 3 mins</i> <br><br>",
          "<b>Angleterre & Résidence</b><br><i>restaurants</i><br>Place du Port 11, Lausanne <br><br>Rating: 4.4<br>Nb ratings: 395<br><br><i>Walking time: 3 mins</i> <br><br>",
          "<b>Beau-Rivage Palace</b><br><i>restaurants</i><br>Chemin de Beau-Rivage 21, Lausanne <br><br>Rating: 4.7<br>Nb ratings: 2411<br><br><i>Walking time: 4 mins</i> <br><br>",
          "<b>Restaurant Le Boccalino</b><br><i>restaurants</i><br>Avenue d'Ouchy 76, Lausanne <br><br>Rating: 4<br>Nb ratings: 1899<br><br><i>Walking time: 2 mins</i> <br><br>",
          "<b>Hotel Royal Savoy Lausanne</b><br><i>restaurants</i><br>Avenue d'Ouchy 40, Lausanne <br><br>Rating: 4.6<br>Nb ratings: 1368<br><br><i>Walking time: 7 mins</i> <br><br>",
          "<b>Le Kotchi, Sushis-Ramen-Udon-Bento</b><br><i>restaurants</i><br>Avenue Frédéric-César-de-la-Harpe 17A, Lausanne <br><br>Rating: 4.6<br>Nb ratings: 107<br><br><i>Walking time: 7 mins</i> <br><br>",
          "<b>le Pinocchio</b><br><i>restaurants</i><br>Avenue Frédéric-César-de-la-Harpe 16, Lausanne <br><br>Rating: 4.1<br>Nb ratings: 386<br><br><i>Walking time: 8 mins</i> <br><br>",
          "<b>Café Beau-Rivage</b><br><i>restaurants</i><br>Place du Port 17, Lausanne <br><br>Rating: 4.5<br>Nb ratings: 411<br><br><i>Walking time: 4 mins</i> <br><br>",
          "<b>Takayama. Sushi bar & restaurant</b><br><i>restaurants</i><br>Avenue d'Ouchy 58, Lausanne <br><br>Rating: 4.4<br>Nb ratings: 571<br><br><i>Walking time: 1 min</i> <br><br>",
          "<b>Keyann Bistro Libanais</b><br><i>restaurants</i><br>Avenue Frédéric-César-de-la-Harpe 43B, Lausanne <br><br>Rating: 4.4<br>Nb ratings: 448<br><br><i>Walking time: 4 mins</i> <br><br>",
          "<b>La Crêperie d'Ouchy</b><br><i>restaurants</i><br>Place du Port 7, Lausanne <br><br>Rating: 4.1<br>Nb ratings: 1223<br><br><i>Walking time: 3 mins</i> <br><br>",
          "<b>Terrasse d'Ouchy</b><br><i>restaurants</i><br>Place de la Navigation 1, Lausanne <br><br>Rating: 3.3<br>Nb ratings: 539<br><br><i>Walking time: 5 mins</i> <br><br>",
          "<b>Hôtel du Port</b><br><i>kindergarten</i><br>Place du Port 5, Lausanne <br><br>Rating: 4.2<br>Nb ratings: 372<br><br><i>Walking time: 3 mins</i> <br><br>",
          "<b>Mövenpick Lausanne</b><br><i>kindergarten</i><br>Avenue de Rhodanie 4, Lausanne <br><br>Rating: 4.1<br>Nb ratings: 2967<br><br><i>Walking time: 6 mins</i> <br><br>",
          "<b>Château d'Ouchy</b><br><i>kindergarten</i><br>Place du Port, Lausanne <br><br>Rating: 4.4<br>Nb ratings: 1978<br><br><i>Walking time: 3 mins</i> <br><br>",
          "<b>Angleterre & Résidence</b><br><i>kindergarten</i><br>Place du Port 11, Lausanne <br><br>Rating: 4.4<br>Nb ratings: 395<br><br><i>Walking time: 3 mins</i> <br><br>",
          "<b>Beau-Rivage Palace</b><br><i>kindergarten</i><br>Chemin de Beau-Rivage 21, Lausanne <br><br>Rating: 4.7<br>Nb ratings: 2411<br><br><i>Walking time: 4 mins</i> <br><br>",
          "<b>Carlton Lausanne Boutique Hotel‎</b><br><i>kindergarten</i><br>Avenue de Cour 4, Lausanne <br><br>Rating: 4.2<br>Nb ratings: 500<br><br><i>Walking time: 8 mins</i> <br><br>",
          "<b>Coop Supermarché Lausanne La Harpe</b><br><i>kindergarten</i><br>Avenue Frédéric-César-de-la-Harpe 33, Lausanne <br><br>Rating: 4<br>Nb ratings: 279<br><br><i>Walking time: 6 mins</i> <br><br>",
          "<b>IMD Business School</b><br><i>kindergarten</i><br>Chemin de Bellerive 23, Lausanne <br><br>Rating: 4.4<br>Nb ratings: 96<br><br><i>Walking time: 10 mins</i> <br><br>",
          "<b>The Olympic Museum</b><br><i>kindergarten</i><br>Quai d'Ouchy 1, Lausanne <br><br>Rating: 4.6<br>Nb ratings: 8748<br><br><i>Walking time: 10 mins</i> <br><br>",
          "<b>Clinique Bois-Cerf</b><br><i>kindergarten</i><br>Avenue d'Ouchy 31, Lausanne <br><br>Rating: 4.3<br>Nb ratings: 93<br><br><i>Walking time: 10 mins</i> <br><br>",
          "<b>ImmoStreet.ch SA</b><br><i>kindergarten</i><br>Avenue d'Ouchy 66, Lausanne <br><br>Rating: 4.2<br>Nb ratings: 13<br><br><i>Walking time: 1 min</i> <br><br>",
          "<b>Hôtel du Port</b><br><i>kindergarten</i><br>Place du Port 5, Lausanne <br><br>Rating: 4.2<br>Nb ratings: 372<br><br><i>Walking time: 3 mins</i> <br><br>",
          "<b>Mövenpick Lausanne</b><br><i>kindergarten</i><br>Avenue de Rhodanie 4, Lausanne <br><br>Rating: 4.1<br>Nb ratings: 2967<br><br><i>Walking time: 6 mins</i> <br><br>",
          "<b>Château d'Ouchy</b><br><i>kindergarten</i><br>Place du Port, Lausanne <br><br>Rating: 4.4<br>Nb ratings: 1978<br><br><i>Walking time: 3 mins</i> <br><br>",
          "<b>Angleterre & Résidence</b><br><i>kindergarten</i><br>Place du Port 11, Lausanne <br><br>Rating: 4.4<br>Nb ratings: 395<br><br><i>Walking time: 3 mins</i> <br><br>",
          "<b>Beau-Rivage Palace</b><br><i>kindergarten</i><br>Chemin de Beau-Rivage 21, Lausanne <br><br>Rating: 4.7<br>Nb ratings: 2411<br><br><i>Walking time: 4 mins</i> <br><br>",
          "<b>Carlton Lausanne Boutique Hotel‎</b><br><i>kindergarten</i><br>Avenue de Cour 4, Lausanne <br><br>Rating: 4.2<br>Nb ratings: 500<br><br><i>Walking time: 8 mins</i> <br><br>",
          "<b>Coop Supermarché Lausanne La Harpe</b><br><i>kindergarten</i><br>Avenue Frédéric-César-de-la-Harpe 33, Lausanne <br><br>Rating: 4<br>Nb ratings: 279<br><br><i>Walking time: 6 mins</i> <br><br>",
          "<b>IMD Business School</b><br><i>kindergarten</i><br>Chemin de Bellerive 23, Lausanne <br><br>Rating: 4.4<br>Nb ratings: 96<br><br><i>Walking time: 10 mins</i> <br><br>",
          "<b>The Olympic Museum</b><br><i>kindergarten</i><br>Quai d'Ouchy 1, Lausanne <br><br>Rating: 4.6<br>Nb ratings: 8748<br><br><i>Walking time: 10 mins</i> <br><br>",
          "<b>Clinique Bois-Cerf</b><br><i>kindergarten</i><br>Avenue d'Ouchy 31, Lausanne <br><br>Rating: 4.3<br>Nb ratings: 93<br><br><i>Walking time: 10 mins</i> <br><br>",
          "<b>ImmoStreet.ch SA</b><br><i>kindergarten</i><br>Avenue d'Ouchy 66, Lausanne <br><br>Rating: 4.2<br>Nb ratings: 13<br><br><i>Walking time: 1 min</i> <br><br>",
          "<b>Hôtel du Port</b><br><i>public_transportation</i><br>Place du Port 5, Lausanne <br><br>Rating: 4.2<br>Nb ratings: 372<br><br><i>Walking time: 3 mins</i> <br><br>",
          "<b>Mövenpick Lausanne</b><br><i>public_transportation</i><br>Avenue de Rhodanie 4, Lausanne <br><br>Rating: 4.1<br>Nb ratings: 2967<br><br><i>Walking time: 6 mins</i> <br><br>",
          "<b>Château d'Ouchy</b><br><i>public_transportation</i><br>Place du Port, Lausanne <br><br>Rating: 4.4<br>Nb ratings: 1978<br><br><i>Walking time: 3 mins</i> <br><br>",
          "<b>Angleterre & Résidence</b><br><i>public_transportation</i><br>Place du Port 11, Lausanne <br><br>Rating: 4.4<br>Nb ratings: 395<br><br><i>Walking time: 3 mins</i> <br><br>",
          "<b>Beau-Rivage Palace</b><br><i>public_transportation</i><br>Chemin de Beau-Rivage 21, Lausanne <br><br>Rating: 4.7<br>Nb ratings: 2411<br><br><i>Walking time: 4 mins</i> <br><br>",
          "<b>Carlton Lausanne Boutique Hotel‎</b><br><i>public_transportation</i><br>Avenue de Cour 4, Lausanne <br><br>Rating: 4.2<br>Nb ratings: 500<br><br><i>Walking time: 8 mins</i> <br><br>",
          "<b>Coop Supermarché Lausanne La Harpe</b><br><i>public_transportation</i><br>Avenue Frédéric-César-de-la-Harpe 33, Lausanne <br><br>Rating: 4<br>Nb ratings: 279<br><br><i>Walking time: 6 mins</i> <br><br>",
          "<b>IMD Business School</b><br><i>public_transportation</i><br>Chemin de Bellerive 23, Lausanne <br><br>Rating: 4.4<br>Nb ratings: 96<br><br><i>Walking time: 10 mins</i> <br><br>",
          "<b>The Olympic Museum</b><br><i>public_transportation</i><br>Quai d'Ouchy 1, Lausanne <br><br>Rating: 4.6<br>Nb ratings: 8748<br><br><i>Walking time: 10 mins</i> <br><br>",
          "<b>Clinique Bois-Cerf</b><br><i>public_transportation</i><br>Avenue d'Ouchy 31, Lausanne <br><br>Rating: 4.3<br>Nb ratings: 93<br><br><i>Walking time: 10 mins</i> <br><br>",
          "<b>ImmoStreet.ch SA</b><br><i>public_transportation</i><br>Avenue d'Ouchy 66, Lausanne <br><br>Rating: 4.2<br>Nb ratings: 13<br><br><i>Walking time: 1 min</i> <br><br>",
          "<b>Jordils</b><br><i>public_transportation</i><br>Switzerland <br><br>Rating: 4.7<br>Nb ratings: 10<br><br><i>Walking time: 4 mins</i> <br><br>",
          "<b>Ouchy–Olympique</b><br><i>public_transportation</i><br>Place de la Navigation 6, Lausanne <br><br>Rating: 4.5<br>Nb ratings: 161<br><br><i>Walking time: 4 mins</i> <br><br>",
          "<b>Délices</b><br><i>public_transportation</i><br>Switzerland <br><br>Rating: 4.5<br>Nb ratings: 21<br><br><i>Walking time: 7 mins</i> <br><br>",
          "<b>lausanne car rental momohlocation</b><br><i>public_transportation</i><br>Place de la Navigation 3, Lausanne <br><br>Rating: No rating available<br>Nb ratings: No ratings available<br><br><i>Walking time: 5 mins</i> <br><br>",
          "<b>Beau-Rivage</b><br><i>public_transportation</i><br>Switzerland <br><br>Rating: 5<br>Nb ratings: 2<br><br><i>Walking time: 1 min</i> <br><br>",
          "<b>Jordils</b><br><i>public_transportation</i><br>Switzerland <br><br>Rating: 4.7<br>Nb ratings: 10<br><br><i>Walking time: 4 mins</i> <br><br>",
          "<b>Jordils</b><br><i>public_transportation</i><br>Switzerland <br><br>Rating: No rating available<br>Nb ratings: No ratings available<br><br><i>Walking time: 4 mins</i> <br><br>",
          "<b>Jordils</b><br><i>public_transportation</i><br>Switzerland <br><br>Rating: No rating available<br>Nb ratings: No ratings available<br><br><i>Walking time: 3 mins</i> <br><br>",
          "<b>Ouchy–Olympique</b><br><i>public_transportation</i><br>Place de la Navigation 6, Lausanne <br><br>Rating: 4.5<br>Nb ratings: 161<br><br><i>Walking time: 4 mins</i> <br><br>",
          "<b>Lausanne-Ouchy</b><br><i>public_transportation</i><br>Switzerland <br><br>Rating: 4.7<br>Nb ratings: 237<br><br><i>Walking time: 5 mins</i> <br><br>",
          "<b>Délices</b><br><i>public_transportation</i><br>Switzerland <br><br>Rating: 4.5<br>Nb ratings: 21<br><br><i>Walking time: 7 mins</i> <br><br>",
          "<b>Croix d'Ouchy</b><br><i>public_transportation</i><br>Switzerland <br><br>Rating: 5<br>Nb ratings: 2<br><br><i>Walking time: 7 mins</i> <br><br>",
          "<b>Elysée</b><br><i>public_transportation</i><br>Switzerland <br><br>Rating: No rating available<br>Nb ratings: No ratings available<br><br><i>Walking time: 10 mins</i> <br><br>",
          "<b>Cour</b><br><i>public_transportation</i><br>Switzerland <br><br>Rating: 5<br>Nb ratings: 1<br><br><i>Walking time: 9 mins</i> <br><br>",
          "<b>Parc Musée Olympique</b><br><i>public_transportation</i><br>Switzerland <br><br>Rating: No rating available<br>Nb ratings: No ratings available<br><br><i>Walking time: 8 mins</i> <br><br>",
          "<b>Pêcheurs</b><br><i>public_transportation</i><br>Switzerland <br><br>Rating: 4.5<br>Nb ratings: 2<br><br><i>Walking time: 10 mins</i> <br><br>",
          "<b>Parc Musée Olympique</b><br><i>public_transportation</i><br>Switzerland <br><br>Rating: 5<br>Nb ratings: 2<br><br><i>Walking time: 10 mins</i> <br><br>",
          "<b>Hôtel du Port</b><br><i>gym_fitness</i><br>Place du Port 5, Lausanne <br><br>Rating: 4.2<br>Nb ratings: 372<br><br><i>Walking time: 3 mins</i> <br><br>",
          "<b>Mövenpick Lausanne</b><br><i>gym_fitness</i><br>Avenue de Rhodanie 4, Lausanne <br><br>Rating: 4.1<br>Nb ratings: 2967<br><br><i>Walking time: 6 mins</i> <br><br>",
          "<b>Château d'Ouchy</b><br><i>gym_fitness</i><br>Place du Port, Lausanne <br><br>Rating: 4.4<br>Nb ratings: 1978<br><br><i>Walking time: 3 mins</i> <br><br>",
          "<b>Angleterre & Résidence</b><br><i>gym_fitness</i><br>Place du Port 11, Lausanne <br><br>Rating: 4.4<br>Nb ratings: 395<br><br><i>Walking time: 3 mins</i> <br><br>",
          "<b>Beau-Rivage Palace</b><br><i>gym_fitness</i><br>Chemin de Beau-Rivage 21, Lausanne <br><br>Rating: 4.7<br>Nb ratings: 2411<br><br><i>Walking time: 4 mins</i> <br><br>",
          "<b>Carlton Lausanne Boutique Hotel‎</b><br><i>gym_fitness</i><br>Avenue de Cour 4, Lausanne <br><br>Rating: 4.2<br>Nb ratings: 500<br><br><i>Walking time: 8 mins</i> <br><br>",
          "<b>Coop Supermarché Lausanne La Harpe</b><br><i>gym_fitness</i><br>Avenue Frédéric-César-de-la-Harpe 33, Lausanne <br><br>Rating: 4<br>Nb ratings: 279<br><br><i>Walking time: 6 mins</i> <br><br>",
          "<b>IMD Business School</b><br><i>gym_fitness</i><br>Chemin de Bellerive 23, Lausanne <br><br>Rating: 4.4<br>Nb ratings: 96<br><br><i>Walking time: 10 mins</i> <br><br>",
          "<b>The Olympic Museum</b><br><i>gym_fitness</i><br>Quai d'Ouchy 1, Lausanne <br><br>Rating: 4.6<br>Nb ratings: 8748<br><br><i>Walking time: 10 mins</i> <br><br>",
          "<b>Clinique Bois-Cerf</b><br><i>gym_fitness</i><br>Avenue d'Ouchy 31, Lausanne <br><br>Rating: 4.3<br>Nb ratings: 93<br><br><i>Walking time: 10 mins</i> <br><br>",
          "<b>ImmoStreet.ch SA</b><br><i>gym_fitness</i><br>Avenue d'Ouchy 66, Lausanne <br><br>Rating: 4.2<br>Nb ratings: 13<br><br><i>Walking time: 1 min</i> <br><br>",
          "<b>imyoga.ch</b><br><i>gym_fitness</i><br>imyoga.ch at Hôtel Royal Savoy Lausanne, Avenue d'Ouchy 40, Lausanne <br><br>Rating: 5<br>Nb ratings: 162<br><br><i>Walking time: 7 mins</i> <br><br>",
          "<b>IMD Gym</b><br><i>gym_fitness</i><br>Rue des Fontenailles 16, Lausanne <br><br>Rating: No rating available<br>Nb ratings: No ratings available<br><br><i>Walking time: 7 mins</i> <br><br>",
          "<b>Rubambelle Yoga prénatal</b><br><i>gym_fitness</i><br>Avenue Edouard-Rod 4, Lausanne <br><br>Rating: 5<br>Nb ratings: 5<br><br><i>Walking time: 9 mins</i> <br><br>",
          "<b>GR Lucens Gymnastique rythmique</b><br><i>gym_fitness</i><br>Avenue du Servan 10, Lausanne <br><br>Rating: No rating available<br>Nb ratings: No ratings available<br><br><i>Walking time: 10 mins</i> <br><br>",
          "<b>Hôtel du Port</b><br><i>grocery_stores_supermarkets</i><br>Place du Port 5, Lausanne <br><br>Rating: 4.2<br>Nb ratings: 372<br><br><i>Walking time: 3 mins</i> <br><br>",
          "<b>Mövenpick Lausanne</b><br><i>grocery_stores_supermarkets</i><br>Avenue de Rhodanie 4, Lausanne <br><br>Rating: 4.1<br>Nb ratings: 2967<br><br><i>Walking time: 6 mins</i> <br><br>",
          "<b>Château d'Ouchy</b><br><i>grocery_stores_supermarkets</i><br>Place du Port, Lausanne <br><br>Rating: 4.4<br>Nb ratings: 1978<br><br><i>Walking time: 3 mins</i> <br><br>",
          "<b>Angleterre & Résidence</b><br><i>grocery_stores_supermarkets</i><br>Place du Port 11, Lausanne <br><br>Rating: 4.4<br>Nb ratings: 395<br><br><i>Walking time: 3 mins</i> <br><br>",
          "<b>Beau-Rivage Palace</b><br><i>grocery_stores_supermarkets</i><br>Chemin de Beau-Rivage 21, Lausanne <br><br>Rating: 4.7<br>Nb ratings: 2411<br><br><i>Walking time: 4 mins</i> <br><br>",
          "<b>Carlton Lausanne Boutique Hotel‎</b><br><i>grocery_stores_supermarkets</i><br>Avenue de Cour 4, Lausanne <br><br>Rating: 4.2<br>Nb ratings: 500<br><br><i>Walking time: 8 mins</i> <br><br>",
          "<b>Coop Supermarché Lausanne La Harpe</b><br><i>grocery_stores_supermarkets</i><br>Avenue Frédéric-César-de-la-Harpe 33, Lausanne <br><br>Rating: 4<br>Nb ratings: 279<br><br><i>Walking time: 6 mins</i> <br><br>",
          "<b>IMD Business School</b><br><i>grocery_stores_supermarkets</i><br>Chemin de Bellerive 23, Lausanne <br><br>Rating: 4.4<br>Nb ratings: 96<br><br><i>Walking time: 10 mins</i> <br><br>",
          "<b>The Olympic Museum</b><br><i>grocery_stores_supermarkets</i><br>Quai d'Ouchy 1, Lausanne <br><br>Rating: 4.6<br>Nb ratings: 8748<br><br><i>Walking time: 10 mins</i> <br><br>",
          "<b>Clinique Bois-Cerf</b><br><i>grocery_stores_supermarkets</i><br>Avenue d'Ouchy 31, Lausanne <br><br>Rating: 4.3<br>Nb ratings: 93<br><br><i>Walking time: 10 mins</i> <br><br>",
          "<b>ImmoStreet.ch SA</b><br><i>grocery_stores_supermarkets</i><br>Avenue d'Ouchy 66, Lausanne <br><br>Rating: 4.2<br>Nb ratings: 13<br><br><i>Walking time: 1 min</i> <br><br>",
          "<b>Coop Supermarché Lausanne La Harpe</b><br><i>grocery_stores_supermarkets</i><br>Avenue Frédéric-César-de-la-Harpe 33, Lausanne <br><br>Rating: 4<br>Nb ratings: 279<br><br><i>Walking time: 6 mins</i> <br><br>",
          "<b>Coop Pronto Lausanne Ouchy</b><br><i>grocery_stores_supermarkets</i><br>Avenue d'Ouchy 68, Lausanne <br><br>Rating: 4.1<br>Nb ratings: 377<br><br><i>Walking time: 1 min</i> <br><br>",
          "<b>Supermarché Migros - Lausanne - La Harpe</b><br><i>grocery_stores_supermarkets</i><br>Avenue Frédéric-César-de-la-Harpe 17, Lausanne <br><br>Rating: 3.8<br>Nb ratings: 127<br><br><i>Walking time: 8 mins</i> <br><br>",
          "<b>Migros Partenaire - MP Ouchy</b><br><i>grocery_stores_supermarkets</i><br>Avenue de Rhodanie 2, Lausanne <br><br>Rating: 4.1<br>Nb ratings: 792<br><br><i>Walking time: 5 mins</i> <br><br>",
          "<b>Krüger & Kazan Sàrl</b><br><i>gas_ev_charging</i><br>Chemin de la Joliette 4, Lausanne <br><br>Rating: No rating available<br>Nb ratings: No ratings available<br><br><i>Walking time: 9 mins</i> <br><br>",
          "<b>Pompe à essence Eni</b><br><i>gas_ev_charging</i><br>Chemin des Pêcheurs 9, Lausanne <br><br>Rating: 3.3<br>Nb ratings: 6<br><br><i>Walking time: 10 mins</i> <br><br>",
          "<b>station-service pour bateaux</b><br><i>gas_ev_charging</i><br>Chemin des Pêcheurs 11, Lausanne <br><br>Rating: 2<br>Nb ratings: 2<br><br><i>Walking time: 10 mins</i> <br><br>",
          "<b>Hôtel du Port</b><br><i>gas_ev_charging</i><br>Place du Port 5, Lausanne <br><br>Rating: 4.2<br>Nb ratings: 372<br><br><i>Walking time: 3 mins</i> <br><br>",
          "<b>Mövenpick Lausanne</b><br><i>gas_ev_charging</i><br>Avenue de Rhodanie 4, Lausanne <br><br>Rating: 4.1<br>Nb ratings: 2967<br><br><i>Walking time: 6 mins</i> <br><br>",
          "<b>Château d'Ouchy</b><br><i>gas_ev_charging</i><br>Place du Port, Lausanne <br><br>Rating: 4.4<br>Nb ratings: 1978<br><br><i>Walking time: 3 mins</i> <br><br>",
          "<b>Angleterre & Résidence</b><br><i>gas_ev_charging</i><br>Place du Port 11, Lausanne <br><br>Rating: 4.4<br>Nb ratings: 395<br><br><i>Walking time: 3 mins</i> <br><br>",
          "<b>Beau-Rivage Palace</b><br><i>gas_ev_charging</i><br>Chemin de Beau-Rivage 21, Lausanne <br><br>Rating: 4.7<br>Nb ratings: 2411<br><br><i>Walking time: 4 mins</i> <br><br>",
          "<b>Carlton Lausanne Boutique Hotel‎</b><br><i>gas_ev_charging</i><br>Avenue de Cour 4, Lausanne <br><br>Rating: 4.2<br>Nb ratings: 500<br><br><i>Walking time: 8 mins</i> <br><br>",
          "<b>Coop Supermarché Lausanne La Harpe</b><br><i>gas_ev_charging</i><br>Avenue Frédéric-César-de-la-Harpe 33, Lausanne <br><br>Rating: 4<br>Nb ratings: 279<br><br><i>Walking time: 6 mins</i> <br><br>",
          "<b>IMD Business School</b><br><i>gas_ev_charging</i><br>Chemin de Bellerive 23, Lausanne <br><br>Rating: 4.4<br>Nb ratings: 96<br><br><i>Walking time: 10 mins</i> <br><br>",
          "<b>The Olympic Museum</b><br><i>gas_ev_charging</i><br>Quai d'Ouchy 1, Lausanne <br><br>Rating: 4.6<br>Nb ratings: 8748<br><br><i>Walking time: 10 mins</i> <br><br>",
          "<b>Clinique Bois-Cerf</b><br><i>gas_ev_charging</i><br>Avenue d'Ouchy 31, Lausanne <br><br>Rating: 4.3<br>Nb ratings: 93<br><br><i>Walking time: 10 mins</i> <br><br>",
          "<b>ImmoStreet.ch SA</b><br><i>gas_ev_charging</i><br>Avenue d'Ouchy 66, Lausanne <br><br>Rating: 4.2<br>Nb ratings: 13<br><br><i>Walking time: 1 min</i> <br><br>",
          "<b>Formasuisse, Formations Rh, Management, Certificat Rh</b><br><i>schools</i><br>Rue du Liseron 7, Lausanne <br><br>Rating: 4.2<br>Nb ratings: 14<br><br><i>Walking time: 2 mins</i> <br><br>",
          "<b>Ih Architecture</b><br><i>schools</i><br>Chemin Auguste-Pidou 8, Lausanne <br><br>Rating: 5<br>Nb ratings: 1<br><br><i>Walking time: 5 mins</i> <br><br>",
          "<b>Center for Teaching Practices of Health (CEPS)</b><br><i>schools</i><br>Lausanne <br><br>Rating: 3.3<br>Nb ratings: 3<br><br><i>Walking time: 10 mins</i> <br><br>",
          "<b>Direction Générale De L'enseignement Supérieur</b><br><i>schools</i><br>Avenue de l'Elysée 4/3e étage, Lausanne <br><br>Rating: No rating available<br>Nb ratings: No ratings available<br><br><i>Walking time: 10 mins</i> <br><br>",
          "<b>Haute École de Santé Vaud (HESAV) · Site Elysée</b><br><i>schools</i><br>Avenue de l'Elysée 4, Lausanne <br><br>Rating: No rating available<br>Nb ratings: No ratings available<br><br><i>Walking time: 9 mins</i> <br><br>"
         ],
         "type": "scattermapbox"
        },
        {
         "hoverinfo": "text",
         "lat": [
          46.5087576
         ],
         "lon": [
          6.627395399999999
         ],
         "marker": {
          "color": "black",
          "opacity": 1,
          "size": 20
         },
         "mode": "markers",
         "showlegend": false,
         "text": "1006 Lausanne, Av. d'Ouchy 58",
         "type": "scattermapbox"
        }
       ],
       "layout": {
        "height": 800,
        "mapbox": {
         "center": {
          "lat": 46.5087576,
          "lon": 6.627395399999999
         },
         "style": "open-street-map",
         "zoom": 14
        },
        "margin": {
         "b": 0,
         "l": 0,
         "r": 0,
         "t": 0
        },
        "showlegend": false,
        "template": {
         "data": {
          "bar": [
           {
            "error_x": {
             "color": "#2a3f5f"
            },
            "error_y": {
             "color": "#2a3f5f"
            },
            "marker": {
             "line": {
              "color": "#E5ECF6",
              "width": 0.5
             },
             "pattern": {
              "fillmode": "overlay",
              "size": 10,
              "solidity": 0.2
             }
            },
            "type": "bar"
           }
          ],
          "barpolar": [
           {
            "marker": {
             "line": {
              "color": "#E5ECF6",
              "width": 0.5
             },
             "pattern": {
              "fillmode": "overlay",
              "size": 10,
              "solidity": 0.2
             }
            },
            "type": "barpolar"
           }
          ],
          "carpet": [
           {
            "aaxis": {
             "endlinecolor": "#2a3f5f",
             "gridcolor": "white",
             "linecolor": "white",
             "minorgridcolor": "white",
             "startlinecolor": "#2a3f5f"
            },
            "baxis": {
             "endlinecolor": "#2a3f5f",
             "gridcolor": "white",
             "linecolor": "white",
             "minorgridcolor": "white",
             "startlinecolor": "#2a3f5f"
            },
            "type": "carpet"
           }
          ],
          "choropleth": [
           {
            "colorbar": {
             "outlinewidth": 0,
             "ticks": ""
            },
            "type": "choropleth"
           }
          ],
          "contour": [
           {
            "colorbar": {
             "outlinewidth": 0,
             "ticks": ""
            },
            "colorscale": [
             [
              0,
              "#0d0887"
             ],
             [
              0.1111111111111111,
              "#46039f"
             ],
             [
              0.2222222222222222,
              "#7201a8"
             ],
             [
              0.3333333333333333,
              "#9c179e"
             ],
             [
              0.4444444444444444,
              "#bd3786"
             ],
             [
              0.5555555555555556,
              "#d8576b"
             ],
             [
              0.6666666666666666,
              "#ed7953"
             ],
             [
              0.7777777777777778,
              "#fb9f3a"
             ],
             [
              0.8888888888888888,
              "#fdca26"
             ],
             [
              1,
              "#f0f921"
             ]
            ],
            "type": "contour"
           }
          ],
          "contourcarpet": [
           {
            "colorbar": {
             "outlinewidth": 0,
             "ticks": ""
            },
            "type": "contourcarpet"
           }
          ],
          "heatmap": [
           {
            "colorbar": {
             "outlinewidth": 0,
             "ticks": ""
            },
            "colorscale": [
             [
              0,
              "#0d0887"
             ],
             [
              0.1111111111111111,
              "#46039f"
             ],
             [
              0.2222222222222222,
              "#7201a8"
             ],
             [
              0.3333333333333333,
              "#9c179e"
             ],
             [
              0.4444444444444444,
              "#bd3786"
             ],
             [
              0.5555555555555556,
              "#d8576b"
             ],
             [
              0.6666666666666666,
              "#ed7953"
             ],
             [
              0.7777777777777778,
              "#fb9f3a"
             ],
             [
              0.8888888888888888,
              "#fdca26"
             ],
             [
              1,
              "#f0f921"
             ]
            ],
            "type": "heatmap"
           }
          ],
          "heatmapgl": [
           {
            "colorbar": {
             "outlinewidth": 0,
             "ticks": ""
            },
            "colorscale": [
             [
              0,
              "#0d0887"
             ],
             [
              0.1111111111111111,
              "#46039f"
             ],
             [
              0.2222222222222222,
              "#7201a8"
             ],
             [
              0.3333333333333333,
              "#9c179e"
             ],
             [
              0.4444444444444444,
              "#bd3786"
             ],
             [
              0.5555555555555556,
              "#d8576b"
             ],
             [
              0.6666666666666666,
              "#ed7953"
             ],
             [
              0.7777777777777778,
              "#fb9f3a"
             ],
             [
              0.8888888888888888,
              "#fdca26"
             ],
             [
              1,
              "#f0f921"
             ]
            ],
            "type": "heatmapgl"
           }
          ],
          "histogram": [
           {
            "marker": {
             "pattern": {
              "fillmode": "overlay",
              "size": 10,
              "solidity": 0.2
             }
            },
            "type": "histogram"
           }
          ],
          "histogram2d": [
           {
            "colorbar": {
             "outlinewidth": 0,
             "ticks": ""
            },
            "colorscale": [
             [
              0,
              "#0d0887"
             ],
             [
              0.1111111111111111,
              "#46039f"
             ],
             [
              0.2222222222222222,
              "#7201a8"
             ],
             [
              0.3333333333333333,
              "#9c179e"
             ],
             [
              0.4444444444444444,
              "#bd3786"
             ],
             [
              0.5555555555555556,
              "#d8576b"
             ],
             [
              0.6666666666666666,
              "#ed7953"
             ],
             [
              0.7777777777777778,
              "#fb9f3a"
             ],
             [
              0.8888888888888888,
              "#fdca26"
             ],
             [
              1,
              "#f0f921"
             ]
            ],
            "type": "histogram2d"
           }
          ],
          "histogram2dcontour": [
           {
            "colorbar": {
             "outlinewidth": 0,
             "ticks": ""
            },
            "colorscale": [
             [
              0,
              "#0d0887"
             ],
             [
              0.1111111111111111,
              "#46039f"
             ],
             [
              0.2222222222222222,
              "#7201a8"
             ],
             [
              0.3333333333333333,
              "#9c179e"
             ],
             [
              0.4444444444444444,
              "#bd3786"
             ],
             [
              0.5555555555555556,
              "#d8576b"
             ],
             [
              0.6666666666666666,
              "#ed7953"
             ],
             [
              0.7777777777777778,
              "#fb9f3a"
             ],
             [
              0.8888888888888888,
              "#fdca26"
             ],
             [
              1,
              "#f0f921"
             ]
            ],
            "type": "histogram2dcontour"
           }
          ],
          "mesh3d": [
           {
            "colorbar": {
             "outlinewidth": 0,
             "ticks": ""
            },
            "type": "mesh3d"
           }
          ],
          "parcoords": [
           {
            "line": {
             "colorbar": {
              "outlinewidth": 0,
              "ticks": ""
             }
            },
            "type": "parcoords"
           }
          ],
          "pie": [
           {
            "automargin": true,
            "type": "pie"
           }
          ],
          "scatter": [
           {
            "fillpattern": {
             "fillmode": "overlay",
             "size": 10,
             "solidity": 0.2
            },
            "type": "scatter"
           }
          ],
          "scatter3d": [
           {
            "line": {
             "colorbar": {
              "outlinewidth": 0,
              "ticks": ""
             }
            },
            "marker": {
             "colorbar": {
              "outlinewidth": 0,
              "ticks": ""
             }
            },
            "type": "scatter3d"
           }
          ],
          "scattercarpet": [
           {
            "marker": {
             "colorbar": {
              "outlinewidth": 0,
              "ticks": ""
             }
            },
            "type": "scattercarpet"
           }
          ],
          "scattergeo": [
           {
            "marker": {
             "colorbar": {
              "outlinewidth": 0,
              "ticks": ""
             }
            },
            "type": "scattergeo"
           }
          ],
          "scattergl": [
           {
            "marker": {
             "colorbar": {
              "outlinewidth": 0,
              "ticks": ""
             }
            },
            "type": "scattergl"
           }
          ],
          "scattermapbox": [
           {
            "marker": {
             "colorbar": {
              "outlinewidth": 0,
              "ticks": ""
             }
            },
            "type": "scattermapbox"
           }
          ],
          "scatterpolar": [
           {
            "marker": {
             "colorbar": {
              "outlinewidth": 0,
              "ticks": ""
             }
            },
            "type": "scatterpolar"
           }
          ],
          "scatterpolargl": [
           {
            "marker": {
             "colorbar": {
              "outlinewidth": 0,
              "ticks": ""
             }
            },
            "type": "scatterpolargl"
           }
          ],
          "scatterternary": [
           {
            "marker": {
             "colorbar": {
              "outlinewidth": 0,
              "ticks": ""
             }
            },
            "type": "scatterternary"
           }
          ],
          "surface": [
           {
            "colorbar": {
             "outlinewidth": 0,
             "ticks": ""
            },
            "colorscale": [
             [
              0,
              "#0d0887"
             ],
             [
              0.1111111111111111,
              "#46039f"
             ],
             [
              0.2222222222222222,
              "#7201a8"
             ],
             [
              0.3333333333333333,
              "#9c179e"
             ],
             [
              0.4444444444444444,
              "#bd3786"
             ],
             [
              0.5555555555555556,
              "#d8576b"
             ],
             [
              0.6666666666666666,
              "#ed7953"
             ],
             [
              0.7777777777777778,
              "#fb9f3a"
             ],
             [
              0.8888888888888888,
              "#fdca26"
             ],
             [
              1,
              "#f0f921"
             ]
            ],
            "type": "surface"
           }
          ],
          "table": [
           {
            "cells": {
             "fill": {
              "color": "#EBF0F8"
             },
             "line": {
              "color": "white"
             }
            },
            "header": {
             "fill": {
              "color": "#C8D4E3"
             },
             "line": {
              "color": "white"
             }
            },
            "type": "table"
           }
          ]
         },
         "layout": {
          "annotationdefaults": {
           "arrowcolor": "#2a3f5f",
           "arrowhead": 0,
           "arrowwidth": 1
          },
          "autotypenumbers": "strict",
          "coloraxis": {
           "colorbar": {
            "outlinewidth": 0,
            "ticks": ""
           }
          },
          "colorscale": {
           "diverging": [
            [
             0,
             "#8e0152"
            ],
            [
             0.1,
             "#c51b7d"
            ],
            [
             0.2,
             "#de77ae"
            ],
            [
             0.3,
             "#f1b6da"
            ],
            [
             0.4,
             "#fde0ef"
            ],
            [
             0.5,
             "#f7f7f7"
            ],
            [
             0.6,
             "#e6f5d0"
            ],
            [
             0.7,
             "#b8e186"
            ],
            [
             0.8,
             "#7fbc41"
            ],
            [
             0.9,
             "#4d9221"
            ],
            [
             1,
             "#276419"
            ]
           ],
           "sequential": [
            [
             0,
             "#0d0887"
            ],
            [
             0.1111111111111111,
             "#46039f"
            ],
            [
             0.2222222222222222,
             "#7201a8"
            ],
            [
             0.3333333333333333,
             "#9c179e"
            ],
            [
             0.4444444444444444,
             "#bd3786"
            ],
            [
             0.5555555555555556,
             "#d8576b"
            ],
            [
             0.6666666666666666,
             "#ed7953"
            ],
            [
             0.7777777777777778,
             "#fb9f3a"
            ],
            [
             0.8888888888888888,
             "#fdca26"
            ],
            [
             1,
             "#f0f921"
            ]
           ],
           "sequentialminus": [
            [
             0,
             "#0d0887"
            ],
            [
             0.1111111111111111,
             "#46039f"
            ],
            [
             0.2222222222222222,
             "#7201a8"
            ],
            [
             0.3333333333333333,
             "#9c179e"
            ],
            [
             0.4444444444444444,
             "#bd3786"
            ],
            [
             0.5555555555555556,
             "#d8576b"
            ],
            [
             0.6666666666666666,
             "#ed7953"
            ],
            [
             0.7777777777777778,
             "#fb9f3a"
            ],
            [
             0.8888888888888888,
             "#fdca26"
            ],
            [
             1,
             "#f0f921"
            ]
           ]
          },
          "colorway": [
           "#636efa",
           "#EF553B",
           "#00cc96",
           "#ab63fa",
           "#FFA15A",
           "#19d3f3",
           "#FF6692",
           "#B6E880",
           "#FF97FF",
           "#FECB52"
          ],
          "font": {
           "color": "#2a3f5f"
          },
          "geo": {
           "bgcolor": "white",
           "lakecolor": "white",
           "landcolor": "#E5ECF6",
           "showlakes": true,
           "showland": true,
           "subunitcolor": "white"
          },
          "hoverlabel": {
           "align": "left"
          },
          "hovermode": "closest",
          "mapbox": {
           "style": "light"
          },
          "paper_bgcolor": "white",
          "plot_bgcolor": "#E5ECF6",
          "polar": {
           "angularaxis": {
            "gridcolor": "white",
            "linecolor": "white",
            "ticks": ""
           },
           "bgcolor": "#E5ECF6",
           "radialaxis": {
            "gridcolor": "white",
            "linecolor": "white",
            "ticks": ""
           }
          },
          "scene": {
           "xaxis": {
            "backgroundcolor": "#E5ECF6",
            "gridcolor": "white",
            "gridwidth": 2,
            "linecolor": "white",
            "showbackground": true,
            "ticks": "",
            "zerolinecolor": "white"
           },
           "yaxis": {
            "backgroundcolor": "#E5ECF6",
            "gridcolor": "white",
            "gridwidth": 2,
            "linecolor": "white",
            "showbackground": true,
            "ticks": "",
            "zerolinecolor": "white"
           },
           "zaxis": {
            "backgroundcolor": "#E5ECF6",
            "gridcolor": "white",
            "gridwidth": 2,
            "linecolor": "white",
            "showbackground": true,
            "ticks": "",
            "zerolinecolor": "white"
           }
          },
          "shapedefaults": {
           "line": {
            "color": "#2a3f5f"
           }
          },
          "ternary": {
           "aaxis": {
            "gridcolor": "white",
            "linecolor": "white",
            "ticks": ""
           },
           "baxis": {
            "gridcolor": "white",
            "linecolor": "white",
            "ticks": ""
           },
           "bgcolor": "#E5ECF6",
           "caxis": {
            "gridcolor": "white",
            "linecolor": "white",
            "ticks": ""
           }
          },
          "title": {
           "x": 0.05
          },
          "xaxis": {
           "automargin": true,
           "gridcolor": "white",
           "linecolor": "white",
           "ticks": "",
           "title": {
            "standoff": 15
           },
           "zerolinecolor": "white",
           "zerolinewidth": 2
          },
          "yaxis": {
           "automargin": true,
           "gridcolor": "white",
           "linecolor": "white",
           "ticks": "",
           "title": {
            "standoff": 15
           },
           "zerolinecolor": "white",
           "zerolinewidth": 2
          }
         }
        },
        "width": 800
       }
      }
     },
     "metadata": {},
     "output_type": "display_data"
    }
   ],
   "source": [
    "FILE = load_data(FILES[2])\n",
    "base_map = create_base_map(FILE, 800, 800, 14)\n",
    "add_population(base_map, FILE)\n",
    "add_isochrone(base_map, FILE)\n",
    "add_places(base_map, FILE)\n",
    "add_original_address(base_map, FILE)"
   ]
  },
  {
   "cell_type": "code",
   "execution_count": 32,
   "metadata": {},
   "outputs": [
    {
     "data": {
      "application/vnd.plotly.v1+json": {
       "config": {
        "plotlyServerURL": "https://plot.ly"
       },
       "data": [
        {
         "type": "scattermapbox"
        },
        {
         "hoverinfo": "text",
         "hovertemplate": "%{text}<extra></extra>",
         "lat": [
          47.49567618579693,
          47.494760366590306,
          47.49201281931675,
          47.4937946502759,
          47.4901810464326,
          47.491080283360844,
          47.49377799245539,
          47.49467722825618,
          47.48836590037159,
          47.49106361116217,
          47.49196284752959,
          47.492862083615215,
          47.49376131941888,
          47.49466055494034,
          47.495559790179385,
          47.49104692374825,
          47.49194615983615,
          47.492845395642206,
          47.49374463116631,
          47.4946438664082,
          47.49013098502943,
          47.49103022111905,
          47.49192945692714,
          47.492828692453465,
          47.493727927697726,
          47.49642563173639,
          47.49732486585049,
          47.4892150313741,
          47.490114267465046,
          47.49101350327464,
          47.49191273880267,
          47.49281197404889,
          47.493711209013156,
          47.49461044369513,
          47.49550967809467,
          47.49640891221154,
          47.49730814604553,
          47.498207379596366,
          47.490097534685695,
          47.49099677021499,
          47.49189600546277,
          47.49279524042864,
          47.49369447511258,
          47.49459370951422,
          47.49549294363342,
          47.49819064429405,
          47.48918155116126,
          47.49008078669141,
          47.49098002194014,
          47.49187925690733,
          47.49277849159265,
          47.493677725996015,
          47.494576960117094,
          47.49547619395571,
          47.497274660784626,
          47.489164788232834,
          47.49006402348215,
          47.49096325845012,
          47.49276172754102,
          47.49366096166353,
          47.49456019550378,
          47.49545942906156,
          47.49635866233656,
          47.49094647974493,
          47.49274494827369,
          47.49364418211511,
          47.49454341567423
         ],
         "lon": [
          8.884551610453014,
          8.885853979123317,
          8.889760815812409,
          8.891136701981155,
          8.892365149186503,
          8.892389735637792,
          8.89246350000441,
          8.892488089797693,
          8.89364264133343,
          8.893716465499919,
          8.893741075227725,
          8.893765685791765,
          8.893790297192096,
          8.893814909428755,
          8.8938395225018,
          8.895043194525858,
          8.895067826694705,
          8.895092459700551,
          8.895117093543446,
          8.895141728223432,
          8.896345268942717,
          8.896369922714847,
          8.896394577324688,
          8.89641923277229,
          8.8964438890577,
          8.89651786294127,
          8.896542522578404,
          8.897647298479926,
          8.89767197385381,
          8.897696650066125,
          8.897721327116908,
          8.897746005006216,
          8.897770683734093,
          8.897795363300592,
          8.897820043705758,
          8.89784472494964,
          8.897869407032294,
          8.89789408995376,
          8.898998677926478,
          8.899023376578928,
          8.899048076070605,
          8.899072776401567,
          8.899097477571868,
          8.899122179581546,
          8.899146882430657,
          8.899220996015062,
          8.90030066090738,
          8.900325381159961,
          8.90035010225249,
          8.900374824185016,
          8.900399546957589,
          8.900424270570257,
          8.90044899502307,
          8.900473720316075,
          8.90052317342286,
          8.901627340861637,
          8.901652083553492,
          8.901676827086058,
          8.901726316673514,
          8.901751062728502,
          8.901775809624395,
          8.90180055736125,
          8.901825305939104,
          8.903003551078863,
          8.90305308554858,
          8.903077854045842,
          8.903102623384772
         ],
         "marker": {
          "color": "purple",
          "opacity": 0.5,
          "size": 40
         },
         "mode": "markers",
         "showlegend": false,
         "text": [
          3,
          5,
          7,
          8,
          3,
          9,
          3,
          20,
          3,
          8,
          39,
          43,
          34,
          10,
          3,
          40,
          39,
          59,
          86,
          42,
          3,
          78,
          151,
          75,
          69,
          4,
          5,
          3,
          7,
          19,
          54,
          69,
          32,
          21,
          27,
          3,
          3,
          5,
          6,
          45,
          52,
          38,
          22,
          42,
          58,
          3,
          51,
          34,
          24,
          130,
          27,
          27,
          12,
          132,
          3,
          38,
          121,
          23,
          28,
          26,
          23,
          25,
          5,
          4,
          69,
          81,
          80
         ],
         "type": "scattermapbox"
        },
        {
         "fill": "toself",
         "fillcolor": "rgba(10,80,50,0.25)",
         "hoverinfo": "text",
         "lat": [
          47.493059,
          47.491363,
          47.491603,
          47.491962,
          47.49415,
          47.494247,
          47.494383,
          47.494853,
          47.494877,
          47.494735,
          47.493408,
          47.493059
         ],
         "line": {
          "color": "rgba(10,80,50,1)",
          "width": 1
         },
         "lon": [
          8.891193,
          8.893429,
          8.894088,
          8.894117,
          8.894272,
          8.894087,
          8.893634,
          8.892122,
          8.891939,
          8.891802,
          8.891105,
          8.891193
         ],
         "marker": {
          "color": "blue",
          "size": 1
         },
         "mode": "lines",
         "showlegend": false,
         "text": "3.0min. walking",
         "type": "scattermapbox"
        },
        {
         "fill": "toself",
         "fillcolor": "rgba(10,80,50,0.25)",
         "hoverinfo": "text",
         "lat": [
          47.49481,
          47.490747,
          47.490016,
          47.489886,
          47.490952,
          47.491186,
          47.493831,
          47.49419,
          47.495471,
          47.497337,
          47.497378,
          47.495166,
          47.49481
         ],
         "line": {
          "color": "rgba(10,80,50,1)",
          "width": 1
         },
         "lon": [
          8.889716,
          8.891468,
          8.892749,
          8.89379,
          8.895616,
          8.89589,
          8.896439,
          8.89641,
          8.895666,
          8.892604,
          8.892246,
          8.889763,
          8.889716
         ],
         "marker": {
          "color": "blue",
          "size": 1
         },
         "mode": "lines",
         "showlegend": false,
         "text": "5.0min. walking",
         "type": "scattermapbox"
        },
        {
         "fill": "toself",
         "fillcolor": "rgba(10,80,50,0.25)",
         "hoverinfo": "text",
         "lat": [
          47.495108,
          47.491119,
          47.490203,
          47.489087,
          47.49001,
          47.490349,
          47.494025,
          47.494372,
          47.496388,
          47.498157,
          47.498183,
          47.498225,
          47.495465,
          47.495108
         ],
         "line": {
          "color": "rgba(10,80,50,1)",
          "width": 1
         },
         "lon": [
          8.887541,
          8.889654,
          8.890473,
          8.895083,
          8.897519,
          8.897641,
          8.898803,
          8.898708,
          8.896866,
          8.892774,
          8.892701,
          8.892343,
          8.88759,
          8.887541
         ],
         "marker": {
          "color": "blue",
          "size": 1
         },
         "mode": "lines",
         "showlegend": false,
         "text": "7.0min. walking",
         "type": "scattermapbox"
        },
        {
         "fill": "toself",
         "fillcolor": "rgba(10,80,50,0.25)",
         "hoverinfo": "text",
         "lat": [
          47.495573,
          47.494721,
          47.491825,
          47.491046,
          47.490946,
          47.488236,
          47.487639,
          47.487342,
          47.488972,
          47.489312,
          47.495053,
          47.49537,
          47.497518,
          47.498526,
          47.500551,
          47.500527,
          47.498592,
          47.49705,
          47.495928,
          47.495573
         ],
         "line": {
          "color": "rgba(10,80,50,1)",
          "width": 1
         },
         "lon": [
          8.884282,
          8.884581,
          8.886376,
          8.886845,
          8.887386,
          8.892577,
          8.893476,
          8.897715,
          8.90059,
          8.90071,
          8.901186,
          8.901017,
          8.898069,
          8.896292,
          8.892732,
          8.892373,
          8.889482,
          8.886647,
          8.884336,
          8.884282
         ],
         "marker": {
          "color": "blue",
          "size": 1
         },
         "mode": "lines",
         "showlegend": false,
         "text": "10.0min. walking",
         "type": "scattermapbox"
        },
        {
         "fill": "toself",
         "fillcolor": "rgba(10,80,50,0.25)",
         "hoverinfo": "text",
         "lat": [
          47.496064,
          47.491354,
          47.491091,
          47.487362,
          47.48571,
          47.485241,
          47.486242,
          47.488068,
          47.488278,
          47.492285,
          47.492645,
          47.496514,
          47.49669,
          47.499439,
          47.500423,
          47.502349,
          47.502379,
          47.500839,
          47.499294,
          47.497722,
          47.49642,
          47.496064
         ],
         "line": {
          "color": "rgba(10,80,50,1)",
          "width": 1
         },
         "lon": [
          8.881035,
          8.884247,
          8.885559,
          8.889969,
          8.892585,
          8.897865,
          8.900217,
          8.90327,
          8.903459,
          8.904183,
          8.904186,
          8.903892,
          8.90374,
          8.898694,
          8.896144,
          8.892586,
          8.892227,
          8.889604,
          8.88687,
          8.88384,
          8.881089,
          8.881035
         ],
         "marker": {
          "color": "blue",
          "size": 1
         },
         "mode": "lines",
         "showlegend": false,
         "text": "13.0min. walking",
         "type": "scattermapbox"
        },
        {
         "fill": "toself",
         "fillcolor": "rgba(10,80,50,0.25)",
         "hoverinfo": "text",
         "lat": [
          47.49639,
          47.492228,
          47.490192,
          47.487646,
          47.484191,
          47.484782,
          47.484545,
          47.485644,
          47.487307,
          47.487642,
          47.492773,
          47.497227,
          47.497545,
          47.498891,
          47.499069,
          47.500663,
          47.500833,
          47.501961,
          47.503711,
          47.503925,
          47.503246,
          47.500789,
          47.499214,
          47.496746,
          47.49639
         ],
         "line": {
          "color": "rgba(10,80,50,1)",
          "width": 1
         },
         "lon": [
          8.87887,
          8.881688,
          8.884945,
          8.887782,
          8.892516,
          8.89803,
          8.899114,
          8.901002,
          8.905403,
          8.905536,
          8.906382,
          8.9056,
          8.905431,
          8.903165,
          8.902852,
          8.899792,
          8.899475,
          8.895612,
          8.893453,
          8.89287,
          8.891537,
          8.887018,
          8.884041,
          8.878924,
          8.87887
         ],
         "marker": {
          "color": "blue",
          "size": 1
         },
         "mode": "lines",
         "showlegend": false,
         "text": "15.0min. walking",
         "type": "scattermapbox"
        },
        {
         "hoverinfo": "text",
         "hovertemplate": "%{text}<extra></extra>",
         "lat": [
          47.4927474,
          47.4930294,
          47.4919521,
          47.4921551,
          47.4939219,
          47.4919521,
          47.492302,
          47.49362180000001,
          47.491891,
          47.4954295,
          47.49402869999999,
          47.4935874,
          47.4923648,
          47.49406020000001,
          47.4940715,
          47.49407859999999,
          47.4940562,
          47.4918326,
          47.4921551,
          47.494054,
          47.4943893,
          47.494201,
          47.491891,
          47.4954295,
          47.49402869999999,
          47.4935874,
          47.4923648,
          47.49406020000001,
          47.4940715,
          47.49407859999999,
          47.4940562,
          47.4918326,
          47.4921551,
          47.494054,
          47.4943893,
          47.494201,
          47.491891,
          47.4954295,
          47.49402869999999,
          47.4935874,
          47.4923648,
          47.49406020000001,
          47.4940715,
          47.49407859999999,
          47.4940562,
          47.4918326,
          47.4921551,
          47.494054,
          47.4943893,
          47.494201,
          47.493973,
          47.491891,
          47.4954295,
          47.49402869999999,
          47.4935874,
          47.4923648,
          47.49406020000001,
          47.4940715,
          47.49407859999999,
          47.4940562,
          47.4918326,
          47.4921551,
          47.494054,
          47.4943893,
          47.494201,
          47.49418439999999,
          47.49586110000001,
          47.4935874,
          47.49281069999999,
          47.491891,
          47.4954295,
          47.49402869999999,
          47.4935874,
          47.4923648,
          47.49406020000001,
          47.4940715,
          47.49407859999999,
          47.4940562,
          47.4918326,
          47.4921551,
          47.494054,
          47.4943893,
          47.494201,
          47.49326259999999,
          47.49326259999999,
          47.4935983,
          47.491891,
          47.4954295,
          47.49402869999999,
          47.4935874,
          47.4923648,
          47.49406020000001,
          47.4940715,
          47.49407859999999,
          47.4940562,
          47.4918326,
          47.4921551,
          47.494054,
          47.4943893,
          47.494201
         ],
         "lon": [
          8.894442399999999,
          8.8947657,
          8.8953069,
          8.8967683,
          8.8942008,
          8.8953069,
          8.896139,
          8.8982934,
          8.897142500000001,
          8.897994599999999,
          8.898838999999997,
          8.8982843,
          8.8991006,
          8.8988709,
          8.894817600000001,
          8.895866299999998,
          8.8988632,
          8.897652800000001,
          8.8967683,
          8.8985142,
          8.8974973,
          8.895315,
          8.897142500000001,
          8.897994599999999,
          8.898838999999997,
          8.8982843,
          8.8991006,
          8.8988709,
          8.894817600000001,
          8.895866299999998,
          8.8988632,
          8.897652800000001,
          8.8967683,
          8.8985142,
          8.8974973,
          8.895315,
          8.897142500000001,
          8.897994599999999,
          8.898838999999997,
          8.8982843,
          8.8991006,
          8.8988709,
          8.894817600000001,
          8.895866299999998,
          8.8988632,
          8.897652800000001,
          8.8967683,
          8.8985142,
          8.8974973,
          8.895315,
          8.896187000000001,
          8.897142500000001,
          8.897994599999999,
          8.898838999999997,
          8.8982843,
          8.8991006,
          8.8988709,
          8.894817600000001,
          8.895866299999998,
          8.8988632,
          8.897652800000001,
          8.8967683,
          8.8985142,
          8.8974973,
          8.895315,
          8.899792699999997,
          8.893654300000001,
          8.8982843,
          8.898582200000002,
          8.897142500000001,
          8.897994599999999,
          8.898838999999997,
          8.8982843,
          8.8991006,
          8.8988709,
          8.894817600000001,
          8.895866299999998,
          8.8988632,
          8.897652800000001,
          8.8967683,
          8.8985142,
          8.8974973,
          8.895315,
          8.8987345,
          8.8987345,
          8.898304,
          8.897142500000001,
          8.897994599999999,
          8.898838999999997,
          8.8982843,
          8.8991006,
          8.8988709,
          8.894817600000001,
          8.895866299999998,
          8.8988632,
          8.897652800000001,
          8.8967683,
          8.8985142,
          8.8974973,
          8.895315
         ],
         "marker": {
          "color": [
           "pink",
           "pink",
           "pink",
           "yellow",
           "yellow",
           "yellow",
           "yellow",
           "yellow",
           "orange",
           "orange",
           "orange",
           "orange",
           "orange",
           "orange",
           "orange",
           "orange",
           "orange",
           "orange",
           "orange",
           "orange",
           "orange",
           "orange",
           "orange",
           "orange",
           "orange",
           "orange",
           "orange",
           "orange",
           "orange",
           "orange",
           "orange",
           "orange",
           "orange",
           "orange",
           "orange",
           "orange",
           "purple",
           "purple",
           "purple",
           "purple",
           "purple",
           "purple",
           "purple",
           "purple",
           "purple",
           "purple",
           "purple",
           "purple",
           "purple",
           "purple",
           "purple",
           "brown",
           "brown",
           "brown",
           "brown",
           "brown",
           "brown",
           "brown",
           "brown",
           "brown",
           "brown",
           "brown",
           "brown",
           "brown",
           "brown",
           "brown",
           "brown",
           "brown",
           "brown",
           "red",
           "red",
           "red",
           "red",
           "red",
           "red",
           "red",
           "red",
           "red",
           "red",
           "red",
           "red",
           "red",
           "red",
           "red",
           "cyan",
           "cyan",
           "cyan",
           "cyan",
           "cyan",
           "cyan",
           "cyan",
           "cyan",
           "cyan",
           "cyan",
           "cyan",
           "cyan",
           "cyan",
           "cyan",
           "cyan",
           "cyan"
          ],
          "opacity": 1,
          "size": 10
         },
         "mode": "markers",
         "showlegend": false,
         "text": [
          "<b>RotFarbKeller</b><br><i>bars</i><br>Hauptstrasse 47, Aadorf <br><br>Rating: 5<br>Nb ratings: 11<br><br><i>Walking time: 5 mins</i> <br><br>",
          "<b>PÄNG! Pub</b><br><i>bars</i><br>Hauptstrasse 43, Aadorf <br><br>Rating: 5<br>Nb ratings: 6<br><br><i>Walking time: 5 mins</i> <br><br>",
          "<b>Restaurant Grütli</b><br><i>bars</i><br>Stationsstrasse 4, Aadorf <br><br>Rating: 4.4<br>Nb ratings: 21<br><br><i>Walking time: 7 mins</i> <br><br>",
          "<b>WANTANA THAI TAKE AWAY</b><br><i>restaurants</i><br>Hauptstrasse 20, Aadorf <br><br>Rating: 4.8<br>Nb ratings: 70<br><br><i>Walking time: 8 mins</i> <br><br>",
          "<b>Ristorante El Capone</b><br><i>restaurants</i><br>Hauptstrasse 50, Aadorf <br><br>Rating: 4.4<br>Nb ratings: 287<br><br><i>Walking time: 3 mins</i> <br><br>",
          "<b>Restaurant Grütli</b><br><i>restaurants</i><br>Stationsstrasse 4, Aadorf <br><br>Rating: 4.4<br>Nb ratings: 21<br><br><i>Walking time: 7 mins</i> <br><br>",
          "<b>Anker</b><br><i>restaurants</i><br>Hauptstrasse 28, Aadorf <br><br>Rating: No rating available<br>Nb ratings: No ratings available<br><br><i>Walking time: 8 mins</i> <br><br>",
          "<b>Nafzger GmbH Bäckerei-Konditorei-Café</b><br><i>restaurants</i><br>Morgentalstrasse 24, Aadorf <br><br>Rating: 4.5<br>Nb ratings: 156<br><br><i>Walking time: 8 mins</i> <br><br>",
          "<b>Kreativ Atelier Aadorf</b><br><i>kindergarten</i><br>Hauptstrasse 21, Aadorf <br><br>Rating: 4.8<br>Nb ratings: 13<br><br><i>Walking time: 9 mins</i> <br><br>",
          "<b>AAA Dogsitting</b><br><i>kindergarten</i><br>Feldstrasse 15, Aadorf <br><br>Rating: 4.5<br>Nb ratings: 2<br><br><i>Walking time: 10 mins</i> <br><br>",
          "<b>Zubi Aadorf</b><br><i>kindergarten</i><br>Wittenwilerstrasse 6, Aadorf <br><br>Rating: 4.7<br>Nb ratings: 129<br><br><i>Walking time: 9 mins</i> <br><br>",
          "<b>Morgental Garage GmbH</b><br><i>kindergarten</i><br>Morgentalstrasse 24, Aadorf <br><br>Rating: 4.4<br>Nb ratings: 19<br><br><i>Walking time: 8 mins</i> <br><br>",
          "<b>Multi-Energie AG</b><br><i>kindergarten</i><br>Wiesentalstrasse 20, Aadorf <br><br>Rating: No rating available<br>Nb ratings: No ratings available<br><br><i>Walking time: 10 mins</i> <br><br>",
          "<b>Bachmann H. AG</b><br><i>kindergarten</i><br>Wittenwilerstrasse 6, Aadorf <br><br>Rating: No rating available<br>Nb ratings: No ratings available<br><br><i>Walking time: 9 mins</i> <br><br>",
          "<b>System-Clinch Telecom GmbH</b><br><i>kindergarten</i><br>Morgentalstrasse 44, Aadorf <br><br>Rating: 4.1<br>Nb ratings: 14<br><br><i>Walking time: 4 mins</i> <br><br>",
          "<b>HS Automobile AG</b><br><i>kindergarten</i><br>Morgentalstrasse 34, Aadorf <br><br>Rating: 4.8<br>Nb ratings: 74<br><br><i>Walking time: 5 mins</i> <br><br>",
          "<b>Allegra Werbeartikel GmbH</b><br><i>kindergarten</i><br>Wittenwilerstrasse 6, Aadorf <br><br>Rating: 5<br>Nb ratings: 1<br><br><i>Walking time: 9 mins</i> <br><br>",
          "<b>rundum-sein</b><br><i>kindergarten</i><br>Hauptstrasse 19, Aadorf <br><br>Rating: No rating available<br>Nb ratings: No ratings available<br><br><i>Walking time: 10 mins</i> <br><br>",
          "<b>WANTANA THAI TAKE AWAY</b><br><i>kindergarten</i><br>Hauptstrasse 20, Aadorf <br><br>Rating: 4.8<br>Nb ratings: 70<br><br><i>Walking time: 8 mins</i> <br><br>",
          "<b>Typodruck Bosshart AG</b><br><i>kindergarten</i><br>Wittenwilerstrasse 6, Aadorf <br><br>Rating: No rating available<br>Nb ratings: No ratings available<br><br><i>Walking time: 8 mins</i> <br><br>",
          "<b>Marine Diesel Service GmbH</b><br><i>kindergarten</i><br>Weiernstrasse 3, Aadorf <br><br>Rating: No rating available<br>Nb ratings: No ratings available<br><br><i>Walking time: 8 mins</i> <br><br>",
          "<b>Gloor Elektroservice AG</b><br><i>kindergarten</i><br>Morgentalstrasse 42, Aadorf <br><br>Rating: 4.8<br>Nb ratings: 60<br><br><i>Walking time: 5 mins</i> <br><br>",
          "<b>Kreativ Atelier Aadorf</b><br><i>kindergarten</i><br>Hauptstrasse 21, Aadorf <br><br>Rating: 4.8<br>Nb ratings: 13<br><br><i>Walking time: 9 mins</i> <br><br>",
          "<b>AAA Dogsitting</b><br><i>kindergarten</i><br>Feldstrasse 15, Aadorf <br><br>Rating: 4.5<br>Nb ratings: 2<br><br><i>Walking time: 10 mins</i> <br><br>",
          "<b>Zubi Aadorf</b><br><i>kindergarten</i><br>Wittenwilerstrasse 6, Aadorf <br><br>Rating: 4.7<br>Nb ratings: 129<br><br><i>Walking time: 9 mins</i> <br><br>",
          "<b>Morgental Garage GmbH</b><br><i>kindergarten</i><br>Morgentalstrasse 24, Aadorf <br><br>Rating: 4.4<br>Nb ratings: 19<br><br><i>Walking time: 8 mins</i> <br><br>",
          "<b>Multi-Energie AG</b><br><i>kindergarten</i><br>Wiesentalstrasse 20, Aadorf <br><br>Rating: No rating available<br>Nb ratings: No ratings available<br><br><i>Walking time: 10 mins</i> <br><br>",
          "<b>Bachmann H. AG</b><br><i>kindergarten</i><br>Wittenwilerstrasse 6, Aadorf <br><br>Rating: No rating available<br>Nb ratings: No ratings available<br><br><i>Walking time: 9 mins</i> <br><br>",
          "<b>System-Clinch Telecom GmbH</b><br><i>kindergarten</i><br>Morgentalstrasse 44, Aadorf <br><br>Rating: 4.1<br>Nb ratings: 14<br><br><i>Walking time: 4 mins</i> <br><br>",
          "<b>HS Automobile AG</b><br><i>kindergarten</i><br>Morgentalstrasse 34, Aadorf <br><br>Rating: 4.8<br>Nb ratings: 74<br><br><i>Walking time: 5 mins</i> <br><br>",
          "<b>Allegra Werbeartikel GmbH</b><br><i>kindergarten</i><br>Wittenwilerstrasse 6, Aadorf <br><br>Rating: 5<br>Nb ratings: 1<br><br><i>Walking time: 9 mins</i> <br><br>",
          "<b>rundum-sein</b><br><i>kindergarten</i><br>Hauptstrasse 19, Aadorf <br><br>Rating: No rating available<br>Nb ratings: No ratings available<br><br><i>Walking time: 10 mins</i> <br><br>",
          "<b>WANTANA THAI TAKE AWAY</b><br><i>kindergarten</i><br>Hauptstrasse 20, Aadorf <br><br>Rating: 4.8<br>Nb ratings: 70<br><br><i>Walking time: 8 mins</i> <br><br>",
          "<b>Typodruck Bosshart AG</b><br><i>kindergarten</i><br>Wittenwilerstrasse 6, Aadorf <br><br>Rating: No rating available<br>Nb ratings: No ratings available<br><br><i>Walking time: 8 mins</i> <br><br>",
          "<b>Marine Diesel Service GmbH</b><br><i>kindergarten</i><br>Weiernstrasse 3, Aadorf <br><br>Rating: No rating available<br>Nb ratings: No ratings available<br><br><i>Walking time: 8 mins</i> <br><br>",
          "<b>Gloor Elektroservice AG</b><br><i>kindergarten</i><br>Morgentalstrasse 42, Aadorf <br><br>Rating: 4.8<br>Nb ratings: 60<br><br><i>Walking time: 5 mins</i> <br><br>",
          "<b>Kreativ Atelier Aadorf</b><br><i>public_transportation</i><br>Hauptstrasse 21, Aadorf <br><br>Rating: 4.8<br>Nb ratings: 13<br><br><i>Walking time: 9 mins</i> <br><br>",
          "<b>AAA Dogsitting</b><br><i>public_transportation</i><br>Feldstrasse 15, Aadorf <br><br>Rating: 4.5<br>Nb ratings: 2<br><br><i>Walking time: 10 mins</i> <br><br>",
          "<b>Zubi Aadorf</b><br><i>public_transportation</i><br>Wittenwilerstrasse 6, Aadorf <br><br>Rating: 4.7<br>Nb ratings: 129<br><br><i>Walking time: 9 mins</i> <br><br>",
          "<b>Morgental Garage GmbH</b><br><i>public_transportation</i><br>Morgentalstrasse 24, Aadorf <br><br>Rating: 4.4<br>Nb ratings: 19<br><br><i>Walking time: 8 mins</i> <br><br>",
          "<b>Multi-Energie AG</b><br><i>public_transportation</i><br>Wiesentalstrasse 20, Aadorf <br><br>Rating: No rating available<br>Nb ratings: No ratings available<br><br><i>Walking time: 10 mins</i> <br><br>",
          "<b>Bachmann H. AG</b><br><i>public_transportation</i><br>Wittenwilerstrasse 6, Aadorf <br><br>Rating: No rating available<br>Nb ratings: No ratings available<br><br><i>Walking time: 9 mins</i> <br><br>",
          "<b>System-Clinch Telecom GmbH</b><br><i>public_transportation</i><br>Morgentalstrasse 44, Aadorf <br><br>Rating: 4.1<br>Nb ratings: 14<br><br><i>Walking time: 4 mins</i> <br><br>",
          "<b>HS Automobile AG</b><br><i>public_transportation</i><br>Morgentalstrasse 34, Aadorf <br><br>Rating: 4.8<br>Nb ratings: 74<br><br><i>Walking time: 5 mins</i> <br><br>",
          "<b>Allegra Werbeartikel GmbH</b><br><i>public_transportation</i><br>Wittenwilerstrasse 6, Aadorf <br><br>Rating: 5<br>Nb ratings: 1<br><br><i>Walking time: 9 mins</i> <br><br>",
          "<b>rundum-sein</b><br><i>public_transportation</i><br>Hauptstrasse 19, Aadorf <br><br>Rating: No rating available<br>Nb ratings: No ratings available<br><br><i>Walking time: 10 mins</i> <br><br>",
          "<b>WANTANA THAI TAKE AWAY</b><br><i>public_transportation</i><br>Hauptstrasse 20, Aadorf <br><br>Rating: 4.8<br>Nb ratings: 70<br><br><i>Walking time: 8 mins</i> <br><br>",
          "<b>Typodruck Bosshart AG</b><br><i>public_transportation</i><br>Wittenwilerstrasse 6, Aadorf <br><br>Rating: No rating available<br>Nb ratings: No ratings available<br><br><i>Walking time: 8 mins</i> <br><br>",
          "<b>Marine Diesel Service GmbH</b><br><i>public_transportation</i><br>Weiernstrasse 3, Aadorf <br><br>Rating: No rating available<br>Nb ratings: No ratings available<br><br><i>Walking time: 8 mins</i> <br><br>",
          "<b>Gloor Elektroservice AG</b><br><i>public_transportation</i><br>Morgentalstrasse 42, Aadorf <br><br>Rating: 4.8<br>Nb ratings: 60<br><br><i>Walking time: 5 mins</i> <br><br>",
          "<b>Aadorf, Morgental</b><br><i>public_transportation</i><br>Switzerland <br><br>Rating: 5<br>Nb ratings: 1<br><br><i>Walking time: 5 mins</i> <br><br>",
          "<b>Kreativ Atelier Aadorf</b><br><i>gym_fitness</i><br>Hauptstrasse 21, Aadorf <br><br>Rating: 4.8<br>Nb ratings: 13<br><br><i>Walking time: 9 mins</i> <br><br>",
          "<b>AAA Dogsitting</b><br><i>gym_fitness</i><br>Feldstrasse 15, Aadorf <br><br>Rating: 4.5<br>Nb ratings: 2<br><br><i>Walking time: 10 mins</i> <br><br>",
          "<b>Zubi Aadorf</b><br><i>gym_fitness</i><br>Wittenwilerstrasse 6, Aadorf <br><br>Rating: 4.7<br>Nb ratings: 129<br><br><i>Walking time: 9 mins</i> <br><br>",
          "<b>Morgental Garage GmbH</b><br><i>gym_fitness</i><br>Morgentalstrasse 24, Aadorf <br><br>Rating: 4.4<br>Nb ratings: 19<br><br><i>Walking time: 8 mins</i> <br><br>",
          "<b>Multi-Energie AG</b><br><i>gym_fitness</i><br>Wiesentalstrasse 20, Aadorf <br><br>Rating: No rating available<br>Nb ratings: No ratings available<br><br><i>Walking time: 10 mins</i> <br><br>",
          "<b>Bachmann H. AG</b><br><i>gym_fitness</i><br>Wittenwilerstrasse 6, Aadorf <br><br>Rating: No rating available<br>Nb ratings: No ratings available<br><br><i>Walking time: 9 mins</i> <br><br>",
          "<b>System-Clinch Telecom GmbH</b><br><i>gym_fitness</i><br>Morgentalstrasse 44, Aadorf <br><br>Rating: 4.1<br>Nb ratings: 14<br><br><i>Walking time: 4 mins</i> <br><br>",
          "<b>HS Automobile AG</b><br><i>gym_fitness</i><br>Morgentalstrasse 34, Aadorf <br><br>Rating: 4.8<br>Nb ratings: 74<br><br><i>Walking time: 5 mins</i> <br><br>",
          "<b>Allegra Werbeartikel GmbH</b><br><i>gym_fitness</i><br>Wittenwilerstrasse 6, Aadorf <br><br>Rating: 5<br>Nb ratings: 1<br><br><i>Walking time: 9 mins</i> <br><br>",
          "<b>rundum-sein</b><br><i>gym_fitness</i><br>Hauptstrasse 19, Aadorf <br><br>Rating: No rating available<br>Nb ratings: No ratings available<br><br><i>Walking time: 10 mins</i> <br><br>",
          "<b>WANTANA THAI TAKE AWAY</b><br><i>gym_fitness</i><br>Hauptstrasse 20, Aadorf <br><br>Rating: 4.8<br>Nb ratings: 70<br><br><i>Walking time: 8 mins</i> <br><br>",
          "<b>Typodruck Bosshart AG</b><br><i>gym_fitness</i><br>Wittenwilerstrasse 6, Aadorf <br><br>Rating: No rating available<br>Nb ratings: No ratings available<br><br><i>Walking time: 8 mins</i> <br><br>",
          "<b>Marine Diesel Service GmbH</b><br><i>gym_fitness</i><br>Weiernstrasse 3, Aadorf <br><br>Rating: No rating available<br>Nb ratings: No ratings available<br><br><i>Walking time: 8 mins</i> <br><br>",
          "<b>Gloor Elektroservice AG</b><br><i>gym_fitness</i><br>Morgentalstrasse 42, Aadorf <br><br>Rating: 4.8<br>Nb ratings: 60<br><br><i>Walking time: 5 mins</i> <br><br>",
          "<b>update Fitness Aadorf</b><br><i>gym_fitness</i><br>Wittenwilerstrasse 12, Aadorf <br><br>Rating: 4.5<br>Nb ratings: 44<br><br><i>Walking time: 10 mins</i> <br><br>",
          "<b>Sonnenoase</b><br><i>gym_fitness</i><br>Sulzerhof 7, Aadorf <br><br>Rating: No rating available<br>Nb ratings: No ratings available<br><br><i>Walking time: 6 mins</i> <br><br>",
          "<b>Update Fitness</b><br><i>gym_fitness</i><br>Morgentalstrasse 24, Aadorf <br><br>Rating: No rating available<br>Nb ratings: No ratings available<br><br><i>Walking time: 8 mins</i> <br><br>",
          "<b>Zensportschule</b><br><i>gym_fitness</i><br>Morgentalstrasse, Aadorf <br><br>Rating: 5<br>Nb ratings: 1<br><br><i>Walking time: 10 mins</i> <br><br>",
          "<b>Kreativ Atelier Aadorf</b><br><i>grocery_stores_supermarkets</i><br>Hauptstrasse 21, Aadorf <br><br>Rating: 4.8<br>Nb ratings: 13<br><br><i>Walking time: 9 mins</i> <br><br>",
          "<b>AAA Dogsitting</b><br><i>grocery_stores_supermarkets</i><br>Feldstrasse 15, Aadorf <br><br>Rating: 4.5<br>Nb ratings: 2<br><br><i>Walking time: 10 mins</i> <br><br>",
          "<b>Zubi Aadorf</b><br><i>grocery_stores_supermarkets</i><br>Wittenwilerstrasse 6, Aadorf <br><br>Rating: 4.7<br>Nb ratings: 129<br><br><i>Walking time: 9 mins</i> <br><br>",
          "<b>Morgental Garage GmbH</b><br><i>grocery_stores_supermarkets</i><br>Morgentalstrasse 24, Aadorf <br><br>Rating: 4.4<br>Nb ratings: 19<br><br><i>Walking time: 8 mins</i> <br><br>",
          "<b>Multi-Energie AG</b><br><i>grocery_stores_supermarkets</i><br>Wiesentalstrasse 20, Aadorf <br><br>Rating: No rating available<br>Nb ratings: No ratings available<br><br><i>Walking time: 10 mins</i> <br><br>",
          "<b>Bachmann H. AG</b><br><i>grocery_stores_supermarkets</i><br>Wittenwilerstrasse 6, Aadorf <br><br>Rating: No rating available<br>Nb ratings: No ratings available<br><br><i>Walking time: 9 mins</i> <br><br>",
          "<b>System-Clinch Telecom GmbH</b><br><i>grocery_stores_supermarkets</i><br>Morgentalstrasse 44, Aadorf <br><br>Rating: 4.1<br>Nb ratings: 14<br><br><i>Walking time: 4 mins</i> <br><br>",
          "<b>HS Automobile AG</b><br><i>grocery_stores_supermarkets</i><br>Morgentalstrasse 34, Aadorf <br><br>Rating: 4.8<br>Nb ratings: 74<br><br><i>Walking time: 5 mins</i> <br><br>",
          "<b>Allegra Werbeartikel GmbH</b><br><i>grocery_stores_supermarkets</i><br>Wittenwilerstrasse 6, Aadorf <br><br>Rating: 5<br>Nb ratings: 1<br><br><i>Walking time: 9 mins</i> <br><br>",
          "<b>rundum-sein</b><br><i>grocery_stores_supermarkets</i><br>Hauptstrasse 19, Aadorf <br><br>Rating: No rating available<br>Nb ratings: No ratings available<br><br><i>Walking time: 10 mins</i> <br><br>",
          "<b>WANTANA THAI TAKE AWAY</b><br><i>grocery_stores_supermarkets</i><br>Hauptstrasse 20, Aadorf <br><br>Rating: 4.8<br>Nb ratings: 70<br><br><i>Walking time: 8 mins</i> <br><br>",
          "<b>Typodruck Bosshart AG</b><br><i>grocery_stores_supermarkets</i><br>Wittenwilerstrasse 6, Aadorf <br><br>Rating: No rating available<br>Nb ratings: No ratings available<br><br><i>Walking time: 8 mins</i> <br><br>",
          "<b>Marine Diesel Service GmbH</b><br><i>grocery_stores_supermarkets</i><br>Weiernstrasse 3, Aadorf <br><br>Rating: No rating available<br>Nb ratings: No ratings available<br><br><i>Walking time: 8 mins</i> <br><br>",
          "<b>Gloor Elektroservice AG</b><br><i>grocery_stores_supermarkets</i><br>Morgentalstrasse 42, Aadorf <br><br>Rating: 4.8<br>Nb ratings: 60<br><br><i>Walking time: 5 mins</i> <br><br>",
          "<b>Coop Pronto Shop mit Tankstelle Aadorf</b><br><i>grocery_stores_supermarkets</i><br>Morgentalstrasse 22, Aadorf <br><br>Rating: 4.3<br>Nb ratings: 335<br><br><i>Walking time: 9 mins</i> <br><br>",
          "<b>Coop Pronto Shop mit Tankstelle Aadorf</b><br><i>gas_ev_charging</i><br>Morgentalstrasse 22, Aadorf <br><br>Rating: 4.3<br>Nb ratings: 335<br><br><i>Walking time: 9 mins</i> <br><br>",
          "<b>Ruedi Rüssel gas station</b><br><i>gas_ev_charging</i><br>Morgentalstrasse 24, Aadorf <br><br>Rating: 4.5<br>Nb ratings: 45<br><br><i>Walking time: 8 mins</i> <br><br>",
          "<b>Kreativ Atelier Aadorf</b><br><i>gas_ev_charging</i><br>Hauptstrasse 21, Aadorf <br><br>Rating: 4.8<br>Nb ratings: 13<br><br><i>Walking time: 9 mins</i> <br><br>",
          "<b>AAA Dogsitting</b><br><i>gas_ev_charging</i><br>Feldstrasse 15, Aadorf <br><br>Rating: 4.5<br>Nb ratings: 2<br><br><i>Walking time: 10 mins</i> <br><br>",
          "<b>Zubi Aadorf</b><br><i>gas_ev_charging</i><br>Wittenwilerstrasse 6, Aadorf <br><br>Rating: 4.7<br>Nb ratings: 129<br><br><i>Walking time: 9 mins</i> <br><br>",
          "<b>Morgental Garage GmbH</b><br><i>gas_ev_charging</i><br>Morgentalstrasse 24, Aadorf <br><br>Rating: 4.4<br>Nb ratings: 19<br><br><i>Walking time: 8 mins</i> <br><br>",
          "<b>Multi-Energie AG</b><br><i>gas_ev_charging</i><br>Wiesentalstrasse 20, Aadorf <br><br>Rating: No rating available<br>Nb ratings: No ratings available<br><br><i>Walking time: 10 mins</i> <br><br>",
          "<b>Bachmann H. AG</b><br><i>gas_ev_charging</i><br>Wittenwilerstrasse 6, Aadorf <br><br>Rating: No rating available<br>Nb ratings: No ratings available<br><br><i>Walking time: 9 mins</i> <br><br>",
          "<b>System-Clinch Telecom GmbH</b><br><i>gas_ev_charging</i><br>Morgentalstrasse 44, Aadorf <br><br>Rating: 4.1<br>Nb ratings: 14<br><br><i>Walking time: 4 mins</i> <br><br>",
          "<b>HS Automobile AG</b><br><i>gas_ev_charging</i><br>Morgentalstrasse 34, Aadorf <br><br>Rating: 4.8<br>Nb ratings: 74<br><br><i>Walking time: 5 mins</i> <br><br>",
          "<b>Allegra Werbeartikel GmbH</b><br><i>gas_ev_charging</i><br>Wittenwilerstrasse 6, Aadorf <br><br>Rating: 5<br>Nb ratings: 1<br><br><i>Walking time: 9 mins</i> <br><br>",
          "<b>rundum-sein</b><br><i>gas_ev_charging</i><br>Hauptstrasse 19, Aadorf <br><br>Rating: No rating available<br>Nb ratings: No ratings available<br><br><i>Walking time: 10 mins</i> <br><br>",
          "<b>WANTANA THAI TAKE AWAY</b><br><i>gas_ev_charging</i><br>Hauptstrasse 20, Aadorf <br><br>Rating: 4.8<br>Nb ratings: 70<br><br><i>Walking time: 8 mins</i> <br><br>",
          "<b>Typodruck Bosshart AG</b><br><i>gas_ev_charging</i><br>Wittenwilerstrasse 6, Aadorf <br><br>Rating: No rating available<br>Nb ratings: No ratings available<br><br><i>Walking time: 8 mins</i> <br><br>",
          "<b>Marine Diesel Service GmbH</b><br><i>gas_ev_charging</i><br>Weiernstrasse 3, Aadorf <br><br>Rating: No rating available<br>Nb ratings: No ratings available<br><br><i>Walking time: 8 mins</i> <br><br>",
          "<b>Gloor Elektroservice AG</b><br><i>gas_ev_charging</i><br>Morgentalstrasse 42, Aadorf <br><br>Rating: 4.8<br>Nb ratings: 60<br><br><i>Walking time: 5 mins</i> <br><br>"
         ],
         "type": "scattermapbox"
        },
        {
         "hoverinfo": "text",
         "lat": [
          47.4929713
         ],
         "lon": [
          8.8935522
         ],
         "marker": {
          "color": "black",
          "opacity": 1,
          "size": 20
         },
         "mode": "markers",
         "showlegend": false,
         "text": "8355 Aadorf, Bruggwiesenstrasse 5",
         "type": "scattermapbox"
        }
       ],
       "layout": {
        "height": 800,
        "mapbox": {
         "center": {
          "lat": 47.4929713,
          "lon": 8.8935522
         },
         "style": "open-street-map",
         "zoom": 14
        },
        "margin": {
         "b": 0,
         "l": 0,
         "r": 0,
         "t": 0
        },
        "showlegend": false,
        "template": {
         "data": {
          "bar": [
           {
            "error_x": {
             "color": "#2a3f5f"
            },
            "error_y": {
             "color": "#2a3f5f"
            },
            "marker": {
             "line": {
              "color": "#E5ECF6",
              "width": 0.5
             },
             "pattern": {
              "fillmode": "overlay",
              "size": 10,
              "solidity": 0.2
             }
            },
            "type": "bar"
           }
          ],
          "barpolar": [
           {
            "marker": {
             "line": {
              "color": "#E5ECF6",
              "width": 0.5
             },
             "pattern": {
              "fillmode": "overlay",
              "size": 10,
              "solidity": 0.2
             }
            },
            "type": "barpolar"
           }
          ],
          "carpet": [
           {
            "aaxis": {
             "endlinecolor": "#2a3f5f",
             "gridcolor": "white",
             "linecolor": "white",
             "minorgridcolor": "white",
             "startlinecolor": "#2a3f5f"
            },
            "baxis": {
             "endlinecolor": "#2a3f5f",
             "gridcolor": "white",
             "linecolor": "white",
             "minorgridcolor": "white",
             "startlinecolor": "#2a3f5f"
            },
            "type": "carpet"
           }
          ],
          "choropleth": [
           {
            "colorbar": {
             "outlinewidth": 0,
             "ticks": ""
            },
            "type": "choropleth"
           }
          ],
          "contour": [
           {
            "colorbar": {
             "outlinewidth": 0,
             "ticks": ""
            },
            "colorscale": [
             [
              0,
              "#0d0887"
             ],
             [
              0.1111111111111111,
              "#46039f"
             ],
             [
              0.2222222222222222,
              "#7201a8"
             ],
             [
              0.3333333333333333,
              "#9c179e"
             ],
             [
              0.4444444444444444,
              "#bd3786"
             ],
             [
              0.5555555555555556,
              "#d8576b"
             ],
             [
              0.6666666666666666,
              "#ed7953"
             ],
             [
              0.7777777777777778,
              "#fb9f3a"
             ],
             [
              0.8888888888888888,
              "#fdca26"
             ],
             [
              1,
              "#f0f921"
             ]
            ],
            "type": "contour"
           }
          ],
          "contourcarpet": [
           {
            "colorbar": {
             "outlinewidth": 0,
             "ticks": ""
            },
            "type": "contourcarpet"
           }
          ],
          "heatmap": [
           {
            "colorbar": {
             "outlinewidth": 0,
             "ticks": ""
            },
            "colorscale": [
             [
              0,
              "#0d0887"
             ],
             [
              0.1111111111111111,
              "#46039f"
             ],
             [
              0.2222222222222222,
              "#7201a8"
             ],
             [
              0.3333333333333333,
              "#9c179e"
             ],
             [
              0.4444444444444444,
              "#bd3786"
             ],
             [
              0.5555555555555556,
              "#d8576b"
             ],
             [
              0.6666666666666666,
              "#ed7953"
             ],
             [
              0.7777777777777778,
              "#fb9f3a"
             ],
             [
              0.8888888888888888,
              "#fdca26"
             ],
             [
              1,
              "#f0f921"
             ]
            ],
            "type": "heatmap"
           }
          ],
          "heatmapgl": [
           {
            "colorbar": {
             "outlinewidth": 0,
             "ticks": ""
            },
            "colorscale": [
             [
              0,
              "#0d0887"
             ],
             [
              0.1111111111111111,
              "#46039f"
             ],
             [
              0.2222222222222222,
              "#7201a8"
             ],
             [
              0.3333333333333333,
              "#9c179e"
             ],
             [
              0.4444444444444444,
              "#bd3786"
             ],
             [
              0.5555555555555556,
              "#d8576b"
             ],
             [
              0.6666666666666666,
              "#ed7953"
             ],
             [
              0.7777777777777778,
              "#fb9f3a"
             ],
             [
              0.8888888888888888,
              "#fdca26"
             ],
             [
              1,
              "#f0f921"
             ]
            ],
            "type": "heatmapgl"
           }
          ],
          "histogram": [
           {
            "marker": {
             "pattern": {
              "fillmode": "overlay",
              "size": 10,
              "solidity": 0.2
             }
            },
            "type": "histogram"
           }
          ],
          "histogram2d": [
           {
            "colorbar": {
             "outlinewidth": 0,
             "ticks": ""
            },
            "colorscale": [
             [
              0,
              "#0d0887"
             ],
             [
              0.1111111111111111,
              "#46039f"
             ],
             [
              0.2222222222222222,
              "#7201a8"
             ],
             [
              0.3333333333333333,
              "#9c179e"
             ],
             [
              0.4444444444444444,
              "#bd3786"
             ],
             [
              0.5555555555555556,
              "#d8576b"
             ],
             [
              0.6666666666666666,
              "#ed7953"
             ],
             [
              0.7777777777777778,
              "#fb9f3a"
             ],
             [
              0.8888888888888888,
              "#fdca26"
             ],
             [
              1,
              "#f0f921"
             ]
            ],
            "type": "histogram2d"
           }
          ],
          "histogram2dcontour": [
           {
            "colorbar": {
             "outlinewidth": 0,
             "ticks": ""
            },
            "colorscale": [
             [
              0,
              "#0d0887"
             ],
             [
              0.1111111111111111,
              "#46039f"
             ],
             [
              0.2222222222222222,
              "#7201a8"
             ],
             [
              0.3333333333333333,
              "#9c179e"
             ],
             [
              0.4444444444444444,
              "#bd3786"
             ],
             [
              0.5555555555555556,
              "#d8576b"
             ],
             [
              0.6666666666666666,
              "#ed7953"
             ],
             [
              0.7777777777777778,
              "#fb9f3a"
             ],
             [
              0.8888888888888888,
              "#fdca26"
             ],
             [
              1,
              "#f0f921"
             ]
            ],
            "type": "histogram2dcontour"
           }
          ],
          "mesh3d": [
           {
            "colorbar": {
             "outlinewidth": 0,
             "ticks": ""
            },
            "type": "mesh3d"
           }
          ],
          "parcoords": [
           {
            "line": {
             "colorbar": {
              "outlinewidth": 0,
              "ticks": ""
             }
            },
            "type": "parcoords"
           }
          ],
          "pie": [
           {
            "automargin": true,
            "type": "pie"
           }
          ],
          "scatter": [
           {
            "fillpattern": {
             "fillmode": "overlay",
             "size": 10,
             "solidity": 0.2
            },
            "type": "scatter"
           }
          ],
          "scatter3d": [
           {
            "line": {
             "colorbar": {
              "outlinewidth": 0,
              "ticks": ""
             }
            },
            "marker": {
             "colorbar": {
              "outlinewidth": 0,
              "ticks": ""
             }
            },
            "type": "scatter3d"
           }
          ],
          "scattercarpet": [
           {
            "marker": {
             "colorbar": {
              "outlinewidth": 0,
              "ticks": ""
             }
            },
            "type": "scattercarpet"
           }
          ],
          "scattergeo": [
           {
            "marker": {
             "colorbar": {
              "outlinewidth": 0,
              "ticks": ""
             }
            },
            "type": "scattergeo"
           }
          ],
          "scattergl": [
           {
            "marker": {
             "colorbar": {
              "outlinewidth": 0,
              "ticks": ""
             }
            },
            "type": "scattergl"
           }
          ],
          "scattermapbox": [
           {
            "marker": {
             "colorbar": {
              "outlinewidth": 0,
              "ticks": ""
             }
            },
            "type": "scattermapbox"
           }
          ],
          "scatterpolar": [
           {
            "marker": {
             "colorbar": {
              "outlinewidth": 0,
              "ticks": ""
             }
            },
            "type": "scatterpolar"
           }
          ],
          "scatterpolargl": [
           {
            "marker": {
             "colorbar": {
              "outlinewidth": 0,
              "ticks": ""
             }
            },
            "type": "scatterpolargl"
           }
          ],
          "scatterternary": [
           {
            "marker": {
             "colorbar": {
              "outlinewidth": 0,
              "ticks": ""
             }
            },
            "type": "scatterternary"
           }
          ],
          "surface": [
           {
            "colorbar": {
             "outlinewidth": 0,
             "ticks": ""
            },
            "colorscale": [
             [
              0,
              "#0d0887"
             ],
             [
              0.1111111111111111,
              "#46039f"
             ],
             [
              0.2222222222222222,
              "#7201a8"
             ],
             [
              0.3333333333333333,
              "#9c179e"
             ],
             [
              0.4444444444444444,
              "#bd3786"
             ],
             [
              0.5555555555555556,
              "#d8576b"
             ],
             [
              0.6666666666666666,
              "#ed7953"
             ],
             [
              0.7777777777777778,
              "#fb9f3a"
             ],
             [
              0.8888888888888888,
              "#fdca26"
             ],
             [
              1,
              "#f0f921"
             ]
            ],
            "type": "surface"
           }
          ],
          "table": [
           {
            "cells": {
             "fill": {
              "color": "#EBF0F8"
             },
             "line": {
              "color": "white"
             }
            },
            "header": {
             "fill": {
              "color": "#C8D4E3"
             },
             "line": {
              "color": "white"
             }
            },
            "type": "table"
           }
          ]
         },
         "layout": {
          "annotationdefaults": {
           "arrowcolor": "#2a3f5f",
           "arrowhead": 0,
           "arrowwidth": 1
          },
          "autotypenumbers": "strict",
          "coloraxis": {
           "colorbar": {
            "outlinewidth": 0,
            "ticks": ""
           }
          },
          "colorscale": {
           "diverging": [
            [
             0,
             "#8e0152"
            ],
            [
             0.1,
             "#c51b7d"
            ],
            [
             0.2,
             "#de77ae"
            ],
            [
             0.3,
             "#f1b6da"
            ],
            [
             0.4,
             "#fde0ef"
            ],
            [
             0.5,
             "#f7f7f7"
            ],
            [
             0.6,
             "#e6f5d0"
            ],
            [
             0.7,
             "#b8e186"
            ],
            [
             0.8,
             "#7fbc41"
            ],
            [
             0.9,
             "#4d9221"
            ],
            [
             1,
             "#276419"
            ]
           ],
           "sequential": [
            [
             0,
             "#0d0887"
            ],
            [
             0.1111111111111111,
             "#46039f"
            ],
            [
             0.2222222222222222,
             "#7201a8"
            ],
            [
             0.3333333333333333,
             "#9c179e"
            ],
            [
             0.4444444444444444,
             "#bd3786"
            ],
            [
             0.5555555555555556,
             "#d8576b"
            ],
            [
             0.6666666666666666,
             "#ed7953"
            ],
            [
             0.7777777777777778,
             "#fb9f3a"
            ],
            [
             0.8888888888888888,
             "#fdca26"
            ],
            [
             1,
             "#f0f921"
            ]
           ],
           "sequentialminus": [
            [
             0,
             "#0d0887"
            ],
            [
             0.1111111111111111,
             "#46039f"
            ],
            [
             0.2222222222222222,
             "#7201a8"
            ],
            [
             0.3333333333333333,
             "#9c179e"
            ],
            [
             0.4444444444444444,
             "#bd3786"
            ],
            [
             0.5555555555555556,
             "#d8576b"
            ],
            [
             0.6666666666666666,
             "#ed7953"
            ],
            [
             0.7777777777777778,
             "#fb9f3a"
            ],
            [
             0.8888888888888888,
             "#fdca26"
            ],
            [
             1,
             "#f0f921"
            ]
           ]
          },
          "colorway": [
           "#636efa",
           "#EF553B",
           "#00cc96",
           "#ab63fa",
           "#FFA15A",
           "#19d3f3",
           "#FF6692",
           "#B6E880",
           "#FF97FF",
           "#FECB52"
          ],
          "font": {
           "color": "#2a3f5f"
          },
          "geo": {
           "bgcolor": "white",
           "lakecolor": "white",
           "landcolor": "#E5ECF6",
           "showlakes": true,
           "showland": true,
           "subunitcolor": "white"
          },
          "hoverlabel": {
           "align": "left"
          },
          "hovermode": "closest",
          "mapbox": {
           "style": "light"
          },
          "paper_bgcolor": "white",
          "plot_bgcolor": "#E5ECF6",
          "polar": {
           "angularaxis": {
            "gridcolor": "white",
            "linecolor": "white",
            "ticks": ""
           },
           "bgcolor": "#E5ECF6",
           "radialaxis": {
            "gridcolor": "white",
            "linecolor": "white",
            "ticks": ""
           }
          },
          "scene": {
           "xaxis": {
            "backgroundcolor": "#E5ECF6",
            "gridcolor": "white",
            "gridwidth": 2,
            "linecolor": "white",
            "showbackground": true,
            "ticks": "",
            "zerolinecolor": "white"
           },
           "yaxis": {
            "backgroundcolor": "#E5ECF6",
            "gridcolor": "white",
            "gridwidth": 2,
            "linecolor": "white",
            "showbackground": true,
            "ticks": "",
            "zerolinecolor": "white"
           },
           "zaxis": {
            "backgroundcolor": "#E5ECF6",
            "gridcolor": "white",
            "gridwidth": 2,
            "linecolor": "white",
            "showbackground": true,
            "ticks": "",
            "zerolinecolor": "white"
           }
          },
          "shapedefaults": {
           "line": {
            "color": "#2a3f5f"
           }
          },
          "ternary": {
           "aaxis": {
            "gridcolor": "white",
            "linecolor": "white",
            "ticks": ""
           },
           "baxis": {
            "gridcolor": "white",
            "linecolor": "white",
            "ticks": ""
           },
           "bgcolor": "#E5ECF6",
           "caxis": {
            "gridcolor": "white",
            "linecolor": "white",
            "ticks": ""
           }
          },
          "title": {
           "x": 0.05
          },
          "xaxis": {
           "automargin": true,
           "gridcolor": "white",
           "linecolor": "white",
           "ticks": "",
           "title": {
            "standoff": 15
           },
           "zerolinecolor": "white",
           "zerolinewidth": 2
          },
          "yaxis": {
           "automargin": true,
           "gridcolor": "white",
           "linecolor": "white",
           "ticks": "",
           "title": {
            "standoff": 15
           },
           "zerolinecolor": "white",
           "zerolinewidth": 2
          }
         }
        },
        "width": 800
       }
      }
     },
     "metadata": {},
     "output_type": "display_data"
    }
   ],
   "source": [
    "FILE = load_data(FILES[3])\n",
    "base_map = create_base_map(FILE, 800, 800, 14)\n",
    "add_population(base_map, FILE)\n",
    "add_isochrone(base_map, FILE)\n",
    "add_places(base_map, FILE)\n",
    "add_original_address(base_map, FILE)"
   ]
  },
  {
   "cell_type": "code",
   "execution_count": 35,
   "metadata": {},
   "outputs": [
    {
     "data": {
      "application/vnd.plotly.v1+json": {
       "config": {
        "plotlyServerURL": "https://plot.ly"
       },
       "data": [
        {
         "type": "scattermapbox"
        },
        {
         "hoverinfo": "text",
         "hovertemplate": "%{text}<extra></extra>",
         "lat": [
          47.16928467085554,
          47.16927197133001,
          47.1755676709835,
          47.17645433949915,
          47.17104529837913,
          47.17464283894421,
          47.17554222358397,
          47.16563623747758,
          47.16653562390356,
          47.16743501013066,
          47.17552947719006,
          47.16562347829104,
          47.16742225051932,
          47.16471131777833,
          47.16561070397789,
          47.16651008997882,
          47.167409475780836,
          47.16830886138382,
          47.16920824678747,
          47.170107631991606,
          47.17370517080846,
          47.17460455501165,
          47.164698528551426,
          47.16559791453809,
          47.16649730032614,
          47.16739668591524,
          47.16829607130531,
          47.16919545649603,
          47.17009484148722,
          47.17099422627869,
          47.17189361087015,
          47.16468572419823,
          47.16558510997173,
          47.170981420433264,
          47.171880804811515,
          47.16557229027874,
          47.17096859945973,
          47.16824475971777,
          47.17361531360939,
          47.170904267671006,
          47.17270303365833
         ],
         "lon": [
          8.545942910753407,
          8.547261751717313,
          8.547392200895361,
          8.54872985679119,
          8.549936788532646,
          8.550011509626675,
          8.550030191473592,
          8.551143476139714,
          8.551162173869997,
          8.551180872230098,
          8.551349185818925,
          8.552462225881113,
          8.552499666323637,
          8.553762233541619,
          8.553780974991978,
          8.55379971707362,
          8.553818459786571,
          8.553837203130875,
          8.55385594710656,
          8.553874691713675,
          8.553949676457089,
          8.55396842422186,
          8.555080959846332,
          8.555099723471569,
          8.555118487728832,
          8.555137252618156,
          8.555156018139575,
          8.555174784293127,
          8.555193551078853,
          8.555212318496782,
          8.555231086546957,
          8.556399685519054,
          8.556418471319136,
          8.556531199409074,
          8.556549989639317,
          8.557737218533926,
          8.557850079688375,
          8.56043127184557,
          8.563182299761154,
          8.564444471563862,
          8.564482318821138
         ],
         "marker": {
          "color": "purple",
          "opacity": 0.5,
          "size": 40
         },
         "mode": "markers",
         "showlegend": false,
         "text": [
          9,
          3,
          5,
          8,
          3,
          9,
          4,
          4,
          3,
          5,
          4,
          8,
          33,
          22,
          19,
          73,
          32,
          110,
          50,
          29,
          8,
          3,
          88,
          81,
          55,
          3,
          52,
          97,
          17,
          67,
          64,
          4,
          3,
          14,
          13,
          3,
          7,
          3,
          3,
          4,
          4
         ],
         "type": "scattermapbox"
        },
        {
         "fill": "toself",
         "fillcolor": "rgba(10,80,50,0.25)",
         "hoverinfo": "text",
         "lat": [
          47.169249,
          47.169338,
          47.170786,
          47.171133,
          47.172086,
          47.169496,
          47.169249
         ],
         "line": {
          "color": "rgba(10,80,50,1)",
          "width": 1
         },
         "lon": [
          8.554481,
          8.555067,
          8.556799,
          8.5567,
          8.555208,
          8.554218,
          8.554481
         ],
         "marker": {
          "color": "blue",
          "size": 1
         },
         "mode": "lines",
         "showlegend": false,
         "text": "3.0min. walking",
         "type": "scattermapbox"
        },
        {
         "fill": "toself",
         "fillcolor": "rgba(10,80,50,0.25)",
         "hoverinfo": "text",
         "lat": [
          47.169569,
          47.168306,
          47.168144,
          47.168096,
          47.168185,
          47.171181,
          47.171453,
          47.172302,
          47.173375,
          47.173474,
          47.16989,
          47.169787,
          47.169569
         ],
         "line": {
          "color": "rgba(10,80,50,1)",
          "width": 1
         },
         "lon": [
          8.553279,
          8.552968,
          8.553289,
          8.55448,
          8.554829,
          8.557317,
          8.557513,
          8.557073,
          8.556266,
          8.55592,
          8.553412,
          8.553347,
          8.553279
         ],
         "marker": {
          "color": "blue",
          "size": 1
         },
         "mode": "lines",
         "showlegend": false,
         "text": "5.0min. walking",
         "type": "scattermapbox"
        },
        {
         "fill": "toself",
         "fillcolor": "rgba(10,80,50,0.25)",
         "hoverinfo": "text",
         "lat": [
          47.167165,
          47.166806,
          47.166948,
          47.16776,
          47.171453,
          47.173649,
          47.173835,
          47.174261,
          47.171027,
          47.167508,
          47.167165
         ],
         "line": {
          "color": "rgba(10,80,50,1)",
          "width": 1
         },
         "lon": [
          8.551762,
          8.553249,
          8.55386,
          8.555194,
          8.557513,
          8.557405,
          8.557097,
          8.556182,
          8.553856,
          8.551652,
          8.551762
         ],
         "marker": {
          "color": "blue",
          "size": 1
         },
         "mode": "lines",
         "showlegend": false,
         "text": "7.0min. walking",
         "type": "scattermapbox"
        },
        {
         "fill": "toself",
         "fillcolor": "rgba(10,80,50,0.25)",
         "hoverinfo": "text",
         "lat": [
          47.167278,
          47.166351,
          47.166032,
          47.164556,
          47.165573,
          47.165898,
          47.171453,
          47.174556,
          47.175378,
          47.175817,
          47.176385,
          47.172966,
          47.171981,
          47.167634,
          47.167278
         ],
         "line": {
          "color": "rgba(10,80,50,1)",
          "width": 1
         },
         "lon": [
          8.548604,
          8.548687,
          8.548855,
          8.554256,
          8.556093,
          8.556246,
          8.557513,
          8.557807,
          8.557695,
          8.557556,
          8.555486,
          8.552429,
          8.551949,
          8.548651,
          8.548604
         ],
         "marker": {
          "color": "blue",
          "size": 1
         },
         "mode": "lines",
         "showlegend": false,
         "text": "10.0min. walking",
         "type": "scattermapbox"
        },
        {
         "fill": "toself",
         "fillcolor": "rgba(10,80,50,0.25)",
         "hoverinfo": "text",
         "lat": [
          47.168113,
          47.165028,
          47.164907,
          47.164534,
          47.162983,
          47.162898,
          47.163216,
          47.16353,
          47.163843,
          47.163984,
          47.164391,
          47.164464,
          47.164855,
          47.16518,
          47.169149,
          47.171226,
          47.171346,
          47.171453,
          47.174556,
          47.17718,
          47.177495,
          47.177909,
          47.174568,
          47.174352,
          47.171316,
          47.169238,
          47.168471,
          47.168113
         ],
         "line": {
          "color": "rgba(10,80,50,1)",
          "width": 1
         },
         "lon": [
          8.545457,
          8.546487,
          8.546577,
          8.550443,
          8.552342,
          8.552692,
          8.557195,
          8.55729,
          8.557385,
          8.557401,
          8.557387,
          8.557367,
          8.557255,
          8.557019,
          8.555692,
          8.557224,
          8.557388,
          8.557513,
          8.557807,
          8.557574,
          8.557545,
          8.554772,
          8.550404,
          8.550116,
          8.549428,
          8.546723,
          8.545496,
          8.545457
         ],
         "marker": {
          "color": "blue",
          "size": 1
         },
         "mode": "lines",
         "showlegend": false,
         "text": "13.0min. walking",
         "type": "scattermapbox"
        },
        {
         "fill": "toself",
         "fillcolor": "rgba(10,80,50,0.25)",
         "hoverinfo": "text",
         "lat": [
          47.167762,
          47.164906,
          47.163897,
          47.161592,
          47.161588,
          47.16228,
          47.162447,
          47.163984,
          47.164391,
          47.164464,
          47.164855,
          47.16518,
          47.169149,
          47.171226,
          47.171346,
          47.171453,
          47.174556,
          47.17718,
          47.177495,
          47.179032,
          47.17879,
          47.175939,
          47.175579,
          47.174516,
          47.170371,
          47.169789,
          47.168118,
          47.167762
         ],
         "line": {
          "color": "rgba(10,80,50,1)",
          "width": 1
         },
         "lon": [
          8.54321,
          8.546578,
          8.548636,
          8.552476,
          8.552836,
          8.556911,
          8.557231,
          8.557401,
          8.557387,
          8.557367,
          8.557255,
          8.557019,
          8.555692,
          8.557224,
          8.557388,
          8.557513,
          8.557807,
          8.557574,
          8.557545,
          8.553509,
          8.553243,
          8.549981,
          8.549968,
          8.549924,
          8.547928,
          8.544994,
          8.543157,
          8.54321
         ],
         "marker": {
          "color": "blue",
          "size": 1
         },
         "mode": "lines",
         "showlegend": false,
         "text": "15.0min. walking",
         "type": "scattermapbox"
        },
        {
         "hoverinfo": "text",
         "hovertemplate": "%{text}<extra></extra>",
         "lat": [
          47.1666685,
          47.1684968,
          47.1677532,
          47.1684968,
          47.1660537,
          47.1677532,
          47.167407,
          47.1692979,
          47.1669134,
          47.16631580000001,
          47.1684968,
          47.1677532,
          47.1684968,
          47.1660537,
          47.1677532,
          47.167407,
          47.1692979,
          47.1669134,
          47.16631580000001,
          47.1684968,
          47.1677532,
          47.1684968,
          47.1660537,
          47.1677532,
          47.167407,
          47.1692979,
          47.1669134,
          47.16631580000001,
          47.169647,
          47.16882,
          47.16686000000001,
          47.166737,
          47.166714,
          47.1684968,
          47.1677532,
          47.1684968,
          47.1660537,
          47.1677532,
          47.167407,
          47.1692979,
          47.1669134,
          47.16631580000001,
          47.1684968,
          47.1677532,
          47.1684968,
          47.1660537,
          47.1677532,
          47.167407,
          47.1692979,
          47.1669134,
          47.16631580000001,
          47.1684968,
          47.1677532,
          47.1684968,
          47.1660537,
          47.1677532,
          47.167407,
          47.1692979,
          47.1669134,
          47.16631580000001
         ],
         "lon": [
          8.553291300000001,
          8.554431599999997,
          8.5526912,
          8.554431599999997,
          8.5535528,
          8.5526912,
          8.552266,
          8.553884199999999,
          8.553216400000002,
          8.550430900000002,
          8.554431599999997,
          8.5526912,
          8.554431599999997,
          8.5535528,
          8.5526912,
          8.552266,
          8.553884199999999,
          8.553216400000002,
          8.550430900000002,
          8.554431599999997,
          8.5526912,
          8.554431599999997,
          8.5535528,
          8.5526912,
          8.552266,
          8.553884199999999,
          8.553216400000002,
          8.550430900000002,
          8.553435,
          8.553418,
          8.553416,
          8.553474999999997,
          8.553559,
          8.554431599999997,
          8.5526912,
          8.554431599999997,
          8.5535528,
          8.5526912,
          8.552266,
          8.553884199999999,
          8.553216400000002,
          8.550430900000002,
          8.554431599999997,
          8.5526912,
          8.554431599999997,
          8.5535528,
          8.5526912,
          8.552266,
          8.553884199999999,
          8.553216400000002,
          8.550430900000002,
          8.554431599999997,
          8.5526912,
          8.554431599999997,
          8.5535528,
          8.5526912,
          8.552266,
          8.553884199999999,
          8.553216400000002,
          8.550430900000002
         ],
         "marker": {
          "color": [
           "yellow",
           "orange",
           "orange",
           "orange",
           "orange",
           "orange",
           "orange",
           "orange",
           "orange",
           "orange",
           "orange",
           "orange",
           "orange",
           "orange",
           "orange",
           "orange",
           "orange",
           "orange",
           "orange",
           "purple",
           "purple",
           "purple",
           "purple",
           "purple",
           "purple",
           "purple",
           "purple",
           "purple",
           "purple",
           "purple",
           "purple",
           "purple",
           "purple",
           "brown",
           "brown",
           "brown",
           "brown",
           "brown",
           "brown",
           "brown",
           "brown",
           "brown",
           "red",
           "red",
           "red",
           "red",
           "red",
           "red",
           "red",
           "red",
           "red",
           "cyan",
           "cyan",
           "cyan",
           "cyan",
           "cyan",
           "cyan",
           "cyan",
           "cyan",
           "cyan"
          ],
          "opacity": 1,
          "size": 10
         },
         "mode": "markers",
         "showlegend": false,
         "text": [
          "<b>Gasthaus Löwen</b><br><i>restaurants</i><br>Dorfstrasse 35, Allenwinden <br><br>Rating: 4.5<br>Nb ratings: 59<br><br><i>Walking time: 9 mins</i> <br><br>",
          "<b>Myself AG</b><br><i>kindergarten</i><br>Eggried 22, Allenwinden <br><br>Rating: No rating available<br>Nb ratings: No ratings available<br><br><i>Walking time: 5 mins</i> <br><br>",
          "<b>Triag AG</b><br><i>kindergarten</i><br>Aussergrütstrasse 2, Allenwinden <br><br>Rating: No rating available<br>Nb ratings: No ratings available<br><br><i>Walking time: 7 mins</i> <br><br>",
          "<b>Wasserversorgungs Genossenschaft Allenwinden</b><br><i>kindergarten</i><br>Eggried 24, Allenwinden <br><br>Rating: No rating available<br>Nb ratings: No ratings available<br><br><i>Walking time: 5 mins</i> <br><br>",
          "<b>Alois Arnold AG</b><br><i>kindergarten</i><br>Dorfstrasse 31, Allenwinden <br><br>Rating: 5<br>Nb ratings: 4<br><br><i>Walking time: 10 mins</i> <br><br>",
          "<b>Landtwing Verlag GmbH</b><br><i>kindergarten</i><br>Aussergrütstrasse 2, Allenwinden <br><br>Rating: No rating available<br>Nb ratings: No ratings available<br><br><i>Walking time: 7 mins</i> <br><br>",
          "<b>partychuchi</b><br><i>kindergarten</i><br>Aussergrütstrasse 7, Allenwinden <br><br>Rating: 5<br>Nb ratings: 5<br><br><i>Walking time: 8 mins</i> <br><br>",
          "<b>Elektrizitäts-Genossenschaft</b><br><i>kindergarten</i><br>Winzrüti 1, Allenwinden <br><br>Rating: No rating available<br>Nb ratings: No ratings available<br><br><i>Walking time: 4 mins</i> <br><br>",
          "<b>Speck Schreinerei</b><br><i>kindergarten</i><br>Dorfstrasse 37, Allenwinden <br><br>Rating: 5<br>Nb ratings: 3<br><br><i>Walking time: 8 mins</i> <br><br>",
          "<b>Tierschutzverein Zug</b><br><i>kindergarten</i><br>Riedmatt, Allenwinden <br><br>Rating: 4.6<br>Nb ratings: 59<br><br><i>Walking time: 10 mins</i> <br><br>",
          "<b>Myself AG</b><br><i>kindergarten</i><br>Eggried 22, Allenwinden <br><br>Rating: No rating available<br>Nb ratings: No ratings available<br><br><i>Walking time: 5 mins</i> <br><br>",
          "<b>Triag AG</b><br><i>kindergarten</i><br>Aussergrütstrasse 2, Allenwinden <br><br>Rating: No rating available<br>Nb ratings: No ratings available<br><br><i>Walking time: 7 mins</i> <br><br>",
          "<b>Wasserversorgungs Genossenschaft Allenwinden</b><br><i>kindergarten</i><br>Eggried 24, Allenwinden <br><br>Rating: No rating available<br>Nb ratings: No ratings available<br><br><i>Walking time: 5 mins</i> <br><br>",
          "<b>Alois Arnold AG</b><br><i>kindergarten</i><br>Dorfstrasse 31, Allenwinden <br><br>Rating: 5<br>Nb ratings: 4<br><br><i>Walking time: 10 mins</i> <br><br>",
          "<b>Landtwing Verlag GmbH</b><br><i>kindergarten</i><br>Aussergrütstrasse 2, Allenwinden <br><br>Rating: No rating available<br>Nb ratings: No ratings available<br><br><i>Walking time: 7 mins</i> <br><br>",
          "<b>partychuchi</b><br><i>kindergarten</i><br>Aussergrütstrasse 7, Allenwinden <br><br>Rating: 5<br>Nb ratings: 5<br><br><i>Walking time: 8 mins</i> <br><br>",
          "<b>Elektrizitäts-Genossenschaft</b><br><i>kindergarten</i><br>Winzrüti 1, Allenwinden <br><br>Rating: No rating available<br>Nb ratings: No ratings available<br><br><i>Walking time: 4 mins</i> <br><br>",
          "<b>Speck Schreinerei</b><br><i>kindergarten</i><br>Dorfstrasse 37, Allenwinden <br><br>Rating: 5<br>Nb ratings: 3<br><br><i>Walking time: 8 mins</i> <br><br>",
          "<b>Tierschutzverein Zug</b><br><i>kindergarten</i><br>Riedmatt, Allenwinden <br><br>Rating: 4.6<br>Nb ratings: 59<br><br><i>Walking time: 10 mins</i> <br><br>",
          "<b>Myself AG</b><br><i>public_transportation</i><br>Eggried 22, Allenwinden <br><br>Rating: No rating available<br>Nb ratings: No ratings available<br><br><i>Walking time: 5 mins</i> <br><br>",
          "<b>Triag AG</b><br><i>public_transportation</i><br>Aussergrütstrasse 2, Allenwinden <br><br>Rating: No rating available<br>Nb ratings: No ratings available<br><br><i>Walking time: 7 mins</i> <br><br>",
          "<b>Wasserversorgungs Genossenschaft Allenwinden</b><br><i>public_transportation</i><br>Eggried 24, Allenwinden <br><br>Rating: No rating available<br>Nb ratings: No ratings available<br><br><i>Walking time: 5 mins</i> <br><br>",
          "<b>Alois Arnold AG</b><br><i>public_transportation</i><br>Dorfstrasse 31, Allenwinden <br><br>Rating: 5<br>Nb ratings: 4<br><br><i>Walking time: 10 mins</i> <br><br>",
          "<b>Landtwing Verlag GmbH</b><br><i>public_transportation</i><br>Aussergrütstrasse 2, Allenwinden <br><br>Rating: No rating available<br>Nb ratings: No ratings available<br><br><i>Walking time: 7 mins</i> <br><br>",
          "<b>partychuchi</b><br><i>public_transportation</i><br>Aussergrütstrasse 7, Allenwinden <br><br>Rating: 5<br>Nb ratings: 5<br><br><i>Walking time: 8 mins</i> <br><br>",
          "<b>Elektrizitäts-Genossenschaft</b><br><i>public_transportation</i><br>Winzrüti 1, Allenwinden <br><br>Rating: No rating available<br>Nb ratings: No ratings available<br><br><i>Walking time: 4 mins</i> <br><br>",
          "<b>Speck Schreinerei</b><br><i>public_transportation</i><br>Dorfstrasse 37, Allenwinden <br><br>Rating: 5<br>Nb ratings: 3<br><br><i>Walking time: 8 mins</i> <br><br>",
          "<b>Tierschutzverein Zug</b><br><i>public_transportation</i><br>Riedmatt, Allenwinden <br><br>Rating: 4.6<br>Nb ratings: 59<br><br><i>Walking time: 10 mins</i> <br><br>",
          "<b>Allenwinden, Egg</b><br><i>public_transportation</i><br>Switzerland <br><br>Rating: 5<br>Nb ratings: 1<br><br><i>Walking time: 6 mins</i> <br><br>",
          "<b>Allenwinden, Egg</b><br><i>public_transportation</i><br>Switzerland <br><br>Rating: No rating available<br>Nb ratings: No ratings available<br><br><i>Walking time: 5 mins</i> <br><br>",
          "<b>Allenwinden, Grüt</b><br><i>public_transportation</i><br>Switzerland <br><br>Rating: No rating available<br>Nb ratings: No ratings available<br><br><i>Walking time: 8 mins</i> <br><br>",
          "<b>Allenwinden, Grüt</b><br><i>public_transportation</i><br>Switzerland <br><br>Rating: No rating available<br>Nb ratings: No ratings available<br><br><i>Walking time: 9 mins</i> <br><br>",
          "<b>Allenwinden, Grüt</b><br><i>public_transportation</i><br>Switzerland <br><br>Rating: No rating available<br>Nb ratings: No ratings available<br><br><i>Walking time: 9 mins</i> <br><br>",
          "<b>Myself AG</b><br><i>gym_fitness</i><br>Eggried 22, Allenwinden <br><br>Rating: No rating available<br>Nb ratings: No ratings available<br><br><i>Walking time: 5 mins</i> <br><br>",
          "<b>Triag AG</b><br><i>gym_fitness</i><br>Aussergrütstrasse 2, Allenwinden <br><br>Rating: No rating available<br>Nb ratings: No ratings available<br><br><i>Walking time: 7 mins</i> <br><br>",
          "<b>Wasserversorgungs Genossenschaft Allenwinden</b><br><i>gym_fitness</i><br>Eggried 24, Allenwinden <br><br>Rating: No rating available<br>Nb ratings: No ratings available<br><br><i>Walking time: 5 mins</i> <br><br>",
          "<b>Alois Arnold AG</b><br><i>gym_fitness</i><br>Dorfstrasse 31, Allenwinden <br><br>Rating: 5<br>Nb ratings: 4<br><br><i>Walking time: 10 mins</i> <br><br>",
          "<b>Landtwing Verlag GmbH</b><br><i>gym_fitness</i><br>Aussergrütstrasse 2, Allenwinden <br><br>Rating: No rating available<br>Nb ratings: No ratings available<br><br><i>Walking time: 7 mins</i> <br><br>",
          "<b>partychuchi</b><br><i>gym_fitness</i><br>Aussergrütstrasse 7, Allenwinden <br><br>Rating: 5<br>Nb ratings: 5<br><br><i>Walking time: 8 mins</i> <br><br>",
          "<b>Elektrizitäts-Genossenschaft</b><br><i>gym_fitness</i><br>Winzrüti 1, Allenwinden <br><br>Rating: No rating available<br>Nb ratings: No ratings available<br><br><i>Walking time: 4 mins</i> <br><br>",
          "<b>Speck Schreinerei</b><br><i>gym_fitness</i><br>Dorfstrasse 37, Allenwinden <br><br>Rating: 5<br>Nb ratings: 3<br><br><i>Walking time: 8 mins</i> <br><br>",
          "<b>Tierschutzverein Zug</b><br><i>gym_fitness</i><br>Riedmatt, Allenwinden <br><br>Rating: 4.6<br>Nb ratings: 59<br><br><i>Walking time: 10 mins</i> <br><br>",
          "<b>Myself AG</b><br><i>grocery_stores_supermarkets</i><br>Eggried 22, Allenwinden <br><br>Rating: No rating available<br>Nb ratings: No ratings available<br><br><i>Walking time: 5 mins</i> <br><br>",
          "<b>Triag AG</b><br><i>grocery_stores_supermarkets</i><br>Aussergrütstrasse 2, Allenwinden <br><br>Rating: No rating available<br>Nb ratings: No ratings available<br><br><i>Walking time: 7 mins</i> <br><br>",
          "<b>Wasserversorgungs Genossenschaft Allenwinden</b><br><i>grocery_stores_supermarkets</i><br>Eggried 24, Allenwinden <br><br>Rating: No rating available<br>Nb ratings: No ratings available<br><br><i>Walking time: 5 mins</i> <br><br>",
          "<b>Alois Arnold AG</b><br><i>grocery_stores_supermarkets</i><br>Dorfstrasse 31, Allenwinden <br><br>Rating: 5<br>Nb ratings: 4<br><br><i>Walking time: 10 mins</i> <br><br>",
          "<b>Landtwing Verlag GmbH</b><br><i>grocery_stores_supermarkets</i><br>Aussergrütstrasse 2, Allenwinden <br><br>Rating: No rating available<br>Nb ratings: No ratings available<br><br><i>Walking time: 7 mins</i> <br><br>",
          "<b>partychuchi</b><br><i>grocery_stores_supermarkets</i><br>Aussergrütstrasse 7, Allenwinden <br><br>Rating: 5<br>Nb ratings: 5<br><br><i>Walking time: 8 mins</i> <br><br>",
          "<b>Elektrizitäts-Genossenschaft</b><br><i>grocery_stores_supermarkets</i><br>Winzrüti 1, Allenwinden <br><br>Rating: No rating available<br>Nb ratings: No ratings available<br><br><i>Walking time: 4 mins</i> <br><br>",
          "<b>Speck Schreinerei</b><br><i>grocery_stores_supermarkets</i><br>Dorfstrasse 37, Allenwinden <br><br>Rating: 5<br>Nb ratings: 3<br><br><i>Walking time: 8 mins</i> <br><br>",
          "<b>Tierschutzverein Zug</b><br><i>grocery_stores_supermarkets</i><br>Riedmatt, Allenwinden <br><br>Rating: 4.6<br>Nb ratings: 59<br><br><i>Walking time: 10 mins</i> <br><br>",
          "<b>Myself AG</b><br><i>gas_ev_charging</i><br>Eggried 22, Allenwinden <br><br>Rating: No rating available<br>Nb ratings: No ratings available<br><br><i>Walking time: 5 mins</i> <br><br>",
          "<b>Triag AG</b><br><i>gas_ev_charging</i><br>Aussergrütstrasse 2, Allenwinden <br><br>Rating: No rating available<br>Nb ratings: No ratings available<br><br><i>Walking time: 7 mins</i> <br><br>",
          "<b>Wasserversorgungs Genossenschaft Allenwinden</b><br><i>gas_ev_charging</i><br>Eggried 24, Allenwinden <br><br>Rating: No rating available<br>Nb ratings: No ratings available<br><br><i>Walking time: 5 mins</i> <br><br>",
          "<b>Alois Arnold AG</b><br><i>gas_ev_charging</i><br>Dorfstrasse 31, Allenwinden <br><br>Rating: 5<br>Nb ratings: 4<br><br><i>Walking time: 10 mins</i> <br><br>",
          "<b>Landtwing Verlag GmbH</b><br><i>gas_ev_charging</i><br>Aussergrütstrasse 2, Allenwinden <br><br>Rating: No rating available<br>Nb ratings: No ratings available<br><br><i>Walking time: 7 mins</i> <br><br>",
          "<b>partychuchi</b><br><i>gas_ev_charging</i><br>Aussergrütstrasse 7, Allenwinden <br><br>Rating: 5<br>Nb ratings: 5<br><br><i>Walking time: 8 mins</i> <br><br>",
          "<b>Elektrizitäts-Genossenschaft</b><br><i>gas_ev_charging</i><br>Winzrüti 1, Allenwinden <br><br>Rating: No rating available<br>Nb ratings: No ratings available<br><br><i>Walking time: 4 mins</i> <br><br>",
          "<b>Speck Schreinerei</b><br><i>gas_ev_charging</i><br>Dorfstrasse 37, Allenwinden <br><br>Rating: 5<br>Nb ratings: 3<br><br><i>Walking time: 8 mins</i> <br><br>",
          "<b>Tierschutzverein Zug</b><br><i>gas_ev_charging</i><br>Riedmatt, Allenwinden <br><br>Rating: 4.6<br>Nb ratings: 59<br><br><i>Walking time: 10 mins</i> <br><br>"
         ],
         "type": "scattermapbox"
        },
        {
         "hoverinfo": "text",
         "lat": [
          47.171282
         ],
         "lon": [
          8.554959
         ],
         "marker": {
          "color": "black",
          "opacity": 1,
          "size": 20
         },
         "mode": "markers",
         "showlegend": false,
         "text": "6319 Allenwinden, Winzrüti 39",
         "type": "scattermapbox"
        }
       ],
       "layout": {
        "height": 800,
        "mapbox": {
         "center": {
          "lat": 47.171282,
          "lon": 8.554959
         },
         "style": "open-street-map",
         "zoom": 14
        },
        "margin": {
         "b": 0,
         "l": 0,
         "r": 0,
         "t": 0
        },
        "showlegend": false,
        "template": {
         "data": {
          "bar": [
           {
            "error_x": {
             "color": "#2a3f5f"
            },
            "error_y": {
             "color": "#2a3f5f"
            },
            "marker": {
             "line": {
              "color": "#E5ECF6",
              "width": 0.5
             },
             "pattern": {
              "fillmode": "overlay",
              "size": 10,
              "solidity": 0.2
             }
            },
            "type": "bar"
           }
          ],
          "barpolar": [
           {
            "marker": {
             "line": {
              "color": "#E5ECF6",
              "width": 0.5
             },
             "pattern": {
              "fillmode": "overlay",
              "size": 10,
              "solidity": 0.2
             }
            },
            "type": "barpolar"
           }
          ],
          "carpet": [
           {
            "aaxis": {
             "endlinecolor": "#2a3f5f",
             "gridcolor": "white",
             "linecolor": "white",
             "minorgridcolor": "white",
             "startlinecolor": "#2a3f5f"
            },
            "baxis": {
             "endlinecolor": "#2a3f5f",
             "gridcolor": "white",
             "linecolor": "white",
             "minorgridcolor": "white",
             "startlinecolor": "#2a3f5f"
            },
            "type": "carpet"
           }
          ],
          "choropleth": [
           {
            "colorbar": {
             "outlinewidth": 0,
             "ticks": ""
            },
            "type": "choropleth"
           }
          ],
          "contour": [
           {
            "colorbar": {
             "outlinewidth": 0,
             "ticks": ""
            },
            "colorscale": [
             [
              0,
              "#0d0887"
             ],
             [
              0.1111111111111111,
              "#46039f"
             ],
             [
              0.2222222222222222,
              "#7201a8"
             ],
             [
              0.3333333333333333,
              "#9c179e"
             ],
             [
              0.4444444444444444,
              "#bd3786"
             ],
             [
              0.5555555555555556,
              "#d8576b"
             ],
             [
              0.6666666666666666,
              "#ed7953"
             ],
             [
              0.7777777777777778,
              "#fb9f3a"
             ],
             [
              0.8888888888888888,
              "#fdca26"
             ],
             [
              1,
              "#f0f921"
             ]
            ],
            "type": "contour"
           }
          ],
          "contourcarpet": [
           {
            "colorbar": {
             "outlinewidth": 0,
             "ticks": ""
            },
            "type": "contourcarpet"
           }
          ],
          "heatmap": [
           {
            "colorbar": {
             "outlinewidth": 0,
             "ticks": ""
            },
            "colorscale": [
             [
              0,
              "#0d0887"
             ],
             [
              0.1111111111111111,
              "#46039f"
             ],
             [
              0.2222222222222222,
              "#7201a8"
             ],
             [
              0.3333333333333333,
              "#9c179e"
             ],
             [
              0.4444444444444444,
              "#bd3786"
             ],
             [
              0.5555555555555556,
              "#d8576b"
             ],
             [
              0.6666666666666666,
              "#ed7953"
             ],
             [
              0.7777777777777778,
              "#fb9f3a"
             ],
             [
              0.8888888888888888,
              "#fdca26"
             ],
             [
              1,
              "#f0f921"
             ]
            ],
            "type": "heatmap"
           }
          ],
          "heatmapgl": [
           {
            "colorbar": {
             "outlinewidth": 0,
             "ticks": ""
            },
            "colorscale": [
             [
              0,
              "#0d0887"
             ],
             [
              0.1111111111111111,
              "#46039f"
             ],
             [
              0.2222222222222222,
              "#7201a8"
             ],
             [
              0.3333333333333333,
              "#9c179e"
             ],
             [
              0.4444444444444444,
              "#bd3786"
             ],
             [
              0.5555555555555556,
              "#d8576b"
             ],
             [
              0.6666666666666666,
              "#ed7953"
             ],
             [
              0.7777777777777778,
              "#fb9f3a"
             ],
             [
              0.8888888888888888,
              "#fdca26"
             ],
             [
              1,
              "#f0f921"
             ]
            ],
            "type": "heatmapgl"
           }
          ],
          "histogram": [
           {
            "marker": {
             "pattern": {
              "fillmode": "overlay",
              "size": 10,
              "solidity": 0.2
             }
            },
            "type": "histogram"
           }
          ],
          "histogram2d": [
           {
            "colorbar": {
             "outlinewidth": 0,
             "ticks": ""
            },
            "colorscale": [
             [
              0,
              "#0d0887"
             ],
             [
              0.1111111111111111,
              "#46039f"
             ],
             [
              0.2222222222222222,
              "#7201a8"
             ],
             [
              0.3333333333333333,
              "#9c179e"
             ],
             [
              0.4444444444444444,
              "#bd3786"
             ],
             [
              0.5555555555555556,
              "#d8576b"
             ],
             [
              0.6666666666666666,
              "#ed7953"
             ],
             [
              0.7777777777777778,
              "#fb9f3a"
             ],
             [
              0.8888888888888888,
              "#fdca26"
             ],
             [
              1,
              "#f0f921"
             ]
            ],
            "type": "histogram2d"
           }
          ],
          "histogram2dcontour": [
           {
            "colorbar": {
             "outlinewidth": 0,
             "ticks": ""
            },
            "colorscale": [
             [
              0,
              "#0d0887"
             ],
             [
              0.1111111111111111,
              "#46039f"
             ],
             [
              0.2222222222222222,
              "#7201a8"
             ],
             [
              0.3333333333333333,
              "#9c179e"
             ],
             [
              0.4444444444444444,
              "#bd3786"
             ],
             [
              0.5555555555555556,
              "#d8576b"
             ],
             [
              0.6666666666666666,
              "#ed7953"
             ],
             [
              0.7777777777777778,
              "#fb9f3a"
             ],
             [
              0.8888888888888888,
              "#fdca26"
             ],
             [
              1,
              "#f0f921"
             ]
            ],
            "type": "histogram2dcontour"
           }
          ],
          "mesh3d": [
           {
            "colorbar": {
             "outlinewidth": 0,
             "ticks": ""
            },
            "type": "mesh3d"
           }
          ],
          "parcoords": [
           {
            "line": {
             "colorbar": {
              "outlinewidth": 0,
              "ticks": ""
             }
            },
            "type": "parcoords"
           }
          ],
          "pie": [
           {
            "automargin": true,
            "type": "pie"
           }
          ],
          "scatter": [
           {
            "fillpattern": {
             "fillmode": "overlay",
             "size": 10,
             "solidity": 0.2
            },
            "type": "scatter"
           }
          ],
          "scatter3d": [
           {
            "line": {
             "colorbar": {
              "outlinewidth": 0,
              "ticks": ""
             }
            },
            "marker": {
             "colorbar": {
              "outlinewidth": 0,
              "ticks": ""
             }
            },
            "type": "scatter3d"
           }
          ],
          "scattercarpet": [
           {
            "marker": {
             "colorbar": {
              "outlinewidth": 0,
              "ticks": ""
             }
            },
            "type": "scattercarpet"
           }
          ],
          "scattergeo": [
           {
            "marker": {
             "colorbar": {
              "outlinewidth": 0,
              "ticks": ""
             }
            },
            "type": "scattergeo"
           }
          ],
          "scattergl": [
           {
            "marker": {
             "colorbar": {
              "outlinewidth": 0,
              "ticks": ""
             }
            },
            "type": "scattergl"
           }
          ],
          "scattermapbox": [
           {
            "marker": {
             "colorbar": {
              "outlinewidth": 0,
              "ticks": ""
             }
            },
            "type": "scattermapbox"
           }
          ],
          "scatterpolar": [
           {
            "marker": {
             "colorbar": {
              "outlinewidth": 0,
              "ticks": ""
             }
            },
            "type": "scatterpolar"
           }
          ],
          "scatterpolargl": [
           {
            "marker": {
             "colorbar": {
              "outlinewidth": 0,
              "ticks": ""
             }
            },
            "type": "scatterpolargl"
           }
          ],
          "scatterternary": [
           {
            "marker": {
             "colorbar": {
              "outlinewidth": 0,
              "ticks": ""
             }
            },
            "type": "scatterternary"
           }
          ],
          "surface": [
           {
            "colorbar": {
             "outlinewidth": 0,
             "ticks": ""
            },
            "colorscale": [
             [
              0,
              "#0d0887"
             ],
             [
              0.1111111111111111,
              "#46039f"
             ],
             [
              0.2222222222222222,
              "#7201a8"
             ],
             [
              0.3333333333333333,
              "#9c179e"
             ],
             [
              0.4444444444444444,
              "#bd3786"
             ],
             [
              0.5555555555555556,
              "#d8576b"
             ],
             [
              0.6666666666666666,
              "#ed7953"
             ],
             [
              0.7777777777777778,
              "#fb9f3a"
             ],
             [
              0.8888888888888888,
              "#fdca26"
             ],
             [
              1,
              "#f0f921"
             ]
            ],
            "type": "surface"
           }
          ],
          "table": [
           {
            "cells": {
             "fill": {
              "color": "#EBF0F8"
             },
             "line": {
              "color": "white"
             }
            },
            "header": {
             "fill": {
              "color": "#C8D4E3"
             },
             "line": {
              "color": "white"
             }
            },
            "type": "table"
           }
          ]
         },
         "layout": {
          "annotationdefaults": {
           "arrowcolor": "#2a3f5f",
           "arrowhead": 0,
           "arrowwidth": 1
          },
          "autotypenumbers": "strict",
          "coloraxis": {
           "colorbar": {
            "outlinewidth": 0,
            "ticks": ""
           }
          },
          "colorscale": {
           "diverging": [
            [
             0,
             "#8e0152"
            ],
            [
             0.1,
             "#c51b7d"
            ],
            [
             0.2,
             "#de77ae"
            ],
            [
             0.3,
             "#f1b6da"
            ],
            [
             0.4,
             "#fde0ef"
            ],
            [
             0.5,
             "#f7f7f7"
            ],
            [
             0.6,
             "#e6f5d0"
            ],
            [
             0.7,
             "#b8e186"
            ],
            [
             0.8,
             "#7fbc41"
            ],
            [
             0.9,
             "#4d9221"
            ],
            [
             1,
             "#276419"
            ]
           ],
           "sequential": [
            [
             0,
             "#0d0887"
            ],
            [
             0.1111111111111111,
             "#46039f"
            ],
            [
             0.2222222222222222,
             "#7201a8"
            ],
            [
             0.3333333333333333,
             "#9c179e"
            ],
            [
             0.4444444444444444,
             "#bd3786"
            ],
            [
             0.5555555555555556,
             "#d8576b"
            ],
            [
             0.6666666666666666,
             "#ed7953"
            ],
            [
             0.7777777777777778,
             "#fb9f3a"
            ],
            [
             0.8888888888888888,
             "#fdca26"
            ],
            [
             1,
             "#f0f921"
            ]
           ],
           "sequentialminus": [
            [
             0,
             "#0d0887"
            ],
            [
             0.1111111111111111,
             "#46039f"
            ],
            [
             0.2222222222222222,
             "#7201a8"
            ],
            [
             0.3333333333333333,
             "#9c179e"
            ],
            [
             0.4444444444444444,
             "#bd3786"
            ],
            [
             0.5555555555555556,
             "#d8576b"
            ],
            [
             0.6666666666666666,
             "#ed7953"
            ],
            [
             0.7777777777777778,
             "#fb9f3a"
            ],
            [
             0.8888888888888888,
             "#fdca26"
            ],
            [
             1,
             "#f0f921"
            ]
           ]
          },
          "colorway": [
           "#636efa",
           "#EF553B",
           "#00cc96",
           "#ab63fa",
           "#FFA15A",
           "#19d3f3",
           "#FF6692",
           "#B6E880",
           "#FF97FF",
           "#FECB52"
          ],
          "font": {
           "color": "#2a3f5f"
          },
          "geo": {
           "bgcolor": "white",
           "lakecolor": "white",
           "landcolor": "#E5ECF6",
           "showlakes": true,
           "showland": true,
           "subunitcolor": "white"
          },
          "hoverlabel": {
           "align": "left"
          },
          "hovermode": "closest",
          "mapbox": {
           "style": "light"
          },
          "paper_bgcolor": "white",
          "plot_bgcolor": "#E5ECF6",
          "polar": {
           "angularaxis": {
            "gridcolor": "white",
            "linecolor": "white",
            "ticks": ""
           },
           "bgcolor": "#E5ECF6",
           "radialaxis": {
            "gridcolor": "white",
            "linecolor": "white",
            "ticks": ""
           }
          },
          "scene": {
           "xaxis": {
            "backgroundcolor": "#E5ECF6",
            "gridcolor": "white",
            "gridwidth": 2,
            "linecolor": "white",
            "showbackground": true,
            "ticks": "",
            "zerolinecolor": "white"
           },
           "yaxis": {
            "backgroundcolor": "#E5ECF6",
            "gridcolor": "white",
            "gridwidth": 2,
            "linecolor": "white",
            "showbackground": true,
            "ticks": "",
            "zerolinecolor": "white"
           },
           "zaxis": {
            "backgroundcolor": "#E5ECF6",
            "gridcolor": "white",
            "gridwidth": 2,
            "linecolor": "white",
            "showbackground": true,
            "ticks": "",
            "zerolinecolor": "white"
           }
          },
          "shapedefaults": {
           "line": {
            "color": "#2a3f5f"
           }
          },
          "ternary": {
           "aaxis": {
            "gridcolor": "white",
            "linecolor": "white",
            "ticks": ""
           },
           "baxis": {
            "gridcolor": "white",
            "linecolor": "white",
            "ticks": ""
           },
           "bgcolor": "#E5ECF6",
           "caxis": {
            "gridcolor": "white",
            "linecolor": "white",
            "ticks": ""
           }
          },
          "title": {
           "x": 0.05
          },
          "xaxis": {
           "automargin": true,
           "gridcolor": "white",
           "linecolor": "white",
           "ticks": "",
           "title": {
            "standoff": 15
           },
           "zerolinecolor": "white",
           "zerolinewidth": 2
          },
          "yaxis": {
           "automargin": true,
           "gridcolor": "white",
           "linecolor": "white",
           "ticks": "",
           "title": {
            "standoff": 15
           },
           "zerolinecolor": "white",
           "zerolinewidth": 2
          }
         }
        },
        "width": 800
       }
      }
     },
     "metadata": {},
     "output_type": "display_data"
    }
   ],
   "source": [
    "FILE = load_data(FILES[4])\n",
    "base_map = create_base_map(FILE, 800, 800, 14)\n",
    "add_population(base_map, FILE)\n",
    "add_isochrone(base_map, FILE)\n",
    "add_places(base_map, FILE)\n",
    "add_original_address(base_map, FILE)"
   ]
  },
  {
   "cell_type": "code",
   "execution_count": 36,
   "metadata": {},
   "outputs": [
    {
     "data": {
      "application/vnd.plotly.v1+json": {
       "config": {
        "plotlyServerURL": "https://plot.ly"
       },
       "data": [
        {
         "type": "scattermapbox"
        },
        {
         "hoverinfo": "text",
         "hovertemplate": "%{text}<extra></extra>",
         "lat": [
          47.36749522773802,
          47.368394570822176,
          47.3692939136583,
          47.3701932562461,
          47.37109259858542,
          47.371991940676,
          47.372891282517564,
          47.373790624110015,
          47.366583563539415,
          47.36748290666558,
          47.36838224954385,
          47.36928159217401,
          47.37018093455593,
          47.37108027668931,
          47.371979618573945,
          47.37287896020962,
          47.37377830159615,
          47.374677642733204,
          47.36567188432175,
          47.3665712274894,
          47.367470570409395,
          47.36836991308152,
          47.36926925550558,
          47.37016859768132,
          47.371067939608515,
          47.37196728128698,
          47.37286662271645,
          47.37376596389678,
          47.374665304827666,
          47.37556464550896,
          47.36476019008602,
          47.36655887625594,
          47.36745821896956,
          47.36835756143529,
          47.369256903652904,
          47.370156245622226,
          47.371055587343015,
          47.37195492881503,
          47.3728542700381,
          47.373753611011956,
          47.374652951736365,
          47.37555229221119,
          47.376451632436115,
          47.36474782408242,
          47.36564716708447,
          47.366546509839075,
          47.36744585234603,
          47.36834519460507,
          47.36924453661605,
          47.37014387837872,
          47.37104321989284,
          47.37194256115813,
          47.37284190217451,
          47.37374124294167,
          47.37464058345939,
          47.375539923727494,
          47.376439263745716,
          47.36473544289592,
          47.36563478569105,
          47.36653412823878,
          47.36743347053883,
          47.36833281259096,
          47.369232154395014,
          47.37013149595077,
          47.37103083725792,
          47.37193017831634,
          47.372829519125766,
          47.37372885968598,
          47.37462819999669,
          47.37552754005785,
          47.376426879869115,
          47.364723046526535,
          47.36562238911454,
          47.36652173145511,
          47.36742107354797,
          47.36832041539295,
          47.36921975698984,
          47.37011909833839,
          47.371018439438394,
          47.371917780289614,
          47.37281712089183,
          47.37371646124486,
          47.374615801348384,
          47.375515141202285,
          47.37641448080632,
          47.37731382016022,
          47.364710634974294,
          47.36560997735488,
          47.36650931948804,
          47.36740866137351,
          47.36830800301109,
          47.369207344400536,
          47.37010668554164,
          47.3710060264342,
          47.37190536707797,
          47.37280470747275,
          47.37370404761829,
          47.37460338751438,
          47.3755027271608,
          47.37640206655735,
          47.37730140570376,
          47.367396234015445,
          47.368295575445316,
          47.36919491662709,
          47.37009425756055,
          47.3709935982454,
          47.37189293868144,
          47.372792278868495,
          47.37369161880635,
          47.37459095849471,
          47.37549029793339,
          47.37638963712221,
          47.36468576632122,
          47.36558510828622,
          47.36828313269569,
          47.36918247366956,
          47.37008181439503,
          47.37098115487194,
          47.371880495100044,
          47.37277983507913,
          47.37367917480902,
          47.374578514289375,
          47.37547785352011,
          47.37637719250093,
          47.36647199248673,
          47.367371333748416,
          47.36917001552788,
          47.370069356045185,
          47.37096869631388,
          47.371868036333794,
          47.37276737610468,
          47.37366671562629,
          47.37456605489845,
          47.376364732693546,
          47.365560178485275,
          47.36645951978628,
          47.36735886083958,
          47.369157542202146,
          47.37005688251101,
          47.37095622257124,
          47.37185556238264,
          47.372754901945086,
          47.373654241258244,
          47.374553580321944,
          47.375452919135945,
          47.36644703190254,
          47.36734637274714,
          47.36824571334377,
          47.37004439379246,
          47.370943733644005,
          47.371843073246744,
          47.37274241260043,
          47.37364175170487,
          47.374541090559774,
          47.36733386947113,
          47.36823320985885,
          47.36913254999843,
          47.370031889889646,
          47.371830568925986,
          47.37272990807069,
          47.37362924696613,
          47.370019370802524
         ],
         "lon": [
          8.512987686405333,
          8.51300581110069,
          8.513023936409885,
          8.51304206233295,
          8.513060188869927,
          8.513078316020845,
          8.513096443785743,
          8.513114572164659,
          8.514293295850589,
          8.51431144227662,
          8.51432958931721,
          8.514347736972391,
          8.514365885242206,
          8.514384034126683,
          8.514402183625862,
          8.514420333739773,
          8.514438484468464,
          8.514456635811962,
          8.51559886060769,
          8.515617028762884,
          8.515635197533351,
          8.515653366919135,
          8.515671536920271,
          8.515689707536794,
          8.515707878768739,
          8.515726050616141,
          8.515744223079034,
          8.515762396157461,
          8.515780569851445,
          8.515798744161037,
          8.516904380678215,
          8.516940761059892,
          8.516958952174766,
          8.51697714390571,
          8.516995336252766,
          8.517013529215962,
          8.517031722795334,
          8.517049916990924,
          8.517068111802763,
          8.517086307230889,
          8.517104503275338,
          8.517122699936143,
          8.517140897213341,
          8.518228067672721,
          8.518246279898415,
          8.518264492740864,
          8.518282706200107,
          8.518300920276179,
          8.518319134969111,
          8.51833735027895,
          8.518355566205717,
          8.518373782749459,
          8.518391999910206,
          8.518410217687997,
          8.518428436082866,
          8.518446655094852,
          8.518464874723986,
          8.519551754050505,
          8.519569988619018,
          8.519588223805046,
          8.519606459608621,
          8.51962469602978,
          8.519642933068559,
          8.519661170724998,
          8.519679408999126,
          8.51969764789098,
          8.519715887400602,
          8.519734127528025,
          8.519752368273279,
          8.51977060963641,
          8.519788851617445,
          8.520875439810814,
          8.52089369672211,
          8.520911954251677,
          8.520930212399547,
          8.52094847116576,
          8.520966730550349,
          8.520984990553352,
          8.521003251174806,
          8.521021512414743,
          8.521039774273198,
          8.521058036750214,
          8.521076299845822,
          8.521094563560055,
          8.521112827892958,
          8.521131092844557,
          8.522199124952886,
          8.52221740420693,
          8.52223568408,
          8.52225396457213,
          8.52227224568336,
          8.522290527413725,
          8.522308809763258,
          8.522327092731999,
          8.52234537631998,
          8.522363660527239,
          8.522381945353809,
          8.522400230799734,
          8.522418516865041,
          8.52243680354977,
          8.522455090853956,
          8.523577716125617,
          8.52359601958183,
          8.523614323657931,
          8.523632628353958,
          8.52365093366995,
          8.52366923960594,
          8.523687546161964,
          8.52370585333806,
          8.523724161134256,
          8.523742469550601,
          8.523760778587121,
          8.524846493379298,
          8.524864817318733,
          8.524919792860405,
          8.52493811928221,
          8.524956446324698,
          8.524974773987902,
          8.524993102271864,
          8.525011431176617,
          8.525029760702198,
          8.525048090848639,
          8.525066421615984,
          8.525084753004261,
          8.526206869847568,
          8.526225217372266,
          8.526261914285804,
          8.526280263674712,
          8.526298613685098,
          8.526316964316996,
          8.526335315570444,
          8.526353667445472,
          8.526372019942123,
          8.526408726800426,
          8.527512227948376,
          8.527530597195105,
          8.527548967063918,
          8.527585708667955,
          8.527604080403254,
          8.527622452760783,
          8.527640825740578,
          8.527659199342683,
          8.527677573567125,
          8.527695948413946,
          8.52771432388318,
          8.528854323920548,
          8.52887271613344,
          8.528891108969217,
          8.52892789650956,
          8.528946291214195,
          8.528964686541855,
          8.528983082492578,
          8.5290014790664,
          8.529019876263355,
          8.530196464580087,
          8.530214879760662,
          8.530233295564914,
          8.530251711992877,
          8.53028854672007,
          8.530306965019376,
          8.53032538394254,
          8.531575526852444
         ],
         "marker": {
          "color": "purple",
          "opacity": 0.5,
          "size": 40
         },
         "mode": "markers",
         "showlegend": false,
         "text": [
          84,
          121,
          236,
          241,
          297,
          293,
          283,
          111,
          87,
          76,
          190,
          37,
          158,
          306,
          269,
          203,
          304,
          271,
          38,
          100,
          84,
          93,
          97,
          250,
          271,
          229,
          300,
          244,
          276,
          298,
          163,
          98,
          77,
          6,
          140,
          320,
          244,
          201,
          90,
          126,
          257,
          88,
          85,
          74,
          37,
          82,
          48,
          66,
          314,
          286,
          222,
          207,
          212,
          298,
          181,
          324,
          280,
          98,
          112,
          212,
          173,
          39,
          253,
          165,
          262,
          301,
          286,
          114,
          248,
          30,
          232,
          228,
          321,
          342,
          360,
          182,
          220,
          165,
          223,
          212,
          92,
          39,
          84,
          147,
          153,
          318,
          248,
          171,
          183,
          309,
          137,
          50,
          330,
          87,
          59,
          79,
          197,
          111,
          109,
          409,
          210,
          114,
          192,
          186,
          345,
          110,
          74,
          190,
          245,
          127,
          102,
          395,
          6,
          32,
          14,
          98,
          356,
          190,
          103,
          205,
          209,
          73,
          99,
          197,
          81,
          37,
          79,
          257,
          262,
          104,
          205,
          136,
          12,
          17,
          42,
          116,
          54,
          149,
          170,
          194,
          36,
          204,
          179,
          36,
          167,
          30,
          74,
          53,
          30,
          148,
          146,
          92,
          72,
          221,
          5,
          21,
          82,
          16,
          3,
          58,
          87,
          277
         ],
         "type": "scattermapbox"
        },
        {
         "fill": "toself",
         "fillcolor": "rgba(10,80,50,0.25)",
         "hoverinfo": "text",
         "lat": [
          47.370082,
          47.369157,
          47.368876,
          47.368799,
          47.368958,
          47.369007,
          47.370601,
          47.371243,
          47.371653,
          47.371659,
          47.371754,
          47.372512,
          47.3724,
          47.372392,
          47.372223,
          47.371516,
          47.371439,
          47.37043,
          47.370082
         ],
         "line": {
          "color": "rgba(10,80,50,1)",
          "width": 1
         },
         "lon": [
          8.518846,
          8.519542,
          8.519767,
          8.521463,
          8.524224,
          8.524265,
          8.524685,
          8.524825,
          8.524893,
          8.524888,
          8.52475,
          8.521827,
          8.520406,
          8.520318,
          8.520074,
          8.519534,
          8.519492,
          8.518939,
          8.518846
         ],
         "marker": {
          "color": "blue",
          "size": 1
         },
         "mode": "lines",
         "showlegend": false,
         "text": "3.0min. walking",
         "type": "scattermapbox"
        },
        {
         "fill": "toself",
         "fillcolor": "rgba(10,80,50,0.25)",
         "hoverinfo": "text",
         "lat": [
          47.370393,
          47.369512,
          47.368381,
          47.368228,
          47.367679,
          47.367518,
          47.367435,
          47.367749,
          47.367981,
          47.368564,
          47.368915,
          47.368997,
          47.371606,
          47.372041,
          47.372482,
          47.372501,
          47.372998,
          47.373477,
          47.373542,
          47.373545,
          47.372815,
          47.370831,
          47.370751,
          47.370393
         ],
         "line": {
          "color": "rgba(10,80,50,1)",
          "width": 1
         },
         "lon": [
          8.516813,
          8.517247,
          8.517852,
          8.518114,
          8.519095,
          8.51947,
          8.519671,
          8.523716,
          8.524399,
          8.525335,
          8.525911,
          8.525986,
          8.5268,
          8.526792,
          8.52661,
          8.526579,
          8.523861,
          8.520078,
          8.519009,
          8.518906,
          8.51816,
          8.516813,
          8.516776,
          8.516813
         ],
         "marker": {
          "color": "blue",
          "size": 1
         },
         "mode": "lines",
         "showlegend": false,
         "text": "5.0min. walking",
         "type": "scattermapbox"
        },
        {
         "fill": "toself",
         "fillcolor": "rgba(10,80,50,0.25)",
         "hoverinfo": "text",
         "lat": [
          47.370236,
          47.367795,
          47.367723,
          47.366011,
          47.365986,
          47.366454,
          47.366577,
          47.366617,
          47.367784,
          47.368843,
          47.369136,
          47.371188,
          47.371191,
          47.371583,
          47.372605,
          47.372736,
          47.373342,
          47.373416,
          47.374355,
          47.374359,
          47.374362,
          47.374365,
          47.374879,
          47.374696,
          47.374415,
          47.373857,
          47.371731,
          47.371388,
          47.370803,
          47.370528,
          47.370236
         ],
         "line": {
          "color": "rgba(10,80,50,1)",
          "width": 1
         },
         "lon": [
          8.514701,
          8.515981,
          8.516033,
          8.519945,
          8.520138,
          8.523126,
          8.523935,
          8.524128,
          8.526236,
          8.527935,
          8.528252,
          8.528933,
          8.528933,
          8.528881,
          8.528697,
          8.528671,
          8.528057,
          8.527957,
          8.525026,
          8.524989,
          8.524931,
          8.524884,
          8.519103,
          8.517487,
          8.517261,
          8.516831,
          8.515393,
          8.515168,
          8.514809,
          8.514655,
          8.514701
         ],
         "marker": {
          "color": "blue",
          "size": 1
         },
         "mode": "lines",
         "showlegend": false,
         "text": "7.0min. walking",
         "type": "scattermapbox"
        },
        {
         "fill": "toself",
         "fillcolor": "rgba(10,80,50,0.25)",
         "hoverinfo": "text",
         "lat": [
          47.370203,
          47.370081,
          47.369845,
          47.366211,
          47.366003,
          47.363982,
          47.363804,
          47.364245,
          47.364701,
          47.36478,
          47.36731,
          47.367603,
          47.370758,
          47.370945,
          47.373109,
          47.373507,
          47.375093,
          47.37599,
          47.37633,
          47.376644,
          47.376966,
          47.376556,
          47.376304,
          47.376125,
          47.37607,
          47.374897,
          47.372482,
          47.370277,
          47.370203
         ],
         "line": {
          "color": "rgba(10,80,50,1)",
          "width": 1
         },
         "lon": [
          8.511458,
          8.511472,
          8.5115,
          8.513667,
          8.513969,
          8.519595,
          8.520358,
          8.522809,
          8.525107,
          8.525458,
          8.530513,
          8.530724,
          8.531883,
          8.531945,
          8.531771,
          8.531671,
          8.529579,
          8.527153,
          8.525634,
          8.520283,
          8.518209,
          8.515978,
          8.515384,
          8.515116,
          8.515061,
          8.514157,
          8.512758,
          8.511458,
          8.511458
         ],
         "marker": {
          "color": "blue",
          "size": 1
         },
         "mode": "lines",
         "showlegend": false,
         "text": "10.0min. walking",
         "type": "scattermapbox"
        },
        {
         "fill": "toself",
         "fillcolor": "rgba(10,80,50,0.25)",
         "hoverinfo": "text",
         "lat": [
          47.369846,
          47.369488,
          47.369393,
          47.368903,
          47.364382,
          47.364267,
          47.364228,
          47.363368,
          47.362141,
          47.362005,
          47.36199,
          47.361905,
          47.361981,
          47.362015,
          47.363084,
          47.363254,
          47.364004,
          47.365822,
          47.365888,
          47.36593,
          47.369756,
          47.370337,
          47.372954,
          47.375101,
          47.375361,
          47.376929,
          47.376973,
          47.377639,
          47.378358,
          47.378551,
          47.378924,
          47.378934,
          47.37894,
          47.377559,
          47.377221,
          47.372743,
          47.372436,
          47.370618,
          47.369846
         ],
         "line": {
          "color": "rgba(10,80,50,1)",
          "width": 1
         },
         "lon": [
          8.508221,
          8.508264,
          8.5083,
          8.508674,
          8.511858,
          8.511965,
          8.512107,
          8.516685,
          8.51822,
          8.5185,
          8.518827,
          8.52233,
          8.522682,
          8.522783,
          8.525938,
          8.526332,
          8.52755,
          8.532296,
          8.532522,
          8.532567,
          8.53482,
          8.534899,
          8.534833,
          8.533402,
          8.533153,
          8.530836,
          8.530766,
          8.529322,
          8.526737,
          8.521626,
          8.519523,
          8.519472,
          8.515994,
          8.512704,
          8.512303,
          8.509508,
          8.50932,
          8.508487,
          8.508221
         ],
         "marker": {
          "color": "blue",
          "size": 1
         },
         "mode": "lines",
         "showlegend": false,
         "text": "13.0min. walking",
         "type": "scattermapbox"
        },
        {
         "fill": "toself",
         "fillcolor": "rgba(10,80,50,0.25)",
         "hoverinfo": "text",
         "lat": [
          47.369652,
          47.369294,
          47.369122,
          47.367113,
          47.363481,
          47.36307,
          47.363016,
          47.360737,
          47.360341,
          47.360342,
          47.361833,
          47.363248,
          47.364393,
          47.364486,
          47.364778,
          47.368624,
          47.369686,
          47.371093,
          47.372916,
          47.373194,
          47.37322,
          47.376168,
          47.376471,
          47.378798,
          47.379816,
          47.379687,
          47.380204,
          47.380218,
          47.380376,
          47.380361,
          47.380202,
          47.380032,
          47.379991,
          47.378896,
          47.378175,
          47.373466,
          47.371826,
          47.371505,
          47.370419,
          47.369652
         ],
         "line": {
          "color": "rgba(10,80,50,1)",
          "width": 1
         },
         "lon": [
          8.506044,
          8.506085,
          8.506135,
          8.507679,
          8.510168,
          8.510853,
          8.511914,
          8.517089,
          8.522811,
          8.522823,
          8.526717,
          8.529066,
          8.532966,
          8.533242,
          8.533462,
          8.536165,
          8.53646,
          8.536594,
          8.536718,
          8.536704,
          8.536689,
          8.534853,
          8.534658,
          8.530713,
          8.52777,
          8.523964,
          8.52061,
          8.52045,
          8.516804,
          8.516703,
          8.515955,
          8.515215,
          8.515062,
          8.512341,
          8.510496,
          8.507766,
          8.506863,
          8.506701,
          8.506228,
          8.506044
         ],
         "marker": {
          "color": "blue",
          "size": 1
         },
         "mode": "lines",
         "showlegend": false,
         "text": "15.0min. walking",
         "type": "scattermapbox"
        },
        {
         "hoverinfo": "text",
         "hovertemplate": "%{text}<extra></extra>",
         "lat": [
          47.372212,
          47.3713012,
          47.3729916,
          47.36625269999999,
          47.372212,
          47.3718032,
          47.3707089,
          47.3719693,
          47.3734304,
          47.3729916,
          47.3707089,
          47.3719693,
          47.3734304,
          47.3729916,
          47.3719903,
          47.36779,
          47.3707089,
          47.3719693,
          47.3734304,
          47.3729916,
          47.372326,
          47.3714016,
          47.3742982,
          47.3745026,
          47.3700092,
          47.3715058,
          47.37243050000001,
          47.3740496,
          47.3746236,
          47.3654581,
          47.3702768,
          47.3754622,
          47.369464,
          47.37123709999999,
          47.37124590000001,
          47.3714016,
          47.371387,
          47.37128669999999,
          47.3719903,
          47.3712255,
          47.37015299999999,
          47.3715757,
          47.37135370000001,
          47.36984409999999,
          47.37328299999999,
          47.36779,
          47.36757859999999,
          47.37429299999999,
          47.37428800000001,
          47.3720746,
          47.37241530000001,
          47.3707089,
          47.3719693,
          47.3734304,
          47.3729916,
          47.37153920000001,
          47.3713613,
          47.3720933,
          47.3744452,
          47.3744613,
          47.3739211,
          47.3693529,
          47.3722368,
          47.373448,
          47.3707089,
          47.3719693,
          47.3734304,
          47.3729916,
          47.3713653,
          47.3700773,
          47.3719407,
          47.3744557,
          47.37285110000001,
          47.3709277,
          47.370688,
          47.3657476,
          47.3728691,
          47.3707089,
          47.3719693,
          47.3734304,
          47.3729916,
          47.3690952,
          47.36853989999999,
          47.3703027,
          47.3701106
         ],
         "lon": [
          8.528919,
          8.5163341,
          8.5290354,
          8.521289099999999,
          8.528919,
          8.5159273,
          8.5281015,
          8.520916699999999,
          8.5189468,
          8.5290354,
          8.5281015,
          8.520916699999999,
          8.5189468,
          8.5290354,
          8.5231306,
          8.522919000000002,
          8.5281015,
          8.520916699999999,
          8.5189468,
          8.5290354,
          8.526844999999998,
          8.523633199999999,
          8.5210954,
          8.5210942,
          8.519186399999999,
          8.524199,
          8.5267232,
          8.525740400000002,
          8.5243967,
          8.521625400000001,
          8.513890900000002,
          8.517567500000002,
          8.5208199,
          8.5237001,
          8.523698000000001,
          8.523633199999999,
          8.5237481,
          8.5239234,
          8.5231306,
          8.5240384,
          8.519264000000002,
          8.524050899999999,
          8.5244849,
          8.5187093,
          8.5215,
          8.522919000000002,
          8.5230358,
          8.521452900000002,
          8.521086799999999,
          8.516639699999999,
          8.526629,
          8.5281015,
          8.520916699999999,
          8.5189468,
          8.5290354,
          8.522427100000002,
          8.5225566,
          8.519393599999999,
          8.523511599999999,
          8.5238297,
          8.5164858,
          8.5177678,
          8.519650999999998,
          8.524746,
          8.5281015,
          8.520916699999999,
          8.5189468,
          8.5290354,
          8.525133499999999,
          8.520128399999999,
          8.5204601,
          8.524042799999998,
          8.529626100000003,
          8.522505400000002,
          8.516052100000001,
          8.5213377,
          8.5211221,
          8.5281015,
          8.520916699999999,
          8.5189468,
          8.5290354,
          8.5226354,
          8.521655599999999,
          8.5270797,
          8.527352299999999
         ],
         "marker": {
          "color": [
           "pink",
           "pink",
           "yellow",
           "yellow",
           "yellow",
           "yellow",
           "orange",
           "orange",
           "orange",
           "orange",
           "orange",
           "orange",
           "orange",
           "orange",
           "purple",
           "purple",
           "purple",
           "purple",
           "purple",
           "purple",
           "purple",
           "purple",
           "purple",
           "purple",
           "purple",
           "purple",
           "purple",
           "purple",
           "purple",
           "purple",
           "purple",
           "purple",
           "purple",
           "purple",
           "purple",
           "purple",
           "purple",
           "purple",
           "purple",
           "purple",
           "purple",
           "purple",
           "purple",
           "purple",
           "purple",
           "purple",
           "purple",
           "purple",
           "purple",
           "purple",
           "purple",
           "brown",
           "brown",
           "brown",
           "brown",
           "brown",
           "brown",
           "brown",
           "brown",
           "brown",
           "brown",
           "brown",
           "brown",
           "brown",
           "red",
           "red",
           "red",
           "red",
           "red",
           "red",
           "red",
           "red",
           "red",
           "red",
           "red",
           "red",
           "cyan",
           "cyan",
           "cyan",
           "cyan",
           "cyan",
           "blue",
           "blue",
           "blue",
           "blue"
          ],
          "opacity": 1,
          "size": 10
         },
         "mode": "markers",
         "showlegend": false,
         "text": [
          "<b>Certo</b><br><i>bars</i><br>Strassburgstrasse 5, Zürich <br><br>Rating: 4.4<br>Nb ratings: 510<br><br><i>Walking time: 9 mins</i> <br><br>",
          "<b>Plüsch</b><br><i>bars</i><br>Aemtlerstrasse 16, Zürich <br><br>Rating: 4.4<br>Nb ratings: 505<br><br><i>Walking time: 7 mins</i> <br><br>",
          "<b>Masala</b><br><i>restaurants</i><br>Stauffacherstrasse 27, Zürich <br><br>Rating: 4<br>Nb ratings: 546<br><br><i>Walking time: 10 mins</i> <br><br>",
          "<b>Ristorante Napoli</b><br><i>restaurants</i><br>Sandstrasse 7, Zürich <br><br>Rating: 3.9<br>Nb ratings: 526<br><br><i>Walking time: 9 mins</i> <br><br>",
          "<b>Certo</b><br><i>restaurants</i><br>Strassburgstrasse 5, Zürich <br><br>Rating: 4.4<br>Nb ratings: 510<br><br><i>Walking time: 9 mins</i> <br><br>",
          "<b>Restaurant La Côte</b><br><i>restaurants</i><br>Aemtlerstrasse 26, Zürich <br><br>Rating: 4.4<br>Nb ratings: 558<br><br><i>Walking time: 8 mins</i> <br><br>",
          "<b>Saint Georges Hotel</b><br><i>kindergarten</i><br>Weberstrasse 11, Zürich <br><br>Rating: 4.2<br>Nb ratings: 481<br><br><i>Walking time: 9 mins</i> <br><br>",
          "<b>Synagoge Agudas Achim</b><br><i>kindergarten</i><br>Erikastrasse 8, Zürich <br><br>Rating: 4.7<br>Nb ratings: 85<br><br><i>Walking time: 3 mins</i> <br><br>",
          "<b>living downtown GmbH</b><br><i>kindergarten</i><br>Weststrasse 146, Zürich <br><br>Rating: 3.2<br>Nb ratings: 47<br><br><i>Walking time: 6 mins</i> <br><br>",
          "<b>Masala</b><br><i>kindergarten</i><br>Stauffacherstrasse 27, Zürich <br><br>Rating: 4<br>Nb ratings: 546<br><br><i>Walking time: 10 mins</i> <br><br>",
          "<b>Saint Georges Hotel</b><br><i>kindergarten</i><br>Weberstrasse 11, Zürich <br><br>Rating: 4.2<br>Nb ratings: 481<br><br><i>Walking time: 9 mins</i> <br><br>",
          "<b>Synagoge Agudas Achim</b><br><i>kindergarten</i><br>Erikastrasse 8, Zürich <br><br>Rating: 4.7<br>Nb ratings: 85<br><br><i>Walking time: 3 mins</i> <br><br>",
          "<b>living downtown GmbH</b><br><i>kindergarten</i><br>Weststrasse 146, Zürich <br><br>Rating: 3.2<br>Nb ratings: 47<br><br><i>Walking time: 6 mins</i> <br><br>",
          "<b>Masala</b><br><i>kindergarten</i><br>Stauffacherstrasse 27, Zürich <br><br>Rating: 4<br>Nb ratings: 546<br><br><i>Walking time: 10 mins</i> <br><br>",
          "<b>Bahnhof Wiedikon</b><br><i>public_transportation</i><br>Switzerland <br><br>Rating: 3.5<br>Nb ratings: 4<br><br><i>Walking time: 5 mins</i> <br><br>",
          "<b>Hertersteg</b><br><i>public_transportation</i><br>Switzerland <br><br>Rating: 3<br>Nb ratings: 2<br><br><i>Walking time: 6 mins</i> <br><br>",
          "<b>Saint Georges Hotel</b><br><i>public_transportation</i><br>Weberstrasse 11, Zürich <br><br>Rating: 4.2<br>Nb ratings: 481<br><br><i>Walking time: 9 mins</i> <br><br>",
          "<b>Synagoge Agudas Achim</b><br><i>public_transportation</i><br>Erikastrasse 8, Zürich <br><br>Rating: 4.7<br>Nb ratings: 85<br><br><i>Walking time: 3 mins</i> <br><br>",
          "<b>living downtown GmbH</b><br><i>public_transportation</i><br>Weststrasse 146, Zürich <br><br>Rating: 3.2<br>Nb ratings: 47<br><br><i>Walking time: 6 mins</i> <br><br>",
          "<b>Masala</b><br><i>public_transportation</i><br>Stauffacherstrasse 27, Zürich <br><br>Rating: 4<br>Nb ratings: 546<br><br><i>Walking time: 10 mins</i> <br><br>",
          "<b>Werd</b><br><i>public_transportation</i><br>Switzerland <br><br>Rating: No rating available<br>Nb ratings: No ratings available<br><br><i>Walking time: 7 mins</i> <br><br>",
          "<b>Zürich Wiedikon</b><br><i>public_transportation</i><br>Switzerland <br><br>Rating: 4.3<br>Nb ratings: 64<br><br><i>Walking time: 4 mins</i> <br><br>",
          "<b>Zürich,Kalkbreite/Bhf.Wiedikon</b><br><i>public_transportation</i><br>Switzerland <br><br>Rating: No rating available<br>Nb ratings: No ratings available<br><br><i>Walking time: 9 mins</i> <br><br>",
          "<b>Kalkbreite/Bhf. Wiedikon</b><br><i>public_transportation</i><br>Switzerland <br><br>Rating: 4<br>Nb ratings: 28<br><br><i>Walking time: 10 mins</i> <br><br>",
          "<b>Schmiede Wiedikon</b><br><i>public_transportation</i><br>Switzerland <br><br>Rating: No rating available<br>Nb ratings: No ratings available<br><br><i>Walking time: 3 mins</i> <br><br>",
          "<b>Bahnhof Wiedikon</b><br><i>public_transportation</i><br>Switzerland <br><br>Rating: No rating available<br>Nb ratings: No ratings available<br><br><i>Walking time: 4 mins</i> <br><br>",
          "<b>Werd</b><br><i>public_transportation</i><br>Switzerland <br><br>Rating: No rating available<br>Nb ratings: No ratings available<br><br><i>Walking time: 7 mins</i> <br><br>",
          "<b>Bezirksgebäude</b><br><i>public_transportation</i><br>Switzerland <br><br>Rating: No rating available<br>Nb ratings: No ratings available<br><br><i>Walking time: 9 mins</i> <br><br>",
          "<b>Kernstrasse</b><br><i>public_transportation</i><br>Switzerland <br><br>Rating: 1<br>Nb ratings: 1<br><br><i>Walking time: 10 mins</i> <br><br>",
          "<b>Manesseplatz</b><br><i>public_transportation</i><br>Switzerland <br><br>Rating: No rating available<br>Nb ratings: No ratings available<br><br><i>Walking time: 10 mins</i> <br><br>",
          "<b>Goldbrunnenplatz</b><br><i>public_transportation</i><br>Switzerland <br><br>Rating: No rating available<br>Nb ratings: No ratings available<br><br><i>Walking time: 10 mins</i> <br><br>",
          "<b>Lochergut</b><br><i>public_transportation</i><br>Switzerland <br><br>Rating: No rating available<br>Nb ratings: No ratings available<br><br><i>Walking time: 10 mins</i> <br><br>",
          "<b>Schmiede Wiedikon</b><br><i>public_transportation</i><br>Switzerland <br><br>Rating: No rating available<br>Nb ratings: No ratings available<br><br><i>Walking time: 3 mins</i> <br><br>",
          "<b>Bahnhof Wiedikon</b><br><i>public_transportation</i><br>Switzerland <br><br>Rating: 5<br>Nb ratings: 1<br><br><i>Walking time: 3 mins</i> <br><br>",
          "<b>Bahnhof Wiedikon</b><br><i>public_transportation</i><br>Switzerland <br><br>Rating: 4<br>Nb ratings: 1<br><br><i>Walking time: 3 mins</i> <br><br>",
          "<b>Zürich Wiedikon</b><br><i>public_transportation</i><br>Switzerland <br><br>Rating: 4.3<br>Nb ratings: 64<br><br><i>Walking time: 4 mins</i> <br><br>",
          "<b>Bahnhof Wiedikon</b><br><i>public_transportation</i><br>Switzerland <br><br>Rating: 3<br>Nb ratings: 1<br><br><i>Walking time: 4 mins</i> <br><br>",
          "<b>Bahnhof Wiedikon</b><br><i>public_transportation</i><br>Switzerland <br><br>Rating: 4.3<br>Nb ratings: 16<br><br><i>Walking time: 3 mins</i> <br><br>",
          "<b>Bahnhof Wiedikon</b><br><i>public_transportation</i><br>Switzerland <br><br>Rating: 3.5<br>Nb ratings: 4<br><br><i>Walking time: 5 mins</i> <br><br>",
          "<b>Bahnhof Wiedikon</b><br><i>public_transportation</i><br>Switzerland <br><br>Rating: 4.5<br>Nb ratings: 2<br><br><i>Walking time: 3 mins</i> <br><br>",
          "<b>Schmiede Wiedikon</b><br><i>public_transportation</i><br>Switzerland <br><br>Rating: 4.3<br>Nb ratings: 26<br><br><i>Walking time: 3 mins</i> <br><br>",
          "<b>Bahnhof Wiedikon</b><br><i>public_transportation</i><br>Switzerland <br><br>Rating: 4<br>Nb ratings: 6<br><br><i>Walking time: 4 mins</i> <br><br>",
          "<b>Bahnhof Wiedikon</b><br><i>public_transportation</i><br>Switzerland <br><br>Rating: No rating available<br>Nb ratings: No ratings available<br><br><i>Walking time: 4 mins</i> <br><br>",
          "<b>Schmiede Wiedikon</b><br><i>public_transportation</i><br>Switzerland <br><br>Rating: No rating available<br>Nb ratings: No ratings available<br><br><i>Walking time: 5 mins</i> <br><br>",
          "<b>Depot 4 Elisabethenstr 0</b><br><i>public_transportation</i><br>Switzerland <br><br>Rating: No rating available<br>Nb ratings: No ratings available<br><br><i>Walking time: 7 mins</i> <br><br>",
          "<b>Hertersteg</b><br><i>public_transportation</i><br>Switzerland <br><br>Rating: 3<br>Nb ratings: 2<br><br><i>Walking time: 6 mins</i> <br><br>",
          "<b>Hertersteg</b><br><i>public_transportation</i><br>Switzerland <br><br>Rating: No rating available<br>Nb ratings: No ratings available<br><br><i>Walking time: 6 mins</i> <br><br>",
          "<b>Zürich,Kalkbreite/Bhf.Wiedikon</b><br><i>public_transportation</i><br>Switzerland <br><br>Rating: 3.5<br>Nb ratings: 2<br><br><i>Walking time: 9 mins</i> <br><br>",
          "<b>Zürich,Kalkbreite/Bhf.Wiedikon</b><br><i>public_transportation</i><br>Switzerland <br><br>Rating: 4.5<br>Nb ratings: 2<br><br><i>Walking time: 9 mins</i> <br><br>",
          "<b>Zwinglihaus</b><br><i>public_transportation</i><br>Switzerland <br><br>Rating: 3<br>Nb ratings: 1<br><br><i>Walking time: 8 mins</i> <br><br>",
          "<b>Werd</b><br><i>public_transportation</i><br>Zürich <br><br>Rating: 4.7<br>Nb ratings: 3<br><br><i>Walking time: 7 mins</i> <br><br>",
          "<b>Saint Georges Hotel</b><br><i>gym_fitness</i><br>Weberstrasse 11, Zürich <br><br>Rating: 4.2<br>Nb ratings: 481<br><br><i>Walking time: 9 mins</i> <br><br>",
          "<b>Synagoge Agudas Achim</b><br><i>gym_fitness</i><br>Erikastrasse 8, Zürich <br><br>Rating: 4.7<br>Nb ratings: 85<br><br><i>Walking time: 3 mins</i> <br><br>",
          "<b>living downtown GmbH</b><br><i>gym_fitness</i><br>Weststrasse 146, Zürich <br><br>Rating: 3.2<br>Nb ratings: 47<br><br><i>Walking time: 6 mins</i> <br><br>",
          "<b>Masala</b><br><i>gym_fitness</i><br>Stauffacherstrasse 27, Zürich <br><br>Rating: 4<br>Nb ratings: 546<br><br><i>Walking time: 10 mins</i> <br><br>",
          "<b>Medbase Zurich Wiedikon</b><br><i>gym_fitness</i><br>Seebahnstrasse 89, Zürich <br><br>Rating: 3.2<br>Nb ratings: 198<br><br><i>Walking time: 3 mins</i> <br><br>",
          "<b>HT Health Training AG</b><br><i>gym_fitness</i><br>Seebahnstrasse 89, Zürich <br><br>Rating: 5<br>Nb ratings: 1<br><br><i>Walking time: 3 mins</i> <br><br>",
          "<b>Ludwig Pillhofer</b><br><i>gym_fitness</i><br>Zentralstrasse 50, Zürich <br><br>Rating: No rating available<br>Nb ratings: No ratings available<br><br><i>Walking time: 4 mins</i> <br><br>",
          "<b>Activ Fitness Zürich Forum</b><br><i>gym_fitness</i><br>Badenerstrasse 120, Zürich <br><br>Rating: 3.5<br>Nb ratings: 163<br><br><i>Walking time: 10 mins</i> <br><br>",
          "<b>Booster Transform - Studio Forum</b><br><i>gym_fitness</i><br>Badenerstrasse 120, Zürich <br><br>Rating: 4.8<br>Nb ratings: 22<br><br><i>Walking time: 9 mins</i> <br><br>",
          "<b>Box Club Zürich</b><br><i>gym_fitness</i><br>Zentralstrasse 105, Zürich <br><br>Rating: 3.9<br>Nb ratings: 27<br><br><i>Walking time: 9 mins</i> <br><br>",
          "<b>Boxkeller Zürich, Pino Coppola</b><br><i>gym_fitness</i><br>Schwendenweg 6, Zürich <br><br>Rating: 5<br>Nb ratings: 7<br><br><i>Walking time: 7 mins</i> <br><br>",
          "<b>Raum für Yoga</b><br><i>gym_fitness</i><br>Bremgartnerstrasse 18, Zürich <br><br>Rating: 5<br>Nb ratings: 7<br><br><i>Walking time: 4 mins</i> <br><br>",
          "<b>Bikram Yoga Zurich</b><br><i>gym_fitness</i><br>Grüngasse 21, Zürich <br><br>Rating: 4.6<br>Nb ratings: 79<br><br><i>Walking time: 7 mins</i> <br><br>",
          "<b>Saint Georges Hotel</b><br><i>grocery_stores_supermarkets</i><br>Weberstrasse 11, Zürich <br><br>Rating: 4.2<br>Nb ratings: 481<br><br><i>Walking time: 9 mins</i> <br><br>",
          "<b>Synagoge Agudas Achim</b><br><i>grocery_stores_supermarkets</i><br>Erikastrasse 8, Zürich <br><br>Rating: 4.7<br>Nb ratings: 85<br><br><i>Walking time: 3 mins</i> <br><br>",
          "<b>living downtown GmbH</b><br><i>grocery_stores_supermarkets</i><br>Weststrasse 146, Zürich <br><br>Rating: 3.2<br>Nb ratings: 47<br><br><i>Walking time: 6 mins</i> <br><br>",
          "<b>Masala</b><br><i>grocery_stores_supermarkets</i><br>Stauffacherstrasse 27, Zürich <br><br>Rating: 4<br>Nb ratings: 546<br><br><i>Walking time: 10 mins</i> <br><br>",
          "<b>Coop Pronto Shop Zürich Wiedikon</b><br><i>grocery_stores_supermarkets</i><br>Birmensdorferstrasse 55, Zürich <br><br>Rating: 4.2<br>Nb ratings: 140<br><br><i>Walking time: 5 mins</i> <br><br>",
          "<b>Migros Supermarket Zürich Schmiede Wiedikon</b><br><i>grocery_stores_supermarkets</i><br>Birmensdorferstrasse 140, Zürich <br><br>Rating: 4.2<br>Nb ratings: 756<br><br><i>Walking time: 3 mins</i> <br><br>",
          "<b>Koscher City - Kosher Supermarket</b><br><i>grocery_stores_supermarkets</i><br>Weststrasse 115, Zürich <br><br>Rating: 4.6<br>Nb ratings: 216<br><br><i>Walking time: 3 mins</i> <br><br>",
          "<b>Coop Pronto Shop Zürich Badenerstrasse 120</b><br><i>grocery_stores_supermarkets</i><br>Badenerstrasse 120, Zürich <br><br>Rating: 3.6<br>Nb ratings: 54<br><br><i>Walking time: 9 mins</i> <br><br>",
          "<b>Denner Discount</b><br><i>grocery_stores_supermarkets</i><br>Werdstrasse 36, Zürich <br><br>Rating: 4.2<br>Nb ratings: 299<br><br><i>Walking time: 10 mins</i> <br><br>",
          "<b>Lian Hua Wiedikon GmbH</b><br><i>grocery_stores_supermarkets</i><br>Birmensdorferstrasse 94, Zürich <br><br>Rating: 4.3<br>Nb ratings: 521<br><br><i>Walking time: 1 min</i> <br><br>",
          "<b>Coop Supermarkt Zürich Wiedikon</b><br><i>grocery_stores_supermarkets</i><br>Birmensdorferstrasse 200, Zürich <br><br>Rating: 4.3<br>Nb ratings: 760<br><br><i>Walking time: 7 mins</i> <br><br>",
          "<b>ALIMA Supermarkt Wiedikon</b><br><i>grocery_stores_supermarkets</i><br>Malzstrasse 2, Zürich <br><br>Rating: 4.1<br>Nb ratings: 154<br><br><i>Walking time: 10 mins</i> <br><br>",
          "<b>bp</b><br><i>gas_ev_charging</i><br>Seebahnstrasse 110, Zürich <br><br>Rating: 3.6<br>Nb ratings: 215<br><br><i>Walking time: 6 mins</i> <br><br>",
          "<b>Saint Georges Hotel</b><br><i>gas_ev_charging</i><br>Weberstrasse 11, Zürich <br><br>Rating: 4.2<br>Nb ratings: 481<br><br><i>Walking time: 9 mins</i> <br><br>",
          "<b>Synagoge Agudas Achim</b><br><i>gas_ev_charging</i><br>Erikastrasse 8, Zürich <br><br>Rating: 4.7<br>Nb ratings: 85<br><br><i>Walking time: 3 mins</i> <br><br>",
          "<b>living downtown GmbH</b><br><i>gas_ev_charging</i><br>Weststrasse 146, Zürich <br><br>Rating: 3.2<br>Nb ratings: 47<br><br><i>Walking time: 6 mins</i> <br><br>",
          "<b>Masala</b><br><i>gas_ev_charging</i><br>Stauffacherstrasse 27, Zürich <br><br>Rating: 4<br>Nb ratings: 546<br><br><i>Walking time: 10 mins</i> <br><br>",
          "<b>Schulhaus Aegerten</b><br><i>schools</i><br>Aegertenstrasse 29, Zürich <br><br>Rating: 4.4<br>Nb ratings: 7<br><br><i>Walking time: 3 mins</i> <br><br>",
          "<b>Mascha Bisping</b><br><i>schools</i><br>Gotthelfstrasse 37, Zürich <br><br>Rating: No rating available<br>Nb ratings: No ratings available<br><br><i>Walking time: 4 mins</i> <br><br>",
          "<b>Bibi Bachtadze Group AG</b><br><i>schools</i><br>Hallwylstrasse 72, Zürich <br><br>Rating: 4<br>Nb ratings: 2<br><br><i>Walking time: 8 mins</i> <br><br>",
          "<b>Schweizerische Textilfachschule STF</b><br><i>schools</i><br>Hallwylstrasse 71, Zürich <br><br>Rating: 3.4<br>Nb ratings: 19<br><br><i>Walking time: 8 mins</i> <br><br>"
         ],
         "type": "scattermapbox"
        },
        {
         "hoverinfo": "text",
         "lat": [
          47.3706426
         ],
         "lon": [
          8.521751799999999
         ],
         "marker": {
          "color": "black",
          "opacity": 1,
          "size": 20
         },
         "mode": "markers",
         "showlegend": false,
         "text": "8003 Zürich, Birmensdorferstrasse 108",
         "type": "scattermapbox"
        }
       ],
       "layout": {
        "height": 800,
        "mapbox": {
         "center": {
          "lat": 47.3706426,
          "lon": 8.521751799999999
         },
         "style": "open-street-map",
         "zoom": 14
        },
        "margin": {
         "b": 0,
         "l": 0,
         "r": 0,
         "t": 0
        },
        "showlegend": false,
        "template": {
         "data": {
          "bar": [
           {
            "error_x": {
             "color": "#2a3f5f"
            },
            "error_y": {
             "color": "#2a3f5f"
            },
            "marker": {
             "line": {
              "color": "#E5ECF6",
              "width": 0.5
             },
             "pattern": {
              "fillmode": "overlay",
              "size": 10,
              "solidity": 0.2
             }
            },
            "type": "bar"
           }
          ],
          "barpolar": [
           {
            "marker": {
             "line": {
              "color": "#E5ECF6",
              "width": 0.5
             },
             "pattern": {
              "fillmode": "overlay",
              "size": 10,
              "solidity": 0.2
             }
            },
            "type": "barpolar"
           }
          ],
          "carpet": [
           {
            "aaxis": {
             "endlinecolor": "#2a3f5f",
             "gridcolor": "white",
             "linecolor": "white",
             "minorgridcolor": "white",
             "startlinecolor": "#2a3f5f"
            },
            "baxis": {
             "endlinecolor": "#2a3f5f",
             "gridcolor": "white",
             "linecolor": "white",
             "minorgridcolor": "white",
             "startlinecolor": "#2a3f5f"
            },
            "type": "carpet"
           }
          ],
          "choropleth": [
           {
            "colorbar": {
             "outlinewidth": 0,
             "ticks": ""
            },
            "type": "choropleth"
           }
          ],
          "contour": [
           {
            "colorbar": {
             "outlinewidth": 0,
             "ticks": ""
            },
            "colorscale": [
             [
              0,
              "#0d0887"
             ],
             [
              0.1111111111111111,
              "#46039f"
             ],
             [
              0.2222222222222222,
              "#7201a8"
             ],
             [
              0.3333333333333333,
              "#9c179e"
             ],
             [
              0.4444444444444444,
              "#bd3786"
             ],
             [
              0.5555555555555556,
              "#d8576b"
             ],
             [
              0.6666666666666666,
              "#ed7953"
             ],
             [
              0.7777777777777778,
              "#fb9f3a"
             ],
             [
              0.8888888888888888,
              "#fdca26"
             ],
             [
              1,
              "#f0f921"
             ]
            ],
            "type": "contour"
           }
          ],
          "contourcarpet": [
           {
            "colorbar": {
             "outlinewidth": 0,
             "ticks": ""
            },
            "type": "contourcarpet"
           }
          ],
          "heatmap": [
           {
            "colorbar": {
             "outlinewidth": 0,
             "ticks": ""
            },
            "colorscale": [
             [
              0,
              "#0d0887"
             ],
             [
              0.1111111111111111,
              "#46039f"
             ],
             [
              0.2222222222222222,
              "#7201a8"
             ],
             [
              0.3333333333333333,
              "#9c179e"
             ],
             [
              0.4444444444444444,
              "#bd3786"
             ],
             [
              0.5555555555555556,
              "#d8576b"
             ],
             [
              0.6666666666666666,
              "#ed7953"
             ],
             [
              0.7777777777777778,
              "#fb9f3a"
             ],
             [
              0.8888888888888888,
              "#fdca26"
             ],
             [
              1,
              "#f0f921"
             ]
            ],
            "type": "heatmap"
           }
          ],
          "heatmapgl": [
           {
            "colorbar": {
             "outlinewidth": 0,
             "ticks": ""
            },
            "colorscale": [
             [
              0,
              "#0d0887"
             ],
             [
              0.1111111111111111,
              "#46039f"
             ],
             [
              0.2222222222222222,
              "#7201a8"
             ],
             [
              0.3333333333333333,
              "#9c179e"
             ],
             [
              0.4444444444444444,
              "#bd3786"
             ],
             [
              0.5555555555555556,
              "#d8576b"
             ],
             [
              0.6666666666666666,
              "#ed7953"
             ],
             [
              0.7777777777777778,
              "#fb9f3a"
             ],
             [
              0.8888888888888888,
              "#fdca26"
             ],
             [
              1,
              "#f0f921"
             ]
            ],
            "type": "heatmapgl"
           }
          ],
          "histogram": [
           {
            "marker": {
             "pattern": {
              "fillmode": "overlay",
              "size": 10,
              "solidity": 0.2
             }
            },
            "type": "histogram"
           }
          ],
          "histogram2d": [
           {
            "colorbar": {
             "outlinewidth": 0,
             "ticks": ""
            },
            "colorscale": [
             [
              0,
              "#0d0887"
             ],
             [
              0.1111111111111111,
              "#46039f"
             ],
             [
              0.2222222222222222,
              "#7201a8"
             ],
             [
              0.3333333333333333,
              "#9c179e"
             ],
             [
              0.4444444444444444,
              "#bd3786"
             ],
             [
              0.5555555555555556,
              "#d8576b"
             ],
             [
              0.6666666666666666,
              "#ed7953"
             ],
             [
              0.7777777777777778,
              "#fb9f3a"
             ],
             [
              0.8888888888888888,
              "#fdca26"
             ],
             [
              1,
              "#f0f921"
             ]
            ],
            "type": "histogram2d"
           }
          ],
          "histogram2dcontour": [
           {
            "colorbar": {
             "outlinewidth": 0,
             "ticks": ""
            },
            "colorscale": [
             [
              0,
              "#0d0887"
             ],
             [
              0.1111111111111111,
              "#46039f"
             ],
             [
              0.2222222222222222,
              "#7201a8"
             ],
             [
              0.3333333333333333,
              "#9c179e"
             ],
             [
              0.4444444444444444,
              "#bd3786"
             ],
             [
              0.5555555555555556,
              "#d8576b"
             ],
             [
              0.6666666666666666,
              "#ed7953"
             ],
             [
              0.7777777777777778,
              "#fb9f3a"
             ],
             [
              0.8888888888888888,
              "#fdca26"
             ],
             [
              1,
              "#f0f921"
             ]
            ],
            "type": "histogram2dcontour"
           }
          ],
          "mesh3d": [
           {
            "colorbar": {
             "outlinewidth": 0,
             "ticks": ""
            },
            "type": "mesh3d"
           }
          ],
          "parcoords": [
           {
            "line": {
             "colorbar": {
              "outlinewidth": 0,
              "ticks": ""
             }
            },
            "type": "parcoords"
           }
          ],
          "pie": [
           {
            "automargin": true,
            "type": "pie"
           }
          ],
          "scatter": [
           {
            "fillpattern": {
             "fillmode": "overlay",
             "size": 10,
             "solidity": 0.2
            },
            "type": "scatter"
           }
          ],
          "scatter3d": [
           {
            "line": {
             "colorbar": {
              "outlinewidth": 0,
              "ticks": ""
             }
            },
            "marker": {
             "colorbar": {
              "outlinewidth": 0,
              "ticks": ""
             }
            },
            "type": "scatter3d"
           }
          ],
          "scattercarpet": [
           {
            "marker": {
             "colorbar": {
              "outlinewidth": 0,
              "ticks": ""
             }
            },
            "type": "scattercarpet"
           }
          ],
          "scattergeo": [
           {
            "marker": {
             "colorbar": {
              "outlinewidth": 0,
              "ticks": ""
             }
            },
            "type": "scattergeo"
           }
          ],
          "scattergl": [
           {
            "marker": {
             "colorbar": {
              "outlinewidth": 0,
              "ticks": ""
             }
            },
            "type": "scattergl"
           }
          ],
          "scattermapbox": [
           {
            "marker": {
             "colorbar": {
              "outlinewidth": 0,
              "ticks": ""
             }
            },
            "type": "scattermapbox"
           }
          ],
          "scatterpolar": [
           {
            "marker": {
             "colorbar": {
              "outlinewidth": 0,
              "ticks": ""
             }
            },
            "type": "scatterpolar"
           }
          ],
          "scatterpolargl": [
           {
            "marker": {
             "colorbar": {
              "outlinewidth": 0,
              "ticks": ""
             }
            },
            "type": "scatterpolargl"
           }
          ],
          "scatterternary": [
           {
            "marker": {
             "colorbar": {
              "outlinewidth": 0,
              "ticks": ""
             }
            },
            "type": "scatterternary"
           }
          ],
          "surface": [
           {
            "colorbar": {
             "outlinewidth": 0,
             "ticks": ""
            },
            "colorscale": [
             [
              0,
              "#0d0887"
             ],
             [
              0.1111111111111111,
              "#46039f"
             ],
             [
              0.2222222222222222,
              "#7201a8"
             ],
             [
              0.3333333333333333,
              "#9c179e"
             ],
             [
              0.4444444444444444,
              "#bd3786"
             ],
             [
              0.5555555555555556,
              "#d8576b"
             ],
             [
              0.6666666666666666,
              "#ed7953"
             ],
             [
              0.7777777777777778,
              "#fb9f3a"
             ],
             [
              0.8888888888888888,
              "#fdca26"
             ],
             [
              1,
              "#f0f921"
             ]
            ],
            "type": "surface"
           }
          ],
          "table": [
           {
            "cells": {
             "fill": {
              "color": "#EBF0F8"
             },
             "line": {
              "color": "white"
             }
            },
            "header": {
             "fill": {
              "color": "#C8D4E3"
             },
             "line": {
              "color": "white"
             }
            },
            "type": "table"
           }
          ]
         },
         "layout": {
          "annotationdefaults": {
           "arrowcolor": "#2a3f5f",
           "arrowhead": 0,
           "arrowwidth": 1
          },
          "autotypenumbers": "strict",
          "coloraxis": {
           "colorbar": {
            "outlinewidth": 0,
            "ticks": ""
           }
          },
          "colorscale": {
           "diverging": [
            [
             0,
             "#8e0152"
            ],
            [
             0.1,
             "#c51b7d"
            ],
            [
             0.2,
             "#de77ae"
            ],
            [
             0.3,
             "#f1b6da"
            ],
            [
             0.4,
             "#fde0ef"
            ],
            [
             0.5,
             "#f7f7f7"
            ],
            [
             0.6,
             "#e6f5d0"
            ],
            [
             0.7,
             "#b8e186"
            ],
            [
             0.8,
             "#7fbc41"
            ],
            [
             0.9,
             "#4d9221"
            ],
            [
             1,
             "#276419"
            ]
           ],
           "sequential": [
            [
             0,
             "#0d0887"
            ],
            [
             0.1111111111111111,
             "#46039f"
            ],
            [
             0.2222222222222222,
             "#7201a8"
            ],
            [
             0.3333333333333333,
             "#9c179e"
            ],
            [
             0.4444444444444444,
             "#bd3786"
            ],
            [
             0.5555555555555556,
             "#d8576b"
            ],
            [
             0.6666666666666666,
             "#ed7953"
            ],
            [
             0.7777777777777778,
             "#fb9f3a"
            ],
            [
             0.8888888888888888,
             "#fdca26"
            ],
            [
             1,
             "#f0f921"
            ]
           ],
           "sequentialminus": [
            [
             0,
             "#0d0887"
            ],
            [
             0.1111111111111111,
             "#46039f"
            ],
            [
             0.2222222222222222,
             "#7201a8"
            ],
            [
             0.3333333333333333,
             "#9c179e"
            ],
            [
             0.4444444444444444,
             "#bd3786"
            ],
            [
             0.5555555555555556,
             "#d8576b"
            ],
            [
             0.6666666666666666,
             "#ed7953"
            ],
            [
             0.7777777777777778,
             "#fb9f3a"
            ],
            [
             0.8888888888888888,
             "#fdca26"
            ],
            [
             1,
             "#f0f921"
            ]
           ]
          },
          "colorway": [
           "#636efa",
           "#EF553B",
           "#00cc96",
           "#ab63fa",
           "#FFA15A",
           "#19d3f3",
           "#FF6692",
           "#B6E880",
           "#FF97FF",
           "#FECB52"
          ],
          "font": {
           "color": "#2a3f5f"
          },
          "geo": {
           "bgcolor": "white",
           "lakecolor": "white",
           "landcolor": "#E5ECF6",
           "showlakes": true,
           "showland": true,
           "subunitcolor": "white"
          },
          "hoverlabel": {
           "align": "left"
          },
          "hovermode": "closest",
          "mapbox": {
           "style": "light"
          },
          "paper_bgcolor": "white",
          "plot_bgcolor": "#E5ECF6",
          "polar": {
           "angularaxis": {
            "gridcolor": "white",
            "linecolor": "white",
            "ticks": ""
           },
           "bgcolor": "#E5ECF6",
           "radialaxis": {
            "gridcolor": "white",
            "linecolor": "white",
            "ticks": ""
           }
          },
          "scene": {
           "xaxis": {
            "backgroundcolor": "#E5ECF6",
            "gridcolor": "white",
            "gridwidth": 2,
            "linecolor": "white",
            "showbackground": true,
            "ticks": "",
            "zerolinecolor": "white"
           },
           "yaxis": {
            "backgroundcolor": "#E5ECF6",
            "gridcolor": "white",
            "gridwidth": 2,
            "linecolor": "white",
            "showbackground": true,
            "ticks": "",
            "zerolinecolor": "white"
           },
           "zaxis": {
            "backgroundcolor": "#E5ECF6",
            "gridcolor": "white",
            "gridwidth": 2,
            "linecolor": "white",
            "showbackground": true,
            "ticks": "",
            "zerolinecolor": "white"
           }
          },
          "shapedefaults": {
           "line": {
            "color": "#2a3f5f"
           }
          },
          "ternary": {
           "aaxis": {
            "gridcolor": "white",
            "linecolor": "white",
            "ticks": ""
           },
           "baxis": {
            "gridcolor": "white",
            "linecolor": "white",
            "ticks": ""
           },
           "bgcolor": "#E5ECF6",
           "caxis": {
            "gridcolor": "white",
            "linecolor": "white",
            "ticks": ""
           }
          },
          "title": {
           "x": 0.05
          },
          "xaxis": {
           "automargin": true,
           "gridcolor": "white",
           "linecolor": "white",
           "ticks": "",
           "title": {
            "standoff": 15
           },
           "zerolinecolor": "white",
           "zerolinewidth": 2
          },
          "yaxis": {
           "automargin": true,
           "gridcolor": "white",
           "linecolor": "white",
           "ticks": "",
           "title": {
            "standoff": 15
           },
           "zerolinecolor": "white",
           "zerolinewidth": 2
          }
         }
        },
        "width": 800
       }
      }
     },
     "metadata": {},
     "output_type": "display_data"
    }
   ],
   "source": [
    "FILE = load_data(FILES[6])\n",
    "base_map = create_base_map(FILE, 800, 800, 14)\n",
    "add_population(base_map, FILE)\n",
    "add_isochrone(base_map, FILE)\n",
    "add_places(base_map, FILE)\n",
    "add_original_address(base_map, FILE)"
   ]
  },
  {
   "cell_type": "markdown",
   "metadata": {},
   "source": [
    "# END OF NOTEBOOK"
   ]
  }
 ],
 "metadata": {
  "kernelspec": {
   "display_name": "COMPARIS",
   "language": "python",
   "name": "python3"
  },
  "language_info": {
   "codemirror_mode": {
    "name": "ipython",
    "version": 3
   },
   "file_extension": ".py",
   "mimetype": "text/x-python",
   "name": "python",
   "nbconvert_exporter": "python",
   "pygments_lexer": "ipython3",
   "version": "3.9.19"
  }
 },
 "nbformat": 4,
 "nbformat_minor": 2
}
